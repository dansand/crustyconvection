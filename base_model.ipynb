{
 "cells": [
  {
   "cell_type": "markdown",
   "metadata": {
    "collapsed": true
   },
   "source": [
    "Crameri-Tackley model\n",
    "=======\n",
    "\n",
    "From Cramer and Tackley 2015\n",
    "--------\n",
    "\n"
   ]
  },
  {
   "cell_type": "markdown",
   "metadata": {
    "collapsed": true
   },
   "source": [
    "\n",
    "\n",
    "\n",
    "References\n",
    "====\n",
    "\n",
    "\n"
   ]
  },
  {
   "cell_type": "markdown",
   "metadata": {},
   "source": [
    "Load python functions needed for underworld. Some additional python functions from os, math and numpy used later on."
   ]
  },
  {
   "cell_type": "code",
   "execution_count": 1,
   "metadata": {
    "collapsed": false
   },
   "outputs": [],
   "source": [
    "import networkx as nx\n",
    "import underworld as uw\n",
    "import math\n",
    "from underworld import function as fn\n",
    "import glucifer\n",
    "#import matplotlib.pyplot as pyplot\n",
    "import time\n",
    "import numpy as np\n",
    "import os\n",
    "import sys\n",
    "import natsort\n",
    "import shutil\n",
    "from easydict import EasyDict as edict\n",
    "import collections\n",
    "\n",
    "from mpi4py import MPI\n",
    "comm = MPI.COMM_WORLD\n",
    "rank = comm.Get_rank()"
   ]
  },
  {
   "cell_type": "code",
   "execution_count": 2,
   "metadata": {
    "collapsed": false
   },
   "outputs": [
    {
     "name": "stdout",
     "output_type": "stream",
     "text": [
      "/Users/dansandiford/Documents/programming/earthsci_code/python/crustyconvection\r\n",
      "analysis.ipynb     free_surface.ipynb \u001b[1m\u001b[34mspeedtest\u001b[m\u001b[m          test.py\r\n",
      "base_model.ipynb   \u001b[1m\u001b[34mmesh_test\u001b[m\u001b[m          \u001b[1m\u001b[34mstickyairtests\u001b[m\u001b[m\r\n",
      "base_model.py      raijin_single.pbs  \u001b[1m\u001b[34mtemp_ics\u001b[m\u001b[m\r\n",
      "\u001b[1m\u001b[34mcheckpoint\u001b[m\u001b[m         \u001b[1m\u001b[34mresults\u001b[m\u001b[m            test.gldb\r\n"
     ]
    }
   ],
   "source": [
    "#Display working directory info if in nb mode\n",
    "if (len(sys.argv) > 1):\n",
    "    if (sys.argv[1] == '-f'):\n",
    "        !pwd && ls\n",
    "        "
   ]
  },
  {
   "cell_type": "code",
   "execution_count": 3,
   "metadata": {
    "collapsed": false
   },
   "outputs": [],
   "source": [
    "############\n",
    "#Model name.  \n",
    "############\n",
    "Model = \"T\"\n",
    "ModNum = 11\n",
    "\n",
    "if len(sys.argv) == 1:\n",
    "    ModIt = \"Base\"\n",
    "elif sys.argv[1] == '-f':\n",
    "    ModIt = \"Base\"\n",
    "else:\n",
    "    ModIt = str(sys.argv[1])"
   ]
  },
  {
   "cell_type": "markdown",
   "metadata": {},
   "source": [
    "Set physical constants and parameters, including the Rayleigh number (*RA*). "
   ]
  },
  {
   "cell_type": "code",
   "execution_count": 4,
   "metadata": {
    "collapsed": true
   },
   "outputs": [],
   "source": [
    "###########\n",
    "#Standard output directory setup\n",
    "###########\n",
    "\n",
    "\n",
    "outputPath = \"results\" + \"/\" +  str(Model) + \"/\" + str(ModNum) + \"/\" + str(ModIt) + \"/\"\n",
    "imagePath = outputPath + 'images/'\n",
    "filePath = outputPath + 'files/'\n",
    "checkpointPath = outputPath + 'checkpoint/'\n",
    "dbPath = outputPath + 'gldbs/'\n",
    "outputFile = 'results_model' + Model + '_' + str(ModNum) + '_' + str(ModIt) + '.dat'\n",
    "\n",
    "if uw.rank()==0:\n",
    "    # make directories if they don't exist\n",
    "    if not os.path.isdir(outputPath):\n",
    "        os.makedirs(outputPath)\n",
    "    if not os.path.isdir(checkpointPath):\n",
    "        os.makedirs(checkpointPath)\n",
    "    if not os.path.isdir(imagePath):\n",
    "        os.makedirs(imagePath)\n",
    "    if not os.path.isdir(dbPath):\n",
    "        os.makedirs(dbPath)\n",
    "    if not os.path.isdir(filePath):\n",
    "        os.makedirs(filePath)\n",
    "        \n",
    "comm.Barrier() #Barrier here so not procs run the check in the next cell too early "
   ]
  },
  {
   "cell_type": "code",
   "execution_count": 5,
   "metadata": {
    "collapsed": false
   },
   "outputs": [
    {
     "name": "stdout",
     "output_type": "stream",
     "text": [
      "results/T/11/Base/checkpoint/ is empty\n"
     ]
    }
   ],
   "source": [
    "###########\n",
    "#Check if starting from checkpoint\n",
    "###########\n",
    "\n",
    "checkdirs = []\n",
    "for dirpath, dirnames, files in os.walk(checkpointPath):\n",
    "    if files:\n",
    "        print dirpath, 'has files'\n",
    "        checkpointLoad = True\n",
    "        checkdirs.append(dirpath)\n",
    "    if not files:\n",
    "        print dirpath, 'is empty'\n",
    "        checkpointLoad = False\n",
    "        \n"
   ]
  },
  {
   "cell_type": "code",
   "execution_count": 6,
   "metadata": {
    "collapsed": false
   },
   "outputs": [],
   "source": [
    "###########\n",
    "#Physical parameters\n",
    "###########\n",
    "\n",
    "#The Slippy rheology class will contain dimensional and nondimensional values, linked in a self-consistent way by scaling paramters\n",
    "#lowermantle.nondimensional['cohesion']\n",
    "#Where lowermantle is a material class (generated within a rheology class); and non dimensional is a dictionary\n",
    "\n",
    "#UW naming conventions: \n",
    "#module_name, package_name, ClassName, function_name, method_name, \n",
    "#ExceptionName, propertyName GLOBAL_CONSTANT_NAME, globalVarName, instanceVarName, functionParameterName, localVarName\n",
    "###########\n",
    "\n",
    "\n",
    "#dimensional parameter dictionary\n",
    "dp = edict({'LS':2890.*1e3,\n",
    "           'rho':3300,\n",
    "           'g':9.81, \n",
    "           'eta0':1e23,\n",
    "           'k':10**-6,\n",
    "           'a':1.25*10**-5, \n",
    "           'TS':273.,\n",
    "           'TB':2773.,\n",
    "           'deltaT':2500, \n",
    "           'cohesion':1e7, \n",
    "           'E':240000., \n",
    "           'R':8.314,\n",
    "           'V':6.34*(10**-7) })\n",
    "\n",
    "#non-dimensional parameter dictionary\n",
    "ndp = edict({'RA':1e6, \n",
    "              'LS':1.,\n",
    "              'eta0':1.,\n",
    "              'k':1.,\n",
    "              'E':11.55,\n",
    "              'V':3.0,\n",
    "              'H':20.,\n",
    "              'TR':(1600./2500.),\n",
    "              'TS':(dp.TS/2500.),\n",
    "              'RD':1.,\n",
    "              'cohesion':1577.,\n",
    "              'cohesion_reduce':5.,\n",
    "              'fc':0.1})\n",
    "\n",
    "\n",
    "#A few parameters defining lengths scales, affects materal transistions etc.\n",
    "MANTLETOCRUST = (18.*1e3)/dp.LS #Crust depth\n",
    "CRUSTTOMANTLE = (300.*1e3)/dp.LS \n",
    "LITHTOMANTLE = (660.*1e3)/dp.LS \n",
    "MANTLETOLITH = (200.*1e3)/dp.LS \n",
    "TOPOHEIGHT = (15.*1e3)/dp.LS  #rock-air topography limits\n",
    "AVGTEMP = 0.53 #Used to define lithosphere\n",
    "\n",
    "\n",
    "#Compositional Rayliegh number of rock-air\n",
    "ETAREF = dp.rho*dp.g*dp.a*dp.deltaT*((dp.LS)**3)/(ndp.RA*dp.k) #equivalent dimensional reference viscosity\n",
    "RC = (3300.*dp.g*(dp.LS)**3)/(ETAREF *dp.k) #Composisitional Rayleigh number for rock-air buoyancy force\n",
    "COMP_RA_FACT = RC/ndp.RA\n",
    "\n",
    "\n",
    "#Additional dimensionless paramters\n",
    "AIRVISCOSITY = 0.001\n",
    "AIRDENSITY = ndp.RA*COMP_RA_FACT\n",
    "\n",
    "\n",
    "#######################To be replaced soon\n",
    "#Physical parameters that can be defined with STDIN,\n",
    "#The == '-f': check is a a hack check to see cover the notebook case\n",
    "if len(sys.argv) == 1:\n",
    "    ndp.cohesion = ndp.cohesion\n",
    "elif sys.argv[1] == '-f':\n",
    "    ndp.cohesion = ndp.cohesion\n",
    "else:\n",
    "    ndp.cohesion = float(sys.argv[1])*newvisc"
   ]
  },
  {
   "cell_type": "code",
   "execution_count": 7,
   "metadata": {
    "collapsed": false
   },
   "outputs": [],
   "source": [
    "###########\n",
    "#Model setup parameters\n",
    "###########\n",
    "\n",
    "stickyAir = False\n",
    "\n",
    "MINX = -1.\n",
    "MINY = 0.\n",
    "MAXX = 1.0\n",
    "\n",
    "#MAXY = 1.035\n",
    "MAXY = 1.\n",
    "\n",
    "if MINX == 0.:\n",
    "    squareModel = True\n",
    "else: \n",
    "    squareModel = False\n",
    "    \n",
    "    \n",
    "dim = 2          # number of spatial dimensions\n",
    "\n",
    "\n",
    "#MESH STUFF\n",
    "\n",
    "RES = 128\n",
    "\n",
    "if MINX == 0.:\n",
    "    Xres = RES\n",
    "else:\n",
    "    Xres = 2*RES\n",
    "\n",
    "if stickyAir:\n",
    "    Yres = RES + 8\n",
    "    MAXY = float(Yres)/RES\n",
    "    \n",
    "else:\n",
    "    Yres = RES\n",
    "    MAXY = 1.\n",
    "\n",
    "\n",
    "periodic = [True,False]\n",
    "elementType = \"Q1/dQ0\"\n",
    "#elementType =\"Q2/DPC1\"\n",
    "\n",
    "refineMesh = True\n",
    "\n",
    "s = 1.2 #Mesh refinement parameter\n",
    "ALPHA = 11. #Mesh refinement parameter\n",
    "\n",
    "#System/Solver stuff\n",
    "\n",
    "PIC_integration=False"
   ]
  },
  {
   "cell_type": "code",
   "execution_count": 8,
   "metadata": {
    "collapsed": true
   },
   "outputs": [],
   "source": [
    "###########\n",
    "#Model Runtime parameters\n",
    "###########\n",
    "\n",
    "swarm_update = 25\n",
    "swarm_repop = 25\n",
    "files_output = 1e6\n",
    "gldbs_output = 25\n",
    "images_output = 1e6\n",
    "checkpoint_every = 25\n",
    "metric_output = 25\n",
    "sticky_air_temp = 10\n",
    "\n",
    "comm.Barrier() #Barrier here so not procs run the check in the next cell too early \n",
    "\n",
    "assert metric_output <= checkpoint_every, 'Checkpointing should run less or as ofen as metric output'\n",
    "assert (metric_output >= swarm_update), 'Swarm update is needed before checkpointing'\n",
    "assert metric_output >= sticky_air_temp, 'Sticky air temp should be updated more frequently that metrics'\n"
   ]
  },
  {
   "cell_type": "code",
   "execution_count": 9,
   "metadata": {
    "collapsed": false
   },
   "outputs": [],
   "source": [
    "###########\n",
    "#Model output parameters\n",
    "###########\n",
    "\n",
    "#Do you want to write hdf5 files - Temp, RMS, viscosity, stress?\n",
    "writeFiles = True\n",
    "loadTemp = True\n"
   ]
  },
  {
   "cell_type": "code",
   "execution_count": 10,
   "metadata": {
    "collapsed": false
   },
   "outputs": [],
   "source": [
    "mesh = uw.mesh.FeMesh_Cartesian( elementType = (\"Q1/dQ0\"),\n",
    "                                 elementRes  = (Xres, Yres), \n",
    "                                 minCoord    = (MINX,MINY), \n",
    "                                 maxCoord=(MAXX,MAXY), periodic=periodic)\n",
    "\n",
    "\n",
    "\n",
    "velocityField       = uw.mesh.MeshVariable( mesh=mesh,         nodeDofCount=dim )\n",
    "pressureField       = uw.mesh.MeshVariable( mesh=mesh.subMesh, nodeDofCount=1 )\n",
    "temperatureField    = uw.mesh.MeshVariable( mesh=mesh,         nodeDofCount=1 )\n",
    "temperatureDotField = uw.mesh.MeshVariable( mesh=mesh,         nodeDofCount=1 )"
   ]
  },
  {
   "cell_type": "code",
   "execution_count": 11,
   "metadata": {
    "collapsed": false
   },
   "outputs": [
    {
     "data": {
      "text/plain": [
       "(256, 128, -1.0, 1.0, 0.0, 1.0, [True, False], 'Q1/dQ0', 2)"
      ]
     },
     "execution_count": 11,
     "metadata": {},
     "output_type": "execute_result"
    }
   ],
   "source": [
    "Xres, Yres, MINX,MAXX,MINY,MAXY, periodic, elementType, dim "
   ]
  },
  {
   "cell_type": "markdown",
   "metadata": {},
   "source": [
    "##Refine mesh"
   ]
  },
  {
   "cell_type": "markdown",
   "metadata": {
    "collapsed": true
   },
   "source": [
    "if refineMesh:\n",
    "    alpha=ALPHA\n",
    "    newys = []\n",
    "    newxs = []\n",
    "    for index, coord in enumerate(linearMesh.data):\n",
    "        y0 = coord[1]\n",
    "        x0 = abs(coord[0])\n",
    "        if y0 >= 1.0:\n",
    "            newy = y0\n",
    "        else:\n",
    "            newy = (math.log(alpha*y0 + math.e) - 1)*(1/(math.log(alpha + math.e) - 1))\n",
    "        newx = (math.log((alpha/2.)*x0 + math.e) - 1)*(1/(math.log((alpha/2.) + math.e) - 1))\n",
    "        if coord[0] <= 0:\n",
    "            newx = -1.*newx\n",
    "        newys.append(newy)\n",
    "        newxs.append(newx)\n",
    "        \n",
    "    with linearMesh.deform_mesh():\n",
    "        linearMesh.data[:,1] = newys\n",
    "        linearMesh.data[:,0] = newxs"
   ]
  },
  {
   "cell_type": "markdown",
   "metadata": {
    "collapsed": false
   },
   "source": [
    "#THis one for the rectangular mesh\n",
    "\n",
    "if refineMesh:\n",
    "    alpha = ALPHA\n",
    "    newys = []\n",
    "    newxs = []\n",
    "    for index, coord in enumerate(mesh.data):\n",
    "        y0 = coord[1]\n",
    "        x0 = abs(coord[0])\n",
    "        if y0 == MAXY:\n",
    "            newy = y0\n",
    "        else:\n",
    "            ynorm = y0/MAXY\n",
    "            newy = MAXY*(math.log(alpha*ynorm + math.e) - 1)*(1/(math.log(alpha + math.e) - 1))\n",
    "        if coord[0] > 0:\n",
    "            newx = (math.e**(x0*(math.log((alpha/2.) + math.e) - 1) + 1 ) - math.e)/(alpha/2.)\n",
    "        else:\n",
    "            newx = -1.*(math.e**(x0*(math.log((alpha/2.) + math.e) - 1) + 1 ) - math.e)/(alpha/2.)\n",
    "        newys.append(newy)\n",
    "        newxs.append(newx)\n",
    "        #print y0,newy\n",
    "\n",
    "    with mesh.deform_mesh():\n",
    "            mesh.data[:,1] = newys\n",
    "            mesh.data[:,0] = newxs"
   ]
  },
  {
   "cell_type": "code",
   "execution_count": 12,
   "metadata": {
    "collapsed": false
   },
   "outputs": [],
   "source": [
    "# Get the actual sets \n",
    "#\n",
    "#  HJJJJJJH\n",
    "#  I      I\n",
    "#  I      I\n",
    "#  I      I\n",
    "#  HJJJJJJH\n",
    "#  \n",
    "#  Note that H = I & J \n",
    "\n",
    "# Note that we use operator overloading to combine sets\n",
    "# send boundary condition information to underworld\n",
    "IWalls = mesh.specialSets[\"MinI_VertexSet\"] + mesh.specialSets[\"MaxI_VertexSet\"]\n",
    "JWalls = mesh.specialSets[\"MinJ_VertexSet\"] + mesh.specialSets[\"MaxJ_VertexSet\"]\n",
    "TWalls = mesh.specialSets[\"MaxJ_VertexSet\"]\n",
    "BWalls = mesh.specialSets[\"MinJ_VertexSet\"]\n",
    "AWalls = IWalls + JWalls"
   ]
  },
  {
   "cell_type": "code",
   "execution_count": 13,
   "metadata": {
    "collapsed": false
   },
   "outputs": [
    {
     "name": "stdout",
     "output_type": "stream",
     "text": [
      "refine By:2.0\n"
     ]
    }
   ],
   "source": [
    "def coarse_fine_division(mesh, axis=\"y\", refine_by=2., relax_by =0.5):\n",
    "    if axis == \"y\":\n",
    "        thisaxis = 1\n",
    "    else:\n",
    "        thisaxis = 0\n",
    "    width = (mesh.maxCoord[thisaxis]-mesh.minCoord[thisaxis])\n",
    "    dx = (mesh.maxCoord[thisaxis]-mesh.minCoord[thisaxis])/ (mesh.elementRes[thisaxis])\n",
    "    nx = mesh.elementRes[thisaxis]\n",
    "    dxf = dx/ refine_by\n",
    "    dxc = dx/ relax_by\n",
    "    print(\"refine By:\" + str(refine_by))\n",
    "    i = 0\n",
    "    current_width = ((nx - i)  * dxf) + (i * dxc)\n",
    "    while current_width < width:\n",
    "        i += 1\n",
    "        current_width = ((nx - i)  * dxf) + (i * dxc)\n",
    "    #print current_width\n",
    "    #correct dxc so the total domain is preserved.\n",
    "    dxc = (width  - ((nx - i)  * dxf))/i\n",
    "    nxf = (nx - i) \n",
    "    nxc = i\n",
    "    nt = (nxf + nxc)\n",
    "    assert nt == nx\n",
    "    return nxf, dxf, nxc, dxc\n",
    "\n",
    "nxf, dxf, nxc, dxc = coarse_fine_division(mesh, axis=\"x\", refine_by=2., relax_by =0.5)\n",
    "\n",
    "def shishkin_centre_arrange(mesh, axis=\"y\",centre = 0.5, nxf=nxf, dxf=dxf, nxc=nxc, dxc=dxc):\n",
    "    import itertools\n",
    "    if axis == \"y\":\n",
    "        thisaxis = 1\n",
    "    else:\n",
    "        thisaxis = 0\n",
    "    print thisaxis\n",
    "    ###################\n",
    "    #Get the number of coarse elements either side of fine elements\n",
    "    ###################\n",
    "    nr = nxc\n",
    "    nl = 0\n",
    "    print((nxf*dxf - abs(mesh.minCoord[thisaxis])))\n",
    "    if ((nxf*dxf - abs(mesh.minCoord[thisaxis])) > centre):\n",
    "        print(\"left edge\")\n",
    "        pass\n",
    "    else:\n",
    "        left_length = (nl*dxc) + 0.5*(dxf*nxf) - abs(mesh.minCoord[thisaxis])\n",
    "        while (left_length <  centre):\n",
    "            nl += 1\n",
    "            left_length = (nl*dxc) + 0.5*(dxf*nxf) - abs(mesh.minCoord[thisaxis])\n",
    "            #print(left_length)\n",
    "            if nl == nxc:\n",
    "                print(\"right edge\")\n",
    "                break\n",
    "        nr = nxc - nl\n",
    "    print(nl, nr, nxf)\n",
    "    #assert nr + nl + nxf == mesh.elementRes[thisaxis]\n",
    "    ###################\n",
    "    #return dictionary of new element mappings\n",
    "    ###################\n",
    "    lcoords = [(mesh.minCoord[thisaxis] + i*dxc) for i in range(nl+1)]\n",
    "    if lcoords:\n",
    "        #print(nl, lcoords[-1]/dxc)\n",
    "        ccoords =  [lcoords[-1] + i*dxf for i in range(1, nxf+1)]\n",
    "    else:\n",
    "        ccoords =  [(mesh.minCoord[thisaxis] + i*dxf) for i in range(0, nxf)]\n",
    "    rcoords = [ccoords[-1] + i*dxc for i in range(1, nr +1)]\n",
    "    if rcoords:\n",
    "        #rcoords.append(mesh.maxCoord[0])\n",
    "        pass\n",
    "    else:\n",
    "        #ccoords.append(mesh.maxCoord[0])\n",
    "        pass\n",
    "    newcoords = lcoords+ ccoords+ rcoords\n",
    "    #assert len(newcoords) == nx + 1 \n",
    "    #origcoords = list(np.unique(mesh.data[:,thisaxis]))\n",
    "    #origcoords = np.linspace(mesh.minCoord[thisaxis], mesh.maxCoord[thisaxis], mesh.elementRes[thisaxis])\n",
    "    width = (mesh.maxCoord[thisaxis]-mesh.minCoord[thisaxis])\n",
    "    dx = (mesh.maxCoord[thisaxis]-mesh.minCoord[thisaxis])/ (mesh.elementRes[thisaxis])\n",
    "    origcoords = list(np.arange(mesh.minCoord[thisaxis], mesh.maxCoord[thisaxis], dx))\n",
    "    origcoords.append(mesh.maxCoord[thisaxis])\n",
    "    dictionary = dict(itertools.izip(origcoords, newcoords))\n",
    "    assert len([x for x, y in collections.Counter(newcoords).items() if y > 1]) == 0 #checks agains multiple coordinates\n",
    "    return dictionary\n",
    "\n",
    "\n",
    " \n",
    "def shishkin_deform(mesh, centre = 0.5, axis=\"y\", refine_by=2., relax_by =0.5):\n",
    "    if axis == \"y\":\n",
    "        thisaxis = 1\n",
    "    else:\n",
    "        thisaxis = 0\n",
    "    nxf, dxf, nxc, dxc, = coarse_fine_division(mesh,axis, refine_by=refine_by, relax_by =relax_by)\n",
    "    coorddict = shishkin_centre_arrange(mesh, nxf=nxf, dxf=dxf, nxc=nxc, dxc=dxc, axis=axis , centre=centre)\n",
    "    with mesh.deform_mesh():\n",
    "        for index, coord in enumerate(mesh.data):\n",
    "            key = mesh.data[index][thisaxis]\n",
    "            mesh.data[index][thisaxis] = coorddict[key]\n"
   ]
  },
  {
   "cell_type": "markdown",
   "metadata": {
    "collapsed": false
   },
   "source": [
    "mesh.reset()\n",
    "nxf, dxf, nxc, dxc, = coarse_fine_division(mesh,axis=\"x\", refine_by=2., relax_by =0.75)\n",
    "xcoorddict = shishkin_centre_arrange(mesh, axis=\"x\", centre=0., nxf=nxf, dxf=dxf, nxc=nxc, dxc=dxc)\n",
    "\n",
    "nxf, dxf, nxc, dxc, = coarse_fine_division(mesh,axis=\"y\", refine_by=2., relax_by =0.5)\n",
    "ycoorddict = shishkin_centre_arrange(mesh, axis=\"y\", centre=0., nxf=nxf, dxf=dxf, nxc=nxc, dxc=dxc)\n",
    "            \n",
    "\n",
    "newxs = []\n",
    "newys = []\n",
    "for index, coord in enumerate(mesh.data):\n",
    "    x0 = coord[0]\n",
    "    y0 = coord[1]\n",
    "    xkey = mesh.data[index][0]\n",
    "    ykey = mesh.data[index][1]\n",
    "    newx = xcoorddict[key]\n",
    "    newy = ycoorddict[key]\n",
    "    newxs.append(newx)\n",
    "\n",
    "with mesh.deform_mesh():\n",
    "    mesh.data[:,0] = newxs\n",
    "    mesh.data[:,0] = newxs"
   ]
  },
  {
   "cell_type": "code",
   "execution_count": 14,
   "metadata": {
    "collapsed": false
   },
   "outputs": [
    {
     "name": "stdout",
     "output_type": "stream",
     "text": [
      "refine By:2.0\n",
      "1\n",
      "0.33203125\n",
      "right edge\n",
      "(43, 0, 85)\n",
      "refine By:2.0\n",
      "0\n",
      "-0.6015625\n",
      "(77, 77, 102)\n"
     ]
    }
   ],
   "source": [
    "if refineMesh:\n",
    "    shishkin_deform(mesh, centre = 0.9, axis=\"y\", refine_by=2.0, relax_by =0.5)\n",
    "    shishkin_deform(mesh, centre = 0.0, axis=\"x\", refine_by=2.0, relax_by =0.75)"
   ]
  },
  {
   "cell_type": "code",
   "execution_count": null,
   "metadata": {
    "collapsed": false
   },
   "outputs": [],
   "source": []
  },
  {
   "cell_type": "markdown",
   "metadata": {},
   "source": [
    "#ICs and BCs"
   ]
  },
  {
   "cell_type": "code",
   "execution_count": 15,
   "metadata": {
    "collapsed": false
   },
   "outputs": [],
   "source": [
    "# Initialise data.. Note that we are also setting boundary conditions here\n",
    "velocityField.data[:] = [0.,0.]\n",
    "pressureField.data[:] = 0.\n",
    "temperatureField.data[:] = 0.\n",
    "temperatureDotField.data[:] = 0.\n",
    "\n",
    "def wbl(x, w0 = 0.06):\n",
    "    delx = 1- abs(x)\n",
    "    Wbl = w0*math.sqrt(delx)\n",
    "    if Wbl== 0.: #to avoid division by zero\n",
    "        Wbl = 1e-8\n",
    "    return Wbl\n",
    "\n",
    "\n",
    "\n",
    "def tempf(z,w,t0=0.64):\n",
    "    temp = t0*math.erf((1-z)/w)\n",
    "    return temp\n",
    "\n"
   ]
  },
  {
   "cell_type": "code",
   "execution_count": 16,
   "metadata": {
    "collapsed": false
   },
   "outputs": [],
   "source": [
    "for index, coord in enumerate(mesh.data):\n",
    "    w = wbl(coord[0])\n",
    "    t = tempf(coord[1], w)\n",
    "    temperatureField.data[index] = t\n",
    "\n",
    "\n",
    "for index, coord in enumerate(mesh.data):\n",
    "    if abs(coord[0]) < wbl(0)/2. and coord[1] > 0.5:\n",
    "        w = wbl(0)/2.\n",
    "        d = w - abs(coord[0])\n",
    "        t = tempf(d, coord[1], w)\n",
    "        temperatureField.data[index] = t\n",
    "        \n",
    "        \n",
    "\n",
    "#Set sticky air Temp to zero\n",
    "for index, coord in enumerate(mesh.data):\n",
    "    if coord[1] > 1.:\n",
    "        temperatureField.data[index] = 0."
   ]
  },
  {
   "cell_type": "code",
   "execution_count": 17,
   "metadata": {
    "collapsed": true
   },
   "outputs": [],
   "source": [
    "#For notebook runs\n",
    "#ModIt = \"96\""
   ]
  },
  {
   "cell_type": "code",
   "execution_count": 18,
   "metadata": {
    "collapsed": false
   },
   "outputs": [],
   "source": [
    "# Now setup the dirichlet boundary condition\n",
    "# Note that through this object, we are flagging to the system \n",
    "# that these nodes are to be considered as boundary conditions. \n",
    "# Also note that we provide a tuple of sets.. One for the Vx, one for Vy.\n",
    "freeslipBC = uw.conditions.DirichletCondition( variable      = velocityField, \n",
    "                                               indexSetsPerDof = (None, JWalls) )\n",
    "\n",
    "# also set dirichlet for temp field\n",
    "tempBC = uw.conditions.DirichletCondition(     variable=temperatureField, \n",
    "                                              indexSetsPerDof=(JWalls,) )\n",
    "\n",
    "\n",
    "# set initial conditions (and boundary values)\n",
    "velocityField.data[:] = [0.,0.]\n",
    "pressureField.data[:] = 0.\n",
    "\n",
    "\n",
    "\n"
   ]
  },
  {
   "cell_type": "markdown",
   "metadata": {},
   "source": [
    "\n",
    "##Add Random 125 K temp perturbation\n"
   ]
  },
  {
   "cell_type": "code",
   "execution_count": 19,
   "metadata": {
    "collapsed": true
   },
   "outputs": [],
   "source": [
    "tempNump = temperatureField.data\n",
    "\n",
    "#In gerneral we only want to do this on the initial setup, not restarts\n",
    "\n",
    "if not checkpointLoad:\n",
    "    for index, coord in enumerate(mesh.data):\n",
    "        pertCoeff = (0.05*np.random.rand(1)[0])\n",
    "        ict = tempNump[index]\n",
    "        tempNump[index] = ict + pertCoeff"
   ]
  },
  {
   "cell_type": "markdown",
   "metadata": {},
   "source": [
    "##Reset bottom Dirichlet conds."
   ]
  },
  {
   "cell_type": "code",
   "execution_count": 20,
   "metadata": {
    "collapsed": false
   },
   "outputs": [],
   "source": [
    "# Set temp boundaries \n",
    "# on the boundaries\n",
    "for index in mesh.specialSets[\"MinJ_VertexSet\"]:\n",
    "    temperatureField.data[index] = ndp.TR\n",
    "for index in mesh.specialSets[\"MaxJ_VertexSet\"]:\n",
    "    temperatureField.data[index] = ndp.TS"
   ]
  },
  {
   "cell_type": "code",
   "execution_count": 21,
   "metadata": {
    "collapsed": false
   },
   "outputs": [],
   "source": [
    "#temperatureField.evaluate(IWalls).min()"
   ]
  },
  {
   "cell_type": "markdown",
   "metadata": {},
   "source": [
    "#Particles"
   ]
  },
  {
   "cell_type": "code",
   "execution_count": 22,
   "metadata": {
    "collapsed": false
   },
   "outputs": [],
   "source": [
    "###########\n",
    "#Material Swarm and variables\n",
    "###########\n",
    "\n",
    "gSwarm = uw.swarm.Swarm(mesh=mesh)\n",
    "materialVariable = gSwarm.add_variable( dataType=\"char\", count=1 )\n",
    "rockIntVar = gSwarm.add_variable( dataType=\"double\", count=1 )\n",
    "airIntVar = gSwarm.add_variable( dataType=\"double\", count=1 )\n",
    "lithIntVar = gSwarm.add_variable( dataType=\"double\", count=1 )\n",
    "\n",
    "varlist = [materialVariable, rockIntVar, airIntVar, lithIntVar]\n",
    "varnames = ['materialVariable', 'rockIntVar', 'airIntVar', 'lithIntVar']"
   ]
  },
  {
   "cell_type": "code",
   "execution_count": 23,
   "metadata": {
    "collapsed": true
   },
   "outputs": [],
   "source": [
    "###########\n",
    "#Swarms for surface intragrals when using Sticky air\n",
    "###########\n",
    "\n",
    "snum = 1000.\n",
    "dx = (mesh.data[:,0].max()- mesh.data[:,0].min())/snum\n",
    "yp = 0.9947 #1. - yelsize/2. at res = 96\n",
    "\n",
    "mesh.data[:,0].max()\n",
    "xps = np.linspace(mesh.data[:,0].min(),mesh.data[:,0].max(), snum)\n",
    "yps = [yp for i in xps]\n",
    "\n",
    "surfintswarm = uw.swarm.Swarm( mesh=mesh )\n",
    "dumout = surfintswarm.add_particles_with_coordinates(np.array((xps,yps)).T)\n",
    "\n",
    "yps = [ 1.- yp  for i in xps]\n",
    "\n",
    "baseintswarm = uw.swarm.Swarm( mesh=mesh)\n",
    "dumout = baseintswarm.add_particles_with_coordinates(np.array((xps,yps)).T)"
   ]
  },
  {
   "cell_type": "markdown",
   "metadata": {},
   "source": [
    "#Initialise swarm variables, or Swarm checkpoint load"
   ]
  },
  {
   "cell_type": "code",
   "execution_count": 24,
   "metadata": {
    "collapsed": false
   },
   "outputs": [],
   "source": [
    "mantleIndex = 0\n",
    "lithosphereIndex = 1\n",
    "crustIndex = 2\n",
    "airIndex = 3\n",
    "\n",
    "\n",
    "if checkpointLoad:\n",
    "    checkpointLoadDir = natsort.natsorted(checkdirs)[-1]\n",
    "    temperatureField.load(os.path.join(checkpointLoadDir, \"temperatureField\" + \".hdf5\"))\n",
    "    pressureField.load(os.path.join(checkpointLoadDir, \"pressureField\" + \".hdf5\"))\n",
    "    velocityField.load(os.path.join(checkpointLoadDir, \"velocityField\" + \".hdf5\"))\n",
    "    gSwarm.load(os.path.join(checkpointLoadDir, \"swarm\" + \".h5\"))\n",
    "    for ix in range(len(varlist)):\n",
    "        varb = varlist[ix]\n",
    "        varb.load(os.path.join(checkpointLoadDir,varnames[ix] + \".h5\"))\n",
    "\n",
    "else:\n",
    "\n",
    "    # Layouts are used to populate the swarm across the whole domain\n",
    "    # Create the layout object\n",
    "    #layout = uw.swarm.layouts.GlobalSpaceFillerLayout( swarm=gSwarm, particlesPerCell=20)\n",
    "    layout = uw.swarm.layouts.PerCellRandomLayout(swarm=gSwarm, particlesPerCell=15)\n",
    "    # Now use it to populate.\n",
    "    gSwarm.populate_using_layout( layout=layout )\n",
    "\n",
    "    # Lets initialise the 'materialVariable' data to represent different materials\n",
    "    # Set the material to heavy everywhere via the numpy array\n",
    "    materialVariable.data[:] = mantleIndex\n",
    "    \n",
    "    \n",
    "    #Set initial air and crust materials (allow the graph to take care of lithsophere)\n",
    "    #########\n",
    "    #This initial material setup will be model dependent\n",
    "    #########\n",
    "    for particleID in range(gSwarm.particleCoordinates.data.shape[0]):\n",
    "        if (1. - gSwarm.particleCoordinates.data[particleID][1]) < 0:\n",
    "                 materialVariable.data[particleID] = airIndex\n",
    "        elif (1. - gSwarm.particleCoordinates.data[particleID][1]) < MANTLETOCRUST:\n",
    "                 materialVariable.data[particleID] = crustIndex"
   ]
  },
  {
   "cell_type": "markdown",
   "metadata": {},
   "source": [
    "#Material Graphs"
   ]
  },
  {
   "cell_type": "code",
   "execution_count": 25,
   "metadata": {
    "collapsed": false
   },
   "outputs": [],
   "source": [
    "##############\n",
    "#Important: This is a quick fix for a bug that arises in parallel runs\n",
    "##############\n",
    "material_list = [0,1,2,3]\n"
   ]
  },
  {
   "cell_type": "code",
   "execution_count": 26,
   "metadata": {
    "collapsed": false
   },
   "outputs": [
    {
     "name": "stdout",
     "output_type": "stream",
     "text": [
      "unique values after swarm has loaded:[0 2]\n"
     ]
    }
   ],
   "source": [
    "print( \"unique values after swarm has loaded:\" + str(np.unique(materialVariable.data[:])))\n"
   ]
  },
  {
   "cell_type": "code",
   "execution_count": 27,
   "metadata": {
    "collapsed": true
   },
   "outputs": [],
   "source": [
    "\n",
    "\n",
    "#All depth conditions are given as (km/D) where D is the length scale, \n",
    "#note that 'model depths' are used, e.g. 1-z, where z is the vertical Underworld coordinate\n",
    "#All temp conditions are in dimensionless temp. [0. - 1.]\n",
    "\n",
    "#######Graph object\n",
    "DG = nx.DiGraph(field=\"Depth\")\n",
    "\n",
    "#######Nodes\n",
    "#Note that the order of materials, deepest to shallowest is important \n",
    "DG.add_node(0, mat='mantle')\n",
    "DG.add_node(1, mat='lithosphere')\n",
    "DG.add_node(2, mat='crust')\n",
    "DG.add_node(3, mat='air')\n",
    "\n",
    "\n",
    "labels=dict((n,d['mat']) for n,d in DG.nodes(data=True))\n",
    "pos=nx.spring_layout(DG) \n",
    "\n",
    "\n",
    "#######Edges\n",
    "#anything to air\n",
    "DG.add_edges_from([(0,3),(1,3), (2,3)])\n",
    "DG[0][3]['depthcondition'] = -1*TOPOHEIGHT\n",
    "DG[1][3]['depthcondition'] = -1*TOPOHEIGHT\n",
    "DG[2][3]['depthcondition'] = -1*TOPOHEIGHT\n",
    "\n",
    "\n",
    "#Anything to mantle\n",
    "DG.add_edges_from([(2,0), (3,0), (1,0)])\n",
    "DG[3][0]['depthcondition'] = TOPOHEIGHT\n",
    "DG[2][0]['depthcondition'] = CRUSTTOMANTLE\n",
    "DG[1][0]['depthcondition'] = LITHTOMANTLE #This means we're going to kill lithosphere at the 660.\n",
    "\n",
    "\n",
    "#Anything to lithsphere\n",
    "DG.add_edges_from([(0,1),(3,1)])\n",
    "DG[0][1]['depthcondition'] = MANTLETOLITH\n",
    "DG[0][1]['avgtempcondition'] = 0.75*AVGTEMP #definition of thermal lithosphere\n",
    "\n",
    "\n",
    "#Anything to crust\n",
    "DG.add_edges_from([(0,2), (1,2)])\n",
    "DG[0][2]['depthcondition'] = MANTLETOCRUST\n",
    "DG[1][2]['depthcondition'] = MANTLETOCRUST"
   ]
  },
  {
   "cell_type": "code",
   "execution_count": 28,
   "metadata": {
    "collapsed": false
   },
   "outputs": [
    {
     "data": {
      "text/plain": [
       "[0, 1, 2, 3]"
      ]
     },
     "execution_count": 28,
     "metadata": {},
     "output_type": "execute_result"
    }
   ],
   "source": [
    "DG.nodes()"
   ]
  },
  {
   "cell_type": "code",
   "execution_count": 29,
   "metadata": {
    "collapsed": false
   },
   "outputs": [],
   "source": [
    "remove_nodes = []\n",
    "for node in DG.nodes():\n",
    "    if not node in material_list:\n",
    "        remove_nodes.append(node)\n",
    "        \n",
    "for rmnode in remove_nodes:\n",
    "    DG.remove_node(rmnode)"
   ]
  },
  {
   "cell_type": "code",
   "execution_count": 30,
   "metadata": {
    "collapsed": false
   },
   "outputs": [
    {
     "data": {
      "text/plain": [
       "[0, 1, 2, 3]"
      ]
     },
     "execution_count": 30,
     "metadata": {},
     "output_type": "execute_result"
    }
   ],
   "source": [
    "DG.nodes()"
   ]
  },
  {
   "cell_type": "code",
   "execution_count": 31,
   "metadata": {
    "collapsed": false
   },
   "outputs": [],
   "source": [
    "\n",
    "#remove_nodes = []\n",
    "#for node in DG.nodes_iter():\n",
    "#    if not node in material_list:\n",
    "#        remove_nodes.append(node)\n",
    "        \n",
    "#for rmnode in remove_nodes:\n",
    "#    DG.remove_node(rmnode)"
   ]
  },
  {
   "cell_type": "code",
   "execution_count": 32,
   "metadata": {
    "collapsed": true
   },
   "outputs": [],
   "source": [
    "#A Dictionary to map strings in the graph (e.g. 'depthcondition') to particle data arrays\n",
    "\n",
    "particledepths = 1. - gSwarm.particleCoordinates.data[:,1]\n",
    "particletemps = temperatureField.evaluate(gSwarm)[:,0]\n",
    "\n",
    "conditionmap = {}\n",
    "\n",
    "conditionmap['depthcondition'] = {}\n",
    "conditionmap['depthcondition']['data'] = particledepths\n",
    "conditionmap['avgtempcondition'] = {}\n",
    "conditionmap['avgtempcondition']['data'] = particletemps"
   ]
  },
  {
   "cell_type": "code",
   "execution_count": 33,
   "metadata": {
    "collapsed": true
   },
   "outputs": [],
   "source": [
    "def update_swarm(graph, particleIndex):\n",
    "    \"\"\"\n",
    "    This function takes the materials graph (networkx.DiGraph), and a particle index,\n",
    "    then determines if a material update is required \n",
    "    and if so, returns the new materialindex\n",
    "    Args:\n",
    "        graph (networkx.DiGraph): Directed multigraph representing the transformation of material types\n",
    "        particleIndex (int): the particle index as corressponding to the index in the swarm data arrays\n",
    "    Returns:\n",
    "        if update is required the function returns the the new material variable (int) \n",
    "        else returns None\n",
    "    Raises:\n",
    "        TypeError: not implemented\n",
    "        ValueError: not implemented\n",
    "    \"\"\"\n",
    "    ##Egde gives links to other materials, we then query the conditions to see if we should change materials\n",
    "    matId = materialVariable.data[particleIndex][0]\n",
    "    innerchange = False\n",
    "    outerchange = False\n",
    "    for edge in graph[matId]:\n",
    "        if outerchange:\n",
    "            break\n",
    "        for cond in graph[matId][edge].keys():\n",
    "            outerchange = False\n",
    "            if innerchange: #found a complete transition, break inner loop\n",
    "                break\n",
    "            currentparticlevalue = conditionmap[cond]['data'][particleIndex]\n",
    "            crossover = graph[matId][edge][cond]\n",
    "            if ((matId > edge) and (currentparticlevalue > crossover)):\n",
    "                innerchange = False # continue on, \n",
    "                if graph[matId][edge].keys()[-1] == cond:\n",
    "                    outerchange = True\n",
    "                    innerchange = edge\n",
    "                    break\n",
    "            elif ((matId < edge) and (currentparticlevalue < crossover)):\n",
    "                innerchange = False\n",
    "                if graph[matId][edge].keys()[-1] == cond:\n",
    "                    outerchange = True\n",
    "                    innerchange = edge\n",
    "                    break\n",
    "            else:\n",
    "                #condition not met, break outer loop, go to next edge, outerchange should still be False\n",
    "                break\n",
    "    if type(innerchange) == int:\n",
    "        return innerchange"
   ]
  },
  {
   "cell_type": "code",
   "execution_count": 34,
   "metadata": {
    "collapsed": true
   },
   "outputs": [],
   "source": [
    "#fn.branching.conditional?"
   ]
  },
  {
   "cell_type": "code",
   "execution_count": 35,
   "metadata": {
    "collapsed": false
   },
   "outputs": [],
   "source": [
    "#Cleanse the swarm of its sins\n",
    "#For some Material Graphs, the graph may have to be treaversed more than once\n",
    "\n",
    "check = -1\n",
    "number_updated = 1\n",
    "\n",
    "while number_updated != 0:\n",
    "    number_updated = 0\n",
    "    for particleID in range(gSwarm.particleCoordinates.data.shape[0]):\n",
    "                check = update_swarm(DG, particleID)\n",
    "                if check > -1:\n",
    "                    number_updated += 1\n",
    "                    materialVariable.data[particleID] = check"
   ]
  },
  {
   "cell_type": "code",
   "execution_count": 39,
   "metadata": {
    "collapsed": false
   },
   "outputs": [],
   "source": [
    "## Here we'll play around with some different crust-perturbations\n",
    "##Voul inlude this is the Graph update function, but for now keep it seperate\n",
    "\n",
    "#MANTLETOCRUST\n",
    "centre = 0.0\n",
    "#CRUSTTOMANTLE\n",
    "\n",
    "#square_shape = np.array([ (MANTLETOCRUST ,1. ), ((-1.*MANTLETOCRUST) ,(1.0 - CRUSTTOMANTLE) ), \n",
    "#                       (-1.*MANTLETOCRUST ,1. ), ((MANTLETOCRUST),(1.0 - CRUSTTOMANTLE ))])\n",
    "#square_shape = fn.shape.Polygon( square_shape)\n",
    "\n",
    "sub_zone = np.array([ ((2*MANTLETOCRUST),1. ), ((-2.*MANTLETOCRUST) ,1. ), \n",
    "                     ((-2.*MANTLETOCRUST - 2*MANTLETOLITH ) ,(1.0 - CRUSTTOMANTLE/2.) ), ((2*MANTLETOCRUST - 2*MANTLETOLITH ),(1.0 - CRUSTTOMANTLE/2. )) ])\n",
    "shape = fn.shape.Polygon( sub_zone)\n",
    "\n",
    "\n",
    "for particleID in range( gSwarm.particleCoordinates.data.shape[0] ):\n",
    "    if shape.evaluate(tuple(gSwarm.particleCoordinates.data[particleID])):\n",
    "        #print \"true\"\n",
    "        materialVariable.data[particleID] = crustIndex\n"
   ]
  },
  {
   "cell_type": "code",
   "execution_count": 40,
   "metadata": {
    "collapsed": false
   },
   "outputs": [
    {
     "data": {
      "text/html": [
       "<img src='data:image/png;base64,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'>"
      ],
      "text/plain": [
       "<IPython.core.display.HTML object>"
      ]
     },
     "execution_count": 40,
     "metadata": {},
     "output_type": "execute_result"
    }
   ],
   "source": [
    "figSwarm = glucifer.Figure(figsize=(1024,384))\n",
    "figSwarm.append( glucifer.objects.Points(gSwarm,materialVariable, colours='brown white blue red'))\n",
    "figSwarm.append( glucifer.objects.Mesh(mesh))\n",
    "figSwarm.append( glucifer.objects.Surface(mesh, temperatureField))\n",
    "figSwarm.save_database('test.gldb')\n",
    "figSwarm.show()"
   ]
  },
  {
   "cell_type": "markdown",
   "metadata": {},
   "source": [
    "## Set the values for the masking swarms"
   ]
  },
  {
   "cell_type": "code",
   "execution_count": 38,
   "metadata": {
    "collapsed": false
   },
   "outputs": [],
   "source": [
    "#Setup up a masking Swarm variable for the integrations.\n",
    "#These should be rebuilt at same frequency as the metric calcualtions\n",
    "\n",
    "rockIntVar.data[:] = 0.\n",
    "notair = np.where(materialVariable.data != airIndex)\n",
    "rockIntVar.data[notair] = 1.\n",
    "\n",
    "airIntVar.data[:] = 0.\n",
    "notrock = np.where(materialVariable.data == airIndex)\n",
    "airIntVar.data[notrock] = 1.\n",
    "\n",
    "lithIntVar.data[:] = 0.\n",
    "islith = np.where((materialVariable.data == lithosphereIndex) | (materialVariable.data == crustIndex))\n",
    "lithIntVar.data[islith] = 1."
   ]
  },
  {
   "cell_type": "markdown",
   "metadata": {
    "collapsed": false
   },
   "source": [
    "#Material properties\n"
   ]
  },
  {
   "cell_type": "markdown",
   "metadata": {},
   "source": [
    "In the paper, Crameri and Tackley give the dimensionless cohesion as well as the dimensionless yield stress gradient. But the latter is given as a function of dimensionless (lithostatic) pressure, whereas it is easier to use dimensionless depth. Easy, multiply the dimensionless depth by $\\rho g D$, divide by the stress scale, $\\frac{\\eta \\kappa}{D^2}$ then use the same dimensionless yeild stress gradient ($\\mu$)"
   ]
  },
  {
   "cell_type": "code",
   "execution_count": 37,
   "metadata": {
    "collapsed": false
   },
   "outputs": [],
   "source": [
    "# The yeilding of the upper slab is dependent on the strain rate.\n",
    "strainRate_2ndInvariant = fn.tensor.second_invariant( \n",
    "                            fn.tensor.symmetric( \n",
    "                            velocityField.fn_gradient ))\n",
    "\n",
    "\n",
    "coordinate = fn.input()\n",
    "depth = 1. - coordinate[1]\n",
    "\n",
    "#Determine yield criterion for depth (rather than pressure as given in Crameri)\n",
    "#Scaling is same as van Heck and Tackley, EPSL, 2011\n",
    "lithopressuregrad = dp.rho*dp.g*(dp.LS)**3/(dp.eta0*dp.k)"
   ]
  },
  {
   "cell_type": "code",
   "execution_count": 38,
   "metadata": {
    "collapsed": false
   },
   "outputs": [
    {
     "name": "stdout",
     "output_type": "stream",
     "text": [
      "(11.55, 3.0, 0.1092, 1.0, 0.64, 1577.0)\n"
     ]
    }
   ],
   "source": [
    "#Check important paramters\n",
    "print(ndp.E, ndp.V,ndp.TS,ndp.RD, ndp.TR, ndp.cohesion)"
   ]
  },
  {
   "cell_type": "code",
   "execution_count": 39,
   "metadata": {
    "collapsed": false
   },
   "outputs": [],
   "source": [
    "############\n",
    "#Mantle\n",
    "############\n",
    "\n",
    "#Linear viscosity\n",
    "arhennius = fn.misc.min(1e5,fn.math.exp(((ndp.E + ndp.V*(1.-coordinate[1]))/\n",
    "                                         (temperatureField + ndp.TS)) - ((ndp.E + ndp.V*(1.- ndp.RD))/(ndp.TR + ndp.TS))))\n",
    "\n",
    "#Psuedo-plastic \n",
    "ys =  ndp.cohesion + (depth*ndp.fc*lithopressuregrad)\n",
    "#ys =  ndp.fc*lithopressuregrad*(30e3/dp.LS) # this is the byerlee strength at 30 km\n",
    "yss = fn.misc.max(1577., ys)\n",
    "plasticvisc = yss*(math.sqrt(2))/(strainRate_2ndInvariant*2.)\n",
    "plastic = fn.misc.max(1e-4,plasticvisc)\n",
    "#combine these\n",
    "mantleviscosityFn = fn.exception.SafeMaths(fn.misc.min(arhennius, plastic))\n",
    "\n",
    "############\n",
    "#crust\n",
    "############\n",
    "\n",
    "\n",
    "\n",
    "ysc = (ndp.cohesion/ndp.cohesion_reduce) + (depth*(ndp.fc/100.)*lithopressuregrad)\n",
    "#ysc = ys/100.\n",
    "ycs = fn.misc.max((ndp.cohesion/ndp.cohesion_reduce), ysc)\n",
    "crustplasticvisc = ycs*(math.sqrt(2))/(strainRate_2ndInvariant*2.)\n",
    "crustplastic = fn.misc.max(1e-4,crustplasticvisc) \n",
    "crustviscosityFn = fn.exception.SafeMaths(fn.misc.min(arhennius, crustplastic))"
   ]
  },
  {
   "cell_type": "markdown",
   "metadata": {},
   "source": [
    "Note that the rheology implemented manually above can also be set up using an Underworld2 function, as follows:\n",
    "```python\n",
    "fn_stress =  2.*arhennius*uw.function.tensor.symmetric(velocityField.fn_gradient )\n",
    "plasticvisc = fn.rheology.stress_limiting_viscosity(fn_stress,ys,arhennius)\n",
    "plastic = fn.misc.max(1e-4,plasticvisc)\n",
    "mantleviscosityFn = fn.exception.SafeMaths(fn.misc.min(arhennius, plastic))\n",
    "stokesPIC.fn_viscosity = mantleviscosityFn\n",
    "```"
   ]
  },
  {
   "cell_type": "markdown",
   "metadata": {},
   "source": [
    "Set up material properties\n",
    "====\n",
    "\n",
    "Here the functions for density, viscosity etc. are set. These functions and/or values are preserved for the entire simulation time. "
   ]
  },
  {
   "cell_type": "code",
   "execution_count": 40,
   "metadata": {
    "collapsed": false
   },
   "outputs": [],
   "source": [
    "# Here we set a viscosity value of '1.' for both materials\n",
    "viscosityMapFn = fn.branching.map( fn_key = materialVariable,\n",
    "                         mapping = {airIndex:AIRVISCOSITY, \n",
    "                                    lithosphereIndex:mantleviscosityFn, \n",
    "                                    crustIndex:crustviscosityFn,\n",
    "                                    mantleIndex:mantleviscosityFn} )\n",
    "\n",
    "densityMapFn = fn.branching.map( fn_key = materialVariable,\n",
    "                         mapping = {airIndex:AIRDENSITY, \n",
    "                                    lithosphereIndex:ndp.RA*temperatureField, \n",
    "                                    crustIndex:ndp.RA*temperatureField, \n",
    "                                    mantleIndex:ndp.RA*temperatureField} )\n",
    "\n",
    "# Define our gravity using a python tuple (this will be automatically converted to a function)\n",
    "gravity = ( 0.0, 1.0 )\n",
    "\n",
    "buoyancyFn = gravity*densityMapFn"
   ]
  },
  {
   "cell_type": "code",
   "execution_count": null,
   "metadata": {
    "collapsed": false
   },
   "outputs": [],
   "source": []
  },
  {
   "cell_type": "markdown",
   "metadata": {},
   "source": [
    "Build the Stokes system, solvers, advection-diffusion\n",
    "------\n",
    "\n",
    "Setup linear Stokes system to get the initial velocity."
   ]
  },
  {
   "cell_type": "code",
   "execution_count": 41,
   "metadata": {
    "collapsed": false
   },
   "outputs": [],
   "source": [
    "stokesPIC = uw.systems.Stokes( velocityField = velocityField, \n",
    "                               pressureField = pressureField,\n",
    "                               #swarm         = gSwarm, \n",
    "                               conditions    = [freeslipBC,],\n",
    "                               fn_viscosity   = arhennius, \n",
    "                               fn_bodyforce   = buoyancyFn )\n"
   ]
  },
  {
   "cell_type": "code",
   "execution_count": 42,
   "metadata": {
    "collapsed": false
   },
   "outputs": [],
   "source": [
    "#We do one solve with linear viscosity to get the initial strain rate invariant. \n",
    "#This solve step also calculates a 'guess' of the the velocity field based on the linear system, \n",
    "#which is used later in the non-linear solver.\n",
    "\n",
    "solver = uw.systems.Solver(stokesPIC)\n",
    "# If not doing a restart, do a solve on the non-plastic system\n",
    "if not checkpointLoad:\n",
    "    solver.solve()"
   ]
  },
  {
   "cell_type": "code",
   "execution_count": null,
   "metadata": {
    "collapsed": true
   },
   "outputs": [],
   "source": [
    "solver.options"
   ]
  },
  {
   "cell_type": "markdown",
   "metadata": {
    "collapsed": true
   },
   "source": [
    "* CG\n",
    "* "
   ]
  },
  {
   "cell_type": "code",
   "execution_count": 237,
   "metadata": {
    "collapsed": false
   },
   "outputs": [],
   "source": [
    "####################\n",
    "#Add the non-linear viscosity to the Stokes system\n",
    "stokesPIC.fn_viscosity = viscosityMapFn\n",
    "###################\n",
    "\n",
    "#Set more advanced solver option\n",
    "solver.options.main.Q22_pc_type='uw'\n",
    "solver.options.A11.ksp_rtol=1e-5\n",
    "solver.options.scr.ksp_rtol=1e-5\n",
    "#solver.options.A11.ksp_type=\"cg\"\n",
    "solver.options.scr.use_previous_guess = True\n",
    "solver.options.scr.ksp_set_min_it_converge = 1\n",
    "\n",
    "solver.options.mg.levels = 3\n",
    "\n",
    "#solver.options.A11.ksp_monitor=''\n",
    "solver.options.A11.ksp_converged_reason=''"
   ]
  },
  {
   "cell_type": "code",
   "execution_count": 2,
   "metadata": {
    "collapsed": false
   },
   "outputs": [
    {
     "ename": "NameError",
     "evalue": "name 'solver' is not defined",
     "output_type": "error",
     "traceback": [
      "\u001b[0;31m---------------------------------------------------------------------------\u001b[0m",
      "\u001b[0;31mNameError\u001b[0m                                 Traceback (most recent call last)",
      "\u001b[0;32m<ipython-input-2-97134faac567>\u001b[0m in \u001b[0;36m<module>\u001b[0;34m()\u001b[0m\n\u001b[0;32m----> 1\u001b[0;31m \u001b[0msolver\u001b[0m\u001b[0;34m.\u001b[0m\u001b[0moptions\u001b[0m\u001b[0;34m.\u001b[0m\u001b[0mscr\u001b[0m\u001b[0;34m.\u001b[0m\u001b[0mksp_set_min_it_converge\u001b[0m\u001b[0;34m\u001b[0m\u001b[0m\n\u001b[0m",
      "\u001b[0;31mNameError\u001b[0m: name 'solver' is not defined"
     ]
    }
   ],
   "source": [
    "#solver.options.scr.ksp_set_min_it_converge"
   ]
  },
  {
   "cell_type": "markdown",
   "metadata": {},
   "source": [
    "Solve non-linear system for pressure and velocity using Picard iteration\n"
   ]
  },
  {
   "cell_type": "code",
   "execution_count": 238,
   "metadata": {
    "collapsed": false
   },
   "outputs": [],
   "source": [
    "solver.solve(nonLinearIterate=True)"
   ]
  },
  {
   "cell_type": "code",
   "execution_count": 239,
   "metadata": {
    "collapsed": true
   },
   "outputs": [],
   "source": [
    "#Now check the stress.\n",
    "fn_stress = 2.*mantleviscosityFn*uw.function.tensor.symmetric(velocityField.fn_gradient)\n",
    "fn_minmax_inv = fn.view.min_max(fn.tensor.second_invariant(fn_stress))\n",
    "ignore = fn_minmax_inv.evaluate(gSwarm)"
   ]
  },
  {
   "cell_type": "code",
   "execution_count": 240,
   "metadata": {
    "collapsed": false
   },
   "outputs": [
    {
     "data": {
      "text/plain": [
       "550350.6561038237"
      ]
     },
     "execution_count": 240,
     "metadata": {},
     "output_type": "execute_result"
    }
   ],
   "source": [
    "fn_minmax_inv.max_global()"
   ]
  },
  {
   "cell_type": "code",
   "execution_count": 241,
   "metadata": {
    "collapsed": false
   },
   "outputs": [],
   "source": [
    "#np.isclose(fn_minmax_inv.max_global(), ys, rtol=1e-03)"
   ]
  },
  {
   "cell_type": "code",
   "execution_count": 242,
   "metadata": {
    "collapsed": false
   },
   "outputs": [
    {
     "data": {
      "text/html": [
       "<img src='data:image/png;base64,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'>"
      ],
      "text/plain": [
       "<IPython.core.display.HTML object>"
      ]
     },
     "execution_count": 242,
     "metadata": {},
     "output_type": "execute_result"
    }
   ],
   "source": [
    "figTemp = glucifer.Figure()\n",
    "figTemp.append( glucifer.objects.Surface(mesh, fn.tensor.second_invariant(fn_stress)))\n",
    "#figTemp.append( glucifer.objects.VectorArrows(mesh,velocityField, arrowHead=0.2, scaling=0.0005))\n",
    "\n",
    "figTemp.show()"
   ]
  },
  {
   "cell_type": "markdown",
   "metadata": {},
   "source": [
    "Create an advective-diffusive system\n",
    "=====\n",
    "\n",
    "Setup the system in underworld by flagging the temperature and velocity field variables."
   ]
  },
  {
   "cell_type": "code",
   "execution_count": 243,
   "metadata": {
    "collapsed": false
   },
   "outputs": [],
   "source": [
    "#Create advdiff system\n",
    "\n",
    "advDiff = uw.systems.AdvectionDiffusion( phiField       = temperatureField, \n",
    "                                         phiDotField    = temperatureDotField, \n",
    "                                         velocityField  = velocityField, \n",
    "                                         fn_diffusivity = 1.0, \n",
    "                                         conditions     = [tempBC,] )\n",
    "\n",
    "\n",
    "\n",
    "advector = uw.systems.SwarmAdvector( swarm         = gSwarm, \n",
    "                                     velocityField = velocityField, \n",
    "                                     order         = 1)\n",
    "\n",
    "#Switch particle escape on, this will also trigger the inflow population control \n",
    "gSwarm.particleEscape = True"
   ]
  },
  {
   "cell_type": "markdown",
   "metadata": {},
   "source": [
    "Metrics for benchmark\n",
    "=====\n",
    "\n",
    "Define functions to be used in the time loop. For cases 1-4, participants were asked to report a number of diagnostic quantities to be measured after reaching steady state:\n",
    "\n",
    "* Average temp... $$  \\langle T \\rangle  = \\int^1_0 \\int^1_0 T \\, dxdy $$\n",
    "* Top and bottom Nusselt numbers... $$N = \\int^1_0 \\frac{\\partial T}{\\partial y} \\rvert_{y=0/1} \\, dx$$\n",
    "* RMS velocity over the whole domain, surface and max velocity at surface\n",
    "* max and min viscosity over the whole domain\n",
    "* average rate of work done against gravity...$$\\langle W \\rangle = \\int^1_0 \\int^1_0 T u_y \\, dx dy$$\n",
    "* and the average rate of viscous dissipation...$$\\langle \\Phi \\rangle = \\int^1_0 \\int^1_0 \\tau_{ij} \\dot \\epsilon_{ij} \\, dx dy$$\n",
    "\n",
    "* In steady state, if thermal energy is accurately conserved, the difference between $\\langle W \\rangle$ and $\\langle \\Phi \\rangle / Ra$ must vanish, so also reported is the percentage error: \n",
    "\n",
    "$$ \\delta = \\frac{\\lvert \\langle W \\rangle - \\frac{\\langle \\Phi \\rangle}{Ra} \\rvert}{max \\left(  \\langle W \\rangle,  \\frac{\\langle \\Phi \\rangle}{Ra}\\right)} \\times 100% $$"
   ]
  },
  {
   "cell_type": "code",
   "execution_count": 244,
   "metadata": {
    "collapsed": false
   },
   "outputs": [],
   "source": [
    "#Setup some Integrals. We want these outside the main loop...\n",
    "tempVariable = gSwarm.add_variable( dataType=\"double\", count=1 )\n",
    "tempVariable.data[:] = temperatureField.evaluate(gSwarm)[:]\n",
    "tempint = uw.utils.Integral((tempVariable*rockIntVar), mesh)\n",
    "\n",
    "\n",
    "areaint = uw.utils.Integral((1.*rockIntVar),mesh)\n",
    "\n",
    "v2int = uw.utils.Integral(fn.math.dot(velocityField,velocityField)*rockIntVar, mesh)\n",
    "\n",
    "\n",
    "dwint = uw.utils.Integral(temperatureField*velocityField[1]*rockIntVar, mesh)\n",
    "\n",
    "\n",
    "sinner = fn.math.dot(strainRate_2ndInvariant,strainRate_2ndInvariant)\n",
    "vdint = uw.utils.Integral((4.*mantleviscosityFn*sinner)*rockIntVar, mesh)\n",
    "vdintair = uw.utils.Integral((4.*mantleviscosityFn*sinner)*airIntVar, mesh)\n",
    "vdintlith = uw.utils.Integral((4.*mantleviscosityFn*sinner)*lithIntVar, mesh)"
   ]
  },
  {
   "cell_type": "code",
   "execution_count": 245,
   "metadata": {
    "collapsed": false
   },
   "outputs": [],
   "source": [
    "def avg_temp():\n",
    "    return tempint.evaluate()[0]\n",
    "\n",
    "#This one gets cleaned up when Surface integrals are available\n",
    "def nusselt(tempfield, swarm, dx):\n",
    "    #Update the swarm variable\n",
    "    tempgrad = tempfield.fn_gradient\n",
    "    valcheck = tempgrad[1].evaluate(swarm)\n",
    "    if valcheck is None:\n",
    "        vals = np.array(0, dtype='float64')\n",
    "    else:\n",
    "        vals = valcheck.sum()*dx\n",
    "    return vals\n",
    "\n",
    "def rms():\n",
    "    return math.sqrt(v2int.evaluate()[0])\n",
    "\n",
    "#This one gets cleaned up when Surface integrals are available\n",
    "def rms_surf(swarm, dx):\n",
    "    rmsmaxfn = fn.math.sqrt(fn.math.dot(velocityField,velocityField))\n",
    "    rmscheck = rmsmaxfn.evaluate(swarm)\n",
    "    if rmscheck is None:\n",
    "        rmsvals = np.array(0, dtype='float64')\n",
    "    else:\n",
    "        rmsvals = rmscheck.sum()*dx\n",
    "    return rmsvals\n",
    "\n",
    "def max_vx_surf(velfield, swarm):\n",
    "    surfvelxmaxfn = fn.view.min_max(velfield[0])\n",
    "    surfvelxmaxfn.evaluate(swarm)\n",
    "    return surfvelxmaxfn.max_global()\n",
    "\n",
    "def max_vy_surf(velfield, swarm):\n",
    "    surfvelxmaxfn = fn.view.min_max(velfield[1])\n",
    "    surfvelxmaxfn.evaluate(swarm)\n",
    "    return surfvelxmaxfn.max_global()\n",
    "\n",
    "def gravwork(workfn):\n",
    "    return workfn.evaluate()[0]\n",
    "\n",
    "def viscdis(vdissfn):\n",
    "    return vdissfn.evaluate()[0]\n",
    "\n",
    "def visc_extr(viscfn):\n",
    "    vuviscfn = fn.view.min_max(viscfn)\n",
    "    vuviscfn.evaluate(mesh)\n",
    "    return vuviscfn.max_global(), vuviscfn.min_global()"
   ]
  },
  {
   "cell_type": "code",
   "execution_count": 246,
   "metadata": {
    "collapsed": false
   },
   "outputs": [],
   "source": [
    "#Fields for saving data / fields\n",
    "\n",
    "rmsField = uw.mesh.MeshVariable( mesh=mesh,   nodeDofCount=1)\n",
    "rmsfn = fn.math.sqrt(fn.math.dot(velocityField,velocityField))\n",
    "rmsdata = rmsfn.evaluate(mesh)\n",
    "rmsField.data[:] = rmsdata \n",
    "\n",
    "viscField = uw.mesh.MeshVariable( mesh=mesh,   nodeDofCount=1)\n",
    "viscdata = mantleviscosityFn.evaluate(mesh)\n",
    "viscField.data[:] = viscdata\n",
    "\n",
    "\n",
    "strainrateField = uw.mesh.MeshVariable( mesh=mesh,   nodeDofCount=1)\n",
    "srtdata = fn.tensor.second_invariant( \n",
    "                    fn.tensor.symmetric( \n",
    "                        velocityField.fn_gradient ))\n",
    "rostfield = srtdata.evaluate(mesh)\n",
    "strainrateField.data[:] = rostfield\n",
    "\n",
    "viscVariable = gSwarm.add_variable( dataType=\"float\", count=1 )\n",
    "viscVariable.data[:] = viscosityMapFn.evaluate(gSwarm)"
   ]
  },
  {
   "cell_type": "code",
   "execution_count": 247,
   "metadata": {
    "collapsed": false
   },
   "outputs": [],
   "source": [
    "#Images\n",
    "figEta = glucifer.Figure()\n",
    "figEta.append( glucifer.objects.Points(gSwarm,viscVariable, logScale=True))\n",
    "\n",
    "\n",
    "figMat = glucifer.Figure()\n",
    "figMat.append( glucifer.objects.Points(gSwarm,materialVariable, colours='brown white blue red'))\n",
    "figMat.append( glucifer.objects.Mesh(mesh))\n",
    "\n",
    "\n",
    "figStrainRate = glucifer.Figure()\n",
    "figStrainRate.append( glucifer.objects.Surface(mesh, strainRate_2ndInvariant, logScale=True))\n",
    "\n",
    "\n",
    "figVelocityMag = glucifer.Figure()\n",
    "figVelocityMag.append( glucifer.objects.Surface(mesh, fn.math.dot(velocityField,velocityField))\n",
    ")\n",
    "figTemp = glucifer.Figure()\n",
    "figTemp.append( glucifer.objects.Surface(mesh, temperatureField))\n",
    "\n",
    "\n",
    "\n",
    "#Pack some stuff into a database as well\n",
    "figDb = glucifer.Figure()\n",
    "figDb.append( glucifer.objects.Points(gSwarm,viscVariable, logScale=True, colours='brown white blue'))\n",
    "figDb.append( glucifer.objects.Points(gSwarm,materialVariable, colours='brown white blue red'))\n",
    "figDb.append( glucifer.objects.Mesh(mesh))\n",
    "figDb.append( glucifer.objects.VectorArrows(mesh,velocityField, arrowHead=0.2, scaling=0.002))\n",
    "figDb.append( glucifer.objects.Surface(mesh, strainRate_2ndInvariant, logScale=True, colours='brown white blue'))"
   ]
  },
  {
   "cell_type": "markdown",
   "metadata": {},
   "source": [
    "Main simulation loop\n",
    "=======\n",
    "\n",
    "The main time stepping loop begins here. Before this the time and timestep are initialised to zero and the output statistics arrays are set up. Also the frequency of outputting basic statistics to the screen is set in steps_output.\n"
   ]
  },
  {
   "cell_type": "code",
   "execution_count": 248,
   "metadata": {
    "collapsed": true
   },
   "outputs": [],
   "source": [
    "pics = uw.swarm.PICIntegrationSwarm(gSwarm)"
   ]
  },
  {
   "cell_type": "code",
   "execution_count": 249,
   "metadata": {
    "collapsed": false
   },
   "outputs": [],
   "source": [
    "def checkpoint1(step, checkpointPath,filename, filewrites):\n",
    "    path = checkpointPath + str(step) \n",
    "    os.mkdir(path)\n",
    "    ##Write and save the file, if not already a writing step\n",
    "    if not step % filewrites == 0:\n",
    "        filename.write((13*'%-15s ' + '\\n') % (realtime, Viscdis, float(Nu0glob), float(Nu1glob), Avg_temp, \n",
    "                                              Rms,Rmsurfglob,Max_vx_surf,Gravwork, etamax, etamin, Viscdisair, Viscdislith))\n",
    "    filename.close()\n",
    "    shutil.copyfile(os.path.join(outputPath, outputFile), os.path.join(path, outputFile))\n",
    "\n",
    "\n",
    "def checkpoint2(step, checkpointPath, swarm, filename, varlist = [materialVariable], varnames = ['materialVariable']):\n",
    "    path = checkpointPath + str(step) \n",
    "    velfile = \"velocityField\" + \".hdf5\"\n",
    "    tempfile = \"temperatureField\" + \".hdf5\"\n",
    "    pressfile = \"pressureField\" + \".hdf5\"\n",
    "    velocityField.save(os.path.join(path, velfile))\n",
    "    temperatureField.save(os.path.join(path, tempfile))\n",
    "    pressureField.save(os.path.join(path, pressfile))\n",
    "    swarm.save(os.path.join(path, \"swarm.h5\") ) \n",
    "    for ix in range(len(varlist)):\n",
    "        varb = varlist[ix]\n",
    "        varb.save(os.path.join(path,varnames[ix] + \".h5\"))\n",
    "    "
   ]
  },
  {
   "cell_type": "code",
   "execution_count": 250,
   "metadata": {
    "collapsed": false
   },
   "outputs": [
    {
     "data": {
      "text/plain": [
       "(2.5495327996913645e-05, 1.274826008746458e-05)"
      ]
     },
     "execution_count": 250,
     "metadata": {},
     "output_type": "execute_result"
    }
   ],
   "source": [
    "advector.get_max_dt(), advDiff.get_max_dt()"
   ]
  },
  {
   "cell_type": "code",
   "execution_count": null,
   "metadata": {
    "collapsed": false
   },
   "outputs": [],
   "source": [
    "# initialise timer for computation\n",
    "start = time.clock()\n",
    "# setup summary output file (name above)\n",
    "if checkpointLoad:\n",
    "    if uw.rank() == 0:\n",
    "        shutil.copyfile(os.path.join(checkpointLoadDir, outputFile), outputPath+outputFile)\n",
    "    comm.Barrier()\n",
    "    f_o = open(os.path.join(outputPath, outputFile), 'a')\n",
    "    prevdata = np.genfromtxt(os.path.join(outputPath, outputFile), skip_header=0, skip_footer=0)\n",
    "    if len(prevdata.shape) == 1: #this is in case there is only one line in previous file\n",
    "        realtime = prevdata[0]\n",
    "    else:\n",
    "        realtime = prevdata[prevdata.shape[0]-1, 0]\n",
    "    step = int(checkpointLoadDir.split('/')[-1])\n",
    "    timevals = [0.]\n",
    "else:\n",
    "    f_o = open(outputPath+outputFile, 'w')\n",
    "    realtime = 0.\n",
    "    step = 0\n",
    "    timevals = [0.]"
   ]
  },
  {
   "cell_type": "code",
   "execution_count": null,
   "metadata": {
    "collapsed": false
   },
   "outputs": [
    {
     "name": "stdout",
     "output_type": "stream",
     "text": [
      "0\n",
      "1\n",
      "2\n",
      "3\n",
      "4\n",
      "5\n",
      "6\n",
      "7\n",
      "8\n",
      "9\n",
      "10\n",
      "11\n",
      "12\n",
      "13\n",
      "14\n",
      "15\n",
      "16\n",
      "17\n",
      "18\n",
      "19\n",
      "20\n",
      "21\n",
      "22\n",
      "23\n",
      "24\n",
      "25\n",
      "26\n",
      "27\n",
      "28\n",
      "29\n",
      "30\n",
      "31\n",
      "32\n",
      "33\n",
      "34\n",
      "35\n",
      "36\n",
      "37\n",
      "38\n",
      "39\n",
      "40\n",
      "41\n",
      "42\n",
      "43\n",
      "44\n",
      "45\n",
      "46\n",
      "47\n",
      "48\n",
      "49\n",
      "50\n",
      "51\n",
      "52\n",
      "53\n",
      "54\n",
      "55\n",
      "56\n",
      "57\n",
      "58\n",
      "59\n",
      "60\n",
      "61\n",
      "62\n",
      "63\n",
      "64\n",
      "65\n",
      "66\n",
      "67\n",
      "68\n",
      "69\n",
      "70\n",
      "71\n",
      "72\n",
      "73\n",
      "74\n",
      "75\n",
      "76\n",
      "77\n",
      "78\n",
      "79\n",
      "80\n",
      "81\n",
      "82\n",
      "83\n",
      "84\n",
      "85\n",
      "86\n",
      "87\n",
      "88\n",
      "89\n",
      "90\n",
      "91\n",
      "92\n",
      "93\n",
      "94\n",
      "95\n",
      "96\n",
      "97\n",
      "98\n",
      "99\n",
      "100\n",
      "101\n",
      "102\n",
      "103\n",
      "104\n",
      "105\n",
      "106\n",
      "107\n",
      "108\n",
      "109\n",
      "110\n",
      "111\n",
      "112\n",
      "113\n",
      "114\n",
      "115\n",
      "116\n",
      "117\n",
      "118\n",
      "119\n",
      "120\n",
      "121\n",
      "122\n",
      "123\n",
      "124\n",
      "125\n",
      "126\n",
      "127\n",
      "128\n",
      "129\n",
      "130\n",
      "131\n",
      "132\n",
      "133\n",
      "134\n",
      "135\n",
      "136\n",
      "137\n",
      "138\n",
      "139\n",
      "140\n",
      "141\n",
      "142\n",
      "143\n",
      "144\n",
      "145\n",
      "146\n",
      "147\n",
      "148\n",
      "149\n",
      "150\n",
      "151\n",
      "152\n",
      "153\n",
      "154\n",
      "155\n",
      "156\n",
      "157\n",
      "158\n",
      "159\n",
      "160\n",
      "161\n",
      "162\n",
      "163\n",
      "164\n",
      "165\n",
      "166\n",
      "167\n",
      "168\n",
      "169\n",
      "170\n",
      "171\n",
      "172\n",
      "173\n",
      "174\n",
      "175\n",
      "176\n",
      "177\n",
      "178\n",
      "179\n",
      "180\n",
      "181\n",
      "182\n",
      "183\n",
      "184\n",
      "185\n",
      "186\n",
      "187\n",
      "188\n",
      "189\n",
      "190\n",
      "191\n",
      "192\n",
      "193\n",
      "194\n",
      "195\n",
      "196\n",
      "197\n",
      "198\n",
      "199\n",
      "200\n",
      "201\n",
      "202\n",
      "203\n",
      "204\n",
      "205\n",
      "206\n",
      "207\n",
      "208\n",
      "209\n",
      "210\n",
      "211\n",
      "212\n",
      "213\n",
      "214\n",
      "215\n",
      "216\n",
      "217\n",
      "218\n",
      "219\n",
      "220\n",
      "221\n",
      "222\n",
      "223\n",
      "224\n",
      "225\n",
      "226\n",
      "227\n",
      "228\n",
      "229\n",
      "230\n",
      "231\n",
      "232\n",
      "233\n",
      "234\n",
      "235\n",
      "236\n",
      "237\n",
      "238\n",
      "239\n",
      "240\n",
      "241\n",
      "242\n",
      "243\n",
      "244\n",
      "245\n",
      "246\n",
      "247\n",
      "248\n",
      "249\n",
      "250\n",
      "251\n",
      "252\n",
      "253\n",
      "254\n",
      "255\n",
      "256\n",
      "257\n",
      "258\n",
      "259\n",
      "260\n",
      "261\n",
      "262\n",
      "263\n",
      "264\n",
      "265\n",
      "266\n",
      "267\n",
      "268\n",
      "269\n",
      "270\n",
      "271\n",
      "272\n",
      "273\n",
      "274\n",
      "275\n",
      "276\n",
      "277\n",
      "278\n",
      "279\n",
      "280\n",
      "281\n",
      "282\n",
      "283\n",
      "284\n",
      "285\n",
      "286\n",
      "287\n",
      "288\n",
      "289\n",
      "290\n",
      "291\n",
      "292\n",
      "293\n",
      "294\n",
      "295\n",
      "296\n",
      "297\n",
      "298\n",
      "299\n",
      "300\n",
      "301\n",
      "302\n",
      "303\n",
      "304\n",
      "305\n",
      "306\n",
      "307\n",
      "308\n",
      "309\n",
      "310\n",
      "311\n",
      "312\n",
      "313\n",
      "314\n",
      "315\n",
      "316\n",
      "317\n",
      "318\n",
      "319\n",
      "320\n",
      "321\n",
      "322\n",
      "323\n",
      "324\n",
      "325\n",
      "326\n",
      "327\n",
      "328\n",
      "329\n",
      "330\n",
      "331\n",
      "332\n",
      "333\n",
      "334\n",
      "335\n",
      "336\n",
      "337\n",
      "338\n",
      "339\n",
      "340\n",
      "341\n",
      "342\n",
      "343\n",
      "344\n",
      "345\n",
      "346\n",
      "347\n",
      "348\n",
      "349\n",
      "350\n",
      "351\n",
      "352\n",
      "353\n",
      "354\n",
      "355\n",
      "356\n",
      "357\n",
      "358\n",
      "359\n",
      "360\n",
      "361\n",
      "362\n",
      "363\n",
      "364\n",
      "365\n",
      "366\n",
      "367\n",
      "368\n",
      "369\n",
      "370\n",
      "371\n",
      "372\n",
      "373\n",
      "374\n",
      "375\n",
      "376\n",
      "377\n",
      "378\n",
      "379\n",
      "380\n",
      "381\n",
      "382\n",
      "383\n",
      "384\n",
      "385\n",
      "386\n",
      "387\n",
      "388\n",
      "389\n",
      "390\n",
      "391\n",
      "392\n",
      "393\n",
      "394\n",
      "395\n",
      "396\n",
      "397\n",
      "398\n",
      "399\n",
      "400\n",
      "401\n",
      "402\n",
      "403\n",
      "404\n",
      "405\n",
      "406\n",
      "407\n",
      "408\n",
      "409\n",
      "410\n",
      "411\n",
      "412\n",
      "413\n",
      "414\n",
      "415\n",
      "416\n",
      "417\n",
      "418\n",
      "419\n",
      "420\n",
      "421\n",
      "422\n",
      "423\n",
      "424\n",
      "425\n",
      "426\n",
      "427\n",
      "428\n",
      "429\n",
      "430\n",
      "431\n",
      "432\n",
      "433\n",
      "434\n",
      "435\n",
      "436\n",
      "437\n",
      "438\n",
      "439\n",
      "440\n",
      "441\n",
      "442\n",
      "443\n",
      "444\n",
      "445\n",
      "446\n",
      "447\n",
      "448\n",
      "449\n",
      "450\n",
      "451\n",
      "452\n",
      "453\n",
      "454\n",
      "455\n",
      "456\n",
      "457\n",
      "458\n",
      "459\n",
      "460\n",
      "461\n",
      "462\n",
      "463\n",
      "464\n",
      "465\n",
      "466\n",
      "467\n",
      "468\n",
      "469\n",
      "470\n",
      "471\n",
      "472\n",
      "473\n",
      "474\n",
      "475\n",
      "476\n",
      "477\n",
      "478\n",
      "479\n",
      "480\n",
      "481\n",
      "482\n",
      "483\n",
      "484\n",
      "485\n",
      "486\n",
      "487\n",
      "488\n",
      "489\n",
      "490\n",
      "491\n",
      "492\n",
      "493\n",
      "494\n",
      "495\n",
      "496\n",
      "497\n",
      "498\n",
      "499\n",
      "500\n",
      "501\n",
      "502\n",
      "503\n",
      "504\n",
      "505\n",
      "506\n",
      "507\n",
      "508\n",
      "509\n",
      "510\n",
      "511\n",
      "512\n",
      "513\n",
      "514\n",
      "515\n",
      "516\n",
      "517\n",
      "518\n",
      "519\n",
      "520\n",
      "521\n",
      "522\n",
      "523\n",
      "524\n",
      "525\n",
      "526\n",
      "527\n",
      "528\n",
      "529\n",
      "530\n",
      "531\n",
      "532\n",
      "533\n",
      "534\n",
      "535\n",
      "536\n",
      "537\n",
      "538\n",
      "539\n",
      "540\n",
      "541\n",
      "542\n",
      "543\n",
      "544\n",
      "545\n",
      "546\n",
      "547\n",
      "548\n",
      "549\n",
      "550\n",
      "551\n",
      "552\n",
      "553\n",
      "554\n",
      "555\n",
      "556\n",
      "557\n",
      "558\n",
      "559\n",
      "560\n",
      "561\n",
      "562\n",
      "563\n",
      "564\n",
      "565\n",
      "566\n",
      "567\n",
      "568\n",
      "569\n",
      "570\n",
      "571\n",
      "572\n",
      "573\n",
      "574\n",
      "575\n",
      "576\n",
      "577\n",
      "578\n",
      "579\n",
      "580\n",
      "581\n",
      "582\n",
      "583\n",
      "584\n",
      "585\n",
      "586\n",
      "587\n",
      "588\n",
      "589\n",
      "590\n",
      "591\n",
      "592\n",
      "593\n",
      "594\n",
      "595\n",
      "596\n",
      "597\n",
      "598\n",
      "599\n",
      "600\n",
      "601\n",
      "602\n",
      "603\n",
      "604\n",
      "605\n",
      "606\n",
      "607\n",
      "608\n",
      "609\n",
      "610\n",
      "611\n",
      "612\n",
      "613\n",
      "614\n",
      "615\n",
      "616\n",
      "617\n",
      "618\n",
      "619\n",
      "620\n",
      "621\n",
      "622\n",
      "623\n",
      "624\n",
      "625\n",
      "626\n",
      "627\n",
      "628\n",
      "629\n",
      "630\n",
      "631\n",
      "632\n",
      "633\n",
      "634\n",
      "635\n",
      "636\n",
      "637\n",
      "638\n",
      "639\n",
      "640\n",
      "641\n",
      "642\n",
      "643\n",
      "644\n",
      "645\n",
      "646\n",
      "647\n",
      "648\n",
      "649\n",
      "650\n",
      "651\n",
      "652\n",
      "653\n",
      "654\n",
      "655\n",
      "656\n",
      "657\n",
      "658\n",
      "659\n",
      "660\n",
      "661\n",
      "662\n",
      "663\n",
      "664\n",
      "665\n",
      "666\n",
      "667\n",
      "668\n",
      "669\n",
      "670\n",
      "671\n",
      "672\n",
      "673\n",
      "674\n",
      "675\n",
      "676\n",
      "677\n",
      "678\n",
      "679\n",
      "680\n",
      "681\n",
      "682\n",
      "683\n",
      "684\n",
      "685\n",
      "686\n",
      "687\n",
      "688\n",
      "689\n",
      "690\n",
      "691\n",
      "692\n",
      "693\n",
      "694\n",
      "695\n",
      "696\n",
      "697\n",
      "698\n",
      "699\n",
      "700\n",
      "701\n",
      "702\n",
      "703\n",
      "704\n",
      "705\n",
      "706\n",
      "707\n",
      "708\n",
      "709\n",
      "710\n",
      "711\n",
      "712\n",
      "713\n",
      "714\n",
      "715\n",
      "716\n",
      "717\n",
      "718\n",
      "719\n",
      "720\n",
      "721\n",
      "722\n",
      "723\n",
      "724\n",
      "725\n",
      "726\n",
      "727\n",
      "728\n",
      "729\n",
      "730\n",
      "731\n",
      "732\n",
      "733\n",
      "734\n",
      "735\n",
      "736\n",
      "737\n",
      "738\n",
      "739\n",
      "740\n",
      "741\n",
      "742\n",
      "743\n",
      "744\n",
      "745\n",
      "746\n",
      "747\n",
      "748\n",
      "749\n",
      "750\n",
      "751\n",
      "752\n",
      "753\n",
      "754\n",
      "755\n",
      "756\n",
      "757\n",
      "758\n",
      "759\n",
      "760\n",
      "761\n",
      "762\n",
      "763\n",
      "764\n",
      "765\n",
      "766\n",
      "767\n",
      "768\n",
      "769\n",
      "770\n",
      "771\n",
      "772\n",
      "773\n",
      "774\n",
      "775\n",
      "776\n",
      "777\n",
      "778\n",
      "779\n",
      "780\n",
      "781\n",
      "782\n",
      "783\n",
      "784\n",
      "785\n",
      "786\n",
      "787\n",
      "788\n",
      "789\n",
      "790\n",
      "791\n",
      "792\n",
      "793\n",
      "794\n",
      "795\n",
      "796\n",
      "797\n",
      "798\n",
      "799\n",
      "800\n",
      "801\n",
      "802\n",
      "803\n",
      "804\n",
      "805\n",
      "806\n",
      "807\n",
      "808\n",
      "809\n",
      "810\n",
      "811\n",
      "812\n",
      "813\n",
      "814\n",
      "815\n",
      "816\n",
      "817\n",
      "818\n",
      "819\n",
      "820\n",
      "821\n",
      "822\n",
      "823\n",
      "824\n",
      "825\n",
      "826\n",
      "827\n",
      "828\n",
      "829\n",
      "830\n",
      "831\n",
      "832\n",
      "833\n",
      "834\n",
      "835\n",
      "836\n",
      "837\n",
      "838\n",
      "839\n",
      "840\n",
      "841\n",
      "842\n",
      "843\n",
      "844\n",
      "845\n",
      "846\n",
      "847\n",
      "848\n",
      "849\n",
      "850\n",
      "851\n",
      "852\n",
      "853\n",
      "854\n",
      "855\n",
      "856"
     ]
    }
   ],
   "source": [
    "# initialise timer for computation\n",
    "startMain = time.clock()\n",
    "# Perform steps\n",
    "while realtime < 0.05:\n",
    "#while step < 5:\n",
    "    #Enter non-linear loop\n",
    "    print step\n",
    "    solver.solve(nonLinearIterate=True)\n",
    "    dt = advDiff.get_max_dt()\n",
    "    if step == 0:\n",
    "        dt = 0.\n",
    "    #start = time.clock()\n",
    "    advDiff.integrate(dt)\n",
    "    #machine_time = (time.clock()-start)\n",
    "    #print(\"total advDiff time is: \" + str(machine_time))\n",
    "    # Advect swarm using this timestep size\n",
    "    #start = time.clock()\n",
    "    advector.integrate(dt)\n",
    "    #machine_time = (time.clock()-start)\n",
    "    #print(\"total advector time is: \" + str(machine_time))\n",
    "    # Increment\n",
    "    realtime += dt\n",
    "    step += 1\n",
    "    timevals.append(realtime)\n",
    "    \n",
    "    ################\n",
    "    #Update temperature field in the air region\n",
    "    ################\n",
    "    if (step % sticky_air_temp == 0):\n",
    "        for index, coord in enumerate(mesh.data):\n",
    "            if coord[1] >= 1.:\n",
    "                temperatureField.data[index] = 0.\n",
    " \n",
    "    ################\n",
    "    #Particle update\n",
    "    ###############\n",
    "    if (step % swarm_update == 0) or (step % metric_output == 0): #These updates should be done before any metric output\n",
    "        #These swarm variables get updated first, as they are used to determine material changes\n",
    "        particledepths = 1. - gSwarm.particleCoordinates.data[:,1]\n",
    "        particletemps = temperatureField.evaluate(gSwarm)[:,0]\n",
    "        conditionmap['depthcondition']['data'] = particledepths\n",
    "        conditionmap['avgtempcondition']['data'] = particletemps\n",
    "        ################\n",
    "        number_updated = 0\n",
    "        for particleID in range(gSwarm.particleCoordinates.data.shape[0]):\n",
    "            check = update_swarm(DG, particleID)\n",
    "            if check > -1:\n",
    "                number_updated += 1\n",
    "                #if check == 0:\n",
    "                #    print \"from \" + str(materialVariable.data[particleID]) + \" to \" + str(check)\n",
    "                materialVariable.data[particleID] = check\n",
    "            else:\n",
    "                pass\n",
    "        #Also update those integration swarms\n",
    "        rockIntVar.data[:] = 0.\n",
    "        notair = np.where(materialVariable.data != airIndex)\n",
    "        rockIntVar.data[notair] = 1.\n",
    "        airIntVar.data[:] = 0.\n",
    "        notrock = np.where(materialVariable.data == airIndex)\n",
    "        airIntVar.data[notrock] = 1.\n",
    "        lithIntVar.data[:] = 0.\n",
    "        islith = np.where((materialVariable.data == lithosphereIndex) | (materialVariable.data == crustIndex))\n",
    "        lithIntVar.data[islith] = 1.\n",
    "\n",
    "    ################            \n",
    "    # Calculate the Metrics, only on 1 of the processors:\n",
    "    ################\n",
    "    if (step % metric_output == 0):\n",
    "        tempVariable.data[:] = temperatureField.evaluate(gSwarm)[:]\n",
    "        Avg_temp = avg_temp()\n",
    "        Rms = rms()\n",
    "        Max_vx_surf = max_vx_surf(velocityField, surfintswarm)\n",
    "        Gravwork = gravwork(dwint)\n",
    "        Viscdis = viscdis(vdint)\n",
    "        Viscdisair = viscdis(vdintair)\n",
    "        Viscdislith = viscdis(vdintlith)\n",
    "        etamax, etamin = visc_extr(mantleviscosityFn)\n",
    "        #These are the ones that need mpi4py treatment\n",
    "        Nu0loc = nusselt(temperatureField, baseintswarm, dx)\n",
    "        Nu1loc = nusselt(temperatureField, surfintswarm, dx)\n",
    "        Rmsurfloc = rms_surf(surfintswarm, dx)\n",
    "        #Setup the global output arrays\n",
    "        dTp = Nu0loc.dtype\n",
    "        Nu0glob = np.array(0, dtype=dTp)\n",
    "        dTp = Nu1loc.dtype\n",
    "        Nu1glob = np.array(0, dtype=dTp)\n",
    "        dTp = Rmsurfloc.dtype\n",
    "        Rmsurfglob = np.array(0, dtype=dTp)\n",
    "        #Do global sum\n",
    "        comm.Allreduce(Nu0loc, Nu0glob, op=MPI.SUM)\n",
    "        comm.Allreduce(Nu1loc, Nu1glob, op=MPI.SUM)\n",
    "        comm.Allreduce(Rmsurfloc, Rmsurfglob, op=MPI.SUM)\n",
    "        # output to summary text file\n",
    "        if uw.rank()==0:\n",
    "            f_o.write((13*'%-15s ' + '\\n') % (realtime, Viscdis, float(Nu0glob), float(Nu1glob), Avg_temp, \n",
    "                                              Rms,Rmsurfglob,Max_vx_surf,Gravwork, etamax, etamin, Viscdisair, Viscdislith))\n",
    "    ################\n",
    "    #Gldb output\n",
    "    ################ \n",
    "    if (step % gldbs_output == 0) & (writeFiles == True):\n",
    "        #Rebuild any necessary swarm variables\n",
    "        viscVariable.data[:] = viscosityMapFn.evaluate(gSwarm)\n",
    "        #Write gldbs\n",
    "        fnamedb = \"dbFig\" + \"_\" + str(ModIt) + \"_\" + str(step) + \".gldb\"\n",
    "        fullpath = os.path.join(outputPath + \"gldbs/\" + fnamedb)\n",
    "        figDb.show()\n",
    "        figDb.save_database(fullpath)\n",
    "    ################\n",
    "    #Also repopulate entire swarm periodically\n",
    "    ################\n",
    "    if step % swarm_repop == 0:\n",
    "        pics.repopulate()\n",
    "    ################\n",
    "    #Checkpoint\n",
    "    ################\n",
    "    if step % checkpoint_every == 0:\n",
    "        if uw.rank() == 0:\n",
    "            checkpoint1(step, checkpointPath,f_o, metric_output)           \n",
    "        checkpoint2(step, checkpointPath, gSwarm, f_o, varlist = varlist, varnames = varnames)\n",
    "        f_o = open(os.path.join(outputPath, outputFile), 'a') #is this line supposed to be here?\n",
    "\n",
    "        \n",
    "        \n",
    "f_o.close()\n",
    "#print 'step =',step, '; dt =', dt, '; CPU time =', time.clock()-startMain"
   ]
  },
  {
   "cell_type": "code",
   "execution_count": null,
   "metadata": {
    "collapsed": false
   },
   "outputs": [],
   "source": [
    "viscVariable = gSwarm.add_variable( dataType=\"float\", count=1 )\n",
    "viscVariable.data[:] = viscosityMapFn.evaluate(gSwarm)\n",
    "figEta = glucifer.Figure(figsize=(1024,384))\n",
    "figEta.append( glucifer.objects.Points(gSwarm,viscVariable, logScale=True))\n",
    "figEta.append( glucifer.objects.Mesh(mesh))\n",
    "figEta.show()\n",
    "figEta.save_database('test.gldb')"
   ]
  },
  {
   "cell_type": "code",
   "execution_count": 24,
   "metadata": {
    "collapsed": false
   },
   "outputs": [
    {
     "data": {
      "text/html": [
       "<img src='data:image/png;base64,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'>"
      ],
      "text/plain": [
       "<IPython.core.display.HTML object>"
      ]
     },
     "execution_count": 24,
     "metadata": {},
     "output_type": "execute_result"
    }
   ],
   "source": [
    "figTemp = glucifer.Figure()\n",
    "figTemp.append( glucifer.objects.Surface(mesh, temperatureField))\n",
    "figTemp.append( glucifer.objects.Mesh(mesh))\n",
    "\n",
    "#figTemp.append( glucifer.objects.VectorArrows(mesh,velocityField, arrowHead=0.2, scaling=0.005))\n",
    "figTemp.save_database('test.gldb')\n",
    "figTemp.show()"
   ]
  },
  {
   "cell_type": "code",
   "execution_count": 51,
   "metadata": {
    "collapsed": false
   },
   "outputs": [
    {
     "data": {
      "text/html": [
       "<img src='data:image/png;base64,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'>"
      ],
      "text/plain": [
       "<IPython.core.display.HTML object>"
      ]
     },
     "execution_count": 51,
     "metadata": {},
     "output_type": "execute_result"
    }
   ],
   "source": [
    "figVelocityMag = glucifer.Figure(figsize=(1024,384))\n",
    "figVelocityMag.append( glucifer.objects.Surface(mesh, fn.math.dot(velocityField,velocityField) ))\n",
    "figVelocityMag.show()"
   ]
  },
  {
   "cell_type": "code",
   "execution_count": 52,
   "metadata": {
    "collapsed": false
   },
   "outputs": [
    {
     "data": {
      "text/html": [
       "<img src='data:image/png;base64,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'>"
      ],
      "text/plain": [
       "<IPython.core.display.HTML object>"
      ]
     },
     "execution_count": 52,
     "metadata": {},
     "output_type": "execute_result"
    }
   ],
   "source": [
    "figVelocityMag = glucifer.Figure(figsize=(1024,384))\n",
    "figVelocityMag.append( glucifer.objects.Surface(mesh, pressureField, logScale=True, valueRange=[1e-15,5e-8]) )\n",
    "figVelocityMag.show()"
   ]
  },
  {
   "cell_type": "code",
   "execution_count": 42,
   "metadata": {
    "collapsed": false
   },
   "outputs": [],
   "source": [
    "figSwarm = glucifer.Figure(figsize=(1024,384))\n",
    "figSwarm.append( glucifer.objects.Points(gSwarm,materialVariable, colours='brown white blue red'))\n",
    "figSwarm.append( glucifer.objects.Mesh(mesh))\n",
    "figSwarm.show()\n",
    "figSwarm.save_database('test.gldb')"
   ]
  },
  {
   "cell_type": "code",
   "execution_count": 53,
   "metadata": {
    "collapsed": false
   },
   "outputs": [
    {
     "ename": "NameError",
     "evalue": "name 'start' is not defined",
     "output_type": "error",
     "traceback": [
      "\u001b[0;31m---------------------------------------------------------------------------\u001b[0m",
      "\u001b[0;31mNameError\u001b[0m                                 Traceback (most recent call last)",
      "\u001b[0;32m<ipython-input-53-dc3c2f2e7c24>\u001b[0m in \u001b[0;36m<module>\u001b[0;34m()\u001b[0m\n\u001b[0;32m----> 1\u001b[0;31m \u001b[0mmachine_time\u001b[0m \u001b[0;34m=\u001b[0m \u001b[0;34m(\u001b[0m\u001b[0mtime\u001b[0m\u001b[0;34m.\u001b[0m\u001b[0mclock\u001b[0m\u001b[0;34m(\u001b[0m\u001b[0;34m)\u001b[0m\u001b[0;34m-\u001b[0m\u001b[0mstart\u001b[0m\u001b[0;34m)\u001b[0m\u001b[0;34m\u001b[0m\u001b[0m\n\u001b[0m\u001b[1;32m      2\u001b[0m \u001b[0;32mprint\u001b[0m\u001b[0;34m(\u001b[0m\u001b[0;34m\"total time is: \"\u001b[0m \u001b[0;34m+\u001b[0m \u001b[0mstr\u001b[0m\u001b[0;34m(\u001b[0m\u001b[0mmachine_time\u001b[0m\u001b[0;34m)\u001b[0m\u001b[0;34m)\u001b[0m\u001b[0;34m\u001b[0m\u001b[0m\n",
      "\u001b[0;31mNameError\u001b[0m: name 'start' is not defined"
     ]
    }
   ],
   "source": [
    "machine_time = (time.clock()-start)\n",
    "print(\"total time is: \" + str(machine_time))"
   ]
  },
  {
   "cell_type": "code",
   "execution_count": 54,
   "metadata": {
    "collapsed": false
   },
   "outputs": [
    {
     "data": {
      "text/plain": [
       "1100.5338620296968"
      ]
     },
     "execution_count": 54,
     "metadata": {},
     "output_type": "execute_result"
    }
   ],
   "source": [
    "#Sanity check for periodic conditions\n",
    "velocityField.evaluate(TWalls)[:,0].max()"
   ]
  },
  {
   "cell_type": "code",
   "execution_count": 31,
   "metadata": {
    "collapsed": false
   },
   "outputs": [
    {
     "name": "stdout",
     "output_type": "stream",
     "text": [
      "TWalls x vel is: 3.17721915245\n",
      "IWalls x vel is: -0.143166437745\n"
     ]
    }
   ],
   "source": [
    "print(\"TWalls x vel is: \" + str(velocityField.evaluate(TWalls)[:,0].max()))\n",
    "print(\"IWalls x vel is: \" + str(velocityField.evaluate(IWalls)[:,0].max()))\n"
   ]
  },
  {
   "cell_type": "code",
   "execution_count": null,
   "metadata": {
    "collapsed": true
   },
   "outputs": [],
   "source": [
    "ts = ((D*1e3)**2)/k\n",
    "secperyear = (3600*24*365)\n",
    "dt*ts/secperyear\n",
    "\n",
    "#2.25895987733e-05*ts/secperyear"
   ]
  }
 ],
 "metadata": {
  "kernelspec": {
   "display_name": "Python 2",
   "language": "python",
   "name": "python2"
  },
  "language_info": {
   "codemirror_mode": {
    "name": "ipython",
    "version": 2
   },
   "file_extension": ".py",
   "mimetype": "text/x-python",
   "name": "python",
   "nbconvert_exporter": "python",
   "pygments_lexer": "ipython2",
   "version": "2.7.11"
  }
 },
 "nbformat": 4,
 "nbformat_minor": 0
}
