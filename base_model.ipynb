{
 "cells": [
  {
   "cell_type": "markdown",
   "metadata": {
    "collapsed": true
   },
   "source": [
    "Crameri-Tackley model\n",
    "=======\n",
    "\n",
    "From Cramer and Tackley 2015\n",
    "--------\n",
    "\n"
   ]
  },
  {
   "cell_type": "markdown",
   "metadata": {
    "collapsed": true
   },
   "source": [
    "\n",
    "\n",
    "\n",
    "References\n",
    "====\n",
    "\n",
    "\n"
   ]
  },
  {
   "cell_type": "markdown",
   "metadata": {},
   "source": [
    "Load python functions needed for underworld. Some additional python functions from os, math and numpy used later on."
   ]
  },
  {
   "cell_type": "code",
   "execution_count": 1,
   "metadata": {
    "collapsed": false
   },
   "outputs": [
    {
     "name": "stderr",
     "output_type": "stream",
     "text": [
      "Vendor:  Continuum Analytics, Inc.\n",
      "Package: mkl\n",
      "Message: trial mode expires in 22 days\n"
     ]
    }
   ],
   "source": [
    "import underworld as uw\n",
    "import math\n",
    "from underworld import function as fn\n",
    "import glucifer\n",
    "#import matplotlib.pyplot as pyplot\n",
    "import time\n",
    "import numpy as np\n",
    "import os\n",
    "import sys\n",
    "import natsort\n",
    "import shutil\n",
    "from easydict import EasyDict as edict\n",
    "import collections\n",
    "\n",
    "from mpi4py import MPI\n",
    "comm = MPI.COMM_WORLD\n",
    "rank = comm.Get_rank()"
   ]
  },
  {
   "cell_type": "code",
   "execution_count": 2,
   "metadata": {
    "collapsed": false
   },
   "outputs": [
    {
     "name": "stdout",
     "output_type": "stream",
     "text": [
      "/Users/dansandiford/Documents/programming/earthsci_code/python/crustyconvection\r\n",
      "analysis.ipynb     \u001b[1m\u001b[34mcheckpoint\u001b[m\u001b[m         \u001b[1m\u001b[34mresults\u001b[m\u001b[m            test.gldb\r\n",
      "base_model.ipynb   free_surface.ipynb \u001b[1m\u001b[34mstickyairtests\u001b[m\u001b[m     test.py\r\n",
      "base_model.py      raijin_single.pbs  \u001b[1m\u001b[34mtemp_ics\u001b[m\u001b[m\r\n"
     ]
    }
   ],
   "source": [
    "#Display working directory info if in nb mode\n",
    "if (len(sys.argv) > 1):\n",
    "    if (sys.argv[1] == '-f'):\n",
    "        !pwd && ls\n",
    "        "
   ]
  },
  {
   "cell_type": "code",
   "execution_count": 3,
   "metadata": {
    "collapsed": false
   },
   "outputs": [],
   "source": [
    "############\n",
    "#Model name.  \n",
    "############\n",
    "Model = \"R\"\n",
    "ModNum = 4\n",
    "\n",
    "if len(sys.argv) == 1:\n",
    "    ModIt = \"Base\"\n",
    "elif sys.argv[1] == '-f':\n",
    "    ModIt = \"Base\"\n",
    "else:\n",
    "    ModIt = str(sys.argv[1])"
   ]
  },
  {
   "cell_type": "markdown",
   "metadata": {},
   "source": [
    "Set physical constants and parameters, including the Rayleigh number (*RA*). "
   ]
  },
  {
   "cell_type": "code",
   "execution_count": 4,
   "metadata": {
    "collapsed": true
   },
   "outputs": [],
   "source": [
    "###########\n",
    "#Standard output directory setup\n",
    "###########\n",
    "\n",
    "\n",
    "outputPath = \"results\" + \"/\" +  str(Model) + \"/\" + str(ModNum) + \"/\" + str(ModIt) + \"/\"\n",
    "imagePath = outputPath + 'images/'\n",
    "filePath = outputPath + 'files/'\n",
    "checkpointPath = outputPath + 'checkpoint/'\n",
    "dbPath = outputPath + 'gldbs/'\n",
    "outputFile = 'results_model' + Model + '_' + str(ModNum) + '_' + str(ModIt) + '.dat'\n",
    "\n",
    "if uw.rank()==0:\n",
    "    # make directories if they don't exist\n",
    "    if not os.path.isdir(outputPath):\n",
    "        os.makedirs(outputPath)\n",
    "    if not os.path.isdir(checkpointPath):\n",
    "        os.makedirs(checkpointPath)\n",
    "    if not os.path.isdir(imagePath):\n",
    "        os.makedirs(imagePath)\n",
    "    if not os.path.isdir(dbPath):\n",
    "        os.makedirs(dbPath)\n",
    "    if not os.path.isdir(filePath):\n",
    "        os.makedirs(filePath)\n",
    "        \n",
    "comm.Barrier() #Barrier here so not procs run the check in the next cell too early "
   ]
  },
  {
   "cell_type": "code",
   "execution_count": 5,
   "metadata": {
    "collapsed": false
   },
   "outputs": [
    {
     "name": "stdout",
     "output_type": "stream",
     "text": [
      "results/R/4/Base/checkpoint/ is empty\n"
     ]
    }
   ],
   "source": [
    "###########\n",
    "#Check if starting from checkpoint\n",
    "###########\n",
    "\n",
    "checkdirs = []\n",
    "for dirpath, dirnames, files in os.walk(checkpointPath):\n",
    "    if files:\n",
    "        print dirpath, 'has files'\n",
    "        checkpointLoad = True\n",
    "        checkdirs.append(dirpath)\n",
    "    if not files:\n",
    "        print dirpath, 'is empty'\n",
    "        checkpointLoad = False\n",
    "        \n"
   ]
  },
  {
   "cell_type": "code",
   "execution_count": 6,
   "metadata": {
    "collapsed": false
   },
   "outputs": [],
   "source": [
    "###########\n",
    "#Physical parameters\n",
    "###########\n",
    "\n",
    "#The Slippy rheology class will contain dimensional and nondimensional values, linked in a self-consistent way by scaling paramters\n",
    "#lowermantle.nondimensional['cohesion']\n",
    "#Where lowermantle is a material class (generated within a rheology class); and non dimensional is a dictionary\n",
    "\n",
    "#UW naming conventions: \n",
    "#module_name, package_name, ClassName, function_name, method_name, \n",
    "#ExceptionName, propertyName GLOBAL_CONSTANT_NAME, globalVarName, instanceVarName, functionParameterName, localVarName\n",
    "###########\n",
    "\n",
    "\n",
    "#dimensional parameter dictionary\n",
    "dp = edict({'LS':2890.*1e3,\n",
    "           'rho':3300,\n",
    "           'g':9.81, \n",
    "           'eta0':1e23,\n",
    "           'k':10**-6,\n",
    "           'a':1.25*10**-5, \n",
    "           'TS':273.,\n",
    "           'TB':2773.,\n",
    "           'deltaT':2500, \n",
    "           'cohesion':1e7, \n",
    "           'E':240000., \n",
    "           'R':8.314,\n",
    "           'V':6.34*(10**-7) })\n",
    "\n",
    "#non-dimensional parameter dictionary\n",
    "ndp = edict({'RA':1e6, \n",
    "              'LS':1.,\n",
    "              'eta0':1.,\n",
    "              'k':1.,\n",
    "              #'fc':0.1,\n",
    "              'fc':0.07,\n",
    "              'E':11.55,\n",
    "              'V':3.0,\n",
    "              'H':20.,\n",
    "              'TR':(1600./2500.),\n",
    "              'TS':(dp.TS/2500.),\n",
    "              'RD':1.,\n",
    "              'cohesion':1577.})\n",
    "              #'cohesion':5*1577.})\n",
    "\n",
    "\n",
    "#A few parameters defining lengths scales, affects materal transistions etc.\n",
    "MANTLETOCRUST = (18.*1e3)/dp.LS #Crust depth\n",
    "CRUSTTOMANTLE = (300.*1e3)/dp.LS \n",
    "LITHTOMANTLE = (660.*1e3)/dp.LS \n",
    "MANTLETOLITH = (200.*1e3)/dp.LS \n",
    "TOPOHEIGHT = (15.*1e3)/dp.LS  #rock-air topography limits\n",
    "AVGTEMP = 0.53 #Used to define lithosphere\n",
    "\n",
    "\n",
    "#Compositional Rayliegh number of rock-air\n",
    "ETAREF = dp.rho*dp.g*dp.a*dp.deltaT*((dp.LS)**3)/(ndp.RA*dp.k) #equivalent dimensional reference viscosity\n",
    "RC = (3300.*dp.g*(dp.LS)**3)/(ETAREF *dp.k) #Composisitional Rayleigh number for rock-air buoyancy force\n",
    "COMP_RA_FACT = RC/ndp.RA\n",
    "\n",
    "\n",
    "#Additional dimensionless paramters\n",
    "AIRVISCOSITY = 0.001\n",
    "AIRDENSITY = ndp.RA*COMP_RA_FACT\n",
    "\n",
    "\n",
    "#######################To be replaced soon\n",
    "#Physical parameters that can be defined with STDIN,\n",
    "#The == '-f': check is a a hack check to see cover the notebook case\n",
    "if len(sys.argv) == 1:\n",
    "    ndp.cohesion = ndp.cohesion\n",
    "elif sys.argv[1] == '-f':\n",
    "    ndp.cohesion = ndp.cohesion\n",
    "else:\n",
    "    ndp.cohesion = float(sys.argv[1])*newvisc"
   ]
  },
  {
   "cell_type": "code",
   "execution_count": 7,
   "metadata": {
    "collapsed": false
   },
   "outputs": [],
   "source": [
    "###########\n",
    "#Model setup parameters\n",
    "###########\n",
    "\n",
    "stickyAir = False\n",
    "\n",
    "MINX = -1.\n",
    "MINY = 0.\n",
    "MAXX = 1.0\n",
    "\n",
    "#MAXY = 1.035\n",
    "MAXY = 1.\n",
    "\n",
    "if MINX == 0.:\n",
    "    squareModel = True\n",
    "else: \n",
    "    squareModel = False\n",
    "    \n",
    "    \n",
    "dim = 2          # number of spatial dimensions\n",
    "\n",
    "\n",
    "#MESH STUFF\n",
    "\n",
    "RES = 192\n",
    "\n",
    "if MINX == 0.:\n",
    "    Xres = RES\n",
    "else:\n",
    "    Xres = 2*RES\n",
    "\n",
    "if stickyAir:\n",
    "    Yres = RES + 8\n",
    "    MAXY = float(Yres)/RES\n",
    "    \n",
    "else:\n",
    "    Yres = RES\n",
    "    MAXY = 1.\n",
    "\n",
    "\n",
    "periodic = [True,False]\n",
    "elementType = \"Q1/dQ0\"\n",
    "#elementType =\"Q2/DPC1\"\n",
    "\n",
    "refineMesh = False\n",
    "\n",
    "s = 1.2 #Mesh refinement parameter\n",
    "ALPHA = 11. #Mesh refinement parameter\n",
    "\n",
    "#System/Solver stuff\n",
    "\n",
    "PIC_integration=False"
   ]
  },
  {
   "cell_type": "code",
   "execution_count": 8,
   "metadata": {
    "collapsed": true
   },
   "outputs": [],
   "source": [
    "###########\n",
    "#Model Runtime parameters\n",
    "###########\n",
    "\n",
    "swarm_update = 25\n",
    "swarm_repop = 25\n",
    "files_output = 1e6\n",
    "gldbs_output = 25\n",
    "images_output = 1e6\n",
    "checkpoint_every = 25\n",
    "metric_output = 25\n",
    "sticky_air_temp = 10\n",
    "\n",
    "comm.Barrier() #Barrier here so not procs run the check in the next cell too early \n",
    "\n",
    "assert metric_output <= checkpoint_every, 'Checkpointing should run less or as ofen as metric output'\n",
    "assert (metric_output >= swarm_update), 'Swarm update is needed before checkpointing'\n",
    "assert metric_output >= sticky_air_temp, 'Sticky air temp should be updated more frequently that metrics'\n"
   ]
  },
  {
   "cell_type": "code",
   "execution_count": 9,
   "metadata": {
    "collapsed": false
   },
   "outputs": [],
   "source": [
    "###########\n",
    "#Model output parameters\n",
    "###########\n",
    "\n",
    "#Do you want to write hdf5 files - Temp, RMS, viscosity, stress?\n",
    "writeFiles = True\n",
    "loadTemp = True\n"
   ]
  },
  {
   "cell_type": "code",
   "execution_count": 10,
   "metadata": {
    "collapsed": false
   },
   "outputs": [],
   "source": [
    "mesh = uw.mesh.FeMesh_Cartesian( elementType = (\"Q1/dQ0\"),\n",
    "                                 elementRes  = (Xres, Yres), \n",
    "                                 minCoord    = (MINX,MINY), \n",
    "                                 maxCoord=(MAXX,MAXY), periodic=periodic)\n",
    "\n",
    "\n",
    "\n",
    "velocityField       = uw.mesh.MeshVariable( mesh=mesh,         nodeDofCount=dim )\n",
    "pressureField       = uw.mesh.MeshVariable( mesh=mesh.subMesh, nodeDofCount=1 )\n",
    "temperatureField    = uw.mesh.MeshVariable( mesh=mesh,         nodeDofCount=1 )\n",
    "temperatureDotField = uw.mesh.MeshVariable( mesh=mesh,         nodeDofCount=1 )"
   ]
  },
  {
   "cell_type": "code",
   "execution_count": 11,
   "metadata": {
    "collapsed": false
   },
   "outputs": [
    {
     "data": {
      "text/plain": [
       "(512, 256, -1.0, 1.0, 0.0, 1.0, [True, False], 'Q1/dQ0', 2)"
      ]
     },
     "execution_count": 11,
     "metadata": {},
     "output_type": "execute_result"
    }
   ],
   "source": [
    "Xres, Yres, MINX,MAXX,MINY,MAXY, periodic, elementType, dim "
   ]
  },
  {
   "cell_type": "markdown",
   "metadata": {},
   "source": [
    "##Refine mesh"
   ]
  },
  {
   "cell_type": "markdown",
   "metadata": {
    "collapsed": true
   },
   "source": [
    "if refineMesh:\n",
    "    alpha=ALPHA\n",
    "    newys = []\n",
    "    newxs = []\n",
    "    for index, coord in enumerate(linearMesh.data):\n",
    "        y0 = coord[1]\n",
    "        x0 = abs(coord[0])\n",
    "        if y0 >= 1.0:\n",
    "            newy = y0\n",
    "        else:\n",
    "            newy = (math.log(alpha*y0 + math.e) - 1)*(1/(math.log(alpha + math.e) - 1))\n",
    "        newx = (math.log((alpha/2.)*x0 + math.e) - 1)*(1/(math.log((alpha/2.) + math.e) - 1))\n",
    "        if coord[0] <= 0:\n",
    "            newx = -1.*newx\n",
    "        newys.append(newy)\n",
    "        newxs.append(newx)\n",
    "        \n",
    "    with linearMesh.deform_mesh():\n",
    "        linearMesh.data[:,1] = newys\n",
    "        linearMesh.data[:,0] = newxs"
   ]
  },
  {
   "cell_type": "markdown",
   "metadata": {
    "collapsed": false
   },
   "source": [
    "#THis one for the rectangular mesh\n",
    "\n",
    "if refineMesh:\n",
    "    alpha = ALPHA\n",
    "    newys = []\n",
    "    newxs = []\n",
    "    for index, coord in enumerate(mesh.data):\n",
    "        y0 = coord[1]\n",
    "        x0 = abs(coord[0])\n",
    "        if y0 == MAXY:\n",
    "            newy = y0\n",
    "        else:\n",
    "            ynorm = y0/MAXY\n",
    "            newy = MAXY*(math.log(alpha*ynorm + math.e) - 1)*(1/(math.log(alpha + math.e) - 1))\n",
    "        if coord[0] > 0:\n",
    "            newx = (math.e**(x0*(math.log((alpha/2.) + math.e) - 1) + 1 ) - math.e)/(alpha/2.)\n",
    "        else:\n",
    "            newx = -1.*(math.e**(x0*(math.log((alpha/2.) + math.e) - 1) + 1 ) - math.e)/(alpha/2.)\n",
    "        newys.append(newy)\n",
    "        newxs.append(newx)\n",
    "        #print y0,newy\n",
    "\n",
    "    with mesh.deform_mesh():\n",
    "            mesh.data[:,1] = newys\n",
    "            mesh.data[:,0] = newxs"
   ]
  },
  {
   "cell_type": "code",
   "execution_count": 12,
   "metadata": {
    "collapsed": false
   },
   "outputs": [],
   "source": [
    "# Get the actual sets \n",
    "#\n",
    "#  HJJJJJJH\n",
    "#  I      I\n",
    "#  I      I\n",
    "#  I      I\n",
    "#  HJJJJJJH\n",
    "#  \n",
    "#  Note that H = I & J \n",
    "\n",
    "# Note that we use operator overloading to combine sets\n",
    "# send boundary condition information to underworld\n",
    "IWalls = mesh.specialSets[\"MinI_VertexSet\"] + mesh.specialSets[\"MaxI_VertexSet\"]\n",
    "JWalls = mesh.specialSets[\"MinJ_VertexSet\"] + mesh.specialSets[\"MaxJ_VertexSet\"]\n",
    "TWalls = mesh.specialSets[\"MaxJ_VertexSet\"]\n",
    "BWalls = mesh.specialSets[\"MinJ_VertexSet\"]\n",
    "AWalls = IWalls + JWalls"
   ]
  },
  {
   "cell_type": "code",
   "execution_count": 13,
   "metadata": {
    "collapsed": false
   },
   "outputs": [
    {
     "name": "stdout",
     "output_type": "stream",
     "text": [
      "refine By:2.0\n"
     ]
    }
   ],
   "source": [
    "def coarse_fine_division(mesh, axis=\"y\", refine_by=2., relax_by =0.5):\n",
    "    if axis == \"y\":\n",
    "        thisaxis = 1\n",
    "    else:\n",
    "        thisaxis = 0\n",
    "    width = (mesh.maxCoord[thisaxis]-mesh.minCoord[thisaxis])\n",
    "    dx = (mesh.maxCoord[thisaxis]-mesh.minCoord[thisaxis])/ (mesh.elementRes[thisaxis])\n",
    "    nx = mesh.elementRes[thisaxis]\n",
    "    dxf = dx/ refine_by\n",
    "    dxc = dx/ relax_by\n",
    "    print(\"refine By:\" + str(refine_by))\n",
    "    i = 0\n",
    "    current_width = ((nx - i)  * dxf) + (i * dxc)\n",
    "    while current_width < width:\n",
    "        i += 1\n",
    "        current_width = ((nx - i)  * dxf) + (i * dxc)\n",
    "    #print current_width\n",
    "    #correct dxc so the total domain is preserved.\n",
    "    dxc = (width  - ((nx - i)  * dxf))/i\n",
    "    nxf = (nx - i) \n",
    "    nxc = i\n",
    "    nt = (nxf + nxc)\n",
    "    assert nt == nx\n",
    "    return nxf, dxf, nxc, dxc\n",
    "\n",
    "nxf, dxf, nxc, dxc = coarse_fine_division(mesh, axis=\"x\", refine_by=2., relax_by =0.5)\n",
    "\n",
    "def shishkin_centre_arrange(mesh, axis=\"y\",centre = 0.5, nxf=nxf, dxf=dxf, nxc=nxc, dxc=dxc):\n",
    "    import itertools\n",
    "    if axis == \"y\":\n",
    "        thisaxis = 1\n",
    "    else:\n",
    "        thisaxis = 0\n",
    "    print thisaxis\n",
    "    ###################\n",
    "    #Get the number of coarse elements either side of fine elements\n",
    "    ###################\n",
    "    nr = nxc\n",
    "    nl = 0\n",
    "    print((nxf*dxf - abs(mesh.minCoord[thisaxis])))\n",
    "    if ((nxf*dxf - abs(mesh.minCoord[thisaxis])) > centre):\n",
    "        print(\"left edge\")\n",
    "        pass\n",
    "    else:\n",
    "        left_length = (nl*dxc) + 0.5*(dxf*nxf) - abs(mesh.minCoord[thisaxis])\n",
    "        while (left_length <  centre):\n",
    "            nl += 1\n",
    "            left_length = (nl*dxc) + 0.5*(dxf*nxf) - abs(mesh.minCoord[thisaxis])\n",
    "            #print(left_length)\n",
    "            if nl == nxc:\n",
    "                print(\"right edge\")\n",
    "                break\n",
    "        nr = nxc - nl\n",
    "    print(nl, nr, nxf)\n",
    "    #assert nr + nl + nxf == mesh.elementRes[thisaxis]\n",
    "    ###################\n",
    "    #return dictionary of new element mappings\n",
    "    ###################\n",
    "    lcoords = [(mesh.minCoord[thisaxis] + i*dxc) for i in range(nl+1)]\n",
    "    if lcoords:\n",
    "        #print(nl, lcoords[-1]/dxc)\n",
    "        ccoords =  [lcoords[-1] + i*dxf for i in range(1, nxf+1)]\n",
    "    else:\n",
    "        ccoords =  [(mesh.minCoord[thisaxis] + i*dxf) for i in range(0, nxf)]\n",
    "    rcoords = [ccoords[-1] + i*dxc for i in range(1, nr +1)]\n",
    "    if rcoords:\n",
    "        #rcoords.append(mesh.maxCoord[0])\n",
    "        pass\n",
    "    else:\n",
    "        #ccoords.append(mesh.maxCoord[0])\n",
    "        pass\n",
    "    newcoords = lcoords+ ccoords+ rcoords\n",
    "    #assert len(newcoords) == nx + 1 \n",
    "    #origcoords = list(np.unique(mesh.data[:,thisaxis]))\n",
    "    #origcoords = np.linspace(mesh.minCoord[thisaxis], mesh.maxCoord[thisaxis], mesh.elementRes[thisaxis])\n",
    "    width = (mesh.maxCoord[thisaxis]-mesh.minCoord[thisaxis])\n",
    "    dx = (mesh.maxCoord[thisaxis]-mesh.minCoord[thisaxis])/ (mesh.elementRes[thisaxis])\n",
    "    origcoords = list(np.arange(mesh.minCoord[thisaxis], mesh.maxCoord[thisaxis], dx))\n",
    "    origcoords.append(mesh.maxCoord[thisaxis])\n",
    "    dictionary = dict(itertools.izip(origcoords, newcoords))\n",
    "    assert len([x for x, y in collections.Counter(newcoords).items() if y > 1]) == 0 #checks agains multiple coordinates\n",
    "    return dictionary\n",
    "\n",
    "\n",
    " \n",
    "def shishkin_deform(mesh, centre = 0.5, axis=\"y\", refine_by=2., relax_by =0.5):\n",
    "    if axis == \"y\":\n",
    "        thisaxis = 1\n",
    "    else:\n",
    "        thisaxis = 0\n",
    "    nxf, dxf, nxc, dxc, = coarse_fine_division(mesh,axis, refine_by=refine_by, relax_by =relax_by)\n",
    "    coorddict = shishkin_centre_arrange(mesh, nxf=nxf, dxf=dxf, nxc=nxc, dxc=dxc, axis=axis , centre=centre)\n",
    "    with mesh.deform_mesh():\n",
    "        for index, coord in enumerate(mesh.data):\n",
    "            key = mesh.data[index][thisaxis]\n",
    "            mesh.data[index][thisaxis] = coorddict[key]\n"
   ]
  },
  {
   "cell_type": "markdown",
   "metadata": {
    "collapsed": false
   },
   "source": [
    "mesh.reset()\n",
    "nxf, dxf, nxc, dxc, = coarse_fine_division(mesh,axis=\"x\", refine_by=2., relax_by =0.75)\n",
    "xcoorddict = shishkin_centre_arrange(mesh, axis=\"x\", centre=0., nxf=nxf, dxf=dxf, nxc=nxc, dxc=dxc)\n",
    "\n",
    "nxf, dxf, nxc, dxc, = coarse_fine_division(mesh,axis=\"y\", refine_by=2., relax_by =0.5)\n",
    "ycoorddict = shishkin_centre_arrange(mesh, axis=\"y\", centre=0., nxf=nxf, dxf=dxf, nxc=nxc, dxc=dxc)\n",
    "            \n",
    "\n",
    "newxs = []\n",
    "newys = []\n",
    "for index, coord in enumerate(mesh.data):\n",
    "    x0 = coord[0]\n",
    "    y0 = coord[1]\n",
    "    xkey = mesh.data[index][0]\n",
    "    ykey = mesh.data[index][1]\n",
    "    newx = xcoorddict[key]\n",
    "    newy = ycoorddict[key]\n",
    "    newxs.append(newx)\n",
    "\n",
    "with mesh.deform_mesh():\n",
    "    mesh.data[:,0] = newxs\n",
    "    mesh.data[:,0] = newxs"
   ]
  },
  {
   "cell_type": "code",
   "execution_count": 14,
   "metadata": {
    "collapsed": false
   },
   "outputs": [],
   "source": [
    "if refineMesh:\n",
    "    shishkin_deform(mesh, centre = 0.9, axis=\"y\", refine_by=1.5, relax_by =0.5)\n",
    "    shishkin_deform(mesh, centre = 0.0, axis=\"x\", refine_by=1.5, relax_by =0.75)"
   ]
  },
  {
   "cell_type": "code",
   "execution_count": 15,
   "metadata": {
    "collapsed": false
   },
   "outputs": [
    {
     "data": {
      "text/html": [
       "<img src='data:image/png;base64,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'>"
      ],
      "text/plain": [
       "<IPython.core.display.HTML object>"
      ]
     },
     "execution_count": 15,
     "metadata": {},
     "output_type": "execute_result"
    }
   ],
   "source": [
    "figSwarm = glucifer.Figure(figsize=(1024,384))\n",
    "#figSwarm.append( glucifer.objects.Points(gSwarm,materialVariable, colours='brown white blue red'))\n",
    "figSwarm.append( glucifer.objects.Mesh(mesh))\n",
    "figSwarm.save_database('test.gldb')\n",
    "figSwarm.show()"
   ]
  },
  {
   "cell_type": "markdown",
   "metadata": {},
   "source": [
    "#ICs and BCs"
   ]
  },
  {
   "cell_type": "code",
   "execution_count": 16,
   "metadata": {
    "collapsed": false
   },
   "outputs": [],
   "source": [
    "# Initialise data.. Note that we are also setting boundary conditions here\n",
    "velocityField.data[:] = [0.,0.]\n",
    "pressureField.data[:] = 0.\n",
    "temperatureField.data[:] = 0.\n",
    "temperatureDotField.data[:] = 0.\n",
    "\n",
    "def wbl(x, w0 = 0.06):\n",
    "    delx = 1- abs(x)\n",
    "    Wbl = w0*math.sqrt(delx)\n",
    "    if Wbl== 0.: #to avoid division by zero\n",
    "        Wbl = 1e-8\n",
    "    return Wbl\n",
    "\n",
    "\n",
    "\n",
    "def tempf(z,w,t0=0.64):\n",
    "    temp = t0*math.erf((1-z)/w)\n",
    "    return temp\n",
    "\n"
   ]
  },
  {
   "cell_type": "code",
   "execution_count": 17,
   "metadata": {
    "collapsed": false
   },
   "outputs": [],
   "source": [
    "for index, coord in enumerate(mesh.data):\n",
    "    w = wbl(coord[0])\n",
    "    t = tempf(coord[1], w)\n",
    "    temperatureField.data[index] = t\n",
    "\n",
    "\n",
    "for index, coord in enumerate(mesh.data):\n",
    "    if abs(coord[0]) < wbl(0)/2. and coord[1] > 0.5:\n",
    "        w = wbl(0)/2.\n",
    "        d = w - abs(coord[0])\n",
    "        t = tempf(d, coord[1], w)\n",
    "        temperatureField.data[index] = t\n",
    "        \n",
    "        \n",
    "\n",
    "#Set sticky air Temp to zero\n",
    "\n",
    "for index, coord in enumerate(mesh.data):\n",
    "    if coord[1] > 1.:\n",
    "        temperatureField.data[index] = 0."
   ]
  },
  {
   "cell_type": "code",
   "execution_count": 18,
   "metadata": {
    "collapsed": true
   },
   "outputs": [],
   "source": [
    "#For notebook runs\n",
    "#ModIt = \"96\""
   ]
  },
  {
   "cell_type": "code",
   "execution_count": 19,
   "metadata": {
    "collapsed": false
   },
   "outputs": [],
   "source": [
    "# Now setup the dirichlet boundary condition\n",
    "# Note that through this object, we are flagging to the system \n",
    "# that these nodes are to be considered as boundary conditions. \n",
    "# Also note that we provide a tuple of sets.. One for the Vx, one for Vy.\n",
    "freeslipBC = uw.conditions.DirichletCondition( variable      = velocityField, \n",
    "                                               indexSetsPerDof = (None, JWalls) )\n",
    "\n",
    "# also set dirichlet for temp field\n",
    "tempBC = uw.conditions.DirichletCondition(     variable=temperatureField, \n",
    "                                              indexSetsPerDof=(JWalls,) )\n",
    "\n",
    "\n",
    "# set initial conditions (and boundary values)\n",
    "velocityField.data[:] = [0.,0.]\n",
    "pressureField.data[:] = 0.\n",
    "\n",
    "\n",
    "\n"
   ]
  },
  {
   "cell_type": "markdown",
   "metadata": {},
   "source": [
    "##Add Random 125 K temp perturbation\n"
   ]
  },
  {
   "cell_type": "code",
   "execution_count": 20,
   "metadata": {
    "collapsed": true
   },
   "outputs": [],
   "source": [
    "tempNump = temperatureField.data\n",
    "\n",
    "#In gerneral we only want to do this on the initial setup, not restarts\n",
    "\n",
    "if not checkpointLoad:\n",
    "    for index, coord in enumerate(mesh.data):\n",
    "        pertCoeff = (0.05*np.random.rand(1)[0])\n",
    "        ict = tempNump[index]\n",
    "        tempNump[index] = ict + pertCoeff"
   ]
  },
  {
   "cell_type": "markdown",
   "metadata": {},
   "source": [
    "##Reset bottom Dirichlet conds."
   ]
  },
  {
   "cell_type": "code",
   "execution_count": 21,
   "metadata": {
    "collapsed": false
   },
   "outputs": [],
   "source": [
    "# Set temp boundaries \n",
    "# on the boundaries\n",
    "for index in mesh.specialSets[\"MinJ_VertexSet\"]:\n",
    "    temperatureField.data[index] = ndp.TR\n",
    "for index in mesh.specialSets[\"MaxJ_VertexSet\"]:\n",
    "    temperatureField.data[index] = ndp.TS"
   ]
  },
  {
   "cell_type": "code",
   "execution_count": 22,
   "metadata": {
    "collapsed": false
   },
   "outputs": [],
   "source": [
    "#temperatureField.evaluate(IWalls).min()"
   ]
  },
  {
   "cell_type": "markdown",
   "metadata": {},
   "source": [
    "#Particles"
   ]
  },
  {
   "cell_type": "code",
   "execution_count": 23,
   "metadata": {
    "collapsed": false
   },
   "outputs": [],
   "source": [
    "###########\n",
    "#Material Swarm and variables\n",
    "###########\n",
    "\n",
    "gSwarm = uw.swarm.Swarm(mesh=mesh)\n",
    "materialVariable = gSwarm.add_variable( dataType=\"char\", count=1 )\n",
    "rockIntVar = gSwarm.add_variable( dataType=\"double\", count=1 )\n",
    "airIntVar = gSwarm.add_variable( dataType=\"double\", count=1 )\n",
    "lithIntVar = gSwarm.add_variable( dataType=\"double\", count=1 )\n",
    "\n",
    "varlist = [materialVariable, rockIntVar, airIntVar, lithIntVar]\n",
    "varnames = ['materialVariable', 'rockIntVar', 'airIntVar', 'lithIntVar']"
   ]
  },
  {
   "cell_type": "code",
   "execution_count": 24,
   "metadata": {
    "collapsed": true
   },
   "outputs": [],
   "source": [
    "###########\n",
    "#Swarms for surface intragrals when using Sticky air\n",
    "###########\n",
    "\n",
    "snum = 1000.\n",
    "dx = (mesh.data[:,0].max()- mesh.data[:,0].min())/snum\n",
    "yp = 0.9947 #1. - yelsize/2. at res = 96\n",
    "\n",
    "mesh.data[:,0].max()\n",
    "xps = np.linspace(mesh.data[:,0].min(),mesh.data[:,0].max(), snum)\n",
    "yps = [yp for i in xps]\n",
    "\n",
    "surfintswarm = uw.swarm.Swarm( mesh=mesh )\n",
    "dumout = surfintswarm.add_particles_with_coordinates(np.array((xps,yps)).T)\n",
    "\n",
    "yps = [ 1.- yp  for i in xps]\n",
    "\n",
    "baseintswarm = uw.swarm.Swarm( mesh=mesh)\n",
    "dumout = baseintswarm.add_particles_with_coordinates(np.array((xps,yps)).T)"
   ]
  },
  {
   "cell_type": "markdown",
   "metadata": {},
   "source": [
    "#Initialise swarm variables, or Swarm checkpoint load"
   ]
  },
  {
   "cell_type": "code",
   "execution_count": 25,
   "metadata": {
    "collapsed": false
   },
   "outputs": [],
   "source": [
    "mantleIndex = 0\n",
    "lithosphereIndex = 1\n",
    "crustIndex = 2\n",
    "airIndex = 3\n",
    "\n",
    "\n",
    "if checkpointLoad:\n",
    "    checkpointLoadDir = natsort.natsorted(checkdirs)[-1]\n",
    "    temperatureField.load(os.path.join(checkpointLoadDir, \"temperatureField\" + \".hdf5\"))\n",
    "    pressureField.load(os.path.join(checkpointLoadDir, \"pressureField\" + \".hdf5\"))\n",
    "    velocityField.load(os.path.join(checkpointLoadDir, \"velocityField\" + \".hdf5\"))\n",
    "    gSwarm.load(os.path.join(checkpointLoadDir, \"swarm\" + \".h5\"))\n",
    "    for ix in range(len(varlist)):\n",
    "        varb = varlist[ix]\n",
    "        varb.load(os.path.join(checkpointLoadDir,varnames[ix] + \".h5\"))\n",
    "\n",
    "else:\n",
    "\n",
    "    # Layouts are used to populate the swarm across the whole domain\n",
    "    # Create the layout object\n",
    "    #layout = uw.swarm.layouts.GlobalSpaceFillerLayout( swarm=gSwarm, particlesPerCell=20)\n",
    "    layout = uw.swarm.layouts.PerCellRandomLayout(swarm=gSwarm, particlesPerCell=15)\n",
    "    # Now use it to populate.\n",
    "    gSwarm.populate_using_layout( layout=layout )\n",
    "\n",
    "    # Lets initialise the 'materialVariable' data to represent different materials\n",
    "    # Set the material to heavy everywhere via the numpy array\n",
    "    materialVariable.data[:] = mantleIndex\n",
    "    \n",
    "    \n",
    "    #Set initial air and crust materials (allow the graph to take care of lithsophere)\n",
    "    #########\n",
    "    #This initial material setup will be model dependent\n",
    "    #########\n",
    "    for particleID in range(gSwarm.particleCoordinates.data.shape[0]):\n",
    "        if (1. - gSwarm.particleCoordinates.data[particleID][1]) < 0:\n",
    "                 materialVariable.data[particleID] = airIndex\n",
    "        elif (1. - gSwarm.particleCoordinates.data[particleID][1]) < MANTLETOCRUST:\n",
    "                 materialVariable.data[particleID] = crustIndex"
   ]
  },
  {
   "cell_type": "markdown",
   "metadata": {},
   "source": [
    "#Material Graphs"
   ]
  },
  {
   "cell_type": "code",
   "execution_count": 26,
   "metadata": {
    "collapsed": false
   },
   "outputs": [],
   "source": [
    "##############\n",
    "#Important: This is a quick fix for a bug that arises in parallel runs\n",
    "##############\n",
    "material_list = [0,1,2,3]\n"
   ]
  },
  {
   "cell_type": "code",
   "execution_count": 27,
   "metadata": {
    "collapsed": false
   },
   "outputs": [
    {
     "name": "stdout",
     "output_type": "stream",
     "text": [
      "unique values after swarm has loaded:[0 1 2]\n"
     ]
    }
   ],
   "source": [
    "print( \"unique values after swarm has loaded:\" + str(np.unique(materialVariable.data[:])))\n"
   ]
  },
  {
   "cell_type": "code",
   "execution_count": 28,
   "metadata": {
    "collapsed": true
   },
   "outputs": [],
   "source": [
    "import networkx as nx\n",
    "\n",
    "#All depth conditions are given as (km/D) where D is the length scale, \n",
    "#note that 'model depths' are used, e.g. 1-z, where z is the vertical Underworld coordinate\n",
    "#All temp conditions are in dimensionless temp. [0. - 1.]\n",
    "\n",
    "#######Graph object\n",
    "DG = nx.DiGraph(field=\"Depth\")\n",
    "\n",
    "#######Nodes\n",
    "#Note that the order of materials, deepest to shallowest is important \n",
    "DG.add_node(0, mat='mantle')\n",
    "DG.add_node(1, mat='lithosphere')\n",
    "DG.add_node(2, mat='crust')\n",
    "DG.add_node(3, mat='air')\n",
    "\n",
    "\n",
    "labels=dict((n,d['mat']) for n,d in DG.nodes(data=True))\n",
    "pos=nx.spring_layout(DG) \n",
    "\n",
    "\n",
    "#######Edges\n",
    "#anything to air\n",
    "DG.add_edges_from([(0,3),(1,3), (2,3)])\n",
    "DG[0][3]['depthcondition'] = -1*TOPOHEIGHT\n",
    "DG[1][3]['depthcondition'] = -1*TOPOHEIGHT\n",
    "DG[2][3]['depthcondition'] = -1*TOPOHEIGHT\n",
    "\n",
    "\n",
    "#Anything to mantle\n",
    "DG.add_edges_from([(2,0), (3,0), (1,0)])\n",
    "DG[3][0]['depthcondition'] = TOPOHEIGHT\n",
    "DG[2][0]['depthcondition'] = CRUSTTOMANTLE\n",
    "DG[1][0]['depthcondition'] = LITHTOMANTLE #This means we're going to kill lithosphere at the 660.\n",
    "\n",
    "\n",
    "#Anything to lithsphere\n",
    "DG.add_edges_from([(0,1),(3,1)])\n",
    "DG[0][1]['depthcondition'] = MANTLETOLITH\n",
    "DG[0][1]['avgtempcondition'] = 0.75*AVGTEMP #definition of thermal lithosphere\n",
    "\n",
    "\n",
    "#Anything to crust\n",
    "DG.add_edges_from([(0,2), (1,2)])\n",
    "DG[0][2]['depthcondition'] = MANTLETOCRUST\n",
    "DG[1][2]['depthcondition'] = MANTLETOCRUST"
   ]
  },
  {
   "cell_type": "code",
   "execution_count": 29,
   "metadata": {
    "collapsed": false
   },
   "outputs": [
    {
     "data": {
      "text/plain": [
       "[0, 1, 2, 3]"
      ]
     },
     "execution_count": 29,
     "metadata": {},
     "output_type": "execute_result"
    }
   ],
   "source": [
    "DG.nodes()"
   ]
  },
  {
   "cell_type": "code",
   "execution_count": 30,
   "metadata": {
    "collapsed": false
   },
   "outputs": [],
   "source": [
    "remove_nodes = []\n",
    "for node in DG.nodes():\n",
    "    if not node in material_list:\n",
    "        remove_nodes.append(node)\n",
    "        \n",
    "for rmnode in remove_nodes:\n",
    "    DG.remove_node(rmnode)"
   ]
  },
  {
   "cell_type": "code",
   "execution_count": 31,
   "metadata": {
    "collapsed": false
   },
   "outputs": [
    {
     "data": {
      "text/plain": [
       "[0, 1, 2, 3]"
      ]
     },
     "execution_count": 31,
     "metadata": {},
     "output_type": "execute_result"
    }
   ],
   "source": [
    "DG.nodes()"
   ]
  },
  {
   "cell_type": "code",
   "execution_count": 32,
   "metadata": {
    "collapsed": false
   },
   "outputs": [],
   "source": [
    "\n",
    "#remove_nodes = []\n",
    "#for node in DG.nodes_iter():\n",
    "#    if not node in material_list:\n",
    "#        remove_nodes.append(node)\n",
    "        \n",
    "#for rmnode in remove_nodes:\n",
    "#    DG.remove_node(rmnode)"
   ]
  },
  {
   "cell_type": "code",
   "execution_count": 33,
   "metadata": {
    "collapsed": true
   },
   "outputs": [],
   "source": [
    "#A Dictionary to map strings in the graph (e.g. 'depthcondition') to particle data arrays\n",
    "\n",
    "particledepths = 1. - gSwarm.particleCoordinates.data[:,1]\n",
    "particletemps = temperatureField.evaluate(gSwarm)[:,0]\n",
    "\n",
    "conditionmap = {}\n",
    "\n",
    "conditionmap['depthcondition'] = {}\n",
    "conditionmap['depthcondition']['data'] = particledepths\n",
    "conditionmap['avgtempcondition'] = {}\n",
    "conditionmap['avgtempcondition']['data'] = particletemps"
   ]
  },
  {
   "cell_type": "code",
   "execution_count": 34,
   "metadata": {
    "collapsed": true
   },
   "outputs": [],
   "source": [
    "def update_swarm(graph, particleIndex):\n",
    "    \"\"\"\n",
    "    This function takes the materials graph (networkx.DiGraph), and a particle index,\n",
    "    then determines if a material update is required \n",
    "    and if so, returns the new materialindex\n",
    "    Args:\n",
    "        graph (networkx.DiGraph): Directed multigraph representing the transformation of material types\n",
    "        particleIndex (int): the particle index as corressponding to the index in the swarm data arrays\n",
    "    Returns:\n",
    "        if update is required the function returns the the new material variable (int) \n",
    "        else returns None\n",
    "    Raises:\n",
    "        TypeError: not implemented\n",
    "        ValueError: not implemented\n",
    "    \"\"\"\n",
    "    ##Egde gives links to other materials, we then query the conditions to see if we should change materials\n",
    "    matId = materialVariable.data[particleIndex][0]\n",
    "    innerchange = False\n",
    "    outerchange = False\n",
    "    for edge in graph[matId]:\n",
    "        if outerchange:\n",
    "            break\n",
    "        for cond in graph[matId][edge].keys():\n",
    "            outerchange = False\n",
    "            if innerchange: #found a complete transition, break inner loop\n",
    "                break\n",
    "            currentparticlevalue = conditionmap[cond]['data'][particleIndex]\n",
    "            crossover = graph[matId][edge][cond]\n",
    "            if ((matId > edge) and (currentparticlevalue > crossover)):\n",
    "                innerchange = False # continue on, \n",
    "                if graph[matId][edge].keys()[-1] == cond:\n",
    "                    outerchange = True\n",
    "                    innerchange = edge\n",
    "                    break\n",
    "            elif ((matId < edge) and (currentparticlevalue < crossover)):\n",
    "                innerchange = False\n",
    "                if graph[matId][edge].keys()[-1] == cond:\n",
    "                    outerchange = True\n",
    "                    innerchange = edge\n",
    "                    break\n",
    "            else:\n",
    "                #condition not met, break outer loop, go to next edge, outerchange should still be False\n",
    "                break\n",
    "    if type(innerchange) == int:\n",
    "        return innerchange"
   ]
  },
  {
   "cell_type": "code",
   "execution_count": 35,
   "metadata": {
    "collapsed": false
   },
   "outputs": [],
   "source": [
    "#Cleanse the swarm of its sins\n",
    "#For some Material Graphs, the graph may have to be treaversed more than once\n",
    "\n",
    "check = -1\n",
    "number_updated = 1\n",
    "\n",
    "while number_updated != 0:\n",
    "    number_updated = 0\n",
    "    for particleID in range(gSwarm.particleCoordinates.data.shape[0]):\n",
    "                check = update_swarm(DG, particleID)\n",
    "                if check > -1:\n",
    "                    number_updated += 1\n",
    "                    materialVariable.data[particleID] = check"
   ]
  },
  {
   "cell_type": "markdown",
   "metadata": {},
   "source": [
    "##Set the values for the masking swarms"
   ]
  },
  {
   "cell_type": "code",
   "execution_count": 36,
   "metadata": {
    "collapsed": false
   },
   "outputs": [],
   "source": [
    "#Setup up a masking Swarm variable for the integrations.\n",
    "#These should be rebuilt at same frequency as the metric calcualtions\n",
    "\n",
    "rockIntVar.data[:] = 0.\n",
    "notair = np.where(materialVariable.data != airIndex)\n",
    "rockIntVar.data[notair] = 1.\n",
    "\n",
    "airIntVar.data[:] = 0.\n",
    "notrock = np.where(materialVariable.data == airIndex)\n",
    "airIntVar.data[notrock] = 1.\n",
    "\n",
    "lithIntVar.data[:] = 0.\n",
    "islith = np.where((materialVariable.data == lithosphereIndex) | (materialVariable.data == crustIndex))\n",
    "lithIntVar.data[islith] = 1."
   ]
  },
  {
   "cell_type": "markdown",
   "metadata": {
    "collapsed": false
   },
   "source": [
    "#Material properties\n"
   ]
  },
  {
   "cell_type": "markdown",
   "metadata": {},
   "source": [
    "In the paper, Crameri and Tackley give the dimensionless cohesion as well as the dimensionless yield stress gradient. But the latter is given as a function of dimensionless (lithostatic) pressure, whereas it is easier to use dimensionless depth. Easy, multiply the dimensionless depth by $\\rho g D$, divide by the stress scale, $\\frac{\\eta \\kappa}{D^2}$ then use the same dimensionless yeild stress gradient ($\\mu$)"
   ]
  },
  {
   "cell_type": "code",
   "execution_count": 37,
   "metadata": {
    "collapsed": false
   },
   "outputs": [],
   "source": [
    "# The yeilding of the upper slab is dependent on the strain rate.\n",
    "strainRate_2ndInvariant = fn.tensor.second_invariant( \n",
    "                            fn.tensor.symmetric( \n",
    "                            velocityField.fn_gradient ))\n",
    "\n",
    "\n",
    "coordinate = fn.input()\n",
    "depth = 1. - coordinate[1]\n",
    "\n",
    "#Determine yield criterion for depth (rather than pressure as given in Crameri)\n",
    "#Scaling is same as van Heck and Tackley, EPSL, 2011\n",
    "lithopressuregrad = dp.rho*dp.g*(dp.LS)**3/(dp.eta0*dp.k)"
   ]
  },
  {
   "cell_type": "code",
   "execution_count": 38,
   "metadata": {
    "collapsed": false
   },
   "outputs": [
    {
     "name": "stdout",
     "output_type": "stream",
     "text": [
      "(11.55, 3.0, 0.1092, 1.0, 0.64, 1577.0)\n"
     ]
    }
   ],
   "source": [
    "#Check important paramters\n",
    "print(ndp.E, ndp.V,ndp.TS,ndp.RD, ndp.TR, ndp.cohesion)"
   ]
  },
  {
   "cell_type": "code",
   "execution_count": 39,
   "metadata": {
    "collapsed": false
   },
   "outputs": [],
   "source": [
    "############\n",
    "#Mantle\n",
    "############\n",
    "\n",
    "#Linear viscosity\n",
    "arhennius = fn.misc.min(1e5,fn.math.exp(((ndp.E + ndp.V*(1.-coordinate[1]))/\n",
    "                                         (temperatureField + ndp.TS)) - ((ndp.E + ndp.V*(1.- ndp.RD))/(ndp.TR + ndp.TS))))\n",
    "\n",
    "#Psuedo-plastic \n",
    "ys =  ndp.cohesion + (depth*ndp.fc*lithopressuregrad)\n",
    "#ys =  ndp.fc*lithopressuregrad*(30e3/dp.LS) # this is the byerlee strength at 30 km\n",
    "yss = fn.misc.max(1577., ys)\n",
    "plasticvisc = yss*(math.sqrt(2))/(strainRate_2ndInvariant*2.)\n",
    "plastic = fn.misc.max(1e-4,plasticvisc)\n",
    "#combine these\n",
    "mantleviscosityFn = fn.exception.SafeMaths(fn.misc.min(arhennius, plastic))\n",
    "\n",
    "############\n",
    "#crust\n",
    "############\n",
    "\n",
    "\n",
    "cohesion_reduce =5.\n",
    "ysc = (ndp.cohesion/cohesion_reduce) + (depth*(ndp.fc/100.)*lithopressuregrad)\n",
    "#ysc = ys/100.\n",
    "ycs = fn.misc.max((ndp.cohesion/cohesion_reduce), ysc)\n",
    "crustplasticvisc = ycs*(math.sqrt(2))/(strainRate_2ndInvariant*2.)\n",
    "crustplastic = fn.misc.max(1e-4,crustplasticvisc) \n",
    "crustviscosityFn = fn.exception.SafeMaths(fn.misc.min(arhennius, crustplastic))"
   ]
  },
  {
   "cell_type": "markdown",
   "metadata": {},
   "source": [
    "Note that the rheology implemented manually above can also be set up using an Underworld2 function, as follows:\n",
    "```python\n",
    "fn_stress =  2.*arhennius*uw.function.tensor.symmetric(velocityField.fn_gradient )\n",
    "plasticvisc = fn.rheology.stress_limiting_viscosity(fn_stress,ys,arhennius)\n",
    "plastic = fn.misc.max(1e-4,plasticvisc)\n",
    "mantleviscosityFn = fn.exception.SafeMaths(fn.misc.min(arhennius, plastic))\n",
    "stokesPIC.fn_viscosity = mantleviscosityFn\n",
    "```"
   ]
  },
  {
   "cell_type": "markdown",
   "metadata": {},
   "source": [
    "Set up material properties\n",
    "====\n",
    "\n",
    "Here the functions for density, viscosity etc. are set. These functions and/or values are preserved for the entire simulation time. "
   ]
  },
  {
   "cell_type": "code",
   "execution_count": 40,
   "metadata": {
    "collapsed": false
   },
   "outputs": [],
   "source": [
    "# Here we set a viscosity value of '1.' for both materials\n",
    "viscosityMapFn = fn.branching.map( fn_key = materialVariable,\n",
    "                         mapping = {airIndex:AIRVISCOSITY, \n",
    "                                    lithosphereIndex:mantleviscosityFn, \n",
    "                                    crustIndex:crustviscosityFn,\n",
    "                                    mantleIndex:mantleviscosityFn} )\n",
    "\n",
    "densityMapFn = fn.branching.map( fn_key = materialVariable,\n",
    "                         mapping = {airIndex:AIRDENSITY, \n",
    "                                    lithosphereIndex:ndp.RA*temperatureField, \n",
    "                                    crustIndex:ndp.RA*temperatureField, \n",
    "                                    mantleIndex:ndp.RA*temperatureField} )\n",
    "\n",
    "# Define our gravity using a python tuple (this will be automatically converted to a function)\n",
    "gravity = ( 0.0, 1.0 )\n",
    "\n",
    "buoyancyFn = gravity*densityMapFn"
   ]
  },
  {
   "cell_type": "code",
   "execution_count": null,
   "metadata": {
    "collapsed": false
   },
   "outputs": [],
   "source": []
  },
  {
   "cell_type": "markdown",
   "metadata": {},
   "source": [
    "Build the Stokes system, solvers, advection-diffusion\n",
    "------\n",
    "\n",
    "Setup linear Stokes system to get the initial velocity."
   ]
  },
  {
   "cell_type": "code",
   "execution_count": 41,
   "metadata": {
    "collapsed": false
   },
   "outputs": [],
   "source": [
    "stokesPIC = uw.systems.Stokes( velocityField = velocityField, \n",
    "                               pressureField = pressureField,\n",
    "                               #swarm         = gSwarm, \n",
    "                               conditions    = [freeslipBC,],\n",
    "                               fn_viscosity   = arhennius, \n",
    "                               fn_bodyforce   = buoyancyFn )\n"
   ]
  },
  {
   "cell_type": "code",
   "execution_count": 42,
   "metadata": {
    "collapsed": false
   },
   "outputs": [],
   "source": [
    "#We do one solve with linear viscosity to get the initial strain rate invariant. \n",
    "#This solve step also calculates a 'guess' of the the velocity field based on the linear system, \n",
    "#which is used later in the non-linear solver.\n",
    "\n",
    "solver = uw.systems.Solver(stokesPIC)\n",
    "# If not doing a restart, do a solve on the non-plastic system\n",
    "if not checkpointLoad:\n",
    "    solver.solve()"
   ]
  },
  {
   "cell_type": "code",
   "execution_count": null,
   "metadata": {
    "collapsed": true
   },
   "outputs": [],
   "source": [
    "solver.options"
   ]
  },
  {
   "cell_type": "markdown",
   "metadata": {
    "collapsed": true
   },
   "source": [
    "* CG\n",
    "* "
   ]
  },
  {
   "cell_type": "code",
   "execution_count": 237,
   "metadata": {
    "collapsed": false
   },
   "outputs": [],
   "source": [
    "####################\n",
    "#Add the non-linear viscosity to the Stokes system\n",
    "stokesPIC.fn_viscosity = viscosityMapFn\n",
    "###################\n",
    "\n",
    "#Set more advanced solver option\n",
    "solver.options.main.Q22_pc_type='uw'\n",
    "solver.options.A11.ksp_rtol=1e-5\n",
    "solver.options.scr.ksp_rtol=1e-5\n",
    "solver.options.A11.ksp_type=\"cg\"\n",
    "solver.options.scr.use_previous_guess = True\n",
    "solver.options.scr.ksp_set_min_it_converge = 1\n",
    "\n",
    "#solver.options.mg.levels = 3\n",
    "\n",
    "#solver.options.A11.ksp_monitor=''\n",
    "solver.options.A11.ksp_converged_reason=''"
   ]
  },
  {
   "cell_type": "code",
   "execution_count": 2,
   "metadata": {
    "collapsed": false
   },
   "outputs": [
    {
     "ename": "NameError",
     "evalue": "name 'solver' is not defined",
     "output_type": "error",
     "traceback": [
      "\u001b[0;31m---------------------------------------------------------------------------\u001b[0m",
      "\u001b[0;31mNameError\u001b[0m                                 Traceback (most recent call last)",
      "\u001b[0;32m<ipython-input-2-97134faac567>\u001b[0m in \u001b[0;36m<module>\u001b[0;34m()\u001b[0m\n\u001b[0;32m----> 1\u001b[0;31m \u001b[0msolver\u001b[0m\u001b[0;34m.\u001b[0m\u001b[0moptions\u001b[0m\u001b[0;34m.\u001b[0m\u001b[0mscr\u001b[0m\u001b[0;34m.\u001b[0m\u001b[0mksp_set_min_it_converge\u001b[0m\u001b[0;34m\u001b[0m\u001b[0m\n\u001b[0m",
      "\u001b[0;31mNameError\u001b[0m: name 'solver' is not defined"
     ]
    }
   ],
   "source": [
    "#solver.options.scr.ksp_set_min_it_converge"
   ]
  },
  {
   "cell_type": "markdown",
   "metadata": {},
   "source": [
    "Solve non-linear system for pressure and velocity using Picard iteration\n"
   ]
  },
  {
   "cell_type": "code",
   "execution_count": 238,
   "metadata": {
    "collapsed": false
   },
   "outputs": [],
   "source": [
    "solver.solve(nonLinearIterate=True)"
   ]
  },
  {
   "cell_type": "code",
   "execution_count": 239,
   "metadata": {
    "collapsed": true
   },
   "outputs": [],
   "source": [
    "#Now check the stress.\n",
    "fn_stress = 2.*mantleviscosityFn*uw.function.tensor.symmetric(velocityField.fn_gradient)\n",
    "fn_minmax_inv = fn.view.min_max(fn.tensor.second_invariant(fn_stress))\n",
    "ignore = fn_minmax_inv.evaluate(gSwarm)"
   ]
  },
  {
   "cell_type": "code",
   "execution_count": 240,
   "metadata": {
    "collapsed": false
   },
   "outputs": [
    {
     "data": {
      "text/plain": [
       "550350.6561038237"
      ]
     },
     "execution_count": 240,
     "metadata": {},
     "output_type": "execute_result"
    }
   ],
   "source": [
    "fn_minmax_inv.max_global()"
   ]
  },
  {
   "cell_type": "code",
   "execution_count": 241,
   "metadata": {
    "collapsed": false
   },
   "outputs": [],
   "source": [
    "#np.isclose(fn_minmax_inv.max_global(), ys, rtol=1e-03)"
   ]
  },
  {
   "cell_type": "code",
   "execution_count": 242,
   "metadata": {
    "collapsed": false
   },
   "outputs": [
    {
     "data": {
      "text/html": [
       "<img src='data:image/png;base64,iVBORw0KGgoAAAANSUhEUgAAAoAAAAHgCAIAAAC6s0uzAAAgAElEQVR42u2dy67tOnaeOTTnLrgOYNhOJ4UKcBC4FaSZF8uDpBHkxYK00omNpOOqIEEAo9xxeU9ppKHLpO4URVKk9H04WGftuTR14WX8HEPkoKiqAQAAgLRUFAEAAAACDAAAgAADAAAAAgwAAIAAAwAAAAIMAACAAAMAAAACDAAAgAADAAAAAgwAAIAAAwAAIMAAAACAAAMAACDAAAAAgAADAAAgwAAAAIAAAwAAIMAAAACAAAMAACDAAAAACDAAAAAgwAAAAAgwAAAAIMAAAAAIMAAAACDAAAAACDAAAAAgwAAAAAgwAAAAAgwAAAAIMAAAAAIMAAAACDAAAAACDAAAAAgwAAAAAgwAAAAIMAAAAAIMAACAAAMAAAACDAAAgAADAAAAAgwAAIAAAwAAAAIMAACAAAMAAAACDAAAgAADAAAgwAAAAIAAAwAAIMAAAACAAAMAACDAAAAAgAADAAAgwAAAAIAAAwAAIMAAAAAIMAAAACDAAAAACDAAAAAgwAAAAAgwAAAAIMAAAAAIMAAAACDAAAAACDAAAAACDAAAAAgwAAAAAgwAAAAIMAAAAAIMAAAACDAAAAACDAAAAAgwAAAAAgwAAIAAAwAAAAIMAACAAAMAAAACDAAAgAADAAAAAgwAAIAAAwAAAAIMAACAAAMAACDAAAAAgAADAAAgwAAAAIAAAwAAIMAAAACAAAMAACDAAAAAgAADAAAgwAAAAIAAAwAAIMAAAAAIMAAAAMTiHfXsIkIRAwBAiahqwQJsjPn3/+W/ihgRpS4haMeYDPUokifWO7UPoRuYDG3sv//H/1C2B9z2jVZ9RZR+AsENserX/tLAnlLvatr/dxUuiDEEdHlF1aimaEnvJI8kIqoqxtxVg/efS3b+bfxCHQ6hBZk5i1pal5DJkG4Q3faXsQATa7kxomqMGhXTjuqN0bYrybdPqYMMT/6sF1qO/fvQ6b1Pnm5uOpaMieydd7FQHjecEek0OI2djC7AbVNQFdtunnR6TpZvjJPMHq2T5LF0TJRkXvFTsekfWaan7RtHG2CwLz24CEMvknkXlmICEn37GdV+K7oT31d6k2zwgW4X57B7maqRbljZ13gvw1bf3JRhVbVaibR982iz0bkyHm57qqoqoxOpqFlyv3S4ShdQ/D6yMTobZ5uFTw7fn3ZVIEeNYQJLHs+8x77J1B6w9Tzi8lRtH5s0mkDFMeqW3rW1+AJS1dZFUTViVOXbeGXug8rkkdtQwUL3a6/YRRKkCypM9L7/ROwwXfsF0W8XHdS31+DMXUZpjdS8WLr718En0N4bxgm+iTdiZu8a7J/d6HIpEDU0g1kf11bCtPWj7S7cjo8PtJ9OOLU/6zgerm6WpHW4Os9+NfZjX6gbUYsYbbuAGmld6bkML1ndlXHC0m1rPyDY0OBty6y6VadZynBS6/G+pGNtVICtvms6dLJLBy/r9j5bXWytQCd1RkZebzcpXEezw5fGj+0JrYeVwREcYiPSWSAjImNBHZxg0VHXFbVcahFTVVrK/LhBgBdMiXzLpVdl8e23o7NXlVZMHvSibiq7pna9qN2B+0SJ7VGm3b36Y77tYWyUv4rd2RbtfGcZeuWh9qN9nFZH+mKOLADp+ruOnlS7UYJM7Z5+jUDX8SvrTnSkwYMZWTCkcyUeHHoZVZWlwWct5CUu5gmNuFEIenuEuxBBjWzNe5mU4E/a+bBmqrqTeJdZD14NQfv1YhQze9/ZOn8jCbE68PjM618pQYZ3FdRXf6cOdFXp69W8XsiwhxPR1HVV14MMy2KrPi7Dum3T99wgXfNibdvr0yMsiZqExA884ETnpv+cOKedEZBGZV0sd4tdp16AdBeaXDyQqWxtb2zxG0J9u5K0aStuMglL1gp0PKRNPH1RIin94mDfzRbsVP/8hr1OazKagRIrjKF7nUfXTPYQRRAxqk1X7q/m9WqkQobd/cKqfZVS11I3VR/AMP380rUGnCI+WVhZOo0z9Kjp2O8PEecAi4PZcTnmlAxfJz2pBdi1QBOWhSYb4Kx3AMnmtKXPWZJ19ZWj5dkG9ltXuGmquq5er+ZVy+tVvV6Ni29UjXVaKn1VumsN05iAurb9JSOmfQ0xciubRqZGf/LUSy+GFicNaT+Lp2nE9sYmI+/J4zs7W3qjNhx4xF9It/UYOvuUj8hCX5u9IrlGhhOHoMXx+IQyHEMDHC+x+y2m8wasC6eSt97DtYvnTNO8PlK9Xs2rqtqppzKezT7RAam0EpWqn62qYkzzqtQWZtWJ3VSRFG1ejTG12DL80qaqTPXSfm5tp5e2DE/nDH7fUH4lc2GWXCvAjViKK2tV4OX10jsSxjRyvZZ3r1mT4bt6wOGjB/k1UAn9rdSeOuJty3DfCFVVmub16QLU36wy7TQ4HQ/q26ltrWfZTeOSypjG9C+VrUis2iIn1lzuaFRGGzWV1qauu8jwS1W1qV7mVWl79aqLH0tdy9dTma49HZzaYX6cNVFueBPZyrAKwgk5dni5THqzFmBkOGpYBlxk2FYaa3mY2MndZt+SpjGt9PY/jdRaVVVV6atqqqoS6Ses9q7k+12/XmqdNtaDNY0aUxk1RsV0nu6rFn1VVVU39UurbrQhTf9TG1FTmW6e8KRvjibc2jJsN+mjMTCA+2pEUQJ8YWQgebhGwx0sx8+DWXSS4aFB9q+KZWVY3S3XbhodVogZY6qqeVUzGVPTNKJa//hRv15NVFNSVaaqpK5fw9IXY0yrtSJVVTeVdA5rF4iuq+a7XKfqfPz9qcji2yBvKxMhisLlnfdDJ7CVO3HvbeCevV0if+WJMrzm/43V9zvvQ0SsDCFa19VHFk7VNHX7VlhVfvyo3+86mp2SpmleL2kaaZqvfPZTpV62L2usCVPfI/XQu1taVKSORoe9CQgwmmp/hS59QIbXBuN9qrJhLzPp5nRJm8V4fCo1n7pqVBqtmqZuJ0C93/X7dVaG67r61K+x7y7fJbnDslGde09iKbGxVgednzkFyDAgwAX32/y76G6srNAFJK4yPKRLtGYwtZm+xch3YcRwOlFj1NSfSoeXr7U0b/nxrt+v5sT9aiP6qeVTv9oPWnVvGmnfPXfJ0WYB9nG9zLNQPcfljdpQt/umxjQLsNFuH5CKEsoccce4dHGjeDnURbXPTCpGVLokQ/1DW/n1uxB0L8OtBtfSvOv3u/HzhlVMJVKJVNJ8Pq9P/frOrmra2VXj9IdTX3kqyc92eSM1VLzYUsfZCDAE7+qYgxjl3u3GKSpqrSG25lcPEmiaxhhjfv58//z5er+bH+/6/arf7/r9bl6WN1ypvkz9Mt9PPs3rz/WPj1a2iGojn6Zq1ffzqbr1u42oSqOylvLiRN7B27cfOsgDfeKyBXg3CAnpLcj5YzBDBzW49SRbbZvKcJeZvGlMVZlGjagxYn7+fP38vDoBfjWtBrcyrP1aorepqz5lZq1Sf378uf5Ra2WstFaNSl1Xn8+rz9ffvvqVZi+87avED5dhjBvimrsHLLTUB3sD8uSqX5LhYXdbUTWmGfbTUSPmX5r3z8/r9Wre7+b9al7tz6oZdgN6q3mb5qX1q6neTVU3VV3Ln+sfjVbtQt7vT2tK89F48vH4s94iy6kmGWcw//GhvK9u38jwM6X6cVU/BJznMmy0nTXd7acnYm9v12X8aBqp66p+Na+6qV9NVamRtxjzNvXL1G+t2/XEn/r1s65+1q+f9UuX98TbncmMEhyyUUxphlIFGBlGhh9WBIsy3C5MUqNGpBap1Jp1XPVJPPRVNdrLcJtjyxj9s3mLmJepTaNNU7Wztz7N69MKsGmTVy+6s/eeVHU0bYWEkOGwtw0IMDIM4S3j/XV3vgfLlgyrkfYfqkbaSVK9//vd3L0xpurnSpuqMXaKZjGvRqWupdPgRuq6MsbY6S03tnKK5gdnUtehph9io+C2Agw382ufbqdOZ6kdXtl253m9mqrSdmOlXk3VSF/0jTTNa8ioZXu6thYm93rvF1mleQMCDMhw6qc7KcPq+3VR7baCENGqal6v0Sa+3e9SqTaqRvVlZbCaZiG+KOwcW4bTPxWLO4obMyHAgAw/1Rtu928IUsIi+nrp7GxNU0lVaftf01RdZLtbhjwdE9xRhnGOAQ8YkOGb29nwBnp4ZzzkqRynhOzeGYuoVCpdCHq0c/A4weXyyWkeNF1AgOE5Mux3sPgeE/s+nZVWDsuwrcHjI0eucyfDosMy4uFbVb8D8eIXDzm+8b3kM1LncnOSW5OAmIPaUuuuogIhP23WQMdkbTg28kzZ068sV3j4r88j3f1LTb/r8FeeRzqa7YojLfDMkHMTkrICGLl5wLxEeVS3kSTHZFwK0/VIW+2/nYc1/Pd9syti2snPS1+dBbdpY3D7ii5GR/IMQSPDuMLnjynG8k5keNiOd9M57v46yLAaaTV4w9ld12ApvJ1sxCGR4YfLcNbkHIKmz0BsdY/VzDxCvqpbgWIxQ5B5ctMjizPL8yyTX/oVSveua/FtDPCQXo8HDA9CQnSPICfRRd2K0XX9EnFsqqNKp8TtJKxOmIdf2j8tlZuOf3mCBsO9LclNQIAhff/RDE6S6L3RyXxYc6UUMfJNvtE/gLSbOfTTtCRq0QFAGDKfBS0EovFOToyFd2dKa7TVTe5+rdu3Wq0dlv9Kq8Tt/GfrdbFTj3lmt2LYAXjA4T0eoYNh/jYbg+ZxbwEeTrqtjVTsLNBtCLoPSgcdwdAIAZ4uwC4ybAivwUMagww7DNqvgUVGrjAAZE9xiThkL/UJJujJ7ovevADmr4QnHwkDUAA84KT+jfsyQcwTGpy1a9s9Qz91a/7yeKTCanUFvU3rPrTq9/JnxrbEK7r7e1NV4fUn8b8CcJkSy0pW7EGYpwr9OBXIp0djWyi6ZwkwMgzluHV69piJi2vleaYxX+uv66OcNmQ4IO8bVd7R8T+TtvKv0Fu5dS5rgvd0Wuydjqw8z6JtNkovE6Z0ggAyDME7Ph4w3jAwNA4tw+6Ct3ikWnshWe+DBRUAQICx1xDEpbiznqxosKwdo10aSuvtb1tA7eZItBeAArlxKkoJ93WNc1eYTRcZfqC7v1kc2k7Cknb5b5dRswtB06boeoAHjEuNpw7RWoiqGG33H+wUWHsXud2UEOh6gAd8A9+LXgq5hgNa6R15wr5y1M3kunffpEcDAly2zfMYaAM4tzaHrNXtMcP8Z1uGh4VJT5LhxD36IeGBpxXXZY9JCBqgSGsxmk2tfVy6k2f/kd830TQAsXoEmHYGT2mFm+KnKt1KX/1KbCvDuHWAeSwRQtCTdnbICfH2XgC2ZNishYK1W3dkjHYa3P7QdnK0+DUx5m2VZp0irctwObLEtuKRqizRgAMPmCEh5CvDW96wdt6w6TxgUTWsCcb+YPoKcoEQYJovXGQJDqbEGnY8+sach/iz4sUCdqy8uyUEfVWDODQWI4fAnWXY8nd11kJkUYmNmm8EWm+fgoP2n3+97HqZkuvd4gEziiy8GUFob3hlr2s7D2UXfJbR9sB6e4Wi/eNx3qdRIcBFNFZl4A+t3A4rjiwZ7hJg6YN6xCOrv7AaJky9zztJu2Hc6jgEU4eShJSD32BlHm5xrQxKLN2/Bm0edkna8bZxSkqW4bJKFVc4Cw8Y8WDs/+gaOSd7YswgtF93aAhE9591GxQqUWiAEiAEjV5CqkHo/lzloUXJ6jDWfu+7JMN0PYBSuHYWtMf6aMbjoe7zlga7gOmy42nPh1uU9d7XGNHeNe7nZOmjOovctyUTKri4m97PA9Y9c0lHSln+t++cWTtJbkppP8Locfrdf2Uh88bemW+X6hmZgVJJHILWJRmg/1xY/rd/wJs0sC7nc6u42m36O5ZhcV8NzI4LADlwSQh6Pi8aY3BmyK9e5X97X9+7gV1WPkcSY3XRV5FpVqwD6V0K238QCAbgAQe2kuDRi5Red4MGNlc+F69UrS2BzdgbXmsV2xKLKwxw1VCGVJRlVb/eYvgiDxyEDTpny+F8QpaItdZoWbPboHoXb+7mYhljdCvY7jDzCzJvmU/sNcnH4qnjslWSdkO/pzBpG1+JnQjhdHmSGJG9/CAq5jsD2l6MJBtKrOzZcIeWiUWNKtVJe0iVsNGcGZjAnXqg5r0CLcr9TJRvUYZX70K/7u83BN3LsFqbMSgd63HOOgQvq3QyfHkImkSVJ1tVubZWk/eri8t2OeB85K5U1XSbAXfBaDXGiIiVIHrR576dmwIQu0enaGZVNj2KTvVMb/hxZXsyDtzPwOoyP9ubAbcaTF8CKMVaZpWKEtMB2Y6dw8uw71DcmvaswwYMxvoQM0rLhDLaT7LdkLYbkM6Op235FWlxhoMh19Gia5VWWiEWY8woGZY8qShyaD/XTk7GTgYvuntOwjo6JMEbZjQKq4U2cX+tD5/WbfJpP7RkWlSpAsxojq4OW7QJN4b/zCQPpdobIgmRBe9iPt7R9C6bysAFNpZEHEU3kQ1De2GYl4wBcZXYGG1/9rOgjXQbBovm2EQvv7TH3Fdx7mgXNnVF9UsHAb63DLsfc9W9gacGS78ZoeiwJriNS1Pk59uhnwxf67gjw+VRZdBuIIiJyeclerKgXNnt5/hiJBmlsbTTQc/KQq9vBimvHilgmNVYRveSwGNO8YDR4LxG+nr3mi1m7G9nwxh09FCKZlUjIsYYVe2ybwzP360A3g5B95Om9ZKWIKnaf4kt2T1gPilMvN6yZaii7B/gDT+h/5Q0kpvkoTyemqPVUek3JWyf394kWFZMTD5xETjTfynMm4AAI8O3scWFmaS5DG+7v4NU24Kt1o6Em64VrhL9F7Ir7eImYenxkn2IC7j4yBKtYHPQy3wr1z398vjIybxWnT+javuVLh10fxKZCPO4lHaCwO7jgFwrKFnrTby4AA2O3RgunmdXPaAy9HntT726Or09QyOiS95wK7dWCLrdjMGI/aHf4GC+TRPQZZ5kLZ+biCO70nmeLaB4AzVczx0XhvKXxXPOK8hFca9T2dJnQSezSLzTfaif9i6kdA7FCh4rIeJVsOZg8W5cVHN6uixk2F0RXZ50mDWt2s2CHmTYHI8ep/J0L58F7Z2sZu2ASKuEMWiXmA5NYr6K9IDxhssqXmokrMcsi2/0h80H7elXth+sWkQDS2l/xesY3TwgmUXCP87Kb3mcB+xSfDTQS4IN1Eh4j9nBMe1mYPWzsShtv2bp0trzWWhOuqsbFt37Xr0LCpXh++f0WZLVaQx513/tXwOriHQJOawC3FuStCP85bdYl9Z1RoaTmS9Fhh8iw6wDho32miworQ8fTomo7O2kMMpDqdPpV2dEtPxpz3K6JeuljfDopQlKBzRrCDBcZrY8urrMJqfo/TrGJeXvKMNjJR5kWE5qcOEyLCFk+MJ2i6Zea9au4X11ScUeThKrcayFQxlo598KFd7JoVfoteUvotabXdnwhgfJHGuwfy0sa7AWpAy7jXmtJUdtM0dTPae0lpg1PODHBBzKHzaaJN4w5a8iozIfUlGa8V4Ou16vnN8jWIxIWeY/ZwfI2+2mZ6Us7UcIcKRuwGKYxEVHgQcv/3l5dt7t8HMiw4vpOAKob8EynM/oPFT0mwHu3Xjn0Q1iDHWRhO1yDl50Eu7I8rZVGN29etSIe1BU+u0Il5cOL159UOJFnXZwoy0ZPvaMpfQLid903aPfGu6GMWse1ZqucVf3Kn3IsZEdr7XCpwO5Tmjajd7PE0+Ofl+akDVS2cnGw2s+8e7dzmPdt8sXvVb+Hk1Xjl/o6EkwfRtmTb1q/xr7wyzopzXWTAzn/YNpbjJ86CW6GLMQbV7fB2lZg73v1jfB9c26jOYkw+BSR/nOi34nKR3jkGrVuI1AIfiY8cKh4v2DaUdcYXtK+ep2hIOza46/4j0Qal7/4o00+OhLE5fUHLsR5qNptrCBJ+tod0vslBlXLvOAd9vi2kAGckazOcmlpaDB+4hTgvh2C8LNm5HNk4cdRty+9QaJDEsmvhcRixyGOO+rW7njAlMGhgGLXQLVHexrcBLp2nWh1P5FpKvZjX0M7xhqFl8fdNfTCtKPmFqVwBsO1afK84B3G9/RafoMGwOWNkQU5pzEbNStXBJv4SSd8Ibpm7lVdHZkNQnLT4bBbwSn92jBRfvHcc68I7GTJNIiC0Y/muOuOXWQIDIcw53CrKW0hFdWwfuK5/cLSkOalrd2HozCegGJ37f0qDxbuScPq7uIjjdv2Ekm2l4rwtAhq1jr0f0HlU6U2+C2wDNf7AEL232UKeeMhGLp91EJP/qVVuyXHOKddVDRNmnQ23nDdCIoQ4Dxa/HFbzXe8nvRO5kDtSt182Dy7lcWFwE7vPo9fKH8ZDhIRtVIGyghw9CRMhWlxuk2kJ0eLdVmjovwgsvwcoOWHQ225dAO/K4km+xE1EputSDn9l0N57RFtL3ooXFDxkHpxaSeZ7ISbgelg5gpbF1sEdH8a4dMWBC1tzw93Y86KNZkVpSx3vUu+p19PHkqqJMNlFw89QTR7+TecJDzJAtKQzyYBR1lgAO3HLTeWobV5RjZlL1BdBfe0a4J9qJYBlkZldk06WTtBxkuTlOzti2XJ+JwP94lhklUp/TelX4QFuVyLvp0dA1um0Bj7ub28epul6SNr6/Pnd6/3RJSczguWZRAbUZ8L4TJSm8oMp2F/i6n0NW5j9GmkeFbF9B4/ZIlyTL8XIxpR3uJW1g8IokMY7KQ4VsJMDxKQZHhfcd6cVlwJE0qX7zXdrxIoPdC2y5zlIYAwzXNLshaC7/Gfc8cLC4B5z15U2Ot6B1ns+omObsJpMzO+f19L7VWcBlOXMUnM+tJsQ/+ZF3Md6zDLGhYa7L6vEtnVgers6UWsmpsT5zelIHd5cjJsnMAPIviPGBemcT2DzTJVQwq693+58t5jZENr3RJUOlEcG8vuYzm/S65iCGeOt7pQvGfRFI3fpHRm0VVFelmYG1sjDjO76EPqZ38miizoNGIDkLQAOWaGLVGALtbaHuHqSFFJcIDQYDhqE+A8Y7oSW9I45BzY3yMzuPSlmc8+rnmHC/96ZnCQPOmgpLCLGjw6wYnR/0Bz3ZDGXbIBT3T0DYIPZuiPMyO3vR6xfqi+958NG+4sII0To0nHXfiAcPlBo4Q3Kq+rgSNdX1koxtrhe3/jjgZhEkR+Ht7w3qVk31LD5hJng8cw2bfKHXRc/UxOSJLjVt0nk16rt/OS3iZqR61bVO8qMZtBRgZxhW4rQx36jvfG1hlLWQ9Xra0fEtUUCDn6VDRUbzuZXvPK76fUYU0dLiFDMuq5dbeP9bxy2MZfq44we0M6u29mABrAzGoHtMxiPbArQMHMstXdWRcP8mrBUcqA8UFPGD/8AL9B0Jb5XhiJhNXuL+QtkmiVVR0+Rtfx1s3bzumN3zXvoYNybMuch9TMgsa/xgiNKkIDcoKWeuy1e8mZ02XE4132FAjO3IR0xWmo0FiMc56bIQAI8MQS4NDy7AOC43c7Yr2zvGofV+5mwIdDWhgHQlC0GVNuCdMDeFd4UW123A0VUU2lxXZs6Dtz9QsbKjRzs/SdoXweEb0MERIvtEv85XgEktusspDkMwDlvtWJ8BOgw8mb0f2q11YBLw8BXpxiOAyb4tuBTcw5ldqE6koAaJqsPp9Uxfthox/cbhAu8rISyz3ndTF5JcAhWjw9W7hO9WjZuSOMDCHPGVYZuZBnQ2Ibs1tbn/qilJKQhm+X8yZxOblisX1dp5JWGtmgo70KIG8/iqy8s/pogr1NyAruy25nCVNRPoG7YexO+TlAWdoUtXtSDQYJzXVHcjI3ZSl1FTaTtsS1bNNUyaXXtp8icaf2xgOblinD38HzFRMyEiGzZAYcriZhZwYYvrZzt1vEvbqvNMFSAQhaEPUCC7yZvZfvoqM912QI2fQtQa+s1BSGJECooAHnFlpugSud485dCcYQtzulS8tvSJe3g1J1y5yNvzzAEdZ6ZsH26c88qnxgFNXjIY4xiQ5CRTkdsuBY/vfZXV2lYsxoY3RNymWy3jftBFIkqt4jPg8PB7FFc69wZ3e5dfxEqqmaUxVmS63lRrp9k9YbGs6/GSnozjxiYdMIpHjJstgtR4rwCaQ9xnvQmWl54RIMny0AUirvk0zLO0dxYFVZTJ3ursZaTdgUDVi9LA1tZ8OGT5Sj0UokGOY3c9zQIYfKsD36NjwNG9YHc7fz5OeZdZoBVjX5eC74Ehpdgl6a+kKpMgwAnxVU0OGIW6Vz/+5Jtsi+no1VdUFk9ulSqPvimkaqWuZe6v962GdXvKybRgeaFsk+8YYO8yODCPAIfyPVDaZkn9K4ciKDM91sRJ9vZtK1MjC6uBGpRL91FVdV/OCFWlTUUqb42OtSBHjp/Zc2euVZ3qoZmBgEWAAhs9u6rslw5W+XvV8UlXTVJWoVFpVWn9en1o2vbEFDUZ94aBznPg8CDAAuAwZZm+C7U+6AYWKyncDX+kP6yPGQ5hYfqM/f//zD3/1+dP707xe9fvV/Ebq39aft6WZ/6f6m7/78Wsjv2lEpVJpFjd0WFzvRGAQtuXTZdWlccvsiwwjwOEdmKPOXMor5uPCBn/SQ2lPLii6fRlWEWNaIVYxosZYE5utd7cqqn/Z/NPvP3/8K/nT+1X/Rupf6s9vP59f6s9L1Rjzf19/8+uPP/zdj1//x/vX2lS2i6y6priSQevSnJr3A+UhYPm7zAZHhhHg4nsLLotHsVxWdC4ybDoNFmk/0O9hppt41c3A+svmn35f/+FfNX/6pf752/rzy+fzS/35pf78v+qvf33/4dcff+hk+MevP827/9bX5FnrlDJ0gmnetyz/ILOpEWBAhpHhs9ELXZbh1v/9BqRb71hUjYj+i/7mf1b/9o/6u/8t//qP8rt/o7/76+ofzdv8aJpWfX9bf35oI8b8kPot9dvUP0z9kZcZTttPvrIvbS5476zsd+8AABnMSURBVEvTRYaRYQQ4btvNoZ8EmVfsF57SS8tWM6umfRkeNLhd2SuWs9ym2mgnMP+z/MXfy9/+g/z+H5rf/7X+oxEjL2N+dDL81ka6hBtGKpVKxZhWfbX9f+ddm7kMZ99NysrJrHnfXg69GBlGgB89XPX4Fr5LLBm2NHhlQwXTabAx5p/lL/6++lv7c/My5kf3e58hS0VM1S846uZ6Deqr03XBJc9/zrxZ0muQ4S3YjOFkM8q2xYhDtydzekm1NsyrGt7syngrpF1fRm/brWjJ2E884EeP5grwtBikl+UfL87b+iaTNFP1tX+ebKYZ+MQa7it3bdsesW7N+ykeBx7w0/0qRqN5y/DUwZ3o6/5GhEYmgvq8mn7CE9N/EWDAlrnqPQZl2eO0lx5Ni7V7dTu86N0JQbfLf8lvhURBthCCBj9bZpIkvinVYnrshjSfijXMqBrUtA9B69wP3rguShyuRUmEe5B79wXAA8asFO0N35/dSPLE/bW/NVbfkYvcVtDCbkjTk+v5AQTgmgMeMF5p4pMwhyuIc6yL8eRhwrPlH7dHyoIfbP2vyy/dSm/327AOSeYDt97PHi1BNmwbnK5vsusfAgy4wp4neZChdvMOnXzKJdFVY+ZObfuLDDJs7zM43Ru4/4eorcbaSrax01J2E7RkVYZlZZs6ZNmn5WvG/RcQYIAiLK6GidCuuLxTPR4+6bbzHeWw1Lm0Wz5s5y5332sTYln62q92Uhmn5hiSfmzf+SNlWPEvISC8Awbw0eDz8rN9kv5P0mrh2pFOQwFZdY7wlbw0mGIDPGCAq2XYOMSWXfzpba/a9keXlNh6GbzhuYr1ilBR4vMyDIAHDJCBDKc58/gTXUh9NZnPvLbhryAmAAgwAKxL4W6sezEv9ER0xaxOpwKACyEEXSJicGBuWa/y9Wv3ws7Tb5kuT4dR0eVAtBizvtsSAOABg4efhG9zMw0+rJFrHnA/3bkTZJc9G2zH2uVWAQAP+OEaDKk18mh1bEvaJFlV66dOZNhF8NppYWoJ8HetkenWI3W7BLvd8NJQQHZuifQdAHjAAAWNqAYvdrIUWLVdiSSH1j6pilHRPsmGdP91uTmGN8e70r7kW++tw2kTZFKlAAgwQIEu9VyGzXxjwa/HqQv7KXU6qaJWrqzJPGgXDfZ0+lFggD0IQQP4COShA3a/tXaG5SXC2qWC7jJMSp9hcqbBxkrdpCuyOUzLYn4WAAIMAHuOpS7t96hGuzDzKEmIe+7MB+eYBLgAQtAAF4io+H7Rdm2tdJV9jLrzc2XiCuvX/1XrBCEd+sXzMFMaAA8YICAa8DwjTT28Tle0dXvXt/y19jEcCbm2mzV8/ehYUolXDYAHDJCjKzz+p9rCeUjJW+dWhwweuuLr6ugD+Q4C4iok3jAAAgyQh/AuZTNTS4LlO3PZUmUjOizz1WGScxeCViPtImDdEHqZ7x68oMFzvfRb/YwMA2xACBqeJHye1l9DnMTJC9aR4H5FU/t5zu1S4XaLwi7pZB+CNqM1SDI+0WpyytEv41j0JHq8psFuzvrqac9UIpFtQIABIID6bkh/+2pYLPdX+lRVk9fGQxJp++WvbNzAggYf00s3QT18WncxRoahUAhBw4M4lEzqiE7ufFlmt9H+ZedmdOFXOeL8LaTvWA9Pn3TsvRdDH/2ibyUC4AEDJHMvV2KV9hrZgxp81vCPXrxKp8GycloNMTN5cRb0hhhroOcL6MgONTWvRAAEGKAMMb5WhmXV0W137N0/bTDR0dV/StgLhZNhQ8AZbgchaHg0HvHMw19Zy7uhkyCz7Lq8MokYT9JLru2SoAsrkVLIPADgAcOj3Fw/GT769d14qasLrQve8GFPei28LAvHOEW2NYoSj5KBsB4JEGCKAMBbho+dRNZl2HvMsS3GunbQTUobAAEGgJC+nTpq7fj9sa5KnZh+D2AXv1z6ZNKiRwcJGQs+AAIMkI/OXXuHuiuyo0Qa05i3zGR4Wwm79cGy502Ps3fI0t0MS41Pjx/ClzNTtAABBoCzw4WRlMy82DVncycCvbvtgkN4fEgBkolzbO+3yExpQIAB8lXBqNZZxFWAlpRuS6UklUe5Uj4BXlzHK3/eKAMCDHBLZ1SPn1AdzySbauIQzFVLG8W4SPcpVZMryv/k0AEgU1gHDBBF48/IjIyVdfvI8WtaDe4ok/oRAA8YYNc/y/huz8vhcWmVtKXN/goACDA8TobX7PgJrYwvw+JwnMuEYtn9llqHSIzSXlFQ/2vxNheeACFoeJYwZ+IN771VdvZhDx4gqRJNxlNQtBkQYABIrttHXfSb7vR38hU7QCYQgoZnilh6j3yyF73aq1cn7ql2U6DXF+2qtSzIRYpkqwDU+cPcZHjtPicFyxtlwAMGgEEFZXM84ODtuhyiMwWS835yjjJ8/hgABBjgYa64nvjG7kaE38lQ0oaXV+eszad2EeYFiAwhaIDwLpePGMuxbxyKQE8uMNoWcHaEzh6WEC4AHjDAWfXM4ULL3q8eO+2wd9E0ury2M8OS+i5eVmaTpX3HHOg2AB4wFOtlbvheLsesa5h63MzBAyS0Czu9//67orvXPi6F/RaHJ4cs0WZsA+ABA8RWYhf9O+6iST4W32N5UbL7l/71sqQoBjxmQIABcnWITx6Trdc1jycvH6YO9394E2KXMtLx3sDBBk9BZJjJYlAohKAhujQeUZRIvmVsrdXzV9mIJ89LTI7s6buWmFKHDYZl0fFtLydmyG4pRo5XmYhHvW9NSxvNIBM0GPCAAXz1O5XpTBPhDHYV3VT0hQW+izIsO3ep2q1QWq+g7i3wIMlBqsztJPuFyU5NgADDc7nQ/DlcWkIkUz7peR+5tB64NycNdrhI+/XZ1GiJGvk4chK9btAGEBdC0JBOg4PbTT24dGfzAL2iTGaXVp8CHF9ODo4DRidZ2zdpSJKZicMZxAu/fBAJCDBAUqnO1X0JL8MBLq2pn2jx7aua7s3xLaWKZCNwFYSgoSQrmUoLLxwBhFLfQ080jdXr0uKomynURHGJbAMeMIC/p+I2r2dHmRJaYY3xlaF8vjOEZ96tukl1cMW1t4TyLpDFWdBnNNg+Cd4w4AEDbKlsII28eeYH7Z9vvkZKvAorSQxAjj7jebGcnwRvGBBggDPO7u0e2ec7+l32O5xEzCSrRmaLea5JUobXC+khBA2Z+m8npWdXtnM0uG7BYr/ZYiLaZ9XQNq/VJKuGd4aN+YKoEMMjOVNTkSo39/YDeMAAEcQ4vLXLOszoECw+5ieKmphZNeaSfHt9IkwNCDDc1r7FiENmHmvdzq3hMxt5CD8Pi4jUx3tG6p4zsICUEIKGzGU4ihnN7xn10L2pexGpqKhYM5D9UmpcNDlcQt1AwOgxGgwIMMD9hhoa29CXllJDY4zDWGsEmUAIGoqVrDjbAHuFGX0C5ksXkrHPp9LvjSR5b1i/uCtR5gHbefshwgx4wAA+pv+4u7mjjsdP7nMrSxcaecMiuuUsx0nOPL6oOFaE/Syue0Xk0X7OzAYHwAMGCI+jSxQjF8Si7Mm5ZBred+cRsS5rhjBTmgEBBsjCGs8nJ+9KbKSUTFmNRkK8OE6UfQxBhSIgBA139mB3fcpNGR6dwSUoHUQ+VZdfqS4/nARQtHmU2+GqZx52a2pVwOnKASdOG0LTgAcMEE6PPb3hFDfav//dupwEvJwcL8kU3vC1juw8QTQAAgzwgMHCV4PFezgxyd2hmxp8XIZjPXg+vibzoiEqhKABzjvKsWWgy+Hs9zDuuaO7C8m+O+gcPwjjfZ48OMiuhQB4wAApBCAnJ3iQUgnykLuR33Bun+ZZkgAIMEAaDS5Yhre1UPr/7Xl4ofKE+GmwPqrKANwhBA24woe+rrsO1qIcukypXZsArGqGGPTakzikV/TPE5LQFQ6zztkl5oxbDGfaDx4wQI5aPvcd5XgPnwq2WdvISPdPe9FsXq8LoYrwIBBggCgknEC7E+bV1tvTkTSmkWESYgBskHUIOtlCeFbc5+cJpRPKEI1B1s7ZZtXQdkmv2BOSRXbcWfF6ENn6c5fiY8gy3T7dNKtG8PraCI97lHYaO4ARuNZQeLcWjxZ1oYHK2gNOthCeFfcp6/EBowc5JNKOIwO/8cRSXUw22dU02uOyuunarhd1FALB+12oYy40ULlPwkpWNAx4Kd7YjrYY0bNnmGusn1CIdw2eUyZZDBI4jyqEhgrx6j39qIt3wABwzFSFUCm/tUbKLC3Ivm0jwAAhfaAo4WIN4ZgunCLOKD7OPAkfGQ41sYsg8y36ps8xsc/gTjGTsAgNQUEafMK4i9+tWlfUftKTOPYyx/hbNMWSk8bhpIVxty3DRTFH99ZgPOBYw16Auxqm2YQmFUEootgWzBE8S4ABSrHgLpmwkvkHcw1ekmrkxKcEKDc4CakooRgfb7B7eZrm8WHDWttMLfQ87Hw0Hpu+/I/c27S1BJrFfaB5hC1Jj0JI9gpvo0i3MpkzdkGAoVglzr379vYl67stSIZ9721a/skWnEQqSb/TXlWtOTenHCAEDaVwNJGF+2ljGOPJ/vZOd4udClcssr2Fhl9ReyxTCaX0RScLCrfDNB4wQC4aHPvMumsKt+3gxv72N9DgeEHdcMUiOd1MqdflifCAAS7ReznvEqVf3Z/ejGJJARBggILc7sBjAu9gehAFdTtDRqmsbj9oYGCUf9HlFYJmXhw8Wupd27+4HHHUgAS3OOsnjD4xzfFZnqBPlzwjwo8HDPBon12ydOHz9IYBEGAAOCe8suQpZ50SCxm+g5ONy+tH9BD0kGm2MFO2M7uVluNZmCUUXYBbXJoprXNlPHIncqz0+p0Lh1h0q8GOCaKTtwQNVdolttuyOsja3WZy52UVZpWmRG72cpcUdJFGNnf1D5b05vAr2gNfkXWfOBtXuKxOlOxu8y+WyeAy57vNvzAJQa82Mtzcp5Z/+NQcqmaWmgOA7vl0EsyC1vyzBrqM9eCq8nfJtRthnNvHcAM/0SV9QeKf9g5dhbAW5vGWHjDzLCDucDvakFwKGj5eahCl3HE2wL0FGFDQLE6S7NJXvXxaet98t5bw2NuD+5EgBH39uLi0Wbi3leHkJ1GHpug6Odnj/h3n0luHaValfVFLkBs01EcxaeeOBYhZfqIHzGueJ48BHA7wsQQnzcfw9ZuZIfraM4vO4+Yfu66EEDRAGLcJzwnDGrjoaC13J+vtCJ9p0YjMpPQSwpZ2ss3erfvXNP3ozEmsXdkjbep81ybepl+5QzG5dwqrteycJJR5jHRaPGCGhHBBaacdNklBxVvuzV/paTzSCLh0xkjFkrK0EWAo2GylkrrM19iwBIjGzJi4SN7UMdzAe0jSS7vUHOECVsOJNNztxfPJJGWFpvdFCnCFHyzDd6Wi3OG+DoS4fHH+2SGd8x6kW69v/XcOTLAPQdBRgh66NH4hknnv+38XURB0Qjjpth70oQ/vGO/XUINsjbAbA/C9t/m3DhfLugYLvf4JGlxuJabR4Dd1CQ/oITFc4QSd9sDp1nrHcEuhZTipKwyFKlPYSgwiAVm1q+quFR+82m4/Fnu2i1xGRXu0hEnj9wuYh5oLQ0uG2JRl7d/UCjGA21f6nt0fhaljr204l4hR+5Zw6C51pTnJoYIK0ghd9raK0Zedy7+8cbn7E2U1ANq47ZP3ebSKnQ3Fsz1gYFmwd4d06JOJFvMEqUQRPf/+WKRLvWmb8t2CitQI2fGeJzrYYe9w3SplKwHIX4bT9MDF7pB+DpeImWiwuwwXbSVuYI7mLxcgtmsenKQhaOKocHnPcVk3nD6j5O4jpL8Zh0IIsI4Za1CKVEDZHrBtShisQf7ecFaLUPMOypGKC6AQAb5qRA8M/93OIDGUr2hnZeXmXbZbBggmAaXPP5jzvroPZ1fTGRpKAk3JS2aaviNIUNrhxar2R0a1BxKuy+jpEkC2M+1TCTTJN4XcVm/yvu1LNJhZ0BmNhiC3thDJG3ZohBokSRbAGSXOeeh/D0ONAOPvwjEZvt+IsyCPgW6FDN9Jht+Z9fx5evoiLdfJJouxCF5Bp4t0P6d06VLk907OqxjR4CLbTLZSt5TIfbWxZbXdVrYesBZt7Ihj37RGmO4LeMPF3O+uiFz+RO/sS/CaUTNLlhnap/QGUHWAm4nIDQR4vwSjOpp4schwqK9sZ77V8Z7AOv7lqgGox7PEtAAMVGK1/Dux8uIpUxkuaBKW3uMNHORsjDzSuIdajqzGGO0shOQtONe9YcEIwJmGml37qR7QaQGub4SOl9axxzeTaom8RDjkwCJg4eH7YpZv+cjv9A9/sOPdvzVMPCHIrBGG/Pr23AJ1Czun0WCT3dxXNDhuj8jA/uy+a9BQ7WFl4nTqZsY6YIZmkK83rFGufjh9FUNDmmVyJdZo/UOv6HZlCPBOrOkJEoUMP5Be4QJHmNe608lMWyckmZe4ELe1zBvnkkXNpR3mOQtajkQPjg55PA3ctsUJLplrJ8QXSVkLiTW4jwRKvB6lM1f4zOV88wZvTUnNKk8C3SEPGXYyy/PXefYnS2F2XfviYz3gi6vzCp/gmZ0KLhvbyswbvqj9F5AnAcoawk5ai5s3fOyAJ3jAABDM6137UynSlnkeRCjO488nz9K1Aqy+BiT2ndDX42mBOtR1btKQr1SdmpKdQcaPozKcaohyt3aydIcS7TElyHlcssGILDQMx06Rw5CuyrutaPxWGLEjRargwl0BYQCUuFp3XWEjAV47u9z/3b3YstYrX2hgQ/aXGI0q2Wag7xJaSbyxqhyt76PD8Eixjjumqs46ZWuMrj5U4vy0KQcpnfsrKs4Tsga3o/3lULHMmu603hO27QKa3FWNfLH8cxs/2e2wUA1+p2rlh8tocbraebt58rR+NR3VFb6jDB+qxFPndzntYvWtL+R3aduydp5FMd4Wiv3GJa5F0hud3QGArNm+4Z8HVw3oZrG4G4rYMpxTerBL0+Cf34yVl/pZe8BX+45aytD4gRs3pWwbC4oo5y/UGf3vMh5jzGzEvZgR+vBLPNk/QJYHpnJUtPZWfTgVy9FlUYtvAfGGjzy4eHSTvQM0Tb42kemFytL13EPQl8pwSX2S/RODl6RjZPiM7ROxXVw7DrvaJGXvAL/bXV8lKWeaXDIZDhqAeZoMR3nqZPV4aYPJXoCDjEcunc3km/JHHZ2RkK/2EgbucjYlAcpnLbI6XEWCVZpOVXmx1ajR1lddVnHnOLWuavr3MRdf08hy+3EJxXskGOmtqodHH70V5WkkXR5k80JrBX4y+bmmKsMiLRrrgFO6pC4jzURj8ECBu4tLOEHWpH0/OMgQc24up/kyjPQHDEo2ujfHOPVMYmW0EeLyMSvFol6aKsE70Q0ac7ZWize1TxRglwAbMgyJ56HItkb637Ounm/J79wf7ItbBwsgwx6aGkWGeQVTSreCpAJ8MjIgBxUp5ZsAl3XiuzZ341vbAT3HS4d00+5oOxyrZhqRnh8TTowXPeylKcc+l9TNl8Tdczm8SB4HrtVlsKxOZkHWbnitpuZzp0/I8G7GmEhNVIM37PwkWR0r+uBFd7OZSqQaKUCAVVUYTQEAAMy1X4naAAAAJKeiCAAAABBgAAAABBgAAAAQYAAAAAQYAAAAEGAAAAAEGAAAABBgAAAABBgAAAAQYAAAAAQYAAAAAQYAAAAEGAAAAAEGAAAABBgAAAABBgAAAAQYAAAAAQYAAAAEGAAAAAEGAABAgAEAAAABBgAAQIABAAAAAQYAAECAAQAAAAEGAABAgAEAAAABBgAAQIABAAAQYAAAAECAAQAAEGAAAABAgAEAABBgAAAAQIABAAAQYAAAAECAAQAAEGAAAAAEGAAAABBgAAAABBgAAAAQYAAAAAQYAAAAEGAAAAAEGAAAABBgAAAABBgAAAABBgAAAAQYAAAAAQYAAAAEGAAAAAEGAAAABBgAAAABBgAAAAQYAAAAAQYAAECAAQAAAAEGAABAgAEAAAABBgAAQIABAAAAAQYAAECAAQAAAAEGAABAgAEAABBgAAAAQIABAAAQYAAAAAjMu+i7FxGqEADgmagqAnwl/+4//zdjjIgxRvtfWm3W/peupsQY8/3r7Hij7V/7w1aO7z9cPv77V2Nk/XhjjKwfb4wRI0b7X1aON2r9dXa80e/gRNaPt8tnfvx2edpFp0a6ElDRoTRUjDGqYrrLiaqxfp8cY6wzdMf0Z25/Xzxz+/vkzN3xS2fujh+fufj7t/46+qStx/mR489Hd7X0+fAs0yNnn3+fYuXz+X2Wf/9mqLXvP7uqtHrr90gz+a5V6d/j+w7neEK1vutyQh3fjGXBlk44e7rvCb8GZ+vpdk84ebrdE6oxpvpP/6t0/SIEDQAAgAADAAAgwAAAAIAAAwAAIMAAAACAAAMAACDAAAAAgAADAADkhxSdSYRMWAAAj4VMWFQAAADggB2GEDQAAAACDAAAgAADAABAJIR3qAAAAHjAAAAAj6CMWdDDbLdFf33xr9tfAQCAEm17qAtNJlFfohRVETWkqm3pzOedt59M/rr9FQAAyER9D9n2kxdSVftUanFJCZQUgl4ro/bzxXEN7i8AQOZWfde2u1vyNanOUwtIxAEAAFdab3cHN7h/ZfvZeMCnynE+mCL+DABQqCslFvaR82Cyh+jaqnGVUrzvUXlDOQ41NIxr0GAAgFKs94aLbP/c8Ix3p25NXLULZeJ91/ojNA0AUK76HvKVbakuyPhXZVXV0Q/LqgwAgEepr7f0TuLSHtfKIThahj4tLuFajN3PP0SAAQDyF+DBes8nZ7kvcllzujxOlYD/D/yFt9XtQmG8AAAAAElFTkSuQmCC'>"
      ],
      "text/plain": [
       "<IPython.core.display.HTML object>"
      ]
     },
     "execution_count": 242,
     "metadata": {},
     "output_type": "execute_result"
    }
   ],
   "source": [
    "figTemp = glucifer.Figure()\n",
    "figTemp.append( glucifer.objects.Surface(mesh, fn.tensor.second_invariant(fn_stress)))\n",
    "#figTemp.append( glucifer.objects.VectorArrows(mesh,velocityField, arrowHead=0.2, scaling=0.0005))\n",
    "\n",
    "figTemp.show()"
   ]
  },
  {
   "cell_type": "markdown",
   "metadata": {},
   "source": [
    "Create an advective-diffusive system\n",
    "=====\n",
    "\n",
    "Setup the system in underworld by flagging the temperature and velocity field variables."
   ]
  },
  {
   "cell_type": "code",
   "execution_count": 243,
   "metadata": {
    "collapsed": false
   },
   "outputs": [],
   "source": [
    "#Create advdiff system\n",
    "\n",
    "advDiff = uw.systems.AdvectionDiffusion( phiField       = temperatureField, \n",
    "                                         phiDotField    = temperatureDotField, \n",
    "                                         velocityField  = velocityField, \n",
    "                                         fn_diffusivity = 1.0, \n",
    "                                         conditions     = [tempBC,] )\n",
    "\n",
    "\n",
    "\n",
    "advector = uw.systems.SwarmAdvector( swarm         = gSwarm, \n",
    "                                     velocityField = velocityField, \n",
    "                                     order         = 1)\n",
    "\n",
    "#Switch particle escape on, this will also trigger the inflow population control \n",
    "gSwarm.particleEscape = True"
   ]
  },
  {
   "cell_type": "markdown",
   "metadata": {},
   "source": [
    "Metrics for benchmark\n",
    "=====\n",
    "\n",
    "Define functions to be used in the time loop. For cases 1-4, participants were asked to report a number of diagnostic quantities to be measured after reaching steady state:\n",
    "\n",
    "* Average temp... $$  \\langle T \\rangle  = \\int^1_0 \\int^1_0 T \\, dxdy $$\n",
    "* Top and bottom Nusselt numbers... $$N = \\int^1_0 \\frac{\\partial T}{\\partial y} \\rvert_{y=0/1} \\, dx$$\n",
    "* RMS velocity over the whole domain, surface and max velocity at surface\n",
    "* max and min viscosity over the whole domain\n",
    "* average rate of work done against gravity...$$\\langle W \\rangle = \\int^1_0 \\int^1_0 T u_y \\, dx dy$$\n",
    "* and the average rate of viscous dissipation...$$\\langle \\Phi \\rangle = \\int^1_0 \\int^1_0 \\tau_{ij} \\dot \\epsilon_{ij} \\, dx dy$$\n",
    "\n",
    "* In steady state, if thermal energy is accurately conserved, the difference between $\\langle W \\rangle$ and $\\langle \\Phi \\rangle / Ra$ must vanish, so also reported is the percentage error: \n",
    "\n",
    "$$ \\delta = \\frac{\\lvert \\langle W \\rangle - \\frac{\\langle \\Phi \\rangle}{Ra} \\rvert}{max \\left(  \\langle W \\rangle,  \\frac{\\langle \\Phi \\rangle}{Ra}\\right)} \\times 100% $$"
   ]
  },
  {
   "cell_type": "code",
   "execution_count": 244,
   "metadata": {
    "collapsed": false
   },
   "outputs": [],
   "source": [
    "#Setup some Integrals. We want these outside the main loop...\n",
    "tempVariable = gSwarm.add_variable( dataType=\"double\", count=1 )\n",
    "tempVariable.data[:] = temperatureField.evaluate(gSwarm)[:]\n",
    "tempint = uw.utils.Integral((tempVariable*rockIntVar), mesh)\n",
    "\n",
    "\n",
    "areaint = uw.utils.Integral((1.*rockIntVar),mesh)\n",
    "\n",
    "v2int = uw.utils.Integral(fn.math.dot(velocityField,velocityField)*rockIntVar, mesh)\n",
    "\n",
    "\n",
    "dwint = uw.utils.Integral(temperatureField*velocityField[1]*rockIntVar, mesh)\n",
    "\n",
    "\n",
    "sinner = fn.math.dot(strainRate_2ndInvariant,strainRate_2ndInvariant)\n",
    "vdint = uw.utils.Integral((4.*mantleviscosityFn*sinner)*rockIntVar, mesh)\n",
    "vdintair = uw.utils.Integral((4.*mantleviscosityFn*sinner)*airIntVar, mesh)\n",
    "vdintlith = uw.utils.Integral((4.*mantleviscosityFn*sinner)*lithIntVar, mesh)"
   ]
  },
  {
   "cell_type": "code",
   "execution_count": 245,
   "metadata": {
    "collapsed": false
   },
   "outputs": [],
   "source": [
    "def avg_temp():\n",
    "    return tempint.evaluate()[0]\n",
    "\n",
    "#This one gets cleaned up when Surface integrals are available\n",
    "def nusselt(tempfield, swarm, dx):\n",
    "    #Update the swarm variable\n",
    "    tempgrad = tempfield.fn_gradient\n",
    "    valcheck = tempgrad[1].evaluate(swarm)\n",
    "    if valcheck is None:\n",
    "        vals = np.array(0, dtype='float64')\n",
    "    else:\n",
    "        vals = valcheck.sum()*dx\n",
    "    return vals\n",
    "\n",
    "def rms():\n",
    "    return math.sqrt(v2int.evaluate()[0])\n",
    "\n",
    "#This one gets cleaned up when Surface integrals are available\n",
    "def rms_surf(swarm, dx):\n",
    "    rmsmaxfn = fn.math.sqrt(fn.math.dot(velocityField,velocityField))\n",
    "    rmscheck = rmsmaxfn.evaluate(swarm)\n",
    "    if rmscheck is None:\n",
    "        rmsvals = np.array(0, dtype='float64')\n",
    "    else:\n",
    "        rmsvals = rmscheck.sum()*dx\n",
    "    return rmsvals\n",
    "\n",
    "def max_vx_surf(velfield, swarm):\n",
    "    surfvelxmaxfn = fn.view.min_max(velfield[0])\n",
    "    surfvelxmaxfn.evaluate(swarm)\n",
    "    return surfvelxmaxfn.max_global()\n",
    "\n",
    "def max_vy_surf(velfield, swarm):\n",
    "    surfvelxmaxfn = fn.view.min_max(velfield[1])\n",
    "    surfvelxmaxfn.evaluate(swarm)\n",
    "    return surfvelxmaxfn.max_global()\n",
    "\n",
    "def gravwork(workfn):\n",
    "    return workfn.evaluate()[0]\n",
    "\n",
    "def viscdis(vdissfn):\n",
    "    return vdissfn.evaluate()[0]\n",
    "\n",
    "def visc_extr(viscfn):\n",
    "    vuviscfn = fn.view.min_max(viscfn)\n",
    "    vuviscfn.evaluate(mesh)\n",
    "    return vuviscfn.max_global(), vuviscfn.min_global()"
   ]
  },
  {
   "cell_type": "code",
   "execution_count": 246,
   "metadata": {
    "collapsed": false
   },
   "outputs": [],
   "source": [
    "#Fields for saving data / fields\n",
    "\n",
    "rmsField = uw.mesh.MeshVariable( mesh=mesh,   nodeDofCount=1)\n",
    "rmsfn = fn.math.sqrt(fn.math.dot(velocityField,velocityField))\n",
    "rmsdata = rmsfn.evaluate(mesh)\n",
    "rmsField.data[:] = rmsdata \n",
    "\n",
    "viscField = uw.mesh.MeshVariable( mesh=mesh,   nodeDofCount=1)\n",
    "viscdata = mantleviscosityFn.evaluate(mesh)\n",
    "viscField.data[:] = viscdata\n",
    "\n",
    "\n",
    "strainrateField = uw.mesh.MeshVariable( mesh=mesh,   nodeDofCount=1)\n",
    "srtdata = fn.tensor.second_invariant( \n",
    "                    fn.tensor.symmetric( \n",
    "                        velocityField.fn_gradient ))\n",
    "rostfield = srtdata.evaluate(mesh)\n",
    "strainrateField.data[:] = rostfield\n",
    "\n",
    "viscVariable = gSwarm.add_variable( dataType=\"float\", count=1 )\n",
    "viscVariable.data[:] = viscosityMapFn.evaluate(gSwarm)"
   ]
  },
  {
   "cell_type": "code",
   "execution_count": 247,
   "metadata": {
    "collapsed": false
   },
   "outputs": [],
   "source": [
    "#Images\n",
    "figEta = glucifer.Figure()\n",
    "figEta.append( glucifer.objects.Points(gSwarm,viscVariable, logScale=True))\n",
    "\n",
    "\n",
    "figMat = glucifer.Figure()\n",
    "figMat.append( glucifer.objects.Points(gSwarm,materialVariable, colours='brown white blue red'))\n",
    "figMat.append( glucifer.objects.Mesh(mesh))\n",
    "\n",
    "\n",
    "figStrainRate = glucifer.Figure()\n",
    "figStrainRate.append( glucifer.objects.Surface(mesh, strainRate_2ndInvariant, logScale=True))\n",
    "\n",
    "\n",
    "figVelocityMag = glucifer.Figure()\n",
    "figVelocityMag.append( glucifer.objects.Surface(mesh, fn.math.dot(velocityField,velocityField))\n",
    ")\n",
    "figTemp = glucifer.Figure()\n",
    "figTemp.append( glucifer.objects.Surface(mesh, temperatureField))\n",
    "\n",
    "\n",
    "\n",
    "#Pack some stuff into a database as well\n",
    "figDb = glucifer.Figure()\n",
    "figDb.append( glucifer.objects.Points(gSwarm,viscVariable, logScale=True, colours='brown white blue'))\n",
    "figDb.append( glucifer.objects.Points(gSwarm,materialVariable, colours='brown white blue red'))\n",
    "figDb.append( glucifer.objects.Mesh(mesh))\n",
    "figDb.append( glucifer.objects.VectorArrows(mesh,velocityField, arrowHead=0.2, scaling=0.002))\n",
    "figDb.append( glucifer.objects.Surface(mesh, strainRate_2ndInvariant, logScale=True, colours='brown white blue'))"
   ]
  },
  {
   "cell_type": "markdown",
   "metadata": {},
   "source": [
    "Main simulation loop\n",
    "=======\n",
    "\n",
    "The main time stepping loop begins here. Before this the time and timestep are initialised to zero and the output statistics arrays are set up. Also the frequency of outputting basic statistics to the screen is set in steps_output.\n"
   ]
  },
  {
   "cell_type": "code",
   "execution_count": 248,
   "metadata": {
    "collapsed": true
   },
   "outputs": [],
   "source": [
    "pics = uw.swarm.PICIntegrationSwarm(gSwarm)"
   ]
  },
  {
   "cell_type": "code",
   "execution_count": 249,
   "metadata": {
    "collapsed": false
   },
   "outputs": [],
   "source": [
    "def checkpoint1(step, checkpointPath,filename, filewrites):\n",
    "    path = checkpointPath + str(step) \n",
    "    os.mkdir(path)\n",
    "    ##Write and save the file, if not already a writing step\n",
    "    if not step % filewrites == 0:\n",
    "        filename.write((13*'%-15s ' + '\\n') % (realtime, Viscdis, float(Nu0glob), float(Nu1glob), Avg_temp, \n",
    "                                              Rms,Rmsurfglob,Max_vx_surf,Gravwork, etamax, etamin, Viscdisair, Viscdislith))\n",
    "    filename.close()\n",
    "    shutil.copyfile(os.path.join(outputPath, outputFile), os.path.join(path, outputFile))\n",
    "\n",
    "\n",
    "def checkpoint2(step, checkpointPath, swarm, filename, varlist = [materialVariable], varnames = ['materialVariable']):\n",
    "    path = checkpointPath + str(step) \n",
    "    velfile = \"velocityField\" + \".hdf5\"\n",
    "    tempfile = \"temperatureField\" + \".hdf5\"\n",
    "    pressfile = \"pressureField\" + \".hdf5\"\n",
    "    velocityField.save(os.path.join(path, velfile))\n",
    "    temperatureField.save(os.path.join(path, tempfile))\n",
    "    pressureField.save(os.path.join(path, pressfile))\n",
    "    swarm.save(os.path.join(path, \"swarm.h5\") ) \n",
    "    for ix in range(len(varlist)):\n",
    "        varb = varlist[ix]\n",
    "        varb.save(os.path.join(path,varnames[ix] + \".h5\"))\n",
    "    "
   ]
  },
  {
   "cell_type": "code",
   "execution_count": 250,
   "metadata": {
    "collapsed": false
   },
   "outputs": [
    {
     "data": {
      "text/plain": [
       "(2.5495327996913645e-05, 1.274826008746458e-05)"
      ]
     },
     "execution_count": 250,
     "metadata": {},
     "output_type": "execute_result"
    }
   ],
   "source": [
    "advector.get_max_dt(), advDiff.get_max_dt()"
   ]
  },
  {
   "cell_type": "code",
   "execution_count": null,
   "metadata": {
    "collapsed": false
   },
   "outputs": [],
   "source": [
    "# initialise timer for computation\n",
    "start = time.clock()\n",
    "# setup summary output file (name above)\n",
    "if checkpointLoad:\n",
    "    if uw.rank() == 0:\n",
    "        shutil.copyfile(os.path.join(checkpointLoadDir, outputFile), outputPath+outputFile)\n",
    "    comm.Barrier()\n",
    "    f_o = open(os.path.join(outputPath, outputFile), 'a')\n",
    "    prevdata = np.genfromtxt(os.path.join(outputPath, outputFile), skip_header=0, skip_footer=0)\n",
    "    if len(prevdata.shape) == 1: #this is in case there is only one line in previous file\n",
    "        realtime = prevdata[0]\n",
    "    else:\n",
    "        realtime = prevdata[prevdata.shape[0]-1, 0]\n",
    "    step = int(checkpointLoadDir.split('/')[-1])\n",
    "    timevals = [0.]\n",
    "else:\n",
    "    f_o = open(outputPath+outputFile, 'w')\n",
    "    realtime = 0.\n",
    "    step = 0\n",
    "    timevals = [0.]"
   ]
  },
  {
   "cell_type": "code",
   "execution_count": null,
   "metadata": {
    "collapsed": false
   },
   "outputs": [
    {
     "name": "stdout",
     "output_type": "stream",
     "text": [
      "0\n",
      "1\n",
      "2\n",
      "3\n",
      "4\n",
      "5\n",
      "6\n",
      "7\n",
      "8\n",
      "9\n",
      "10\n",
      "11\n",
      "12\n",
      "13\n",
      "14\n",
      "15\n",
      "16\n",
      "17\n",
      "18\n",
      "19\n",
      "20\n",
      "21\n",
      "22\n",
      "23\n",
      "24\n",
      "25\n",
      "26\n",
      "27\n",
      "28\n",
      "29\n",
      "30\n",
      "31\n",
      "32\n",
      "33\n",
      "34\n",
      "35\n",
      "36\n",
      "37\n",
      "38\n",
      "39\n",
      "40\n",
      "41\n",
      "42\n",
      "43\n",
      "44\n",
      "45\n",
      "46\n",
      "47\n",
      "48\n",
      "49\n",
      "50\n",
      "51\n",
      "52\n",
      "53\n",
      "54\n",
      "55\n",
      "56\n",
      "57\n",
      "58\n",
      "59\n",
      "60\n",
      "61\n",
      "62\n",
      "63\n",
      "64\n",
      "65\n",
      "66\n",
      "67\n",
      "68\n",
      "69\n",
      "70\n",
      "71\n",
      "72\n",
      "73\n",
      "74\n",
      "75\n",
      "76\n",
      "77\n",
      "78\n",
      "79\n",
      "80\n",
      "81\n",
      "82\n",
      "83\n",
      "84\n",
      "85\n",
      "86\n",
      "87\n",
      "88\n",
      "89\n",
      "90\n",
      "91\n",
      "92\n",
      "93\n",
      "94\n",
      "95\n",
      "96\n",
      "97\n",
      "98\n",
      "99\n",
      "100\n",
      "101\n",
      "102\n",
      "103\n",
      "104\n",
      "105\n",
      "106\n",
      "107\n",
      "108\n",
      "109\n",
      "110\n",
      "111\n",
      "112\n",
      "113\n",
      "114\n",
      "115\n",
      "116\n",
      "117\n",
      "118\n",
      "119\n",
      "120\n",
      "121\n",
      "122\n",
      "123\n",
      "124\n",
      "125\n",
      "126\n",
      "127\n",
      "128\n",
      "129\n",
      "130\n",
      "131\n",
      "132\n",
      "133\n",
      "134\n",
      "135\n",
      "136\n",
      "137\n",
      "138\n",
      "139\n",
      "140\n",
      "141\n",
      "142\n",
      "143\n",
      "144\n",
      "145\n",
      "146\n",
      "147\n",
      "148\n",
      "149\n",
      "150\n",
      "151\n",
      "152\n",
      "153\n",
      "154\n",
      "155\n",
      "156\n",
      "157\n",
      "158\n",
      "159\n",
      "160\n",
      "161\n",
      "162\n",
      "163\n",
      "164\n",
      "165\n",
      "166\n",
      "167\n",
      "168\n",
      "169\n",
      "170\n",
      "171\n",
      "172\n",
      "173\n",
      "174\n",
      "175\n",
      "176\n",
      "177\n",
      "178\n",
      "179\n",
      "180\n",
      "181\n",
      "182\n",
      "183\n",
      "184\n",
      "185\n",
      "186\n",
      "187\n",
      "188\n",
      "189\n",
      "190\n",
      "191\n",
      "192\n",
      "193\n",
      "194\n",
      "195\n",
      "196\n",
      "197\n",
      "198\n",
      "199\n",
      "200\n",
      "201\n",
      "202\n",
      "203\n",
      "204\n",
      "205\n",
      "206\n",
      "207\n",
      "208\n",
      "209\n",
      "210\n",
      "211\n",
      "212\n",
      "213\n",
      "214\n",
      "215\n",
      "216\n",
      "217\n",
      "218\n",
      "219\n",
      "220\n",
      "221\n",
      "222\n",
      "223\n",
      "224\n",
      "225\n",
      "226\n",
      "227\n",
      "228\n",
      "229\n",
      "230\n",
      "231\n",
      "232\n",
      "233\n",
      "234\n",
      "235\n",
      "236\n",
      "237\n",
      "238\n",
      "239\n",
      "240\n",
      "241\n",
      "242\n",
      "243\n",
      "244\n",
      "245\n",
      "246\n",
      "247\n",
      "248\n",
      "249\n",
      "250\n",
      "251\n",
      "252\n",
      "253\n",
      "254\n",
      "255\n",
      "256\n",
      "257\n",
      "258\n",
      "259\n",
      "260\n",
      "261\n",
      "262\n",
      "263\n",
      "264\n",
      "265\n",
      "266\n",
      "267\n",
      "268\n",
      "269\n",
      "270\n",
      "271\n",
      "272\n",
      "273\n",
      "274\n",
      "275\n",
      "276\n",
      "277\n",
      "278\n",
      "279\n",
      "280\n",
      "281\n",
      "282\n",
      "283\n",
      "284\n",
      "285\n",
      "286\n",
      "287\n",
      "288\n",
      "289\n",
      "290\n",
      "291\n",
      "292\n",
      "293\n",
      "294\n",
      "295\n",
      "296\n",
      "297\n",
      "298\n",
      "299\n",
      "300\n",
      "301\n",
      "302\n",
      "303\n",
      "304\n",
      "305\n",
      "306\n",
      "307\n",
      "308\n",
      "309\n",
      "310\n",
      "311\n",
      "312\n",
      "313\n",
      "314\n",
      "315\n",
      "316\n",
      "317\n",
      "318\n",
      "319\n",
      "320\n",
      "321\n",
      "322\n",
      "323\n",
      "324\n",
      "325\n",
      "326\n",
      "327\n",
      "328\n",
      "329\n",
      "330\n",
      "331\n",
      "332\n",
      "333\n",
      "334\n",
      "335\n",
      "336\n",
      "337\n",
      "338\n",
      "339\n",
      "340\n",
      "341\n",
      "342\n",
      "343\n",
      "344\n",
      "345\n",
      "346\n",
      "347\n",
      "348\n",
      "349\n",
      "350\n",
      "351\n",
      "352\n",
      "353\n",
      "354\n",
      "355\n",
      "356\n",
      "357\n",
      "358\n",
      "359\n",
      "360\n",
      "361\n",
      "362\n",
      "363\n",
      "364\n",
      "365\n",
      "366\n",
      "367\n",
      "368\n",
      "369\n",
      "370\n",
      "371\n",
      "372\n",
      "373\n",
      "374\n",
      "375\n",
      "376\n",
      "377\n",
      "378\n",
      "379\n",
      "380\n",
      "381\n",
      "382\n",
      "383\n",
      "384\n",
      "385\n",
      "386\n",
      "387\n",
      "388\n",
      "389\n",
      "390\n",
      "391\n",
      "392\n",
      "393\n",
      "394\n",
      "395\n",
      "396\n",
      "397\n",
      "398\n",
      "399\n",
      "400\n",
      "401\n",
      "402\n",
      "403\n",
      "404\n",
      "405\n",
      "406\n",
      "407\n",
      "408\n",
      "409\n",
      "410\n",
      "411\n",
      "412\n",
      "413\n",
      "414\n",
      "415\n",
      "416\n",
      "417\n",
      "418\n",
      "419\n",
      "420\n",
      "421\n",
      "422\n",
      "423\n",
      "424\n",
      "425\n",
      "426\n",
      "427\n",
      "428\n",
      "429\n",
      "430\n",
      "431\n",
      "432\n",
      "433\n",
      "434\n",
      "435\n",
      "436\n",
      "437\n",
      "438\n",
      "439\n",
      "440\n",
      "441\n",
      "442\n",
      "443\n",
      "444\n",
      "445\n",
      "446\n",
      "447\n",
      "448\n",
      "449\n",
      "450\n",
      "451\n",
      "452\n",
      "453\n",
      "454\n",
      "455\n",
      "456\n",
      "457\n",
      "458\n",
      "459\n",
      "460\n",
      "461\n",
      "462\n",
      "463\n",
      "464\n",
      "465\n",
      "466\n",
      "467\n",
      "468\n",
      "469\n",
      "470\n",
      "471\n",
      "472\n",
      "473\n",
      "474\n",
      "475\n",
      "476\n",
      "477\n",
      "478\n",
      "479\n",
      "480\n",
      "481\n",
      "482\n",
      "483\n",
      "484\n",
      "485\n",
      "486\n",
      "487\n",
      "488\n",
      "489\n",
      "490\n",
      "491\n",
      "492\n",
      "493\n",
      "494\n",
      "495\n",
      "496\n",
      "497\n",
      "498\n",
      "499\n",
      "500\n",
      "501\n",
      "502\n",
      "503\n",
      "504\n",
      "505\n",
      "506\n",
      "507\n",
      "508\n",
      "509\n",
      "510\n",
      "511\n",
      "512\n",
      "513\n",
      "514\n",
      "515\n",
      "516\n",
      "517\n",
      "518\n",
      "519\n",
      "520\n",
      "521\n",
      "522\n",
      "523\n",
      "524\n",
      "525\n",
      "526\n",
      "527\n",
      "528\n",
      "529\n",
      "530\n",
      "531\n",
      "532\n",
      "533\n",
      "534\n",
      "535\n",
      "536\n",
      "537\n",
      "538\n",
      "539\n",
      "540\n",
      "541\n",
      "542\n",
      "543\n",
      "544\n",
      "545\n",
      "546\n",
      "547\n",
      "548\n",
      "549\n",
      "550\n",
      "551\n",
      "552\n",
      "553\n",
      "554\n",
      "555\n",
      "556\n",
      "557\n",
      "558\n",
      "559\n",
      "560\n",
      "561\n",
      "562\n",
      "563\n",
      "564\n",
      "565\n",
      "566\n",
      "567\n",
      "568\n",
      "569\n",
      "570\n",
      "571\n",
      "572\n",
      "573\n",
      "574\n",
      "575\n",
      "576\n",
      "577\n",
      "578\n",
      "579\n",
      "580\n",
      "581\n",
      "582\n",
      "583\n",
      "584\n",
      "585\n",
      "586\n",
      "587\n",
      "588\n",
      "589\n",
      "590\n",
      "591\n",
      "592\n",
      "593\n",
      "594\n",
      "595\n",
      "596\n",
      "597\n",
      "598\n",
      "599\n",
      "600\n",
      "601\n",
      "602\n",
      "603\n",
      "604\n",
      "605\n",
      "606\n",
      "607\n",
      "608\n",
      "609\n",
      "610\n",
      "611\n",
      "612\n",
      "613\n",
      "614\n",
      "615\n",
      "616\n",
      "617\n",
      "618\n",
      "619\n",
      "620\n",
      "621\n",
      "622\n",
      "623\n",
      "624\n",
      "625\n",
      "626\n",
      "627\n",
      "628\n",
      "629\n",
      "630\n",
      "631\n",
      "632\n",
      "633\n",
      "634\n",
      "635\n",
      "636\n",
      "637\n",
      "638\n",
      "639\n",
      "640\n",
      "641\n",
      "642\n",
      "643\n",
      "644\n",
      "645\n",
      "646\n",
      "647\n",
      "648\n",
      "649\n",
      "650\n",
      "651\n",
      "652\n",
      "653\n",
      "654\n",
      "655\n",
      "656\n",
      "657\n",
      "658\n",
      "659\n",
      "660\n",
      "661\n",
      "662\n",
      "663\n",
      "664\n",
      "665\n",
      "666\n",
      "667\n",
      "668\n",
      "669\n",
      "670\n",
      "671\n",
      "672\n",
      "673\n",
      "674\n",
      "675\n",
      "676\n",
      "677\n",
      "678\n",
      "679\n",
      "680\n",
      "681\n",
      "682\n",
      "683\n",
      "684\n",
      "685\n",
      "686\n",
      "687\n",
      "688\n",
      "689\n",
      "690\n",
      "691\n",
      "692\n",
      "693\n",
      "694\n",
      "695\n",
      "696\n",
      "697\n",
      "698\n",
      "699\n",
      "700\n",
      "701\n",
      "702\n",
      "703\n",
      "704\n",
      "705\n",
      "706\n",
      "707\n",
      "708\n",
      "709\n",
      "710\n",
      "711\n",
      "712\n",
      "713\n",
      "714\n",
      "715\n",
      "716\n",
      "717\n",
      "718\n",
      "719\n",
      "720\n",
      "721\n",
      "722\n",
      "723\n",
      "724\n",
      "725\n",
      "726\n",
      "727\n",
      "728\n",
      "729\n",
      "730\n",
      "731\n",
      "732\n",
      "733\n",
      "734\n",
      "735\n",
      "736\n",
      "737\n",
      "738\n",
      "739\n",
      "740\n",
      "741\n",
      "742\n",
      "743\n",
      "744\n",
      "745\n",
      "746\n",
      "747\n",
      "748\n",
      "749\n",
      "750\n",
      "751\n",
      "752\n",
      "753\n",
      "754\n",
      "755\n",
      "756\n",
      "757\n",
      "758\n",
      "759\n",
      "760\n",
      "761\n",
      "762\n",
      "763\n",
      "764\n",
      "765\n",
      "766\n",
      "767\n",
      "768\n",
      "769\n",
      "770\n",
      "771\n",
      "772\n",
      "773\n",
      "774\n",
      "775\n",
      "776\n",
      "777\n",
      "778\n",
      "779\n",
      "780\n",
      "781\n",
      "782\n",
      "783\n",
      "784\n",
      "785\n",
      "786\n",
      "787\n",
      "788\n",
      "789\n",
      "790\n",
      "791\n",
      "792\n",
      "793\n",
      "794\n",
      "795\n",
      "796\n",
      "797\n",
      "798\n",
      "799\n",
      "800\n",
      "801\n",
      "802\n",
      "803\n",
      "804\n",
      "805\n",
      "806\n",
      "807\n",
      "808\n",
      "809\n",
      "810\n",
      "811\n",
      "812\n",
      "813\n",
      "814\n",
      "815\n",
      "816\n",
      "817\n",
      "818\n",
      "819\n",
      "820\n",
      "821\n",
      "822\n",
      "823\n",
      "824\n",
      "825\n",
      "826\n",
      "827\n",
      "828\n",
      "829\n",
      "830\n",
      "831\n",
      "832\n",
      "833\n",
      "834\n",
      "835\n",
      "836\n",
      "837\n",
      "838\n",
      "839\n",
      "840\n",
      "841\n",
      "842\n",
      "843\n",
      "844\n",
      "845\n",
      "846\n",
      "847\n",
      "848\n",
      "849\n",
      "850\n",
      "851\n",
      "852\n",
      "853\n",
      "854\n",
      "855\n",
      "856"
     ]
    }
   ],
   "source": [
    "# initialise timer for computation\n",
    "startMain = time.clock()\n",
    "# Perform steps\n",
    "while realtime < 0.05:\n",
    "#while step < 5:\n",
    "    #Enter non-linear loop\n",
    "    print step\n",
    "    solver.solve(nonLinearIterate=True)\n",
    "    dt = advDiff.get_max_dt()\n",
    "    if step == 0:\n",
    "        dt = 0.\n",
    "    #start = time.clock()\n",
    "    advDiff.integrate(dt)\n",
    "    #machine_time = (time.clock()-start)\n",
    "    #print(\"total advDiff time is: \" + str(machine_time))\n",
    "    # Advect swarm using this timestep size\n",
    "    #start = time.clock()\n",
    "    advector.integrate(dt)\n",
    "    #machine_time = (time.clock()-start)\n",
    "    #print(\"total advector time is: \" + str(machine_time))\n",
    "    # Increment\n",
    "    realtime += dt\n",
    "    step += 1\n",
    "    timevals.append(realtime)\n",
    "    \n",
    "    ################\n",
    "    #Update temperature field in the air region\n",
    "    ################\n",
    "    if (step % sticky_air_temp == 0):\n",
    "        for index, coord in enumerate(mesh.data):\n",
    "            if coord[1] >= 1.:\n",
    "                temperatureField.data[index] = 0.\n",
    " \n",
    "    ################\n",
    "    #Particle update\n",
    "    ###############\n",
    "    if (step % swarm_update == 0) or (step % metric_output == 0): #These updates should be done before any metric output\n",
    "        #These swarm variables get updated first, as they are used to determine material changes\n",
    "        particledepths = 1. - gSwarm.particleCoordinates.data[:,1]\n",
    "        particletemps = temperatureField.evaluate(gSwarm)[:,0]\n",
    "        conditionmap['depthcondition']['data'] = particledepths\n",
    "        conditionmap['avgtempcondition']['data'] = particletemps\n",
    "        ################\n",
    "        number_updated = 0\n",
    "        for particleID in range(gSwarm.particleCoordinates.data.shape[0]):\n",
    "            check = update_swarm(DG, particleID)\n",
    "            if check > -1:\n",
    "                number_updated += 1\n",
    "                #if check == 0:\n",
    "                #    print \"from \" + str(materialVariable.data[particleID]) + \" to \" + str(check)\n",
    "                materialVariable.data[particleID] = check\n",
    "            else:\n",
    "                pass\n",
    "        #Also update those integration swarms\n",
    "        rockIntVar.data[:] = 0.\n",
    "        notair = np.where(materialVariable.data != airIndex)\n",
    "        rockIntVar.data[notair] = 1.\n",
    "        airIntVar.data[:] = 0.\n",
    "        notrock = np.where(materialVariable.data == airIndex)\n",
    "        airIntVar.data[notrock] = 1.\n",
    "        lithIntVar.data[:] = 0.\n",
    "        islith = np.where((materialVariable.data == lithosphereIndex) | (materialVariable.data == crustIndex))\n",
    "        lithIntVar.data[islith] = 1.\n",
    "\n",
    "    ################            \n",
    "    # Calculate the Metrics, only on 1 of the processors:\n",
    "    ################\n",
    "    if (step % metric_output == 0):\n",
    "        tempVariable.data[:] = temperatureField.evaluate(gSwarm)[:]\n",
    "        Avg_temp = avg_temp()\n",
    "        Rms = rms()\n",
    "        Max_vx_surf = max_vx_surf(velocityField, surfintswarm)\n",
    "        Gravwork = gravwork(dwint)\n",
    "        Viscdis = viscdis(vdint)\n",
    "        Viscdisair = viscdis(vdintair)\n",
    "        Viscdislith = viscdis(vdintlith)\n",
    "        etamax, etamin = visc_extr(mantleviscosityFn)\n",
    "        #These are the ones that need mpi4py treatment\n",
    "        Nu0loc = nusselt(temperatureField, baseintswarm, dx)\n",
    "        Nu1loc = nusselt(temperatureField, surfintswarm, dx)\n",
    "        Rmsurfloc = rms_surf(surfintswarm, dx)\n",
    "        #Setup the global output arrays\n",
    "        dTp = Nu0loc.dtype\n",
    "        Nu0glob = np.array(0, dtype=dTp)\n",
    "        dTp = Nu1loc.dtype\n",
    "        Nu1glob = np.array(0, dtype=dTp)\n",
    "        dTp = Rmsurfloc.dtype\n",
    "        Rmsurfglob = np.array(0, dtype=dTp)\n",
    "        #Do global sum\n",
    "        comm.Allreduce(Nu0loc, Nu0glob, op=MPI.SUM)\n",
    "        comm.Allreduce(Nu1loc, Nu1glob, op=MPI.SUM)\n",
    "        comm.Allreduce(Rmsurfloc, Rmsurfglob, op=MPI.SUM)\n",
    "        # output to summary text file\n",
    "        if uw.rank()==0:\n",
    "            f_o.write((13*'%-15s ' + '\\n') % (realtime, Viscdis, float(Nu0glob), float(Nu1glob), Avg_temp, \n",
    "                                              Rms,Rmsurfglob,Max_vx_surf,Gravwork, etamax, etamin, Viscdisair, Viscdislith))\n",
    "    ################\n",
    "    #Gldb output\n",
    "    ################ \n",
    "    if (step % gldbs_output == 0) & (writeFiles == True):\n",
    "        #Rebuild any necessary swarm variables\n",
    "        viscVariable.data[:] = viscosityMapFn.evaluate(gSwarm)\n",
    "        #Write gldbs\n",
    "        fnamedb = \"dbFig\" + \"_\" + str(ModIt) + \"_\" + str(step) + \".gldb\"\n",
    "        fullpath = os.path.join(outputPath + \"gldbs/\" + fnamedb)\n",
    "        figDb.show()\n",
    "        figDb.save_database(fullpath)\n",
    "    ################\n",
    "    #Also repopulate entire swarm periodically\n",
    "    ################\n",
    "    if step % swarm_repop == 0:\n",
    "        pics.repopulate()\n",
    "    ################\n",
    "    #Checkpoint\n",
    "    ################\n",
    "    if step % checkpoint_every == 0:\n",
    "        if uw.rank() == 0:\n",
    "            checkpoint1(step, checkpointPath,f_o, metric_output)           \n",
    "        checkpoint2(step, checkpointPath, gSwarm, f_o, varlist = varlist, varnames = varnames)\n",
    "        f_o = open(os.path.join(outputPath, outputFile), 'a') #is this line supposed to be here?\n",
    "\n",
    "        \n",
    "        \n",
    "f_o.close()\n",
    "#print 'step =',step, '; dt =', dt, '; CPU time =', time.clock()-startMain"
   ]
  },
  {
   "cell_type": "code",
   "execution_count": null,
   "metadata": {
    "collapsed": false
   },
   "outputs": [],
   "source": [
    "viscVariable = gSwarm.add_variable( dataType=\"float\", count=1 )\n",
    "viscVariable.data[:] = viscosityMapFn.evaluate(gSwarm)\n",
    "figEta = glucifer.Figure(figsize=(1024,384))\n",
    "figEta.append( glucifer.objects.Points(gSwarm,viscVariable, logScale=True))\n",
    "figEta.append( glucifer.objects.Mesh(mesh))\n",
    "figEta.show()\n",
    "figEta.save_database('test.gldb')"
   ]
  },
  {
   "cell_type": "code",
   "execution_count": 24,
   "metadata": {
    "collapsed": false
   },
   "outputs": [
    {
     "data": {
      "text/html": [
       "<img src='data:image/png;base64,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'>"
      ],
      "text/plain": [
       "<IPython.core.display.HTML object>"
      ]
     },
     "execution_count": 24,
     "metadata": {},
     "output_type": "execute_result"
    }
   ],
   "source": [
    "figTemp = glucifer.Figure()\n",
    "figTemp.append( glucifer.objects.Surface(mesh, temperatureField))\n",
    "figTemp.append( glucifer.objects.Mesh(mesh))\n",
    "\n",
    "#figTemp.append( glucifer.objects.VectorArrows(mesh,velocityField, arrowHead=0.2, scaling=0.005))\n",
    "figTemp.save_database('test.gldb')\n",
    "figTemp.show()"
   ]
  },
  {
   "cell_type": "code",
   "execution_count": 51,
   "metadata": {
    "collapsed": false
   },
   "outputs": [
    {
     "data": {
      "text/html": [
       "<img src='data:image/png;base64,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'>"
      ],
      "text/plain": [
       "<IPython.core.display.HTML object>"
      ]
     },
     "execution_count": 51,
     "metadata": {},
     "output_type": "execute_result"
    }
   ],
   "source": [
    "figVelocityMag = glucifer.Figure(figsize=(1024,384))\n",
    "figVelocityMag.append( glucifer.objects.Surface(mesh, fn.math.dot(velocityField,velocityField) ))\n",
    "figVelocityMag.show()"
   ]
  },
  {
   "cell_type": "code",
   "execution_count": 52,
   "metadata": {
    "collapsed": false
   },
   "outputs": [
    {
     "data": {
      "text/html": [
       "<img src='data:image/png;base64,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'>"
      ],
      "text/plain": [
       "<IPython.core.display.HTML object>"
      ]
     },
     "execution_count": 52,
     "metadata": {},
     "output_type": "execute_result"
    }
   ],
   "source": [
    "figVelocityMag = glucifer.Figure(figsize=(1024,384))\n",
    "figVelocityMag.append( glucifer.objects.Surface(mesh, pressureField, logScale=True, valueRange=[1e-15,5e-8]) )\n",
    "figVelocityMag.show()"
   ]
  },
  {
   "cell_type": "code",
   "execution_count": 147,
   "metadata": {
    "collapsed": false
   },
   "outputs": [],
   "source": [
    "figSwarm = glucifer.Figure(figsize=(1024,384))\n",
    "figSwarm.append( glucifer.objects.Points(gSwarm,materialVariable, colours='brown white blue red'))\n",
    "figSwarm.append( glucifer.objects.Mesh(mesh))\n",
    "figSwarm.show()\n",
    "figSwarm.save_database('test.gldb')"
   ]
  },
  {
   "cell_type": "code",
   "execution_count": 53,
   "metadata": {
    "collapsed": false
   },
   "outputs": [
    {
     "ename": "NameError",
     "evalue": "name 'start' is not defined",
     "output_type": "error",
     "traceback": [
      "\u001b[0;31m---------------------------------------------------------------------------\u001b[0m",
      "\u001b[0;31mNameError\u001b[0m                                 Traceback (most recent call last)",
      "\u001b[0;32m<ipython-input-53-dc3c2f2e7c24>\u001b[0m in \u001b[0;36m<module>\u001b[0;34m()\u001b[0m\n\u001b[0;32m----> 1\u001b[0;31m \u001b[0mmachine_time\u001b[0m \u001b[0;34m=\u001b[0m \u001b[0;34m(\u001b[0m\u001b[0mtime\u001b[0m\u001b[0;34m.\u001b[0m\u001b[0mclock\u001b[0m\u001b[0;34m(\u001b[0m\u001b[0;34m)\u001b[0m\u001b[0;34m-\u001b[0m\u001b[0mstart\u001b[0m\u001b[0;34m)\u001b[0m\u001b[0;34m\u001b[0m\u001b[0m\n\u001b[0m\u001b[1;32m      2\u001b[0m \u001b[0;32mprint\u001b[0m\u001b[0;34m(\u001b[0m\u001b[0;34m\"total time is: \"\u001b[0m \u001b[0;34m+\u001b[0m \u001b[0mstr\u001b[0m\u001b[0;34m(\u001b[0m\u001b[0mmachine_time\u001b[0m\u001b[0;34m)\u001b[0m\u001b[0;34m)\u001b[0m\u001b[0;34m\u001b[0m\u001b[0m\n",
      "\u001b[0;31mNameError\u001b[0m: name 'start' is not defined"
     ]
    }
   ],
   "source": [
    "machine_time = (time.clock()-start)\n",
    "print(\"total time is: \" + str(machine_time))"
   ]
  },
  {
   "cell_type": "code",
   "execution_count": 54,
   "metadata": {
    "collapsed": false
   },
   "outputs": [
    {
     "data": {
      "text/plain": [
       "1100.5338620296968"
      ]
     },
     "execution_count": 54,
     "metadata": {},
     "output_type": "execute_result"
    }
   ],
   "source": [
    "#Sanity check for periodic conditions\n",
    "velocityField.evaluate(TWalls)[:,0].max()"
   ]
  },
  {
   "cell_type": "code",
   "execution_count": 31,
   "metadata": {
    "collapsed": false
   },
   "outputs": [
    {
     "name": "stdout",
     "output_type": "stream",
     "text": [
      "TWalls x vel is: 3.17721915245\n",
      "IWalls x vel is: -0.143166437745\n"
     ]
    }
   ],
   "source": [
    "print(\"TWalls x vel is: \" + str(velocityField.evaluate(TWalls)[:,0].max()))\n",
    "print(\"IWalls x vel is: \" + str(velocityField.evaluate(IWalls)[:,0].max()))\n"
   ]
  },
  {
   "cell_type": "code",
   "execution_count": null,
   "metadata": {
    "collapsed": true
   },
   "outputs": [],
   "source": [
    "ts = ((D*1e3)**2)/k\n",
    "secperyear = (3600*24*365)\n",
    "dt*ts/secperyear\n",
    "\n",
    "#2.25895987733e-05*ts/secperyear"
   ]
  }
 ],
 "metadata": {
  "kernelspec": {
   "display_name": "Python 2",
   "language": "python",
   "name": "python2"
  },
  "language_info": {
   "codemirror_mode": {
    "name": "ipython",
    "version": 2
   },
   "file_extension": ".py",
   "mimetype": "text/x-python",
   "name": "python",
   "nbconvert_exporter": "python",
   "pygments_lexer": "ipython2",
   "version": "2.7.11"
  }
 },
 "nbformat": 4,
 "nbformat_minor": 0
}
