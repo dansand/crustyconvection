{
 "cells": [
  {
   "cell_type": "markdown",
   "metadata": {
    "collapsed": true
   },
   "source": [
    "Crameri-Tackley model\n",
    "=======\n",
    "\n",
    "From Cramer and Tackley 2015\n",
    "--------\n",
    "\n"
   ]
  },
  {
   "cell_type": "markdown",
   "metadata": {
    "collapsed": true
   },
   "source": [
    "\n",
    "\n",
    "\n",
    "References\n",
    "====\n",
    "\n",
    "\n"
   ]
  },
  {
   "cell_type": "markdown",
   "metadata": {},
   "source": [
    "Load python functions needed for underworld. Some additional python functions from os, math and numpy used later on."
   ]
  },
  {
   "cell_type": "code",
   "execution_count": 1,
   "metadata": {
    "collapsed": false
   },
   "outputs": [
    {
     "name": "stderr",
     "output_type": "stream",
     "text": [
      "Vendor:  Continuum Analytics, Inc.\n",
      "Package: mkl\n",
      "Message: trial mode expires in 30 days\n"
     ]
    }
   ],
   "source": [
    "import underworld as uw\n",
    "import math\n",
    "from underworld import function as fn\n",
    "import glucifer\n",
    "#import matplotlib.pyplot as pyplot\n",
    "import time\n",
    "import numpy as np\n",
    "import os\n",
    "import sys\n",
    "import natsort\n",
    "import shutil\n",
    "from easydict import EasyDict as edict\n",
    "\n",
    "from mpi4py import MPI\n",
    "comm = MPI.COMM_WORLD\n",
    "rank = comm.Get_rank()"
   ]
  },
  {
   "cell_type": "code",
   "execution_count": 2,
   "metadata": {
    "collapsed": false
   },
   "outputs": [
    {
     "name": "stdout",
     "output_type": "stream",
     "text": [
      "/Users/dansandiford/Documents/programming/earthsci_code/python/crustyconvection\r\n",
      "analysis.ipynb    \u001b[1m\u001b[34mcheckpoint\u001b[m\u001b[m        \u001b[1m\u001b[34mstickyairtests\u001b[m\u001b[m\r\n",
      "base_model.ipynb  raijin_single.pbs \u001b[1m\u001b[34mtemp_ics\u001b[m\u001b[m\r\n",
      "base_model.py     \u001b[1m\u001b[34mresults\u001b[m\u001b[m           test.gldb\r\n"
     ]
    }
   ],
   "source": [
    "#Display working directory info if in nb mode\n",
    "if (len(sys.argv) > 1):\n",
    "    if (sys.argv[1] == '-f'):\n",
    "        !pwd && ls\n",
    "        "
   ]
  },
  {
   "cell_type": "code",
   "execution_count": 3,
   "metadata": {
    "collapsed": false
   },
   "outputs": [],
   "source": [
    "############\n",
    "#Model name.  \n",
    "############\n",
    "Model = \"T\"\n",
    "ModNum = 9\n",
    "\n",
    "if len(sys.argv) == 1:\n",
    "    ModIt = \"Base\"\n",
    "elif sys.argv[1] == '-f':\n",
    "    ModIt = \"Base\"\n",
    "else:\n",
    "    ModIt = str(sys.argv[1])"
   ]
  },
  {
   "cell_type": "markdown",
   "metadata": {},
   "source": [
    "Set physical constants and parameters, including the Rayleigh number (*RA*). "
   ]
  },
  {
   "cell_type": "code",
   "execution_count": 4,
   "metadata": {
    "collapsed": true
   },
   "outputs": [],
   "source": [
    "###########\n",
    "#Standard output directory setup\n",
    "###########\n",
    "\n",
    "\n",
    "outputPath = \"results\" + \"/\" +  str(Model) + \"/\" + str(ModNum) + \"/\" + str(ModIt) + \"/\"\n",
    "imagePath = outputPath + 'images/'\n",
    "filePath = outputPath + 'files/'\n",
    "checkpointPath = outputPath + 'checkpoint/'\n",
    "dbPath = outputPath + 'gldbs/'\n",
    "outputFile = 'results_model' + Model + '_' + str(ModNum) + '_' + str(ModIt) + '.dat'\n",
    "\n",
    "if uw.rank()==0:\n",
    "    # make directories if they don't exist\n",
    "    if not os.path.isdir(outputPath):\n",
    "        os.makedirs(outputPath)\n",
    "    if not os.path.isdir(checkpointPath):\n",
    "        os.makedirs(checkpointPath)\n",
    "    if not os.path.isdir(imagePath):\n",
    "        os.makedirs(imagePath)\n",
    "    if not os.path.isdir(dbPath):\n",
    "        os.makedirs(dbPath)\n",
    "    if not os.path.isdir(filePath):\n",
    "        os.makedirs(filePath)\n",
    "        \n",
    "comm.Barrier() #Barrier here so not procs run the check in the next cell too early "
   ]
  },
  {
   "cell_type": "code",
   "execution_count": 5,
   "metadata": {
    "collapsed": false
   },
   "outputs": [
    {
     "name": "stdout",
     "output_type": "stream",
     "text": [
      "results/T/6/Base/checkpoint/ is empty\n",
      "results/T/6/Base/checkpoint/100 has files\n",
      "results/T/6/Base/checkpoint/125 has files\n",
      "results/T/6/Base/checkpoint/150 has files\n",
      "results/T/6/Base/checkpoint/175 has files\n",
      "results/T/6/Base/checkpoint/200 has files\n",
      "results/T/6/Base/checkpoint/225 has files\n",
      "results/T/6/Base/checkpoint/25 has files\n",
      "results/T/6/Base/checkpoint/250 has files\n",
      "results/T/6/Base/checkpoint/275 has files\n",
      "results/T/6/Base/checkpoint/300 has files\n",
      "results/T/6/Base/checkpoint/50 has files\n",
      "results/T/6/Base/checkpoint/75 has files\n"
     ]
    }
   ],
   "source": [
    "###########\n",
    "#Check if starting from checkpoint\n",
    "###########\n",
    "\n",
    "checkdirs = []\n",
    "for dirpath, dirnames, files in os.walk(checkpointPath):\n",
    "    if files:\n",
    "        print dirpath, 'has files'\n",
    "        checkpointLoad = True\n",
    "        checkdirs.append(dirpath)\n",
    "    if not files:\n",
    "        print dirpath, 'is empty'\n",
    "        checkpointLoad = False\n",
    "        \n"
   ]
  },
  {
   "cell_type": "code",
   "execution_count": 6,
   "metadata": {
    "collapsed": false
   },
   "outputs": [],
   "source": [
    "###########\n",
    "#Physical parameters\n",
    "###########\n",
    "\n",
    "#The Slippy rheology class will contain dimensional and nondimensional values, linked in a self-consistent way by scaling paramters\n",
    "#lowermantle.nondimensional['cohesion']\n",
    "#Where lowermantle is a material class (generated within a rheology class); and non dimensional is a dictionary\n",
    "\n",
    "#UW naming conventions: \n",
    "#module_name, package_name, ClassName, function_name, method_name, \n",
    "#ExceptionName, propertyName GLOBAL_CONSTANT_NAME, globalVarName, instanceVarName, functionParameterName, localVarName\n",
    "###########\n",
    "\n",
    "\n",
    "#dimensional parameter dictionary\n",
    "dp = edict({'LS':2890.*1e3,\n",
    "           'rho':3300,\n",
    "           'g':9.81, \n",
    "           'eta0':1e23,\n",
    "           'k':10**-6,\n",
    "           'a':1.25*10**-5, \n",
    "           'TS':273.,\n",
    "           'TB':2773.,\n",
    "           'deltaT':2500, \n",
    "           'cohesion':1e7, \n",
    "           'E':240000., \n",
    "           'R':8.314,\n",
    "           'V':6.34*(10**-7) })\n",
    "\n",
    "#non-dimensional parameter dictionary\n",
    "ndp = edict({'RA':1e6, \n",
    "              'LS':1.,\n",
    "              'eta0':1.,\n",
    "              'k':1.,\n",
    "              'fc':0.1,\n",
    "              'E':11.55,\n",
    "              'V':3.0,\n",
    "              'H':20.,\n",
    "              'TR':(1600./2500.),\n",
    "              'TS':(dp.TS/2500.),\n",
    "              'RD':1.,\n",
    "              'cohesion':1577.})\n",
    "              #'cohesion':5*1577.})\n",
    "\n",
    "\n",
    "#A few parameters defining lengths scales, affects materal transistions etc.\n",
    "MANTLETOCRUST = (18.*1e3)/dp.LS #Crust depth\n",
    "CRUSTTOMANTLE = (300.*1e3)/dp.LS \n",
    "LITHTOMANTLE = (660.*1e3)/dp.LS \n",
    "MANTLETOLITH = (200.*1e3)/dp.LS \n",
    "TOPOHEIGHT = (15.*1e3)/dp.LS  #rock-air topography limits\n",
    "AVGTEMP = 0.53 #Used to define lithosphere\n",
    "\n",
    "\n",
    "#Compositional Rayliegh number of rock-air\n",
    "ETAREF = dp.rho*dp.g*dp.a*dp.deltaT*((dp.LS)**3)/(ndp.RA*dp.k) #equivalent dimensional reference viscosity\n",
    "RC = (3300.*dp.g*(dp.LS)**3)/(ETAREF *dp.k) #Composisitional Rayleigh number for rock-air buoyancy force\n",
    "COMP_RA_FACT = RC/ndp.RA\n",
    "\n",
    "\n",
    "#Additional dimensionless paramters\n",
    "AIRVISCOSITY = 0.001\n",
    "AIRDENSITY = ndp.RA*COMP_RA_FACT\n",
    "\n",
    "\n",
    "#######################To be replaced soon\n",
    "#Physical parameters that can be defined with STDIN,\n",
    "#The == '-f': check is a a hack check to see cover the notebook case\n",
    "if len(sys.argv) == 1:\n",
    "    ndp.cohesion = ndp.cohesion\n",
    "elif sys.argv[1] == '-f':\n",
    "    ndp.cohesion = ndp.cohesion\n",
    "else:\n",
    "    ndp.cohesion = float(sys.argv[1])*newvisc"
   ]
  },
  {
   "cell_type": "code",
   "execution_count": 7,
   "metadata": {
    "collapsed": false
   },
   "outputs": [],
   "source": [
    "###########\n",
    "#Model setup parameters\n",
    "###########\n",
    "\n",
    "stickyAir = False\n",
    "\n",
    "MINX = -1.\n",
    "MINY = 0.\n",
    "MAXX = 1.0\n",
    "\n",
    "#MAXY = 1.035\n",
    "MAXY = 1.\n",
    "\n",
    "if MINX == 0.:\n",
    "    squareModel = True\n",
    "else: \n",
    "    squareModel = False\n",
    "    \n",
    "    \n",
    "dim = 2          # number of spatial dimensions\n",
    "\n",
    "\n",
    "#MESH STUFF\n",
    "\n",
    "RES = 128\n",
    "\n",
    "if MINX == 0.:\n",
    "    Xres = RES\n",
    "else:\n",
    "    Xres = 2*RES\n",
    "\n",
    "if stickyAir:\n",
    "    Yres = RES + 8\n",
    "    MAXY = float(Yres)/RES\n",
    "    \n",
    "else:\n",
    "    Yres = RES\n",
    "    MAXY = 1.\n",
    "\n",
    "\n",
    "periodic = [True,False]\n",
    "elementType = \"Q1/dQ0\"\n",
    "#elementType =\"Q2/DPC1\"\n",
    "\n",
    "refineMesh = False\n",
    "\n",
    "s = 1.2 #Mesh refinement parameter\n",
    "ALPHA = 11. #Mesh refinement parameter\n",
    "\n",
    "#System/Solver stuff\n",
    "\n",
    "PIC_integration=False"
   ]
  },
  {
   "cell_type": "code",
   "execution_count": 8,
   "metadata": {
    "collapsed": true
   },
   "outputs": [],
   "source": [
    "###########\n",
    "#Model Runtime parameters\n",
    "###########\n",
    "\n",
    "swarm_update = 25\n",
    "swarm_repop = 25\n",
    "files_output = 1e6\n",
    "gldbs_output = 25\n",
    "images_output = 1e6\n",
    "checkpoint_every = 25\n",
    "metric_output = 25\n",
    "sticky_air_temp = 10\n",
    "\n",
    "comm.Barrier() #Barrier here so not procs run the check in the next cell too early \n",
    "\n",
    "assert metric_output <= checkpoint_every, 'Checkpointing should run less or as ofen as metric output'\n",
    "assert (metric_output >= swarm_update), 'Swarm update is needed before checkpointing'\n",
    "assert metric_output >= sticky_air_temp, 'Sticky air temp should be updated more frequently that metrics'\n"
   ]
  },
  {
   "cell_type": "code",
   "execution_count": 9,
   "metadata": {
    "collapsed": false
   },
   "outputs": [],
   "source": [
    "###########\n",
    "#Model output parameters\n",
    "###########\n",
    "\n",
    "#Do you want to write hdf5 files - Temp, RMS, viscosity, stress?\n",
    "writeFiles = True\n",
    "loadTemp = True\n"
   ]
  },
  {
   "cell_type": "code",
   "execution_count": 10,
   "metadata": {
    "collapsed": false
   },
   "outputs": [],
   "source": [
    "mesh = uw.mesh.FeMesh_Cartesian( elementType = (\"Q1/dQ0\"),\n",
    "                                 elementRes  = (Xres, Yres), \n",
    "                                 minCoord    = (MINX,MINY), \n",
    "                                 maxCoord=(MAXX,MAXY), periodic=periodic)\n",
    "\n",
    "\n",
    "\n",
    "velocityField       = uw.mesh.MeshVariable( mesh=mesh,         nodeDofCount=dim )\n",
    "pressureField       = uw.mesh.MeshVariable( mesh=mesh.subMesh, nodeDofCount=1 )\n",
    "temperatureField    = uw.mesh.MeshVariable( mesh=mesh,         nodeDofCount=1 )\n",
    "temperatureDotField = uw.mesh.MeshVariable( mesh=mesh,         nodeDofCount=1 )"
   ]
  },
  {
   "cell_type": "code",
   "execution_count": 11,
   "metadata": {
    "collapsed": false
   },
   "outputs": [
    {
     "data": {
      "text/plain": [
       "(256, 128, -1.0, 1.0, 0.0, 1.0, [True, False], 'Q1/dQ0', 2)"
      ]
     },
     "execution_count": 11,
     "metadata": {},
     "output_type": "execute_result"
    }
   ],
   "source": [
    "Xres, Yres, MINX,MAXX,MINY,MAXY, periodic, elementType, dim "
   ]
  },
  {
   "cell_type": "markdown",
   "metadata": {},
   "source": [
    "##Refine mesh"
   ]
  },
  {
   "cell_type": "markdown",
   "metadata": {
    "collapsed": true
   },
   "source": [
    "if refineMesh:\n",
    "    alpha=ALPHA\n",
    "    newys = []\n",
    "    newxs = []\n",
    "    for index, coord in enumerate(linearMesh.data):\n",
    "        y0 = coord[1]\n",
    "        x0 = abs(coord[0])\n",
    "        if y0 >= 1.0:\n",
    "            newy = y0\n",
    "        else:\n",
    "            newy = (math.log(alpha*y0 + math.e) - 1)*(1/(math.log(alpha + math.e) - 1))\n",
    "        newx = (math.log((alpha/2.)*x0 + math.e) - 1)*(1/(math.log((alpha/2.) + math.e) - 1))\n",
    "        if coord[0] <= 0:\n",
    "            newx = -1.*newx\n",
    "        newys.append(newy)\n",
    "        newxs.append(newx)\n",
    "        \n",
    "    with linearMesh.deform_mesh():\n",
    "        linearMesh.data[:,1] = newys\n",
    "        linearMesh.data[:,0] = newxs"
   ]
  },
  {
   "cell_type": "code",
   "execution_count": 12,
   "metadata": {
    "collapsed": false
   },
   "outputs": [],
   "source": [
    "#THis one for the rectangular mesh\n",
    "\n",
    "if refineMesh:\n",
    "    alpha = ALPHA\n",
    "    newys = []\n",
    "    newxs = []\n",
    "    for index, coord in enumerate(mesh.data):\n",
    "        y0 = coord[1]\n",
    "        x0 = abs(coord[0])\n",
    "        if y0 == MAXY:\n",
    "            newy = y0\n",
    "        else:\n",
    "            ynorm = y0/MAXY\n",
    "            newy = MAXY*(math.log(alpha*ynorm + math.e) - 1)*(1/(math.log(alpha + math.e) - 1))\n",
    "        if coord[0] > 0:\n",
    "            newx = (math.e**(x0*(math.log((alpha/2.) + math.e) - 1) + 1 ) - math.e)/(alpha/2.)\n",
    "        else:\n",
    "            newx = -1.*(math.e**(x0*(math.log((alpha/2.) + math.e) - 1) + 1 ) - math.e)/(alpha/2.)\n",
    "        newys.append(newy)\n",
    "        newxs.append(newx)\n",
    "        #print y0,newy\n",
    "\n",
    "    with mesh.deform_mesh():\n",
    "            mesh.data[:,1] = newys\n",
    "            mesh.data[:,0] = newxs"
   ]
  },
  {
   "cell_type": "markdown",
   "metadata": {},
   "source": [
    "#ICs and BCs"
   ]
  },
  {
   "cell_type": "code",
   "execution_count": 13,
   "metadata": {
    "collapsed": false
   },
   "outputs": [],
   "source": [
    "# Initialise data.. Note that we are also setting boundary conditions here\n",
    "velocityField.data[:] = [0.,0.]\n",
    "pressureField.data[:] = 0.\n",
    "temperatureField.data[:] = 0.\n",
    "temperatureDotField.data[:] = 0.\n",
    "\n",
    "def wbl(x, w0 = 0.06):\n",
    "    delx = 1- abs(x)\n",
    "    Wbl = w0*math.sqrt(delx)\n",
    "    if Wbl== 0.: #to avoid division by zero\n",
    "        Wbl = 1e-8\n",
    "    return Wbl\n",
    "\n",
    "\n",
    "\n",
    "def tempf(z,w,t0=0.64):\n",
    "    temp = t0*math.erf((1-z)/w)\n",
    "    return temp\n",
    "\n"
   ]
  },
  {
   "cell_type": "code",
   "execution_count": 14,
   "metadata": {
    "collapsed": false
   },
   "outputs": [],
   "source": [
    "for index, coord in enumerate(mesh.data):\n",
    "    w = wbl(coord[0])\n",
    "    t = tempf(coord[1], w)\n",
    "    temperatureField.data[index] = t\n",
    "\n",
    "\n",
    "for index, coord in enumerate(mesh.data):\n",
    "    if abs(coord[0]) < wbl(0)/2. and coord[1] > 0.5:\n",
    "        w = wbl(0)/2.\n",
    "        d = w - abs(coord[0])\n",
    "        t = tempf(d, coord[1], w)\n",
    "        temperatureField.data[index] = t\n",
    "        \n",
    "        \n",
    "\n",
    "#Set sticky air Temp to zero\n",
    "\n",
    "for index, coord in enumerate(mesh.data):\n",
    "    if coord[1] > 1.:\n",
    "        temperatureField.data[index] = 0."
   ]
  },
  {
   "cell_type": "code",
   "execution_count": 15,
   "metadata": {
    "collapsed": true
   },
   "outputs": [],
   "source": [
    "#For notebook runs\n",
    "#ModIt = \"96\""
   ]
  },
  {
   "cell_type": "code",
   "execution_count": 16,
   "metadata": {
    "collapsed": false
   },
   "outputs": [],
   "source": [
    "# Get the actual sets \n",
    "#\n",
    "#  HJJJJJJH\n",
    "#  I      I\n",
    "#  I      I\n",
    "#  I      I\n",
    "#  HJJJJJJH\n",
    "#  \n",
    "#  Note that H = I & J \n",
    "\n",
    "# Note that we use operator overloading to combine sets\n",
    "# send boundary condition information to underworld\n",
    "IWalls = mesh.specialSets[\"MinI_VertexSet\"] + mesh.specialSets[\"MaxI_VertexSet\"]\n",
    "JWalls = mesh.specialSets[\"MinJ_VertexSet\"] + mesh.specialSets[\"MaxJ_VertexSet\"]\n",
    "TWalls = mesh.specialSets[\"MaxJ_VertexSet\"]\n",
    "BWalls = mesh.specialSets[\"MinJ_VertexSet\"]"
   ]
  },
  {
   "cell_type": "code",
   "execution_count": null,
   "metadata": {
    "collapsed": true
   },
   "outputs": [],
   "source": []
  },
  {
   "cell_type": "code",
   "execution_count": 17,
   "metadata": {
    "collapsed": false
   },
   "outputs": [],
   "source": [
    "# Now setup the dirichlet boundary condition\n",
    "# Note that through this object, we are flagging to the system \n",
    "# that these nodes are to be considered as boundary conditions. \n",
    "# Also note that we provide a tuple of sets.. One for the Vx, one for Vy.\n",
    "freeslipBC = uw.conditions.DirichletCondition( variable      = velocityField, \n",
    "                                               indexSetsPerDof = (None, JWalls) )\n",
    "\n",
    "# also set dirichlet for temp field\n",
    "tempBC = uw.conditions.DirichletCondition(     variable=temperatureField, \n",
    "                                              indexSetsPerDof=(JWalls,) )\n",
    "\n",
    "\n",
    "# set initial conditions (and boundary values)\n",
    "velocityField.data[:] = [0.,0.]\n",
    "pressureField.data[:] = 0.\n",
    "\n",
    "\n",
    "\n"
   ]
  },
  {
   "cell_type": "markdown",
   "metadata": {},
   "source": [
    "##Add Random 125 K temp perturbation\n"
   ]
  },
  {
   "cell_type": "code",
   "execution_count": 18,
   "metadata": {
    "collapsed": true
   },
   "outputs": [],
   "source": [
    "tempNump = temperatureField.data\n",
    "\n",
    "#In gerneral we only want to do this on the initial setup, not restarts\n",
    "\n",
    "if not checkpointLoad:\n",
    "    for index, coord in enumerate(mesh.data):\n",
    "        pertCoeff = (0.05*np.random.rand(1)[0])\n",
    "        ict = tempNump[index]\n",
    "        tempNump[index] = ict + pertCoeff"
   ]
  },
  {
   "cell_type": "markdown",
   "metadata": {},
   "source": [
    "##Reset bottom Dirichlet conds."
   ]
  },
  {
   "cell_type": "code",
   "execution_count": 19,
   "metadata": {
    "collapsed": false
   },
   "outputs": [],
   "source": [
    "# Set temp boundaries \n",
    "# on the boundaries\n",
    "for index in mesh.specialSets[\"MinJ_VertexSet\"]:\n",
    "    temperatureField.data[index] = ndp.TR\n",
    "for index in mesh.specialSets[\"MaxJ_VertexSet\"]:\n",
    "    temperatureField.data[index] = ndp.TS"
   ]
  },
  {
   "cell_type": "code",
   "execution_count": 20,
   "metadata": {
    "collapsed": false
   },
   "outputs": [],
   "source": [
    "#temperatureField.evaluate(IWalls).min()"
   ]
  },
  {
   "cell_type": "markdown",
   "metadata": {},
   "source": [
    "#Particles"
   ]
  },
  {
   "cell_type": "code",
   "execution_count": 21,
   "metadata": {
    "collapsed": false
   },
   "outputs": [],
   "source": [
    "###########\n",
    "#Material Swarm and variables\n",
    "###########\n",
    "\n",
    "gSwarm = uw.swarm.Swarm(mesh=mesh)\n",
    "materialVariable = gSwarm.add_variable( dataType=\"char\", count=1 )\n",
    "rockIntVar = gSwarm.add_variable( dataType=\"double\", count=1 )\n",
    "airIntVar = gSwarm.add_variable( dataType=\"double\", count=1 )\n",
    "lithIntVar = gSwarm.add_variable( dataType=\"double\", count=1 )\n",
    "\n",
    "varlist = [materialVariable, rockIntVar, airIntVar, lithIntVar]\n",
    "varnames = ['materialVariable', 'rockIntVar', 'airIntVar', 'lithIntVar']"
   ]
  },
  {
   "cell_type": "code",
   "execution_count": 22,
   "metadata": {
    "collapsed": true
   },
   "outputs": [],
   "source": [
    "###########\n",
    "#Swarms for surface intragrals when using Sticky air\n",
    "###########\n",
    "\n",
    "snum = 1000.\n",
    "dx = (mesh.data[:,0].max()- mesh.data[:,0].min())/snum\n",
    "yp = 0.9947 #1. - yelsize/2. at res = 96\n",
    "\n",
    "mesh.data[:,0].max()\n",
    "xps = np.linspace(mesh.data[:,0].min(),mesh.data[:,0].max(), snum)\n",
    "yps = [yp for i in xps]\n",
    "\n",
    "surfintswarm = uw.swarm.Swarm( mesh=mesh )\n",
    "dumout = surfintswarm.add_particles_with_coordinates(np.array((xps,yps)).T)\n",
    "\n",
    "yps = [ 1.- yp  for i in xps]\n",
    "\n",
    "baseintswarm = uw.swarm.Swarm( mesh=mesh)\n",
    "dumout = baseintswarm.add_particles_with_coordinates(np.array((xps,yps)).T)"
   ]
  },
  {
   "cell_type": "markdown",
   "metadata": {},
   "source": [
    "#Initialise swarm variables, or Swarm checkpoint load"
   ]
  },
  {
   "cell_type": "code",
   "execution_count": 23,
   "metadata": {
    "collapsed": false
   },
   "outputs": [],
   "source": [
    "mantleIndex = 0\n",
    "lithosphereIndex = 1\n",
    "crustIndex = 2\n",
    "airIndex = 3\n",
    "\n",
    "\n",
    "if checkpointLoad:\n",
    "    checkpointLoadDir = natsort.natsorted(checkdirs)[-1]\n",
    "    temperatureField.load(os.path.join(checkpointLoadDir, \"temperatureField\" + \".hdf5\"))\n",
    "    pressureField.load(os.path.join(checkpointLoadDir, \"pressureField\" + \".hdf5\"))\n",
    "    velocityField.load(os.path.join(checkpointLoadDir, \"velocityField\" + \".hdf5\"))\n",
    "    gSwarm.load(os.path.join(checkpointLoadDir, \"swarm\" + \".h5\"))\n",
    "    for ix in range(len(varlist)):\n",
    "        varb = varlist[ix]\n",
    "        varb.load(os.path.join(checkpointLoadDir,varnames[ix] + \".h5\"))\n",
    "\n",
    "else:\n",
    "\n",
    "    # Layouts are used to populate the swarm across the whole domain\n",
    "    # Create the layout object\n",
    "    #layout = uw.swarm.layouts.GlobalSpaceFillerLayout( swarm=gSwarm, particlesPerCell=20)\n",
    "    layout = uw.swarm.layouts.PerCellRandomLayout(swarm=gSwarm, particlesPerCell=15)\n",
    "    # Now use it to populate.\n",
    "    gSwarm.populate_using_layout( layout=layout )\n",
    "\n",
    "    # Lets initialise the 'materialVariable' data to represent different materials\n",
    "    # Set the material to heavy everywhere via the numpy array\n",
    "    materialVariable.data[:] = mantleIndex\n",
    "    \n",
    "    \n",
    "    #Set initial air and crust materials (allow the graph to take care of lithsophere)\n",
    "    #########\n",
    "    #This initial material setup will be model dependent\n",
    "    #########\n",
    "    for particleID in range(gSwarm.particleCoordinates.data.shape[0]):\n",
    "        if (1. - gSwarm.particleCoordinates.data[particleID][1]) < 0:\n",
    "                 materialVariable.data[particleID] = airIndex\n",
    "        elif (1. - gSwarm.particleCoordinates.data[particleID][1]) < MANTLETOCRUST:\n",
    "                 materialVariable.data[particleID] = crustIndex"
   ]
  },
  {
   "cell_type": "markdown",
   "metadata": {},
   "source": [
    "#Material Graphs"
   ]
  },
  {
   "cell_type": "code",
   "execution_count": 24,
   "metadata": {
    "collapsed": false
   },
   "outputs": [],
   "source": [
    "##############\n",
    "#Important: This is a quick fix for a bug that arises in parallel runs\n",
    "##############\n",
    "material_list = [0,1,2,3]\n"
   ]
  },
  {
   "cell_type": "code",
   "execution_count": 25,
   "metadata": {
    "collapsed": false
   },
   "outputs": [
    {
     "name": "stdout",
     "output_type": "stream",
     "text": [
      "unique values after swarm has loaded:[0 1 2]\n"
     ]
    }
   ],
   "source": [
    "print( \"unique values after swarm has loaded:\" + str(np.unique(materialVariable.data[:])))\n"
   ]
  },
  {
   "cell_type": "code",
   "execution_count": 67,
   "metadata": {
    "collapsed": true
   },
   "outputs": [],
   "source": [
    "import networkx as nx\n",
    "\n",
    "#All depth conditions are given as (km/D) where D is the length scale, \n",
    "#note that 'model depths' are used, e.g. 1-z, where z is the vertical Underworld coordinate\n",
    "#All temp conditions are in dimensionless temp. [0. - 1.]\n",
    "\n",
    "#######Graph object\n",
    "DG = nx.DiGraph(field=\"Depth\")\n",
    "\n",
    "#######Nodes\n",
    "#Note that the order of materials, deepest to shallowest is important \n",
    "DG.add_node(0, mat='mantle')\n",
    "DG.add_node(1, mat='lithosphere')\n",
    "DG.add_node(2, mat='crust')\n",
    "DG.add_node(3, mat='air')\n",
    "\n",
    "\n",
    "labels=dict((n,d['mat']) for n,d in DG.nodes(data=True))\n",
    "pos=nx.spring_layout(DG) \n",
    "\n",
    "\n",
    "#######Edges\n",
    "#anything to air\n",
    "DG.add_edges_from([(0,3),(1,3), (2,3)])\n",
    "DG[0][3]['depthcondition'] = -1*TOPOHEIGHT\n",
    "DG[1][3]['depthcondition'] = -1*TOPOHEIGHT\n",
    "DG[2][3]['depthcondition'] = -1*TOPOHEIGHT\n",
    "\n",
    "\n",
    "#Anything to mantle\n",
    "DG.add_edges_from([(2,0), (3,0), (1,0)])\n",
    "DG[3][0]['depthcondition'] = TOPOHEIGHT\n",
    "DG[2][0]['depthcondition'] = CRUSTTOMANTLE\n",
    "DG[1][0]['depthcondition'] = LITHTOMANTLE #This means we're going to kill lithosphere at the 660.\n",
    "\n",
    "\n",
    "#Anything to lithsphere\n",
    "DG.add_edges_from([(0,1),(3,1)])\n",
    "DG[0][1]['depthcondition'] = MANTLETOLITH\n",
    "DG[0][1]['avgtempcondition'] = 0.75*AVGTEMP #definition of thermal lithosphere\n",
    "\n",
    "\n",
    "#Anything to crust\n",
    "DG.add_edges_from([(0,2), (1,2)])\n",
    "DG[0][2]['depthcondition'] = MANTLETOCRUST\n",
    "DG[1][2]['depthcondition'] = MANTLETOCRUST"
   ]
  },
  {
   "cell_type": "code",
   "execution_count": 68,
   "metadata": {
    "collapsed": false
   },
   "outputs": [
    {
     "data": {
      "text/plain": [
       "[0, 1, 2, 3]"
      ]
     },
     "execution_count": 68,
     "metadata": {},
     "output_type": "execute_result"
    }
   ],
   "source": [
    "DG.nodes()"
   ]
  },
  {
   "cell_type": "code",
   "execution_count": 69,
   "metadata": {
    "collapsed": false
   },
   "outputs": [],
   "source": [
    "remove_nodes = []\n",
    "for node in DG.nodes():\n",
    "    if not node in material_list:\n",
    "        remove_nodes.append(node)\n",
    "        \n",
    "for rmnode in remove_nodes:\n",
    "    DG.remove_node(rmnode)"
   ]
  },
  {
   "cell_type": "code",
   "execution_count": 70,
   "metadata": {
    "collapsed": false
   },
   "outputs": [
    {
     "data": {
      "text/plain": [
       "[0, 1, 2, 3]"
      ]
     },
     "execution_count": 70,
     "metadata": {},
     "output_type": "execute_result"
    }
   ],
   "source": [
    "DG.nodes()"
   ]
  },
  {
   "cell_type": "code",
   "execution_count": 71,
   "metadata": {
    "collapsed": false
   },
   "outputs": [],
   "source": [
    "\n",
    "#remove_nodes = []\n",
    "#for node in DG.nodes_iter():\n",
    "#    if not node in material_list:\n",
    "#        remove_nodes.append(node)\n",
    "        \n",
    "#for rmnode in remove_nodes:\n",
    "#    DG.remove_node(rmnode)"
   ]
  },
  {
   "cell_type": "code",
   "execution_count": 72,
   "metadata": {
    "collapsed": true
   },
   "outputs": [],
   "source": [
    "#A Dictionary to map strings in the graph (e.g. 'depthcondition') to particle data arrays\n",
    "\n",
    "particledepths = 1. - gSwarm.particleCoordinates.data[:,1]\n",
    "particletemps = temperatureField.evaluate(gSwarm)[:,0]\n",
    "\n",
    "conditionmap = {}\n",
    "\n",
    "conditionmap['depthcondition'] = {}\n",
    "conditionmap['depthcondition']['data'] = particledepths\n",
    "conditionmap['avgtempcondition'] = {}\n",
    "conditionmap['avgtempcondition']['data'] = particletemps"
   ]
  },
  {
   "cell_type": "code",
   "execution_count": 73,
   "metadata": {
    "collapsed": true
   },
   "outputs": [],
   "source": [
    "def update_swarm(graph, particleIndex):\n",
    "    \"\"\"\n",
    "    This function takes the materials graph (networkx.DiGraph), and a particle index,\n",
    "    then determines if a material update is required \n",
    "    and if so, returns the new materialindex\n",
    "    Args:\n",
    "        graph (networkx.DiGraph): Directed multigraph representing the transformation of material types\n",
    "        particleIndex (int): the particle index as corressponding to the index in the swarm data arrays\n",
    "    Returns:\n",
    "        if update is required the function returns the the new material variable (int) \n",
    "        else returns None\n",
    "    Raises:\n",
    "        TypeError: not implemented\n",
    "        ValueError: not implemented\n",
    "    \"\"\"\n",
    "    ##Egde gives links to other materials, we then query the conditions to see if we should change materials\n",
    "    matId = materialVariable.data[particleIndex][0]\n",
    "    innerchange = False\n",
    "    outerchange = False\n",
    "    for edge in graph[matId]:\n",
    "        if outerchange:\n",
    "            break\n",
    "        for cond in graph[matId][edge].keys():\n",
    "            outerchange = False\n",
    "            if innerchange: #found a complete transition, break inner loop\n",
    "                break\n",
    "            currentparticlevalue = conditionmap[cond]['data'][particleIndex]\n",
    "            crossover = graph[matId][edge][cond]\n",
    "            if ((matId > edge) and (currentparticlevalue > crossover)):\n",
    "                innerchange = False # continue on, \n",
    "                if graph[matId][edge].keys()[-1] == cond:\n",
    "                    outerchange = True\n",
    "                    innerchange = edge\n",
    "                    break\n",
    "            elif ((matId < edge) and (currentparticlevalue < crossover)):\n",
    "                innerchange = False\n",
    "                if graph[matId][edge].keys()[-1] == cond:\n",
    "                    outerchange = True\n",
    "                    innerchange = edge\n",
    "                    break\n",
    "            else:\n",
    "                #condition not met, break outer loop, go to next edge, outerchange should still be False\n",
    "                break\n",
    "    if type(innerchange) == int:\n",
    "        return innerchange"
   ]
  },
  {
   "cell_type": "code",
   "execution_count": 74,
   "metadata": {
    "collapsed": false
   },
   "outputs": [],
   "source": [
    "#Cleanse the swarm of its sins\n",
    "#For some Material Graphs, the graph may have to be treaversed more than once\n",
    "\n",
    "check = -1\n",
    "number_updated = 1\n",
    "\n",
    "while number_updated != 0:\n",
    "    number_updated = 0\n",
    "    for particleID in range(gSwarm.particleCoordinates.data.shape[0]):\n",
    "                check = update_swarm(DG, particleID)\n",
    "                if check > -1:\n",
    "                    number_updated += 1\n",
    "                    materialVariable.data[particleID] = check"
   ]
  },
  {
   "cell_type": "markdown",
   "metadata": {},
   "source": [
    "##Set the values for the masking swarms"
   ]
  },
  {
   "cell_type": "code",
   "execution_count": 75,
   "metadata": {
    "collapsed": false
   },
   "outputs": [],
   "source": [
    "#Setup up a masking Swarm variable for the integrations.\n",
    "#These should be rebuilt at same frequency as the metric calcualtions\n",
    "\n",
    "rockIntVar.data[:] = 0.\n",
    "notair = np.where(materialVariable.data != airIndex)\n",
    "rockIntVar.data[notair] = 1.\n",
    "\n",
    "airIntVar.data[:] = 0.\n",
    "notrock = np.where(materialVariable.data == airIndex)\n",
    "airIntVar.data[notrock] = 1.\n",
    "\n",
    "lithIntVar.data[:] = 0.\n",
    "islith = np.where((materialVariable.data == lithosphereIndex) | (materialVariable.data == crustIndex))\n",
    "lithIntVar.data[islith] = 1."
   ]
  },
  {
   "cell_type": "markdown",
   "metadata": {
    "collapsed": false
   },
   "source": [
    "#Material properties\n"
   ]
  },
  {
   "cell_type": "markdown",
   "metadata": {},
   "source": [
    "In the paper, Crameri and Tackley give the dimensionless cohesion as well as the dimensionless yield stress gradient. But the latter is given as a function of dimensionless (lithostatic) pressure, whereas it is easier to use dimensionless depth. Easy, multiply the dimensionless depth by $\\rho g D$, divide by the stress scale, $\\frac{\\eta \\kappa}{D^2}$ then use the same dimensionless yeild stress gradient ($\\mu$)"
   ]
  },
  {
   "cell_type": "code",
   "execution_count": 76,
   "metadata": {
    "collapsed": false
   },
   "outputs": [],
   "source": [
    "# The yeilding of the upper slab is dependent on the strain rate.\n",
    "strainRate_2ndInvariant = fn.tensor.second_invariant( \n",
    "                            fn.tensor.symmetric( \n",
    "                            velocityField.fn_gradient ))\n",
    "\n",
    "\n",
    "coordinate = fn.input()\n",
    "depth = 1. - coordinate[1]\n",
    "\n",
    "#Determine yield criterion for depth (rather than pressure as given in Crameri)\n",
    "#Scaling is same as van Heck and Tackley, EPSL, 2011\n",
    "lithopressuregrad = dp.rho*dp.g*(dp.LS)**3/(dp.eta0*dp.k)"
   ]
  },
  {
   "cell_type": "code",
   "execution_count": 81,
   "metadata": {
    "collapsed": false
   },
   "outputs": [
    {
     "name": "stdout",
     "output_type": "stream",
     "text": [
      "(11.55, 3.0, 0.1092, 1.0, 0.64, 3154.0)\n"
     ]
    }
   ],
   "source": [
    "#Check important paramters\n",
    "print(ndp.E, ndp.V,ndp.TS,ndp.RD, ndp.TR, ndp.cohesion)"
   ]
  },
  {
   "cell_type": "code",
   "execution_count": 78,
   "metadata": {
    "collapsed": false
   },
   "outputs": [],
   "source": [
    "############\n",
    "#Mantle\n",
    "############\n",
    "\n",
    "#Linear viscosity\n",
    "arhennius = fn.misc.min(1e5,fn.math.exp(((ndp.E + ndp.V*(1.-coordinate[1]))/\n",
    "                                         (temperatureField + ndp.TS)) - ((ndp.E + ndp.V*(1.- ndp.RD))/(ndp.TR + ndp.TS))))\n",
    "\n",
    "#Psuedo-plastic \n",
    "ys =  ndp.cohesion + (depth*ndp.fc*lithopressuregrad)\n",
    "#ys =  ndp.fc*lithopressuregrad*(30e3/dp.LS) # this is the byerlee strength at 30 km\n",
    "yss = fn.misc.max(1577., ys)\n",
    "plasticvisc = yss*(math.sqrt(2))/(strainRate_2ndInvariant*2.)\n",
    "plastic = fn.misc.max(1e-4,plasticvisc)\n",
    "#combine these\n",
    "mantleviscosityFn = fn.exception.SafeMaths(fn.misc.min(arhennius, plastic))\n",
    "\n",
    "############\n",
    "#crust\n",
    "############\n",
    "\n",
    "\n",
    "cohesion_reduce =5.\n",
    "ysc = (ndp.cohesion/cohesion_reduce) + (depth*(ndp.fc/100.)*lithopressuregrad)\n",
    "#ysc = ys/100.\n",
    "ycs = fn.misc.max((ndp.cohesion/cohesion_reduce), ysc)\n",
    "crustplasticvisc = ycs*(math.sqrt(2))/(strainRate_2ndInvariant*2.)\n",
    "crustplastic = fn.misc.max(1e-4,crustplasticvisc) \n",
    "crustviscosityFn = fn.exception.SafeMaths(fn.misc.min(arhennius, crustplastic))"
   ]
  },
  {
   "cell_type": "markdown",
   "metadata": {},
   "source": [
    "Note that the rheology implemented manually above can also be set up using an Underworld2 function, as follows:\n",
    "```python\n",
    "fn_stress =  2.*arhennius*uw.function.tensor.symmetric(velocityField.fn_gradient )\n",
    "plasticvisc = fn.rheology.stress_limiting_viscosity(fn_stress,ys,arhennius)\n",
    "plastic = fn.misc.max(1e-4,plasticvisc)\n",
    "mantleviscosityFn = fn.exception.SafeMaths(fn.misc.min(arhennius, plastic))\n",
    "stokesPIC.fn_viscosity = mantleviscosityFn\n",
    "```"
   ]
  },
  {
   "cell_type": "markdown",
   "metadata": {},
   "source": [
    "Set up material properties\n",
    "====\n",
    "\n",
    "Here the functions for density, viscosity etc. are set. These functions and/or values are preserved for the entire simulation time. "
   ]
  },
  {
   "cell_type": "code",
   "execution_count": 38,
   "metadata": {
    "collapsed": false
   },
   "outputs": [],
   "source": [
    "# Here we set a viscosity value of '1.' for both materials\n",
    "viscosityMapFn = fn.branching.map( fn_key = materialVariable,\n",
    "                         mapping = {airIndex:AIRVISCOSITY, \n",
    "                                    lithosphereIndex:mantleviscosityFn, \n",
    "                                    crustIndex:crustviscosityFn,\n",
    "                                    mantleIndex:mantleviscosityFn} )\n",
    "\n",
    "densityMapFn = fn.branching.map( fn_key = materialVariable,\n",
    "                         mapping = {airIndex:AIRDENSITY, \n",
    "                                    lithosphereIndex:ndp.RA*temperatureField, \n",
    "                                    crustIndex:ndp.RA*temperatureField, \n",
    "                                    mantleIndex:ndp.RA*temperatureField} )\n",
    "\n",
    "# Define our gravity using a python tuple (this will be automatically converted to a function)\n",
    "gravity = ( 0.0, 1.0 )\n",
    "\n",
    "buoyancyFn = gravity*densityMapFn"
   ]
  },
  {
   "cell_type": "code",
   "execution_count": null,
   "metadata": {
    "collapsed": false
   },
   "outputs": [],
   "source": []
  },
  {
   "cell_type": "markdown",
   "metadata": {},
   "source": [
    "Build the Stokes system, solvers, advection-diffusion\n",
    "------\n",
    "\n",
    "Setup linear Stokes system to get the initial velocity."
   ]
  },
  {
   "cell_type": "code",
   "execution_count": null,
   "metadata": {
    "collapsed": false
   },
   "outputs": [],
   "source": [
    "stokesPIC = uw.systems.Stokes( velocityField = velocityField, \n",
    "                               pressureField = pressureField,\n",
    "                               #swarm         = gSwarm, \n",
    "                               conditions    = [freeslipBC,],\n",
    "                               fn_viscosity   = arhennius, \n",
    "                               fn_bodyforce   = buoyancyFn )\n"
   ]
  },
  {
   "cell_type": "code",
   "execution_count": null,
   "metadata": {
    "collapsed": false
   },
   "outputs": [],
   "source": [
    "#We do one solve with linear viscosity to get the initial strain rate invariant. \n",
    "#This solve step also calculates a 'guess' of the the velocity field based on the linear system, \n",
    "#which is used later in the non-linear solver.\n",
    "\n",
    "solver = uw.systems.Solver(stokesPIC)\n",
    "# If not doing a restart, do a solve on the non-plastic system\n",
    "if not checkpointLoad:\n",
    "    solver.solve()"
   ]
  },
  {
   "cell_type": "code",
   "execution_count": null,
   "metadata": {
    "collapsed": true
   },
   "outputs": [],
   "source": []
  },
  {
   "cell_type": "code",
   "execution_count": null,
   "metadata": {
    "collapsed": false
   },
   "outputs": [],
   "source": [
    "####################\n",
    "#Add the non-linear viscosity to the Stokes system\n",
    "stokesPIC.fn_viscosity = viscosityMapFn\n",
    "###################\n",
    "\n",
    "#Set more advanced solver option\n",
    "solver.options.main.Q22_pc_type='uw'\n",
    "solver.options.A11.ksp_rtol=1e-7\n",
    "solver.options.scr.ksp_rtol=1e-6\n",
    "solver.options.scr.use_previous_guess = True\n",
    "solver.options.scr.ksp_set_min_it_converge = 6\n",
    "\n",
    "solver.options.mg.levels = 3\n",
    "\n",
    "solver.options.A11.ksp_monitor=''"
   ]
  },
  {
   "cell_type": "markdown",
   "metadata": {},
   "source": [
    "Solve non-linear system for pressure and velocity using Picard iteration\n"
   ]
  },
  {
   "cell_type": "code",
   "execution_count": null,
   "metadata": {
    "collapsed": false
   },
   "outputs": [],
   "source": [
    "solver.solve(nonLinearIterate=True)"
   ]
  },
  {
   "cell_type": "code",
   "execution_count": null,
   "metadata": {
    "collapsed": true
   },
   "outputs": [],
   "source": [
    "#Now check the stress.\n",
    "fn_stress = 2.*mantleviscosityFn*uw.function.tensor.symmetric(velocityField.fn_gradient)\n",
    "fn_minmax_inv = fn.view.min_max(fn.tensor.second_invariant(fn_stress))\n",
    "ignore = fn_minmax_inv.evaluate(gSwarm)"
   ]
  },
  {
   "cell_type": "code",
   "execution_count": null,
   "metadata": {
    "collapsed": false
   },
   "outputs": [],
   "source": [
    "fn_minmax_inv.max_global()"
   ]
  },
  {
   "cell_type": "code",
   "execution_count": null,
   "metadata": {
    "collapsed": false
   },
   "outputs": [],
   "source": [
    "#np.isclose(fn_minmax_inv.max_global(), ys, rtol=1e-03)"
   ]
  },
  {
   "cell_type": "code",
   "execution_count": null,
   "metadata": {
    "collapsed": false
   },
   "outputs": [],
   "source": [
    "figTemp = glucifer.Figure()\n",
    "figTemp.append( glucifer.objects.Surface(mesh, fn.tensor.second_invariant(fn_stress)))\n",
    "#figTemp.append( glucifer.objects.VectorArrows(mesh,velocityField, arrowHead=0.2, scaling=0.0005))\n",
    "\n",
    "figTemp.show()"
   ]
  },
  {
   "cell_type": "markdown",
   "metadata": {},
   "source": [
    "Create an advective-diffusive system\n",
    "=====\n",
    "\n",
    "Setup the system in underworld by flagging the temperature and velocity field variables."
   ]
  },
  {
   "cell_type": "code",
   "execution_count": 118,
   "metadata": {
    "collapsed": false
   },
   "outputs": [],
   "source": [
    "#Create advdiff system\n",
    "\n",
    "advDiff = uw.systems.AdvectionDiffusion( phiField       = temperatureField, \n",
    "                                         phiDotField    = temperatureDotField, \n",
    "                                         velocityField  = velocityField, \n",
    "                                         fn_diffusivity = 1.0, \n",
    "                                         conditions     = [tempBC,] )\n",
    "\n",
    "\n",
    "\n",
    "advector = uw.systems.SwarmAdvector( swarm         = gSwarm, \n",
    "                                     velocityField = velocityField, \n",
    "                                     order         = 1)\n",
    "\n",
    "#Switch particle escape on, this will also trigger the inflow population control \n",
    "gSwarm.particleEscape = True"
   ]
  },
  {
   "cell_type": "markdown",
   "metadata": {},
   "source": [
    "Metrics for benchmark\n",
    "=====\n",
    "\n",
    "Define functions to be used in the time loop. For cases 1-4, participants were asked to report a number of diagnostic quantities to be measured after reaching steady state:\n",
    "\n",
    "* Average temp... $$  \\langle T \\rangle  = \\int^1_0 \\int^1_0 T \\, dxdy $$\n",
    "* Top and bottom Nusselt numbers... $$N = \\int^1_0 \\frac{\\partial T}{\\partial y} \\rvert_{y=0/1} \\, dx$$\n",
    "* RMS velocity over the whole domain, surface and max velocity at surface\n",
    "* max and min viscosity over the whole domain\n",
    "* average rate of work done against gravity...$$\\langle W \\rangle = \\int^1_0 \\int^1_0 T u_y \\, dx dy$$\n",
    "* and the average rate of viscous dissipation...$$\\langle \\Phi \\rangle = \\int^1_0 \\int^1_0 \\tau_{ij} \\dot \\epsilon_{ij} \\, dx dy$$\n",
    "\n",
    "* In steady state, if thermal energy is accurately conserved, the difference between $\\langle W \\rangle$ and $\\langle \\Phi \\rangle / Ra$ must vanish, so also reported is the percentage error: \n",
    "\n",
    "$$ \\delta = \\frac{\\lvert \\langle W \\rangle - \\frac{\\langle \\Phi \\rangle}{Ra} \\rvert}{max \\left(  \\langle W \\rangle,  \\frac{\\langle \\Phi \\rangle}{Ra}\\right)} \\times 100% $$"
   ]
  },
  {
   "cell_type": "code",
   "execution_count": 119,
   "metadata": {
    "collapsed": false
   },
   "outputs": [],
   "source": [
    "#Setup some Integrals. We want these outside the main loop...\n",
    "tempVariable = gSwarm.add_variable( dataType=\"double\", count=1 )\n",
    "tempVariable.data[:] = temperatureField.evaluate(gSwarm)[:]\n",
    "tempint = uw.utils.Integral((tempVariable*rockIntVar), mesh)\n",
    "\n",
    "\n",
    "areaint = uw.utils.Integral((1.*rockIntVar),mesh)\n",
    "\n",
    "v2int = uw.utils.Integral(fn.math.dot(velocityField,velocityField)*rockIntVar, mesh)\n",
    "\n",
    "\n",
    "dwint = uw.utils.Integral(temperatureField*velocityField[1]*rockIntVar, mesh)\n",
    "\n",
    "\n",
    "sinner = fn.math.dot(strainRate_2ndInvariant,strainRate_2ndInvariant)\n",
    "vdint = uw.utils.Integral((4.*mantleviscosityFn*sinner)*rockIntVar, mesh)\n",
    "vdintair = uw.utils.Integral((4.*mantleviscosityFn*sinner)*airIntVar, mesh)\n",
    "vdintlith = uw.utils.Integral((4.*mantleviscosityFn*sinner)*lithIntVar, mesh)"
   ]
  },
  {
   "cell_type": "code",
   "execution_count": 120,
   "metadata": {
    "collapsed": false
   },
   "outputs": [],
   "source": [
    "def avg_temp():\n",
    "    return tempint.evaluate()[0]\n",
    "\n",
    "#This one gets cleaned up when Surface integrals are available\n",
    "def nusselt(tempfield, swarm, dx):\n",
    "    #Update the swarm variable\n",
    "    tempgrad = tempfield.fn_gradient\n",
    "    valcheck = tempgrad[1].evaluate(swarm)\n",
    "    if valcheck is None:\n",
    "        vals = np.array(0, dtype='float64')\n",
    "    else:\n",
    "        vals = valcheck.sum()*dx\n",
    "    return vals\n",
    "\n",
    "def rms():\n",
    "    return math.sqrt(v2int.evaluate()[0])\n",
    "\n",
    "#This one gets cleaned up when Surface integrals are available\n",
    "def rms_surf(swarm, dx):\n",
    "    rmsmaxfn = fn.math.sqrt(fn.math.dot(velocityField,velocityField))\n",
    "    rmscheck = rmsmaxfn.evaluate(swarm)\n",
    "    if rmscheck is None:\n",
    "        rmsvals = np.array(0, dtype='float64')\n",
    "    else:\n",
    "        rmsvals = rmscheck.sum()*dx\n",
    "    return rmsvals\n",
    "\n",
    "def max_vx_surf(velfield, swarm):\n",
    "    surfvelxmaxfn = fn.view.min_max(velfield[0])\n",
    "    surfvelxmaxfn.evaluate(swarm)\n",
    "    return surfvelxmaxfn.max_global()\n",
    "\n",
    "def max_vy_surf(velfield, swarm):\n",
    "    surfvelxmaxfn = fn.view.min_max(velfield[1])\n",
    "    surfvelxmaxfn.evaluate(swarm)\n",
    "    return surfvelxmaxfn.max_global()\n",
    "\n",
    "def gravwork(workfn):\n",
    "    return workfn.evaluate()[0]\n",
    "\n",
    "def viscdis(vdissfn):\n",
    "    return vdissfn.evaluate()[0]\n",
    "\n",
    "def visc_extr(viscfn):\n",
    "    vuviscfn = fn.view.min_max(viscfn)\n",
    "    vuviscfn.evaluate(mesh)\n",
    "    return vuviscfn.max_global(), vuviscfn.min_global()"
   ]
  },
  {
   "cell_type": "code",
   "execution_count": 121,
   "metadata": {
    "collapsed": false
   },
   "outputs": [],
   "source": [
    "#Fields for saving data / fields\n",
    "\n",
    "rmsField = uw.mesh.MeshVariable( mesh=mesh,   nodeDofCount=1)\n",
    "rmsfn = fn.math.sqrt(fn.math.dot(velocityField,velocityField))\n",
    "rmsdata = rmsfn.evaluate(mesh)\n",
    "rmsField.data[:] = rmsdata \n",
    "\n",
    "viscField = uw.mesh.MeshVariable( mesh=mesh,   nodeDofCount=1)\n",
    "viscdata = mantleviscosityFn.evaluate(mesh)\n",
    "viscField.data[:] = viscdata\n",
    "\n",
    "\n",
    "strainrateField = uw.mesh.MeshVariable( mesh=mesh,   nodeDofCount=1)\n",
    "srtdata = fn.tensor.second_invariant( \n",
    "                    fn.tensor.symmetric( \n",
    "                        velocityField.fn_gradient ))\n",
    "rostfield = srtdata.evaluate(mesh)\n",
    "strainrateField.data[:] = rostfield\n",
    "\n",
    "viscVariable = gSwarm.add_variable( dataType=\"float\", count=1 )\n",
    "viscVariable.data[:] = viscosityMapFn.evaluate(gSwarm)"
   ]
  },
  {
   "cell_type": "code",
   "execution_count": 122,
   "metadata": {
    "collapsed": false
   },
   "outputs": [],
   "source": [
    "#Images\n",
    "figEta = glucifer.Figure()\n",
    "figEta.append( glucifer.objects.Points(gSwarm,viscVariable, logScale=True))\n",
    "\n",
    "\n",
    "figMat = glucifer.Figure()\n",
    "figMat.append( glucifer.objects.Points(gSwarm,materialVariable, colours='brown white blue red'))\n",
    "figMat.append( glucifer.objects.Mesh(mesh))\n",
    "\n",
    "\n",
    "figStrainRate = glucifer.Figure()\n",
    "figStrainRate.append( glucifer.objects.Surface(mesh, strainRate_2ndInvariant, logScale=True))\n",
    "\n",
    "\n",
    "figVelocityMag = glucifer.Figure()\n",
    "figVelocityMag.append( glucifer.objects.Surface(mesh, fn.math.dot(velocityField,velocityField))\n",
    ")\n",
    "figTemp = glucifer.Figure()\n",
    "figTemp.append( glucifer.objects.Surface(mesh, temperatureField))\n",
    "\n",
    "\n",
    "\n",
    "#Pack some stuff into a database as well\n",
    "figDb = glucifer.Figure()\n",
    "figDb.append( glucifer.objects.Points(gSwarm,viscVariable, logScale=True, colours='brown white blue'))\n",
    "figDb.append( glucifer.objects.Points(gSwarm,materialVariable, colours='brown white blue red'))\n",
    "figDb.append( glucifer.objects.Mesh(mesh))\n",
    "figDb.append( glucifer.objects.VectorArrows(mesh,velocityField, arrowHead=0.2, scaling=0.002))\n",
    "figDb.append( glucifer.objects.Surface(mesh, strainRate_2ndInvariant, logScale=True, colours='brown white blue'))"
   ]
  },
  {
   "cell_type": "markdown",
   "metadata": {},
   "source": [
    "Main simulation loop\n",
    "=======\n",
    "\n",
    "The main time stepping loop begins here. Before this the time and timestep are initialised to zero and the output statistics arrays are set up. Also the frequency of outputting basic statistics to the screen is set in steps_output.\n"
   ]
  },
  {
   "cell_type": "code",
   "execution_count": 123,
   "metadata": {
    "collapsed": true
   },
   "outputs": [],
   "source": [
    "pics = uw.swarm.PICIntegrationSwarm(gSwarm)"
   ]
  },
  {
   "cell_type": "code",
   "execution_count": 125,
   "metadata": {
    "collapsed": false
   },
   "outputs": [],
   "source": [
    "def checkpoint1(step, checkpointPath,filename, filewrites):\n",
    "    path = checkpointPath + str(step) \n",
    "    os.mkdir(path)\n",
    "    ##Write and save the file, if not already a writing step\n",
    "    if not step % filewrites == 0:\n",
    "        filename.write((13*'%-15s ' + '\\n') % (realtime, Viscdis, float(Nu0glob), float(Nu1glob), Avg_temp, \n",
    "                                              Rms,Rmsurfglob,Max_vx_surf,Gravwork, etamax, etamin, Viscdisair, Viscdislith))\n",
    "    filename.close()\n",
    "    shutil.copyfile(os.path.join(outputPath, outputFile), os.path.join(path, outputFile))\n",
    "\n",
    "\n",
    "def checkpoint2(step, checkpointPath, swarm, filename, varlist = [materialVariable], varnames = ['materialVariable']):\n",
    "    path = checkpointPath + str(step) \n",
    "    velfile = \"velocityField\" + \".hdf5\"\n",
    "    tempfile = \"temperatureField\" + \".hdf5\"\n",
    "    pressfile = \"pressureField\" + \".hdf5\"\n",
    "    velocityField.save(os.path.join(path, velfile))\n",
    "    temperatureField.save(os.path.join(path, tempfile))\n",
    "    pressureField.save(os.path.join(path, pressfile))\n",
    "    swarm.save(os.path.join(path, \"swarm.h5\") ) \n",
    "    for ix in range(len(varlist)):\n",
    "        varb = varlist[ix]\n",
    "        varb.save(os.path.join(path,varnames[ix] + \".h5\"))\n",
    "    "
   ]
  },
  {
   "cell_type": "code",
   "execution_count": 126,
   "metadata": {
    "collapsed": false
   },
   "outputs": [
    {
     "data": {
      "text/plain": [
       "(1.5487856110571143e-06, 7.743932379881649e-07)"
      ]
     },
     "execution_count": 126,
     "metadata": {},
     "output_type": "execute_result"
    }
   ],
   "source": [
    "advector.get_max_dt(), advDiff.get_max_dt()"
   ]
  },
  {
   "cell_type": "code",
   "execution_count": 129,
   "metadata": {
    "collapsed": false
   },
   "outputs": [],
   "source": [
    "# initialise timer for computation\n",
    "start = time.clock()\n",
    "# setup summary output file (name above)\n",
    "if checkpointLoad:\n",
    "    if uw.rank() == 0:\n",
    "        shutil.copyfile(os.path.join(checkpointLoadDir, outputFile), outputPath+outputFile)\n",
    "    comm.Barrier()\n",
    "    f_o = open(os.path.join(outputPath, outputFile), 'a')\n",
    "    prevdata = np.genfromtxt(os.path.join(outputPath, outputFile), skip_header=0, skip_footer=0)\n",
    "    if len(prevdata.shape) == 1: #this is in case there is only one line in previous file\n",
    "        realtime = prevdata[0]\n",
    "    else:\n",
    "        realtime = prevdata[prevdata.shape[0]-1, 0]\n",
    "    step = int(checkpointLoadDir.split('/')[-1])\n",
    "    timevals = [0.]\n",
    "else:\n",
    "    f_o = open(outputPath+outputFile, 'w')\n",
    "    realtime = 0.\n",
    "    step = 0\n",
    "    timevals = [0.]"
   ]
  },
  {
   "cell_type": "code",
   "execution_count": null,
   "metadata": {
    "collapsed": false
   },
   "outputs": [
    {
     "name": "stdout",
     "output_type": "stream",
     "text": [
      "0\n",
      "1\n",
      "2\n",
      "3\n",
      "4\n",
      "5\n",
      "6\n",
      "7\n",
      "8"
     ]
    }
   ],
   "source": [
    "# initialise timer for computation\n",
    "startMain = time.clock()\n",
    "# Perform steps\n",
    "while realtime < 0.05:\n",
    "#while step < 5:\n",
    "    #Enter non-linear loop\n",
    "    print step\n",
    "    solver.solve(nonLinearIterate=True)\n",
    "    dt = advDiff.get_max_dt()\n",
    "    if step == 0:\n",
    "        dt = 0.\n",
    "    #start = time.clock()\n",
    "    advDiff.integrate(dt)\n",
    "    #machine_time = (time.clock()-start)\n",
    "    #print(\"total advDiff time is: \" + str(machine_time))\n",
    "    # Advect swarm using this timestep size\n",
    "    #start = time.clock()\n",
    "    advector.integrate(dt)\n",
    "    #machine_time = (time.clock()-start)\n",
    "    #print(\"total advector time is: \" + str(machine_time))\n",
    "    # Increment\n",
    "    realtime += dt\n",
    "    step += 1\n",
    "    timevals.append(realtime)\n",
    "    \n",
    "    ################\n",
    "    #Update temperature field in the air region\n",
    "    ################\n",
    "    if (step % sticky_air_temp == 0):\n",
    "        for index, coord in enumerate(mesh.data):\n",
    "            if coord[1] >= 1.:\n",
    "                temperatureField.data[index] = 0.\n",
    " \n",
    "    ################\n",
    "    #Particle update\n",
    "    ###############\n",
    "    if (step % swarm_update == 0) or (step % metric_output == 0): #These updates should be done before any metric output\n",
    "        #These swarm variables get updated first, as they are used to determine material changes\n",
    "        particledepths = 1. - gSwarm.particleCoordinates.data[:,1]\n",
    "        particletemps = temperatureField.evaluate(gSwarm)[:,0]\n",
    "        conditionmap['depthcondition']['data'] = particledepths\n",
    "        conditionmap['avgtempcondition']['data'] = particletemps\n",
    "        ################\n",
    "        number_updated = 0\n",
    "        for particleID in range(gSwarm.particleCoordinates.data.shape[0]):\n",
    "            check = update_swarm(DG, particleID)\n",
    "            if check > -1:\n",
    "                number_updated += 1\n",
    "                #if check == 0:\n",
    "                #    print \"from \" + str(materialVariable.data[particleID]) + \" to \" + str(check)\n",
    "                materialVariable.data[particleID] = check\n",
    "            else:\n",
    "                pass\n",
    "        #Also update those integration swarms\n",
    "        rockIntVar.data[:] = 0.\n",
    "        notair = np.where(materialVariable.data != airIndex)\n",
    "        rockIntVar.data[notair] = 1.\n",
    "        airIntVar.data[:] = 0.\n",
    "        notrock = np.where(materialVariable.data == airIndex)\n",
    "        airIntVar.data[notrock] = 1.\n",
    "        lithIntVar.data[:] = 0.\n",
    "        islith = np.where((materialVariable.data == lithosphereIndex) | (materialVariable.data == crustIndex))\n",
    "        lithIntVar.data[islith] = 1.\n",
    "\n",
    "    ################            \n",
    "    # Calculate the Metrics, only on 1 of the processors:\n",
    "    ################\n",
    "    if (step % metric_output == 0):\n",
    "        tempVariable.data[:] = temperatureField.evaluate(gSwarm)[:]\n",
    "        Avg_temp = avg_temp()\n",
    "        Rms = rms()\n",
    "        Max_vx_surf = max_vx_surf(velocityField, surfintswarm)\n",
    "        Gravwork = gravwork(dwint)\n",
    "        Viscdis = viscdis(vdint)\n",
    "        Viscdisair = viscdis(vdintair)\n",
    "        Viscdislith = viscdis(vdintlith)\n",
    "        etamax, etamin = visc_extr(mantleviscosityFn)\n",
    "        #These are the ones that need mpi4py treatment\n",
    "        Nu0loc = nusselt(temperatureField, baseintswarm, dx)\n",
    "        Nu1loc = nusselt(temperatureField, surfintswarm, dx)\n",
    "        Rmsurfloc = rms_surf(surfintswarm, dx)\n",
    "        #Setup the global output arrays\n",
    "        dTp = Nu0loc.dtype\n",
    "        Nu0glob = np.array(0, dtype=dTp)\n",
    "        dTp = Nu1loc.dtype\n",
    "        Nu1glob = np.array(0, dtype=dTp)\n",
    "        dTp = Rmsurfloc.dtype\n",
    "        Rmsurfglob = np.array(0, dtype=dTp)\n",
    "        #Do global sum\n",
    "        comm.Allreduce(Nu0loc, Nu0glob, op=MPI.SUM)\n",
    "        comm.Allreduce(Nu1loc, Nu1glob, op=MPI.SUM)\n",
    "        comm.Allreduce(Rmsurfloc, Rmsurfglob, op=MPI.SUM)\n",
    "        # output to summary text file\n",
    "        if uw.rank()==0:\n",
    "            f_o.write((13*'%-15s ' + '\\n') % (realtime, Viscdis, float(Nu0glob), float(Nu1glob), Avg_temp, \n",
    "                                              Rms,Rmsurfglob,Max_vx_surf,Gravwork, etamax, etamin, Viscdisair, Viscdislith))\n",
    "    ################\n",
    "    #Gldb output\n",
    "    ################ \n",
    "    if (step % gldbs_output == 0) & (writeFiles == True):\n",
    "        #Rebuild any necessary swarm variables\n",
    "        viscVariable.data[:] = viscosityMapFn.evaluate(gSwarm)\n",
    "        #Write gldbs\n",
    "        fnamedb = \"dbFig\" + \"_\" + str(ModIt) + \"_\" + str(step) + \".gldb\"\n",
    "        fullpath = os.path.join(outputPath + \"gldbs/\" + fnamedb)\n",
    "        figDb.show()\n",
    "        figDb.save_database(fullpath)\n",
    "    ################\n",
    "    #Also repopulate entire swarm periodically\n",
    "    ################\n",
    "    if step % swarm_repop == 0:\n",
    "        pics.repopulate()\n",
    "    ################\n",
    "    #Checkpoint\n",
    "    ################\n",
    "    if step % checkpoint_every == 0:\n",
    "        if uw.rank() == 0:\n",
    "            checkpoint1(step, checkpointPath,f_o, metric_output)           \n",
    "        checkpoint2(step, checkpointPath, gSwarm, f_o, varlist = varlist, varnames = varnames)\n",
    "        f_o = open(os.path.join(outputPath, outputFile), 'a') #is this line supposed to be here?\n",
    "\n",
    "        \n",
    "        \n",
    "f_o.close()\n",
    "#print 'step =',step, '; dt =', dt, '; CPU time =', time.clock()-startMain"
   ]
  },
  {
   "cell_type": "code",
   "execution_count": 78,
   "metadata": {
    "collapsed": false
   },
   "outputs": [],
   "source": [
    "viscVariable = gSwarm.add_variable( dataType=\"float\", count=1 )\n",
    "viscVariable.data[:] = viscosityMapFn.evaluate(gSwarm)\n",
    "figEta = glucifer.Figure(figsize=(1024,384))\n",
    "figEta.append( glucifer.objects.Points(gSwarm,viscVariable, logScale=True))\n",
    "figEta.show()\n",
    "figEta.save_database('test.gldb')"
   ]
  },
  {
   "cell_type": "code",
   "execution_count": 27,
   "metadata": {
    "collapsed": false
   },
   "outputs": [
    {
     "data": {
      "text/html": [
       "<img src='data:image/png;base64,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'>"
      ],
      "text/plain": [
       "<IPython.core.display.HTML object>"
      ]
     },
     "execution_count": 27,
     "metadata": {},
     "output_type": "execute_result"
    }
   ],
   "source": [
    "figTemp = glucifer.Figure()\n",
    "figTemp.append( glucifer.objects.Surface(mesh, temperatureField))\n",
    "figTemp.append( glucifer.objects.VectorArrows(mesh,velocityField, arrowHead=0.2, scaling=0.005))\n",
    "\n",
    "figTemp.show()"
   ]
  },
  {
   "cell_type": "code",
   "execution_count": 51,
   "metadata": {
    "collapsed": false
   },
   "outputs": [
    {
     "data": {
      "text/html": [
       "<img src='data:image/png;base64,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'>"
      ],
      "text/plain": [
       "<IPython.core.display.HTML object>"
      ]
     },
     "execution_count": 51,
     "metadata": {},
     "output_type": "execute_result"
    }
   ],
   "source": [
    "figVelocityMag = glucifer.Figure(figsize=(1024,384))\n",
    "figVelocityMag.append( glucifer.objects.Surface(mesh, fn.math.dot(velocityField,velocityField) ))\n",
    "figVelocityMag.show()"
   ]
  },
  {
   "cell_type": "code",
   "execution_count": 52,
   "metadata": {
    "collapsed": false
   },
   "outputs": [
    {
     "data": {
      "text/html": [
       "<img src='data:image/png;base64,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'>"
      ],
      "text/plain": [
       "<IPython.core.display.HTML object>"
      ]
     },
     "execution_count": 52,
     "metadata": {},
     "output_type": "execute_result"
    }
   ],
   "source": [
    "figVelocityMag = glucifer.Figure(figsize=(1024,384))\n",
    "figVelocityMag.append( glucifer.objects.Surface(mesh, pressureField, logScale=True, valueRange=[1e-15,5e-8]) )\n",
    "figVelocityMag.show()"
   ]
  },
  {
   "cell_type": "code",
   "execution_count": 79,
   "metadata": {
    "collapsed": false
   },
   "outputs": [],
   "source": [
    "figSwarm = glucifer.Figure(figsize=(1024,384))\n",
    "figSwarm.append( glucifer.objects.Points(gSwarm,materialVariable, colours='brown white blue red'))\n",
    "figSwarm.append( glucifer.objects.Mesh(mesh))\n",
    "figSwarm.show()\n",
    "figSwarm.save_database('test.gldb')"
   ]
  },
  {
   "cell_type": "code",
   "execution_count": 53,
   "metadata": {
    "collapsed": false
   },
   "outputs": [
    {
     "ename": "NameError",
     "evalue": "name 'start' is not defined",
     "output_type": "error",
     "traceback": [
      "\u001b[0;31m---------------------------------------------------------------------------\u001b[0m",
      "\u001b[0;31mNameError\u001b[0m                                 Traceback (most recent call last)",
      "\u001b[0;32m<ipython-input-53-dc3c2f2e7c24>\u001b[0m in \u001b[0;36m<module>\u001b[0;34m()\u001b[0m\n\u001b[0;32m----> 1\u001b[0;31m \u001b[0mmachine_time\u001b[0m \u001b[0;34m=\u001b[0m \u001b[0;34m(\u001b[0m\u001b[0mtime\u001b[0m\u001b[0;34m.\u001b[0m\u001b[0mclock\u001b[0m\u001b[0;34m(\u001b[0m\u001b[0;34m)\u001b[0m\u001b[0;34m-\u001b[0m\u001b[0mstart\u001b[0m\u001b[0;34m)\u001b[0m\u001b[0;34m\u001b[0m\u001b[0m\n\u001b[0m\u001b[1;32m      2\u001b[0m \u001b[0;32mprint\u001b[0m\u001b[0;34m(\u001b[0m\u001b[0;34m\"total time is: \"\u001b[0m \u001b[0;34m+\u001b[0m \u001b[0mstr\u001b[0m\u001b[0;34m(\u001b[0m\u001b[0mmachine_time\u001b[0m\u001b[0;34m)\u001b[0m\u001b[0;34m)\u001b[0m\u001b[0;34m\u001b[0m\u001b[0m\n",
      "\u001b[0;31mNameError\u001b[0m: name 'start' is not defined"
     ]
    }
   ],
   "source": [
    "machine_time = (time.clock()-start)\n",
    "print(\"total time is: \" + str(machine_time))"
   ]
  },
  {
   "cell_type": "code",
   "execution_count": 54,
   "metadata": {
    "collapsed": false
   },
   "outputs": [
    {
     "data": {
      "text/plain": [
       "1100.5338620296968"
      ]
     },
     "execution_count": 54,
     "metadata": {},
     "output_type": "execute_result"
    }
   ],
   "source": [
    "#Sanity check for periodic conditions\n",
    "velocityField.evaluate(TWalls)[:,0].max()"
   ]
  },
  {
   "cell_type": "code",
   "execution_count": 31,
   "metadata": {
    "collapsed": false
   },
   "outputs": [
    {
     "name": "stdout",
     "output_type": "stream",
     "text": [
      "TWalls x vel is: 3.17721915245\n",
      "IWalls x vel is: -0.143166437745\n"
     ]
    }
   ],
   "source": [
    "print(\"TWalls x vel is: \" + str(velocityField.evaluate(TWalls)[:,0].max()))\n",
    "print(\"IWalls x vel is: \" + str(velocityField.evaluate(IWalls)[:,0].max()))\n"
   ]
  },
  {
   "cell_type": "code",
   "execution_count": null,
   "metadata": {
    "collapsed": true
   },
   "outputs": [],
   "source": [
    "ts = ((D*1e3)**2)/k\n",
    "secperyear = (3600*24*365)\n",
    "dt*ts/secperyear\n",
    "\n",
    "#2.25895987733e-05*ts/secperyear"
   ]
  }
 ],
 "metadata": {
  "kernelspec": {
   "display_name": "Python 2",
   "language": "python",
   "name": "python2"
  },
  "language_info": {
   "codemirror_mode": {
    "name": "ipython",
    "version": 2
   },
   "file_extension": ".py",
   "mimetype": "text/x-python",
   "name": "python",
   "nbconvert_exporter": "python",
   "pygments_lexer": "ipython2",
   "version": "2.7.11"
  }
 },
 "nbformat": 4,
 "nbformat_minor": 0
}
