{
 "cells": [
  {
   "cell_type": "markdown",
   "metadata": {
    "collapsed": true
   },
   "source": [
    "Crameri-Tackley model\n",
    "=======\n",
    "\n",
    "From Cramer and Tackley 2015\n",
    "--------\n",
    "\n"
   ]
  },
  {
   "cell_type": "markdown",
   "metadata": {
    "collapsed": true
   },
   "source": [
    "\n",
    "\n",
    "\n",
    "References\n",
    "====\n",
    "\n",
    "\n"
   ]
  },
  {
   "cell_type": "markdown",
   "metadata": {},
   "source": [
    "Load python functions needed for underworld. Some additional python functions from os, math and numpy used later on."
   ]
  },
  {
   "cell_type": "code",
   "execution_count": 1,
   "metadata": {
    "collapsed": false
   },
   "outputs": [],
   "source": [
    "import networkx as nx\n",
    "import underworld as uw\n",
    "import math\n",
    "from underworld import function as fn\n",
    "import glucifer\n",
    "#import matplotlib.pyplot as pyplot\n",
    "import time\n",
    "import numpy as np\n",
    "import os\n",
    "import sys\n",
    "import natsort\n",
    "import shutil\n",
    "from easydict import EasyDict as edict\n",
    "import collections\n",
    "\n",
    "from mpi4py import MPI\n",
    "comm = MPI.COMM_WORLD\n",
    "rank = comm.Get_rank()"
   ]
  },
  {
   "cell_type": "code",
   "execution_count": 2,
   "metadata": {
    "collapsed": false
   },
   "outputs": [
    {
     "name": "stdout",
     "output_type": "stream",
     "text": [
      "/Users/dansandiford/Documents/programming/earthsci_code/python/crustyconvection\r\n",
      "analysis.ipynb     free_surface.ipynb \u001b[1m\u001b[34mspeedtest\u001b[m\u001b[m          test.py\r\n",
      "base_model.ipynb   \u001b[1m\u001b[34mmesh_test\u001b[m\u001b[m          \u001b[1m\u001b[34mstickyairtests\u001b[m\u001b[m\r\n",
      "base_model.py      raijin_single.pbs  \u001b[1m\u001b[34mtemp_ics\u001b[m\u001b[m\r\n",
      "\u001b[1m\u001b[34mcheckpoint\u001b[m\u001b[m         \u001b[1m\u001b[34mresults\u001b[m\u001b[m            test.gldb\r\n"
     ]
    }
   ],
   "source": [
    "#Display working directory info if in nb mode\n",
    "if (len(sys.argv) > 1):\n",
    "    if (sys.argv[1] == '-f'):\n",
    "        !pwd && ls\n",
    "        "
   ]
  },
  {
   "cell_type": "code",
   "execution_count": 3,
   "metadata": {
    "collapsed": false
   },
   "outputs": [],
   "source": [
    "############\n",
    "#Model name.  \n",
    "############\n",
    "Model = \"T\"\n",
    "ModNum = 10\n",
    "\n",
    "if len(sys.argv) == 1:\n",
    "    ModIt = \"Base\"\n",
    "elif sys.argv[1] == '-f':\n",
    "    ModIt = \"Base\"\n",
    "else:\n",
    "    ModIt = str(sys.argv[1])"
   ]
  },
  {
   "cell_type": "markdown",
   "metadata": {},
   "source": [
    "Set physical constants and parameters, including the Rayleigh number (*RA*). "
   ]
  },
  {
   "cell_type": "code",
   "execution_count": 4,
   "metadata": {
    "collapsed": true
   },
   "outputs": [],
   "source": [
    "###########\n",
    "#Standard output directory setup\n",
    "###########\n",
    "\n",
    "\n",
    "outputPath = \"results\" + \"/\" +  str(Model) + \"/\" + str(ModNum) + \"/\" + str(ModIt) + \"/\"\n",
    "imagePath = outputPath + 'images/'\n",
    "filePath = outputPath + 'files/'\n",
    "checkpointPath = outputPath + 'checkpoint/'\n",
    "dbPath = outputPath + 'gldbs/'\n",
    "outputFile = 'results_model' + Model + '_' + str(ModNum) + '_' + str(ModIt) + '.dat'\n",
    "\n",
    "if uw.rank()==0:\n",
    "    # make directories if they don't exist\n",
    "    if not os.path.isdir(outputPath):\n",
    "        os.makedirs(outputPath)\n",
    "    if not os.path.isdir(checkpointPath):\n",
    "        os.makedirs(checkpointPath)\n",
    "    if not os.path.isdir(imagePath):\n",
    "        os.makedirs(imagePath)\n",
    "    if not os.path.isdir(dbPath):\n",
    "        os.makedirs(dbPath)\n",
    "    if not os.path.isdir(filePath):\n",
    "        os.makedirs(filePath)\n",
    "        \n",
    "comm.Barrier() #Barrier here so not procs run the check in the next cell too early "
   ]
  },
  {
   "cell_type": "code",
   "execution_count": 5,
   "metadata": {
    "collapsed": false
   },
   "outputs": [
    {
     "name": "stdout",
     "output_type": "stream",
     "text": [
      "results/T/10/Base/checkpoint/ is empty\n"
     ]
    }
   ],
   "source": [
    "###########\n",
    "#Check if starting from checkpoint\n",
    "###########\n",
    "\n",
    "checkdirs = []\n",
    "for dirpath, dirnames, files in os.walk(checkpointPath):\n",
    "    if files:\n",
    "        print dirpath, 'has files'\n",
    "        checkpointLoad = True\n",
    "        checkdirs.append(dirpath)\n",
    "    if not files:\n",
    "        print dirpath, 'is empty'\n",
    "        checkpointLoad = False\n",
    "        \n"
   ]
  },
  {
   "cell_type": "code",
   "execution_count": 6,
   "metadata": {
    "collapsed": false
   },
   "outputs": [],
   "source": [
    "###########\n",
    "#Physical parameters\n",
    "###########\n",
    "\n",
    "#The Slippy rheology class will contain dimensional and nondimensional values, linked in a self-consistent way by scaling paramters\n",
    "#lowermantle.nondimensional['cohesion']\n",
    "#Where lowermantle is a material class (generated within a rheology class); and non dimensional is a dictionary\n",
    "\n",
    "#UW naming conventions: \n",
    "#module_name, package_name, ClassName, function_name, method_name, \n",
    "#ExceptionName, propertyName GLOBAL_CONSTANT_NAME, globalVarName, instanceVarName, functionParameterName, localVarName\n",
    "###########\n",
    "\n",
    "\n",
    "#dimensional parameter dictionary\n",
    "dp = edict({'LS':2890.*1e3,\n",
    "           'rho':3300,\n",
    "           'g':9.81, \n",
    "           'eta0':1e23,\n",
    "           'k':10**-6,\n",
    "           'a':1.25*10**-5, \n",
    "           'TS':273.,\n",
    "           'TB':2773.,\n",
    "           'deltaT':2500, \n",
    "           'cohesion':1e7, \n",
    "           'E':240000., \n",
    "           'R':8.314,\n",
    "           'V':6.34*(10**-7) })\n",
    "\n",
    "#non-dimensional parameter dictionary\n",
    "ndp = edict({'RA':1e6, \n",
    "              'LS':1.,\n",
    "              'eta0':1.,\n",
    "              'k':1.,\n",
    "              'E':11.55,\n",
    "              'V':3.0,\n",
    "              'H':20.,\n",
    "              'TR':(1600./2500.),\n",
    "              'TS':(dp.TS/2500.),\n",
    "              'RD':1.,\n",
    "              'cohesion':1577.,\n",
    "              'cohesion_reduce':5.,\n",
    "              'fc':0.1})\n",
    "\n",
    "\n",
    "#A few parameters defining lengths scales, affects materal transistions etc.\n",
    "MANTLETOCRUST = (18.*1e3)/dp.LS #Crust depth\n",
    "CRUSTTOMANTLE = (300.*1e3)/dp.LS \n",
    "LITHTOMANTLE = (660.*1e3)/dp.LS \n",
    "MANTLETOLITH = (200.*1e3)/dp.LS \n",
    "TOPOHEIGHT = (15.*1e3)/dp.LS  #rock-air topography limits\n",
    "AVGTEMP = 0.53 #Used to define lithosphere\n",
    "\n",
    "\n",
    "#Compositional Rayliegh number of rock-air\n",
    "ETAREF = dp.rho*dp.g*dp.a*dp.deltaT*((dp.LS)**3)/(ndp.RA*dp.k) #equivalent dimensional reference viscosity\n",
    "RC = (3300.*dp.g*(dp.LS)**3)/(ETAREF *dp.k) #Composisitional Rayleigh number for rock-air buoyancy force\n",
    "COMP_RA_FACT = RC/ndp.RA\n",
    "\n",
    "\n",
    "#Additional dimensionless paramters\n",
    "AIRVISCOSITY = 0.001\n",
    "AIRDENSITY = ndp.RA*COMP_RA_FACT\n",
    "\n",
    "\n",
    "#######################To be replaced soon\n",
    "#Physical parameters that can be defined with STDIN,\n",
    "#The == '-f': check is a a hack check to see cover the notebook case\n",
    "if len(sys.argv) == 1:\n",
    "    ndp.cohesion = ndp.cohesion\n",
    "elif sys.argv[1] == '-f':\n",
    "    ndp.cohesion = ndp.cohesion\n",
    "else:\n",
    "    ndp.cohesion = float(sys.argv[1])*newvisc"
   ]
  },
  {
   "cell_type": "code",
   "execution_count": 7,
   "metadata": {
    "collapsed": false
   },
   "outputs": [],
   "source": [
    "###########\n",
    "#Model setup parameters\n",
    "###########\n",
    "\n",
    "stickyAir = False\n",
    "\n",
    "MINX = -1.\n",
    "MINY = 0.\n",
    "MAXX = 1.0\n",
    "\n",
    "#MAXY = 1.035\n",
    "MAXY = 1.\n",
    "\n",
    "if MINX == 0.:\n",
    "    squareModel = True\n",
    "else: \n",
    "    squareModel = False\n",
    "    \n",
    "    \n",
    "dim = 2          # number of spatial dimensions\n",
    "\n",
    "\n",
    "#MESH STUFF\n",
    "\n",
    "RES = 64\n",
    "\n",
    "if MINX == 0.:\n",
    "    Xres = RES\n",
    "else:\n",
    "    Xres = 2*RES\n",
    "\n",
    "if stickyAir:\n",
    "    Yres = RES + 8\n",
    "    MAXY = float(Yres)/RES\n",
    "    \n",
    "else:\n",
    "    Yres = RES\n",
    "    MAXY = 1.\n",
    "\n",
    "\n",
    "periodic = [True,False]\n",
    "elementType = \"Q1/dQ0\"\n",
    "#elementType =\"Q2/DPC1\"\n",
    "\n",
    "refineMesh = True\n",
    "\n",
    "s = 1.2 #Mesh refinement parameter\n",
    "ALPHA = 11. #Mesh refinement parameter\n",
    "\n",
    "#System/Solver stuff\n",
    "\n",
    "PIC_integration=False"
   ]
  },
  {
   "cell_type": "code",
   "execution_count": 8,
   "metadata": {
    "collapsed": true
   },
   "outputs": [],
   "source": [
    "###########\n",
    "#Model Runtime parameters\n",
    "###########\n",
    "\n",
    "swarm_update = 25\n",
    "swarm_repop = 25\n",
    "files_output = 1e6\n",
    "gldbs_output = 25\n",
    "images_output = 1e6\n",
    "checkpoint_every = 25\n",
    "metric_output = 25\n",
    "sticky_air_temp = 10\n",
    "\n",
    "comm.Barrier() #Barrier here so not procs run the check in the next cell too early \n",
    "\n",
    "assert metric_output <= checkpoint_every, 'Checkpointing should run less or as ofen as metric output'\n",
    "assert (metric_output >= swarm_update), 'Swarm update is needed before checkpointing'\n",
    "assert metric_output >= sticky_air_temp, 'Sticky air temp should be updated more frequently that metrics'\n"
   ]
  },
  {
   "cell_type": "code",
   "execution_count": 9,
   "metadata": {
    "collapsed": false
   },
   "outputs": [],
   "source": [
    "###########\n",
    "#Model output parameters\n",
    "###########\n",
    "\n",
    "#Do you want to write hdf5 files - Temp, RMS, viscosity, stress?\n",
    "writeFiles = True\n",
    "loadTemp = True\n"
   ]
  },
  {
   "cell_type": "code",
   "execution_count": 10,
   "metadata": {
    "collapsed": false
   },
   "outputs": [],
   "source": [
    "mesh = uw.mesh.FeMesh_Cartesian( elementType = (\"Q1/dQ0\"),\n",
    "                                 elementRes  = (Xres, Yres), \n",
    "                                 minCoord    = (MINX,MINY), \n",
    "                                 maxCoord=(MAXX,MAXY), periodic=periodic)\n",
    "\n",
    "\n",
    "\n",
    "velocityField       = uw.mesh.MeshVariable( mesh=mesh,         nodeDofCount=dim )\n",
    "pressureField       = uw.mesh.MeshVariable( mesh=mesh.subMesh, nodeDofCount=1 )\n",
    "temperatureField    = uw.mesh.MeshVariable( mesh=mesh,         nodeDofCount=1 )\n",
    "temperatureDotField = uw.mesh.MeshVariable( mesh=mesh,         nodeDofCount=1 )"
   ]
  },
  {
   "cell_type": "code",
   "execution_count": 11,
   "metadata": {
    "collapsed": false
   },
   "outputs": [
    {
     "data": {
      "text/plain": [
       "(128, 64, -1.0, 1.0, 0.0, 1.0, [True, False], 'Q1/dQ0', 2)"
      ]
     },
     "execution_count": 11,
     "metadata": {},
     "output_type": "execute_result"
    }
   ],
   "source": [
    "Xres, Yres, MINX,MAXX,MINY,MAXY, periodic, elementType, dim "
   ]
  },
  {
   "cell_type": "markdown",
   "metadata": {},
   "source": [
    "##Refine mesh"
   ]
  },
  {
   "cell_type": "markdown",
   "metadata": {
    "collapsed": true
   },
   "source": [
    "if refineMesh:\n",
    "    alpha=ALPHA\n",
    "    newys = []\n",
    "    newxs = []\n",
    "    for index, coord in enumerate(linearMesh.data):\n",
    "        y0 = coord[1]\n",
    "        x0 = abs(coord[0])\n",
    "        if y0 >= 1.0:\n",
    "            newy = y0\n",
    "        else:\n",
    "            newy = (math.log(alpha*y0 + math.e) - 1)*(1/(math.log(alpha + math.e) - 1))\n",
    "        newx = (math.log((alpha/2.)*x0 + math.e) - 1)*(1/(math.log((alpha/2.) + math.e) - 1))\n",
    "        if coord[0] <= 0:\n",
    "            newx = -1.*newx\n",
    "        newys.append(newy)\n",
    "        newxs.append(newx)\n",
    "        \n",
    "    with linearMesh.deform_mesh():\n",
    "        linearMesh.data[:,1] = newys\n",
    "        linearMesh.data[:,0] = newxs"
   ]
  },
  {
   "cell_type": "markdown",
   "metadata": {
    "collapsed": false
   },
   "source": [
    "#THis one for the rectangular mesh\n",
    "\n",
    "if refineMesh:\n",
    "    alpha = ALPHA\n",
    "    newys = []\n",
    "    newxs = []\n",
    "    for index, coord in enumerate(mesh.data):\n",
    "        y0 = coord[1]\n",
    "        x0 = abs(coord[0])\n",
    "        if y0 == MAXY:\n",
    "            newy = y0\n",
    "        else:\n",
    "            ynorm = y0/MAXY\n",
    "            newy = MAXY*(math.log(alpha*ynorm + math.e) - 1)*(1/(math.log(alpha + math.e) - 1))\n",
    "        if coord[0] > 0:\n",
    "            newx = (math.e**(x0*(math.log((alpha/2.) + math.e) - 1) + 1 ) - math.e)/(alpha/2.)\n",
    "        else:\n",
    "            newx = -1.*(math.e**(x0*(math.log((alpha/2.) + math.e) - 1) + 1 ) - math.e)/(alpha/2.)\n",
    "        newys.append(newy)\n",
    "        newxs.append(newx)\n",
    "        #print y0,newy\n",
    "\n",
    "    with mesh.deform_mesh():\n",
    "            mesh.data[:,1] = newys\n",
    "            mesh.data[:,0] = newxs"
   ]
  },
  {
   "cell_type": "code",
   "execution_count": 12,
   "metadata": {
    "collapsed": false
   },
   "outputs": [],
   "source": [
    "# Get the actual sets \n",
    "#\n",
    "#  HJJJJJJH\n",
    "#  I      I\n",
    "#  I      I\n",
    "#  I      I\n",
    "#  HJJJJJJH\n",
    "#  \n",
    "#  Note that H = I & J \n",
    "\n",
    "# Note that we use operator overloading to combine sets\n",
    "# send boundary condition information to underworld\n",
    "IWalls = mesh.specialSets[\"MinI_VertexSet\"] + mesh.specialSets[\"MaxI_VertexSet\"]\n",
    "JWalls = mesh.specialSets[\"MinJ_VertexSet\"] + mesh.specialSets[\"MaxJ_VertexSet\"]\n",
    "TWalls = mesh.specialSets[\"MaxJ_VertexSet\"]\n",
    "BWalls = mesh.specialSets[\"MinJ_VertexSet\"]\n",
    "AWalls = IWalls + JWalls"
   ]
  },
  {
   "cell_type": "code",
   "execution_count": 13,
   "metadata": {
    "collapsed": false
   },
   "outputs": [
    {
     "name": "stdout",
     "output_type": "stream",
     "text": [
      "refine By:2.0\n"
     ]
    }
   ],
   "source": [
    "def coarse_fine_division(mesh, axis=\"y\", refine_by=2., relax_by =0.5):\n",
    "    if axis == \"y\":\n",
    "        thisaxis = 1\n",
    "    else:\n",
    "        thisaxis = 0\n",
    "    width = (mesh.maxCoord[thisaxis]-mesh.minCoord[thisaxis])\n",
    "    dx = (mesh.maxCoord[thisaxis]-mesh.minCoord[thisaxis])/ (mesh.elementRes[thisaxis])\n",
    "    nx = mesh.elementRes[thisaxis]\n",
    "    dxf = dx/ refine_by\n",
    "    dxc = dx/ relax_by\n",
    "    print(\"refine By:\" + str(refine_by))\n",
    "    i = 0\n",
    "    current_width = ((nx - i)  * dxf) + (i * dxc)\n",
    "    while current_width < width:\n",
    "        i += 1\n",
    "        current_width = ((nx - i)  * dxf) + (i * dxc)\n",
    "    #print current_width\n",
    "    #correct dxc so the total domain is preserved.\n",
    "    dxc = (width  - ((nx - i)  * dxf))/i\n",
    "    nxf = (nx - i) \n",
    "    nxc = i\n",
    "    nt = (nxf + nxc)\n",
    "    assert nt == nx\n",
    "    return nxf, dxf, nxc, dxc\n",
    "\n",
    "nxf, dxf, nxc, dxc = coarse_fine_division(mesh, axis=\"x\", refine_by=2., relax_by =0.5)\n",
    "\n",
    "def shishkin_centre_arrange(mesh, axis=\"y\",centre = 0.5, nxf=nxf, dxf=dxf, nxc=nxc, dxc=dxc):\n",
    "    import itertools\n",
    "    if axis == \"y\":\n",
    "        thisaxis = 1\n",
    "    else:\n",
    "        thisaxis = 0\n",
    "    print thisaxis\n",
    "    ###################\n",
    "    #Get the number of coarse elements either side of fine elements\n",
    "    ###################\n",
    "    nr = nxc\n",
    "    nl = 0\n",
    "    print((nxf*dxf - abs(mesh.minCoord[thisaxis])))\n",
    "    if ((nxf*dxf - abs(mesh.minCoord[thisaxis])) > centre):\n",
    "        print(\"left edge\")\n",
    "        pass\n",
    "    else:\n",
    "        left_length = (nl*dxc) + 0.5*(dxf*nxf) - abs(mesh.minCoord[thisaxis])\n",
    "        while (left_length <  centre):\n",
    "            nl += 1\n",
    "            left_length = (nl*dxc) + 0.5*(dxf*nxf) - abs(mesh.minCoord[thisaxis])\n",
    "            #print(left_length)\n",
    "            if nl == nxc:\n",
    "                print(\"right edge\")\n",
    "                break\n",
    "        nr = nxc - nl\n",
    "    print(nl, nr, nxf)\n",
    "    #assert nr + nl + nxf == mesh.elementRes[thisaxis]\n",
    "    ###################\n",
    "    #return dictionary of new element mappings\n",
    "    ###################\n",
    "    lcoords = [(mesh.minCoord[thisaxis] + i*dxc) for i in range(nl+1)]\n",
    "    if lcoords:\n",
    "        #print(nl, lcoords[-1]/dxc)\n",
    "        ccoords =  [lcoords[-1] + i*dxf for i in range(1, nxf+1)]\n",
    "    else:\n",
    "        ccoords =  [(mesh.minCoord[thisaxis] + i*dxf) for i in range(0, nxf)]\n",
    "    rcoords = [ccoords[-1] + i*dxc for i in range(1, nr +1)]\n",
    "    if rcoords:\n",
    "        #rcoords.append(mesh.maxCoord[0])\n",
    "        pass\n",
    "    else:\n",
    "        #ccoords.append(mesh.maxCoord[0])\n",
    "        pass\n",
    "    newcoords = lcoords+ ccoords+ rcoords\n",
    "    #assert len(newcoords) == nx + 1 \n",
    "    #origcoords = list(np.unique(mesh.data[:,thisaxis]))\n",
    "    #origcoords = np.linspace(mesh.minCoord[thisaxis], mesh.maxCoord[thisaxis], mesh.elementRes[thisaxis])\n",
    "    width = (mesh.maxCoord[thisaxis]-mesh.minCoord[thisaxis])\n",
    "    dx = (mesh.maxCoord[thisaxis]-mesh.minCoord[thisaxis])/ (mesh.elementRes[thisaxis])\n",
    "    origcoords = list(np.arange(mesh.minCoord[thisaxis], mesh.maxCoord[thisaxis], dx))\n",
    "    origcoords.append(mesh.maxCoord[thisaxis])\n",
    "    dictionary = dict(itertools.izip(origcoords, newcoords))\n",
    "    assert len([x for x, y in collections.Counter(newcoords).items() if y > 1]) == 0 #checks agains multiple coordinates\n",
    "    return dictionary\n",
    "\n",
    "\n",
    " \n",
    "def shishkin_deform(mesh, centre = 0.5, axis=\"y\", refine_by=2., relax_by =0.5):\n",
    "    if axis == \"y\":\n",
    "        thisaxis = 1\n",
    "    else:\n",
    "        thisaxis = 0\n",
    "    nxf, dxf, nxc, dxc, = coarse_fine_division(mesh,axis, refine_by=refine_by, relax_by =relax_by)\n",
    "    coorddict = shishkin_centre_arrange(mesh, nxf=nxf, dxf=dxf, nxc=nxc, dxc=dxc, axis=axis , centre=centre)\n",
    "    with mesh.deform_mesh():\n",
    "        for index, coord in enumerate(mesh.data):\n",
    "            key = mesh.data[index][thisaxis]\n",
    "            mesh.data[index][thisaxis] = coorddict[key]\n"
   ]
  },
  {
   "cell_type": "markdown",
   "metadata": {
    "collapsed": false
   },
   "source": [
    "mesh.reset()\n",
    "nxf, dxf, nxc, dxc, = coarse_fine_division(mesh,axis=\"x\", refine_by=2., relax_by =0.75)\n",
    "xcoorddict = shishkin_centre_arrange(mesh, axis=\"x\", centre=0., nxf=nxf, dxf=dxf, nxc=nxc, dxc=dxc)\n",
    "\n",
    "nxf, dxf, nxc, dxc, = coarse_fine_division(mesh,axis=\"y\", refine_by=2., relax_by =0.5)\n",
    "ycoorddict = shishkin_centre_arrange(mesh, axis=\"y\", centre=0., nxf=nxf, dxf=dxf, nxc=nxc, dxc=dxc)\n",
    "            \n",
    "\n",
    "newxs = []\n",
    "newys = []\n",
    "for index, coord in enumerate(mesh.data):\n",
    "    x0 = coord[0]\n",
    "    y0 = coord[1]\n",
    "    xkey = mesh.data[index][0]\n",
    "    ykey = mesh.data[index][1]\n",
    "    newx = xcoorddict[key]\n",
    "    newy = ycoorddict[key]\n",
    "    newxs.append(newx)\n",
    "\n",
    "with mesh.deform_mesh():\n",
    "    mesh.data[:,0] = newxs\n",
    "    mesh.data[:,0] = newxs"
   ]
  },
  {
   "cell_type": "code",
   "execution_count": 14,
   "metadata": {
    "collapsed": false
   },
   "outputs": [
    {
     "name": "stdout",
     "output_type": "stream",
     "text": [
      "refine By:2.0\n",
      "1\n",
      "0.328125\n",
      "right edge\n",
      "(22, 0, 42)\n",
      "refine By:2.0\n",
      "0\n",
      "-0.6015625\n",
      "(39, 38, 51)\n"
     ]
    }
   ],
   "source": [
    "if refineMesh:\n",
    "    shishkin_deform(mesh, centre = 0.9, axis=\"y\", refine_by=2.0, relax_by =0.5)\n",
    "    shishkin_deform(mesh, centre = 0.0, axis=\"x\", refine_by=2.0, relax_by =0.75)"
   ]
  },
  {
   "cell_type": "code",
   "execution_count": null,
   "metadata": {
    "collapsed": false
   },
   "outputs": [],
   "source": []
  },
  {
   "cell_type": "markdown",
   "metadata": {},
   "source": [
    "#ICs and BCs"
   ]
  },
  {
   "cell_type": "code",
   "execution_count": 15,
   "metadata": {
    "collapsed": false
   },
   "outputs": [],
   "source": [
    "# Initialise data.. Note that we are also setting boundary conditions here\n",
    "velocityField.data[:] = [0.,0.]\n",
    "pressureField.data[:] = 0.\n",
    "temperatureField.data[:] = 0.\n",
    "temperatureDotField.data[:] = 0.\n",
    "\n",
    "def wbl(x, w0 = 0.06):\n",
    "    delx = 1- abs(x)\n",
    "    Wbl = w0*math.sqrt(delx)\n",
    "    if Wbl== 0.: #to avoid division by zero\n",
    "        Wbl = 1e-8\n",
    "    return Wbl\n",
    "\n",
    "\n",
    "\n",
    "def tempf(z,w,t0=0.64):\n",
    "    temp = t0*math.erf((1-z)/w)\n",
    "    return temp\n",
    "\n"
   ]
  },
  {
   "cell_type": "code",
   "execution_count": 16,
   "metadata": {
    "collapsed": false
   },
   "outputs": [],
   "source": [
    "for index, coord in enumerate(mesh.data):\n",
    "    w = wbl(coord[0])\n",
    "    t = tempf(coord[1], w)\n",
    "    temperatureField.data[index] = t\n",
    "\n",
    "\n",
    "for index, coord in enumerate(mesh.data):\n",
    "    if abs(coord[0]) < wbl(0)/2. and coord[1] > 0.5:\n",
    "        w = wbl(0)/2.\n",
    "        d = w - abs(coord[0])\n",
    "        t = tempf(d, coord[1], w)\n",
    "        temperatureField.data[index] = t\n",
    "        \n",
    "        \n",
    "\n",
    "#Set sticky air Temp to zero\n",
    "\n",
    "for index, coord in enumerate(mesh.data):\n",
    "    if coord[1] > 1.:\n",
    "        temperatureField.data[index] = 0."
   ]
  },
  {
   "cell_type": "code",
   "execution_count": 17,
   "metadata": {
    "collapsed": true
   },
   "outputs": [],
   "source": [
    "#For notebook runs\n",
    "#ModIt = \"96\""
   ]
  },
  {
   "cell_type": "code",
   "execution_count": 18,
   "metadata": {
    "collapsed": false
   },
   "outputs": [],
   "source": [
    "# Now setup the dirichlet boundary condition\n",
    "# Note that through this object, we are flagging to the system \n",
    "# that these nodes are to be considered as boundary conditions. \n",
    "# Also note that we provide a tuple of sets.. One for the Vx, one for Vy.\n",
    "freeslipBC = uw.conditions.DirichletCondition( variable      = velocityField, \n",
    "                                               indexSetsPerDof = (None, JWalls) )\n",
    "\n",
    "# also set dirichlet for temp field\n",
    "tempBC = uw.conditions.DirichletCondition(     variable=temperatureField, \n",
    "                                              indexSetsPerDof=(JWalls,) )\n",
    "\n",
    "\n",
    "# set initial conditions (and boundary values)\n",
    "velocityField.data[:] = [0.,0.]\n",
    "pressureField.data[:] = 0.\n",
    "\n",
    "\n",
    "\n"
   ]
  },
  {
   "cell_type": "markdown",
   "metadata": {},
   "source": [
    "##Add Random 125 K temp perturbation\n"
   ]
  },
  {
   "cell_type": "code",
   "execution_count": 19,
   "metadata": {
    "collapsed": true
   },
   "outputs": [],
   "source": [
    "tempNump = temperatureField.data\n",
    "\n",
    "#In gerneral we only want to do this on the initial setup, not restarts\n",
    "\n",
    "if not checkpointLoad:\n",
    "    for index, coord in enumerate(mesh.data):\n",
    "        pertCoeff = (0.05*np.random.rand(1)[0])\n",
    "        ict = tempNump[index]\n",
    "        tempNump[index] = ict + pertCoeff"
   ]
  },
  {
   "cell_type": "markdown",
   "metadata": {},
   "source": [
    "##Reset bottom Dirichlet conds."
   ]
  },
  {
   "cell_type": "code",
   "execution_count": 20,
   "metadata": {
    "collapsed": false
   },
   "outputs": [],
   "source": [
    "# Set temp boundaries \n",
    "# on the boundaries\n",
    "for index in mesh.specialSets[\"MinJ_VertexSet\"]:\n",
    "    temperatureField.data[index] = ndp.TR\n",
    "for index in mesh.specialSets[\"MaxJ_VertexSet\"]:\n",
    "    temperatureField.data[index] = ndp.TS"
   ]
  },
  {
   "cell_type": "code",
   "execution_count": 21,
   "metadata": {
    "collapsed": false
   },
   "outputs": [],
   "source": [
    "#temperatureField.evaluate(IWalls).min()"
   ]
  },
  {
   "cell_type": "markdown",
   "metadata": {},
   "source": [
    "#Particles"
   ]
  },
  {
   "cell_type": "code",
   "execution_count": 22,
   "metadata": {
    "collapsed": false
   },
   "outputs": [],
   "source": [
    "###########\n",
    "#Material Swarm and variables\n",
    "###########\n",
    "\n",
    "gSwarm = uw.swarm.Swarm(mesh=mesh)\n",
    "materialVariable = gSwarm.add_variable( dataType=\"char\", count=1 )\n",
    "rockIntVar = gSwarm.add_variable( dataType=\"double\", count=1 )\n",
    "airIntVar = gSwarm.add_variable( dataType=\"double\", count=1 )\n",
    "lithIntVar = gSwarm.add_variable( dataType=\"double\", count=1 )\n",
    "\n",
    "varlist = [materialVariable, rockIntVar, airIntVar, lithIntVar]\n",
    "varnames = ['materialVariable', 'rockIntVar', 'airIntVar', 'lithIntVar']"
   ]
  },
  {
   "cell_type": "code",
   "execution_count": 23,
   "metadata": {
    "collapsed": true
   },
   "outputs": [],
   "source": [
    "###########\n",
    "#Swarms for surface intragrals when using Sticky air\n",
    "###########\n",
    "\n",
    "snum = 1000.\n",
    "dx = (mesh.data[:,0].max()- mesh.data[:,0].min())/snum\n",
    "yp = 0.9947 #1. - yelsize/2. at res = 96\n",
    "\n",
    "mesh.data[:,0].max()\n",
    "xps = np.linspace(mesh.data[:,0].min(),mesh.data[:,0].max(), snum)\n",
    "yps = [yp for i in xps]\n",
    "\n",
    "surfintswarm = uw.swarm.Swarm( mesh=mesh )\n",
    "dumout = surfintswarm.add_particles_with_coordinates(np.array((xps,yps)).T)\n",
    "\n",
    "yps = [ 1.- yp  for i in xps]\n",
    "\n",
    "baseintswarm = uw.swarm.Swarm( mesh=mesh)\n",
    "dumout = baseintswarm.add_particles_with_coordinates(np.array((xps,yps)).T)"
   ]
  },
  {
   "cell_type": "markdown",
   "metadata": {},
   "source": [
    "#Initialise swarm variables, or Swarm checkpoint load"
   ]
  },
  {
   "cell_type": "code",
   "execution_count": 24,
   "metadata": {
    "collapsed": false
   },
   "outputs": [],
   "source": [
    "mantleIndex = 0\n",
    "lithosphereIndex = 1\n",
    "crustIndex = 2\n",
    "airIndex = 3\n",
    "\n",
    "\n",
    "if checkpointLoad:\n",
    "    checkpointLoadDir = natsort.natsorted(checkdirs)[-1]\n",
    "    temperatureField.load(os.path.join(checkpointLoadDir, \"temperatureField\" + \".hdf5\"))\n",
    "    pressureField.load(os.path.join(checkpointLoadDir, \"pressureField\" + \".hdf5\"))\n",
    "    velocityField.load(os.path.join(checkpointLoadDir, \"velocityField\" + \".hdf5\"))\n",
    "    gSwarm.load(os.path.join(checkpointLoadDir, \"swarm\" + \".h5\"))\n",
    "    for ix in range(len(varlist)):\n",
    "        varb = varlist[ix]\n",
    "        varb.load(os.path.join(checkpointLoadDir,varnames[ix] + \".h5\"))\n",
    "\n",
    "else:\n",
    "\n",
    "    # Layouts are used to populate the swarm across the whole domain\n",
    "    # Create the layout object\n",
    "    #layout = uw.swarm.layouts.GlobalSpaceFillerLayout( swarm=gSwarm, particlesPerCell=20)\n",
    "    layout = uw.swarm.layouts.PerCellRandomLayout(swarm=gSwarm, particlesPerCell=15)\n",
    "    # Now use it to populate.\n",
    "    gSwarm.populate_using_layout( layout=layout )\n",
    "\n",
    "    # Lets initialise the 'materialVariable' data to represent different materials\n",
    "    # Set the material to heavy everywhere via the numpy array\n",
    "    materialVariable.data[:] = mantleIndex\n",
    "    \n",
    "    \n",
    "    #Set initial air and crust materials (allow the graph to take care of lithsophere)\n",
    "    #########\n",
    "    #This initial material setup will be model dependent\n",
    "    #########\n",
    "    for particleID in range(gSwarm.particleCoordinates.data.shape[0]):\n",
    "        if (1. - gSwarm.particleCoordinates.data[particleID][1]) < 0:\n",
    "                 materialVariable.data[particleID] = airIndex\n",
    "        elif (1. - gSwarm.particleCoordinates.data[particleID][1]) < MANTLETOCRUST:\n",
    "                 materialVariable.data[particleID] = crustIndex"
   ]
  },
  {
   "cell_type": "markdown",
   "metadata": {},
   "source": [
    "#Material Graphs"
   ]
  },
  {
   "cell_type": "code",
   "execution_count": 25,
   "metadata": {
    "collapsed": false
   },
   "outputs": [],
   "source": [
    "##############\n",
    "#Important: This is a quick fix for a bug that arises in parallel runs\n",
    "##############\n",
    "material_list = [0,1,2,3]\n"
   ]
  },
  {
   "cell_type": "code",
   "execution_count": 26,
   "metadata": {
    "collapsed": false
   },
   "outputs": [
    {
     "name": "stdout",
     "output_type": "stream",
     "text": [
      "unique values after swarm has loaded:[0 2]\n"
     ]
    }
   ],
   "source": [
    "print( \"unique values after swarm has loaded:\" + str(np.unique(materialVariable.data[:])))\n"
   ]
  },
  {
   "cell_type": "code",
   "execution_count": 27,
   "metadata": {
    "collapsed": true
   },
   "outputs": [],
   "source": [
    "\n",
    "\n",
    "#All depth conditions are given as (km/D) where D is the length scale, \n",
    "#note that 'model depths' are used, e.g. 1-z, where z is the vertical Underworld coordinate\n",
    "#All temp conditions are in dimensionless temp. [0. - 1.]\n",
    "\n",
    "#######Graph object\n",
    "DG = nx.DiGraph(field=\"Depth\")\n",
    "\n",
    "#######Nodes\n",
    "#Note that the order of materials, deepest to shallowest is important \n",
    "DG.add_node(0, mat='mantle')\n",
    "DG.add_node(1, mat='lithosphere')\n",
    "DG.add_node(2, mat='crust')\n",
    "DG.add_node(3, mat='air')\n",
    "\n",
    "\n",
    "labels=dict((n,d['mat']) for n,d in DG.nodes(data=True))\n",
    "pos=nx.spring_layout(DG) \n",
    "\n",
    "\n",
    "#######Edges\n",
    "#anything to air\n",
    "DG.add_edges_from([(0,3),(1,3), (2,3)])\n",
    "DG[0][3]['depthcondition'] = -1*TOPOHEIGHT\n",
    "DG[1][3]['depthcondition'] = -1*TOPOHEIGHT\n",
    "DG[2][3]['depthcondition'] = -1*TOPOHEIGHT\n",
    "\n",
    "\n",
    "#Anything to mantle\n",
    "DG.add_edges_from([(2,0), (3,0), (1,0)])\n",
    "DG[3][0]['depthcondition'] = TOPOHEIGHT\n",
    "DG[2][0]['depthcondition'] = CRUSTTOMANTLE\n",
    "DG[1][0]['depthcondition'] = LITHTOMANTLE #This means we're going to kill lithosphere at the 660.\n",
    "\n",
    "\n",
    "#Anything to lithsphere\n",
    "DG.add_edges_from([(0,1),(3,1)])\n",
    "DG[0][1]['depthcondition'] = MANTLETOLITH\n",
    "DG[0][1]['avgtempcondition'] = 0.75*AVGTEMP #definition of thermal lithosphere\n",
    "\n",
    "\n",
    "#Anything to crust\n",
    "DG.add_edges_from([(0,2), (1,2)])\n",
    "DG[0][2]['depthcondition'] = MANTLETOCRUST\n",
    "DG[1][2]['depthcondition'] = MANTLETOCRUST"
   ]
  },
  {
   "cell_type": "code",
   "execution_count": 28,
   "metadata": {
    "collapsed": false
   },
   "outputs": [
    {
     "data": {
      "text/plain": [
       "[0, 1, 2, 3]"
      ]
     },
     "execution_count": 28,
     "metadata": {},
     "output_type": "execute_result"
    }
   ],
   "source": [
    "DG.nodes()"
   ]
  },
  {
   "cell_type": "code",
   "execution_count": 29,
   "metadata": {
    "collapsed": false
   },
   "outputs": [],
   "source": [
    "remove_nodes = []\n",
    "for node in DG.nodes():\n",
    "    if not node in material_list:\n",
    "        remove_nodes.append(node)\n",
    "        \n",
    "for rmnode in remove_nodes:\n",
    "    DG.remove_node(rmnode)"
   ]
  },
  {
   "cell_type": "code",
   "execution_count": 30,
   "metadata": {
    "collapsed": false
   },
   "outputs": [
    {
     "data": {
      "text/plain": [
       "[0, 1, 2, 3]"
      ]
     },
     "execution_count": 30,
     "metadata": {},
     "output_type": "execute_result"
    }
   ],
   "source": [
    "DG.nodes()"
   ]
  },
  {
   "cell_type": "code",
   "execution_count": 31,
   "metadata": {
    "collapsed": false
   },
   "outputs": [],
   "source": [
    "\n",
    "#remove_nodes = []\n",
    "#for node in DG.nodes_iter():\n",
    "#    if not node in material_list:\n",
    "#        remove_nodes.append(node)\n",
    "        \n",
    "#for rmnode in remove_nodes:\n",
    "#    DG.remove_node(rmnode)"
   ]
  },
  {
   "cell_type": "code",
   "execution_count": 32,
   "metadata": {
    "collapsed": true
   },
   "outputs": [],
   "source": [
    "#A Dictionary to map strings in the graph (e.g. 'depthcondition') to particle data arrays\n",
    "\n",
    "particledepths = 1. - gSwarm.particleCoordinates.data[:,1]\n",
    "particletemps = temperatureField.evaluate(gSwarm)[:,0]\n",
    "\n",
    "conditionmap = {}\n",
    "\n",
    "conditionmap['depthcondition'] = {}\n",
    "conditionmap['depthcondition']['data'] = particledepths\n",
    "conditionmap['avgtempcondition'] = {}\n",
    "conditionmap['avgtempcondition']['data'] = particletemps"
   ]
  },
  {
   "cell_type": "code",
   "execution_count": 33,
   "metadata": {
    "collapsed": true
   },
   "outputs": [],
   "source": [
    "def update_swarm(graph, particleIndex):\n",
    "    \"\"\"\n",
    "    This function takes the materials graph (networkx.DiGraph), and a particle index,\n",
    "    then determines if a material update is required \n",
    "    and if so, returns the new materialindex\n",
    "    Args:\n",
    "        graph (networkx.DiGraph): Directed multigraph representing the transformation of material types\n",
    "        particleIndex (int): the particle index as corressponding to the index in the swarm data arrays\n",
    "    Returns:\n",
    "        if update is required the function returns the the new material variable (int) \n",
    "        else returns None\n",
    "    Raises:\n",
    "        TypeError: not implemented\n",
    "        ValueError: not implemented\n",
    "    \"\"\"\n",
    "    ##Egde gives links to other materials, we then query the conditions to see if we should change materials\n",
    "    matId = materialVariable.data[particleIndex][0]\n",
    "    innerchange = False\n",
    "    outerchange = False\n",
    "    for edge in graph[matId]:\n",
    "        if outerchange:\n",
    "            break\n",
    "        for cond in graph[matId][edge].keys():\n",
    "            outerchange = False\n",
    "            if innerchange: #found a complete transition, break inner loop\n",
    "                break\n",
    "            currentparticlevalue = conditionmap[cond]['data'][particleIndex]\n",
    "            crossover = graph[matId][edge][cond]\n",
    "            if ((matId > edge) and (currentparticlevalue > crossover)):\n",
    "                innerchange = False # continue on, \n",
    "                if graph[matId][edge].keys()[-1] == cond:\n",
    "                    outerchange = True\n",
    "                    innerchange = edge\n",
    "                    break\n",
    "            elif ((matId < edge) and (currentparticlevalue < crossover)):\n",
    "                innerchange = False\n",
    "                if graph[matId][edge].keys()[-1] == cond:\n",
    "                    outerchange = True\n",
    "                    innerchange = edge\n",
    "                    break\n",
    "            else:\n",
    "                #condition not met, break outer loop, go to next edge, outerchange should still be False\n",
    "                break\n",
    "    if type(innerchange) == int:\n",
    "        return innerchange"
   ]
  },
  {
   "cell_type": "code",
   "execution_count": 34,
   "metadata": {
    "collapsed": true
   },
   "outputs": [],
   "source": [
    "#fn.branching.conditional?"
   ]
  },
  {
   "cell_type": "code",
   "execution_count": 35,
   "metadata": {
    "collapsed": false
   },
   "outputs": [],
   "source": [
    "#Cleanse the swarm of its sins\n",
    "#For some Material Graphs, the graph may have to be treaversed more than once\n",
    "\n",
    "check = -1\n",
    "number_updated = 1\n",
    "\n",
    "while number_updated != 0:\n",
    "    number_updated = 0\n",
    "    for particleID in range(gSwarm.particleCoordinates.data.shape[0]):\n",
    "                check = update_swarm(DG, particleID)\n",
    "                if check > -1:\n",
    "                    number_updated += 1\n",
    "                    materialVariable.data[particleID] = check"
   ]
  },
  {
   "cell_type": "code",
   "execution_count": 53,
   "metadata": {
    "collapsed": false
   },
   "outputs": [],
   "source": [
    "## Here we'll play around with some different crust-perturbations\n",
    "##Voul inlude this is the Graph update function, but for now keep it seperate\n",
    "\n",
    "#MANTLETOCRUST\n",
    "centre = 0.0\n",
    "#CRUSTTOMANTLE\n",
    "\n",
    "pert_shape = np.array([ (MANTLETOCRUST ,1. ), ((-1.*MANTLETOCRUST) ,(1.0 - CRUSTTOMANTLE) ), \n",
    "                       (-1.*MANTLETOCRUST ,1. ), ((MANTLETOCRUST),(1.0 - CRUSTTOMANTLE ))])\n",
    "\n",
    "pert_shape = fn.shape.Polygon( pert_shape)\n",
    "\n",
    "for particleID in range( gSwarm.particleCoordinates.data.shape[0] ):\n",
    "    if pert_shape.evaluate(tuple(gSwarm.particleCoordinates.data[particleID])):\n",
    "        #print \"true\"\n",
    "        materialVariable.data[particleID] = crustIndex\n"
   ]
  },
  {
   "cell_type": "code",
   "execution_count": 52,
   "metadata": {
    "collapsed": false
   },
   "outputs": [
    {
     "data": {
      "text/html": [
       "<img src='data:image/png;base64,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'>"
      ],
      "text/plain": [
       "<IPython.core.display.HTML object>"
      ]
     },
     "execution_count": 52,
     "metadata": {},
     "output_type": "execute_result"
    }
   ],
   "source": [
    "figSwarm = glucifer.Figure(figsize=(1024,384))\n",
    "figSwarm.append( glucifer.objects.Points(gSwarm,materialVariable, colours='brown white blue red'))\n",
    "figSwarm.append( glucifer.objects.Mesh(mesh))\n",
    "#figSwarm.save_database('test.gldb')\n",
    "figSwarm.show()"
   ]
  },
  {
   "cell_type": "markdown",
   "metadata": {},
   "source": [
    "##Set the values for the masking swarms"
   ]
  },
  {
   "cell_type": "code",
   "execution_count": 39,
   "metadata": {
    "collapsed": false
   },
   "outputs": [],
   "source": [
    "#Setup up a masking Swarm variable for the integrations.\n",
    "#These should be rebuilt at same frequency as the metric calcualtions\n",
    "\n",
    "rockIntVar.data[:] = 0.\n",
    "notair = np.where(materialVariable.data != airIndex)\n",
    "rockIntVar.data[notair] = 1.\n",
    "\n",
    "airIntVar.data[:] = 0.\n",
    "notrock = np.where(materialVariable.data == airIndex)\n",
    "airIntVar.data[notrock] = 1.\n",
    "\n",
    "lithIntVar.data[:] = 0.\n",
    "islith = np.where((materialVariable.data == lithosphereIndex) | (materialVariable.data == crustIndex))\n",
    "lithIntVar.data[islith] = 1."
   ]
  },
  {
   "cell_type": "markdown",
   "metadata": {
    "collapsed": false
   },
   "source": [
    "#Material properties\n"
   ]
  },
  {
   "cell_type": "markdown",
   "metadata": {},
   "source": [
    "In the paper, Crameri and Tackley give the dimensionless cohesion as well as the dimensionless yield stress gradient. But the latter is given as a function of dimensionless (lithostatic) pressure, whereas it is easier to use dimensionless depth. Easy, multiply the dimensionless depth by $\\rho g D$, divide by the stress scale, $\\frac{\\eta \\kappa}{D^2}$ then use the same dimensionless yeild stress gradient ($\\mu$)"
   ]
  },
  {
   "cell_type": "code",
   "execution_count": 37,
   "metadata": {
    "collapsed": false
   },
   "outputs": [],
   "source": [
    "# The yeilding of the upper slab is dependent on the strain rate.\n",
    "strainRate_2ndInvariant = fn.tensor.second_invariant( \n",
    "                            fn.tensor.symmetric( \n",
    "                            velocityField.fn_gradient ))\n",
    "\n",
    "\n",
    "coordinate = fn.input()\n",
    "depth = 1. - coordinate[1]\n",
    "\n",
    "#Determine yield criterion for depth (rather than pressure as given in Crameri)\n",
    "#Scaling is same as van Heck and Tackley, EPSL, 2011\n",
    "lithopressuregrad = dp.rho*dp.g*(dp.LS)**3/(dp.eta0*dp.k)"
   ]
  },
  {
   "cell_type": "code",
   "execution_count": 38,
   "metadata": {
    "collapsed": false
   },
   "outputs": [
    {
     "name": "stdout",
     "output_type": "stream",
     "text": [
      "(11.55, 3.0, 0.1092, 1.0, 0.64, 1577.0)\n"
     ]
    }
   ],
   "source": [
    "#Check important paramters\n",
    "print(ndp.E, ndp.V,ndp.TS,ndp.RD, ndp.TR, ndp.cohesion)"
   ]
  },
  {
   "cell_type": "code",
   "execution_count": 39,
   "metadata": {
    "collapsed": false
   },
   "outputs": [],
   "source": [
    "############\n",
    "#Mantle\n",
    "############\n",
    "\n",
    "#Linear viscosity\n",
    "arhennius = fn.misc.min(1e5,fn.math.exp(((ndp.E + ndp.V*(1.-coordinate[1]))/\n",
    "                                         (temperatureField + ndp.TS)) - ((ndp.E + ndp.V*(1.- ndp.RD))/(ndp.TR + ndp.TS))))\n",
    "\n",
    "#Psuedo-plastic \n",
    "ys =  ndp.cohesion + (depth*ndp.fc*lithopressuregrad)\n",
    "#ys =  ndp.fc*lithopressuregrad*(30e3/dp.LS) # this is the byerlee strength at 30 km\n",
    "yss = fn.misc.max(1577., ys)\n",
    "plasticvisc = yss*(math.sqrt(2))/(strainRate_2ndInvariant*2.)\n",
    "plastic = fn.misc.max(1e-4,plasticvisc)\n",
    "#combine these\n",
    "mantleviscosityFn = fn.exception.SafeMaths(fn.misc.min(arhennius, plastic))\n",
    "\n",
    "############\n",
    "#crust\n",
    "############\n",
    "\n",
    "\n",
    "\n",
    "ysc = (ndp.cohesion/ndp.cohesion_reduce) + (depth*(ndp.fc/100.)*lithopressuregrad)\n",
    "#ysc = ys/100.\n",
    "ycs = fn.misc.max((ndp.cohesion/ndp.cohesion_reduce), ysc)\n",
    "crustplasticvisc = ycs*(math.sqrt(2))/(strainRate_2ndInvariant*2.)\n",
    "crustplastic = fn.misc.max(1e-4,crustplasticvisc) \n",
    "crustviscosityFn = fn.exception.SafeMaths(fn.misc.min(arhennius, crustplastic))"
   ]
  },
  {
   "cell_type": "markdown",
   "metadata": {},
   "source": [
    "Note that the rheology implemented manually above can also be set up using an Underworld2 function, as follows:\n",
    "```python\n",
    "fn_stress =  2.*arhennius*uw.function.tensor.symmetric(velocityField.fn_gradient )\n",
    "plasticvisc = fn.rheology.stress_limiting_viscosity(fn_stress,ys,arhennius)\n",
    "plastic = fn.misc.max(1e-4,plasticvisc)\n",
    "mantleviscosityFn = fn.exception.SafeMaths(fn.misc.min(arhennius, plastic))\n",
    "stokesPIC.fn_viscosity = mantleviscosityFn\n",
    "```"
   ]
  },
  {
   "cell_type": "markdown",
   "metadata": {},
   "source": [
    "Set up material properties\n",
    "====\n",
    "\n",
    "Here the functions for density, viscosity etc. are set. These functions and/or values are preserved for the entire simulation time. "
   ]
  },
  {
   "cell_type": "code",
   "execution_count": 40,
   "metadata": {
    "collapsed": false
   },
   "outputs": [],
   "source": [
    "# Here we set a viscosity value of '1.' for both materials\n",
    "viscosityMapFn = fn.branching.map( fn_key = materialVariable,\n",
    "                         mapping = {airIndex:AIRVISCOSITY, \n",
    "                                    lithosphereIndex:mantleviscosityFn, \n",
    "                                    crustIndex:crustviscosityFn,\n",
    "                                    mantleIndex:mantleviscosityFn} )\n",
    "\n",
    "densityMapFn = fn.branching.map( fn_key = materialVariable,\n",
    "                         mapping = {airIndex:AIRDENSITY, \n",
    "                                    lithosphereIndex:ndp.RA*temperatureField, \n",
    "                                    crustIndex:ndp.RA*temperatureField, \n",
    "                                    mantleIndex:ndp.RA*temperatureField} )\n",
    "\n",
    "# Define our gravity using a python tuple (this will be automatically converted to a function)\n",
    "gravity = ( 0.0, 1.0 )\n",
    "\n",
    "buoyancyFn = gravity*densityMapFn"
   ]
  },
  {
   "cell_type": "code",
   "execution_count": null,
   "metadata": {
    "collapsed": false
   },
   "outputs": [],
   "source": []
  },
  {
   "cell_type": "markdown",
   "metadata": {},
   "source": [
    "Build the Stokes system, solvers, advection-diffusion\n",
    "------\n",
    "\n",
    "Setup linear Stokes system to get the initial velocity."
   ]
  },
  {
   "cell_type": "code",
   "execution_count": 41,
   "metadata": {
    "collapsed": false
   },
   "outputs": [],
   "source": [
    "stokesPIC = uw.systems.Stokes( velocityField = velocityField, \n",
    "                               pressureField = pressureField,\n",
    "                               #swarm         = gSwarm, \n",
    "                               conditions    = [freeslipBC,],\n",
    "                               fn_viscosity   = arhennius, \n",
    "                               fn_bodyforce   = buoyancyFn )\n"
   ]
  },
  {
   "cell_type": "code",
   "execution_count": 42,
   "metadata": {
    "collapsed": false
   },
   "outputs": [],
   "source": [
    "#We do one solve with linear viscosity to get the initial strain rate invariant. \n",
    "#This solve step also calculates a 'guess' of the the velocity field based on the linear system, \n",
    "#which is used later in the non-linear solver.\n",
    "\n",
    "solver = uw.systems.Solver(stokesPIC)\n",
    "# If not doing a restart, do a solve on the non-plastic system\n",
    "if not checkpointLoad:\n",
    "    solver.solve()"
   ]
  },
  {
   "cell_type": "code",
   "execution_count": null,
   "metadata": {
    "collapsed": true
   },
   "outputs": [],
   "source": [
    "solver.options"
   ]
  },
  {
   "cell_type": "markdown",
   "metadata": {
    "collapsed": true
   },
   "source": [
    "* CG\n",
    "* "
   ]
  },
  {
   "cell_type": "code",
   "execution_count": 237,
   "metadata": {
    "collapsed": false
   },
   "outputs": [],
   "source": [
    "####################\n",
    "#Add the non-linear viscosity to the Stokes system\n",
    "stokesPIC.fn_viscosity = viscosityMapFn\n",
    "###################\n",
    "\n",
    "#Set more advanced solver option\n",
    "solver.options.main.Q22_pc_type='uw'\n",
    "solver.options.A11.ksp_rtol=1e-5\n",
    "solver.options.scr.ksp_rtol=1e-5\n",
    "#solver.options.A11.ksp_type=\"cg\"\n",
    "solver.options.scr.use_previous_guess = True\n",
    "solver.options.scr.ksp_set_min_it_converge = 1\n",
    "\n",
    "solver.options.mg.levels = 3\n",
    "\n",
    "#solver.options.A11.ksp_monitor=''\n",
    "solver.options.A11.ksp_converged_reason=''"
   ]
  },
  {
   "cell_type": "code",
   "execution_count": 2,
   "metadata": {
    "collapsed": false
   },
   "outputs": [
    {
     "ename": "NameError",
     "evalue": "name 'solver' is not defined",
     "output_type": "error",
     "traceback": [
      "\u001b[0;31m---------------------------------------------------------------------------\u001b[0m",
      "\u001b[0;31mNameError\u001b[0m                                 Traceback (most recent call last)",
      "\u001b[0;32m<ipython-input-2-97134faac567>\u001b[0m in \u001b[0;36m<module>\u001b[0;34m()\u001b[0m\n\u001b[0;32m----> 1\u001b[0;31m \u001b[0msolver\u001b[0m\u001b[0;34m.\u001b[0m\u001b[0moptions\u001b[0m\u001b[0;34m.\u001b[0m\u001b[0mscr\u001b[0m\u001b[0;34m.\u001b[0m\u001b[0mksp_set_min_it_converge\u001b[0m\u001b[0;34m\u001b[0m\u001b[0m\n\u001b[0m",
      "\u001b[0;31mNameError\u001b[0m: name 'solver' is not defined"
     ]
    }
   ],
   "source": [
    "#solver.options.scr.ksp_set_min_it_converge"
   ]
  },
  {
   "cell_type": "markdown",
   "metadata": {},
   "source": [
    "Solve non-linear system for pressure and velocity using Picard iteration\n"
   ]
  },
  {
   "cell_type": "code",
   "execution_count": 238,
   "metadata": {
    "collapsed": false
   },
   "outputs": [],
   "source": [
    "solver.solve(nonLinearIterate=True)"
   ]
  },
  {
   "cell_type": "code",
   "execution_count": 239,
   "metadata": {
    "collapsed": true
   },
   "outputs": [],
   "source": [
    "#Now check the stress.\n",
    "fn_stress = 2.*mantleviscosityFn*uw.function.tensor.symmetric(velocityField.fn_gradient)\n",
    "fn_minmax_inv = fn.view.min_max(fn.tensor.second_invariant(fn_stress))\n",
    "ignore = fn_minmax_inv.evaluate(gSwarm)"
   ]
  },
  {
   "cell_type": "code",
   "execution_count": 240,
   "metadata": {
    "collapsed": false
   },
   "outputs": [
    {
     "data": {
      "text/plain": [
       "550350.6561038237"
      ]
     },
     "execution_count": 240,
     "metadata": {},
     "output_type": "execute_result"
    }
   ],
   "source": [
    "fn_minmax_inv.max_global()"
   ]
  },
  {
   "cell_type": "code",
   "execution_count": 241,
   "metadata": {
    "collapsed": false
   },
   "outputs": [],
   "source": [
    "#np.isclose(fn_minmax_inv.max_global(), ys, rtol=1e-03)"
   ]
  },
  {
   "cell_type": "code",
   "execution_count": 242,
   "metadata": {
    "collapsed": false
   },
   "outputs": [
    {
     "data": {
      "text/html": [
       "<img src='data:image/png;base64,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'>"
      ],
      "text/plain": [
       "<IPython.core.display.HTML object>"
      ]
     },
     "execution_count": 242,
     "metadata": {},
     "output_type": "execute_result"
    }
   ],
   "source": [
    "figTemp = glucifer.Figure()\n",
    "figTemp.append( glucifer.objects.Surface(mesh, fn.tensor.second_invariant(fn_stress)))\n",
    "#figTemp.append( glucifer.objects.VectorArrows(mesh,velocityField, arrowHead=0.2, scaling=0.0005))\n",
    "\n",
    "figTemp.show()"
   ]
  },
  {
   "cell_type": "markdown",
   "metadata": {},
   "source": [
    "Create an advective-diffusive system\n",
    "=====\n",
    "\n",
    "Setup the system in underworld by flagging the temperature and velocity field variables."
   ]
  },
  {
   "cell_type": "code",
   "execution_count": 243,
   "metadata": {
    "collapsed": false
   },
   "outputs": [],
   "source": [
    "#Create advdiff system\n",
    "\n",
    "advDiff = uw.systems.AdvectionDiffusion( phiField       = temperatureField, \n",
    "                                         phiDotField    = temperatureDotField, \n",
    "                                         velocityField  = velocityField, \n",
    "                                         fn_diffusivity = 1.0, \n",
    "                                         conditions     = [tempBC,] )\n",
    "\n",
    "\n",
    "\n",
    "advector = uw.systems.SwarmAdvector( swarm         = gSwarm, \n",
    "                                     velocityField = velocityField, \n",
    "                                     order         = 1)\n",
    "\n",
    "#Switch particle escape on, this will also trigger the inflow population control \n",
    "gSwarm.particleEscape = True"
   ]
  },
  {
   "cell_type": "markdown",
   "metadata": {},
   "source": [
    "Metrics for benchmark\n",
    "=====\n",
    "\n",
    "Define functions to be used in the time loop. For cases 1-4, participants were asked to report a number of diagnostic quantities to be measured after reaching steady state:\n",
    "\n",
    "* Average temp... $$  \\langle T \\rangle  = \\int^1_0 \\int^1_0 T \\, dxdy $$\n",
    "* Top and bottom Nusselt numbers... $$N = \\int^1_0 \\frac{\\partial T}{\\partial y} \\rvert_{y=0/1} \\, dx$$\n",
    "* RMS velocity over the whole domain, surface and max velocity at surface\n",
    "* max and min viscosity over the whole domain\n",
    "* average rate of work done against gravity...$$\\langle W \\rangle = \\int^1_0 \\int^1_0 T u_y \\, dx dy$$\n",
    "* and the average rate of viscous dissipation...$$\\langle \\Phi \\rangle = \\int^1_0 \\int^1_0 \\tau_{ij} \\dot \\epsilon_{ij} \\, dx dy$$\n",
    "\n",
    "* In steady state, if thermal energy is accurately conserved, the difference between $\\langle W \\rangle$ and $\\langle \\Phi \\rangle / Ra$ must vanish, so also reported is the percentage error: \n",
    "\n",
    "$$ \\delta = \\frac{\\lvert \\langle W \\rangle - \\frac{\\langle \\Phi \\rangle}{Ra} \\rvert}{max \\left(  \\langle W \\rangle,  \\frac{\\langle \\Phi \\rangle}{Ra}\\right)} \\times 100% $$"
   ]
  },
  {
   "cell_type": "code",
   "execution_count": 244,
   "metadata": {
    "collapsed": false
   },
   "outputs": [],
   "source": [
    "#Setup some Integrals. We want these outside the main loop...\n",
    "tempVariable = gSwarm.add_variable( dataType=\"double\", count=1 )\n",
    "tempVariable.data[:] = temperatureField.evaluate(gSwarm)[:]\n",
    "tempint = uw.utils.Integral((tempVariable*rockIntVar), mesh)\n",
    "\n",
    "\n",
    "areaint = uw.utils.Integral((1.*rockIntVar),mesh)\n",
    "\n",
    "v2int = uw.utils.Integral(fn.math.dot(velocityField,velocityField)*rockIntVar, mesh)\n",
    "\n",
    "\n",
    "dwint = uw.utils.Integral(temperatureField*velocityField[1]*rockIntVar, mesh)\n",
    "\n",
    "\n",
    "sinner = fn.math.dot(strainRate_2ndInvariant,strainRate_2ndInvariant)\n",
    "vdint = uw.utils.Integral((4.*mantleviscosityFn*sinner)*rockIntVar, mesh)\n",
    "vdintair = uw.utils.Integral((4.*mantleviscosityFn*sinner)*airIntVar, mesh)\n",
    "vdintlith = uw.utils.Integral((4.*mantleviscosityFn*sinner)*lithIntVar, mesh)"
   ]
  },
  {
   "cell_type": "code",
   "execution_count": 245,
   "metadata": {
    "collapsed": false
   },
   "outputs": [],
   "source": [
    "def avg_temp():\n",
    "    return tempint.evaluate()[0]\n",
    "\n",
    "#This one gets cleaned up when Surface integrals are available\n",
    "def nusselt(tempfield, swarm, dx):\n",
    "    #Update the swarm variable\n",
    "    tempgrad = tempfield.fn_gradient\n",
    "    valcheck = tempgrad[1].evaluate(swarm)\n",
    "    if valcheck is None:\n",
    "        vals = np.array(0, dtype='float64')\n",
    "    else:\n",
    "        vals = valcheck.sum()*dx\n",
    "    return vals\n",
    "\n",
    "def rms():\n",
    "    return math.sqrt(v2int.evaluate()[0])\n",
    "\n",
    "#This one gets cleaned up when Surface integrals are available\n",
    "def rms_surf(swarm, dx):\n",
    "    rmsmaxfn = fn.math.sqrt(fn.math.dot(velocityField,velocityField))\n",
    "    rmscheck = rmsmaxfn.evaluate(swarm)\n",
    "    if rmscheck is None:\n",
    "        rmsvals = np.array(0, dtype='float64')\n",
    "    else:\n",
    "        rmsvals = rmscheck.sum()*dx\n",
    "    return rmsvals\n",
    "\n",
    "def max_vx_surf(velfield, swarm):\n",
    "    surfvelxmaxfn = fn.view.min_max(velfield[0])\n",
    "    surfvelxmaxfn.evaluate(swarm)\n",
    "    return surfvelxmaxfn.max_global()\n",
    "\n",
    "def max_vy_surf(velfield, swarm):\n",
    "    surfvelxmaxfn = fn.view.min_max(velfield[1])\n",
    "    surfvelxmaxfn.evaluate(swarm)\n",
    "    return surfvelxmaxfn.max_global()\n",
    "\n",
    "def gravwork(workfn):\n",
    "    return workfn.evaluate()[0]\n",
    "\n",
    "def viscdis(vdissfn):\n",
    "    return vdissfn.evaluate()[0]\n",
    "\n",
    "def visc_extr(viscfn):\n",
    "    vuviscfn = fn.view.min_max(viscfn)\n",
    "    vuviscfn.evaluate(mesh)\n",
    "    return vuviscfn.max_global(), vuviscfn.min_global()"
   ]
  },
  {
   "cell_type": "code",
   "execution_count": 246,
   "metadata": {
    "collapsed": false
   },
   "outputs": [],
   "source": [
    "#Fields for saving data / fields\n",
    "\n",
    "rmsField = uw.mesh.MeshVariable( mesh=mesh,   nodeDofCount=1)\n",
    "rmsfn = fn.math.sqrt(fn.math.dot(velocityField,velocityField))\n",
    "rmsdata = rmsfn.evaluate(mesh)\n",
    "rmsField.data[:] = rmsdata \n",
    "\n",
    "viscField = uw.mesh.MeshVariable( mesh=mesh,   nodeDofCount=1)\n",
    "viscdata = mantleviscosityFn.evaluate(mesh)\n",
    "viscField.data[:] = viscdata\n",
    "\n",
    "\n",
    "strainrateField = uw.mesh.MeshVariable( mesh=mesh,   nodeDofCount=1)\n",
    "srtdata = fn.tensor.second_invariant( \n",
    "                    fn.tensor.symmetric( \n",
    "                        velocityField.fn_gradient ))\n",
    "rostfield = srtdata.evaluate(mesh)\n",
    "strainrateField.data[:] = rostfield\n",
    "\n",
    "viscVariable = gSwarm.add_variable( dataType=\"float\", count=1 )\n",
    "viscVariable.data[:] = viscosityMapFn.evaluate(gSwarm)"
   ]
  },
  {
   "cell_type": "code",
   "execution_count": 247,
   "metadata": {
    "collapsed": false
   },
   "outputs": [],
   "source": [
    "#Images\n",
    "figEta = glucifer.Figure()\n",
    "figEta.append( glucifer.objects.Points(gSwarm,viscVariable, logScale=True))\n",
    "\n",
    "\n",
    "figMat = glucifer.Figure()\n",
    "figMat.append( glucifer.objects.Points(gSwarm,materialVariable, colours='brown white blue red'))\n",
    "figMat.append( glucifer.objects.Mesh(mesh))\n",
    "\n",
    "\n",
    "figStrainRate = glucifer.Figure()\n",
    "figStrainRate.append( glucifer.objects.Surface(mesh, strainRate_2ndInvariant, logScale=True))\n",
    "\n",
    "\n",
    "figVelocityMag = glucifer.Figure()\n",
    "figVelocityMag.append( glucifer.objects.Surface(mesh, fn.math.dot(velocityField,velocityField))\n",
    ")\n",
    "figTemp = glucifer.Figure()\n",
    "figTemp.append( glucifer.objects.Surface(mesh, temperatureField))\n",
    "\n",
    "\n",
    "\n",
    "#Pack some stuff into a database as well\n",
    "figDb = glucifer.Figure()\n",
    "figDb.append( glucifer.objects.Points(gSwarm,viscVariable, logScale=True, colours='brown white blue'))\n",
    "figDb.append( glucifer.objects.Points(gSwarm,materialVariable, colours='brown white blue red'))\n",
    "figDb.append( glucifer.objects.Mesh(mesh))\n",
    "figDb.append( glucifer.objects.VectorArrows(mesh,velocityField, arrowHead=0.2, scaling=0.002))\n",
    "figDb.append( glucifer.objects.Surface(mesh, strainRate_2ndInvariant, logScale=True, colours='brown white blue'))"
   ]
  },
  {
   "cell_type": "markdown",
   "metadata": {},
   "source": [
    "Main simulation loop\n",
    "=======\n",
    "\n",
    "The main time stepping loop begins here. Before this the time and timestep are initialised to zero and the output statistics arrays are set up. Also the frequency of outputting basic statistics to the screen is set in steps_output.\n"
   ]
  },
  {
   "cell_type": "code",
   "execution_count": 248,
   "metadata": {
    "collapsed": true
   },
   "outputs": [],
   "source": [
    "pics = uw.swarm.PICIntegrationSwarm(gSwarm)"
   ]
  },
  {
   "cell_type": "code",
   "execution_count": 249,
   "metadata": {
    "collapsed": false
   },
   "outputs": [],
   "source": [
    "def checkpoint1(step, checkpointPath,filename, filewrites):\n",
    "    path = checkpointPath + str(step) \n",
    "    os.mkdir(path)\n",
    "    ##Write and save the file, if not already a writing step\n",
    "    if not step % filewrites == 0:\n",
    "        filename.write((13*'%-15s ' + '\\n') % (realtime, Viscdis, float(Nu0glob), float(Nu1glob), Avg_temp, \n",
    "                                              Rms,Rmsurfglob,Max_vx_surf,Gravwork, etamax, etamin, Viscdisair, Viscdislith))\n",
    "    filename.close()\n",
    "    shutil.copyfile(os.path.join(outputPath, outputFile), os.path.join(path, outputFile))\n",
    "\n",
    "\n",
    "def checkpoint2(step, checkpointPath, swarm, filename, varlist = [materialVariable], varnames = ['materialVariable']):\n",
    "    path = checkpointPath + str(step) \n",
    "    velfile = \"velocityField\" + \".hdf5\"\n",
    "    tempfile = \"temperatureField\" + \".hdf5\"\n",
    "    pressfile = \"pressureField\" + \".hdf5\"\n",
    "    velocityField.save(os.path.join(path, velfile))\n",
    "    temperatureField.save(os.path.join(path, tempfile))\n",
    "    pressureField.save(os.path.join(path, pressfile))\n",
    "    swarm.save(os.path.join(path, \"swarm.h5\") ) \n",
    "    for ix in range(len(varlist)):\n",
    "        varb = varlist[ix]\n",
    "        varb.save(os.path.join(path,varnames[ix] + \".h5\"))\n",
    "    "
   ]
  },
  {
   "cell_type": "code",
   "execution_count": 250,
   "metadata": {
    "collapsed": false
   },
   "outputs": [
    {
     "data": {
      "text/plain": [
       "(2.5495327996913645e-05, 1.274826008746458e-05)"
      ]
     },
     "execution_count": 250,
     "metadata": {},
     "output_type": "execute_result"
    }
   ],
   "source": [
    "advector.get_max_dt(), advDiff.get_max_dt()"
   ]
  },
  {
   "cell_type": "code",
   "execution_count": null,
   "metadata": {
    "collapsed": false
   },
   "outputs": [],
   "source": [
    "# initialise timer for computation\n",
    "start = time.clock()\n",
    "# setup summary output file (name above)\n",
    "if checkpointLoad:\n",
    "    if uw.rank() == 0:\n",
    "        shutil.copyfile(os.path.join(checkpointLoadDir, outputFile), outputPath+outputFile)\n",
    "    comm.Barrier()\n",
    "    f_o = open(os.path.join(outputPath, outputFile), 'a')\n",
    "    prevdata = np.genfromtxt(os.path.join(outputPath, outputFile), skip_header=0, skip_footer=0)\n",
    "    if len(prevdata.shape) == 1: #this is in case there is only one line in previous file\n",
    "        realtime = prevdata[0]\n",
    "    else:\n",
    "        realtime = prevdata[prevdata.shape[0]-1, 0]\n",
    "    step = int(checkpointLoadDir.split('/')[-1])\n",
    "    timevals = [0.]\n",
    "else:\n",
    "    f_o = open(outputPath+outputFile, 'w')\n",
    "    realtime = 0.\n",
    "    step = 0\n",
    "    timevals = [0.]"
   ]
  },
  {
   "cell_type": "code",
   "execution_count": null,
   "metadata": {
    "collapsed": false
   },
   "outputs": [
    {
     "name": "stdout",
     "output_type": "stream",
     "text": [
      "0\n",
      "1\n",
      "2\n",
      "3\n",
      "4\n",
      "5\n",
      "6\n",
      "7\n",
      "8\n",
      "9\n",
      "10\n",
      "11\n",
      "12\n",
      "13\n",
      "14\n",
      "15\n",
      "16\n",
      "17\n",
      "18\n",
      "19\n",
      "20\n",
      "21\n",
      "22\n",
      "23\n",
      "24\n",
      "25\n",
      "26\n",
      "27\n",
      "28\n",
      "29\n",
      "30\n",
      "31\n",
      "32\n",
      "33\n",
      "34\n",
      "35\n",
      "36\n",
      "37\n",
      "38\n",
      "39\n",
      "40\n",
      "41\n",
      "42\n",
      "43\n",
      "44\n",
      "45\n",
      "46\n",
      "47\n",
      "48\n",
      "49\n",
      "50\n",
      "51\n",
      "52\n",
      "53\n",
      "54\n",
      "55\n",
      "56\n",
      "57\n",
      "58\n",
      "59\n",
      "60\n",
      "61\n",
      "62\n",
      "63\n",
      "64\n",
      "65\n",
      "66\n",
      "67\n",
      "68\n",
      "69\n",
      "70\n",
      "71\n",
      "72\n",
      "73\n",
      "74\n",
      "75\n",
      "76\n",
      "77\n",
      "78\n",
      "79\n",
      "80\n",
      "81\n",
      "82\n",
      "83\n",
      "84\n",
      "85\n",
      "86\n",
      "87\n",
      "88\n",
      "89\n",
      "90\n",
      "91\n",
      "92\n",
      "93\n",
      "94\n",
      "95\n",
      "96\n",
      "97\n",
      "98\n",
      "99\n",
      "100\n",
      "101\n",
      "102\n",
      "103\n",
      "104\n",
      "105\n",
      "106\n",
      "107\n",
      "108\n",
      "109\n",
      "110\n",
      "111\n",
      "112\n",
      "113\n",
      "114\n",
      "115\n",
      "116\n",
      "117\n",
      "118\n",
      "119\n",
      "120\n",
      "121\n",
      "122\n",
      "123\n",
      "124\n",
      "125\n",
      "126\n",
      "127\n",
      "128\n",
      "129\n",
      "130\n",
      "131\n",
      "132\n",
      "133\n",
      "134\n",
      "135\n",
      "136\n",
      "137\n",
      "138\n",
      "139\n",
      "140\n",
      "141\n",
      "142\n",
      "143\n",
      "144\n",
      "145\n",
      "146\n",
      "147\n",
      "148\n",
      "149\n",
      "150\n",
      "151\n",
      "152\n",
      "153\n",
      "154\n",
      "155\n",
      "156\n",
      "157\n",
      "158\n",
      "159\n",
      "160\n",
      "161\n",
      "162\n",
      "163\n",
      "164\n",
      "165\n",
      "166\n",
      "167\n",
      "168\n",
      "169\n",
      "170\n",
      "171\n",
      "172\n",
      "173\n",
      "174\n",
      "175\n",
      "176\n",
      "177\n",
      "178\n",
      "179\n",
      "180\n",
      "181\n",
      "182\n",
      "183\n",
      "184\n",
      "185\n",
      "186\n",
      "187\n",
      "188\n",
      "189\n",
      "190\n",
      "191\n",
      "192\n",
      "193\n",
      "194\n",
      "195\n",
      "196\n",
      "197\n",
      "198\n",
      "199\n",
      "200\n",
      "201\n",
      "202\n",
      "203\n",
      "204\n",
      "205\n",
      "206\n",
      "207\n",
      "208\n",
      "209\n",
      "210\n",
      "211\n",
      "212\n",
      "213\n",
      "214\n",
      "215\n",
      "216\n",
      "217\n",
      "218\n",
      "219\n",
      "220\n",
      "221\n",
      "222\n",
      "223\n",
      "224\n",
      "225\n",
      "226\n",
      "227\n",
      "228\n",
      "229\n",
      "230\n",
      "231\n",
      "232\n",
      "233\n",
      "234\n",
      "235\n",
      "236\n",
      "237\n",
      "238\n",
      "239\n",
      "240\n",
      "241\n",
      "242\n",
      "243\n",
      "244\n",
      "245\n",
      "246\n",
      "247\n",
      "248\n",
      "249\n",
      "250\n",
      "251\n",
      "252\n",
      "253\n",
      "254\n",
      "255\n",
      "256\n",
      "257\n",
      "258\n",
      "259\n",
      "260\n",
      "261\n",
      "262\n",
      "263\n",
      "264\n",
      "265\n",
      "266\n",
      "267\n",
      "268\n",
      "269\n",
      "270\n",
      "271\n",
      "272\n",
      "273\n",
      "274\n",
      "275\n",
      "276\n",
      "277\n",
      "278\n",
      "279\n",
      "280\n",
      "281\n",
      "282\n",
      "283\n",
      "284\n",
      "285\n",
      "286\n",
      "287\n",
      "288\n",
      "289\n",
      "290\n",
      "291\n",
      "292\n",
      "293\n",
      "294\n",
      "295\n",
      "296\n",
      "297\n",
      "298\n",
      "299\n",
      "300\n",
      "301\n",
      "302\n",
      "303\n",
      "304\n",
      "305\n",
      "306\n",
      "307\n",
      "308\n",
      "309\n",
      "310\n",
      "311\n",
      "312\n",
      "313\n",
      "314\n",
      "315\n",
      "316\n",
      "317\n",
      "318\n",
      "319\n",
      "320\n",
      "321\n",
      "322\n",
      "323\n",
      "324\n",
      "325\n",
      "326\n",
      "327\n",
      "328\n",
      "329\n",
      "330\n",
      "331\n",
      "332\n",
      "333\n",
      "334\n",
      "335\n",
      "336\n",
      "337\n",
      "338\n",
      "339\n",
      "340\n",
      "341\n",
      "342\n",
      "343\n",
      "344\n",
      "345\n",
      "346\n",
      "347\n",
      "348\n",
      "349\n",
      "350\n",
      "351\n",
      "352\n",
      "353\n",
      "354\n",
      "355\n",
      "356\n",
      "357\n",
      "358\n",
      "359\n",
      "360\n",
      "361\n",
      "362\n",
      "363\n",
      "364\n",
      "365\n",
      "366\n",
      "367\n",
      "368\n",
      "369\n",
      "370\n",
      "371\n",
      "372\n",
      "373\n",
      "374\n",
      "375\n",
      "376\n",
      "377\n",
      "378\n",
      "379\n",
      "380\n",
      "381\n",
      "382\n",
      "383\n",
      "384\n",
      "385\n",
      "386\n",
      "387\n",
      "388\n",
      "389\n",
      "390\n",
      "391\n",
      "392\n",
      "393\n",
      "394\n",
      "395\n",
      "396\n",
      "397\n",
      "398\n",
      "399\n",
      "400\n",
      "401\n",
      "402\n",
      "403\n",
      "404\n",
      "405\n",
      "406\n",
      "407\n",
      "408\n",
      "409\n",
      "410\n",
      "411\n",
      "412\n",
      "413\n",
      "414\n",
      "415\n",
      "416\n",
      "417\n",
      "418\n",
      "419\n",
      "420\n",
      "421\n",
      "422\n",
      "423\n",
      "424\n",
      "425\n",
      "426\n",
      "427\n",
      "428\n",
      "429\n",
      "430\n",
      "431\n",
      "432\n",
      "433\n",
      "434\n",
      "435\n",
      "436\n",
      "437\n",
      "438\n",
      "439\n",
      "440\n",
      "441\n",
      "442\n",
      "443\n",
      "444\n",
      "445\n",
      "446\n",
      "447\n",
      "448\n",
      "449\n",
      "450\n",
      "451\n",
      "452\n",
      "453\n",
      "454\n",
      "455\n",
      "456\n",
      "457\n",
      "458\n",
      "459\n",
      "460\n",
      "461\n",
      "462\n",
      "463\n",
      "464\n",
      "465\n",
      "466\n",
      "467\n",
      "468\n",
      "469\n",
      "470\n",
      "471\n",
      "472\n",
      "473\n",
      "474\n",
      "475\n",
      "476\n",
      "477\n",
      "478\n",
      "479\n",
      "480\n",
      "481\n",
      "482\n",
      "483\n",
      "484\n",
      "485\n",
      "486\n",
      "487\n",
      "488\n",
      "489\n",
      "490\n",
      "491\n",
      "492\n",
      "493\n",
      "494\n",
      "495\n",
      "496\n",
      "497\n",
      "498\n",
      "499\n",
      "500\n",
      "501\n",
      "502\n",
      "503\n",
      "504\n",
      "505\n",
      "506\n",
      "507\n",
      "508\n",
      "509\n",
      "510\n",
      "511\n",
      "512\n",
      "513\n",
      "514\n",
      "515\n",
      "516\n",
      "517\n",
      "518\n",
      "519\n",
      "520\n",
      "521\n",
      "522\n",
      "523\n",
      "524\n",
      "525\n",
      "526\n",
      "527\n",
      "528\n",
      "529\n",
      "530\n",
      "531\n",
      "532\n",
      "533\n",
      "534\n",
      "535\n",
      "536\n",
      "537\n",
      "538\n",
      "539\n",
      "540\n",
      "541\n",
      "542\n",
      "543\n",
      "544\n",
      "545\n",
      "546\n",
      "547\n",
      "548\n",
      "549\n",
      "550\n",
      "551\n",
      "552\n",
      "553\n",
      "554\n",
      "555\n",
      "556\n",
      "557\n",
      "558\n",
      "559\n",
      "560\n",
      "561\n",
      "562\n",
      "563\n",
      "564\n",
      "565\n",
      "566\n",
      "567\n",
      "568\n",
      "569\n",
      "570\n",
      "571\n",
      "572\n",
      "573\n",
      "574\n",
      "575\n",
      "576\n",
      "577\n",
      "578\n",
      "579\n",
      "580\n",
      "581\n",
      "582\n",
      "583\n",
      "584\n",
      "585\n",
      "586\n",
      "587\n",
      "588\n",
      "589\n",
      "590\n",
      "591\n",
      "592\n",
      "593\n",
      "594\n",
      "595\n",
      "596\n",
      "597\n",
      "598\n",
      "599\n",
      "600\n",
      "601\n",
      "602\n",
      "603\n",
      "604\n",
      "605\n",
      "606\n",
      "607\n",
      "608\n",
      "609\n",
      "610\n",
      "611\n",
      "612\n",
      "613\n",
      "614\n",
      "615\n",
      "616\n",
      "617\n",
      "618\n",
      "619\n",
      "620\n",
      "621\n",
      "622\n",
      "623\n",
      "624\n",
      "625\n",
      "626\n",
      "627\n",
      "628\n",
      "629\n",
      "630\n",
      "631\n",
      "632\n",
      "633\n",
      "634\n",
      "635\n",
      "636\n",
      "637\n",
      "638\n",
      "639\n",
      "640\n",
      "641\n",
      "642\n",
      "643\n",
      "644\n",
      "645\n",
      "646\n",
      "647\n",
      "648\n",
      "649\n",
      "650\n",
      "651\n",
      "652\n",
      "653\n",
      "654\n",
      "655\n",
      "656\n",
      "657\n",
      "658\n",
      "659\n",
      "660\n",
      "661\n",
      "662\n",
      "663\n",
      "664\n",
      "665\n",
      "666\n",
      "667\n",
      "668\n",
      "669\n",
      "670\n",
      "671\n",
      "672\n",
      "673\n",
      "674\n",
      "675\n",
      "676\n",
      "677\n",
      "678\n",
      "679\n",
      "680\n",
      "681\n",
      "682\n",
      "683\n",
      "684\n",
      "685\n",
      "686\n",
      "687\n",
      "688\n",
      "689\n",
      "690\n",
      "691\n",
      "692\n",
      "693\n",
      "694\n",
      "695\n",
      "696\n",
      "697\n",
      "698\n",
      "699\n",
      "700\n",
      "701\n",
      "702\n",
      "703\n",
      "704\n",
      "705\n",
      "706\n",
      "707\n",
      "708\n",
      "709\n",
      "710\n",
      "711\n",
      "712\n",
      "713\n",
      "714\n",
      "715\n",
      "716\n",
      "717\n",
      "718\n",
      "719\n",
      "720\n",
      "721\n",
      "722\n",
      "723\n",
      "724\n",
      "725\n",
      "726\n",
      "727\n",
      "728\n",
      "729\n",
      "730\n",
      "731\n",
      "732\n",
      "733\n",
      "734\n",
      "735\n",
      "736\n",
      "737\n",
      "738\n",
      "739\n",
      "740\n",
      "741\n",
      "742\n",
      "743\n",
      "744\n",
      "745\n",
      "746\n",
      "747\n",
      "748\n",
      "749\n",
      "750\n",
      "751\n",
      "752\n",
      "753\n",
      "754\n",
      "755\n",
      "756\n",
      "757\n",
      "758\n",
      "759\n",
      "760\n",
      "761\n",
      "762\n",
      "763\n",
      "764\n",
      "765\n",
      "766\n",
      "767\n",
      "768\n",
      "769\n",
      "770\n",
      "771\n",
      "772\n",
      "773\n",
      "774\n",
      "775\n",
      "776\n",
      "777\n",
      "778\n",
      "779\n",
      "780\n",
      "781\n",
      "782\n",
      "783\n",
      "784\n",
      "785\n",
      "786\n",
      "787\n",
      "788\n",
      "789\n",
      "790\n",
      "791\n",
      "792\n",
      "793\n",
      "794\n",
      "795\n",
      "796\n",
      "797\n",
      "798\n",
      "799\n",
      "800\n",
      "801\n",
      "802\n",
      "803\n",
      "804\n",
      "805\n",
      "806\n",
      "807\n",
      "808\n",
      "809\n",
      "810\n",
      "811\n",
      "812\n",
      "813\n",
      "814\n",
      "815\n",
      "816\n",
      "817\n",
      "818\n",
      "819\n",
      "820\n",
      "821\n",
      "822\n",
      "823\n",
      "824\n",
      "825\n",
      "826\n",
      "827\n",
      "828\n",
      "829\n",
      "830\n",
      "831\n",
      "832\n",
      "833\n",
      "834\n",
      "835\n",
      "836\n",
      "837\n",
      "838\n",
      "839\n",
      "840\n",
      "841\n",
      "842\n",
      "843\n",
      "844\n",
      "845\n",
      "846\n",
      "847\n",
      "848\n",
      "849\n",
      "850\n",
      "851\n",
      "852\n",
      "853\n",
      "854\n",
      "855\n",
      "856"
     ]
    }
   ],
   "source": [
    "# initialise timer for computation\n",
    "startMain = time.clock()\n",
    "# Perform steps\n",
    "while realtime < 0.05:\n",
    "#while step < 5:\n",
    "    #Enter non-linear loop\n",
    "    print step\n",
    "    solver.solve(nonLinearIterate=True)\n",
    "    dt = advDiff.get_max_dt()\n",
    "    if step == 0:\n",
    "        dt = 0.\n",
    "    #start = time.clock()\n",
    "    advDiff.integrate(dt)\n",
    "    #machine_time = (time.clock()-start)\n",
    "    #print(\"total advDiff time is: \" + str(machine_time))\n",
    "    # Advect swarm using this timestep size\n",
    "    #start = time.clock()\n",
    "    advector.integrate(dt)\n",
    "    #machine_time = (time.clock()-start)\n",
    "    #print(\"total advector time is: \" + str(machine_time))\n",
    "    # Increment\n",
    "    realtime += dt\n",
    "    step += 1\n",
    "    timevals.append(realtime)\n",
    "    \n",
    "    ################\n",
    "    #Update temperature field in the air region\n",
    "    ################\n",
    "    if (step % sticky_air_temp == 0):\n",
    "        for index, coord in enumerate(mesh.data):\n",
    "            if coord[1] >= 1.:\n",
    "                temperatureField.data[index] = 0.\n",
    " \n",
    "    ################\n",
    "    #Particle update\n",
    "    ###############\n",
    "    if (step % swarm_update == 0) or (step % metric_output == 0): #These updates should be done before any metric output\n",
    "        #These swarm variables get updated first, as they are used to determine material changes\n",
    "        particledepths = 1. - gSwarm.particleCoordinates.data[:,1]\n",
    "        particletemps = temperatureField.evaluate(gSwarm)[:,0]\n",
    "        conditionmap['depthcondition']['data'] = particledepths\n",
    "        conditionmap['avgtempcondition']['data'] = particletemps\n",
    "        ################\n",
    "        number_updated = 0\n",
    "        for particleID in range(gSwarm.particleCoordinates.data.shape[0]):\n",
    "            check = update_swarm(DG, particleID)\n",
    "            if check > -1:\n",
    "                number_updated += 1\n",
    "                #if check == 0:\n",
    "                #    print \"from \" + str(materialVariable.data[particleID]) + \" to \" + str(check)\n",
    "                materialVariable.data[particleID] = check\n",
    "            else:\n",
    "                pass\n",
    "        #Also update those integration swarms\n",
    "        rockIntVar.data[:] = 0.\n",
    "        notair = np.where(materialVariable.data != airIndex)\n",
    "        rockIntVar.data[notair] = 1.\n",
    "        airIntVar.data[:] = 0.\n",
    "        notrock = np.where(materialVariable.data == airIndex)\n",
    "        airIntVar.data[notrock] = 1.\n",
    "        lithIntVar.data[:] = 0.\n",
    "        islith = np.where((materialVariable.data == lithosphereIndex) | (materialVariable.data == crustIndex))\n",
    "        lithIntVar.data[islith] = 1.\n",
    "\n",
    "    ################            \n",
    "    # Calculate the Metrics, only on 1 of the processors:\n",
    "    ################\n",
    "    if (step % metric_output == 0):\n",
    "        tempVariable.data[:] = temperatureField.evaluate(gSwarm)[:]\n",
    "        Avg_temp = avg_temp()\n",
    "        Rms = rms()\n",
    "        Max_vx_surf = max_vx_surf(velocityField, surfintswarm)\n",
    "        Gravwork = gravwork(dwint)\n",
    "        Viscdis = viscdis(vdint)\n",
    "        Viscdisair = viscdis(vdintair)\n",
    "        Viscdislith = viscdis(vdintlith)\n",
    "        etamax, etamin = visc_extr(mantleviscosityFn)\n",
    "        #These are the ones that need mpi4py treatment\n",
    "        Nu0loc = nusselt(temperatureField, baseintswarm, dx)\n",
    "        Nu1loc = nusselt(temperatureField, surfintswarm, dx)\n",
    "        Rmsurfloc = rms_surf(surfintswarm, dx)\n",
    "        #Setup the global output arrays\n",
    "        dTp = Nu0loc.dtype\n",
    "        Nu0glob = np.array(0, dtype=dTp)\n",
    "        dTp = Nu1loc.dtype\n",
    "        Nu1glob = np.array(0, dtype=dTp)\n",
    "        dTp = Rmsurfloc.dtype\n",
    "        Rmsurfglob = np.array(0, dtype=dTp)\n",
    "        #Do global sum\n",
    "        comm.Allreduce(Nu0loc, Nu0glob, op=MPI.SUM)\n",
    "        comm.Allreduce(Nu1loc, Nu1glob, op=MPI.SUM)\n",
    "        comm.Allreduce(Rmsurfloc, Rmsurfglob, op=MPI.SUM)\n",
    "        # output to summary text file\n",
    "        if uw.rank()==0:\n",
    "            f_o.write((13*'%-15s ' + '\\n') % (realtime, Viscdis, float(Nu0glob), float(Nu1glob), Avg_temp, \n",
    "                                              Rms,Rmsurfglob,Max_vx_surf,Gravwork, etamax, etamin, Viscdisair, Viscdislith))\n",
    "    ################\n",
    "    #Gldb output\n",
    "    ################ \n",
    "    if (step % gldbs_output == 0) & (writeFiles == True):\n",
    "        #Rebuild any necessary swarm variables\n",
    "        viscVariable.data[:] = viscosityMapFn.evaluate(gSwarm)\n",
    "        #Write gldbs\n",
    "        fnamedb = \"dbFig\" + \"_\" + str(ModIt) + \"_\" + str(step) + \".gldb\"\n",
    "        fullpath = os.path.join(outputPath + \"gldbs/\" + fnamedb)\n",
    "        figDb.show()\n",
    "        figDb.save_database(fullpath)\n",
    "    ################\n",
    "    #Also repopulate entire swarm periodically\n",
    "    ################\n",
    "    if step % swarm_repop == 0:\n",
    "        pics.repopulate()\n",
    "    ################\n",
    "    #Checkpoint\n",
    "    ################\n",
    "    if step % checkpoint_every == 0:\n",
    "        if uw.rank() == 0:\n",
    "            checkpoint1(step, checkpointPath,f_o, metric_output)           \n",
    "        checkpoint2(step, checkpointPath, gSwarm, f_o, varlist = varlist, varnames = varnames)\n",
    "        f_o = open(os.path.join(outputPath, outputFile), 'a') #is this line supposed to be here?\n",
    "\n",
    "        \n",
    "        \n",
    "f_o.close()\n",
    "#print 'step =',step, '; dt =', dt, '; CPU time =', time.clock()-startMain"
   ]
  },
  {
   "cell_type": "code",
   "execution_count": null,
   "metadata": {
    "collapsed": false
   },
   "outputs": [],
   "source": [
    "viscVariable = gSwarm.add_variable( dataType=\"float\", count=1 )\n",
    "viscVariable.data[:] = viscosityMapFn.evaluate(gSwarm)\n",
    "figEta = glucifer.Figure(figsize=(1024,384))\n",
    "figEta.append( glucifer.objects.Points(gSwarm,viscVariable, logScale=True))\n",
    "figEta.append( glucifer.objects.Mesh(mesh))\n",
    "figEta.show()\n",
    "figEta.save_database('test.gldb')"
   ]
  },
  {
   "cell_type": "code",
   "execution_count": 24,
   "metadata": {
    "collapsed": false
   },
   "outputs": [
    {
     "data": {
      "text/html": [
       "<img src='data:image/png;base64,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'>"
      ],
      "text/plain": [
       "<IPython.core.display.HTML object>"
      ]
     },
     "execution_count": 24,
     "metadata": {},
     "output_type": "execute_result"
    }
   ],
   "source": [
    "figTemp = glucifer.Figure()\n",
    "figTemp.append( glucifer.objects.Surface(mesh, temperatureField))\n",
    "figTemp.append( glucifer.objects.Mesh(mesh))\n",
    "\n",
    "#figTemp.append( glucifer.objects.VectorArrows(mesh,velocityField, arrowHead=0.2, scaling=0.005))\n",
    "figTemp.save_database('test.gldb')\n",
    "figTemp.show()"
   ]
  },
  {
   "cell_type": "code",
   "execution_count": 51,
   "metadata": {
    "collapsed": false
   },
   "outputs": [
    {
     "data": {
      "text/html": [
       "<img src='data:image/png;base64,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'>"
      ],
      "text/plain": [
       "<IPython.core.display.HTML object>"
      ]
     },
     "execution_count": 51,
     "metadata": {},
     "output_type": "execute_result"
    }
   ],
   "source": [
    "figVelocityMag = glucifer.Figure(figsize=(1024,384))\n",
    "figVelocityMag.append( glucifer.objects.Surface(mesh, fn.math.dot(velocityField,velocityField) ))\n",
    "figVelocityMag.show()"
   ]
  },
  {
   "cell_type": "code",
   "execution_count": 52,
   "metadata": {
    "collapsed": false
   },
   "outputs": [
    {
     "data": {
      "text/html": [
       "<img src='data:image/png;base64,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'>"
      ],
      "text/plain": [
       "<IPython.core.display.HTML object>"
      ]
     },
     "execution_count": 52,
     "metadata": {},
     "output_type": "execute_result"
    }
   ],
   "source": [
    "figVelocityMag = glucifer.Figure(figsize=(1024,384))\n",
    "figVelocityMag.append( glucifer.objects.Surface(mesh, pressureField, logScale=True, valueRange=[1e-15,5e-8]) )\n",
    "figVelocityMag.show()"
   ]
  },
  {
   "cell_type": "code",
   "execution_count": 42,
   "metadata": {
    "collapsed": false
   },
   "outputs": [],
   "source": [
    "figSwarm = glucifer.Figure(figsize=(1024,384))\n",
    "figSwarm.append( glucifer.objects.Points(gSwarm,materialVariable, colours='brown white blue red'))\n",
    "figSwarm.append( glucifer.objects.Mesh(mesh))\n",
    "figSwarm.show()\n",
    "figSwarm.save_database('test.gldb')"
   ]
  },
  {
   "cell_type": "code",
   "execution_count": 53,
   "metadata": {
    "collapsed": false
   },
   "outputs": [
    {
     "ename": "NameError",
     "evalue": "name 'start' is not defined",
     "output_type": "error",
     "traceback": [
      "\u001b[0;31m---------------------------------------------------------------------------\u001b[0m",
      "\u001b[0;31mNameError\u001b[0m                                 Traceback (most recent call last)",
      "\u001b[0;32m<ipython-input-53-dc3c2f2e7c24>\u001b[0m in \u001b[0;36m<module>\u001b[0;34m()\u001b[0m\n\u001b[0;32m----> 1\u001b[0;31m \u001b[0mmachine_time\u001b[0m \u001b[0;34m=\u001b[0m \u001b[0;34m(\u001b[0m\u001b[0mtime\u001b[0m\u001b[0;34m.\u001b[0m\u001b[0mclock\u001b[0m\u001b[0;34m(\u001b[0m\u001b[0;34m)\u001b[0m\u001b[0;34m-\u001b[0m\u001b[0mstart\u001b[0m\u001b[0;34m)\u001b[0m\u001b[0;34m\u001b[0m\u001b[0m\n\u001b[0m\u001b[1;32m      2\u001b[0m \u001b[0;32mprint\u001b[0m\u001b[0;34m(\u001b[0m\u001b[0;34m\"total time is: \"\u001b[0m \u001b[0;34m+\u001b[0m \u001b[0mstr\u001b[0m\u001b[0;34m(\u001b[0m\u001b[0mmachine_time\u001b[0m\u001b[0;34m)\u001b[0m\u001b[0;34m)\u001b[0m\u001b[0;34m\u001b[0m\u001b[0m\n",
      "\u001b[0;31mNameError\u001b[0m: name 'start' is not defined"
     ]
    }
   ],
   "source": [
    "machine_time = (time.clock()-start)\n",
    "print(\"total time is: \" + str(machine_time))"
   ]
  },
  {
   "cell_type": "code",
   "execution_count": 54,
   "metadata": {
    "collapsed": false
   },
   "outputs": [
    {
     "data": {
      "text/plain": [
       "1100.5338620296968"
      ]
     },
     "execution_count": 54,
     "metadata": {},
     "output_type": "execute_result"
    }
   ],
   "source": [
    "#Sanity check for periodic conditions\n",
    "velocityField.evaluate(TWalls)[:,0].max()"
   ]
  },
  {
   "cell_type": "code",
   "execution_count": 31,
   "metadata": {
    "collapsed": false
   },
   "outputs": [
    {
     "name": "stdout",
     "output_type": "stream",
     "text": [
      "TWalls x vel is: 3.17721915245\n",
      "IWalls x vel is: -0.143166437745\n"
     ]
    }
   ],
   "source": [
    "print(\"TWalls x vel is: \" + str(velocityField.evaluate(TWalls)[:,0].max()))\n",
    "print(\"IWalls x vel is: \" + str(velocityField.evaluate(IWalls)[:,0].max()))\n"
   ]
  },
  {
   "cell_type": "code",
   "execution_count": null,
   "metadata": {
    "collapsed": true
   },
   "outputs": [],
   "source": [
    "ts = ((D*1e3)**2)/k\n",
    "secperyear = (3600*24*365)\n",
    "dt*ts/secperyear\n",
    "\n",
    "#2.25895987733e-05*ts/secperyear"
   ]
  }
 ],
 "metadata": {
  "kernelspec": {
   "display_name": "Python 2",
   "language": "python",
   "name": "python2"
  },
  "language_info": {
   "codemirror_mode": {
    "name": "ipython",
    "version": 2
   },
   "file_extension": ".py",
   "mimetype": "text/x-python",
   "name": "python",
   "nbconvert_exporter": "python",
   "pygments_lexer": "ipython2",
   "version": "2.7.11"
  }
 },
 "nbformat": 4,
 "nbformat_minor": 0
}
