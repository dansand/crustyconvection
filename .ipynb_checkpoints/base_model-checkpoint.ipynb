{
 "cells": [
  {
   "cell_type": "markdown",
   "metadata": {
    "collapsed": true
   },
   "source": [
    "Crameri-Tackley model\n",
    "=======\n",
    "\n",
    "From Cramer and Tackley 2015\n",
    "--------\n",
    "\n"
   ]
  },
  {
   "cell_type": "markdown",
   "metadata": {
    "collapsed": true
   },
   "source": [
    "\n",
    "\n",
    "\n",
    "References\n",
    "====\n",
    "\n",
    "\n"
   ]
  },
  {
   "cell_type": "markdown",
   "metadata": {},
   "source": [
    "Load python functions needed for underworld. Some additional python functions from os, math and numpy used later on."
   ]
  },
  {
   "cell_type": "code",
   "execution_count": 41,
   "metadata": {
    "collapsed": false
   },
   "outputs": [],
   "source": [
    "import networkx as nx\n",
    "import underworld as uw\n",
    "import math\n",
    "from underworld import function as fn\n",
    "import glucifer\n",
    "#import matplotlib.pyplot as pyplot\n",
    "import time\n",
    "import numpy as np\n",
    "import os\n",
    "import sys\n",
    "import natsort\n",
    "import shutil\n",
    "from easydict import EasyDict as edict\n",
    "import collections\n",
    "\n",
    "from mpi4py import MPI\n",
    "comm = MPI.COMM_WORLD\n",
    "rank = comm.Get_rank()"
   ]
  },
  {
   "cell_type": "code",
   "execution_count": 42,
   "metadata": {
    "collapsed": false
   },
   "outputs": [
    {
     "name": "stdout",
     "output_type": "stream",
     "text": [
      "/Users/dansandiford/Documents/programming/earthsci_code/python/crustyconvection\r\n",
      "analysis.ipynb     free_surface.ipynb \u001b[1m\u001b[34mspeedtest\u001b[m\u001b[m          test.py\r\n",
      "base_model.ipynb   \u001b[1m\u001b[34mmesh_test\u001b[m\u001b[m          \u001b[1m\u001b[34mstickyairtests\u001b[m\u001b[m\r\n",
      "base_model.py      raijin_single.pbs  \u001b[1m\u001b[34mtemp_ics\u001b[m\u001b[m\r\n",
      "\u001b[1m\u001b[34mcheckpoint\u001b[m\u001b[m         \u001b[1m\u001b[34mresults\u001b[m\u001b[m            test.gldb\r\n"
     ]
    }
   ],
   "source": [
    "#Display working directory info if in nb mode\n",
    "if (len(sys.argv) > 1):\n",
    "    if (sys.argv[1] == '-f'):\n",
    "        !pwd && ls\n",
    "        "
   ]
  },
  {
   "cell_type": "code",
   "execution_count": 43,
   "metadata": {
    "collapsed": false
   },
   "outputs": [],
   "source": [
    "############\n",
    "#Model name.  \n",
    "############\n",
    "Model = \"T\"\n",
    "ModNum = 11\n",
    "\n",
    "if len(sys.argv) == 1:\n",
    "    ModIt = \"Base\"\n",
    "elif sys.argv[1] == '-f':\n",
    "    ModIt = \"Base\"\n",
    "else:\n",
    "    ModIt = str(sys.argv[1])"
   ]
  },
  {
   "cell_type": "markdown",
   "metadata": {},
   "source": [
    "Set physical constants and parameters, including the Rayleigh number (*RA*). "
   ]
  },
  {
   "cell_type": "code",
   "execution_count": 44,
   "metadata": {
    "collapsed": true
   },
   "outputs": [],
   "source": [
    "###########\n",
    "#Standard output directory setup\n",
    "###########\n",
    "\n",
    "\n",
    "outputPath = \"results\" + \"/\" +  str(Model) + \"/\" + str(ModNum) + \"/\" + str(ModIt) + \"/\"\n",
    "imagePath = outputPath + 'images/'\n",
    "filePath = outputPath + 'files/'\n",
    "checkpointPath = outputPath + 'checkpoint/'\n",
    "dbPath = outputPath + 'gldbs/'\n",
    "outputFile = 'results_model' + Model + '_' + str(ModNum) + '_' + str(ModIt) + '.dat'\n",
    "\n",
    "if uw.rank()==0:\n",
    "    # make directories if they don't exist\n",
    "    if not os.path.isdir(outputPath):\n",
    "        os.makedirs(outputPath)\n",
    "    if not os.path.isdir(checkpointPath):\n",
    "        os.makedirs(checkpointPath)\n",
    "    if not os.path.isdir(imagePath):\n",
    "        os.makedirs(imagePath)\n",
    "    if not os.path.isdir(dbPath):\n",
    "        os.makedirs(dbPath)\n",
    "    if not os.path.isdir(filePath):\n",
    "        os.makedirs(filePath)\n",
    "        \n",
    "comm.Barrier() #Barrier here so not procs run the check in the next cell too early "
   ]
  },
  {
   "cell_type": "code",
   "execution_count": 45,
   "metadata": {
    "collapsed": false
   },
   "outputs": [
    {
     "name": "stdout",
     "output_type": "stream",
     "text": [
      "results/T/11/Base/checkpoint/ is empty\n"
     ]
    }
   ],
   "source": [
    "###########\n",
    "#Check if starting from checkpoint\n",
    "###########\n",
    "\n",
    "checkdirs = []\n",
    "for dirpath, dirnames, files in os.walk(checkpointPath):\n",
    "    if files:\n",
    "        print dirpath, 'has files'\n",
    "        checkpointLoad = True\n",
    "        checkdirs.append(dirpath)\n",
    "    if not files:\n",
    "        print dirpath, 'is empty'\n",
    "        checkpointLoad = False\n",
    "        \n"
   ]
  },
  {
   "cell_type": "code",
   "execution_count": 46,
   "metadata": {
    "collapsed": false
   },
   "outputs": [],
   "source": [
    "###########\n",
    "#Physical parameters\n",
    "###########\n",
    "\n",
    "#The Slippy rheology class will contain dimensional and nondimensional values, linked in a self-consistent way by scaling paramters\n",
    "#lowermantle.nondimensional['cohesion']\n",
    "#Where lowermantle is a material class (generated within a rheology class); and non dimensional is a dictionary\n",
    "\n",
    "#UW naming conventions: \n",
    "#module_name, package_name, ClassName, function_name, method_name, \n",
    "#ExceptionName, propertyName GLOBAL_CONSTANT_NAME, globalVarName, instanceVarName, functionParameterName, localVarName\n",
    "###########\n",
    "\n",
    "\n",
    "#dimensional parameter dictionary\n",
    "dp = edict({'LS':2890.*1e3,\n",
    "           'rho':3300,\n",
    "           'g':9.81, \n",
    "           'eta0':1e23,\n",
    "           'k':10**-6,\n",
    "           'a':1.25*10**-5, \n",
    "           'TS':273.,\n",
    "           'TB':2773.,\n",
    "           'deltaT':2500, \n",
    "           'cohesion':1e7, \n",
    "           'E':240000., \n",
    "           'R':8.314,\n",
    "           'V':6.34*(10**-7) })\n",
    "\n",
    "#non-dimensional parameter dictionary\n",
    "ndp = edict({'RA':1e6, \n",
    "              'LS':1.,\n",
    "              'eta0':1.,\n",
    "              'k':1.,\n",
    "              'E':11.55,\n",
    "              'V':3.0,\n",
    "              'H':20.,\n",
    "              'TR':(1600./2500.),\n",
    "              'TS':(dp.TS/2500.),\n",
    "              'RD':1.,\n",
    "              'cohesion':1577.,\n",
    "              'cohesion_reduce':5.,\n",
    "              'fc':0.1})\n",
    "\n",
    "\n",
    "#A few parameters defining lengths scales, affects materal transistions etc.\n",
    "MANTLETOCRUST = (18.*1e3)/dp.LS #Crust depth\n",
    "CRUSTTOMANTLE = (300.*1e3)/dp.LS \n",
    "LITHTOMANTLE = (660.*1e3)/dp.LS \n",
    "MANTLETOLITH = (200.*1e3)/dp.LS \n",
    "TOPOHEIGHT = (15.*1e3)/dp.LS  #rock-air topography limits\n",
    "AVGTEMP = 0.53 #Used to define lithosphere\n",
    "\n",
    "\n",
    "#Compositional Rayliegh number of rock-air\n",
    "ETAREF = dp.rho*dp.g*dp.a*dp.deltaT*((dp.LS)**3)/(ndp.RA*dp.k) #equivalent dimensional reference viscosity\n",
    "RC = (3300.*dp.g*(dp.LS)**3)/(ETAREF *dp.k) #Composisitional Rayleigh number for rock-air buoyancy force\n",
    "COMP_RA_FACT = RC/ndp.RA\n",
    "\n",
    "\n",
    "#Additional dimensionless paramters\n",
    "AIRVISCOSITY = 0.001\n",
    "AIRDENSITY = ndp.RA*COMP_RA_FACT\n",
    "\n",
    "\n",
    "#######################To be replaced soon\n",
    "#Physical parameters that can be defined with STDIN,\n",
    "#The == '-f': check is a a hack check to see cover the notebook case\n",
    "if len(sys.argv) == 1:\n",
    "    ndp.cohesion = ndp.cohesion\n",
    "elif sys.argv[1] == '-f':\n",
    "    ndp.cohesion = ndp.cohesion\n",
    "else:\n",
    "    ndp.cohesion = float(sys.argv[1])*newvisc"
   ]
  },
  {
   "cell_type": "code",
   "execution_count": 47,
   "metadata": {
    "collapsed": false
   },
   "outputs": [],
   "source": [
    "###########\n",
    "#Model setup parameters\n",
    "###########\n",
    "\n",
    "stickyAir = False\n",
    "\n",
    "MINX = -1.\n",
    "MINY = 0.\n",
    "MAXX = 1.0\n",
    "\n",
    "#MAXY = 1.035\n",
    "MAXY = 1.\n",
    "\n",
    "if MINX == 0.:\n",
    "    squareModel = True\n",
    "else: \n",
    "    squareModel = False\n",
    "    \n",
    "    \n",
    "dim = 2          # number of spatial dimensions\n",
    "\n",
    "\n",
    "#MESH STUFF\n",
    "\n",
    "RES = 128\n",
    "\n",
    "if MINX == 0.:\n",
    "    Xres = RES\n",
    "else:\n",
    "    Xres = 2*RES\n",
    "\n",
    "if stickyAir:\n",
    "    Yres = RES + 8\n",
    "    MAXY = float(Yres)/RES\n",
    "    \n",
    "else:\n",
    "    Yres = RES\n",
    "    MAXY = 1.\n",
    "\n",
    "\n",
    "periodic = [True,False]\n",
    "elementType = \"Q1/dQ0\"\n",
    "#elementType =\"Q2/DPC1\"\n",
    "\n",
    "refineMesh = True\n",
    "\n",
    "s = 1.2 #Mesh refinement parameter\n",
    "ALPHA = 11. #Mesh refinement parameter\n",
    "\n",
    "#System/Solver stuff\n",
    "\n",
    "PIC_integration=False"
   ]
  },
  {
   "cell_type": "code",
   "execution_count": 48,
   "metadata": {
    "collapsed": true
   },
   "outputs": [],
   "source": [
    "###########\n",
    "#Model Runtime parameters\n",
    "###########\n",
    "\n",
    "swarm_update = 25\n",
    "swarm_repop = 25\n",
    "files_output = 1e6\n",
    "gldbs_output = 25\n",
    "images_output = 1e6\n",
    "checkpoint_every = 25\n",
    "metric_output = 25\n",
    "sticky_air_temp = 10\n",
    "\n",
    "comm.Barrier() #Barrier here so not procs run the check in the next cell too early \n",
    "\n",
    "assert metric_output <= checkpoint_every, 'Checkpointing should run less or as ofen as metric output'\n",
    "assert (metric_output >= swarm_update), 'Swarm update is needed before checkpointing'\n",
    "assert metric_output >= sticky_air_temp, 'Sticky air temp should be updated more frequently that metrics'\n"
   ]
  },
  {
   "cell_type": "code",
   "execution_count": 49,
   "metadata": {
    "collapsed": false
   },
   "outputs": [],
   "source": [
    "###########\n",
    "#Model output parameters\n",
    "###########\n",
    "\n",
    "#Do you want to write hdf5 files - Temp, RMS, viscosity, stress?\n",
    "writeFiles = True\n",
    "loadTemp = True\n"
   ]
  },
  {
   "cell_type": "code",
   "execution_count": 50,
   "metadata": {
    "collapsed": false
   },
   "outputs": [],
   "source": [
    "mesh = uw.mesh.FeMesh_Cartesian( elementType = (\"Q1/dQ0\"),\n",
    "                                 elementRes  = (Xres, Yres), \n",
    "                                 minCoord    = (MINX,MINY), \n",
    "                                 maxCoord=(MAXX,MAXY), periodic=periodic)\n",
    "\n",
    "\n",
    "\n",
    "velocityField       = uw.mesh.MeshVariable( mesh=mesh,         nodeDofCount=dim )\n",
    "pressureField       = uw.mesh.MeshVariable( mesh=mesh.subMesh, nodeDofCount=1 )\n",
    "temperatureField    = uw.mesh.MeshVariable( mesh=mesh,         nodeDofCount=1 )\n",
    "temperatureDotField = uw.mesh.MeshVariable( mesh=mesh,         nodeDofCount=1 )"
   ]
  },
  {
   "cell_type": "code",
   "execution_count": 51,
   "metadata": {
    "collapsed": false
   },
   "outputs": [
    {
     "data": {
      "text/plain": [
       "(256, 128, -1.0, 1.0, 0.0, 1.0, [True, False], 'Q1/dQ0', 2)"
      ]
     },
     "execution_count": 51,
     "metadata": {},
     "output_type": "execute_result"
    }
   ],
   "source": [
    "Xres, Yres, MINX,MAXX,MINY,MAXY, periodic, elementType, dim "
   ]
  },
  {
   "cell_type": "markdown",
   "metadata": {},
   "source": [
    "##Refine mesh"
   ]
  },
  {
   "cell_type": "markdown",
   "metadata": {
    "collapsed": true
   },
   "source": [
    "if refineMesh:\n",
    "    alpha=ALPHA\n",
    "    newys = []\n",
    "    newxs = []\n",
    "    for index, coord in enumerate(linearMesh.data):\n",
    "        y0 = coord[1]\n",
    "        x0 = abs(coord[0])\n",
    "        if y0 >= 1.0:\n",
    "            newy = y0\n",
    "        else:\n",
    "            newy = (math.log(alpha*y0 + math.e) - 1)*(1/(math.log(alpha + math.e) - 1))\n",
    "        newx = (math.log((alpha/2.)*x0 + math.e) - 1)*(1/(math.log((alpha/2.) + math.e) - 1))\n",
    "        if coord[0] <= 0:\n",
    "            newx = -1.*newx\n",
    "        newys.append(newy)\n",
    "        newxs.append(newx)\n",
    "        \n",
    "    with linearMesh.deform_mesh():\n",
    "        linearMesh.data[:,1] = newys\n",
    "        linearMesh.data[:,0] = newxs"
   ]
  },
  {
   "cell_type": "markdown",
   "metadata": {
    "collapsed": false
   },
   "source": [
    "#THis one for the rectangular mesh\n",
    "\n",
    "if refineMesh:\n",
    "    alpha = ALPHA\n",
    "    newys = []\n",
    "    newxs = []\n",
    "    for index, coord in enumerate(mesh.data):\n",
    "        y0 = coord[1]\n",
    "        x0 = abs(coord[0])\n",
    "        if y0 == MAXY:\n",
    "            newy = y0\n",
    "        else:\n",
    "            ynorm = y0/MAXY\n",
    "            newy = MAXY*(math.log(alpha*ynorm + math.e) - 1)*(1/(math.log(alpha + math.e) - 1))\n",
    "        if coord[0] > 0:\n",
    "            newx = (math.e**(x0*(math.log((alpha/2.) + math.e) - 1) + 1 ) - math.e)/(alpha/2.)\n",
    "        else:\n",
    "            newx = -1.*(math.e**(x0*(math.log((alpha/2.) + math.e) - 1) + 1 ) - math.e)/(alpha/2.)\n",
    "        newys.append(newy)\n",
    "        newxs.append(newx)\n",
    "        #print y0,newy\n",
    "\n",
    "    with mesh.deform_mesh():\n",
    "            mesh.data[:,1] = newys\n",
    "            mesh.data[:,0] = newxs"
   ]
  },
  {
   "cell_type": "code",
   "execution_count": 52,
   "metadata": {
    "collapsed": false
   },
   "outputs": [],
   "source": [
    "# Get the actual sets \n",
    "#\n",
    "#  HJJJJJJH\n",
    "#  I      I\n",
    "#  I      I\n",
    "#  I      I\n",
    "#  HJJJJJJH\n",
    "#  \n",
    "#  Note that H = I & J \n",
    "\n",
    "# Note that we use operator overloading to combine sets\n",
    "# send boundary condition information to underworld\n",
    "IWalls = mesh.specialSets[\"MinI_VertexSet\"] + mesh.specialSets[\"MaxI_VertexSet\"]\n",
    "JWalls = mesh.specialSets[\"MinJ_VertexSet\"] + mesh.specialSets[\"MaxJ_VertexSet\"]\n",
    "TWalls = mesh.specialSets[\"MaxJ_VertexSet\"]\n",
    "BWalls = mesh.specialSets[\"MinJ_VertexSet\"]\n",
    "AWalls = IWalls + JWalls"
   ]
  },
  {
   "cell_type": "code",
   "execution_count": 53,
   "metadata": {
    "collapsed": false
   },
   "outputs": [
    {
     "name": "stdout",
     "output_type": "stream",
     "text": [
      "refine By:2.0\n"
     ]
    }
   ],
   "source": [
    "def coarse_fine_division(mesh, axis=\"y\", refine_by=2., relax_by =0.5):\n",
    "    if axis == \"y\":\n",
    "        thisaxis = 1\n",
    "    else:\n",
    "        thisaxis = 0\n",
    "    width = (mesh.maxCoord[thisaxis]-mesh.minCoord[thisaxis])\n",
    "    dx = (mesh.maxCoord[thisaxis]-mesh.minCoord[thisaxis])/ (mesh.elementRes[thisaxis])\n",
    "    nx = mesh.elementRes[thisaxis]\n",
    "    dxf = dx/ refine_by\n",
    "    dxc = dx/ relax_by\n",
    "    print(\"refine By:\" + str(refine_by))\n",
    "    i = 0\n",
    "    current_width = ((nx - i)  * dxf) + (i * dxc)\n",
    "    while current_width < width:\n",
    "        i += 1\n",
    "        current_width = ((nx - i)  * dxf) + (i * dxc)\n",
    "    #print current_width\n",
    "    #correct dxc so the total domain is preserved.\n",
    "    dxc = (width  - ((nx - i)  * dxf))/i\n",
    "    nxf = (nx - i) \n",
    "    nxc = i\n",
    "    nt = (nxf + nxc)\n",
    "    assert nt == nx\n",
    "    return nxf, dxf, nxc, dxc\n",
    "\n",
    "nxf, dxf, nxc, dxc = coarse_fine_division(mesh, axis=\"x\", refine_by=2., relax_by =0.5)\n",
    "\n",
    "def shishkin_centre_arrange(mesh, axis=\"y\",centre = 0.5, nxf=nxf, dxf=dxf, nxc=nxc, dxc=dxc):\n",
    "    import itertools\n",
    "    if axis == \"y\":\n",
    "        thisaxis = 1\n",
    "    else:\n",
    "        thisaxis = 0\n",
    "    print thisaxis\n",
    "    ###################\n",
    "    #Get the number of coarse elements either side of fine elements\n",
    "    ###################\n",
    "    nr = nxc\n",
    "    nl = 0\n",
    "    print((nxf*dxf - abs(mesh.minCoord[thisaxis])))\n",
    "    if ((nxf*dxf - abs(mesh.minCoord[thisaxis])) > centre):\n",
    "        print(\"left edge\")\n",
    "        pass\n",
    "    else:\n",
    "        left_length = (nl*dxc) + 0.5*(dxf*nxf) - abs(mesh.minCoord[thisaxis])\n",
    "        while (left_length <  centre):\n",
    "            nl += 1\n",
    "            left_length = (nl*dxc) + 0.5*(dxf*nxf) - abs(mesh.minCoord[thisaxis])\n",
    "            #print(left_length)\n",
    "            if nl == nxc:\n",
    "                print(\"right edge\")\n",
    "                break\n",
    "        nr = nxc - nl\n",
    "    print(nl, nr, nxf)\n",
    "    #assert nr + nl + nxf == mesh.elementRes[thisaxis]\n",
    "    ###################\n",
    "    #return dictionary of new element mappings\n",
    "    ###################\n",
    "    lcoords = [(mesh.minCoord[thisaxis] + i*dxc) for i in range(nl+1)]\n",
    "    if lcoords:\n",
    "        #print(nl, lcoords[-1]/dxc)\n",
    "        ccoords =  [lcoords[-1] + i*dxf for i in range(1, nxf+1)]\n",
    "    else:\n",
    "        ccoords =  [(mesh.minCoord[thisaxis] + i*dxf) for i in range(0, nxf)]\n",
    "    rcoords = [ccoords[-1] + i*dxc for i in range(1, nr +1)]\n",
    "    if rcoords:\n",
    "        #rcoords.append(mesh.maxCoord[0])\n",
    "        pass\n",
    "    else:\n",
    "        #ccoords.append(mesh.maxCoord[0])\n",
    "        pass\n",
    "    newcoords = lcoords+ ccoords+ rcoords\n",
    "    #assert len(newcoords) == nx + 1 \n",
    "    #origcoords = list(np.unique(mesh.data[:,thisaxis]))\n",
    "    #origcoords = np.linspace(mesh.minCoord[thisaxis], mesh.maxCoord[thisaxis], mesh.elementRes[thisaxis])\n",
    "    width = (mesh.maxCoord[thisaxis]-mesh.minCoord[thisaxis])\n",
    "    dx = (mesh.maxCoord[thisaxis]-mesh.minCoord[thisaxis])/ (mesh.elementRes[thisaxis])\n",
    "    origcoords = list(np.arange(mesh.minCoord[thisaxis], mesh.maxCoord[thisaxis], dx))\n",
    "    origcoords.append(mesh.maxCoord[thisaxis])\n",
    "    dictionary = dict(itertools.izip(origcoords, newcoords))\n",
    "    assert len([x for x, y in collections.Counter(newcoords).items() if y > 1]) == 0 #checks agains multiple coordinates\n",
    "    return dictionary\n",
    "\n",
    "\n",
    " \n",
    "def shishkin_deform(mesh, centre = 0.5, axis=\"y\", refine_by=2., relax_by =0.5):\n",
    "    if axis == \"y\":\n",
    "        thisaxis = 1\n",
    "    else:\n",
    "        thisaxis = 0\n",
    "    nxf, dxf, nxc, dxc, = coarse_fine_division(mesh,axis, refine_by=refine_by, relax_by =relax_by)\n",
    "    coorddict = shishkin_centre_arrange(mesh, nxf=nxf, dxf=dxf, nxc=nxc, dxc=dxc, axis=axis , centre=centre)\n",
    "    with mesh.deform_mesh():\n",
    "        for index, coord in enumerate(mesh.data):\n",
    "            key = mesh.data[index][thisaxis]\n",
    "            mesh.data[index][thisaxis] = coorddict[key]\n"
   ]
  },
  {
   "cell_type": "markdown",
   "metadata": {
    "collapsed": false
   },
   "source": [
    "mesh.reset()\n",
    "nxf, dxf, nxc, dxc, = coarse_fine_division(mesh,axis=\"x\", refine_by=2., relax_by =0.75)\n",
    "xcoorddict = shishkin_centre_arrange(mesh, axis=\"x\", centre=0., nxf=nxf, dxf=dxf, nxc=nxc, dxc=dxc)\n",
    "\n",
    "nxf, dxf, nxc, dxc, = coarse_fine_division(mesh,axis=\"y\", refine_by=2., relax_by =0.5)\n",
    "ycoorddict = shishkin_centre_arrange(mesh, axis=\"y\", centre=0., nxf=nxf, dxf=dxf, nxc=nxc, dxc=dxc)\n",
    "            \n",
    "\n",
    "newxs = []\n",
    "newys = []\n",
    "for index, coord in enumerate(mesh.data):\n",
    "    x0 = coord[0]\n",
    "    y0 = coord[1]\n",
    "    xkey = mesh.data[index][0]\n",
    "    ykey = mesh.data[index][1]\n",
    "    newx = xcoorddict[key]\n",
    "    newy = ycoorddict[key]\n",
    "    newxs.append(newx)\n",
    "\n",
    "with mesh.deform_mesh():\n",
    "    mesh.data[:,0] = newxs\n",
    "    mesh.data[:,0] = newxs"
   ]
  },
  {
   "cell_type": "code",
   "execution_count": 54,
   "metadata": {
    "collapsed": false
   },
   "outputs": [
    {
     "name": "stdout",
     "output_type": "stream",
     "text": [
      "refine By:2.0\n",
      "1\n",
      "0.33203125\n",
      "right edge\n",
      "(43, 0, 85)\n",
      "refine By:2.0\n",
      "0\n",
      "-0.6015625\n",
      "(77, 77, 102)\n"
     ]
    }
   ],
   "source": [
    "if refineMesh:\n",
    "    shishkin_deform(mesh, centre = 0.9, axis=\"y\", refine_by=2.0, relax_by =0.5)\n",
    "    shishkin_deform(mesh, centre = 0.0, axis=\"x\", refine_by=2.0, relax_by =0.75)"
   ]
  },
  {
   "cell_type": "code",
   "execution_count": null,
   "metadata": {
    "collapsed": false
   },
   "outputs": [],
   "source": []
  },
  {
   "cell_type": "markdown",
   "metadata": {},
   "source": [
    "#ICs and BCs"
   ]
  },
  {
   "cell_type": "code",
   "execution_count": 55,
   "metadata": {
    "collapsed": false
   },
   "outputs": [],
   "source": [
    "# Initialise data.. Note that we are also setting boundary conditions here\n",
    "velocityField.data[:] = [0.,0.]\n",
    "pressureField.data[:] = 0.\n",
    "temperatureField.data[:] = 0.\n",
    "temperatureDotField.data[:] = 0.\n",
    "\n",
    "def wbl(x, w0 = 0.06):\n",
    "    delx = 1- abs(x)\n",
    "    Wbl = w0*math.sqrt(delx)\n",
    "    if Wbl== 0.: #to avoid division by zero\n",
    "        Wbl = 1e-8\n",
    "    return Wbl\n",
    "\n",
    "\n",
    "\n",
    "def tempf(z,w,t0=0.64):\n",
    "    temp = t0*math.erf((1-z)/w)\n",
    "    return temp\n",
    "\n"
   ]
  },
  {
   "cell_type": "code",
   "execution_count": 56,
   "metadata": {
    "collapsed": false
   },
   "outputs": [],
   "source": [
    "for index, coord in enumerate(mesh.data):\n",
    "    w = wbl(coord[0])\n",
    "    t = tempf(coord[1], w)\n",
    "    temperatureField.data[index] = t\n",
    "\n",
    "\n",
    "for index, coord in enumerate(mesh.data):\n",
    "    if abs(coord[0]) < wbl(0)/2. and coord[1] > 0.5:\n",
    "        w = wbl(0)/2.\n",
    "        d = w - abs(coord[0])\n",
    "        t = tempf(d, coord[1], w)\n",
    "        temperatureField.data[index] = t\n",
    "        \n",
    "        \n",
    "\n",
    "#Set sticky air Temp to zero\n",
    "for index, coord in enumerate(mesh.data):\n",
    "    if coord[1] > 1.:\n",
    "        temperatureField.data[index] = 0."
   ]
  },
  {
   "cell_type": "code",
   "execution_count": 57,
   "metadata": {
    "collapsed": true
   },
   "outputs": [],
   "source": [
    "#For notebook runs\n",
    "#ModIt = \"96\""
   ]
  },
  {
   "cell_type": "code",
   "execution_count": 58,
   "metadata": {
    "collapsed": false
   },
   "outputs": [],
   "source": [
    "# Now setup the dirichlet boundary condition\n",
    "# Note that through this object, we are flagging to the system \n",
    "# that these nodes are to be considered as boundary conditions. \n",
    "# Also note that we provide a tuple of sets.. One for the Vx, one for Vy.\n",
    "freeslipBC = uw.conditions.DirichletCondition( variable      = velocityField, \n",
    "                                               indexSetsPerDof = (None, JWalls) )\n",
    "\n",
    "# also set dirichlet for temp field\n",
    "tempBC = uw.conditions.DirichletCondition(     variable=temperatureField, \n",
    "                                              indexSetsPerDof=(JWalls,) )\n",
    "\n",
    "\n",
    "# set initial conditions (and boundary values)\n",
    "velocityField.data[:] = [0.,0.]\n",
    "pressureField.data[:] = 0.\n",
    "\n",
    "\n",
    "\n"
   ]
  },
  {
   "cell_type": "markdown",
   "metadata": {},
   "source": [
    "\n",
    "##Add Random 125 K temp perturbation\n"
   ]
  },
  {
   "cell_type": "code",
   "execution_count": 59,
   "metadata": {
    "collapsed": true
   },
   "outputs": [],
   "source": [
    "tempNump = temperatureField.data\n",
    "\n",
    "#In gerneral we only want to do this on the initial setup, not restarts\n",
    "\n",
    "if not checkpointLoad:\n",
    "    for index, coord in enumerate(mesh.data):\n",
    "        pertCoeff = (0.05*np.random.rand(1)[0])\n",
    "        ict = tempNump[index]\n",
    "        tempNump[index] = ict + pertCoeff"
   ]
  },
  {
   "cell_type": "markdown",
   "metadata": {},
   "source": [
    "##Reset bottom Dirichlet conds."
   ]
  },
  {
   "cell_type": "code",
   "execution_count": 60,
   "metadata": {
    "collapsed": false
   },
   "outputs": [],
   "source": [
    "# Set temp boundaries \n",
    "# on the boundaries\n",
    "for index in mesh.specialSets[\"MinJ_VertexSet\"]:\n",
    "    temperatureField.data[index] = ndp.TR\n",
    "for index in mesh.specialSets[\"MaxJ_VertexSet\"]:\n",
    "    temperatureField.data[index] = ndp.TS"
   ]
  },
  {
   "cell_type": "code",
   "execution_count": 61,
   "metadata": {
    "collapsed": false
   },
   "outputs": [],
   "source": [
    "#temperatureField.evaluate(IWalls).min()"
   ]
  },
  {
   "cell_type": "markdown",
   "metadata": {},
   "source": [
    "#Particles"
   ]
  },
  {
   "cell_type": "code",
   "execution_count": 62,
   "metadata": {
    "collapsed": false
   },
   "outputs": [],
   "source": [
    "###########\n",
    "#Material Swarm and variables\n",
    "###########\n",
    "\n",
    "gSwarm = uw.swarm.Swarm(mesh=mesh)\n",
    "materialVariable = gSwarm.add_variable( dataType=\"char\", count=1 )\n",
    "rockIntVar = gSwarm.add_variable( dataType=\"double\", count=1 )\n",
    "airIntVar = gSwarm.add_variable( dataType=\"double\", count=1 )\n",
    "lithIntVar = gSwarm.add_variable( dataType=\"double\", count=1 )\n",
    "\n",
    "varlist = [materialVariable, rockIntVar, airIntVar, lithIntVar]\n",
    "varnames = ['materialVariable', 'rockIntVar', 'airIntVar', 'lithIntVar']"
   ]
  },
  {
   "cell_type": "code",
   "execution_count": 63,
   "metadata": {
    "collapsed": true
   },
   "outputs": [],
   "source": [
    "###########\n",
    "#Swarms for surface intragrals when using Sticky air\n",
    "###########\n",
    "\n",
    "snum = 1000.\n",
    "dx = (mesh.data[:,0].max()- mesh.data[:,0].min())/snum\n",
    "yp = 0.9947 #1. - yelsize/2. at res = 96\n",
    "\n",
    "mesh.data[:,0].max()\n",
    "xps = np.linspace(mesh.data[:,0].min(),mesh.data[:,0].max(), snum)\n",
    "yps = [yp for i in xps]\n",
    "\n",
    "surfintswarm = uw.swarm.Swarm( mesh=mesh )\n",
    "dumout = surfintswarm.add_particles_with_coordinates(np.array((xps,yps)).T)\n",
    "\n",
    "yps = [ 1.- yp  for i in xps]\n",
    "\n",
    "baseintswarm = uw.swarm.Swarm( mesh=mesh)\n",
    "dumout = baseintswarm.add_particles_with_coordinates(np.array((xps,yps)).T)"
   ]
  },
  {
   "cell_type": "markdown",
   "metadata": {},
   "source": [
    "#Initialise swarm variables, or Swarm checkpoint load"
   ]
  },
  {
   "cell_type": "code",
   "execution_count": 64,
   "metadata": {
    "collapsed": false
   },
   "outputs": [],
   "source": [
    "mantleIndex = 0\n",
    "lithosphereIndex = 1\n",
    "crustIndex = 2\n",
    "airIndex = 3\n",
    "\n",
    "\n",
    "if checkpointLoad:\n",
    "    checkpointLoadDir = natsort.natsorted(checkdirs)[-1]\n",
    "    temperatureField.load(os.path.join(checkpointLoadDir, \"temperatureField\" + \".hdf5\"))\n",
    "    pressureField.load(os.path.join(checkpointLoadDir, \"pressureField\" + \".hdf5\"))\n",
    "    velocityField.load(os.path.join(checkpointLoadDir, \"velocityField\" + \".hdf5\"))\n",
    "    gSwarm.load(os.path.join(checkpointLoadDir, \"swarm\" + \".h5\"))\n",
    "    for ix in range(len(varlist)):\n",
    "        varb = varlist[ix]\n",
    "        varb.load(os.path.join(checkpointLoadDir,varnames[ix] + \".h5\"))\n",
    "\n",
    "else:\n",
    "\n",
    "    # Layouts are used to populate the swarm across the whole domain\n",
    "    # Create the layout object\n",
    "    #layout = uw.swarm.layouts.GlobalSpaceFillerLayout( swarm=gSwarm, particlesPerCell=20)\n",
    "    layout = uw.swarm.layouts.PerCellRandomLayout(swarm=gSwarm, particlesPerCell=15)\n",
    "    # Now use it to populate.\n",
    "    gSwarm.populate_using_layout( layout=layout )\n",
    "\n",
    "    # Lets initialise the 'materialVariable' data to represent different materials\n",
    "    # Set the material to heavy everywhere via the numpy array\n",
    "    materialVariable.data[:] = mantleIndex\n",
    "    \n",
    "    \n",
    "    #Set initial air and crust materials (allow the graph to take care of lithsophere)\n",
    "    #########\n",
    "    #This initial material setup will be model dependent\n",
    "    #########\n",
    "    for particleID in range(gSwarm.particleCoordinates.data.shape[0]):\n",
    "        if (1. - gSwarm.particleCoordinates.data[particleID][1]) < 0:\n",
    "                 materialVariable.data[particleID] = airIndex\n",
    "        elif (1. - gSwarm.particleCoordinates.data[particleID][1]) < MANTLETOCRUST:\n",
    "                 materialVariable.data[particleID] = crustIndex"
   ]
  },
  {
   "cell_type": "markdown",
   "metadata": {},
   "source": [
    "#Material Graphs"
   ]
  },
  {
   "cell_type": "code",
   "execution_count": 65,
   "metadata": {
    "collapsed": false
   },
   "outputs": [],
   "source": [
    "##############\n",
    "#Important: This is a quick fix for a bug that arises in parallel runs\n",
    "##############\n",
    "material_list = [0,1,2,3]\n"
   ]
  },
  {
   "cell_type": "code",
   "execution_count": 66,
   "metadata": {
    "collapsed": false
   },
   "outputs": [
    {
     "name": "stdout",
     "output_type": "stream",
     "text": [
      "unique values after swarm has loaded:[0 2]\n"
     ]
    }
   ],
   "source": [
    "print( \"unique values after swarm has loaded:\" + str(np.unique(materialVariable.data[:])))\n"
   ]
  },
  {
   "cell_type": "code",
   "execution_count": 67,
   "metadata": {
    "collapsed": true
   },
   "outputs": [],
   "source": [
    "\n",
    "\n",
    "#All depth conditions are given as (km/D) where D is the length scale, \n",
    "#note that 'model depths' are used, e.g. 1-z, where z is the vertical Underworld coordinate\n",
    "#All temp conditions are in dimensionless temp. [0. - 1.]\n",
    "\n",
    "#######Graph object\n",
    "DG = nx.DiGraph(field=\"Depth\")\n",
    "\n",
    "#######Nodes\n",
    "#Note that the order of materials, deepest to shallowest is important \n",
    "DG.add_node(0, mat='mantle')\n",
    "DG.add_node(1, mat='lithosphere')\n",
    "DG.add_node(2, mat='crust')\n",
    "DG.add_node(3, mat='air')\n",
    "\n",
    "\n",
    "labels=dict((n,d['mat']) for n,d in DG.nodes(data=True))\n",
    "pos=nx.spring_layout(DG) \n",
    "\n",
    "\n",
    "#######Edges\n",
    "#anything to air\n",
    "DG.add_edges_from([(0,3),(1,3), (2,3)])\n",
    "DG[0][3]['depthcondition'] = -1*TOPOHEIGHT\n",
    "DG[1][3]['depthcondition'] = -1*TOPOHEIGHT\n",
    "DG[2][3]['depthcondition'] = -1*TOPOHEIGHT\n",
    "\n",
    "\n",
    "#Anything to mantle\n",
    "DG.add_edges_from([(2,0), (3,0), (1,0)])\n",
    "DG[3][0]['depthcondition'] = TOPOHEIGHT\n",
    "DG[2][0]['depthcondition'] = CRUSTTOMANTLE\n",
    "DG[1][0]['depthcondition'] = LITHTOMANTLE #This means we're going to kill lithosphere at the 660.\n",
    "\n",
    "\n",
    "#Anything to lithsphere\n",
    "DG.add_edges_from([(0,1),(3,1)])\n",
    "DG[0][1]['depthcondition'] = MANTLETOLITH\n",
    "DG[0][1]['avgtempcondition'] = 0.75*AVGTEMP #definition of thermal lithosphere\n",
    "\n",
    "\n",
    "#Anything to crust\n",
    "DG.add_edges_from([(0,2), (1,2)])\n",
    "DG[0][2]['depthcondition'] = MANTLETOCRUST\n",
    "DG[1][2]['depthcondition'] = MANTLETOCRUST"
   ]
  },
  {
   "cell_type": "code",
   "execution_count": 68,
   "metadata": {
    "collapsed": false
   },
   "outputs": [
    {
     "data": {
      "text/plain": [
       "[0, 1, 2, 3]"
      ]
     },
     "execution_count": 68,
     "metadata": {},
     "output_type": "execute_result"
    }
   ],
   "source": [
    "DG.nodes()"
   ]
  },
  {
   "cell_type": "code",
   "execution_count": 69,
   "metadata": {
    "collapsed": false
   },
   "outputs": [],
   "source": [
    "remove_nodes = []\n",
    "for node in DG.nodes():\n",
    "    if not node in material_list:\n",
    "        remove_nodes.append(node)\n",
    "        \n",
    "for rmnode in remove_nodes:\n",
    "    DG.remove_node(rmnode)"
   ]
  },
  {
   "cell_type": "code",
   "execution_count": 70,
   "metadata": {
    "collapsed": false
   },
   "outputs": [
    {
     "data": {
      "text/plain": [
       "[0, 1, 2, 3]"
      ]
     },
     "execution_count": 70,
     "metadata": {},
     "output_type": "execute_result"
    }
   ],
   "source": [
    "DG.nodes()"
   ]
  },
  {
   "cell_type": "code",
   "execution_count": 71,
   "metadata": {
    "collapsed": false
   },
   "outputs": [],
   "source": [
    "\n",
    "#remove_nodes = []\n",
    "#for node in DG.nodes_iter():\n",
    "#    if not node in material_list:\n",
    "#        remove_nodes.append(node)\n",
    "        \n",
    "#for rmnode in remove_nodes:\n",
    "#    DG.remove_node(rmnode)"
   ]
  },
  {
   "cell_type": "code",
   "execution_count": 72,
   "metadata": {
    "collapsed": true
   },
   "outputs": [],
   "source": [
    "#A Dictionary to map strings in the graph (e.g. 'depthcondition') to particle data arrays\n",
    "\n",
    "particledepths = 1. - gSwarm.particleCoordinates.data[:,1]\n",
    "particletemps = temperatureField.evaluate(gSwarm)[:,0]\n",
    "\n",
    "conditionmap = {}\n",
    "\n",
    "conditionmap['depthcondition'] = {}\n",
    "conditionmap['depthcondition']['data'] = particledepths\n",
    "conditionmap['avgtempcondition'] = {}\n",
    "conditionmap['avgtempcondition']['data'] = particletemps"
   ]
  },
  {
   "cell_type": "code",
   "execution_count": 73,
   "metadata": {
    "collapsed": true
   },
   "outputs": [],
   "source": [
    "def update_swarm(graph, particleIndex):\n",
    "    \"\"\"\n",
    "    This function takes the materials graph (networkx.DiGraph), and a particle index,\n",
    "    then determines if a material update is required \n",
    "    and if so, returns the new materialindex\n",
    "    Args:\n",
    "        graph (networkx.DiGraph): Directed multigraph representing the transformation of material types\n",
    "        particleIndex (int): the particle index as corressponding to the index in the swarm data arrays\n",
    "    Returns:\n",
    "        if update is required the function returns the the new material variable (int) \n",
    "        else returns None\n",
    "    Raises:\n",
    "        TypeError: not implemented\n",
    "        ValueError: not implemented\n",
    "    \"\"\"\n",
    "    ##Egde gives links to other materials, we then query the conditions to see if we should change materials\n",
    "    matId = materialVariable.data[particleIndex][0]\n",
    "    innerchange = False\n",
    "    outerchange = False\n",
    "    for edge in graph[matId]:\n",
    "        if outerchange:\n",
    "            break\n",
    "        for cond in graph[matId][edge].keys():\n",
    "            outerchange = False\n",
    "            if innerchange: #found a complete transition, break inner loop\n",
    "                break\n",
    "            currentparticlevalue = conditionmap[cond]['data'][particleIndex]\n",
    "            crossover = graph[matId][edge][cond]\n",
    "            if ((matId > edge) and (currentparticlevalue > crossover)):\n",
    "                innerchange = False # continue on, \n",
    "                if graph[matId][edge].keys()[-1] == cond:\n",
    "                    outerchange = True\n",
    "                    innerchange = edge\n",
    "                    break\n",
    "            elif ((matId < edge) and (currentparticlevalue < crossover)):\n",
    "                innerchange = False\n",
    "                if graph[matId][edge].keys()[-1] == cond:\n",
    "                    outerchange = True\n",
    "                    innerchange = edge\n",
    "                    break\n",
    "            else:\n",
    "                #condition not met, break outer loop, go to next edge, outerchange should still be False\n",
    "                break\n",
    "    if type(innerchange) == int:\n",
    "        return innerchange"
   ]
  },
  {
   "cell_type": "code",
   "execution_count": 74,
   "metadata": {
    "collapsed": true
   },
   "outputs": [],
   "source": [
    "#fn.branching.conditional?"
   ]
  },
  {
   "cell_type": "code",
   "execution_count": 75,
   "metadata": {
    "collapsed": false
   },
   "outputs": [],
   "source": [
    "#Cleanse the swarm of its sins\n",
    "#For some Material Graphs, the graph may have to be treaversed more than once\n",
    "\n",
    "check = -1\n",
    "number_updated = 1\n",
    "\n",
    "while number_updated != 0:\n",
    "    number_updated = 0\n",
    "    for particleID in range(gSwarm.particleCoordinates.data.shape[0]):\n",
    "                check = update_swarm(DG, particleID)\n",
    "                if check > -1:\n",
    "                    number_updated += 1\n",
    "                    materialVariable.data[particleID] = check"
   ]
  },
  {
   "cell_type": "code",
   "execution_count": 76,
   "metadata": {
    "collapsed": false
   },
   "outputs": [],
   "source": [
    "## Here we'll play around with some different crust-perturbations\n",
    "##Voul inlude this is the Graph update function, but for now keep it seperate\n",
    "\n",
    "#MANTLETOCRUST\n",
    "centre = 0.0\n",
    "#CRUSTTOMANTLE\n",
    "\n",
    "#square_shape = np.array([ (MANTLETOCRUST ,1. ), ((-1.*MANTLETOCRUST) ,(1.0 - CRUSTTOMANTLE) ), \n",
    "#                       (-1.*MANTLETOCRUST ,1. ), ((MANTLETOCRUST),(1.0 - CRUSTTOMANTLE ))])\n",
    "#square_shape = fn.shape.Polygon( square_shape)\n",
    "\n",
    "sub_zone = np.array([ ((MANTLETOCRUST),1. ), ((-1.*MANTLETOCRUST - MANTLETOLITH ) ,(1.0 - 2*CRUSTTOMANTLE) ), \n",
    "                       ((-1.*MANTLETOCRUST) ,1. ), ((MANTLETOCRUST - MANTLETOLITH ),(1.0 - 2*CRUSTTOMANTLE ))])\n",
    "shape = fn.shape.Polygon( sub_zone)\n",
    "\n",
    "\n",
    "for particleID in range( gSwarm.particleCoordinates.data.shape[0] ):\n",
    "    if shape.evaluate(tuple(gSwarm.particleCoordinates.data[particleID])):\n",
    "        #print \"true\"\n",
    "        materialVariable.data[particleID] = crustIndex\n"
   ]
  },
  {
   "cell_type": "code",
   "execution_count": 79,
   "metadata": {
    "collapsed": false
   },
   "outputs": [
    {
     "data": {
      "text/html": [
       "<img src='data:image/png;base64,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'>"
      ],
      "text/plain": [
       "<IPython.core.display.HTML object>"
      ]
     },
     "execution_count": 79,
     "metadata": {},
     "output_type": "execute_result"
    }
   ],
   "source": [
    "figSwarm = glucifer.Figure(figsize=(1024,384))\n",
    "figSwarm.append( glucifer.objects.Points(gSwarm,materialVariable, colours='brown white blue red'))\n",
    "figSwarm.append( glucifer.objects.Mesh(mesh))\n",
    "figSwarm.append( glucifer.objects.Surface(mesh, temperatureField))\n",
    "figSwarm.save_database('test.gldb')\n",
    "figSwarm.show()"
   ]
  },
  {
   "cell_type": "markdown",
   "metadata": {},
   "source": [
    "## Set the values for the masking swarms"
   ]
  },
  {
   "cell_type": "code",
   "execution_count": 78,
   "metadata": {
    "collapsed": false
   },
   "outputs": [],
   "source": [
    "#Setup up a masking Swarm variable for the integrations.\n",
    "#These should be rebuilt at same frequency as the metric calcualtions\n",
    "\n",
    "rockIntVar.data[:] = 0.\n",
    "notair = np.where(materialVariable.data != airIndex)\n",
    "rockIntVar.data[notair] = 1.\n",
    "\n",
    "airIntVar.data[:] = 0.\n",
    "notrock = np.where(materialVariable.data == airIndex)\n",
    "airIntVar.data[notrock] = 1.\n",
    "\n",
    "lithIntVar.data[:] = 0.\n",
    "islith = np.where((materialVariable.data == lithosphereIndex) | (materialVariable.data == crustIndex))\n",
    "lithIntVar.data[islith] = 1."
   ]
  },
  {
   "cell_type": "markdown",
   "metadata": {
    "collapsed": false
   },
   "source": [
    "#Material properties\n"
   ]
  },
  {
   "cell_type": "markdown",
   "metadata": {},
   "source": [
    "In the paper, Crameri and Tackley give the dimensionless cohesion as well as the dimensionless yield stress gradient. But the latter is given as a function of dimensionless (lithostatic) pressure, whereas it is easier to use dimensionless depth. Easy, multiply the dimensionless depth by $\\rho g D$, divide by the stress scale, $\\frac{\\eta \\kappa}{D^2}$ then use the same dimensionless yeild stress gradient ($\\mu$)"
   ]
  },
  {
   "cell_type": "code",
   "execution_count": 37,
   "metadata": {
    "collapsed": false
   },
   "outputs": [],
   "source": [
    "# The yeilding of the upper slab is dependent on the strain rate.\n",
    "strainRate_2ndInvariant = fn.tensor.second_invariant( \n",
    "                            fn.tensor.symmetric( \n",
    "                            velocityField.fn_gradient ))\n",
    "\n",
    "\n",
    "coordinate = fn.input()\n",
    "depth = 1. - coordinate[1]\n",
    "\n",
    "#Determine yield criterion for depth (rather than pressure as given in Crameri)\n",
    "#Scaling is same as van Heck and Tackley, EPSL, 2011\n",
    "lithopressuregrad = dp.rho*dp.g*(dp.LS)**3/(dp.eta0*dp.k)"
   ]
  },
  {
   "cell_type": "code",
   "execution_count": 38,
   "metadata": {
    "collapsed": false
   },
   "outputs": [
    {
     "name": "stdout",
     "output_type": "stream",
     "text": [
      "(11.55, 3.0, 0.1092, 1.0, 0.64, 1577.0)\n"
     ]
    }
   ],
   "source": [
    "#Check important paramters\n",
    "print(ndp.E, ndp.V,ndp.TS,ndp.RD, ndp.TR, ndp.cohesion)"
   ]
  },
  {
   "cell_type": "code",
   "execution_count": 39,
   "metadata": {
    "collapsed": false
   },
   "outputs": [],
   "source": [
    "############\n",
    "#Mantle\n",
    "############\n",
    "\n",
    "#Linear viscosity\n",
    "arhennius = fn.misc.min(1e5,fn.math.exp(((ndp.E + ndp.V*(1.-coordinate[1]))/\n",
    "                                         (temperatureField + ndp.TS)) - ((ndp.E + ndp.V*(1.- ndp.RD))/(ndp.TR + ndp.TS))))\n",
    "\n",
    "#Psuedo-plastic \n",
    "ys =  ndp.cohesion + (depth*ndp.fc*lithopressuregrad)\n",
    "#ys =  ndp.fc*lithopressuregrad*(30e3/dp.LS) # this is the byerlee strength at 30 km\n",
    "yss = fn.misc.max(1577., ys)\n",
    "plasticvisc = yss*(math.sqrt(2))/(strainRate_2ndInvariant*2.)\n",
    "plastic = fn.misc.max(1e-4,plasticvisc)\n",
    "#combine these\n",
    "mantleviscosityFn = fn.exception.SafeMaths(fn.misc.min(arhennius, plastic))\n",
    "\n",
    "############\n",
    "#crust\n",
    "############\n",
    "\n",
    "\n",
    "\n",
    "ysc = (ndp.cohesion/ndp.cohesion_reduce) + (depth*(ndp.fc/100.)*lithopressuregrad)\n",
    "#ysc = ys/100.\n",
    "ycs = fn.misc.max((ndp.cohesion/ndp.cohesion_reduce), ysc)\n",
    "crustplasticvisc = ycs*(math.sqrt(2))/(strainRate_2ndInvariant*2.)\n",
    "crustplastic = fn.misc.max(1e-4,crustplasticvisc) \n",
    "crustviscosityFn = fn.exception.SafeMaths(fn.misc.min(arhennius, crustplastic))"
   ]
  },
  {
   "cell_type": "markdown",
   "metadata": {},
   "source": [
    "Note that the rheology implemented manually above can also be set up using an Underworld2 function, as follows:\n",
    "```python\n",
    "fn_stress =  2.*arhennius*uw.function.tensor.symmetric(velocityField.fn_gradient )\n",
    "plasticvisc = fn.rheology.stress_limiting_viscosity(fn_stress,ys,arhennius)\n",
    "plastic = fn.misc.max(1e-4,plasticvisc)\n",
    "mantleviscosityFn = fn.exception.SafeMaths(fn.misc.min(arhennius, plastic))\n",
    "stokesPIC.fn_viscosity = mantleviscosityFn\n",
    "```"
   ]
  },
  {
   "cell_type": "markdown",
   "metadata": {},
   "source": [
    "Set up material properties\n",
    "====\n",
    "\n",
    "Here the functions for density, viscosity etc. are set. These functions and/or values are preserved for the entire simulation time. "
   ]
  },
  {
   "cell_type": "code",
   "execution_count": 40,
   "metadata": {
    "collapsed": false
   },
   "outputs": [],
   "source": [
    "# Here we set a viscosity value of '1.' for both materials\n",
    "viscosityMapFn = fn.branching.map( fn_key = materialVariable,\n",
    "                         mapping = {airIndex:AIRVISCOSITY, \n",
    "                                    lithosphereIndex:mantleviscosityFn, \n",
    "                                    crustIndex:crustviscosityFn,\n",
    "                                    mantleIndex:mantleviscosityFn} )\n",
    "\n",
    "densityMapFn = fn.branching.map( fn_key = materialVariable,\n",
    "                         mapping = {airIndex:AIRDENSITY, \n",
    "                                    lithosphereIndex:ndp.RA*temperatureField, \n",
    "                                    crustIndex:ndp.RA*temperatureField, \n",
    "                                    mantleIndex:ndp.RA*temperatureField} )\n",
    "\n",
    "# Define our gravity using a python tuple (this will be automatically converted to a function)\n",
    "gravity = ( 0.0, 1.0 )\n",
    "\n",
    "buoyancyFn = gravity*densityMapFn"
   ]
  },
  {
   "cell_type": "code",
   "execution_count": null,
   "metadata": {
    "collapsed": false
   },
   "outputs": [],
   "source": []
  },
  {
   "cell_type": "markdown",
   "metadata": {},
   "source": [
    "Build the Stokes system, solvers, advection-diffusion\n",
    "------\n",
    "\n",
    "Setup linear Stokes system to get the initial velocity."
   ]
  },
  {
   "cell_type": "code",
   "execution_count": 41,
   "metadata": {
    "collapsed": false
   },
   "outputs": [],
   "source": [
    "stokesPIC = uw.systems.Stokes( velocityField = velocityField, \n",
    "                               pressureField = pressureField,\n",
    "                               #swarm         = gSwarm, \n",
    "                               conditions    = [freeslipBC,],\n",
    "                               fn_viscosity   = arhennius, \n",
    "                               fn_bodyforce   = buoyancyFn )\n"
   ]
  },
  {
   "cell_type": "code",
   "execution_count": 42,
   "metadata": {
    "collapsed": false
   },
   "outputs": [],
   "source": [
    "#We do one solve with linear viscosity to get the initial strain rate invariant. \n",
    "#This solve step also calculates a 'guess' of the the velocity field based on the linear system, \n",
    "#which is used later in the non-linear solver.\n",
    "\n",
    "solver = uw.systems.Solver(stokesPIC)\n",
    "# If not doing a restart, do a solve on the non-plastic system\n",
    "if not checkpointLoad:\n",
    "    solver.solve()"
   ]
  },
  {
   "cell_type": "code",
   "execution_count": null,
   "metadata": {
    "collapsed": true
   },
   "outputs": [],
   "source": [
    "solver.options"
   ]
  },
  {
   "cell_type": "markdown",
   "metadata": {
    "collapsed": true
   },
   "source": [
    "* CG\n",
    "* "
   ]
  },
  {
   "cell_type": "code",
   "execution_count": 237,
   "metadata": {
    "collapsed": false
   },
   "outputs": [],
   "source": [
    "####################\n",
    "#Add the non-linear viscosity to the Stokes system\n",
    "stokesPIC.fn_viscosity = viscosityMapFn\n",
    "###################\n",
    "\n",
    "#Set more advanced solver option\n",
    "solver.options.main.Q22_pc_type='uw'\n",
    "solver.options.A11.ksp_rtol=1e-5\n",
    "solver.options.scr.ksp_rtol=1e-5\n",
    "#solver.options.A11.ksp_type=\"cg\"\n",
    "solver.options.scr.use_previous_guess = True\n",
    "solver.options.scr.ksp_set_min_it_converge = 1\n",
    "\n",
    "solver.options.mg.levels = 3\n",
    "\n",
    "#solver.options.A11.ksp_monitor=''\n",
    "solver.options.A11.ksp_converged_reason=''"
   ]
  },
  {
   "cell_type": "code",
   "execution_count": 2,
   "metadata": {
    "collapsed": false
   },
   "outputs": [
    {
     "ename": "NameError",
     "evalue": "name 'solver' is not defined",
     "output_type": "error",
     "traceback": [
      "\u001b[0;31m---------------------------------------------------------------------------\u001b[0m",
      "\u001b[0;31mNameError\u001b[0m                                 Traceback (most recent call last)",
      "\u001b[0;32m<ipython-input-2-97134faac567>\u001b[0m in \u001b[0;36m<module>\u001b[0;34m()\u001b[0m\n\u001b[0;32m----> 1\u001b[0;31m \u001b[0msolver\u001b[0m\u001b[0;34m.\u001b[0m\u001b[0moptions\u001b[0m\u001b[0;34m.\u001b[0m\u001b[0mscr\u001b[0m\u001b[0;34m.\u001b[0m\u001b[0mksp_set_min_it_converge\u001b[0m\u001b[0;34m\u001b[0m\u001b[0m\n\u001b[0m",
      "\u001b[0;31mNameError\u001b[0m: name 'solver' is not defined"
     ]
    }
   ],
   "source": [
    "#solver.options.scr.ksp_set_min_it_converge"
   ]
  },
  {
   "cell_type": "markdown",
   "metadata": {},
   "source": [
    "Solve non-linear system for pressure and velocity using Picard iteration\n"
   ]
  },
  {
   "cell_type": "code",
   "execution_count": 238,
   "metadata": {
    "collapsed": false
   },
   "outputs": [],
   "source": [
    "solver.solve(nonLinearIterate=True)"
   ]
  },
  {
   "cell_type": "code",
   "execution_count": 239,
   "metadata": {
    "collapsed": true
   },
   "outputs": [],
   "source": [
    "#Now check the stress.\n",
    "fn_stress = 2.*mantleviscosityFn*uw.function.tensor.symmetric(velocityField.fn_gradient)\n",
    "fn_minmax_inv = fn.view.min_max(fn.tensor.second_invariant(fn_stress))\n",
    "ignore = fn_minmax_inv.evaluate(gSwarm)"
   ]
  },
  {
   "cell_type": "code",
   "execution_count": 240,
   "metadata": {
    "collapsed": false
   },
   "outputs": [
    {
     "data": {
      "text/plain": [
       "550350.6561038237"
      ]
     },
     "execution_count": 240,
     "metadata": {},
     "output_type": "execute_result"
    }
   ],
   "source": [
    "fn_minmax_inv.max_global()"
   ]
  },
  {
   "cell_type": "code",
   "execution_count": 241,
   "metadata": {
    "collapsed": false
   },
   "outputs": [],
   "source": [
    "#np.isclose(fn_minmax_inv.max_global(), ys, rtol=1e-03)"
   ]
  },
  {
   "cell_type": "code",
   "execution_count": 242,
   "metadata": {
    "collapsed": false
   },
   "outputs": [
    {
     "data": {
      "text/html": [
       "<img src='data:image/png;base64,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'>"
      ],
      "text/plain": [
       "<IPython.core.display.HTML object>"
      ]
     },
     "execution_count": 242,
     "metadata": {},
     "output_type": "execute_result"
    }
   ],
   "source": [
    "figTemp = glucifer.Figure()\n",
    "figTemp.append( glucifer.objects.Surface(mesh, fn.tensor.second_invariant(fn_stress)))\n",
    "#figTemp.append( glucifer.objects.VectorArrows(mesh,velocityField, arrowHead=0.2, scaling=0.0005))\n",
    "\n",
    "figTemp.show()"
   ]
  },
  {
   "cell_type": "markdown",
   "metadata": {},
   "source": [
    "Create an advective-diffusive system\n",
    "=====\n",
    "\n",
    "Setup the system in underworld by flagging the temperature and velocity field variables."
   ]
  },
  {
   "cell_type": "code",
   "execution_count": 243,
   "metadata": {
    "collapsed": false
   },
   "outputs": [],
   "source": [
    "#Create advdiff system\n",
    "\n",
    "advDiff = uw.systems.AdvectionDiffusion( phiField       = temperatureField, \n",
    "                                         phiDotField    = temperatureDotField, \n",
    "                                         velocityField  = velocityField, \n",
    "                                         fn_diffusivity = 1.0, \n",
    "                                         conditions     = [tempBC,] )\n",
    "\n",
    "\n",
    "\n",
    "advector = uw.systems.SwarmAdvector( swarm         = gSwarm, \n",
    "                                     velocityField = velocityField, \n",
    "                                     order         = 1)\n",
    "\n",
    "#Switch particle escape on, this will also trigger the inflow population control \n",
    "gSwarm.particleEscape = True"
   ]
  },
  {
   "cell_type": "markdown",
   "metadata": {},
   "source": [
    "Metrics for benchmark\n",
    "=====\n",
    "\n",
    "Define functions to be used in the time loop. For cases 1-4, participants were asked to report a number of diagnostic quantities to be measured after reaching steady state:\n",
    "\n",
    "* Average temp... $$  \\langle T \\rangle  = \\int^1_0 \\int^1_0 T \\, dxdy $$\n",
    "* Top and bottom Nusselt numbers... $$N = \\int^1_0 \\frac{\\partial T}{\\partial y} \\rvert_{y=0/1} \\, dx$$\n",
    "* RMS velocity over the whole domain, surface and max velocity at surface\n",
    "* max and min viscosity over the whole domain\n",
    "* average rate of work done against gravity...$$\\langle W \\rangle = \\int^1_0 \\int^1_0 T u_y \\, dx dy$$\n",
    "* and the average rate of viscous dissipation...$$\\langle \\Phi \\rangle = \\int^1_0 \\int^1_0 \\tau_{ij} \\dot \\epsilon_{ij} \\, dx dy$$\n",
    "\n",
    "* In steady state, if thermal energy is accurately conserved, the difference between $\\langle W \\rangle$ and $\\langle \\Phi \\rangle / Ra$ must vanish, so also reported is the percentage error: \n",
    "\n",
    "$$ \\delta = \\frac{\\lvert \\langle W \\rangle - \\frac{\\langle \\Phi \\rangle}{Ra} \\rvert}{max \\left(  \\langle W \\rangle,  \\frac{\\langle \\Phi \\rangle}{Ra}\\right)} \\times 100% $$"
   ]
  },
  {
   "cell_type": "code",
   "execution_count": 244,
   "metadata": {
    "collapsed": false
   },
   "outputs": [],
   "source": [
    "#Setup some Integrals. We want these outside the main loop...\n",
    "tempVariable = gSwarm.add_variable( dataType=\"double\", count=1 )\n",
    "tempVariable.data[:] = temperatureField.evaluate(gSwarm)[:]\n",
    "tempint = uw.utils.Integral((tempVariable*rockIntVar), mesh)\n",
    "\n",
    "\n",
    "areaint = uw.utils.Integral((1.*rockIntVar),mesh)\n",
    "\n",
    "v2int = uw.utils.Integral(fn.math.dot(velocityField,velocityField)*rockIntVar, mesh)\n",
    "\n",
    "\n",
    "dwint = uw.utils.Integral(temperatureField*velocityField[1]*rockIntVar, mesh)\n",
    "\n",
    "\n",
    "sinner = fn.math.dot(strainRate_2ndInvariant,strainRate_2ndInvariant)\n",
    "vdint = uw.utils.Integral((4.*mantleviscosityFn*sinner)*rockIntVar, mesh)\n",
    "vdintair = uw.utils.Integral((4.*mantleviscosityFn*sinner)*airIntVar, mesh)\n",
    "vdintlith = uw.utils.Integral((4.*mantleviscosityFn*sinner)*lithIntVar, mesh)"
   ]
  },
  {
   "cell_type": "code",
   "execution_count": 245,
   "metadata": {
    "collapsed": false
   },
   "outputs": [],
   "source": [
    "def avg_temp():\n",
    "    return tempint.evaluate()[0]\n",
    "\n",
    "#This one gets cleaned up when Surface integrals are available\n",
    "def nusselt(tempfield, swarm, dx):\n",
    "    #Update the swarm variable\n",
    "    tempgrad = tempfield.fn_gradient\n",
    "    valcheck = tempgrad[1].evaluate(swarm)\n",
    "    if valcheck is None:\n",
    "        vals = np.array(0, dtype='float64')\n",
    "    else:\n",
    "        vals = valcheck.sum()*dx\n",
    "    return vals\n",
    "\n",
    "def rms():\n",
    "    return math.sqrt(v2int.evaluate()[0])\n",
    "\n",
    "#This one gets cleaned up when Surface integrals are available\n",
    "def rms_surf(swarm, dx):\n",
    "    rmsmaxfn = fn.math.sqrt(fn.math.dot(velocityField,velocityField))\n",
    "    rmscheck = rmsmaxfn.evaluate(swarm)\n",
    "    if rmscheck is None:\n",
    "        rmsvals = np.array(0, dtype='float64')\n",
    "    else:\n",
    "        rmsvals = rmscheck.sum()*dx\n",
    "    return rmsvals\n",
    "\n",
    "def max_vx_surf(velfield, swarm):\n",
    "    surfvelxmaxfn = fn.view.min_max(velfield[0])\n",
    "    surfvelxmaxfn.evaluate(swarm)\n",
    "    return surfvelxmaxfn.max_global()\n",
    "\n",
    "def max_vy_surf(velfield, swarm):\n",
    "    surfvelxmaxfn = fn.view.min_max(velfield[1])\n",
    "    surfvelxmaxfn.evaluate(swarm)\n",
    "    return surfvelxmaxfn.max_global()\n",
    "\n",
    "def gravwork(workfn):\n",
    "    return workfn.evaluate()[0]\n",
    "\n",
    "def viscdis(vdissfn):\n",
    "    return vdissfn.evaluate()[0]\n",
    "\n",
    "def visc_extr(viscfn):\n",
    "    vuviscfn = fn.view.min_max(viscfn)\n",
    "    vuviscfn.evaluate(mesh)\n",
    "    return vuviscfn.max_global(), vuviscfn.min_global()"
   ]
  },
  {
   "cell_type": "code",
   "execution_count": 246,
   "metadata": {
    "collapsed": false
   },
   "outputs": [],
   "source": [
    "#Fields for saving data / fields\n",
    "\n",
    "rmsField = uw.mesh.MeshVariable( mesh=mesh,   nodeDofCount=1)\n",
    "rmsfn = fn.math.sqrt(fn.math.dot(velocityField,velocityField))\n",
    "rmsdata = rmsfn.evaluate(mesh)\n",
    "rmsField.data[:] = rmsdata \n",
    "\n",
    "viscField = uw.mesh.MeshVariable( mesh=mesh,   nodeDofCount=1)\n",
    "viscdata = mantleviscosityFn.evaluate(mesh)\n",
    "viscField.data[:] = viscdata\n",
    "\n",
    "\n",
    "strainrateField = uw.mesh.MeshVariable( mesh=mesh,   nodeDofCount=1)\n",
    "srtdata = fn.tensor.second_invariant( \n",
    "                    fn.tensor.symmetric( \n",
    "                        velocityField.fn_gradient ))\n",
    "rostfield = srtdata.evaluate(mesh)\n",
    "strainrateField.data[:] = rostfield\n",
    "\n",
    "viscVariable = gSwarm.add_variable( dataType=\"float\", count=1 )\n",
    "viscVariable.data[:] = viscosityMapFn.evaluate(gSwarm)"
   ]
  },
  {
   "cell_type": "code",
   "execution_count": 247,
   "metadata": {
    "collapsed": false
   },
   "outputs": [],
   "source": [
    "#Images\n",
    "figEta = glucifer.Figure()\n",
    "figEta.append( glucifer.objects.Points(gSwarm,viscVariable, logScale=True))\n",
    "\n",
    "\n",
    "figMat = glucifer.Figure()\n",
    "figMat.append( glucifer.objects.Points(gSwarm,materialVariable, colours='brown white blue red'))\n",
    "figMat.append( glucifer.objects.Mesh(mesh))\n",
    "\n",
    "\n",
    "figStrainRate = glucifer.Figure()\n",
    "figStrainRate.append( glucifer.objects.Surface(mesh, strainRate_2ndInvariant, logScale=True))\n",
    "\n",
    "\n",
    "figVelocityMag = glucifer.Figure()\n",
    "figVelocityMag.append( glucifer.objects.Surface(mesh, fn.math.dot(velocityField,velocityField))\n",
    ")\n",
    "figTemp = glucifer.Figure()\n",
    "figTemp.append( glucifer.objects.Surface(mesh, temperatureField))\n",
    "\n",
    "\n",
    "\n",
    "#Pack some stuff into a database as well\n",
    "figDb = glucifer.Figure()\n",
    "figDb.append( glucifer.objects.Points(gSwarm,viscVariable, logScale=True, colours='brown white blue'))\n",
    "figDb.append( glucifer.objects.Points(gSwarm,materialVariable, colours='brown white blue red'))\n",
    "figDb.append( glucifer.objects.Mesh(mesh))\n",
    "figDb.append( glucifer.objects.VectorArrows(mesh,velocityField, arrowHead=0.2, scaling=0.002))\n",
    "figDb.append( glucifer.objects.Surface(mesh, strainRate_2ndInvariant, logScale=True, colours='brown white blue'))"
   ]
  },
  {
   "cell_type": "markdown",
   "metadata": {},
   "source": [
    "Main simulation loop\n",
    "=======\n",
    "\n",
    "The main time stepping loop begins here. Before this the time and timestep are initialised to zero and the output statistics arrays are set up. Also the frequency of outputting basic statistics to the screen is set in steps_output.\n"
   ]
  },
  {
   "cell_type": "code",
   "execution_count": 248,
   "metadata": {
    "collapsed": true
   },
   "outputs": [],
   "source": [
    "pics = uw.swarm.PICIntegrationSwarm(gSwarm)"
   ]
  },
  {
   "cell_type": "code",
   "execution_count": 249,
   "metadata": {
    "collapsed": false
   },
   "outputs": [],
   "source": [
    "def checkpoint1(step, checkpointPath,filename, filewrites):\n",
    "    path = checkpointPath + str(step) \n",
    "    os.mkdir(path)\n",
    "    ##Write and save the file, if not already a writing step\n",
    "    if not step % filewrites == 0:\n",
    "        filename.write((13*'%-15s ' + '\\n') % (realtime, Viscdis, float(Nu0glob), float(Nu1glob), Avg_temp, \n",
    "                                              Rms,Rmsurfglob,Max_vx_surf,Gravwork, etamax, etamin, Viscdisair, Viscdislith))\n",
    "    filename.close()\n",
    "    shutil.copyfile(os.path.join(outputPath, outputFile), os.path.join(path, outputFile))\n",
    "\n",
    "\n",
    "def checkpoint2(step, checkpointPath, swarm, filename, varlist = [materialVariable], varnames = ['materialVariable']):\n",
    "    path = checkpointPath + str(step) \n",
    "    velfile = \"velocityField\" + \".hdf5\"\n",
    "    tempfile = \"temperatureField\" + \".hdf5\"\n",
    "    pressfile = \"pressureField\" + \".hdf5\"\n",
    "    velocityField.save(os.path.join(path, velfile))\n",
    "    temperatureField.save(os.path.join(path, tempfile))\n",
    "    pressureField.save(os.path.join(path, pressfile))\n",
    "    swarm.save(os.path.join(path, \"swarm.h5\") ) \n",
    "    for ix in range(len(varlist)):\n",
    "        varb = varlist[ix]\n",
    "        varb.save(os.path.join(path,varnames[ix] + \".h5\"))\n",
    "    "
   ]
  },
  {
   "cell_type": "code",
   "execution_count": 250,
   "metadata": {
    "collapsed": false
   },
   "outputs": [
    {
     "data": {
      "text/plain": [
       "(2.5495327996913645e-05, 1.274826008746458e-05)"
      ]
     },
     "execution_count": 250,
     "metadata": {},
     "output_type": "execute_result"
    }
   ],
   "source": [
    "advector.get_max_dt(), advDiff.get_max_dt()"
   ]
  },
  {
   "cell_type": "code",
   "execution_count": null,
   "metadata": {
    "collapsed": false
   },
   "outputs": [],
   "source": [
    "# initialise timer for computation\n",
    "start = time.clock()\n",
    "# setup summary output file (name above)\n",
    "if checkpointLoad:\n",
    "    if uw.rank() == 0:\n",
    "        shutil.copyfile(os.path.join(checkpointLoadDir, outputFile), outputPath+outputFile)\n",
    "    comm.Barrier()\n",
    "    f_o = open(os.path.join(outputPath, outputFile), 'a')\n",
    "    prevdata = np.genfromtxt(os.path.join(outputPath, outputFile), skip_header=0, skip_footer=0)\n",
    "    if len(prevdata.shape) == 1: #this is in case there is only one line in previous file\n",
    "        realtime = prevdata[0]\n",
    "    else:\n",
    "        realtime = prevdata[prevdata.shape[0]-1, 0]\n",
    "    step = int(checkpointLoadDir.split('/')[-1])\n",
    "    timevals = [0.]\n",
    "else:\n",
    "    f_o = open(outputPath+outputFile, 'w')\n",
    "    realtime = 0.\n",
    "    step = 0\n",
    "    timevals = [0.]"
   ]
  },
  {
   "cell_type": "code",
   "execution_count": null,
   "metadata": {
    "collapsed": false
   },
   "outputs": [
    {
     "name": "stdout",
     "output_type": "stream",
     "text": [
      "0\n",
      "1\n",
      "2\n",
      "3\n",
      "4\n",
      "5\n",
      "6\n",
      "7\n",
      "8\n",
      "9\n",
      "10\n",
      "11\n",
      "12\n",
      "13\n",
      "14\n",
      "15\n",
      "16\n",
      "17\n",
      "18\n",
      "19\n",
      "20\n",
      "21\n",
      "22\n",
      "23\n",
      "24\n",
      "25\n",
      "26\n",
      "27\n",
      "28\n",
      "29\n",
      "30\n",
      "31\n",
      "32\n",
      "33\n",
      "34\n",
      "35\n",
      "36\n",
      "37\n",
      "38\n",
      "39\n",
      "40\n",
      "41\n",
      "42\n",
      "43\n",
      "44\n",
      "45\n",
      "46\n",
      "47\n",
      "48\n",
      "49\n",
      "50\n",
      "51\n",
      "52\n",
      "53\n",
      "54\n",
      "55\n",
      "56\n",
      "57\n",
      "58\n",
      "59\n",
      "60\n",
      "61\n",
      "62\n",
      "63\n",
      "64\n",
      "65\n",
      "66\n",
      "67\n",
      "68\n",
      "69\n",
      "70\n",
      "71\n",
      "72\n",
      "73\n",
      "74\n",
      "75\n",
      "76\n",
      "77\n",
      "78\n",
      "79\n",
      "80\n",
      "81\n",
      "82\n",
      "83\n",
      "84\n",
      "85\n",
      "86\n",
      "87\n",
      "88\n",
      "89\n",
      "90\n",
      "91\n",
      "92\n",
      "93\n",
      "94\n",
      "95\n",
      "96\n",
      "97\n",
      "98\n",
      "99\n",
      "100\n",
      "101\n",
      "102\n",
      "103\n",
      "104\n",
      "105\n",
      "106\n",
      "107\n",
      "108\n",
      "109\n",
      "110\n",
      "111\n",
      "112\n",
      "113\n",
      "114\n",
      "115\n",
      "116\n",
      "117\n",
      "118\n",
      "119\n",
      "120\n",
      "121\n",
      "122\n",
      "123\n",
      "124\n",
      "125\n",
      "126\n",
      "127\n",
      "128\n",
      "129\n",
      "130\n",
      "131\n",
      "132\n",
      "133\n",
      "134\n",
      "135\n",
      "136\n",
      "137\n",
      "138\n",
      "139\n",
      "140\n",
      "141\n",
      "142\n",
      "143\n",
      "144\n",
      "145\n",
      "146\n",
      "147\n",
      "148\n",
      "149\n",
      "150\n",
      "151\n",
      "152\n",
      "153\n",
      "154\n",
      "155\n",
      "156\n",
      "157\n",
      "158\n",
      "159\n",
      "160\n",
      "161\n",
      "162\n",
      "163\n",
      "164\n",
      "165\n",
      "166\n",
      "167\n",
      "168\n",
      "169\n",
      "170\n",
      "171\n",
      "172\n",
      "173\n",
      "174\n",
      "175\n",
      "176\n",
      "177\n",
      "178\n",
      "179\n",
      "180\n",
      "181\n",
      "182\n",
      "183\n",
      "184\n",
      "185\n",
      "186\n",
      "187\n",
      "188\n",
      "189\n",
      "190\n",
      "191\n",
      "192\n",
      "193\n",
      "194\n",
      "195\n",
      "196\n",
      "197\n",
      "198\n",
      "199\n",
      "200\n",
      "201\n",
      "202\n",
      "203\n",
      "204\n",
      "205\n",
      "206\n",
      "207\n",
      "208\n",
      "209\n",
      "210\n",
      "211\n",
      "212\n",
      "213\n",
      "214\n",
      "215\n",
      "216\n",
      "217\n",
      "218\n",
      "219\n",
      "220\n",
      "221\n",
      "222\n",
      "223\n",
      "224\n",
      "225\n",
      "226\n",
      "227\n",
      "228\n",
      "229\n",
      "230\n",
      "231\n",
      "232\n",
      "233\n",
      "234\n",
      "235\n",
      "236\n",
      "237\n",
      "238\n",
      "239\n",
      "240\n",
      "241\n",
      "242\n",
      "243\n",
      "244\n",
      "245\n",
      "246\n",
      "247\n",
      "248\n",
      "249\n",
      "250\n",
      "251\n",
      "252\n",
      "253\n",
      "254\n",
      "255\n",
      "256\n",
      "257\n",
      "258\n",
      "259\n",
      "260\n",
      "261\n",
      "262\n",
      "263\n",
      "264\n",
      "265\n",
      "266\n",
      "267\n",
      "268\n",
      "269\n",
      "270\n",
      "271\n",
      "272\n",
      "273\n",
      "274\n",
      "275\n",
      "276\n",
      "277\n",
      "278\n",
      "279\n",
      "280\n",
      "281\n",
      "282\n",
      "283\n",
      "284\n",
      "285\n",
      "286\n",
      "287\n",
      "288\n",
      "289\n",
      "290\n",
      "291\n",
      "292\n",
      "293\n",
      "294\n",
      "295\n",
      "296\n",
      "297\n",
      "298\n",
      "299\n",
      "300\n",
      "301\n",
      "302\n",
      "303\n",
      "304\n",
      "305\n",
      "306\n",
      "307\n",
      "308\n",
      "309\n",
      "310\n",
      "311\n",
      "312\n",
      "313\n",
      "314\n",
      "315\n",
      "316\n",
      "317\n",
      "318\n",
      "319\n",
      "320\n",
      "321\n",
      "322\n",
      "323\n",
      "324\n",
      "325\n",
      "326\n",
      "327\n",
      "328\n",
      "329\n",
      "330\n",
      "331\n",
      "332\n",
      "333\n",
      "334\n",
      "335\n",
      "336\n",
      "337\n",
      "338\n",
      "339\n",
      "340\n",
      "341\n",
      "342\n",
      "343\n",
      "344\n",
      "345\n",
      "346\n",
      "347\n",
      "348\n",
      "349\n",
      "350\n",
      "351\n",
      "352\n",
      "353\n",
      "354\n",
      "355\n",
      "356\n",
      "357\n",
      "358\n",
      "359\n",
      "360\n",
      "361\n",
      "362\n",
      "363\n",
      "364\n",
      "365\n",
      "366\n",
      "367\n",
      "368\n",
      "369\n",
      "370\n",
      "371\n",
      "372\n",
      "373\n",
      "374\n",
      "375\n",
      "376\n",
      "377\n",
      "378\n",
      "379\n",
      "380\n",
      "381\n",
      "382\n",
      "383\n",
      "384\n",
      "385\n",
      "386\n",
      "387\n",
      "388\n",
      "389\n",
      "390\n",
      "391\n",
      "392\n",
      "393\n",
      "394\n",
      "395\n",
      "396\n",
      "397\n",
      "398\n",
      "399\n",
      "400\n",
      "401\n",
      "402\n",
      "403\n",
      "404\n",
      "405\n",
      "406\n",
      "407\n",
      "408\n",
      "409\n",
      "410\n",
      "411\n",
      "412\n",
      "413\n",
      "414\n",
      "415\n",
      "416\n",
      "417\n",
      "418\n",
      "419\n",
      "420\n",
      "421\n",
      "422\n",
      "423\n",
      "424\n",
      "425\n",
      "426\n",
      "427\n",
      "428\n",
      "429\n",
      "430\n",
      "431\n",
      "432\n",
      "433\n",
      "434\n",
      "435\n",
      "436\n",
      "437\n",
      "438\n",
      "439\n",
      "440\n",
      "441\n",
      "442\n",
      "443\n",
      "444\n",
      "445\n",
      "446\n",
      "447\n",
      "448\n",
      "449\n",
      "450\n",
      "451\n",
      "452\n",
      "453\n",
      "454\n",
      "455\n",
      "456\n",
      "457\n",
      "458\n",
      "459\n",
      "460\n",
      "461\n",
      "462\n",
      "463\n",
      "464\n",
      "465\n",
      "466\n",
      "467\n",
      "468\n",
      "469\n",
      "470\n",
      "471\n",
      "472\n",
      "473\n",
      "474\n",
      "475\n",
      "476\n",
      "477\n",
      "478\n",
      "479\n",
      "480\n",
      "481\n",
      "482\n",
      "483\n",
      "484\n",
      "485\n",
      "486\n",
      "487\n",
      "488\n",
      "489\n",
      "490\n",
      "491\n",
      "492\n",
      "493\n",
      "494\n",
      "495\n",
      "496\n",
      "497\n",
      "498\n",
      "499\n",
      "500\n",
      "501\n",
      "502\n",
      "503\n",
      "504\n",
      "505\n",
      "506\n",
      "507\n",
      "508\n",
      "509\n",
      "510\n",
      "511\n",
      "512\n",
      "513\n",
      "514\n",
      "515\n",
      "516\n",
      "517\n",
      "518\n",
      "519\n",
      "520\n",
      "521\n",
      "522\n",
      "523\n",
      "524\n",
      "525\n",
      "526\n",
      "527\n",
      "528\n",
      "529\n",
      "530\n",
      "531\n",
      "532\n",
      "533\n",
      "534\n",
      "535\n",
      "536\n",
      "537\n",
      "538\n",
      "539\n",
      "540\n",
      "541\n",
      "542\n",
      "543\n",
      "544\n",
      "545\n",
      "546\n",
      "547\n",
      "548\n",
      "549\n",
      "550\n",
      "551\n",
      "552\n",
      "553\n",
      "554\n",
      "555\n",
      "556\n",
      "557\n",
      "558\n",
      "559\n",
      "560\n",
      "561\n",
      "562\n",
      "563\n",
      "564\n",
      "565\n",
      "566\n",
      "567\n",
      "568\n",
      "569\n",
      "570\n",
      "571\n",
      "572\n",
      "573\n",
      "574\n",
      "575\n",
      "576\n",
      "577\n",
      "578\n",
      "579\n",
      "580\n",
      "581\n",
      "582\n",
      "583\n",
      "584\n",
      "585\n",
      "586\n",
      "587\n",
      "588\n",
      "589\n",
      "590\n",
      "591\n",
      "592\n",
      "593\n",
      "594\n",
      "595\n",
      "596\n",
      "597\n",
      "598\n",
      "599\n",
      "600\n",
      "601\n",
      "602\n",
      "603\n",
      "604\n",
      "605\n",
      "606\n",
      "607\n",
      "608\n",
      "609\n",
      "610\n",
      "611\n",
      "612\n",
      "613\n",
      "614\n",
      "615\n",
      "616\n",
      "617\n",
      "618\n",
      "619\n",
      "620\n",
      "621\n",
      "622\n",
      "623\n",
      "624\n",
      "625\n",
      "626\n",
      "627\n",
      "628\n",
      "629\n",
      "630\n",
      "631\n",
      "632\n",
      "633\n",
      "634\n",
      "635\n",
      "636\n",
      "637\n",
      "638\n",
      "639\n",
      "640\n",
      "641\n",
      "642\n",
      "643\n",
      "644\n",
      "645\n",
      "646\n",
      "647\n",
      "648\n",
      "649\n",
      "650\n",
      "651\n",
      "652\n",
      "653\n",
      "654\n",
      "655\n",
      "656\n",
      "657\n",
      "658\n",
      "659\n",
      "660\n",
      "661\n",
      "662\n",
      "663\n",
      "664\n",
      "665\n",
      "666\n",
      "667\n",
      "668\n",
      "669\n",
      "670\n",
      "671\n",
      "672\n",
      "673\n",
      "674\n",
      "675\n",
      "676\n",
      "677\n",
      "678\n",
      "679\n",
      "680\n",
      "681\n",
      "682\n",
      "683\n",
      "684\n",
      "685\n",
      "686\n",
      "687\n",
      "688\n",
      "689\n",
      "690\n",
      "691\n",
      "692\n",
      "693\n",
      "694\n",
      "695\n",
      "696\n",
      "697\n",
      "698\n",
      "699\n",
      "700\n",
      "701\n",
      "702\n",
      "703\n",
      "704\n",
      "705\n",
      "706\n",
      "707\n",
      "708\n",
      "709\n",
      "710\n",
      "711\n",
      "712\n",
      "713\n",
      "714\n",
      "715\n",
      "716\n",
      "717\n",
      "718\n",
      "719\n",
      "720\n",
      "721\n",
      "722\n",
      "723\n",
      "724\n",
      "725\n",
      "726\n",
      "727\n",
      "728\n",
      "729\n",
      "730\n",
      "731\n",
      "732\n",
      "733\n",
      "734\n",
      "735\n",
      "736\n",
      "737\n",
      "738\n",
      "739\n",
      "740\n",
      "741\n",
      "742\n",
      "743\n",
      "744\n",
      "745\n",
      "746\n",
      "747\n",
      "748\n",
      "749\n",
      "750\n",
      "751\n",
      "752\n",
      "753\n",
      "754\n",
      "755\n",
      "756\n",
      "757\n",
      "758\n",
      "759\n",
      "760\n",
      "761\n",
      "762\n",
      "763\n",
      "764\n",
      "765\n",
      "766\n",
      "767\n",
      "768\n",
      "769\n",
      "770\n",
      "771\n",
      "772\n",
      "773\n",
      "774\n",
      "775\n",
      "776\n",
      "777\n",
      "778\n",
      "779\n",
      "780\n",
      "781\n",
      "782\n",
      "783\n",
      "784\n",
      "785\n",
      "786\n",
      "787\n",
      "788\n",
      "789\n",
      "790\n",
      "791\n",
      "792\n",
      "793\n",
      "794\n",
      "795\n",
      "796\n",
      "797\n",
      "798\n",
      "799\n",
      "800\n",
      "801\n",
      "802\n",
      "803\n",
      "804\n",
      "805\n",
      "806\n",
      "807\n",
      "808\n",
      "809\n",
      "810\n",
      "811\n",
      "812\n",
      "813\n",
      "814\n",
      "815\n",
      "816\n",
      "817\n",
      "818\n",
      "819\n",
      "820\n",
      "821\n",
      "822\n",
      "823\n",
      "824\n",
      "825\n",
      "826\n",
      "827\n",
      "828\n",
      "829\n",
      "830\n",
      "831\n",
      "832\n",
      "833\n",
      "834\n",
      "835\n",
      "836\n",
      "837\n",
      "838\n",
      "839\n",
      "840\n",
      "841\n",
      "842\n",
      "843\n",
      "844\n",
      "845\n",
      "846\n",
      "847\n",
      "848\n",
      "849\n",
      "850\n",
      "851\n",
      "852\n",
      "853\n",
      "854\n",
      "855\n",
      "856"
     ]
    }
   ],
   "source": [
    "# initialise timer for computation\n",
    "startMain = time.clock()\n",
    "# Perform steps\n",
    "while realtime < 0.05:\n",
    "#while step < 5:\n",
    "    #Enter non-linear loop\n",
    "    print step\n",
    "    solver.solve(nonLinearIterate=True)\n",
    "    dt = advDiff.get_max_dt()\n",
    "    if step == 0:\n",
    "        dt = 0.\n",
    "    #start = time.clock()\n",
    "    advDiff.integrate(dt)\n",
    "    #machine_time = (time.clock()-start)\n",
    "    #print(\"total advDiff time is: \" + str(machine_time))\n",
    "    # Advect swarm using this timestep size\n",
    "    #start = time.clock()\n",
    "    advector.integrate(dt)\n",
    "    #machine_time = (time.clock()-start)\n",
    "    #print(\"total advector time is: \" + str(machine_time))\n",
    "    # Increment\n",
    "    realtime += dt\n",
    "    step += 1\n",
    "    timevals.append(realtime)\n",
    "    \n",
    "    ################\n",
    "    #Update temperature field in the air region\n",
    "    ################\n",
    "    if (step % sticky_air_temp == 0):\n",
    "        for index, coord in enumerate(mesh.data):\n",
    "            if coord[1] >= 1.:\n",
    "                temperatureField.data[index] = 0.\n",
    " \n",
    "    ################\n",
    "    #Particle update\n",
    "    ###############\n",
    "    if (step % swarm_update == 0) or (step % metric_output == 0): #These updates should be done before any metric output\n",
    "        #These swarm variables get updated first, as they are used to determine material changes\n",
    "        particledepths = 1. - gSwarm.particleCoordinates.data[:,1]\n",
    "        particletemps = temperatureField.evaluate(gSwarm)[:,0]\n",
    "        conditionmap['depthcondition']['data'] = particledepths\n",
    "        conditionmap['avgtempcondition']['data'] = particletemps\n",
    "        ################\n",
    "        number_updated = 0\n",
    "        for particleID in range(gSwarm.particleCoordinates.data.shape[0]):\n",
    "            check = update_swarm(DG, particleID)\n",
    "            if check > -1:\n",
    "                number_updated += 1\n",
    "                #if check == 0:\n",
    "                #    print \"from \" + str(materialVariable.data[particleID]) + \" to \" + str(check)\n",
    "                materialVariable.data[particleID] = check\n",
    "            else:\n",
    "                pass\n",
    "        #Also update those integration swarms\n",
    "        rockIntVar.data[:] = 0.\n",
    "        notair = np.where(materialVariable.data != airIndex)\n",
    "        rockIntVar.data[notair] = 1.\n",
    "        airIntVar.data[:] = 0.\n",
    "        notrock = np.where(materialVariable.data == airIndex)\n",
    "        airIntVar.data[notrock] = 1.\n",
    "        lithIntVar.data[:] = 0.\n",
    "        islith = np.where((materialVariable.data == lithosphereIndex) | (materialVariable.data == crustIndex))\n",
    "        lithIntVar.data[islith] = 1.\n",
    "\n",
    "    ################            \n",
    "    # Calculate the Metrics, only on 1 of the processors:\n",
    "    ################\n",
    "    if (step % metric_output == 0):\n",
    "        tempVariable.data[:] = temperatureField.evaluate(gSwarm)[:]\n",
    "        Avg_temp = avg_temp()\n",
    "        Rms = rms()\n",
    "        Max_vx_surf = max_vx_surf(velocityField, surfintswarm)\n",
    "        Gravwork = gravwork(dwint)\n",
    "        Viscdis = viscdis(vdint)\n",
    "        Viscdisair = viscdis(vdintair)\n",
    "        Viscdislith = viscdis(vdintlith)\n",
    "        etamax, etamin = visc_extr(mantleviscosityFn)\n",
    "        #These are the ones that need mpi4py treatment\n",
    "        Nu0loc = nusselt(temperatureField, baseintswarm, dx)\n",
    "        Nu1loc = nusselt(temperatureField, surfintswarm, dx)\n",
    "        Rmsurfloc = rms_surf(surfintswarm, dx)\n",
    "        #Setup the global output arrays\n",
    "        dTp = Nu0loc.dtype\n",
    "        Nu0glob = np.array(0, dtype=dTp)\n",
    "        dTp = Nu1loc.dtype\n",
    "        Nu1glob = np.array(0, dtype=dTp)\n",
    "        dTp = Rmsurfloc.dtype\n",
    "        Rmsurfglob = np.array(0, dtype=dTp)\n",
    "        #Do global sum\n",
    "        comm.Allreduce(Nu0loc, Nu0glob, op=MPI.SUM)\n",
    "        comm.Allreduce(Nu1loc, Nu1glob, op=MPI.SUM)\n",
    "        comm.Allreduce(Rmsurfloc, Rmsurfglob, op=MPI.SUM)\n",
    "        # output to summary text file\n",
    "        if uw.rank()==0:\n",
    "            f_o.write((13*'%-15s ' + '\\n') % (realtime, Viscdis, float(Nu0glob), float(Nu1glob), Avg_temp, \n",
    "                                              Rms,Rmsurfglob,Max_vx_surf,Gravwork, etamax, etamin, Viscdisair, Viscdislith))\n",
    "    ################\n",
    "    #Gldb output\n",
    "    ################ \n",
    "    if (step % gldbs_output == 0) & (writeFiles == True):\n",
    "        #Rebuild any necessary swarm variables\n",
    "        viscVariable.data[:] = viscosityMapFn.evaluate(gSwarm)\n",
    "        #Write gldbs\n",
    "        fnamedb = \"dbFig\" + \"_\" + str(ModIt) + \"_\" + str(step) + \".gldb\"\n",
    "        fullpath = os.path.join(outputPath + \"gldbs/\" + fnamedb)\n",
    "        figDb.show()\n",
    "        figDb.save_database(fullpath)\n",
    "    ################\n",
    "    #Also repopulate entire swarm periodically\n",
    "    ################\n",
    "    if step % swarm_repop == 0:\n",
    "        pics.repopulate()\n",
    "    ################\n",
    "    #Checkpoint\n",
    "    ################\n",
    "    if step % checkpoint_every == 0:\n",
    "        if uw.rank() == 0:\n",
    "            checkpoint1(step, checkpointPath,f_o, metric_output)           \n",
    "        checkpoint2(step, checkpointPath, gSwarm, f_o, varlist = varlist, varnames = varnames)\n",
    "        f_o = open(os.path.join(outputPath, outputFile), 'a') #is this line supposed to be here?\n",
    "\n",
    "        \n",
    "        \n",
    "f_o.close()\n",
    "#print 'step =',step, '; dt =', dt, '; CPU time =', time.clock()-startMain"
   ]
  },
  {
   "cell_type": "code",
   "execution_count": null,
   "metadata": {
    "collapsed": false
   },
   "outputs": [],
   "source": [
    "viscVariable = gSwarm.add_variable( dataType=\"float\", count=1 )\n",
    "viscVariable.data[:] = viscosityMapFn.evaluate(gSwarm)\n",
    "figEta = glucifer.Figure(figsize=(1024,384))\n",
    "figEta.append( glucifer.objects.Points(gSwarm,viscVariable, logScale=True))\n",
    "figEta.append( glucifer.objects.Mesh(mesh))\n",
    "figEta.show()\n",
    "figEta.save_database('test.gldb')"
   ]
  },
  {
   "cell_type": "code",
   "execution_count": 24,
   "metadata": {
    "collapsed": false
   },
   "outputs": [
    {
     "data": {
      "text/html": [
       "<img src='data:image/png;base64,iVBORw0KGgoAAAANSUhEUgAAAoAAAAHgCAIAAAC6s0uzAAAZCElEQVR42u3d669lZ10H8L0Jf0jnWqQURaGRIHgBNV5eaHzjJdFEjVEjMYJzZp8p1wLTTrl2aClIotEoRiUmJhIlBVSiQaFteCGGKEQIxihaOufs+5kx2xdzO3vOfn7Ur2ufztn9fF4N59lr7XV51vp2Tvt86S8Wix4AcLie5xIAgAAGAAEMAAhgABDAAIAABgABDAAIYAAQwACAAAYAAQwAAhgAEMAAIIABAAEMAAIYABDAACCAAQABDAACGAAEMAAggAFAAAMAAhgABDAAIIABQAADAAIYAAQwAAhgAEAAA4AABgAEMAAIYABAAAOAAAYABDAACGAAEMAAgAAGAAEMAAhgABDAAIAABgABDAAIYAAQwAAggAEAAQwAAhgAEMAAIIABAAEMAAIYABDAACCAAUAAAwACGAAEMAAggAFAAAMAAhgABDAAIIABQAADgAAGAAQwAAhgAEAAA4AABgAEMAAIYABAAAOAAAYAAQwACGAAEMAAgAAGAAEMAAhgABDAAIAABgABDAACGAAQwAAggAEAAQwAAhgAEMAAIIABAAEMAAIYABDAACCAAUAAAwDr8vy17r3f77vEABxFi8XC34ABYNMIYAAQwAAggAEAAQwAAhgAEMAAIICXzLaOt4ZGg5OtoeF2c+ipc3e2hv7r3he0hr765he1hr70lm8Nhv7pvu9oDX32/He2hj5z/8tbQ3/3wCtaQ5968PtaQ3/5rh9uDX38XT8UbPWn7/3J1tBH3/fTza3e91OtoT9+6GdbQ3/w/l9sDf3+w7/UGvrIxZ9vDf3uw7/cHvqV1tBvP/La5tAHmkO/9ejrWkMfevQ321u9vjX0/g/d2xr69Y98uDV018UnWkOv+8MPtYY++OiZ1tCjH9xqn9fr20PNHX740d9oDf3OI7/Wvl+/2hr6vfZd/sjFXwgm2x9d/LnW0J889DPtOd9+Utpb/dl7fqI19Ofv+bHW0F+8+0dbQ4+98wdaQ5948PtbQ5++8F2toX8433xHPfmOe1pDn3/7y1pDX7jv21tDX35z8wX7lfYb+z/e8C3NdLi3mQ7js81MmZw98WwFcH+tC40VcQBwRCniAIANJIABQAADgAAGAAQwAAhgAEAAA4AAXjJtr3He3T4VbDVvN3vstps9RtHQ9Gzzu3baB1+c13BwKviu4giL77q0fTo4+G+ca271n+2ek397412toX9/wwubQ29sDn3tTcUOm8vw//XNdwc7/NJbXtwa+pe3JkUBX3zrtwXf9YX7XtIa+uh7mz0ndz/8eGvoY+/+8dbQP7fPqzj4L96XDH25fVOKa/jVNzWHvtaebNlWxdz4+huac76o/fn6vclWT58rHtjTwWNevBzKl96Jbt+iRavSuL3V3taxYKvi4MeDE8EO100RBwCsoIgDADaQAAYAAQwAAhgAEMAAIIABAAEMAAJ4SdEvUawTn0SLwWftjo5ih8VWw0GxhDxZ1l0c/JUzdwRbFddw1r7yw+jKj88mp5w1sexsJ40lO1HzQDFUdCMUjSXFeZVlC82tPvbOH2kNvej9T7SG/vaB724NPXXuzmDO/3d7q+K8siufPUSXwsNIJnbxOBQP0TDaYfhmaz8p83bNxSQqQbrc3mHnlRpFLckwKncaKeIAgNuKIg4A2EACGAAEMAAIYABAAAOAAAYABDAACOAl1RLyQbKSvVg0vROtwp52XfqRdXTMinX9g+QIi8KKK+2l8fNoyf+0Kv0o7tfpbifArOroSL6r2GFRL1BsdfnMseC8PnHh1a2hoojj8fP3tIaKqpBsAhRbZV0x4+guX45uSvEsZ1dj0vXbZi/qzShKP4oijmFUjrG31XE9TvHeKO7yNCoLGiviAIDbiiIOANhAAhgABDAACGAAQAADgAAGAAQwAAjgJfOzyUr2YuH5KFpPPYpWl8+jFd/ZUFZzMY7KTIql8VW9QFRLUlQZFN0I02jaFIdRLfkv+gqi9obi4HcHp4LD+MSDzSKOuy42izg+c/8rgielKEAYRw9RVlhRXPl5NNlGVSvF8W5fKfOoYCTrEZqHj17H96t4EXX+0iuqXcq2jeQI100RBwCsoIgDADaQAAYAAQwAAhgAEMAAIIABAAEMAAJ4ybjrVopshX5WWDGvyhaKNelJX0FR7LCb9Wa0h66cuaPbHRanPItKCYoLVVyN4ruKmotxdFOKworiCK9E1S6fvPC9raEXP/J4a+jJd7w0OOVJ9sAOOn6Iih0Ow8mWNMxk1RPFxM4qhrJHL7tQl9tHmDWWZDel2CprVRqfTbZaN0UcALCCIg4A2EACGAAEMAAIYABAAAOAAAYABDAACOAlk2id+KTrHoasoiHt6EiaB/aiIo5x130FWcHIpDqvY+25kWyVrdDvfKi4vFlxSrHVXz3wqtbQXRefaA39/f2vCA5jFE2bYofZU1lUoBRNEdUUjapCirucFYxcOncqmPNlv0TyBhi2J9u065KW7EX09LnTwRTdidJhoogDAG4rijgAYAMJYAAQwAAggAEAAQwAAhgAEMAAIICXzKIl5MWq+awpoli7Xe4wWV2efVexTjxrwCgOYxwdYbmgPumXmEdL4y9HtQnDQdI8kBVxlJc3aW947MKrW0MvfuRzraEn3/7SYGKPouqJYofjaIfF41AUcQwPsYllEr0csslWXaitjt8bWVlQ1lk0i57lcdaBE92vdVPEAQArKOIAgA0kgAFAAAOAAAYABDAACGAAQAADgABeMm+vms8Wg8+ixeBFAcKwWtadrGQvFoOPDrG+Y9ReeD6JykwmVXFKUj1RHHx2DYsL1fkpF4dRTNGseuJTD3xPa+iui0+0hj53/p7gMEZdX41p149551U8k6iKJ6vUmFQ1F8eC8wpLdba7riWJijiKepyq2qV6HyZzo3j01k0RBwCsoIgDADaQAAYAAQwAAhgAEMAAIIABAAEMAAJ4SbEKO1tdXq6nbq7C3mkXO8yLpoitZGhYHXzSFFGsEx9HLQedD106dzrYqjivrKRlFF35oipkGtULZFUGxTz89P2vbA298KFmEcdnz788er6SU54Mkrs8DMsxTnY7bYqXwyyaG9XEji5v9j7MyoKyq3Fp+3S3j0PxXXtRF9M8qnZZN0UcALCCIg4A2EACGAAEMAAIYABAAAOAAAYABDAACOAll9rLuotF09l66mJ1edY8UBQFXN461hw60xyqFp4XpR9FVUjUSpF1COy1TzmrTRhHy/CLooDilIfRUFbsUEzRYVEI097q4w/+YGvo7ocfbw09fv6ebs9rt+tnOTuMK+15WDxExbTpvJem88s7rnpODq/o5nL0Bhh1/ehdOXNH80J1/VSumyIOAFhBEQcAbCABDAACGAAEMAAggAFAAAMAAhgABPCSySBZGT2KejOKHRYlEjvbp1tDWSvFKKqemLd3WKwTL4aqZo/20DzqAynOaxSVmUyjIo5x1HKQnXI5bZJSguLgH7vwmtbQiy4+0Rr6bLuIIysz2Y26LIrJNoy+axRNtnJuJE9lVhY0zeZG9NKbRfU4WalOcZeLgy/u8jBq6cn6QIqQWjdFHACwgiIOANhAAhgABDAACGAAQAADgAAGAAQwAAjgJcU68fnZros4zibfVawuz9o2qnXi0VZZy8E8ahEpvmsYXaiiUmMWTYDiCIuhSTQUVk90fcp/88ArW0NFEcfn2kUco6iHYRI1zGQTIKuDyCZA0dGRvTfCOojq0UtqSbJemkn0fHXejjLcTl6VxYuoSKLiaqybIg4AWEERBwBsIAEMAAIYAAQwACCAAUAAAwACGAAE8JJs0XSxyH03WpOetTeUy7qTgy8WuRc7nETlGMNo/XuxXP0wyzGKpfHDqMxk2N5hMaMun0nW9Ydzvn01HrvwmtbQ3Q8XRRwvC76r8x6GaVSpEb4ctqPCikF2Xs27vBPVXIzDjo7kyhcXatz1DrOD7/yUy6Hjz1YAK+IAgBUUcQDABhLAACCAAUAAAwACGAAEMAAggAFAAC+Zt9c4T7quaMhWYRfL8C+32wCKHe5EJRLVKbe3GkU7LFoOdrfbzR7t8yp2OKzu1/H2TWkeRlGOMY46OopbWWxVTezofhWH8dcPvKo19MKHnmwNPX7+nuB+jav+luTy7m0d7/Z+FRUoxXdVDRhdt/QUr5SsbWPWddFNeFOK8plqh0kDRvWqjC5vMW2KoXVTxAEAKyjiAIANJIABQAADgAAGAAQwAAhgAEAAA4AAXnIlqk0o+gqylezFcvVR1zsshopWiklUBzGOCkaKUx5GN2XeLiWYdN0h0Pl3jaLmgaq+I9qqaPb4x7e9tDX02gsfaA194W0vObTnq5iis67LFiaD5C7PzibtDdm0KYaKlp6iYmg8yCqGTgbf1fkOy7mRlCCNup6ixeVdN0UcALCCIg4A2EACGAAEMAAIYABAAAOAAAYABDAACOAlRb1AsWh6fLbofEh2OKrW2ic1F8V5FT0MxcEXR7gXFTsMo+Xqw8Gpbg+jrNRIdlgs+S+rQqJKjWL2Dk5El/dk8F1Vb0bUxDKNzmsWzd6ssqa4X8UEKKboXrvYYRy9N8ZRE0s2N7IijuIu7x5iCVJx8LPsynddMVQMrZsiDgBYQREHAGwgAQwAAhgABDAAIIABQAADAAIYAATwkqwco/OV7JOobGEYLVcfbne8hDyruZhEBQjZVsX9GkfXMKu5mESXdxK2HCTNA8PoLmfzsOxGSMoWZtEOi+drGt3KSdclLcUR7rR3ODzEBza7X+OoeiIrhOn8lGfRo5cVLhX9LeumiAMAVlDEAQAbSAADgAAGAAEMAAhgABDAAIAABgABvGQNJRLtzodogXa2unweVYVktQmdV2pkR5i2AbSvYVXRkLQ3FD0MO1FFQznU3GFRZTDuuiumqEAZtk95ErWITKOmiOKmZJ0P2VajqGAk2+GwPTem0V0O3xvtWzmOXilXztwR7LCoucjmRjFFi1tZ9iOdfLYCWBEHAKygiAMANpAABgABDAACGAAQwAAggAEAAQwAAnhJ1jyQNWBMox0Oow6BSbXw/FiwVbi6vH3wxYWaRTUXWbNH8V3DqGwhu5VZOUZxUybFd20d7/pxiEoJ2odR1JKMs8vb/q55dDVGXc+NrEam83KMYoe7YXFKclP+p12pMT3E2p/drutxiik6iQqX1k0RBwCsoIgDADaQAAYAAQwAAhgAEMAAIIABAAEMAAJ4SbaeulhCnvVmXG6XY0yjcoxp10vjyyKO5GpURxittS8O41L7yhc3ZRhVGXS+w6wcYxRVoBQlLTtRKUHW+ZCVmexFD9FO1C8x6boOotgqezlMuq79GUczquqKiY6w87mR1a0UBz/cPhm82bKXw7op4gCAFRRxAMAGEsAAIIABQAADAAIYAAQwACCAAUAAL9nZPt0aKlaXF2UL2XL1bK190ZtRtBxk7Q1ZKUH2XeOozCQrx8i26rx7pBxKbmUxsTu/lVkdRNGAMe36COft52tUTbaOKxqKN0DWCDTs+knJCmGyZznb4bTr8pmyUuNU8FRmj152yuumiAMAVlDEAQAbSAADgAAGAAEMAAhgABDAAIAABgABvKRYoJ2tE99r77BYT73XLgooOgSKdeLjrtfaF0c4jlaXZ4UVl8/c0RoqmgfK4pQTwa2ctLcqrsal9gr9rNih8y6LrK+guFDF1SinTXJexcEXF6oqkchqZLouuqm6fc4mV7549J4+dzo4jOzgq8e8eNtEV75ozim+a1adV/JdRXXSMLq866aIAwBWUMQBABtIAAOAAAYAAQwACGAAEMAAgAAGAAG8ZBIVBcyito2wAGGQLFcfRS0ik2gl+6TrIo6dqDejuF9le8Ox4AinWSvF4ET0XceTaVP0MGyf7PZ+VYUwRW3CILlf1ewddDx7J9H9Gnf96I2jJ6V4R42yZo9BVEsSdfvsVeUYSfdI9j4cRW+AaXQrJ9EO100RBwCsoIgDADaQAAYAAQwAAhgAEMAAIIABAAEMAAJ4SVFlMD57MtiqWqEfLbUuGxWay/B320NVU0TUL1Gc8qVzzcPofP37OOqyKA6+uIblKZ8ODqNs9jgWnPI8qjKYVj0MHXcIDKMddj439qImls7LZ8bRjBpG51VM7MvRtJlHXTHFK6U4wupZjgphws6idi3JbvRa3h2cCib2uiniAIAVFHEAwAYSwAAggAFAAAMAAhgABDAAIIABQAAvKdaJT6JyjGJN+mTQcbPHPCp2mIRdFsVW7aGse2SQHGFWnFIcxs520iIyjO7yXnSEw+gwZu0dph0dyWSrCmGiBoxx1x0dnXfFFENFD0P2IsouVHEriwlQVIVkF2o0SOZ88T7MLu88KvDJ+kCyN/a6KeIAgBUUcQDABhLAACCAAUAAAwACGAAEMAAggAFAAC8pVpePum4DGHW9CnsaNSrMt441Dz5q2yiuYXWhooMvOjpm0TXs/KaUV77j4pSyviO6KYPD682oqkKiXpqsRSRsmIkOo5gAs0Ms1RlH/S3FNSzu1yQqadndPrx2lOypLHtpkqqQbAKsmyIOAFhBEQcAbCABDAACGAAEMAAggAFAAAMAAhgABPCSYmX0cHCqudVW0nJQ7DBritjd7vgId9o7vNyu75iFnQ9Je8Nk0PEK/Vm0ND67KXvRTcmOsJgAWV9BttVeVKnRfflMe2gneog673woJ1u7sCJ6pXTePpTdlOwwimu4135HFX0gRSPQPCrHKA6jeDkUQ8WTsm6KOABgBUUcALCBBDAACGAAEMAAgAAGAAEMAAhgABDAS4rV5Ze2T7e3ykokTgRbZX0FRb3ANFpQP60qNZLzGnVdqTHP+kCi4pRx1MMwiy7vJGw5SCpQsk6V7OCLHobs8hZdMcUU3e36SSnmYffftXU8OOViq3lUjjHrum4le1UWF6qsx0kqhsqSlq57ado7XDdFHACwgiIOANhAAhgABDAACGAAQAADgAAGAAQwAAjgJcXy572tjosChu3F4FmjwixaNV8t3i9WsrdbKbIV+sXBD6OmiGF0hMWtLHY4iWpJyu86mdyU9owqFu9Po6aIefQ4jKInJXv0staX4pTH4cEf63YejqNih2ICzKIijr2t5G0TlupE35UWwiRbFXe5KEEaVW0bycth3RRxAMAKijgAYAMJYAAQwAAggAEAAQwAAhgAEMAAIICXjKIChGnUm5GttZ8V68QHyRLyYbQ0frh9sttTLtbaD6t+iZOHdjUm0ZL/orFkGF2Nontk0vXcmES3spoA4eOQfNeo646O4ruysoViq2nUFLETFadUk20rmWzFFM16abKKoXHXfSBlI9CJbp/lcTRF100RBwCsoIgDADaQAAYAAQwAAhgAEMAAIIABAAEMAAJ4yVPn7mwNPb19utuhS13vMBv6Rten/I1zh3ehioMvDqPcKtthcl5PhYdxZ7c3pfMd3ibzsPPZ2/k1PNzLe3vs8Nxh3pTTt/mT0vm0Wbf+uhca6+IA4Chaez6u+wsAgIP8O2AAEMAAIIABAAEMAAIYABDAACCAAQABDAACGAAQwAAggAFAAAMAAhgABDAAIIABQAADAAIYAAQwACCAAUAAA4AABgAEMAAIYABAAAOAAAYABDAACGAAQAADgAAGAAEMAAhgABDAAIAABgABDAAIYAAQwACAAAYAAQwAAhgAEMAAIIABAAEMAAIYABDAACCAAQABDAACGAAEMAAggAFAAAMAAhgABDAAIIABQAADAAIYAAQwAAhgAEAAA4AABgAEMAAIYABAAAOAAAYABDAACGAAEMAAgAAGAAEMAHTt+Uf66Pv9vlsI8Ny0WCwE8LPpBe/9fK/X6/d7vd7i+h+uZvPi+h+u3al+r9e7OXrg873F1dHrH2t8/voPV3/+5miv129/vtfr9duf7/V6/V6/t7j+h8bne4t9owc+31vc/IeTfvvz+6/Pwc/X13P/pVv0+teuwKK/uHE1Fv1er7dY9HvXvq6/WPT2/fmWz/T27eHaZ67v+eqfV+756p9v2fO1z6/a87XPL+/5yB//vtGln1y9jwc/ufzzpaNa9fMb53LrJw/8/OZZNH5+8DiP/vH3bty1m//z2q3c97Te/GTvlm333fSbn7/+wD3DHS72bftMdrhYPph9b7BVOzxwdjd3ePOFU53dN93hLWf3TXe46PV6z3vnV456fvkVNAAIYAAQwACAAAYAAQwACGAAEMAAgAAGgNtP/0g3iWjCAnjO0oTlBgDgL2D/Z34FDQACGAAEMACwJn3/DhUA/A0YAJ4Tbuv/CvrGf+S28q/pK0ev/vDGT275z+T8dR/gaImD4PZ/59++v4Lu968d2y2ZWowe/OHKbQE4KulbB8HBV329yW3lCPwKur58K/+yu38T6Qtw1LXe5Fd/vlgs9ofuUXn5P38jb8+NfwK65Z+STGIABPBaHMza/b+OkMEAm/fOv/HXsBu/ju4dhaqsTQvgW371L3EBNtjBfwu5/18J3+YZ/LzNviUAPAdT+UikwBEI4Gf4jzD9fv/gbx783yUBbIBn/jLf//63DKmDK77/lwwrf+Fw8A4VHwPgyEXv/ycIbk//C769ABfqjx1mAAAAAElFTkSuQmCC'>"
      ],
      "text/plain": [
       "<IPython.core.display.HTML object>"
      ]
     },
     "execution_count": 24,
     "metadata": {},
     "output_type": "execute_result"
    }
   ],
   "source": [
    "figTemp = glucifer.Figure()\n",
    "figTemp.append( glucifer.objects.Surface(mesh, temperatureField))\n",
    "figTemp.append( glucifer.objects.Mesh(mesh))\n",
    "\n",
    "#figTemp.append( glucifer.objects.VectorArrows(mesh,velocityField, arrowHead=0.2, scaling=0.005))\n",
    "figTemp.save_database('test.gldb')\n",
    "figTemp.show()"
   ]
  },
  {
   "cell_type": "code",
   "execution_count": 51,
   "metadata": {
    "collapsed": false
   },
   "outputs": [
    {
     "data": {
      "text/html": [
       "<img src='data:image/png;base64,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'>"
      ],
      "text/plain": [
       "<IPython.core.display.HTML object>"
      ]
     },
     "execution_count": 51,
     "metadata": {},
     "output_type": "execute_result"
    }
   ],
   "source": [
    "figVelocityMag = glucifer.Figure(figsize=(1024,384))\n",
    "figVelocityMag.append( glucifer.objects.Surface(mesh, fn.math.dot(velocityField,velocityField) ))\n",
    "figVelocityMag.show()"
   ]
  },
  {
   "cell_type": "code",
   "execution_count": 52,
   "metadata": {
    "collapsed": false
   },
   "outputs": [
    {
     "data": {
      "text/html": [
       "<img src='data:image/png;base64,iVBORw0KGgoAAAANSUhEUgAABAAAAAGACAIAAAC894erAAAPHklEQVR42u3dW3Lb1gGAYRwQ9CVyJMeO7UhQm1Btp+0G2n10L91E+9AVtVtoZto+NDMhHUe0E7uW6kS2Ugvk6QMkGiQo3kRKtvh9Mx5bEgiCR4cQfoGgQ4wxAQAA1kNqCAAAQAAAAAACAAAAEAAAAIAAAAAABAAAACAAAAAAAQAAAAgAAABAAAAAAAIAAAAQAAAAIAAAAAABAAAACAAAAEAAAAAAAgAAABAAAACAAAAAAAQAAAAgAAAAAAEAAAAIAAAAEAAAAIAAAAAABAAAACAAAAAAAQAAAAgAAABAAAAAAAIAAAC4iMwQsLAQQvzjF8YBAC7bnzrGgIU5AwAAAAIAAAAQAAAAgAAAAAAEAAAAIAAAAAABAAAACAAAAEAAAAAAAgAAABAAAACAAAAAAAEAAAAIAAAAQAAAAAACAAAAEAAAAIAAAAAABAAAACAAAAAAAQAAAAgAAABAAAAAgAAAAAAEAAAAIAAAAAABAAAACAAAAEAAAAAAAgAAABAAAACAAAAAAAQAAAAgAAAAQAAAAAACAAAAEAAAAIAAAAAABAAAACAAAAAAAQAAAAgAAABAAAAAAAIAAAAQAAAAIAAAAAABAAAACAAAAEAAAAAAAgAAABAAAACAAAAAAAQAAAAgAAAAAAEAAAAIAAAAQAAAAIAAAAAABAAAACAAAAAAAQAAAAgAAABAAAAAAAIAAAAQAAAAgAAAAAAEAAAAIAAAAEAAAAAAAgAAABAAAACAAAAAAAQAAAAgAAAAAAEAAAAIAAAAQAAAAAACAAAAEAAAACAAAAAAAQAAAAgAAABAAAAAAAIAAAAQAAAAgAAAAABWIzMEXMSr9I5BmD+748f911MXOwnZm3Br5JNb/aOVfvs2+sdZ0pt6wx/SjZiEqYvVtzYm4Yd0Y7EHNeNkW+4QYc9W+ij+1IzF1BsehY96Yfpv1jb7R2GV218kjdfp7UsetI14nMXeJX9f1tmWIUAAcFX+euv3BmFejaTfKrqtojs1A75v3O9k+evw7gf5o95Bq9jf6b1YypYchY86Wf68cW/wmTv9N+W2Tc2Ax1neyfL+xAz4pP9jq9j/onha/eTL9G4ny6s/yO/3X7WK/Z8X302+x7eh2cny/cajyYt91nvZKva3e/8x01jYm3C7neXfN+5XA6BVdPeK/akZ8KSx3W7mvaQxOVNbRbdV7K8uA56n9zrN3aNweRmwEY/3im6r2F9dBhykW+1sVwaU/mAIEABclb/d+p1BmFea9FtFd6/ozpgBzxv32tlueTbgYe+gVeTlT9nlZsCLxienP8JPuq1if+YM2Olk+XlnA+72fxxsbS0DtjrZbnk24H7/VavIy+OhGTOg23h43gKPei8HdyoDuFgG3OqcZUAZAJ0inzUDsu1OlvfOeZ3tZv9or+gOpv0KM6Bxb+SXCCsNgM7Zg9pbcQaM/BJBAIAA4FI5A7BYAOwV3U5xepy9N8/ZgPI39OVP2VVkwJv0Vifrtop8/gzYrZ8NuNv/YW94az8vng1nwN1OlmdJUd7R3pwZMPZsQHkGoHKn3e0lDRHrmgG321n+Y7rRKvbLGTVXBrSzMWcDtvpH5R7gEjNg5WcDNuJxOSyVIepmM7xuauEMaGf5q/RjUxQWOhQBLl08/TtU/j3jDcPwSpZ+zHC6whiSJFx85SHOtLWhPiwXG9uRFcJynh3xnCfjMlYYrscY1fZRgAAAAAAEAAAAcDlcAwCXrZ+kX2c/O0w3D9LNw3TzMN06TDdneWPQJEmeN+4dppsH6dZBunWYbh6mm89695e4bUfh9j+avxqs/CDdPGhsLfwq3v+mH//9xm8PK1v7Mt2sL/Yy3Tq4UY7DVnmnL9K7Cz+E7xv3T7f87E63e59ex313b6926cjzxr1vh6+LuBlPWkV3Ix5PXttxuNnJdo/Djeon896Lz4avon4dbrez/G1oruHT9k249a/mL8on7EG6VT55m/FksbW9Su98eePXgz1A+Y8P/SUzr8PtfzZ/ebbrOH1Qq7sGABAA8OE5SLcObmx1svJSuXzGAEiS5CRkXzU/72R5eZld3nu+9G3rNh52Gw/b2W55Pd8F383jcbbzONvpnF7p2B27TEzC19luO8vLK3d/Pnyt8Lzehua/m18MhmjnOl4EnCW9ztlF5NXJU4Ssk+XfNj4rP7wRTwaXrk7NgO8aD9pZ/lO4eRYAz8tv2UgGdBuPOuuaAU8bD542HnSyvFXknaJ7Y9EAKD3Jtp9k2+0i3yvyTtEN1+I18+XeYzBETQEAAgA4LwNmD4CRDNhZQQCMZMBSfodXZkC7yCcsE5PQznY7WX7BABjJgO1rGgDlmyaNzYCT0wx4dDOelMdhs2fAs8annSw/Djfz3ovqG1XVMuBhe+0zoHmxABjJgHCNLpodZIAzACAAgPMzIF3kf3U8Cdk32c6qf5AvcW2zbG1MwhIf1NvQXPUQXZXB6aNBBtzpDx3cFyH7JttpZ+Xbob7LgNvxf1NX/qzx4Jtsp7yLQWM87B3UpsejIjTW82n7tPFgiWt7km1fvyFa7t4DEAAA6668mKSaARv9N/XFipB91fy8mgG3408z3sWzxqflCYEyA+oBAIAAAODKMmDkDEA9A8rFZjkDMDYDBACAAADgPcqAqYuVl44sdhdlBhhqgGvA/wMAAAACAAAAEAAAAIAAAAAABAAAACAAAAAAAQAAAAgAAABAAAAAAAIAAAAQAAAAgAAAAAABAAAACAAAAEAAAAAAAgAAABAAAACAAAAAAAQAAAAgAAAAAAEAAAAIAAAAQAAAAIAAAAAABAAAACAAAAAAAQAAAAgAAABAAAAAAAIAAAAQAAAAgAAAAAAEAAAAIAAAAEAAAAAAAgAAABAAAACAAAAAAAQAAAAgAAAAAAEAAAAIAAAAQAAAAAACAAAAEAAAACAAAAAAAQAAAAgAAABAAAAAAAIAAAAQAAAAgAAAAAAEAAAAIAAAAAABAAAACAAAAEAAAACAAAAAAAQAAAAgAAAAAAEAAAAIAAAAQAAAAAACAAAAEAAAAIAAAAAABAAAACAAAABAAAAAAAIAAAAQAAAAgAAAAAAEAAAAIAAAAAABAAAACAAAAEAAAAAAAgAAABAAAAAgAAAAAAEAAAAIAAAAQAAAAAACAAAAEAAAAIAAAAAABAAAACAAAAAAAQAAAAgAAAAQAAAAgAAAAAAEAAAAIAAAAAABAAAACAAAAEAAAAAAAgAAABAAAACAAAAAAAQAAAAIAEMAAAACAAAAEAAAAIAAAAAABAAAACAAAAAAAQAAAAgAAABAAAAAAAIAAAAQAAAAgAAAAAABAAAACAAAAEAAAAAAAgAAABAAAACAAAAAAAQAAAAgAAAAAAEAAAAIAAAAQAAAAIAAAAAABAAAACAAAAAAAQAAAAgAAABAAAAAAAIAAAAQAAAAgAAAAAAEAAAAIAAAAEAAAAAAAgAAABAAAACAAAAAAAQAAAAgAAAAAAEAAAAIAAAAQAAAAAACAAAAEAAAACAAAAAAAQAAAAgAAABAAAAAAAIAAAAQAAAAgAAAAAAEAAAAIAAAAAABAAAACAAAAEAAAACAAAAAAAQAAAAgAAAAAAEAAAAIAAAAQAAAAAACAAAAEAAAAIAAAAAABAAAACAAAABAAAAAAAIAAAAQAAAAgAAAAAAEAAAAIAAAAAABAAAACAAAAEAAAAAAAgAAABAAAAAgAAAAAAEAAAAIAAAAQAAAAAACAAAAEAAAAIAAAAAABAAAACAAAAAAAQAAAAgAAAAQAAAAgAAAAAAEAAAAIAAAAAABAAAACAAAAEAAAAAAAgAAABAAAACAAAAAAAQAAAAIAAAAQAAAAAACAAAAEAAAAIAAAAAABAAAACAAAAAAAQAAAAgAAABAAAAAAAIAAAAQAAAAIAAAAAABAAAACAAAAEAAAAAAAgAAALhCIcZoFFh8AoVgEADgkjl+QwAAAAAz8RIgAAAQAAAAgAAAAAAEAAAA8GHIDMFcvOkNAMD7w/vZCIDL8Ju/fHkWA0mSxEobjKRCHP7w3URNkiSc/jn76umfOPzh4KtxdOF3f8XhDwc3j7WVT11brK188GEcd9dJGDz8MLwJobJho2uLtZVPXVusrXzwYRxdOEmSUFnV6YfVr8aRhd9t2PjlJ6wtjlv43Xd5nlmRJEkMo9+XePb4YnUjQ6x95vTv04c22OAQ48jYhiSW/xxZ7dl2DQan/pnqbYdWO3V73v0j1rZw7PbEWN/CwVBM3Z4k1rZw2vZUPjP2thO2Z8ygTdye87+J47ewtrbzv63nbc/oamNtGAeTNg49F4a+VH3SDS9WXf/Qs2nmxYZ2F8OLVYdx3JeGF4vj1j/0QGZcLFZ2e6OLjT6QOG5r6w8k1jajvlg870ujc++c704c2XtMGvah+XD+sA9Pm6FpMHGx2rCPzMnR/XZletd2gyNLxvpUGVkgjlv/yOydbwOqC8++AUO3GjNnknHTPqlt4XkbEM95jBM2YPQxjt+AoQXGrWp5GzA0N2begJFdaPjzY4emC/ASIAAAEAAAAIAAAAAABAAAACAAAAAAAQAAAAgAAABAAAAAAMsT/Pdp842X/wkYAOC94VB2Af4nYPMMYN2F4NdhmEgf6pgbhAV4CRAAAAgAAABAAAAAAB80L1YDAIA14gwAAACsEe8CNKq8nHyuEyMjN6lekO4EC8CV7MYn74cvvqsffNJ+fh3mUv27PMs0m3GFE+7F+BtkAXAFU23hm5heAFdo8k54Wbt67z947Q8JyokUQhhbevP+rK82ZHXlk+/Fc9kgr4KXAF30wD3GaCYBrNuu3mGECbPcVZlOBvkyOQMwU0rOO2+caQJ4H/be875mYPab2L2vz3HkhFM9XgN8+c/liwyys3YDzgDMtAsozT5vBr8rMtUArvDobd799ly7epRkfZotPJFMvNmfy/MOcrnkAlf+XGPOAEx/Ns77nBzMLT9IAK7qcGH2nfBiu3rWZzqNfeF4fZotfMwwODA1Cac+lxcb5Oq3z4v3BMB8k6/e6CYQwHXd29vVUz9GX9FEMsdWemAmq8byEqBZn/PVk0eTL/yt3sQYAlyyhU/bzrWrZ80nUv2ri00kxwzzDvK8B2aexWM5AzDH/HMRMMAHut+eet7ffpt5J9K87zdfPXj1FvUXOaAyyBf3f4gK2QyEYldQAAAAAElFTkSuQmCC'>"
      ],
      "text/plain": [
       "<IPython.core.display.HTML object>"
      ]
     },
     "execution_count": 52,
     "metadata": {},
     "output_type": "execute_result"
    }
   ],
   "source": [
    "figVelocityMag = glucifer.Figure(figsize=(1024,384))\n",
    "figVelocityMag.append( glucifer.objects.Surface(mesh, pressureField, logScale=True, valueRange=[1e-15,5e-8]) )\n",
    "figVelocityMag.show()"
   ]
  },
  {
   "cell_type": "code",
   "execution_count": 42,
   "metadata": {
    "collapsed": false
   },
   "outputs": [],
   "source": [
    "figSwarm = glucifer.Figure(figsize=(1024,384))\n",
    "figSwarm.append( glucifer.objects.Points(gSwarm,materialVariable, colours='brown white blue red'))\n",
    "figSwarm.append( glucifer.objects.Mesh(mesh))\n",
    "figSwarm.show()\n",
    "figSwarm.save_database('test.gldb')"
   ]
  },
  {
   "cell_type": "code",
   "execution_count": 53,
   "metadata": {
    "collapsed": false
   },
   "outputs": [
    {
     "ename": "NameError",
     "evalue": "name 'start' is not defined",
     "output_type": "error",
     "traceback": [
      "\u001b[0;31m---------------------------------------------------------------------------\u001b[0m",
      "\u001b[0;31mNameError\u001b[0m                                 Traceback (most recent call last)",
      "\u001b[0;32m<ipython-input-53-dc3c2f2e7c24>\u001b[0m in \u001b[0;36m<module>\u001b[0;34m()\u001b[0m\n\u001b[0;32m----> 1\u001b[0;31m \u001b[0mmachine_time\u001b[0m \u001b[0;34m=\u001b[0m \u001b[0;34m(\u001b[0m\u001b[0mtime\u001b[0m\u001b[0;34m.\u001b[0m\u001b[0mclock\u001b[0m\u001b[0;34m(\u001b[0m\u001b[0;34m)\u001b[0m\u001b[0;34m-\u001b[0m\u001b[0mstart\u001b[0m\u001b[0;34m)\u001b[0m\u001b[0;34m\u001b[0m\u001b[0m\n\u001b[0m\u001b[1;32m      2\u001b[0m \u001b[0;32mprint\u001b[0m\u001b[0;34m(\u001b[0m\u001b[0;34m\"total time is: \"\u001b[0m \u001b[0;34m+\u001b[0m \u001b[0mstr\u001b[0m\u001b[0;34m(\u001b[0m\u001b[0mmachine_time\u001b[0m\u001b[0;34m)\u001b[0m\u001b[0;34m)\u001b[0m\u001b[0;34m\u001b[0m\u001b[0m\n",
      "\u001b[0;31mNameError\u001b[0m: name 'start' is not defined"
     ]
    }
   ],
   "source": [
    "machine_time = (time.clock()-start)\n",
    "print(\"total time is: \" + str(machine_time))"
   ]
  },
  {
   "cell_type": "code",
   "execution_count": 54,
   "metadata": {
    "collapsed": false
   },
   "outputs": [
    {
     "data": {
      "text/plain": [
       "1100.5338620296968"
      ]
     },
     "execution_count": 54,
     "metadata": {},
     "output_type": "execute_result"
    }
   ],
   "source": [
    "#Sanity check for periodic conditions\n",
    "velocityField.evaluate(TWalls)[:,0].max()"
   ]
  },
  {
   "cell_type": "code",
   "execution_count": 31,
   "metadata": {
    "collapsed": false
   },
   "outputs": [
    {
     "name": "stdout",
     "output_type": "stream",
     "text": [
      "TWalls x vel is: 3.17721915245\n",
      "IWalls x vel is: -0.143166437745\n"
     ]
    }
   ],
   "source": [
    "print(\"TWalls x vel is: \" + str(velocityField.evaluate(TWalls)[:,0].max()))\n",
    "print(\"IWalls x vel is: \" + str(velocityField.evaluate(IWalls)[:,0].max()))\n"
   ]
  },
  {
   "cell_type": "code",
   "execution_count": null,
   "metadata": {
    "collapsed": true
   },
   "outputs": [],
   "source": [
    "ts = ((D*1e3)**2)/k\n",
    "secperyear = (3600*24*365)\n",
    "dt*ts/secperyear\n",
    "\n",
    "#2.25895987733e-05*ts/secperyear"
   ]
  }
 ],
 "metadata": {
  "kernelspec": {
   "display_name": "Python 2",
   "language": "python",
   "name": "python2"
  },
  "language_info": {
   "codemirror_mode": {
    "name": "ipython",
    "version": 2
   },
   "file_extension": ".py",
   "mimetype": "text/x-python",
   "name": "python",
   "nbconvert_exporter": "python",
   "pygments_lexer": "ipython2",
   "version": "2.7.11"
  }
 },
 "nbformat": 4,
 "nbformat_minor": 0
}
