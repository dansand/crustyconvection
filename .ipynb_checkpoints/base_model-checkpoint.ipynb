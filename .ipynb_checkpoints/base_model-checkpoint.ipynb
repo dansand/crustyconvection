{
 "cells": [
  {
   "cell_type": "markdown",
   "metadata": {
    "collapsed": true
   },
   "source": [
    "Crameri-Tackley model\n",
    "=======\n",
    "\n",
    "From Cramer and Tackley 2015\n",
    "--------\n",
    "\n"
   ]
  },
  {
   "cell_type": "markdown",
   "metadata": {
    "collapsed": true
   },
   "source": [
    "\n",
    "\n",
    "\n",
    "References\n",
    "====\n",
    "\n",
    "\n"
   ]
  },
  {
   "cell_type": "markdown",
   "metadata": {},
   "source": [
    "Load python functions needed for underworld. Some additional python functions from os, math and numpy used later on."
   ]
  },
  {
   "cell_type": "code",
   "execution_count": 24,
   "metadata": {
    "collapsed": false
   },
   "outputs": [],
   "source": [
    "import underworld as uw\n",
    "import math\n",
    "from underworld import function as fn\n",
    "import glucifer\n",
    "#import matplotlib.pyplot as pyplot\n",
    "import time\n",
    "import numpy as np\n",
    "import os\n",
    "import sys\n",
    "import natsort\n",
    "import shutil\n",
    "from easydict import EasyDict as edict\n",
    "\n",
    "from mpi4py import MPI\n",
    "comm = MPI.COMM_WORLD\n",
    "rank = comm.Get_rank()"
   ]
  },
  {
   "cell_type": "code",
   "execution_count": 25,
   "metadata": {
    "collapsed": false
   },
   "outputs": [
    {
     "name": "stdout",
     "output_type": "stream",
     "text": [
      "/Users/dansandiford/Documents/programming/earthsci_code/python/crustyconvection\r\n",
      "analysis.ipynb    \u001b[1m\u001b[34mcheckpoint\u001b[m\u001b[m        \u001b[1m\u001b[34mstickyairtests\u001b[m\u001b[m\r\n",
      "base_model.ipynb  raijin_single.pbs \u001b[1m\u001b[34mtemp_ics\u001b[m\u001b[m\r\n",
      "base_model.py     \u001b[1m\u001b[34mresults\u001b[m\u001b[m           test.gldb\r\n"
     ]
    }
   ],
   "source": [
    "#Display working directory info if in nb mode\n",
    "if (len(sys.argv) > 1):\n",
    "    if (sys.argv[1] == '-f'):\n",
    "        !pwd && ls\n",
    "        "
   ]
  },
  {
   "cell_type": "code",
   "execution_count": 26,
   "metadata": {
    "collapsed": false
   },
   "outputs": [],
   "source": [
    "############\n",
    "#Model name.  \n",
    "############\n",
    "Model = \"T\"\n",
    "ModNum = 9\n",
    "\n",
    "if len(sys.argv) == 1:\n",
    "    ModIt = \"Base\"\n",
    "elif sys.argv[1] == '-f':\n",
    "    ModIt = \"Base\"\n",
    "else:\n",
    "    ModIt = str(sys.argv[1])"
   ]
  },
  {
   "cell_type": "markdown",
   "metadata": {},
   "source": [
    "Set physical constants and parameters, including the Rayleigh number (*RA*). "
   ]
  },
  {
   "cell_type": "code",
   "execution_count": 27,
   "metadata": {
    "collapsed": true
   },
   "outputs": [],
   "source": [
    "###########\n",
    "#Standard output directory setup\n",
    "###########\n",
    "\n",
    "\n",
    "outputPath = \"results\" + \"/\" +  str(Model) + \"/\" + str(ModNum) + \"/\" + str(ModIt) + \"/\"\n",
    "imagePath = outputPath + 'images/'\n",
    "filePath = outputPath + 'files/'\n",
    "checkpointPath = outputPath + 'checkpoint/'\n",
    "dbPath = outputPath + 'gldbs/'\n",
    "outputFile = 'results_model' + Model + '_' + str(ModNum) + '_' + str(ModIt) + '.dat'\n",
    "\n",
    "if uw.rank()==0:\n",
    "    # make directories if they don't exist\n",
    "    if not os.path.isdir(outputPath):\n",
    "        os.makedirs(outputPath)\n",
    "    if not os.path.isdir(checkpointPath):\n",
    "        os.makedirs(checkpointPath)\n",
    "    if not os.path.isdir(imagePath):\n",
    "        os.makedirs(imagePath)\n",
    "    if not os.path.isdir(dbPath):\n",
    "        os.makedirs(dbPath)\n",
    "    if not os.path.isdir(filePath):\n",
    "        os.makedirs(filePath)\n",
    "        \n",
    "comm.Barrier() #Barrier here so not procs run the check in the next cell too early "
   ]
  },
  {
   "cell_type": "code",
   "execution_count": 28,
   "metadata": {
    "collapsed": false
   },
   "outputs": [
    {
     "name": "stdout",
     "output_type": "stream",
     "text": [
      "results/T/9/Base/checkpoint/ is empty\n",
      "results/T/9/Base/checkpoint/100 has files\n",
      "results/T/9/Base/checkpoint/1000 has files\n",
      "results/T/9/Base/checkpoint/1025 has files\n",
      "results/T/9/Base/checkpoint/1050 has files\n",
      "results/T/9/Base/checkpoint/1075 has files\n",
      "results/T/9/Base/checkpoint/1100 has files\n",
      "results/T/9/Base/checkpoint/1125 has files\n",
      "results/T/9/Base/checkpoint/1150 has files\n",
      "results/T/9/Base/checkpoint/1175 has files\n",
      "results/T/9/Base/checkpoint/1200 has files\n",
      "results/T/9/Base/checkpoint/1225 has files\n",
      "results/T/9/Base/checkpoint/125 has files\n",
      "results/T/9/Base/checkpoint/1250 has files\n",
      "results/T/9/Base/checkpoint/1275 has files\n",
      "results/T/9/Base/checkpoint/1300 has files\n",
      "results/T/9/Base/checkpoint/1325 has files\n",
      "results/T/9/Base/checkpoint/1350 has files\n",
      "results/T/9/Base/checkpoint/1375 has files\n",
      "results/T/9/Base/checkpoint/1400 has files\n",
      "results/T/9/Base/checkpoint/1425 has files\n",
      "results/T/9/Base/checkpoint/1450 has files\n",
      "results/T/9/Base/checkpoint/1475 has files\n",
      "results/T/9/Base/checkpoint/150 has files\n",
      "results/T/9/Base/checkpoint/175 has files\n",
      "results/T/9/Base/checkpoint/200 has files\n",
      "results/T/9/Base/checkpoint/225 has files\n",
      "results/T/9/Base/checkpoint/25 has files\n",
      "results/T/9/Base/checkpoint/250 has files\n",
      "results/T/9/Base/checkpoint/275 has files\n",
      "results/T/9/Base/checkpoint/300 has files\n",
      "results/T/9/Base/checkpoint/325 has files\n",
      "results/T/9/Base/checkpoint/350 has files\n",
      "results/T/9/Base/checkpoint/375 has files\n",
      "results/T/9/Base/checkpoint/400 has files\n",
      "results/T/9/Base/checkpoint/425 has files\n",
      "results/T/9/Base/checkpoint/450 has files\n",
      "results/T/9/Base/checkpoint/475 has files\n",
      "results/T/9/Base/checkpoint/50 has files\n",
      "results/T/9/Base/checkpoint/500 has files\n",
      "results/T/9/Base/checkpoint/525 has files\n",
      "results/T/9/Base/checkpoint/550 has files\n",
      "results/T/9/Base/checkpoint/575 has files\n",
      "results/T/9/Base/checkpoint/600 has files\n",
      "results/T/9/Base/checkpoint/625 has files\n",
      "results/T/9/Base/checkpoint/650 has files\n",
      "results/T/9/Base/checkpoint/675 has files\n",
      "results/T/9/Base/checkpoint/700 has files\n",
      "results/T/9/Base/checkpoint/725 has files\n",
      "results/T/9/Base/checkpoint/75 has files\n",
      "results/T/9/Base/checkpoint/750 has files\n",
      "results/T/9/Base/checkpoint/775 has files\n",
      "results/T/9/Base/checkpoint/800 has files\n",
      "results/T/9/Base/checkpoint/825 has files\n",
      "results/T/9/Base/checkpoint/850 has files\n",
      "results/T/9/Base/checkpoint/875 has files\n",
      "results/T/9/Base/checkpoint/900 has files\n",
      "results/T/9/Base/checkpoint/925 has files\n",
      "results/T/9/Base/checkpoint/950 has files\n",
      "results/T/9/Base/checkpoint/975 has files\n"
     ]
    }
   ],
   "source": [
    "###########\n",
    "#Check if starting from checkpoint\n",
    "###########\n",
    "\n",
    "checkdirs = []\n",
    "for dirpath, dirnames, files in os.walk(checkpointPath):\n",
    "    if files:\n",
    "        print dirpath, 'has files'\n",
    "        checkpointLoad = True\n",
    "        checkdirs.append(dirpath)\n",
    "    if not files:\n",
    "        print dirpath, 'is empty'\n",
    "        checkpointLoad = False\n",
    "        \n"
   ]
  },
  {
   "cell_type": "code",
   "execution_count": 7,
   "metadata": {
    "collapsed": false
   },
   "outputs": [],
   "source": [
    "###########\n",
    "#Physical parameters\n",
    "###########\n",
    "\n",
    "#The Slippy rheology class will contain dimensional and nondimensional values, linked in a self-consistent way by scaling paramters\n",
    "#lowermantle.nondimensional['cohesion']\n",
    "#Where lowermantle is a material class (generated within a rheology class); and non dimensional is a dictionary\n",
    "\n",
    "#UW naming conventions: \n",
    "#module_name, package_name, ClassName, function_name, method_name, \n",
    "#ExceptionName, propertyName GLOBAL_CONSTANT_NAME, globalVarName, instanceVarName, functionParameterName, localVarName\n",
    "###########\n",
    "\n",
    "\n",
    "#dimensional parameter dictionary\n",
    "dp = edict({'LS':2890.*1e3,\n",
    "           'rho':3300,\n",
    "           'g':9.81, \n",
    "           'eta0':1e23,\n",
    "           'k':10**-6,\n",
    "           'a':1.25*10**-5, \n",
    "           'TS':273.,\n",
    "           'TB':2773.,\n",
    "           'deltaT':2500, \n",
    "           'cohesion':1e7, \n",
    "           'E':240000., \n",
    "           'R':8.314,\n",
    "           'V':6.34*(10**-7) })\n",
    "\n",
    "#non-dimensional parameter dictionary\n",
    "ndp = edict({'RA':1e6, \n",
    "              'LS':1.,\n",
    "              'eta0':1.,\n",
    "              'k':1.,\n",
    "              'fc':0.1,\n",
    "              'E':11.55,\n",
    "              'V':3.0,\n",
    "              'H':20.,\n",
    "              'TR':(1600./2500.),\n",
    "              'TS':(dp.TS/2500.),\n",
    "              'RD':1.,\n",
    "              'cohesion':1577.})\n",
    "              #'cohesion':5*1577.})\n",
    "\n",
    "\n",
    "#A few parameters defining lengths scales, affects materal transistions etc.\n",
    "MANTLETOCRUST = (18.*1e3)/dp.LS #Crust depth\n",
    "CRUSTTOMANTLE = (300.*1e3)/dp.LS \n",
    "LITHTOMANTLE = (660.*1e3)/dp.LS \n",
    "MANTLETOLITH = (200.*1e3)/dp.LS \n",
    "TOPOHEIGHT = (15.*1e3)/dp.LS  #rock-air topography limits\n",
    "AVGTEMP = 0.53 #Used to define lithosphere\n",
    "\n",
    "\n",
    "#Compositional Rayliegh number of rock-air\n",
    "ETAREF = dp.rho*dp.g*dp.a*dp.deltaT*((dp.LS)**3)/(ndp.RA*dp.k) #equivalent dimensional reference viscosity\n",
    "RC = (3300.*dp.g*(dp.LS)**3)/(ETAREF *dp.k) #Composisitional Rayleigh number for rock-air buoyancy force\n",
    "COMP_RA_FACT = RC/ndp.RA\n",
    "\n",
    "\n",
    "#Additional dimensionless paramters\n",
    "AIRVISCOSITY = 0.001\n",
    "AIRDENSITY = ndp.RA*COMP_RA_FACT\n",
    "\n",
    "\n",
    "#######################To be replaced soon\n",
    "#Physical parameters that can be defined with STDIN,\n",
    "#The == '-f': check is a a hack check to see cover the notebook case\n",
    "if len(sys.argv) == 1:\n",
    "    ndp.cohesion = ndp.cohesion\n",
    "elif sys.argv[1] == '-f':\n",
    "    ndp.cohesion = ndp.cohesion\n",
    "else:\n",
    "    ndp.cohesion = float(sys.argv[1])*newvisc"
   ]
  },
  {
   "cell_type": "code",
   "execution_count": 8,
   "metadata": {
    "collapsed": false
   },
   "outputs": [],
   "source": [
    "###########\n",
    "#Model setup parameters\n",
    "###########\n",
    "\n",
    "stickyAir = False\n",
    "\n",
    "MINX = -1.\n",
    "MINY = 0.\n",
    "MAXX = 1.0\n",
    "\n",
    "#MAXY = 1.035\n",
    "MAXY = 1.\n",
    "\n",
    "if MINX == 0.:\n",
    "    squareModel = True\n",
    "else: \n",
    "    squareModel = False\n",
    "    \n",
    "    \n",
    "dim = 2          # number of spatial dimensions\n",
    "\n",
    "\n",
    "#MESH STUFF\n",
    "\n",
    "RES = 128\n",
    "\n",
    "if MINX == 0.:\n",
    "    Xres = RES\n",
    "else:\n",
    "    Xres = 2*RES\n",
    "\n",
    "if stickyAir:\n",
    "    Yres = RES + 8\n",
    "    MAXY = float(Yres)/RES\n",
    "    \n",
    "else:\n",
    "    Yres = RES\n",
    "    MAXY = 1.\n",
    "\n",
    "\n",
    "periodic = [True,False]\n",
    "elementType = \"Q1/dQ0\"\n",
    "#elementType =\"Q2/DPC1\"\n",
    "\n",
    "refineMesh = False\n",
    "\n",
    "s = 1.2 #Mesh refinement parameter\n",
    "ALPHA = 11. #Mesh refinement parameter\n",
    "\n",
    "#System/Solver stuff\n",
    "\n",
    "PIC_integration=False"
   ]
  },
  {
   "cell_type": "code",
   "execution_count": 9,
   "metadata": {
    "collapsed": true
   },
   "outputs": [],
   "source": [
    "###########\n",
    "#Model Runtime parameters\n",
    "###########\n",
    "\n",
    "swarm_update = 25\n",
    "swarm_repop = 25\n",
    "files_output = 1e6\n",
    "gldbs_output = 25\n",
    "images_output = 1e6\n",
    "checkpoint_every = 25\n",
    "metric_output = 25\n",
    "sticky_air_temp = 10\n",
    "\n",
    "comm.Barrier() #Barrier here so not procs run the check in the next cell too early \n",
    "\n",
    "assert metric_output <= checkpoint_every, 'Checkpointing should run less or as ofen as metric output'\n",
    "assert (metric_output >= swarm_update), 'Swarm update is needed before checkpointing'\n",
    "assert metric_output >= sticky_air_temp, 'Sticky air temp should be updated more frequently that metrics'\n"
   ]
  },
  {
   "cell_type": "code",
   "execution_count": 10,
   "metadata": {
    "collapsed": false
   },
   "outputs": [],
   "source": [
    "###########\n",
    "#Model output parameters\n",
    "###########\n",
    "\n",
    "#Do you want to write hdf5 files - Temp, RMS, viscosity, stress?\n",
    "writeFiles = True\n",
    "loadTemp = True\n"
   ]
  },
  {
   "cell_type": "code",
   "execution_count": 11,
   "metadata": {
    "collapsed": false
   },
   "outputs": [],
   "source": [
    "mesh = uw.mesh.FeMesh_Cartesian( elementType = (\"Q1/dQ0\"),\n",
    "                                 elementRes  = (Xres, Yres), \n",
    "                                 minCoord    = (MINX,MINY), \n",
    "                                 maxCoord=(MAXX,MAXY), periodic=periodic)\n",
    "\n",
    "\n",
    "\n",
    "velocityField       = uw.mesh.MeshVariable( mesh=mesh,         nodeDofCount=dim )\n",
    "pressureField       = uw.mesh.MeshVariable( mesh=mesh.subMesh, nodeDofCount=1 )\n",
    "temperatureField    = uw.mesh.MeshVariable( mesh=mesh,         nodeDofCount=1 )\n",
    "temperatureDotField = uw.mesh.MeshVariable( mesh=mesh,         nodeDofCount=1 )"
   ]
  },
  {
   "cell_type": "code",
   "execution_count": 12,
   "metadata": {
    "collapsed": false
   },
   "outputs": [
    {
     "data": {
      "text/plain": [
       "(256, 128, -1.0, 1.0, 0.0, 1.0, [True, False], 'Q1/dQ0', 2)"
      ]
     },
     "execution_count": 12,
     "metadata": {},
     "output_type": "execute_result"
    }
   ],
   "source": [
    "Xres, Yres, MINX,MAXX,MINY,MAXY, periodic, elementType, dim "
   ]
  },
  {
   "cell_type": "markdown",
   "metadata": {},
   "source": [
    "##Refine mesh"
   ]
  },
  {
   "cell_type": "markdown",
   "metadata": {
    "collapsed": true
   },
   "source": [
    "if refineMesh:\n",
    "    alpha=ALPHA\n",
    "    newys = []\n",
    "    newxs = []\n",
    "    for index, coord in enumerate(linearMesh.data):\n",
    "        y0 = coord[1]\n",
    "        x0 = abs(coord[0])\n",
    "        if y0 >= 1.0:\n",
    "            newy = y0\n",
    "        else:\n",
    "            newy = (math.log(alpha*y0 + math.e) - 1)*(1/(math.log(alpha + math.e) - 1))\n",
    "        newx = (math.log((alpha/2.)*x0 + math.e) - 1)*(1/(math.log((alpha/2.) + math.e) - 1))\n",
    "        if coord[0] <= 0:\n",
    "            newx = -1.*newx\n",
    "        newys.append(newy)\n",
    "        newxs.append(newx)\n",
    "        \n",
    "    with linearMesh.deform_mesh():\n",
    "        linearMesh.data[:,1] = newys\n",
    "        linearMesh.data[:,0] = newxs"
   ]
  },
  {
   "cell_type": "code",
   "execution_count": 13,
   "metadata": {
    "collapsed": false
   },
   "outputs": [],
   "source": [
    "#THis one for the rectangular mesh\n",
    "\n",
    "if refineMesh:\n",
    "    alpha = ALPHA\n",
    "    newys = []\n",
    "    newxs = []\n",
    "    for index, coord in enumerate(mesh.data):\n",
    "        y0 = coord[1]\n",
    "        x0 = abs(coord[0])\n",
    "        if y0 == MAXY:\n",
    "            newy = y0\n",
    "        else:\n",
    "            ynorm = y0/MAXY\n",
    "            newy = MAXY*(math.log(alpha*ynorm + math.e) - 1)*(1/(math.log(alpha + math.e) - 1))\n",
    "        if coord[0] > 0:\n",
    "            newx = (math.e**(x0*(math.log((alpha/2.) + math.e) - 1) + 1 ) - math.e)/(alpha/2.)\n",
    "        else:\n",
    "            newx = -1.*(math.e**(x0*(math.log((alpha/2.) + math.e) - 1) + 1 ) - math.e)/(alpha/2.)\n",
    "        newys.append(newy)\n",
    "        newxs.append(newx)\n",
    "        #print y0,newy\n",
    "\n",
    "    with mesh.deform_mesh():\n",
    "            mesh.data[:,1] = newys\n",
    "            mesh.data[:,0] = newxs"
   ]
  },
  {
   "cell_type": "markdown",
   "metadata": {},
   "source": [
    "#ICs and BCs"
   ]
  },
  {
   "cell_type": "code",
   "execution_count": 14,
   "metadata": {
    "collapsed": false
   },
   "outputs": [],
   "source": [
    "# Initialise data.. Note that we are also setting boundary conditions here\n",
    "velocityField.data[:] = [0.,0.]\n",
    "pressureField.data[:] = 0.\n",
    "temperatureField.data[:] = 0.\n",
    "temperatureDotField.data[:] = 0.\n",
    "\n",
    "def wbl(x, w0 = 0.06):\n",
    "    delx = 1- abs(x)\n",
    "    Wbl = w0*math.sqrt(delx)\n",
    "    if Wbl== 0.: #to avoid division by zero\n",
    "        Wbl = 1e-8\n",
    "    return Wbl\n",
    "\n",
    "\n",
    "\n",
    "def tempf(z,w,t0=0.64):\n",
    "    temp = t0*math.erf((1-z)/w)\n",
    "    return temp\n",
    "\n"
   ]
  },
  {
   "cell_type": "code",
   "execution_count": 15,
   "metadata": {
    "collapsed": false
   },
   "outputs": [],
   "source": [
    "for index, coord in enumerate(mesh.data):\n",
    "    w = wbl(coord[0])\n",
    "    t = tempf(coord[1], w)\n",
    "    temperatureField.data[index] = t\n",
    "\n",
    "\n",
    "for index, coord in enumerate(mesh.data):\n",
    "    if abs(coord[0]) < wbl(0)/2. and coord[1] > 0.5:\n",
    "        w = wbl(0)/2.\n",
    "        d = w - abs(coord[0])\n",
    "        t = tempf(d, coord[1], w)\n",
    "        temperatureField.data[index] = t\n",
    "        \n",
    "        \n",
    "\n",
    "#Set sticky air Temp to zero\n",
    "\n",
    "for index, coord in enumerate(mesh.data):\n",
    "    if coord[1] > 1.:\n",
    "        temperatureField.data[index] = 0."
   ]
  },
  {
   "cell_type": "code",
   "execution_count": 16,
   "metadata": {
    "collapsed": true
   },
   "outputs": [],
   "source": [
    "#For notebook runs\n",
    "#ModIt = \"96\""
   ]
  },
  {
   "cell_type": "code",
   "execution_count": 17,
   "metadata": {
    "collapsed": false
   },
   "outputs": [],
   "source": [
    "# Get the actual sets \n",
    "#\n",
    "#  HJJJJJJH\n",
    "#  I      I\n",
    "#  I      I\n",
    "#  I      I\n",
    "#  HJJJJJJH\n",
    "#  \n",
    "#  Note that H = I & J \n",
    "\n",
    "# Note that we use operator overloading to combine sets\n",
    "# send boundary condition information to underworld\n",
    "IWalls = mesh.specialSets[\"MinI_VertexSet\"] + mesh.specialSets[\"MaxI_VertexSet\"]\n",
    "JWalls = mesh.specialSets[\"MinJ_VertexSet\"] + mesh.specialSets[\"MaxJ_VertexSet\"]\n",
    "TWalls = mesh.specialSets[\"MaxJ_VertexSet\"]\n",
    "BWalls = mesh.specialSets[\"MinJ_VertexSet\"]"
   ]
  },
  {
   "cell_type": "code",
   "execution_count": null,
   "metadata": {
    "collapsed": true
   },
   "outputs": [],
   "source": []
  },
  {
   "cell_type": "code",
   "execution_count": 18,
   "metadata": {
    "collapsed": false
   },
   "outputs": [],
   "source": [
    "# Now setup the dirichlet boundary condition\n",
    "# Note that through this object, we are flagging to the system \n",
    "# that these nodes are to be considered as boundary conditions. \n",
    "# Also note that we provide a tuple of sets.. One for the Vx, one for Vy.\n",
    "freeslipBC = uw.conditions.DirichletCondition( variable      = velocityField, \n",
    "                                               indexSetsPerDof = (None, JWalls) )\n",
    "\n",
    "# also set dirichlet for temp field\n",
    "tempBC = uw.conditions.DirichletCondition(     variable=temperatureField, \n",
    "                                              indexSetsPerDof=(JWalls,) )\n",
    "\n",
    "\n",
    "# set initial conditions (and boundary values)\n",
    "velocityField.data[:] = [0.,0.]\n",
    "pressureField.data[:] = 0.\n",
    "\n",
    "\n",
    "\n"
   ]
  },
  {
   "cell_type": "markdown",
   "metadata": {},
   "source": [
    "##Add Random 125 K temp perturbation\n"
   ]
  },
  {
   "cell_type": "code",
   "execution_count": 19,
   "metadata": {
    "collapsed": true
   },
   "outputs": [],
   "source": [
    "tempNump = temperatureField.data\n",
    "\n",
    "#In gerneral we only want to do this on the initial setup, not restarts\n",
    "\n",
    "if not checkpointLoad:\n",
    "    for index, coord in enumerate(mesh.data):\n",
    "        pertCoeff = (0.05*np.random.rand(1)[0])\n",
    "        ict = tempNump[index]\n",
    "        tempNump[index] = ict + pertCoeff"
   ]
  },
  {
   "cell_type": "markdown",
   "metadata": {},
   "source": [
    "##Reset bottom Dirichlet conds."
   ]
  },
  {
   "cell_type": "code",
   "execution_count": 20,
   "metadata": {
    "collapsed": false
   },
   "outputs": [],
   "source": [
    "# Set temp boundaries \n",
    "# on the boundaries\n",
    "for index in mesh.specialSets[\"MinJ_VertexSet\"]:\n",
    "    temperatureField.data[index] = ndp.TR\n",
    "for index in mesh.specialSets[\"MaxJ_VertexSet\"]:\n",
    "    temperatureField.data[index] = ndp.TS"
   ]
  },
  {
   "cell_type": "code",
   "execution_count": 21,
   "metadata": {
    "collapsed": false
   },
   "outputs": [],
   "source": [
    "#temperatureField.evaluate(IWalls).min()"
   ]
  },
  {
   "cell_type": "markdown",
   "metadata": {},
   "source": [
    "#Particles"
   ]
  },
  {
   "cell_type": "code",
   "execution_count": 22,
   "metadata": {
    "collapsed": false
   },
   "outputs": [],
   "source": [
    "###########\n",
    "#Material Swarm and variables\n",
    "###########\n",
    "\n",
    "gSwarm = uw.swarm.Swarm(mesh=mesh)\n",
    "materialVariable = gSwarm.add_variable( dataType=\"char\", count=1 )\n",
    "rockIntVar = gSwarm.add_variable( dataType=\"double\", count=1 )\n",
    "airIntVar = gSwarm.add_variable( dataType=\"double\", count=1 )\n",
    "lithIntVar = gSwarm.add_variable( dataType=\"double\", count=1 )\n",
    "\n",
    "varlist = [materialVariable, rockIntVar, airIntVar, lithIntVar]\n",
    "varnames = ['materialVariable', 'rockIntVar', 'airIntVar', 'lithIntVar']"
   ]
  },
  {
   "cell_type": "code",
   "execution_count": 22,
   "metadata": {
    "collapsed": true
   },
   "outputs": [],
   "source": [
    "###########\n",
    "#Swarms for surface intragrals when using Sticky air\n",
    "###########\n",
    "\n",
    "snum = 1000.\n",
    "dx = (mesh.data[:,0].max()- mesh.data[:,0].min())/snum\n",
    "yp = 0.9947 #1. - yelsize/2. at res = 96\n",
    "\n",
    "mesh.data[:,0].max()\n",
    "xps = np.linspace(mesh.data[:,0].min(),mesh.data[:,0].max(), snum)\n",
    "yps = [yp for i in xps]\n",
    "\n",
    "surfintswarm = uw.swarm.Swarm( mesh=mesh )\n",
    "dumout = surfintswarm.add_particles_with_coordinates(np.array((xps,yps)).T)\n",
    "\n",
    "yps = [ 1.- yp  for i in xps]\n",
    "\n",
    "baseintswarm = uw.swarm.Swarm( mesh=mesh)\n",
    "dumout = baseintswarm.add_particles_with_coordinates(np.array((xps,yps)).T)"
   ]
  },
  {
   "cell_type": "markdown",
   "metadata": {},
   "source": [
    "#Initialise swarm variables, or Swarm checkpoint load"
   ]
  },
  {
   "cell_type": "code",
   "execution_count": 23,
   "metadata": {
    "collapsed": false
   },
   "outputs": [],
   "source": [
    "mantleIndex = 0\n",
    "lithosphereIndex = 1\n",
    "crustIndex = 2\n",
    "airIndex = 3\n",
    "\n",
    "\n",
    "if checkpointLoad:\n",
    "    checkpointLoadDir = natsort.natsorted(checkdirs)[-1]\n",
    "    temperatureField.load(os.path.join(checkpointLoadDir, \"temperatureField\" + \".hdf5\"))\n",
    "    pressureField.load(os.path.join(checkpointLoadDir, \"pressureField\" + \".hdf5\"))\n",
    "    velocityField.load(os.path.join(checkpointLoadDir, \"velocityField\" + \".hdf5\"))\n",
    "    gSwarm.load(os.path.join(checkpointLoadDir, \"swarm\" + \".h5\"))\n",
    "    for ix in range(len(varlist)):\n",
    "        varb = varlist[ix]\n",
    "        varb.load(os.path.join(checkpointLoadDir,varnames[ix] + \".h5\"))\n",
    "\n",
    "else:\n",
    "\n",
    "    # Layouts are used to populate the swarm across the whole domain\n",
    "    # Create the layout object\n",
    "    #layout = uw.swarm.layouts.GlobalSpaceFillerLayout( swarm=gSwarm, particlesPerCell=20)\n",
    "    layout = uw.swarm.layouts.PerCellRandomLayout(swarm=gSwarm, particlesPerCell=15)\n",
    "    # Now use it to populate.\n",
    "    gSwarm.populate_using_layout( layout=layout )\n",
    "\n",
    "    # Lets initialise the 'materialVariable' data to represent different materials\n",
    "    # Set the material to heavy everywhere via the numpy array\n",
    "    materialVariable.data[:] = mantleIndex\n",
    "    \n",
    "    \n",
    "    #Set initial air and crust materials (allow the graph to take care of lithsophere)\n",
    "    #########\n",
    "    #This initial material setup will be model dependent\n",
    "    #########\n",
    "    for particleID in range(gSwarm.particleCoordinates.data.shape[0]):\n",
    "        if (1. - gSwarm.particleCoordinates.data[particleID][1]) < 0:\n",
    "                 materialVariable.data[particleID] = airIndex\n",
    "        elif (1. - gSwarm.particleCoordinates.data[particleID][1]) < MANTLETOCRUST:\n",
    "                 materialVariable.data[particleID] = crustIndex"
   ]
  },
  {
   "cell_type": "markdown",
   "metadata": {},
   "source": [
    "#Material Graphs"
   ]
  },
  {
   "cell_type": "code",
   "execution_count": 24,
   "metadata": {
    "collapsed": false
   },
   "outputs": [],
   "source": [
    "##############\n",
    "#Important: This is a quick fix for a bug that arises in parallel runs\n",
    "##############\n",
    "material_list = [0,1,2,3]\n"
   ]
  },
  {
   "cell_type": "code",
   "execution_count": 25,
   "metadata": {
    "collapsed": false
   },
   "outputs": [
    {
     "name": "stdout",
     "output_type": "stream",
     "text": [
      "unique values after swarm has loaded:[0 1 2]\n"
     ]
    }
   ],
   "source": [
    "print( \"unique values after swarm has loaded:\" + str(np.unique(materialVariable.data[:])))\n"
   ]
  },
  {
   "cell_type": "code",
   "execution_count": 67,
   "metadata": {
    "collapsed": true
   },
   "outputs": [],
   "source": [
    "import networkx as nx\n",
    "\n",
    "#All depth conditions are given as (km/D) where D is the length scale, \n",
    "#note that 'model depths' are used, e.g. 1-z, where z is the vertical Underworld coordinate\n",
    "#All temp conditions are in dimensionless temp. [0. - 1.]\n",
    "\n",
    "#######Graph object\n",
    "DG = nx.DiGraph(field=\"Depth\")\n",
    "\n",
    "#######Nodes\n",
    "#Note that the order of materials, deepest to shallowest is important \n",
    "DG.add_node(0, mat='mantle')\n",
    "DG.add_node(1, mat='lithosphere')\n",
    "DG.add_node(2, mat='crust')\n",
    "DG.add_node(3, mat='air')\n",
    "\n",
    "\n",
    "labels=dict((n,d['mat']) for n,d in DG.nodes(data=True))\n",
    "pos=nx.spring_layout(DG) \n",
    "\n",
    "\n",
    "#######Edges\n",
    "#anything to air\n",
    "DG.add_edges_from([(0,3),(1,3), (2,3)])\n",
    "DG[0][3]['depthcondition'] = -1*TOPOHEIGHT\n",
    "DG[1][3]['depthcondition'] = -1*TOPOHEIGHT\n",
    "DG[2][3]['depthcondition'] = -1*TOPOHEIGHT\n",
    "\n",
    "\n",
    "#Anything to mantle\n",
    "DG.add_edges_from([(2,0), (3,0), (1,0)])\n",
    "DG[3][0]['depthcondition'] = TOPOHEIGHT\n",
    "DG[2][0]['depthcondition'] = CRUSTTOMANTLE\n",
    "DG[1][0]['depthcondition'] = LITHTOMANTLE #This means we're going to kill lithosphere at the 660.\n",
    "\n",
    "\n",
    "#Anything to lithsphere\n",
    "DG.add_edges_from([(0,1),(3,1)])\n",
    "DG[0][1]['depthcondition'] = MANTLETOLITH\n",
    "DG[0][1]['avgtempcondition'] = 0.75*AVGTEMP #definition of thermal lithosphere\n",
    "\n",
    "\n",
    "#Anything to crust\n",
    "DG.add_edges_from([(0,2), (1,2)])\n",
    "DG[0][2]['depthcondition'] = MANTLETOCRUST\n",
    "DG[1][2]['depthcondition'] = MANTLETOCRUST"
   ]
  },
  {
   "cell_type": "code",
   "execution_count": 68,
   "metadata": {
    "collapsed": false
   },
   "outputs": [
    {
     "data": {
      "text/plain": [
       "[0, 1, 2, 3]"
      ]
     },
     "execution_count": 68,
     "metadata": {},
     "output_type": "execute_result"
    }
   ],
   "source": [
    "DG.nodes()"
   ]
  },
  {
   "cell_type": "code",
   "execution_count": 69,
   "metadata": {
    "collapsed": false
   },
   "outputs": [],
   "source": [
    "remove_nodes = []\n",
    "for node in DG.nodes():\n",
    "    if not node in material_list:\n",
    "        remove_nodes.append(node)\n",
    "        \n",
    "for rmnode in remove_nodes:\n",
    "    DG.remove_node(rmnode)"
   ]
  },
  {
   "cell_type": "code",
   "execution_count": 70,
   "metadata": {
    "collapsed": false
   },
   "outputs": [
    {
     "data": {
      "text/plain": [
       "[0, 1, 2, 3]"
      ]
     },
     "execution_count": 70,
     "metadata": {},
     "output_type": "execute_result"
    }
   ],
   "source": [
    "DG.nodes()"
   ]
  },
  {
   "cell_type": "code",
   "execution_count": 71,
   "metadata": {
    "collapsed": false
   },
   "outputs": [],
   "source": [
    "\n",
    "#remove_nodes = []\n",
    "#for node in DG.nodes_iter():\n",
    "#    if not node in material_list:\n",
    "#        remove_nodes.append(node)\n",
    "        \n",
    "#for rmnode in remove_nodes:\n",
    "#    DG.remove_node(rmnode)"
   ]
  },
  {
   "cell_type": "code",
   "execution_count": 72,
   "metadata": {
    "collapsed": true
   },
   "outputs": [],
   "source": [
    "#A Dictionary to map strings in the graph (e.g. 'depthcondition') to particle data arrays\n",
    "\n",
    "particledepths = 1. - gSwarm.particleCoordinates.data[:,1]\n",
    "particletemps = temperatureField.evaluate(gSwarm)[:,0]\n",
    "\n",
    "conditionmap = {}\n",
    "\n",
    "conditionmap['depthcondition'] = {}\n",
    "conditionmap['depthcondition']['data'] = particledepths\n",
    "conditionmap['avgtempcondition'] = {}\n",
    "conditionmap['avgtempcondition']['data'] = particletemps"
   ]
  },
  {
   "cell_type": "code",
   "execution_count": 73,
   "metadata": {
    "collapsed": true
   },
   "outputs": [],
   "source": [
    "def update_swarm(graph, particleIndex):\n",
    "    \"\"\"\n",
    "    This function takes the materials graph (networkx.DiGraph), and a particle index,\n",
    "    then determines if a material update is required \n",
    "    and if so, returns the new materialindex\n",
    "    Args:\n",
    "        graph (networkx.DiGraph): Directed multigraph representing the transformation of material types\n",
    "        particleIndex (int): the particle index as corressponding to the index in the swarm data arrays\n",
    "    Returns:\n",
    "        if update is required the function returns the the new material variable (int) \n",
    "        else returns None\n",
    "    Raises:\n",
    "        TypeError: not implemented\n",
    "        ValueError: not implemented\n",
    "    \"\"\"\n",
    "    ##Egde gives links to other materials, we then query the conditions to see if we should change materials\n",
    "    matId = materialVariable.data[particleIndex][0]\n",
    "    innerchange = False\n",
    "    outerchange = False\n",
    "    for edge in graph[matId]:\n",
    "        if outerchange:\n",
    "            break\n",
    "        for cond in graph[matId][edge].keys():\n",
    "            outerchange = False\n",
    "            if innerchange: #found a complete transition, break inner loop\n",
    "                break\n",
    "            currentparticlevalue = conditionmap[cond]['data'][particleIndex]\n",
    "            crossover = graph[matId][edge][cond]\n",
    "            if ((matId > edge) and (currentparticlevalue > crossover)):\n",
    "                innerchange = False # continue on, \n",
    "                if graph[matId][edge].keys()[-1] == cond:\n",
    "                    outerchange = True\n",
    "                    innerchange = edge\n",
    "                    break\n",
    "            elif ((matId < edge) and (currentparticlevalue < crossover)):\n",
    "                innerchange = False\n",
    "                if graph[matId][edge].keys()[-1] == cond:\n",
    "                    outerchange = True\n",
    "                    innerchange = edge\n",
    "                    break\n",
    "            else:\n",
    "                #condition not met, break outer loop, go to next edge, outerchange should still be False\n",
    "                break\n",
    "    if type(innerchange) == int:\n",
    "        return innerchange"
   ]
  },
  {
   "cell_type": "code",
   "execution_count": 74,
   "metadata": {
    "collapsed": false
   },
   "outputs": [],
   "source": [
    "#Cleanse the swarm of its sins\n",
    "#For some Material Graphs, the graph may have to be treaversed more than once\n",
    "\n",
    "check = -1\n",
    "number_updated = 1\n",
    "\n",
    "while number_updated != 0:\n",
    "    number_updated = 0\n",
    "    for particleID in range(gSwarm.particleCoordinates.data.shape[0]):\n",
    "                check = update_swarm(DG, particleID)\n",
    "                if check > -1:\n",
    "                    number_updated += 1\n",
    "                    materialVariable.data[particleID] = check"
   ]
  },
  {
   "cell_type": "markdown",
   "metadata": {},
   "source": [
    "##Set the values for the masking swarms"
   ]
  },
  {
   "cell_type": "code",
   "execution_count": 75,
   "metadata": {
    "collapsed": false
   },
   "outputs": [],
   "source": [
    "#Setup up a masking Swarm variable for the integrations.\n",
    "#These should be rebuilt at same frequency as the metric calcualtions\n",
    "\n",
    "rockIntVar.data[:] = 0.\n",
    "notair = np.where(materialVariable.data != airIndex)\n",
    "rockIntVar.data[notair] = 1.\n",
    "\n",
    "airIntVar.data[:] = 0.\n",
    "notrock = np.where(materialVariable.data == airIndex)\n",
    "airIntVar.data[notrock] = 1.\n",
    "\n",
    "lithIntVar.data[:] = 0.\n",
    "islith = np.where((materialVariable.data == lithosphereIndex) | (materialVariable.data == crustIndex))\n",
    "lithIntVar.data[islith] = 1."
   ]
  },
  {
   "cell_type": "markdown",
   "metadata": {
    "collapsed": false
   },
   "source": [
    "#Material properties\n"
   ]
  },
  {
   "cell_type": "markdown",
   "metadata": {},
   "source": [
    "In the paper, Crameri and Tackley give the dimensionless cohesion as well as the dimensionless yield stress gradient. But the latter is given as a function of dimensionless (lithostatic) pressure, whereas it is easier to use dimensionless depth. Easy, multiply the dimensionless depth by $\\rho g D$, divide by the stress scale, $\\frac{\\eta \\kappa}{D^2}$ then use the same dimensionless yeild stress gradient ($\\mu$)"
   ]
  },
  {
   "cell_type": "code",
   "execution_count": 76,
   "metadata": {
    "collapsed": false
   },
   "outputs": [],
   "source": [
    "# The yeilding of the upper slab is dependent on the strain rate.\n",
    "strainRate_2ndInvariant = fn.tensor.second_invariant( \n",
    "                            fn.tensor.symmetric( \n",
    "                            velocityField.fn_gradient ))\n",
    "\n",
    "\n",
    "coordinate = fn.input()\n",
    "depth = 1. - coordinate[1]\n",
    "\n",
    "#Determine yield criterion for depth (rather than pressure as given in Crameri)\n",
    "#Scaling is same as van Heck and Tackley, EPSL, 2011\n",
    "lithopressuregrad = dp.rho*dp.g*(dp.LS)**3/(dp.eta0*dp.k)"
   ]
  },
  {
   "cell_type": "code",
   "execution_count": 81,
   "metadata": {
    "collapsed": false
   },
   "outputs": [
    {
     "name": "stdout",
     "output_type": "stream",
     "text": [
      "(11.55, 3.0, 0.1092, 1.0, 0.64, 3154.0)\n"
     ]
    }
   ],
   "source": [
    "#Check important paramters\n",
    "print(ndp.E, ndp.V,ndp.TS,ndp.RD, ndp.TR, ndp.cohesion)"
   ]
  },
  {
   "cell_type": "code",
   "execution_count": 78,
   "metadata": {
    "collapsed": false
   },
   "outputs": [],
   "source": [
    "############\n",
    "#Mantle\n",
    "############\n",
    "\n",
    "#Linear viscosity\n",
    "arhennius = fn.misc.min(1e5,fn.math.exp(((ndp.E + ndp.V*(1.-coordinate[1]))/\n",
    "                                         (temperatureField + ndp.TS)) - ((ndp.E + ndp.V*(1.- ndp.RD))/(ndp.TR + ndp.TS))))\n",
    "\n",
    "#Psuedo-plastic \n",
    "ys =  ndp.cohesion + (depth*ndp.fc*lithopressuregrad)\n",
    "#ys =  ndp.fc*lithopressuregrad*(30e3/dp.LS) # this is the byerlee strength at 30 km\n",
    "yss = fn.misc.max(1577., ys)\n",
    "plasticvisc = yss*(math.sqrt(2))/(strainRate_2ndInvariant*2.)\n",
    "plastic = fn.misc.max(1e-4,plasticvisc)\n",
    "#combine these\n",
    "mantleviscosityFn = fn.exception.SafeMaths(fn.misc.min(arhennius, plastic))\n",
    "\n",
    "############\n",
    "#crust\n",
    "############\n",
    "\n",
    "\n",
    "cohesion_reduce =7.\n",
    "ysc = (ndp.cohesion/cohesion_reduce) + (depth*(ndp.fc/100.)*lithopressuregrad)\n",
    "#ysc = ys/100.\n",
    "ycs = fn.misc.max((ndp.cohesion/cohesion_reduce), ysc)\n",
    "crustplasticvisc = ycs*(math.sqrt(2))/(strainRate_2ndInvariant*2.)\n",
    "crustplastic = fn.misc.max(1e-4,crustplasticvisc) \n",
    "crustviscosityFn = fn.exception.SafeMaths(fn.misc.min(arhennius, crustplastic))"
   ]
  },
  {
   "cell_type": "markdown",
   "metadata": {},
   "source": [
    "Note that the rheology implemented manually above can also be set up using an Underworld2 function, as follows:\n",
    "```python\n",
    "fn_stress =  2.*arhennius*uw.function.tensor.symmetric(velocityField.fn_gradient )\n",
    "plasticvisc = fn.rheology.stress_limiting_viscosity(fn_stress,ys,arhennius)\n",
    "plastic = fn.misc.max(1e-4,plasticvisc)\n",
    "mantleviscosityFn = fn.exception.SafeMaths(fn.misc.min(arhennius, plastic))\n",
    "stokesPIC.fn_viscosity = mantleviscosityFn\n",
    "```"
   ]
  },
  {
   "cell_type": "markdown",
   "metadata": {},
   "source": [
    "Set up material properties\n",
    "====\n",
    "\n",
    "Here the functions for density, viscosity etc. are set. These functions and/or values are preserved for the entire simulation time. "
   ]
  },
  {
   "cell_type": "code",
   "execution_count": 38,
   "metadata": {
    "collapsed": false
   },
   "outputs": [],
   "source": [
    "# Here we set a viscosity value of '1.' for both materials\n",
    "viscosityMapFn = fn.branching.map( fn_key = materialVariable,\n",
    "                         mapping = {airIndex:AIRVISCOSITY, \n",
    "                                    lithosphereIndex:mantleviscosityFn, \n",
    "                                    crustIndex:crustviscosityFn,\n",
    "                                    mantleIndex:mantleviscosityFn} )\n",
    "\n",
    "densityMapFn = fn.branching.map( fn_key = materialVariable,\n",
    "                         mapping = {airIndex:AIRDENSITY, \n",
    "                                    lithosphereIndex:ndp.RA*temperatureField, \n",
    "                                    crustIndex:ndp.RA*temperatureField, \n",
    "                                    mantleIndex:ndp.RA*temperatureField} )\n",
    "\n",
    "# Define our gravity using a python tuple (this will be automatically converted to a function)\n",
    "gravity = ( 0.0, 1.0 )\n",
    "\n",
    "buoyancyFn = gravity*densityMapFn"
   ]
  },
  {
   "cell_type": "code",
   "execution_count": null,
   "metadata": {
    "collapsed": false
   },
   "outputs": [],
   "source": []
  },
  {
   "cell_type": "markdown",
   "metadata": {},
   "source": [
    "Build the Stokes system, solvers, advection-diffusion\n",
    "------\n",
    "\n",
    "Setup linear Stokes system to get the initial velocity."
   ]
  },
  {
   "cell_type": "code",
   "execution_count": null,
   "metadata": {
    "collapsed": false
   },
   "outputs": [],
   "source": [
    "stokesPIC = uw.systems.Stokes( velocityField = velocityField, \n",
    "                               pressureField = pressureField,\n",
    "                               #swarm         = gSwarm, \n",
    "                               conditions    = [freeslipBC,],\n",
    "                               fn_viscosity   = arhennius, \n",
    "                               fn_bodyforce   = buoyancyFn )\n"
   ]
  },
  {
   "cell_type": "code",
   "execution_count": null,
   "metadata": {
    "collapsed": false
   },
   "outputs": [],
   "source": [
    "#We do one solve with linear viscosity to get the initial strain rate invariant. \n",
    "#This solve step also calculates a 'guess' of the the velocity field based on the linear system, \n",
    "#which is used later in the non-linear solver.\n",
    "\n",
    "solver = uw.systems.Solver(stokesPIC)\n",
    "# If not doing a restart, do a solve on the non-plastic system\n",
    "if not checkpointLoad:\n",
    "    solver.solve()"
   ]
  },
  {
   "cell_type": "code",
   "execution_count": null,
   "metadata": {
    "collapsed": true
   },
   "outputs": [],
   "source": []
  },
  {
   "cell_type": "code",
   "execution_count": null,
   "metadata": {
    "collapsed": false
   },
   "outputs": [],
   "source": [
    "####################\n",
    "#Add the non-linear viscosity to the Stokes system\n",
    "stokesPIC.fn_viscosity = viscosityMapFn\n",
    "###################\n",
    "\n",
    "#Set more advanced solver option\n",
    "solver.options.main.Q22_pc_type='uw'\n",
    "solver.options.A11.ksp_rtol=1e-7\n",
    "solver.options.scr.ksp_rtol=1e-6\n",
    "solver.options.scr.use_previous_guess = True\n",
    "solver.options.scr.ksp_set_min_it_converge = 6\n",
    "\n",
    "solver.options.mg.levels = 3\n",
    "\n",
    "solver.options.A11.ksp_monitor=''"
   ]
  },
  {
   "cell_type": "markdown",
   "metadata": {},
   "source": [
    "Solve non-linear system for pressure and velocity using Picard iteration\n"
   ]
  },
  {
   "cell_type": "code",
   "execution_count": null,
   "metadata": {
    "collapsed": false
   },
   "outputs": [],
   "source": [
    "solver.solve(nonLinearIterate=True)"
   ]
  },
  {
   "cell_type": "code",
   "execution_count": null,
   "metadata": {
    "collapsed": true
   },
   "outputs": [],
   "source": [
    "#Now check the stress.\n",
    "fn_stress = 2.*mantleviscosityFn*uw.function.tensor.symmetric(velocityField.fn_gradient)\n",
    "fn_minmax_inv = fn.view.min_max(fn.tensor.second_invariant(fn_stress))\n",
    "ignore = fn_minmax_inv.evaluate(gSwarm)"
   ]
  },
  {
   "cell_type": "code",
   "execution_count": null,
   "metadata": {
    "collapsed": false
   },
   "outputs": [],
   "source": [
    "fn_minmax_inv.max_global()"
   ]
  },
  {
   "cell_type": "code",
   "execution_count": null,
   "metadata": {
    "collapsed": false
   },
   "outputs": [],
   "source": [
    "#np.isclose(fn_minmax_inv.max_global(), ys, rtol=1e-03)"
   ]
  },
  {
   "cell_type": "code",
   "execution_count": null,
   "metadata": {
    "collapsed": false
   },
   "outputs": [],
   "source": [
    "figTemp = glucifer.Figure()\n",
    "figTemp.append( glucifer.objects.Surface(mesh, fn.tensor.second_invariant(fn_stress)))\n",
    "#figTemp.append( glucifer.objects.VectorArrows(mesh,velocityField, arrowHead=0.2, scaling=0.0005))\n",
    "\n",
    "figTemp.show()"
   ]
  },
  {
   "cell_type": "markdown",
   "metadata": {},
   "source": [
    "Create an advective-diffusive system\n",
    "=====\n",
    "\n",
    "Setup the system in underworld by flagging the temperature and velocity field variables."
   ]
  },
  {
   "cell_type": "code",
   "execution_count": 118,
   "metadata": {
    "collapsed": false
   },
   "outputs": [],
   "source": [
    "#Create advdiff system\n",
    "\n",
    "advDiff = uw.systems.AdvectionDiffusion( phiField       = temperatureField, \n",
    "                                         phiDotField    = temperatureDotField, \n",
    "                                         velocityField  = velocityField, \n",
    "                                         fn_diffusivity = 1.0, \n",
    "                                         conditions     = [tempBC,] )\n",
    "\n",
    "\n",
    "\n",
    "advector = uw.systems.SwarmAdvector( swarm         = gSwarm, \n",
    "                                     velocityField = velocityField, \n",
    "                                     order         = 1)\n",
    "\n",
    "#Switch particle escape on, this will also trigger the inflow population control \n",
    "gSwarm.particleEscape = True"
   ]
  },
  {
   "cell_type": "markdown",
   "metadata": {},
   "source": [
    "Metrics for benchmark\n",
    "=====\n",
    "\n",
    "Define functions to be used in the time loop. For cases 1-4, participants were asked to report a number of diagnostic quantities to be measured after reaching steady state:\n",
    "\n",
    "* Average temp... $$  \\langle T \\rangle  = \\int^1_0 \\int^1_0 T \\, dxdy $$\n",
    "* Top and bottom Nusselt numbers... $$N = \\int^1_0 \\frac{\\partial T}{\\partial y} \\rvert_{y=0/1} \\, dx$$\n",
    "* RMS velocity over the whole domain, surface and max velocity at surface\n",
    "* max and min viscosity over the whole domain\n",
    "* average rate of work done against gravity...$$\\langle W \\rangle = \\int^1_0 \\int^1_0 T u_y \\, dx dy$$\n",
    "* and the average rate of viscous dissipation...$$\\langle \\Phi \\rangle = \\int^1_0 \\int^1_0 \\tau_{ij} \\dot \\epsilon_{ij} \\, dx dy$$\n",
    "\n",
    "* In steady state, if thermal energy is accurately conserved, the difference between $\\langle W \\rangle$ and $\\langle \\Phi \\rangle / Ra$ must vanish, so also reported is the percentage error: \n",
    "\n",
    "$$ \\delta = \\frac{\\lvert \\langle W \\rangle - \\frac{\\langle \\Phi \\rangle}{Ra} \\rvert}{max \\left(  \\langle W \\rangle,  \\frac{\\langle \\Phi \\rangle}{Ra}\\right)} \\times 100% $$"
   ]
  },
  {
   "cell_type": "code",
   "execution_count": 119,
   "metadata": {
    "collapsed": false
   },
   "outputs": [],
   "source": [
    "#Setup some Integrals. We want these outside the main loop...\n",
    "tempVariable = gSwarm.add_variable( dataType=\"double\", count=1 )\n",
    "tempVariable.data[:] = temperatureField.evaluate(gSwarm)[:]\n",
    "tempint = uw.utils.Integral((tempVariable*rockIntVar), mesh)\n",
    "\n",
    "\n",
    "areaint = uw.utils.Integral((1.*rockIntVar),mesh)\n",
    "\n",
    "v2int = uw.utils.Integral(fn.math.dot(velocityField,velocityField)*rockIntVar, mesh)\n",
    "\n",
    "\n",
    "dwint = uw.utils.Integral(temperatureField*velocityField[1]*rockIntVar, mesh)\n",
    "\n",
    "\n",
    "sinner = fn.math.dot(strainRate_2ndInvariant,strainRate_2ndInvariant)\n",
    "vdint = uw.utils.Integral((4.*mantleviscosityFn*sinner)*rockIntVar, mesh)\n",
    "vdintair = uw.utils.Integral((4.*mantleviscosityFn*sinner)*airIntVar, mesh)\n",
    "vdintlith = uw.utils.Integral((4.*mantleviscosityFn*sinner)*lithIntVar, mesh)"
   ]
  },
  {
   "cell_type": "code",
   "execution_count": 120,
   "metadata": {
    "collapsed": false
   },
   "outputs": [],
   "source": [
    "def avg_temp():\n",
    "    return tempint.evaluate()[0]\n",
    "\n",
    "#This one gets cleaned up when Surface integrals are available\n",
    "def nusselt(tempfield, swarm, dx):\n",
    "    #Update the swarm variable\n",
    "    tempgrad = tempfield.fn_gradient\n",
    "    valcheck = tempgrad[1].evaluate(swarm)\n",
    "    if valcheck is None:\n",
    "        vals = np.array(0, dtype='float64')\n",
    "    else:\n",
    "        vals = valcheck.sum()*dx\n",
    "    return vals\n",
    "\n",
    "def rms():\n",
    "    return math.sqrt(v2int.evaluate()[0])\n",
    "\n",
    "#This one gets cleaned up when Surface integrals are available\n",
    "def rms_surf(swarm, dx):\n",
    "    rmsmaxfn = fn.math.sqrt(fn.math.dot(velocityField,velocityField))\n",
    "    rmscheck = rmsmaxfn.evaluate(swarm)\n",
    "    if rmscheck is None:\n",
    "        rmsvals = np.array(0, dtype='float64')\n",
    "    else:\n",
    "        rmsvals = rmscheck.sum()*dx\n",
    "    return rmsvals\n",
    "\n",
    "def max_vx_surf(velfield, swarm):\n",
    "    surfvelxmaxfn = fn.view.min_max(velfield[0])\n",
    "    surfvelxmaxfn.evaluate(swarm)\n",
    "    return surfvelxmaxfn.max_global()\n",
    "\n",
    "def max_vy_surf(velfield, swarm):\n",
    "    surfvelxmaxfn = fn.view.min_max(velfield[1])\n",
    "    surfvelxmaxfn.evaluate(swarm)\n",
    "    return surfvelxmaxfn.max_global()\n",
    "\n",
    "def gravwork(workfn):\n",
    "    return workfn.evaluate()[0]\n",
    "\n",
    "def viscdis(vdissfn):\n",
    "    return vdissfn.evaluate()[0]\n",
    "\n",
    "def visc_extr(viscfn):\n",
    "    vuviscfn = fn.view.min_max(viscfn)\n",
    "    vuviscfn.evaluate(mesh)\n",
    "    return vuviscfn.max_global(), vuviscfn.min_global()"
   ]
  },
  {
   "cell_type": "code",
   "execution_count": 121,
   "metadata": {
    "collapsed": false
   },
   "outputs": [],
   "source": [
    "#Fields for saving data / fields\n",
    "\n",
    "rmsField = uw.mesh.MeshVariable( mesh=mesh,   nodeDofCount=1)\n",
    "rmsfn = fn.math.sqrt(fn.math.dot(velocityField,velocityField))\n",
    "rmsdata = rmsfn.evaluate(mesh)\n",
    "rmsField.data[:] = rmsdata \n",
    "\n",
    "viscField = uw.mesh.MeshVariable( mesh=mesh,   nodeDofCount=1)\n",
    "viscdata = mantleviscosityFn.evaluate(mesh)\n",
    "viscField.data[:] = viscdata\n",
    "\n",
    "\n",
    "strainrateField = uw.mesh.MeshVariable( mesh=mesh,   nodeDofCount=1)\n",
    "srtdata = fn.tensor.second_invariant( \n",
    "                    fn.tensor.symmetric( \n",
    "                        velocityField.fn_gradient ))\n",
    "rostfield = srtdata.evaluate(mesh)\n",
    "strainrateField.data[:] = rostfield\n",
    "\n",
    "viscVariable = gSwarm.add_variable( dataType=\"float\", count=1 )\n",
    "viscVariable.data[:] = viscosityMapFn.evaluate(gSwarm)"
   ]
  },
  {
   "cell_type": "code",
   "execution_count": 122,
   "metadata": {
    "collapsed": false
   },
   "outputs": [],
   "source": [
    "#Images\n",
    "figEta = glucifer.Figure()\n",
    "figEta.append( glucifer.objects.Points(gSwarm,viscVariable, logScale=True))\n",
    "\n",
    "\n",
    "figMat = glucifer.Figure()\n",
    "figMat.append( glucifer.objects.Points(gSwarm,materialVariable, colours='brown white blue red'))\n",
    "figMat.append( glucifer.objects.Mesh(mesh))\n",
    "\n",
    "\n",
    "figStrainRate = glucifer.Figure()\n",
    "figStrainRate.append( glucifer.objects.Surface(mesh, strainRate_2ndInvariant, logScale=True))\n",
    "\n",
    "\n",
    "figVelocityMag = glucifer.Figure()\n",
    "figVelocityMag.append( glucifer.objects.Surface(mesh, fn.math.dot(velocityField,velocityField))\n",
    ")\n",
    "figTemp = glucifer.Figure()\n",
    "figTemp.append( glucifer.objects.Surface(mesh, temperatureField))\n",
    "\n",
    "\n",
    "\n",
    "#Pack some stuff into a database as well\n",
    "figDb = glucifer.Figure()\n",
    "figDb.append( glucifer.objects.Points(gSwarm,viscVariable, logScale=True, colours='brown white blue'))\n",
    "figDb.append( glucifer.objects.Points(gSwarm,materialVariable, colours='brown white blue red'))\n",
    "figDb.append( glucifer.objects.Mesh(mesh))\n",
    "figDb.append( glucifer.objects.VectorArrows(mesh,velocityField, arrowHead=0.2, scaling=0.002))\n",
    "figDb.append( glucifer.objects.Surface(mesh, strainRate_2ndInvariant, logScale=True, colours='brown white blue'))"
   ]
  },
  {
   "cell_type": "markdown",
   "metadata": {},
   "source": [
    "Main simulation loop\n",
    "=======\n",
    "\n",
    "The main time stepping loop begins here. Before this the time and timestep are initialised to zero and the output statistics arrays are set up. Also the frequency of outputting basic statistics to the screen is set in steps_output.\n"
   ]
  },
  {
   "cell_type": "code",
   "execution_count": 123,
   "metadata": {
    "collapsed": true
   },
   "outputs": [],
   "source": [
    "pics = uw.swarm.PICIntegrationSwarm(gSwarm)"
   ]
  },
  {
   "cell_type": "code",
   "execution_count": 125,
   "metadata": {
    "collapsed": false
   },
   "outputs": [],
   "source": [
    "def checkpoint1(step, checkpointPath,filename, filewrites):\n",
    "    path = checkpointPath + str(step) \n",
    "    os.mkdir(path)\n",
    "    ##Write and save the file, if not already a writing step\n",
    "    if not step % filewrites == 0:\n",
    "        filename.write((13*'%-15s ' + '\\n') % (realtime, Viscdis, float(Nu0glob), float(Nu1glob), Avg_temp, \n",
    "                                              Rms,Rmsurfglob,Max_vx_surf,Gravwork, etamax, etamin, Viscdisair, Viscdislith))\n",
    "    filename.close()\n",
    "    shutil.copyfile(os.path.join(outputPath, outputFile), os.path.join(path, outputFile))\n",
    "\n",
    "\n",
    "def checkpoint2(step, checkpointPath, swarm, filename, varlist = [materialVariable], varnames = ['materialVariable']):\n",
    "    path = checkpointPath + str(step) \n",
    "    velfile = \"velocityField\" + \".hdf5\"\n",
    "    tempfile = \"temperatureField\" + \".hdf5\"\n",
    "    pressfile = \"pressureField\" + \".hdf5\"\n",
    "    velocityField.save(os.path.join(path, velfile))\n",
    "    temperatureField.save(os.path.join(path, tempfile))\n",
    "    pressureField.save(os.path.join(path, pressfile))\n",
    "    swarm.save(os.path.join(path, \"swarm.h5\") ) \n",
    "    for ix in range(len(varlist)):\n",
    "        varb = varlist[ix]\n",
    "        varb.save(os.path.join(path,varnames[ix] + \".h5\"))\n",
    "    "
   ]
  },
  {
   "cell_type": "code",
   "execution_count": 126,
   "metadata": {
    "collapsed": false
   },
   "outputs": [
    {
     "data": {
      "text/plain": [
       "(1.5487856110571143e-06, 7.743932379881649e-07)"
      ]
     },
     "execution_count": 126,
     "metadata": {},
     "output_type": "execute_result"
    }
   ],
   "source": [
    "advector.get_max_dt(), advDiff.get_max_dt()"
   ]
  },
  {
   "cell_type": "code",
   "execution_count": 129,
   "metadata": {
    "collapsed": false
   },
   "outputs": [],
   "source": [
    "# initialise timer for computation\n",
    "start = time.clock()\n",
    "# setup summary output file (name above)\n",
    "if checkpointLoad:\n",
    "    if uw.rank() == 0:\n",
    "        shutil.copyfile(os.path.join(checkpointLoadDir, outputFile), outputPath+outputFile)\n",
    "    comm.Barrier()\n",
    "    f_o = open(os.path.join(outputPath, outputFile), 'a')\n",
    "    prevdata = np.genfromtxt(os.path.join(outputPath, outputFile), skip_header=0, skip_footer=0)\n",
    "    if len(prevdata.shape) == 1: #this is in case there is only one line in previous file\n",
    "        realtime = prevdata[0]\n",
    "    else:\n",
    "        realtime = prevdata[prevdata.shape[0]-1, 0]\n",
    "    step = int(checkpointLoadDir.split('/')[-1])\n",
    "    timevals = [0.]\n",
    "else:\n",
    "    f_o = open(outputPath+outputFile, 'w')\n",
    "    realtime = 0.\n",
    "    step = 0\n",
    "    timevals = [0.]"
   ]
  },
  {
   "cell_type": "code",
   "execution_count": null,
   "metadata": {
    "collapsed": false
   },
   "outputs": [
    {
     "name": "stdout",
     "output_type": "stream",
     "text": [
      "0\n",
      "1\n",
      "2\n",
      "3\n",
      "4\n",
      "5\n",
      "6\n",
      "7\n",
      "8"
     ]
    }
   ],
   "source": [
    "# initialise timer for computation\n",
    "startMain = time.clock()\n",
    "# Perform steps\n",
    "while realtime < 0.05:\n",
    "#while step < 5:\n",
    "    #Enter non-linear loop\n",
    "    print step\n",
    "    solver.solve(nonLinearIterate=True)\n",
    "    dt = advDiff.get_max_dt()\n",
    "    if step == 0:\n",
    "        dt = 0.\n",
    "    #start = time.clock()\n",
    "    advDiff.integrate(dt)\n",
    "    #machine_time = (time.clock()-start)\n",
    "    #print(\"total advDiff time is: \" + str(machine_time))\n",
    "    # Advect swarm using this timestep size\n",
    "    #start = time.clock()\n",
    "    advector.integrate(dt)\n",
    "    #machine_time = (time.clock()-start)\n",
    "    #print(\"total advector time is: \" + str(machine_time))\n",
    "    # Increment\n",
    "    realtime += dt\n",
    "    step += 1\n",
    "    timevals.append(realtime)\n",
    "    \n",
    "    ################\n",
    "    #Update temperature field in the air region\n",
    "    ################\n",
    "    if (step % sticky_air_temp == 0):\n",
    "        for index, coord in enumerate(mesh.data):\n",
    "            if coord[1] >= 1.:\n",
    "                temperatureField.data[index] = 0.\n",
    " \n",
    "    ################\n",
    "    #Particle update\n",
    "    ###############\n",
    "    if (step % swarm_update == 0) or (step % metric_output == 0): #These updates should be done before any metric output\n",
    "        #These swarm variables get updated first, as they are used to determine material changes\n",
    "        particledepths = 1. - gSwarm.particleCoordinates.data[:,1]\n",
    "        particletemps = temperatureField.evaluate(gSwarm)[:,0]\n",
    "        conditionmap['depthcondition']['data'] = particledepths\n",
    "        conditionmap['avgtempcondition']['data'] = particletemps\n",
    "        ################\n",
    "        number_updated = 0\n",
    "        for particleID in range(gSwarm.particleCoordinates.data.shape[0]):\n",
    "            check = update_swarm(DG, particleID)\n",
    "            if check > -1:\n",
    "                number_updated += 1\n",
    "                #if check == 0:\n",
    "                #    print \"from \" + str(materialVariable.data[particleID]) + \" to \" + str(check)\n",
    "                materialVariable.data[particleID] = check\n",
    "            else:\n",
    "                pass\n",
    "        #Also update those integration swarms\n",
    "        rockIntVar.data[:] = 0.\n",
    "        notair = np.where(materialVariable.data != airIndex)\n",
    "        rockIntVar.data[notair] = 1.\n",
    "        airIntVar.data[:] = 0.\n",
    "        notrock = np.where(materialVariable.data == airIndex)\n",
    "        airIntVar.data[notrock] = 1.\n",
    "        lithIntVar.data[:] = 0.\n",
    "        islith = np.where((materialVariable.data == lithosphereIndex) | (materialVariable.data == crustIndex))\n",
    "        lithIntVar.data[islith] = 1.\n",
    "\n",
    "    ################            \n",
    "    # Calculate the Metrics, only on 1 of the processors:\n",
    "    ################\n",
    "    if (step % metric_output == 0):\n",
    "        tempVariable.data[:] = temperatureField.evaluate(gSwarm)[:]\n",
    "        Avg_temp = avg_temp()\n",
    "        Rms = rms()\n",
    "        Max_vx_surf = max_vx_surf(velocityField, surfintswarm)\n",
    "        Gravwork = gravwork(dwint)\n",
    "        Viscdis = viscdis(vdint)\n",
    "        Viscdisair = viscdis(vdintair)\n",
    "        Viscdislith = viscdis(vdintlith)\n",
    "        etamax, etamin = visc_extr(mantleviscosityFn)\n",
    "        #These are the ones that need mpi4py treatment\n",
    "        Nu0loc = nusselt(temperatureField, baseintswarm, dx)\n",
    "        Nu1loc = nusselt(temperatureField, surfintswarm, dx)\n",
    "        Rmsurfloc = rms_surf(surfintswarm, dx)\n",
    "        #Setup the global output arrays\n",
    "        dTp = Nu0loc.dtype\n",
    "        Nu0glob = np.array(0, dtype=dTp)\n",
    "        dTp = Nu1loc.dtype\n",
    "        Nu1glob = np.array(0, dtype=dTp)\n",
    "        dTp = Rmsurfloc.dtype\n",
    "        Rmsurfglob = np.array(0, dtype=dTp)\n",
    "        #Do global sum\n",
    "        comm.Allreduce(Nu0loc, Nu0glob, op=MPI.SUM)\n",
    "        comm.Allreduce(Nu1loc, Nu1glob, op=MPI.SUM)\n",
    "        comm.Allreduce(Rmsurfloc, Rmsurfglob, op=MPI.SUM)\n",
    "        # output to summary text file\n",
    "        if uw.rank()==0:\n",
    "            f_o.write((13*'%-15s ' + '\\n') % (realtime, Viscdis, float(Nu0glob), float(Nu1glob), Avg_temp, \n",
    "                                              Rms,Rmsurfglob,Max_vx_surf,Gravwork, etamax, etamin, Viscdisair, Viscdislith))\n",
    "    ################\n",
    "    #Gldb output\n",
    "    ################ \n",
    "    if (step % gldbs_output == 0) & (writeFiles == True):\n",
    "        #Rebuild any necessary swarm variables\n",
    "        viscVariable.data[:] = viscosityMapFn.evaluate(gSwarm)\n",
    "        #Write gldbs\n",
    "        fnamedb = \"dbFig\" + \"_\" + str(ModIt) + \"_\" + str(step) + \".gldb\"\n",
    "        fullpath = os.path.join(outputPath + \"gldbs/\" + fnamedb)\n",
    "        figDb.show()\n",
    "        figDb.save_database(fullpath)\n",
    "    ################\n",
    "    #Also repopulate entire swarm periodically\n",
    "    ################\n",
    "    if step % swarm_repop == 0:\n",
    "        pics.repopulate()\n",
    "    ################\n",
    "    #Checkpoint\n",
    "    ################\n",
    "    if step % checkpoint_every == 0:\n",
    "        if uw.rank() == 0:\n",
    "            checkpoint1(step, checkpointPath,f_o, metric_output)           \n",
    "        checkpoint2(step, checkpointPath, gSwarm, f_o, varlist = varlist, varnames = varnames)\n",
    "        f_o = open(os.path.join(outputPath, outputFile), 'a') #is this line supposed to be here?\n",
    "\n",
    "        \n",
    "        \n",
    "f_o.close()\n",
    "#print 'step =',step, '; dt =', dt, '; CPU time =', time.clock()-startMain"
   ]
  },
  {
   "cell_type": "code",
   "execution_count": 78,
   "metadata": {
    "collapsed": false
   },
   "outputs": [],
   "source": [
    "viscVariable = gSwarm.add_variable( dataType=\"float\", count=1 )\n",
    "viscVariable.data[:] = viscosityMapFn.evaluate(gSwarm)\n",
    "figEta = glucifer.Figure(figsize=(1024,384))\n",
    "figEta.append( glucifer.objects.Points(gSwarm,viscVariable, logScale=True))\n",
    "figEta.show()\n",
    "figEta.save_database('test.gldb')"
   ]
  },
  {
   "cell_type": "code",
   "execution_count": 23,
   "metadata": {
    "collapsed": false
   },
   "outputs": [
    {
     "data": {
      "text/html": [
       "<img src='data:image/png;base64,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'>"
      ],
      "text/plain": [
       "<IPython.core.display.HTML object>"
      ]
     },
     "execution_count": 23,
     "metadata": {},
     "output_type": "execute_result"
    }
   ],
   "source": [
    "figTemp = glucifer.Figure()\n",
    "figTemp.append( glucifer.objects.Surface(mesh, temperatureField))\n",
    "figTemp.append( glucifer.objects.VectorArrows(mesh,velocityField, arrowHead=0.2, scaling=0.005))\n",
    "\n",
    "figTemp.show()"
   ]
  },
  {
   "cell_type": "code",
   "execution_count": 51,
   "metadata": {
    "collapsed": false
   },
   "outputs": [
    {
     "data": {
      "text/html": [
       "<img src='data:image/png;base64,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'>"
      ],
      "text/plain": [
       "<IPython.core.display.HTML object>"
      ]
     },
     "execution_count": 51,
     "metadata": {},
     "output_type": "execute_result"
    }
   ],
   "source": [
    "figVelocityMag = glucifer.Figure(figsize=(1024,384))\n",
    "figVelocityMag.append( glucifer.objects.Surface(mesh, fn.math.dot(velocityField,velocityField) ))\n",
    "figVelocityMag.show()"
   ]
  },
  {
   "cell_type": "code",
   "execution_count": 52,
   "metadata": {
    "collapsed": false
   },
   "outputs": [
    {
     "data": {
      "text/html": [
       "<img src='data:image/png;base64,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'>"
      ],
      "text/plain": [
       "<IPython.core.display.HTML object>"
      ]
     },
     "execution_count": 52,
     "metadata": {},
     "output_type": "execute_result"
    }
   ],
   "source": [
    "figVelocityMag = glucifer.Figure(figsize=(1024,384))\n",
    "figVelocityMag.append( glucifer.objects.Surface(mesh, pressureField, logScale=True, valueRange=[1e-15,5e-8]) )\n",
    "figVelocityMag.show()"
   ]
  },
  {
   "cell_type": "code",
   "execution_count": 79,
   "metadata": {
    "collapsed": false
   },
   "outputs": [],
   "source": [
    "figSwarm = glucifer.Figure(figsize=(1024,384))\n",
    "figSwarm.append( glucifer.objects.Points(gSwarm,materialVariable, colours='brown white blue red'))\n",
    "figSwarm.append( glucifer.objects.Mesh(mesh))\n",
    "figSwarm.show()\n",
    "figSwarm.save_database('test.gldb')"
   ]
  },
  {
   "cell_type": "code",
   "execution_count": 53,
   "metadata": {
    "collapsed": false
   },
   "outputs": [
    {
     "ename": "NameError",
     "evalue": "name 'start' is not defined",
     "output_type": "error",
     "traceback": [
      "\u001b[0;31m---------------------------------------------------------------------------\u001b[0m",
      "\u001b[0;31mNameError\u001b[0m                                 Traceback (most recent call last)",
      "\u001b[0;32m<ipython-input-53-dc3c2f2e7c24>\u001b[0m in \u001b[0;36m<module>\u001b[0;34m()\u001b[0m\n\u001b[0;32m----> 1\u001b[0;31m \u001b[0mmachine_time\u001b[0m \u001b[0;34m=\u001b[0m \u001b[0;34m(\u001b[0m\u001b[0mtime\u001b[0m\u001b[0;34m.\u001b[0m\u001b[0mclock\u001b[0m\u001b[0;34m(\u001b[0m\u001b[0;34m)\u001b[0m\u001b[0;34m-\u001b[0m\u001b[0mstart\u001b[0m\u001b[0;34m)\u001b[0m\u001b[0;34m\u001b[0m\u001b[0m\n\u001b[0m\u001b[1;32m      2\u001b[0m \u001b[0;32mprint\u001b[0m\u001b[0;34m(\u001b[0m\u001b[0;34m\"total time is: \"\u001b[0m \u001b[0;34m+\u001b[0m \u001b[0mstr\u001b[0m\u001b[0;34m(\u001b[0m\u001b[0mmachine_time\u001b[0m\u001b[0;34m)\u001b[0m\u001b[0;34m)\u001b[0m\u001b[0;34m\u001b[0m\u001b[0m\n",
      "\u001b[0;31mNameError\u001b[0m: name 'start' is not defined"
     ]
    }
   ],
   "source": [
    "machine_time = (time.clock()-start)\n",
    "print(\"total time is: \" + str(machine_time))"
   ]
  },
  {
   "cell_type": "code",
   "execution_count": 54,
   "metadata": {
    "collapsed": false
   },
   "outputs": [
    {
     "data": {
      "text/plain": [
       "1100.5338620296968"
      ]
     },
     "execution_count": 54,
     "metadata": {},
     "output_type": "execute_result"
    }
   ],
   "source": [
    "#Sanity check for periodic conditions\n",
    "velocityField.evaluate(TWalls)[:,0].max()"
   ]
  },
  {
   "cell_type": "code",
   "execution_count": 31,
   "metadata": {
    "collapsed": false
   },
   "outputs": [
    {
     "name": "stdout",
     "output_type": "stream",
     "text": [
      "TWalls x vel is: 3.17721915245\n",
      "IWalls x vel is: -0.143166437745\n"
     ]
    }
   ],
   "source": [
    "print(\"TWalls x vel is: \" + str(velocityField.evaluate(TWalls)[:,0].max()))\n",
    "print(\"IWalls x vel is: \" + str(velocityField.evaluate(IWalls)[:,0].max()))\n"
   ]
  },
  {
   "cell_type": "code",
   "execution_count": null,
   "metadata": {
    "collapsed": true
   },
   "outputs": [],
   "source": [
    "ts = ((D*1e3)**2)/k\n",
    "secperyear = (3600*24*365)\n",
    "dt*ts/secperyear\n",
    "\n",
    "#2.25895987733e-05*ts/secperyear"
   ]
  }
 ],
 "metadata": {
  "kernelspec": {
   "display_name": "Python 2",
   "language": "python",
   "name": "python2"
  },
  "language_info": {
   "codemirror_mode": {
    "name": "ipython",
    "version": 2
   },
   "file_extension": ".py",
   "mimetype": "text/x-python",
   "name": "python",
   "nbconvert_exporter": "python",
   "pygments_lexer": "ipython2",
   "version": "2.7.11"
  }
 },
 "nbformat": 4,
 "nbformat_minor": 0
}
