{
 "cells": [
  {
   "cell_type": "markdown",
   "metadata": {
    "collapsed": true
   },
   "source": [
    "Crameri-Tackley model\n",
    "=======\n",
    "\n",
    "From Cramer and Tackley 2015\n",
    "--------\n",
    "\n"
   ]
  },
  {
   "cell_type": "markdown",
   "metadata": {
    "collapsed": true
   },
   "source": [
    "\n",
    "\n",
    "\n",
    "References\n",
    "====\n",
    "\n",
    "\n"
   ]
  },
  {
   "cell_type": "markdown",
   "metadata": {},
   "source": [
    "Load python functions needed for underworld. Some additional python functions from os, math and numpy used later on."
   ]
  },
  {
   "cell_type": "code",
   "execution_count": 1,
   "metadata": {
    "collapsed": false
   },
   "outputs": [
    {
     "name": "stderr",
     "output_type": "stream",
     "text": [
      "Vendor:  Continuum Analytics, Inc.\n",
      "Package: mkl\n",
      "Message: trial mode expires in 28 days\n"
     ]
    }
   ],
   "source": [
    "import underworld as uw\n",
    "import math\n",
    "from underworld import function as fn\n",
    "import glucifer\n",
    "#import matplotlib.pyplot as pyplot\n",
    "import time\n",
    "import numpy as np\n",
    "import os\n",
    "import sys\n",
    "import natsort\n",
    "import shutil\n",
    "from easydict import EasyDict as edict\n",
    "import collections\n",
    "\n",
    "from mpi4py import MPI\n",
    "comm = MPI.COMM_WORLD\n",
    "rank = comm.Get_rank()"
   ]
  },
  {
   "cell_type": "code",
   "execution_count": 2,
   "metadata": {
    "collapsed": false
   },
   "outputs": [
    {
     "name": "stdout",
     "output_type": "stream",
     "text": [
      "/Users/dansandiford/Documents/programming/earthsci_code/python/crustyconvection\r\n",
      "analysis.ipynb     \u001b[1m\u001b[34mcheckpoint\u001b[m\u001b[m         \u001b[1m\u001b[34mresults\u001b[m\u001b[m            test.gldb\r\n",
      "base_model.ipynb   free_surface.ipynb \u001b[1m\u001b[34mstickyairtests\u001b[m\u001b[m     test.py\r\n",
      "base_model.py      raijin_single.pbs  \u001b[1m\u001b[34mtemp_ics\u001b[m\u001b[m\r\n"
     ]
    }
   ],
   "source": [
    "#Display working directory info if in nb mode\n",
    "if (len(sys.argv) > 1):\n",
    "    if (sys.argv[1] == '-f'):\n",
    "        !pwd && ls\n",
    "        "
   ]
  },
  {
   "cell_type": "code",
   "execution_count": 3,
   "metadata": {
    "collapsed": false
   },
   "outputs": [],
   "source": [
    "############\n",
    "#Model name.  \n",
    "############\n",
    "Model = \"R\"\n",
    "ModNum = 2\n",
    "\n",
    "if len(sys.argv) == 1:\n",
    "    ModIt = \"Base\"\n",
    "elif sys.argv[1] == '-f':\n",
    "    ModIt = \"Base\"\n",
    "else:\n",
    "    ModIt = str(sys.argv[1])"
   ]
  },
  {
   "cell_type": "markdown",
   "metadata": {},
   "source": [
    "Set physical constants and parameters, including the Rayleigh number (*RA*). "
   ]
  },
  {
   "cell_type": "code",
   "execution_count": 4,
   "metadata": {
    "collapsed": true
   },
   "outputs": [],
   "source": [
    "###########\n",
    "#Standard output directory setup\n",
    "###########\n",
    "\n",
    "\n",
    "outputPath = \"results\" + \"/\" +  str(Model) + \"/\" + str(ModNum) + \"/\" + str(ModIt) + \"/\"\n",
    "imagePath = outputPath + 'images/'\n",
    "filePath = outputPath + 'files/'\n",
    "checkpointPath = outputPath + 'checkpoint/'\n",
    "dbPath = outputPath + 'gldbs/'\n",
    "outputFile = 'results_model' + Model + '_' + str(ModNum) + '_' + str(ModIt) + '.dat'\n",
    "\n",
    "if uw.rank()==0:\n",
    "    # make directories if they don't exist\n",
    "    if not os.path.isdir(outputPath):\n",
    "        os.makedirs(outputPath)\n",
    "    if not os.path.isdir(checkpointPath):\n",
    "        os.makedirs(checkpointPath)\n",
    "    if not os.path.isdir(imagePath):\n",
    "        os.makedirs(imagePath)\n",
    "    if not os.path.isdir(dbPath):\n",
    "        os.makedirs(dbPath)\n",
    "    if not os.path.isdir(filePath):\n",
    "        os.makedirs(filePath)\n",
    "        \n",
    "comm.Barrier() #Barrier here so not procs run the check in the next cell too early "
   ]
  },
  {
   "cell_type": "code",
   "execution_count": 5,
   "metadata": {
    "collapsed": false
   },
   "outputs": [
    {
     "name": "stdout",
     "output_type": "stream",
     "text": [
      "results/R/2/Base/checkpoint/ is empty\n",
      "results/R/2/Base/checkpoint/25 has files\n",
      "results/R/2/Base/checkpoint/50 has files\n"
     ]
    }
   ],
   "source": [
    "###########\n",
    "#Check if starting from checkpoint\n",
    "###########\n",
    "\n",
    "checkdirs = []\n",
    "for dirpath, dirnames, files in os.walk(checkpointPath):\n",
    "    if files:\n",
    "        print dirpath, 'has files'\n",
    "        checkpointLoad = True\n",
    "        checkdirs.append(dirpath)\n",
    "    if not files:\n",
    "        print dirpath, 'is empty'\n",
    "        checkpointLoad = False\n",
    "        \n"
   ]
  },
  {
   "cell_type": "code",
   "execution_count": 6,
   "metadata": {
    "collapsed": false
   },
   "outputs": [],
   "source": [
    "###########\n",
    "#Physical parameters\n",
    "###########\n",
    "\n",
    "#The Slippy rheology class will contain dimensional and nondimensional values, linked in a self-consistent way by scaling paramters\n",
    "#lowermantle.nondimensional['cohesion']\n",
    "#Where lowermantle is a material class (generated within a rheology class); and non dimensional is a dictionary\n",
    "\n",
    "#UW naming conventions: \n",
    "#module_name, package_name, ClassName, function_name, method_name, \n",
    "#ExceptionName, propertyName GLOBAL_CONSTANT_NAME, globalVarName, instanceVarName, functionParameterName, localVarName\n",
    "###########\n",
    "\n",
    "\n",
    "#dimensional parameter dictionary\n",
    "dp = edict({'LS':2890.*1e3,\n",
    "           'rho':3300,\n",
    "           'g':9.81, \n",
    "           'eta0':1e23,\n",
    "           'k':10**-6,\n",
    "           'a':1.25*10**-5, \n",
    "           'TS':273.,\n",
    "           'TB':2773.,\n",
    "           'deltaT':2500, \n",
    "           'cohesion':1e7, \n",
    "           'E':240000., \n",
    "           'R':8.314,\n",
    "           'V':6.34*(10**-7) })\n",
    "\n",
    "#non-dimensional parameter dictionary\n",
    "ndp = edict({'RA':1e6, \n",
    "              'LS':1.,\n",
    "              'eta0':1.,\n",
    "              'k':1.,\n",
    "              'fc':0.1,\n",
    "              'E':11.55,\n",
    "              'V':3.0,\n",
    "              'H':20.,\n",
    "              'TR':(1600./2500.),\n",
    "              'TS':(dp.TS/2500.),\n",
    "              'RD':1.,\n",
    "              'cohesion':1577.})\n",
    "              #'cohesion':5*1577.})\n",
    "\n",
    "\n",
    "#A few parameters defining lengths scales, affects materal transistions etc.\n",
    "MANTLETOCRUST = (18.*1e3)/dp.LS #Crust depth\n",
    "CRUSTTOMANTLE = (300.*1e3)/dp.LS \n",
    "LITHTOMANTLE = (660.*1e3)/dp.LS \n",
    "MANTLETOLITH = (200.*1e3)/dp.LS \n",
    "TOPOHEIGHT = (15.*1e3)/dp.LS  #rock-air topography limits\n",
    "AVGTEMP = 0.53 #Used to define lithosphere\n",
    "\n",
    "\n",
    "#Compositional Rayliegh number of rock-air\n",
    "ETAREF = dp.rho*dp.g*dp.a*dp.deltaT*((dp.LS)**3)/(ndp.RA*dp.k) #equivalent dimensional reference viscosity\n",
    "RC = (3300.*dp.g*(dp.LS)**3)/(ETAREF *dp.k) #Composisitional Rayleigh number for rock-air buoyancy force\n",
    "COMP_RA_FACT = RC/ndp.RA\n",
    "\n",
    "\n",
    "#Additional dimensionless paramters\n",
    "AIRVISCOSITY = 0.001\n",
    "AIRDENSITY = ndp.RA*COMP_RA_FACT\n",
    "\n",
    "\n",
    "#######################To be replaced soon\n",
    "#Physical parameters that can be defined with STDIN,\n",
    "#The == '-f': check is a a hack check to see cover the notebook case\n",
    "if len(sys.argv) == 1:\n",
    "    ndp.cohesion = ndp.cohesion\n",
    "elif sys.argv[1] == '-f':\n",
    "    ndp.cohesion = ndp.cohesion\n",
    "else:\n",
    "    ndp.cohesion = float(sys.argv[1])*newvisc"
   ]
  },
  {
   "cell_type": "code",
   "execution_count": 7,
   "metadata": {
    "collapsed": false
   },
   "outputs": [],
   "source": [
    "###########\n",
    "#Model setup parameters\n",
    "###########\n",
    "\n",
    "stickyAir = False\n",
    "\n",
    "MINX = -1.\n",
    "MINY = 0.\n",
    "MAXX = 1.0\n",
    "\n",
    "#MAXY = 1.035\n",
    "MAXY = 1.\n",
    "\n",
    "if MINX == 0.:\n",
    "    squareModel = True\n",
    "else: \n",
    "    squareModel = False\n",
    "    \n",
    "    \n",
    "dim = 2          # number of spatial dimensions\n",
    "\n",
    "\n",
    "#MESH STUFF\n",
    "\n",
    "RES = 128\n",
    "\n",
    "if MINX == 0.:\n",
    "    Xres = RES\n",
    "else:\n",
    "    Xres = 2*RES\n",
    "\n",
    "if stickyAir:\n",
    "    Yres = RES + 8\n",
    "    MAXY = float(Yres)/RES\n",
    "    \n",
    "else:\n",
    "    Yres = RES\n",
    "    MAXY = 1.\n",
    "\n",
    "\n",
    "periodic = [False,False]\n",
    "elementType = \"Q1/dQ0\"\n",
    "#elementType =\"Q2/DPC1\"\n",
    "\n",
    "refineMesh = True\n",
    "\n",
    "s = 1.2 #Mesh refinement parameter\n",
    "ALPHA = 11. #Mesh refinement parameter\n",
    "\n",
    "#System/Solver stuff\n",
    "\n",
    "PIC_integration=False"
   ]
  },
  {
   "cell_type": "code",
   "execution_count": 8,
   "metadata": {
    "collapsed": true
   },
   "outputs": [],
   "source": [
    "###########\n",
    "#Model Runtime parameters\n",
    "###########\n",
    "\n",
    "swarm_update = 25\n",
    "swarm_repop = 25\n",
    "files_output = 1e6\n",
    "gldbs_output = 25\n",
    "images_output = 1e6\n",
    "checkpoint_every = 25\n",
    "metric_output = 25\n",
    "sticky_air_temp = 10\n",
    "\n",
    "comm.Barrier() #Barrier here so not procs run the check in the next cell too early \n",
    "\n",
    "assert metric_output <= checkpoint_every, 'Checkpointing should run less or as ofen as metric output'\n",
    "assert (metric_output >= swarm_update), 'Swarm update is needed before checkpointing'\n",
    "assert metric_output >= sticky_air_temp, 'Sticky air temp should be updated more frequently that metrics'\n"
   ]
  },
  {
   "cell_type": "code",
   "execution_count": 9,
   "metadata": {
    "collapsed": false
   },
   "outputs": [],
   "source": [
    "###########\n",
    "#Model output parameters\n",
    "###########\n",
    "\n",
    "#Do you want to write hdf5 files - Temp, RMS, viscosity, stress?\n",
    "writeFiles = True\n",
    "loadTemp = True\n"
   ]
  },
  {
   "cell_type": "code",
   "execution_count": 10,
   "metadata": {
    "collapsed": false
   },
   "outputs": [],
   "source": [
    "mesh = uw.mesh.FeMesh_Cartesian( elementType = (\"Q1/dQ0\"),\n",
    "                                 elementRes  = (Xres, Yres), \n",
    "                                 minCoord    = (MINX,MINY), \n",
    "                                 maxCoord=(MAXX,MAXY), periodic=periodic)\n",
    "\n",
    "\n",
    "\n",
    "velocityField       = uw.mesh.MeshVariable( mesh=mesh,         nodeDofCount=dim )\n",
    "pressureField       = uw.mesh.MeshVariable( mesh=mesh.subMesh, nodeDofCount=1 )\n",
    "temperatureField    = uw.mesh.MeshVariable( mesh=mesh,         nodeDofCount=1 )\n",
    "temperatureDotField = uw.mesh.MeshVariable( mesh=mesh,         nodeDofCount=1 )"
   ]
  },
  {
   "cell_type": "code",
   "execution_count": 11,
   "metadata": {
    "collapsed": false
   },
   "outputs": [
    {
     "data": {
      "text/plain": [
       "(256, 128, -1.0, 1.0, 0.0, 1.0, [False, False], 'Q1/dQ0', 2)"
      ]
     },
     "execution_count": 11,
     "metadata": {},
     "output_type": "execute_result"
    }
   ],
   "source": [
    "Xres, Yres, MINX,MAXX,MINY,MAXY, periodic, elementType, dim "
   ]
  },
  {
   "cell_type": "markdown",
   "metadata": {},
   "source": [
    "##Refine mesh"
   ]
  },
  {
   "cell_type": "markdown",
   "metadata": {
    "collapsed": true
   },
   "source": [
    "if refineMesh:\n",
    "    alpha=ALPHA\n",
    "    newys = []\n",
    "    newxs = []\n",
    "    for index, coord in enumerate(linearMesh.data):\n",
    "        y0 = coord[1]\n",
    "        x0 = abs(coord[0])\n",
    "        if y0 >= 1.0:\n",
    "            newy = y0\n",
    "        else:\n",
    "            newy = (math.log(alpha*y0 + math.e) - 1)*(1/(math.log(alpha + math.e) - 1))\n",
    "        newx = (math.log((alpha/2.)*x0 + math.e) - 1)*(1/(math.log((alpha/2.) + math.e) - 1))\n",
    "        if coord[0] <= 0:\n",
    "            newx = -1.*newx\n",
    "        newys.append(newy)\n",
    "        newxs.append(newx)\n",
    "        \n",
    "    with linearMesh.deform_mesh():\n",
    "        linearMesh.data[:,1] = newys\n",
    "        linearMesh.data[:,0] = newxs"
   ]
  },
  {
   "cell_type": "markdown",
   "metadata": {
    "collapsed": false
   },
   "source": [
    "#THis one for the rectangular mesh\n",
    "\n",
    "if refineMesh:\n",
    "    alpha = ALPHA\n",
    "    newys = []\n",
    "    newxs = []\n",
    "    for index, coord in enumerate(mesh.data):\n",
    "        y0 = coord[1]\n",
    "        x0 = abs(coord[0])\n",
    "        if y0 == MAXY:\n",
    "            newy = y0\n",
    "        else:\n",
    "            ynorm = y0/MAXY\n",
    "            newy = MAXY*(math.log(alpha*ynorm + math.e) - 1)*(1/(math.log(alpha + math.e) - 1))\n",
    "        if coord[0] > 0:\n",
    "            newx = (math.e**(x0*(math.log((alpha/2.) + math.e) - 1) + 1 ) - math.e)/(alpha/2.)\n",
    "        else:\n",
    "            newx = -1.*(math.e**(x0*(math.log((alpha/2.) + math.e) - 1) + 1 ) - math.e)/(alpha/2.)\n",
    "        newys.append(newy)\n",
    "        newxs.append(newx)\n",
    "        #print y0,newy\n",
    "\n",
    "    with mesh.deform_mesh():\n",
    "            mesh.data[:,1] = newys\n",
    "            mesh.data[:,0] = newxs"
   ]
  },
  {
   "cell_type": "code",
   "execution_count": 12,
   "metadata": {
    "collapsed": false
   },
   "outputs": [],
   "source": [
    "# Get the actual sets \n",
    "#\n",
    "#  HJJJJJJH\n",
    "#  I      I\n",
    "#  I      I\n",
    "#  I      I\n",
    "#  HJJJJJJH\n",
    "#  \n",
    "#  Note that H = I & J \n",
    "\n",
    "# Note that we use operator overloading to combine sets\n",
    "# send boundary condition information to underworld\n",
    "IWalls = mesh.specialSets[\"MinI_VertexSet\"] + mesh.specialSets[\"MaxI_VertexSet\"]\n",
    "JWalls = mesh.specialSets[\"MinJ_VertexSet\"] + mesh.specialSets[\"MaxJ_VertexSet\"]\n",
    "TWalls = mesh.specialSets[\"MaxJ_VertexSet\"]\n",
    "BWalls = mesh.specialSets[\"MinJ_VertexSet\"]\n",
    "AWalls = IWalls + JWalls"
   ]
  },
  {
   "cell_type": "code",
   "execution_count": 13,
   "metadata": {
    "collapsed": false
   },
   "outputs": [
    {
     "name": "stdout",
     "output_type": "stream",
     "text": [
      "refine By:2.0\n"
     ]
    }
   ],
   "source": [
    "def coarse_fine_division(mesh, axis=\"y\", refine_by=2., relax_by =0.5):\n",
    "    if axis == \"y\":\n",
    "        thisaxis = 1\n",
    "    else:\n",
    "        thisaxis = 0\n",
    "    width = (mesh.maxCoord[thisaxis]-mesh.minCoord[thisaxis])\n",
    "    dx = (mesh.maxCoord[thisaxis]-mesh.minCoord[thisaxis])/ (mesh.elementRes[thisaxis])\n",
    "    nx = mesh.elementRes[thisaxis]\n",
    "    dxf = dx/ refine_by\n",
    "    dxc = dx/ relax_by\n",
    "    print(\"refine By:\" + str(refine_by))\n",
    "    i = 0\n",
    "    current_width = ((nx - i)  * dxf) + (i * dxc)\n",
    "    while current_width < width:\n",
    "        i += 1\n",
    "        current_width = ((nx - i)  * dxf) + (i * dxc)\n",
    "    #print current_width\n",
    "    #correct dxc so the total domain is preserved.\n",
    "    dxc = (width  - ((nx - i)  * dxf))/i\n",
    "    nxf = (nx - i) \n",
    "    nxc = i\n",
    "    nt = (nxf + nxc)\n",
    "    assert nt == nx\n",
    "    return nxf, dxf, nxc, dxc\n",
    "\n",
    "nxf, dxf, nxc, dxc = coarse_fine_division(mesh, axis=\"x\", refine_by=2., relax_by =0.5)\n",
    "\n",
    "def shishkin_centre_arrange(mesh, axis=\"y\",centre = 0.5, nxf=nxf, dxf=dxf, nxc=nxc, dxc=dxc):\n",
    "    import itertools\n",
    "    if axis == \"y\":\n",
    "        thisaxis = 1\n",
    "    else:\n",
    "        thisaxis = 0\n",
    "    print thisaxis\n",
    "    ###################\n",
    "    #Get the number of coarse elements either side of fine elements\n",
    "    ###################\n",
    "    nr = nxc\n",
    "    nl = 0\n",
    "    print((nxf*dxf - abs(mesh.minCoord[thisaxis])))\n",
    "    if ((nxf*dxf - abs(mesh.minCoord[thisaxis])) > centre):\n",
    "        print(\"left edge\")\n",
    "        pass\n",
    "    else:\n",
    "        left_length = (nl*dxc) + 0.5*(dxf*nxf) - abs(mesh.minCoord[thisaxis])\n",
    "        while (left_length <  centre):\n",
    "            nl += 1\n",
    "            left_length = (nl*dxc) + 0.5*(dxf*nxf) - abs(mesh.minCoord[thisaxis])\n",
    "            #print(left_length)\n",
    "            if nl == nxc:\n",
    "                print(\"right edge\")\n",
    "                break\n",
    "        nr = nxc - nl\n",
    "    print(nl, nr, nxf)\n",
    "    #assert nr + nl + nxf == mesh.elementRes[thisaxis]\n",
    "    ###################\n",
    "    #return dictionary of new element mappings\n",
    "    ###################\n",
    "    lcoords = [(mesh.minCoord[thisaxis] + i*dxc) for i in range(nl+1)]\n",
    "    if lcoords:\n",
    "        #print(nl, lcoords[-1]/dxc)\n",
    "        ccoords =  [lcoords[-1] + i*dxf for i in range(1, nxf+1)]\n",
    "    else:\n",
    "        ccoords =  [(mesh.minCoord[thisaxis] + i*dxf) for i in range(0, nxf)]\n",
    "    rcoords = [ccoords[-1] + i*dxc for i in range(1, nr +1)]\n",
    "    if rcoords:\n",
    "        #rcoords.append(mesh.maxCoord[0])\n",
    "        pass\n",
    "    else:\n",
    "        #ccoords.append(mesh.maxCoord[0])\n",
    "        pass\n",
    "    newcoords = lcoords+ ccoords+ rcoords\n",
    "    #assert len(newcoords) == nx + 1 \n",
    "    #origcoords = list(np.unique(mesh.data[:,thisaxis]))\n",
    "    #origcoords = np.linspace(mesh.minCoord[thisaxis], mesh.maxCoord[thisaxis], mesh.elementRes[thisaxis])\n",
    "    width = (mesh.maxCoord[thisaxis]-mesh.minCoord[thisaxis])\n",
    "    dx = (mesh.maxCoord[thisaxis]-mesh.minCoord[thisaxis])/ (mesh.elementRes[thisaxis])\n",
    "    origcoords = list(np.arange(mesh.minCoord[thisaxis], mesh.maxCoord[thisaxis], dx))\n",
    "    origcoords.append(mesh.maxCoord[thisaxis])\n",
    "    dictionary = dict(itertools.izip(origcoords, newcoords))\n",
    "    assert len([x for x, y in collections.Counter(newcoords).items() if y > 1]) == 0 #checks agains multiple coordinates\n",
    "    return dictionary\n",
    "\n",
    "\n",
    " \n",
    "def shishkin_deform(mesh, centre = 0.5, axis=\"y\", refine_by=2., relax_by =0.5):\n",
    "    if axis == \"y\":\n",
    "        thisaxis = 1\n",
    "    else:\n",
    "        thisaxis = 0\n",
    "    nxf, dxf, nxc, dxc, = coarse_fine_division(mesh,axis, refine_by=refine_by, relax_by =relax_by)\n",
    "    coorddict = shishkin_centre_arrange(mesh, nxf=nxf, dxf=dxf, nxc=nxc, dxc=dxc, axis=axis , centre=centre)\n",
    "    with mesh.deform_mesh():\n",
    "        for index, coord in enumerate(mesh.data):\n",
    "            key = mesh.data[index][thisaxis]\n",
    "            mesh.data[index][thisaxis] = coorddict[key]\n"
   ]
  },
  {
   "cell_type": "markdown",
   "metadata": {
    "collapsed": false
   },
   "source": [
    "mesh.reset()\n",
    "nxf, dxf, nxc, dxc, = coarse_fine_division(mesh,axis=\"x\", refine_by=2., relax_by =0.75)\n",
    "xcoorddict = shishkin_centre_arrange(mesh, axis=\"x\", centre=0., nxf=nxf, dxf=dxf, nxc=nxc, dxc=dxc)\n",
    "\n",
    "nxf, dxf, nxc, dxc, = coarse_fine_division(mesh,axis=\"y\", refine_by=2., relax_by =0.5)\n",
    "ycoorddict = shishkin_centre_arrange(mesh, axis=\"y\", centre=0., nxf=nxf, dxf=dxf, nxc=nxc, dxc=dxc)\n",
    "            \n",
    "\n",
    "newxs = []\n",
    "newys = []\n",
    "for index, coord in enumerate(mesh.data):\n",
    "    x0 = coord[0]\n",
    "    y0 = coord[1]\n",
    "    xkey = mesh.data[index][0]\n",
    "    ykey = mesh.data[index][1]\n",
    "    newx = xcoorddict[key]\n",
    "    newy = ycoorddict[key]\n",
    "    newxs.append(newx)\n",
    "\n",
    "with mesh.deform_mesh():\n",
    "    mesh.data[:,0] = newxs\n",
    "    mesh.data[:,0] = newxs"
   ]
  },
  {
   "cell_type": "code",
   "execution_count": 14,
   "metadata": {
    "collapsed": false
   },
   "outputs": [
    {
     "name": "stdout",
     "output_type": "stream",
     "text": [
      "refine By:2.0\n",
      "1\n",
      "0.33203125\n",
      "right edge\n",
      "(43, 0, 85)\n",
      "refine By:2.0\n",
      "0\n",
      "-0.6015625\n",
      "(77, 77, 102)\n"
     ]
    }
   ],
   "source": [
    "shishkin_deform(mesh, centre = 0.9, axis=\"y\", refine_by=2.0, relax_by =0.5)\n",
    "shishkin_deform(mesh, centre = 0.0, axis=\"x\", refine_by=2.0, relax_by =0.75)"
   ]
  },
  {
   "cell_type": "code",
   "execution_count": 15,
   "metadata": {
    "collapsed": false
   },
   "outputs": [
    {
     "data": {
      "text/html": [
       "<img src='data:image/png;base64,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'>"
      ],
      "text/plain": [
       "<IPython.core.display.HTML object>"
      ]
     },
     "execution_count": 15,
     "metadata": {},
     "output_type": "execute_result"
    }
   ],
   "source": [
    "figSwarm = glucifer.Figure(figsize=(1024,384))\n",
    "#figSwarm.append( glucifer.objects.Points(gSwarm,materialVariable, colours='brown white blue red'))\n",
    "figSwarm.append( glucifer.objects.Mesh(mesh))\n",
    "figSwarm.save_database('test.gldb')\n",
    "figSwarm.show()"
   ]
  },
  {
   "cell_type": "markdown",
   "metadata": {},
   "source": [
    "#ICs and BCs"
   ]
  },
  {
   "cell_type": "code",
   "execution_count": 210,
   "metadata": {
    "collapsed": false
   },
   "outputs": [],
   "source": [
    "# Initialise data.. Note that we are also setting boundary conditions here\n",
    "velocityField.data[:] = [0.,0.]\n",
    "pressureField.data[:] = 0.\n",
    "temperatureField.data[:] = 0.\n",
    "temperatureDotField.data[:] = 0.\n",
    "\n",
    "def wbl(x, w0 = 0.06):\n",
    "    delx = 1- abs(x)\n",
    "    Wbl = w0*math.sqrt(delx)\n",
    "    if Wbl== 0.: #to avoid division by zero\n",
    "        Wbl = 1e-8\n",
    "    return Wbl\n",
    "\n",
    "\n",
    "\n",
    "def tempf(z,w,t0=0.64):\n",
    "    temp = t0*math.erf((1-z)/w)\n",
    "    return temp\n",
    "\n"
   ]
  },
  {
   "cell_type": "code",
   "execution_count": 211,
   "metadata": {
    "collapsed": false
   },
   "outputs": [],
   "source": [
    "for index, coord in enumerate(mesh.data):\n",
    "    w = wbl(coord[0])\n",
    "    t = tempf(coord[1], w)\n",
    "    temperatureField.data[index] = t\n",
    "\n",
    "\n",
    "for index, coord in enumerate(mesh.data):\n",
    "    if abs(coord[0]) < wbl(0)/2. and coord[1] > 0.5:\n",
    "        w = wbl(0)/2.\n",
    "        d = w - abs(coord[0])\n",
    "        t = tempf(d, coord[1], w)\n",
    "        temperatureField.data[index] = t\n",
    "        \n",
    "        \n",
    "\n",
    "#Set sticky air Temp to zero\n",
    "\n",
    "for index, coord in enumerate(mesh.data):\n",
    "    if coord[1] > 1.:\n",
    "        temperatureField.data[index] = 0."
   ]
  },
  {
   "cell_type": "code",
   "execution_count": 212,
   "metadata": {
    "collapsed": true
   },
   "outputs": [],
   "source": [
    "#For notebook runs\n",
    "#ModIt = \"96\""
   ]
  },
  {
   "cell_type": "code",
   "execution_count": 213,
   "metadata": {
    "collapsed": false
   },
   "outputs": [],
   "source": [
    "# Now setup the dirichlet boundary condition\n",
    "# Note that through this object, we are flagging to the system \n",
    "# that these nodes are to be considered as boundary conditions. \n",
    "# Also note that we provide a tuple of sets.. One for the Vx, one for Vy.\n",
    "freeslipBC = uw.conditions.DirichletCondition( variable      = velocityField, \n",
    "                                               indexSetsPerDof = (IWalls, JWalls) )\n",
    "\n",
    "# also set dirichlet for temp field\n",
    "tempBC = uw.conditions.DirichletCondition(     variable=temperatureField, \n",
    "                                              indexSetsPerDof=(JWalls,) )\n",
    "\n",
    "\n",
    "# set initial conditions (and boundary values)\n",
    "velocityField.data[:] = [0.,0.]\n",
    "pressureField.data[:] = 0.\n",
    "\n",
    "\n",
    "\n"
   ]
  },
  {
   "cell_type": "markdown",
   "metadata": {},
   "source": [
    "##Add Random 125 K temp perturbation\n"
   ]
  },
  {
   "cell_type": "code",
   "execution_count": 214,
   "metadata": {
    "collapsed": true
   },
   "outputs": [],
   "source": [
    "tempNump = temperatureField.data\n",
    "\n",
    "#In gerneral we only want to do this on the initial setup, not restarts\n",
    "\n",
    "if not checkpointLoad:\n",
    "    for index, coord in enumerate(mesh.data):\n",
    "        pertCoeff = (0.05*np.random.rand(1)[0])\n",
    "        ict = tempNump[index]\n",
    "        tempNump[index] = ict + pertCoeff"
   ]
  },
  {
   "cell_type": "markdown",
   "metadata": {},
   "source": [
    "##Reset bottom Dirichlet conds."
   ]
  },
  {
   "cell_type": "code",
   "execution_count": 215,
   "metadata": {
    "collapsed": false
   },
   "outputs": [],
   "source": [
    "# Set temp boundaries \n",
    "# on the boundaries\n",
    "for index in mesh.specialSets[\"MinJ_VertexSet\"]:\n",
    "    temperatureField.data[index] = ndp.TR\n",
    "for index in mesh.specialSets[\"MaxJ_VertexSet\"]:\n",
    "    temperatureField.data[index] = ndp.TS"
   ]
  },
  {
   "cell_type": "code",
   "execution_count": 216,
   "metadata": {
    "collapsed": false
   },
   "outputs": [],
   "source": [
    "#temperatureField.evaluate(IWalls).min()"
   ]
  },
  {
   "cell_type": "markdown",
   "metadata": {},
   "source": [
    "#Particles"
   ]
  },
  {
   "cell_type": "code",
   "execution_count": 217,
   "metadata": {
    "collapsed": false
   },
   "outputs": [],
   "source": [
    "###########\n",
    "#Material Swarm and variables\n",
    "###########\n",
    "\n",
    "gSwarm = uw.swarm.Swarm(mesh=mesh)\n",
    "materialVariable = gSwarm.add_variable( dataType=\"char\", count=1 )\n",
    "rockIntVar = gSwarm.add_variable( dataType=\"double\", count=1 )\n",
    "airIntVar = gSwarm.add_variable( dataType=\"double\", count=1 )\n",
    "lithIntVar = gSwarm.add_variable( dataType=\"double\", count=1 )\n",
    "\n",
    "varlist = [materialVariable, rockIntVar, airIntVar, lithIntVar]\n",
    "varnames = ['materialVariable', 'rockIntVar', 'airIntVar', 'lithIntVar']"
   ]
  },
  {
   "cell_type": "code",
   "execution_count": 218,
   "metadata": {
    "collapsed": true
   },
   "outputs": [],
   "source": [
    "###########\n",
    "#Swarms for surface intragrals when using Sticky air\n",
    "###########\n",
    "\n",
    "snum = 1000.\n",
    "dx = (mesh.data[:,0].max()- mesh.data[:,0].min())/snum\n",
    "yp = 0.9947 #1. - yelsize/2. at res = 96\n",
    "\n",
    "mesh.data[:,0].max()\n",
    "xps = np.linspace(mesh.data[:,0].min(),mesh.data[:,0].max(), snum)\n",
    "yps = [yp for i in xps]\n",
    "\n",
    "surfintswarm = uw.swarm.Swarm( mesh=mesh )\n",
    "dumout = surfintswarm.add_particles_with_coordinates(np.array((xps,yps)).T)\n",
    "\n",
    "yps = [ 1.- yp  for i in xps]\n",
    "\n",
    "baseintswarm = uw.swarm.Swarm( mesh=mesh)\n",
    "dumout = baseintswarm.add_particles_with_coordinates(np.array((xps,yps)).T)"
   ]
  },
  {
   "cell_type": "markdown",
   "metadata": {},
   "source": [
    "#Initialise swarm variables, or Swarm checkpoint load"
   ]
  },
  {
   "cell_type": "code",
   "execution_count": 219,
   "metadata": {
    "collapsed": false
   },
   "outputs": [],
   "source": [
    "mantleIndex = 0\n",
    "lithosphereIndex = 1\n",
    "crustIndex = 2\n",
    "airIndex = 3\n",
    "\n",
    "\n",
    "if checkpointLoad:\n",
    "    checkpointLoadDir = natsort.natsorted(checkdirs)[-1]\n",
    "    temperatureField.load(os.path.join(checkpointLoadDir, \"temperatureField\" + \".hdf5\"))\n",
    "    pressureField.load(os.path.join(checkpointLoadDir, \"pressureField\" + \".hdf5\"))\n",
    "    velocityField.load(os.path.join(checkpointLoadDir, \"velocityField\" + \".hdf5\"))\n",
    "    gSwarm.load(os.path.join(checkpointLoadDir, \"swarm\" + \".h5\"))\n",
    "    for ix in range(len(varlist)):\n",
    "        varb = varlist[ix]\n",
    "        varb.load(os.path.join(checkpointLoadDir,varnames[ix] + \".h5\"))\n",
    "\n",
    "else:\n",
    "\n",
    "    # Layouts are used to populate the swarm across the whole domain\n",
    "    # Create the layout object\n",
    "    #layout = uw.swarm.layouts.GlobalSpaceFillerLayout( swarm=gSwarm, particlesPerCell=20)\n",
    "    layout = uw.swarm.layouts.PerCellRandomLayout(swarm=gSwarm, particlesPerCell=15)\n",
    "    # Now use it to populate.\n",
    "    gSwarm.populate_using_layout( layout=layout )\n",
    "\n",
    "    # Lets initialise the 'materialVariable' data to represent different materials\n",
    "    # Set the material to heavy everywhere via the numpy array\n",
    "    materialVariable.data[:] = mantleIndex\n",
    "    \n",
    "    \n",
    "    #Set initial air and crust materials (allow the graph to take care of lithsophere)\n",
    "    #########\n",
    "    #This initial material setup will be model dependent\n",
    "    #########\n",
    "    for particleID in range(gSwarm.particleCoordinates.data.shape[0]):\n",
    "        if (1. - gSwarm.particleCoordinates.data[particleID][1]) < 0:\n",
    "                 materialVariable.data[particleID] = airIndex\n",
    "        elif (1. - gSwarm.particleCoordinates.data[particleID][1]) < MANTLETOCRUST:\n",
    "                 materialVariable.data[particleID] = crustIndex"
   ]
  },
  {
   "cell_type": "markdown",
   "metadata": {},
   "source": [
    "#Material Graphs"
   ]
  },
  {
   "cell_type": "code",
   "execution_count": 220,
   "metadata": {
    "collapsed": false
   },
   "outputs": [],
   "source": [
    "##############\n",
    "#Important: This is a quick fix for a bug that arises in parallel runs\n",
    "##############\n",
    "material_list = [0,1,2,3]\n"
   ]
  },
  {
   "cell_type": "code",
   "execution_count": 221,
   "metadata": {
    "collapsed": false
   },
   "outputs": [
    {
     "name": "stdout",
     "output_type": "stream",
     "text": [
      "unique values after swarm has loaded:[0 2]\n"
     ]
    }
   ],
   "source": [
    "print( \"unique values after swarm has loaded:\" + str(np.unique(materialVariable.data[:])))\n"
   ]
  },
  {
   "cell_type": "code",
   "execution_count": 222,
   "metadata": {
    "collapsed": true
   },
   "outputs": [],
   "source": [
    "import networkx as nx\n",
    "\n",
    "#All depth conditions are given as (km/D) where D is the length scale, \n",
    "#note that 'model depths' are used, e.g. 1-z, where z is the vertical Underworld coordinate\n",
    "#All temp conditions are in dimensionless temp. [0. - 1.]\n",
    "\n",
    "#######Graph object\n",
    "DG = nx.DiGraph(field=\"Depth\")\n",
    "\n",
    "#######Nodes\n",
    "#Note that the order of materials, deepest to shallowest is important \n",
    "DG.add_node(0, mat='mantle')\n",
    "DG.add_node(1, mat='lithosphere')\n",
    "DG.add_node(2, mat='crust')\n",
    "DG.add_node(3, mat='air')\n",
    "\n",
    "\n",
    "labels=dict((n,d['mat']) for n,d in DG.nodes(data=True))\n",
    "pos=nx.spring_layout(DG) \n",
    "\n",
    "\n",
    "#######Edges\n",
    "#anything to air\n",
    "DG.add_edges_from([(0,3),(1,3), (2,3)])\n",
    "DG[0][3]['depthcondition'] = -1*TOPOHEIGHT\n",
    "DG[1][3]['depthcondition'] = -1*TOPOHEIGHT\n",
    "DG[2][3]['depthcondition'] = -1*TOPOHEIGHT\n",
    "\n",
    "\n",
    "#Anything to mantle\n",
    "DG.add_edges_from([(2,0), (3,0), (1,0)])\n",
    "DG[3][0]['depthcondition'] = TOPOHEIGHT\n",
    "DG[2][0]['depthcondition'] = CRUSTTOMANTLE\n",
    "DG[1][0]['depthcondition'] = LITHTOMANTLE #This means we're going to kill lithosphere at the 660.\n",
    "\n",
    "\n",
    "#Anything to lithsphere\n",
    "DG.add_edges_from([(0,1),(3,1)])\n",
    "DG[0][1]['depthcondition'] = MANTLETOLITH\n",
    "DG[0][1]['avgtempcondition'] = 0.75*AVGTEMP #definition of thermal lithosphere\n",
    "\n",
    "\n",
    "#Anything to crust\n",
    "DG.add_edges_from([(0,2), (1,2)])\n",
    "DG[0][2]['depthcondition'] = MANTLETOCRUST\n",
    "DG[1][2]['depthcondition'] = MANTLETOCRUST"
   ]
  },
  {
   "cell_type": "code",
   "execution_count": 223,
   "metadata": {
    "collapsed": false
   },
   "outputs": [
    {
     "data": {
      "text/plain": [
       "[0, 1, 2, 3]"
      ]
     },
     "execution_count": 223,
     "metadata": {},
     "output_type": "execute_result"
    }
   ],
   "source": [
    "DG.nodes()"
   ]
  },
  {
   "cell_type": "code",
   "execution_count": 224,
   "metadata": {
    "collapsed": false
   },
   "outputs": [],
   "source": [
    "remove_nodes = []\n",
    "for node in DG.nodes():\n",
    "    if not node in material_list:\n",
    "        remove_nodes.append(node)\n",
    "        \n",
    "for rmnode in remove_nodes:\n",
    "    DG.remove_node(rmnode)"
   ]
  },
  {
   "cell_type": "code",
   "execution_count": 225,
   "metadata": {
    "collapsed": false
   },
   "outputs": [
    {
     "data": {
      "text/plain": [
       "[0, 1, 2, 3]"
      ]
     },
     "execution_count": 225,
     "metadata": {},
     "output_type": "execute_result"
    }
   ],
   "source": [
    "DG.nodes()"
   ]
  },
  {
   "cell_type": "code",
   "execution_count": 226,
   "metadata": {
    "collapsed": false
   },
   "outputs": [],
   "source": [
    "\n",
    "#remove_nodes = []\n",
    "#for node in DG.nodes_iter():\n",
    "#    if not node in material_list:\n",
    "#        remove_nodes.append(node)\n",
    "        \n",
    "#for rmnode in remove_nodes:\n",
    "#    DG.remove_node(rmnode)"
   ]
  },
  {
   "cell_type": "code",
   "execution_count": 227,
   "metadata": {
    "collapsed": true
   },
   "outputs": [],
   "source": [
    "#A Dictionary to map strings in the graph (e.g. 'depthcondition') to particle data arrays\n",
    "\n",
    "particledepths = 1. - gSwarm.particleCoordinates.data[:,1]\n",
    "particletemps = temperatureField.evaluate(gSwarm)[:,0]\n",
    "\n",
    "conditionmap = {}\n",
    "\n",
    "conditionmap['depthcondition'] = {}\n",
    "conditionmap['depthcondition']['data'] = particledepths\n",
    "conditionmap['avgtempcondition'] = {}\n",
    "conditionmap['avgtempcondition']['data'] = particletemps"
   ]
  },
  {
   "cell_type": "code",
   "execution_count": 228,
   "metadata": {
    "collapsed": true
   },
   "outputs": [],
   "source": [
    "def update_swarm(graph, particleIndex):\n",
    "    \"\"\"\n",
    "    This function takes the materials graph (networkx.DiGraph), and a particle index,\n",
    "    then determines if a material update is required \n",
    "    and if so, returns the new materialindex\n",
    "    Args:\n",
    "        graph (networkx.DiGraph): Directed multigraph representing the transformation of material types\n",
    "        particleIndex (int): the particle index as corressponding to the index in the swarm data arrays\n",
    "    Returns:\n",
    "        if update is required the function returns the the new material variable (int) \n",
    "        else returns None\n",
    "    Raises:\n",
    "        TypeError: not implemented\n",
    "        ValueError: not implemented\n",
    "    \"\"\"\n",
    "    ##Egde gives links to other materials, we then query the conditions to see if we should change materials\n",
    "    matId = materialVariable.data[particleIndex][0]\n",
    "    innerchange = False\n",
    "    outerchange = False\n",
    "    for edge in graph[matId]:\n",
    "        if outerchange:\n",
    "            break\n",
    "        for cond in graph[matId][edge].keys():\n",
    "            outerchange = False\n",
    "            if innerchange: #found a complete transition, break inner loop\n",
    "                break\n",
    "            currentparticlevalue = conditionmap[cond]['data'][particleIndex]\n",
    "            crossover = graph[matId][edge][cond]\n",
    "            if ((matId > edge) and (currentparticlevalue > crossover)):\n",
    "                innerchange = False # continue on, \n",
    "                if graph[matId][edge].keys()[-1] == cond:\n",
    "                    outerchange = True\n",
    "                    innerchange = edge\n",
    "                    break\n",
    "            elif ((matId < edge) and (currentparticlevalue < crossover)):\n",
    "                innerchange = False\n",
    "                if graph[matId][edge].keys()[-1] == cond:\n",
    "                    outerchange = True\n",
    "                    innerchange = edge\n",
    "                    break\n",
    "            else:\n",
    "                #condition not met, break outer loop, go to next edge, outerchange should still be False\n",
    "                break\n",
    "    if type(innerchange) == int:\n",
    "        return innerchange"
   ]
  },
  {
   "cell_type": "code",
   "execution_count": 229,
   "metadata": {
    "collapsed": false
   },
   "outputs": [],
   "source": [
    "#Cleanse the swarm of its sins\n",
    "#For some Material Graphs, the graph may have to be treaversed more than once\n",
    "\n",
    "check = -1\n",
    "number_updated = 1\n",
    "\n",
    "while number_updated != 0:\n",
    "    number_updated = 0\n",
    "    for particleID in range(gSwarm.particleCoordinates.data.shape[0]):\n",
    "                check = update_swarm(DG, particleID)\n",
    "                if check > -1:\n",
    "                    number_updated += 1\n",
    "                    materialVariable.data[particleID] = check"
   ]
  },
  {
   "cell_type": "markdown",
   "metadata": {},
   "source": [
    "##Set the values for the masking swarms"
   ]
  },
  {
   "cell_type": "code",
   "execution_count": 230,
   "metadata": {
    "collapsed": false
   },
   "outputs": [],
   "source": [
    "#Setup up a masking Swarm variable for the integrations.\n",
    "#These should be rebuilt at same frequency as the metric calcualtions\n",
    "\n",
    "rockIntVar.data[:] = 0.\n",
    "notair = np.where(materialVariable.data != airIndex)\n",
    "rockIntVar.data[notair] = 1.\n",
    "\n",
    "airIntVar.data[:] = 0.\n",
    "notrock = np.where(materialVariable.data == airIndex)\n",
    "airIntVar.data[notrock] = 1.\n",
    "\n",
    "lithIntVar.data[:] = 0.\n",
    "islith = np.where((materialVariable.data == lithosphereIndex) | (materialVariable.data == crustIndex))\n",
    "lithIntVar.data[islith] = 1."
   ]
  },
  {
   "cell_type": "markdown",
   "metadata": {
    "collapsed": false
   },
   "source": [
    "#Material properties\n"
   ]
  },
  {
   "cell_type": "markdown",
   "metadata": {},
   "source": [
    "In the paper, Crameri and Tackley give the dimensionless cohesion as well as the dimensionless yield stress gradient. But the latter is given as a function of dimensionless (lithostatic) pressure, whereas it is easier to use dimensionless depth. Easy, multiply the dimensionless depth by $\\rho g D$, divide by the stress scale, $\\frac{\\eta \\kappa}{D^2}$ then use the same dimensionless yeild stress gradient ($\\mu$)"
   ]
  },
  {
   "cell_type": "code",
   "execution_count": 231,
   "metadata": {
    "collapsed": false
   },
   "outputs": [],
   "source": [
    "# The yeilding of the upper slab is dependent on the strain rate.\n",
    "strainRate_2ndInvariant = fn.tensor.second_invariant( \n",
    "                            fn.tensor.symmetric( \n",
    "                            velocityField.fn_gradient ))\n",
    "\n",
    "\n",
    "coordinate = fn.input()\n",
    "depth = 1. - coordinate[1]\n",
    "\n",
    "#Determine yield criterion for depth (rather than pressure as given in Crameri)\n",
    "#Scaling is same as van Heck and Tackley, EPSL, 2011\n",
    "lithopressuregrad = dp.rho*dp.g*(dp.LS)**3/(dp.eta0*dp.k)"
   ]
  },
  {
   "cell_type": "code",
   "execution_count": 232,
   "metadata": {
    "collapsed": false
   },
   "outputs": [
    {
     "name": "stdout",
     "output_type": "stream",
     "text": [
      "(11.55, 3.0, 0.1092, 1.0, 0.64, 1577.0)\n"
     ]
    }
   ],
   "source": [
    "#Check important paramters\n",
    "print(ndp.E, ndp.V,ndp.TS,ndp.RD, ndp.TR, ndp.cohesion)"
   ]
  },
  {
   "cell_type": "code",
   "execution_count": 233,
   "metadata": {
    "collapsed": false
   },
   "outputs": [],
   "source": [
    "############\n",
    "#Mantle\n",
    "############\n",
    "\n",
    "#Linear viscosity\n",
    "arhennius = fn.misc.min(1e5,fn.math.exp(((ndp.E + ndp.V*(1.-coordinate[1]))/\n",
    "                                         (temperatureField + ndp.TS)) - ((ndp.E + ndp.V*(1.- ndp.RD))/(ndp.TR + ndp.TS))))\n",
    "\n",
    "#Psuedo-plastic \n",
    "ys =  ndp.cohesion + (depth*ndp.fc*lithopressuregrad)\n",
    "#ys =  ndp.fc*lithopressuregrad*(30e3/dp.LS) # this is the byerlee strength at 30 km\n",
    "yss = fn.misc.max(1577., ys)\n",
    "plasticvisc = yss*(math.sqrt(2))/(strainRate_2ndInvariant*2.)\n",
    "plastic = fn.misc.max(1e-4,plasticvisc)\n",
    "#combine these\n",
    "mantleviscosityFn = fn.exception.SafeMaths(fn.misc.min(arhennius, plastic))\n",
    "\n",
    "############\n",
    "#crust\n",
    "############\n",
    "\n",
    "\n",
    "cohesion_reduce =5.\n",
    "ysc = (ndp.cohesion/cohesion_reduce) + (depth*(ndp.fc/100.)*lithopressuregrad)\n",
    "#ysc = ys/100.\n",
    "ycs = fn.misc.max((ndp.cohesion/cohesion_reduce), ysc)\n",
    "crustplasticvisc = ycs*(math.sqrt(2))/(strainRate_2ndInvariant*2.)\n",
    "crustplastic = fn.misc.max(1e-4,crustplasticvisc) \n",
    "crustviscosityFn = fn.exception.SafeMaths(fn.misc.min(arhennius, crustplastic))"
   ]
  },
  {
   "cell_type": "markdown",
   "metadata": {},
   "source": [
    "Note that the rheology implemented manually above can also be set up using an Underworld2 function, as follows:\n",
    "```python\n",
    "fn_stress =  2.*arhennius*uw.function.tensor.symmetric(velocityField.fn_gradient )\n",
    "plasticvisc = fn.rheology.stress_limiting_viscosity(fn_stress,ys,arhennius)\n",
    "plastic = fn.misc.max(1e-4,plasticvisc)\n",
    "mantleviscosityFn = fn.exception.SafeMaths(fn.misc.min(arhennius, plastic))\n",
    "stokesPIC.fn_viscosity = mantleviscosityFn\n",
    "```"
   ]
  },
  {
   "cell_type": "markdown",
   "metadata": {},
   "source": [
    "Set up material properties\n",
    "====\n",
    "\n",
    "Here the functions for density, viscosity etc. are set. These functions and/or values are preserved for the entire simulation time. "
   ]
  },
  {
   "cell_type": "code",
   "execution_count": 234,
   "metadata": {
    "collapsed": false
   },
   "outputs": [],
   "source": [
    "# Here we set a viscosity value of '1.' for both materials\n",
    "viscosityMapFn = fn.branching.map( fn_key = materialVariable,\n",
    "                         mapping = {airIndex:AIRVISCOSITY, \n",
    "                                    lithosphereIndex:mantleviscosityFn, \n",
    "                                    crustIndex:crustviscosityFn,\n",
    "                                    mantleIndex:mantleviscosityFn} )\n",
    "\n",
    "densityMapFn = fn.branching.map( fn_key = materialVariable,\n",
    "                         mapping = {airIndex:AIRDENSITY, \n",
    "                                    lithosphereIndex:ndp.RA*temperatureField, \n",
    "                                    crustIndex:ndp.RA*temperatureField, \n",
    "                                    mantleIndex:ndp.RA*temperatureField} )\n",
    "\n",
    "# Define our gravity using a python tuple (this will be automatically converted to a function)\n",
    "gravity = ( 0.0, 1.0 )\n",
    "\n",
    "buoyancyFn = gravity*densityMapFn"
   ]
  },
  {
   "cell_type": "code",
   "execution_count": null,
   "metadata": {
    "collapsed": false
   },
   "outputs": [],
   "source": []
  },
  {
   "cell_type": "markdown",
   "metadata": {},
   "source": [
    "Build the Stokes system, solvers, advection-diffusion\n",
    "------\n",
    "\n",
    "Setup linear Stokes system to get the initial velocity."
   ]
  },
  {
   "cell_type": "code",
   "execution_count": 235,
   "metadata": {
    "collapsed": false
   },
   "outputs": [],
   "source": [
    "stokesPIC = uw.systems.Stokes( velocityField = velocityField, \n",
    "                               pressureField = pressureField,\n",
    "                               #swarm         = gSwarm, \n",
    "                               conditions    = [freeslipBC,],\n",
    "                               fn_viscosity   = arhennius, \n",
    "                               fn_bodyforce   = buoyancyFn )\n"
   ]
  },
  {
   "cell_type": "code",
   "execution_count": 236,
   "metadata": {
    "collapsed": false
   },
   "outputs": [],
   "source": [
    "#We do one solve with linear viscosity to get the initial strain rate invariant. \n",
    "#This solve step also calculates a 'guess' of the the velocity field based on the linear system, \n",
    "#which is used later in the non-linear solver.\n",
    "\n",
    "solver = uw.systems.Solver(stokesPIC)\n",
    "# If not doing a restart, do a solve on the non-plastic system\n",
    "if not checkpointLoad:\n",
    "    solver.solve()"
   ]
  },
  {
   "cell_type": "code",
   "execution_count": null,
   "metadata": {
    "collapsed": true
   },
   "outputs": [],
   "source": []
  },
  {
   "cell_type": "code",
   "execution_count": 237,
   "metadata": {
    "collapsed": false
   },
   "outputs": [],
   "source": [
    "####################\n",
    "#Add the non-linear viscosity to the Stokes system\n",
    "stokesPIC.fn_viscosity = viscosityMapFn\n",
    "###################\n",
    "\n",
    "#Set more advanced solver option\n",
    "solver.options.main.Q22_pc_type='uw'\n",
    "solver.options.A11.ksp_rtol=1e-7\n",
    "solver.options.scr.ksp_rtol=1e-6\n",
    "solver.options.scr.use_previous_guess = True\n",
    "solver.options.scr.ksp_set_min_it_converge = 6\n",
    "\n",
    "solver.options.mg.levels = 3\n",
    "\n",
    "solver.options.A11.ksp_monitor=''"
   ]
  },
  {
   "cell_type": "code",
   "execution_count": 2,
   "metadata": {
    "collapsed": false
   },
   "outputs": [
    {
     "ename": "NameError",
     "evalue": "name 'solver' is not defined",
     "output_type": "error",
     "traceback": [
      "\u001b[0;31m---------------------------------------------------------------------------\u001b[0m",
      "\u001b[0;31mNameError\u001b[0m                                 Traceback (most recent call last)",
      "\u001b[0;32m<ipython-input-2-97134faac567>\u001b[0m in \u001b[0;36m<module>\u001b[0;34m()\u001b[0m\n\u001b[0;32m----> 1\u001b[0;31m \u001b[0msolver\u001b[0m\u001b[0;34m.\u001b[0m\u001b[0moptions\u001b[0m\u001b[0;34m.\u001b[0m\u001b[0mscr\u001b[0m\u001b[0;34m.\u001b[0m\u001b[0mksp_set_min_it_converge\u001b[0m\u001b[0;34m\u001b[0m\u001b[0m\n\u001b[0m",
      "\u001b[0;31mNameError\u001b[0m: name 'solver' is not defined"
     ]
    }
   ],
   "source": [
    "#solver.options.scr.ksp_set_min_it_converge"
   ]
  },
  {
   "cell_type": "markdown",
   "metadata": {},
   "source": [
    "Solve non-linear system for pressure and velocity using Picard iteration\n"
   ]
  },
  {
   "cell_type": "code",
   "execution_count": 238,
   "metadata": {
    "collapsed": false
   },
   "outputs": [],
   "source": [
    "solver.solve(nonLinearIterate=True)"
   ]
  },
  {
   "cell_type": "code",
   "execution_count": 239,
   "metadata": {
    "collapsed": true
   },
   "outputs": [],
   "source": [
    "#Now check the stress.\n",
    "fn_stress = 2.*mantleviscosityFn*uw.function.tensor.symmetric(velocityField.fn_gradient)\n",
    "fn_minmax_inv = fn.view.min_max(fn.tensor.second_invariant(fn_stress))\n",
    "ignore = fn_minmax_inv.evaluate(gSwarm)"
   ]
  },
  {
   "cell_type": "code",
   "execution_count": 240,
   "metadata": {
    "collapsed": false
   },
   "outputs": [
    {
     "data": {
      "text/plain": [
       "550350.6561038237"
      ]
     },
     "execution_count": 240,
     "metadata": {},
     "output_type": "execute_result"
    }
   ],
   "source": [
    "fn_minmax_inv.max_global()"
   ]
  },
  {
   "cell_type": "code",
   "execution_count": 241,
   "metadata": {
    "collapsed": false
   },
   "outputs": [],
   "source": [
    "#np.isclose(fn_minmax_inv.max_global(), ys, rtol=1e-03)"
   ]
  },
  {
   "cell_type": "code",
   "execution_count": 242,
   "metadata": {
    "collapsed": false
   },
   "outputs": [
    {
     "data": {
      "text/html": [
       "<img src='data:image/png;base64,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'>"
      ],
      "text/plain": [
       "<IPython.core.display.HTML object>"
      ]
     },
     "execution_count": 242,
     "metadata": {},
     "output_type": "execute_result"
    }
   ],
   "source": [
    "figTemp = glucifer.Figure()\n",
    "figTemp.append( glucifer.objects.Surface(mesh, fn.tensor.second_invariant(fn_stress)))\n",
    "#figTemp.append( glucifer.objects.VectorArrows(mesh,velocityField, arrowHead=0.2, scaling=0.0005))\n",
    "\n",
    "figTemp.show()"
   ]
  },
  {
   "cell_type": "markdown",
   "metadata": {},
   "source": [
    "Create an advective-diffusive system\n",
    "=====\n",
    "\n",
    "Setup the system in underworld by flagging the temperature and velocity field variables."
   ]
  },
  {
   "cell_type": "code",
   "execution_count": 243,
   "metadata": {
    "collapsed": false
   },
   "outputs": [],
   "source": [
    "#Create advdiff system\n",
    "\n",
    "advDiff = uw.systems.AdvectionDiffusion( phiField       = temperatureField, \n",
    "                                         phiDotField    = temperatureDotField, \n",
    "                                         velocityField  = velocityField, \n",
    "                                         fn_diffusivity = 1.0, \n",
    "                                         conditions     = [tempBC,] )\n",
    "\n",
    "\n",
    "\n",
    "advector = uw.systems.SwarmAdvector( swarm         = gSwarm, \n",
    "                                     velocityField = velocityField, \n",
    "                                     order         = 1)\n",
    "\n",
    "#Switch particle escape on, this will also trigger the inflow population control \n",
    "gSwarm.particleEscape = True"
   ]
  },
  {
   "cell_type": "markdown",
   "metadata": {},
   "source": [
    "Metrics for benchmark\n",
    "=====\n",
    "\n",
    "Define functions to be used in the time loop. For cases 1-4, participants were asked to report a number of diagnostic quantities to be measured after reaching steady state:\n",
    "\n",
    "* Average temp... $$  \\langle T \\rangle  = \\int^1_0 \\int^1_0 T \\, dxdy $$\n",
    "* Top and bottom Nusselt numbers... $$N = \\int^1_0 \\frac{\\partial T}{\\partial y} \\rvert_{y=0/1} \\, dx$$\n",
    "* RMS velocity over the whole domain, surface and max velocity at surface\n",
    "* max and min viscosity over the whole domain\n",
    "* average rate of work done against gravity...$$\\langle W \\rangle = \\int^1_0 \\int^1_0 T u_y \\, dx dy$$\n",
    "* and the average rate of viscous dissipation...$$\\langle \\Phi \\rangle = \\int^1_0 \\int^1_0 \\tau_{ij} \\dot \\epsilon_{ij} \\, dx dy$$\n",
    "\n",
    "* In steady state, if thermal energy is accurately conserved, the difference between $\\langle W \\rangle$ and $\\langle \\Phi \\rangle / Ra$ must vanish, so also reported is the percentage error: \n",
    "\n",
    "$$ \\delta = \\frac{\\lvert \\langle W \\rangle - \\frac{\\langle \\Phi \\rangle}{Ra} \\rvert}{max \\left(  \\langle W \\rangle,  \\frac{\\langle \\Phi \\rangle}{Ra}\\right)} \\times 100% $$"
   ]
  },
  {
   "cell_type": "code",
   "execution_count": 244,
   "metadata": {
    "collapsed": false
   },
   "outputs": [],
   "source": [
    "#Setup some Integrals. We want these outside the main loop...\n",
    "tempVariable = gSwarm.add_variable( dataType=\"double\", count=1 )\n",
    "tempVariable.data[:] = temperatureField.evaluate(gSwarm)[:]\n",
    "tempint = uw.utils.Integral((tempVariable*rockIntVar), mesh)\n",
    "\n",
    "\n",
    "areaint = uw.utils.Integral((1.*rockIntVar),mesh)\n",
    "\n",
    "v2int = uw.utils.Integral(fn.math.dot(velocityField,velocityField)*rockIntVar, mesh)\n",
    "\n",
    "\n",
    "dwint = uw.utils.Integral(temperatureField*velocityField[1]*rockIntVar, mesh)\n",
    "\n",
    "\n",
    "sinner = fn.math.dot(strainRate_2ndInvariant,strainRate_2ndInvariant)\n",
    "vdint = uw.utils.Integral((4.*mantleviscosityFn*sinner)*rockIntVar, mesh)\n",
    "vdintair = uw.utils.Integral((4.*mantleviscosityFn*sinner)*airIntVar, mesh)\n",
    "vdintlith = uw.utils.Integral((4.*mantleviscosityFn*sinner)*lithIntVar, mesh)"
   ]
  },
  {
   "cell_type": "code",
   "execution_count": 245,
   "metadata": {
    "collapsed": false
   },
   "outputs": [],
   "source": [
    "def avg_temp():\n",
    "    return tempint.evaluate()[0]\n",
    "\n",
    "#This one gets cleaned up when Surface integrals are available\n",
    "def nusselt(tempfield, swarm, dx):\n",
    "    #Update the swarm variable\n",
    "    tempgrad = tempfield.fn_gradient\n",
    "    valcheck = tempgrad[1].evaluate(swarm)\n",
    "    if valcheck is None:\n",
    "        vals = np.array(0, dtype='float64')\n",
    "    else:\n",
    "        vals = valcheck.sum()*dx\n",
    "    return vals\n",
    "\n",
    "def rms():\n",
    "    return math.sqrt(v2int.evaluate()[0])\n",
    "\n",
    "#This one gets cleaned up when Surface integrals are available\n",
    "def rms_surf(swarm, dx):\n",
    "    rmsmaxfn = fn.math.sqrt(fn.math.dot(velocityField,velocityField))\n",
    "    rmscheck = rmsmaxfn.evaluate(swarm)\n",
    "    if rmscheck is None:\n",
    "        rmsvals = np.array(0, dtype='float64')\n",
    "    else:\n",
    "        rmsvals = rmscheck.sum()*dx\n",
    "    return rmsvals\n",
    "\n",
    "def max_vx_surf(velfield, swarm):\n",
    "    surfvelxmaxfn = fn.view.min_max(velfield[0])\n",
    "    surfvelxmaxfn.evaluate(swarm)\n",
    "    return surfvelxmaxfn.max_global()\n",
    "\n",
    "def max_vy_surf(velfield, swarm):\n",
    "    surfvelxmaxfn = fn.view.min_max(velfield[1])\n",
    "    surfvelxmaxfn.evaluate(swarm)\n",
    "    return surfvelxmaxfn.max_global()\n",
    "\n",
    "def gravwork(workfn):\n",
    "    return workfn.evaluate()[0]\n",
    "\n",
    "def viscdis(vdissfn):\n",
    "    return vdissfn.evaluate()[0]\n",
    "\n",
    "def visc_extr(viscfn):\n",
    "    vuviscfn = fn.view.min_max(viscfn)\n",
    "    vuviscfn.evaluate(mesh)\n",
    "    return vuviscfn.max_global(), vuviscfn.min_global()"
   ]
  },
  {
   "cell_type": "code",
   "execution_count": 246,
   "metadata": {
    "collapsed": false
   },
   "outputs": [],
   "source": [
    "#Fields for saving data / fields\n",
    "\n",
    "rmsField = uw.mesh.MeshVariable( mesh=mesh,   nodeDofCount=1)\n",
    "rmsfn = fn.math.sqrt(fn.math.dot(velocityField,velocityField))\n",
    "rmsdata = rmsfn.evaluate(mesh)\n",
    "rmsField.data[:] = rmsdata \n",
    "\n",
    "viscField = uw.mesh.MeshVariable( mesh=mesh,   nodeDofCount=1)\n",
    "viscdata = mantleviscosityFn.evaluate(mesh)\n",
    "viscField.data[:] = viscdata\n",
    "\n",
    "\n",
    "strainrateField = uw.mesh.MeshVariable( mesh=mesh,   nodeDofCount=1)\n",
    "srtdata = fn.tensor.second_invariant( \n",
    "                    fn.tensor.symmetric( \n",
    "                        velocityField.fn_gradient ))\n",
    "rostfield = srtdata.evaluate(mesh)\n",
    "strainrateField.data[:] = rostfield\n",
    "\n",
    "viscVariable = gSwarm.add_variable( dataType=\"float\", count=1 )\n",
    "viscVariable.data[:] = viscosityMapFn.evaluate(gSwarm)"
   ]
  },
  {
   "cell_type": "code",
   "execution_count": 247,
   "metadata": {
    "collapsed": false
   },
   "outputs": [],
   "source": [
    "#Images\n",
    "figEta = glucifer.Figure()\n",
    "figEta.append( glucifer.objects.Points(gSwarm,viscVariable, logScale=True))\n",
    "\n",
    "\n",
    "figMat = glucifer.Figure()\n",
    "figMat.append( glucifer.objects.Points(gSwarm,materialVariable, colours='brown white blue red'))\n",
    "figMat.append( glucifer.objects.Mesh(mesh))\n",
    "\n",
    "\n",
    "figStrainRate = glucifer.Figure()\n",
    "figStrainRate.append( glucifer.objects.Surface(mesh, strainRate_2ndInvariant, logScale=True))\n",
    "\n",
    "\n",
    "figVelocityMag = glucifer.Figure()\n",
    "figVelocityMag.append( glucifer.objects.Surface(mesh, fn.math.dot(velocityField,velocityField))\n",
    ")\n",
    "figTemp = glucifer.Figure()\n",
    "figTemp.append( glucifer.objects.Surface(mesh, temperatureField))\n",
    "\n",
    "\n",
    "\n",
    "#Pack some stuff into a database as well\n",
    "figDb = glucifer.Figure()\n",
    "figDb.append( glucifer.objects.Points(gSwarm,viscVariable, logScale=True, colours='brown white blue'))\n",
    "figDb.append( glucifer.objects.Points(gSwarm,materialVariable, colours='brown white blue red'))\n",
    "figDb.append( glucifer.objects.Mesh(mesh))\n",
    "figDb.append( glucifer.objects.VectorArrows(mesh,velocityField, arrowHead=0.2, scaling=0.002))\n",
    "figDb.append( glucifer.objects.Surface(mesh, strainRate_2ndInvariant, logScale=True, colours='brown white blue'))"
   ]
  },
  {
   "cell_type": "markdown",
   "metadata": {},
   "source": [
    "Main simulation loop\n",
    "=======\n",
    "\n",
    "The main time stepping loop begins here. Before this the time and timestep are initialised to zero and the output statistics arrays are set up. Also the frequency of outputting basic statistics to the screen is set in steps_output.\n"
   ]
  },
  {
   "cell_type": "code",
   "execution_count": 248,
   "metadata": {
    "collapsed": true
   },
   "outputs": [],
   "source": [
    "pics = uw.swarm.PICIntegrationSwarm(gSwarm)"
   ]
  },
  {
   "cell_type": "code",
   "execution_count": 249,
   "metadata": {
    "collapsed": false
   },
   "outputs": [],
   "source": [
    "def checkpoint1(step, checkpointPath,filename, filewrites):\n",
    "    path = checkpointPath + str(step) \n",
    "    os.mkdir(path)\n",
    "    ##Write and save the file, if not already a writing step\n",
    "    if not step % filewrites == 0:\n",
    "        filename.write((13*'%-15s ' + '\\n') % (realtime, Viscdis, float(Nu0glob), float(Nu1glob), Avg_temp, \n",
    "                                              Rms,Rmsurfglob,Max_vx_surf,Gravwork, etamax, etamin, Viscdisair, Viscdislith))\n",
    "    filename.close()\n",
    "    shutil.copyfile(os.path.join(outputPath, outputFile), os.path.join(path, outputFile))\n",
    "\n",
    "\n",
    "def checkpoint2(step, checkpointPath, swarm, filename, varlist = [materialVariable], varnames = ['materialVariable']):\n",
    "    path = checkpointPath + str(step) \n",
    "    velfile = \"velocityField\" + \".hdf5\"\n",
    "    tempfile = \"temperatureField\" + \".hdf5\"\n",
    "    pressfile = \"pressureField\" + \".hdf5\"\n",
    "    velocityField.save(os.path.join(path, velfile))\n",
    "    temperatureField.save(os.path.join(path, tempfile))\n",
    "    pressureField.save(os.path.join(path, pressfile))\n",
    "    swarm.save(os.path.join(path, \"swarm.h5\") ) \n",
    "    for ix in range(len(varlist)):\n",
    "        varb = varlist[ix]\n",
    "        varb.save(os.path.join(path,varnames[ix] + \".h5\"))\n",
    "    "
   ]
  },
  {
   "cell_type": "code",
   "execution_count": 250,
   "metadata": {
    "collapsed": false
   },
   "outputs": [
    {
     "data": {
      "text/plain": [
       "(2.5495327996913645e-05, 1.274826008746458e-05)"
      ]
     },
     "execution_count": 250,
     "metadata": {},
     "output_type": "execute_result"
    }
   ],
   "source": [
    "advector.get_max_dt(), advDiff.get_max_dt()"
   ]
  },
  {
   "cell_type": "code",
   "execution_count": null,
   "metadata": {
    "collapsed": false
   },
   "outputs": [],
   "source": [
    "# initialise timer for computation\n",
    "start = time.clock()\n",
    "# setup summary output file (name above)\n",
    "if checkpointLoad:\n",
    "    if uw.rank() == 0:\n",
    "        shutil.copyfile(os.path.join(checkpointLoadDir, outputFile), outputPath+outputFile)\n",
    "    comm.Barrier()\n",
    "    f_o = open(os.path.join(outputPath, outputFile), 'a')\n",
    "    prevdata = np.genfromtxt(os.path.join(outputPath, outputFile), skip_header=0, skip_footer=0)\n",
    "    if len(prevdata.shape) == 1: #this is in case there is only one line in previous file\n",
    "        realtime = prevdata[0]\n",
    "    else:\n",
    "        realtime = prevdata[prevdata.shape[0]-1, 0]\n",
    "    step = int(checkpointLoadDir.split('/')[-1])\n",
    "    timevals = [0.]\n",
    "else:\n",
    "    f_o = open(outputPath+outputFile, 'w')\n",
    "    realtime = 0.\n",
    "    step = 0\n",
    "    timevals = [0.]"
   ]
  },
  {
   "cell_type": "code",
   "execution_count": null,
   "metadata": {
    "collapsed": false
   },
   "outputs": [
    {
     "name": "stdout",
     "output_type": "stream",
     "text": [
      "0\n",
      "1\n",
      "2\n",
      "3\n",
      "4\n",
      "5\n",
      "6\n",
      "7\n",
      "8\n",
      "9\n",
      "10\n",
      "11\n",
      "12\n",
      "13\n",
      "14\n",
      "15\n",
      "16\n",
      "17\n",
      "18\n",
      "19\n",
      "20\n",
      "21\n",
      "22\n",
      "23\n",
      "24\n",
      "25\n",
      "26\n",
      "27\n",
      "28\n",
      "29\n",
      "30\n",
      "31\n",
      "32\n",
      "33\n",
      "34\n",
      "35\n",
      "36\n",
      "37\n",
      "38\n",
      "39\n",
      "40\n",
      "41\n",
      "42\n",
      "43\n",
      "44\n",
      "45\n",
      "46\n",
      "47\n",
      "48\n",
      "49\n",
      "50\n",
      "51\n",
      "52\n",
      "53\n",
      "54\n",
      "55\n",
      "56\n",
      "57\n",
      "58\n",
      "59\n",
      "60\n",
      "61\n",
      "62\n",
      "63\n",
      "64\n",
      "65\n",
      "66\n",
      "67\n",
      "68\n",
      "69\n",
      "70\n",
      "71\n",
      "72\n",
      "73\n",
      "74\n",
      "75\n",
      "76\n",
      "77\n",
      "78\n",
      "79\n",
      "80\n",
      "81\n",
      "82\n",
      "83\n",
      "84\n",
      "85\n",
      "86\n",
      "87\n",
      "88\n",
      "89\n",
      "90\n",
      "91\n",
      "92\n",
      "93\n",
      "94\n",
      "95\n",
      "96\n",
      "97\n",
      "98\n",
      "99\n",
      "100\n",
      "101\n",
      "102\n",
      "103\n",
      "104\n",
      "105\n",
      "106\n",
      "107\n",
      "108\n",
      "109\n",
      "110\n",
      "111\n",
      "112\n",
      "113\n",
      "114\n",
      "115\n",
      "116\n",
      "117\n",
      "118\n",
      "119\n",
      "120\n",
      "121\n",
      "122\n",
      "123\n",
      "124\n",
      "125\n",
      "126\n",
      "127\n",
      "128\n",
      "129\n",
      "130\n",
      "131\n",
      "132\n",
      "133\n",
      "134\n",
      "135\n",
      "136\n",
      "137\n",
      "138\n",
      "139\n",
      "140\n",
      "141\n",
      "142\n",
      "143\n",
      "144\n",
      "145\n",
      "146\n",
      "147\n",
      "148\n",
      "149\n",
      "150\n",
      "151\n",
      "152\n",
      "153\n",
      "154\n",
      "155\n",
      "156\n",
      "157\n",
      "158\n",
      "159\n",
      "160\n",
      "161\n",
      "162\n",
      "163\n",
      "164\n",
      "165\n",
      "166\n",
      "167\n",
      "168\n",
      "169\n",
      "170\n",
      "171\n",
      "172\n",
      "173\n",
      "174\n",
      "175\n",
      "176\n",
      "177\n",
      "178\n",
      "179\n",
      "180\n",
      "181\n",
      "182\n",
      "183\n",
      "184\n",
      "185\n",
      "186\n",
      "187\n",
      "188\n",
      "189\n",
      "190\n",
      "191\n",
      "192\n",
      "193\n",
      "194\n",
      "195\n",
      "196\n",
      "197\n",
      "198\n",
      "199\n",
      "200\n",
      "201\n",
      "202\n",
      "203\n",
      "204\n",
      "205\n",
      "206\n",
      "207\n",
      "208\n",
      "209\n",
      "210\n",
      "211\n",
      "212\n",
      "213\n",
      "214\n",
      "215\n",
      "216\n",
      "217\n",
      "218\n",
      "219\n",
      "220\n",
      "221\n",
      "222\n",
      "223\n",
      "224\n",
      "225\n",
      "226\n",
      "227\n",
      "228\n",
      "229\n",
      "230\n",
      "231\n",
      "232\n",
      "233\n",
      "234\n",
      "235\n",
      "236\n",
      "237\n",
      "238\n",
      "239\n",
      "240\n",
      "241\n",
      "242\n",
      "243\n",
      "244\n",
      "245\n",
      "246\n",
      "247\n",
      "248\n",
      "249\n",
      "250\n",
      "251\n",
      "252\n",
      "253\n",
      "254\n",
      "255\n",
      "256\n",
      "257\n",
      "258\n",
      "259\n",
      "260\n",
      "261\n",
      "262\n",
      "263\n",
      "264\n",
      "265\n",
      "266\n",
      "267\n",
      "268\n",
      "269\n",
      "270\n",
      "271\n",
      "272\n",
      "273\n",
      "274\n",
      "275\n",
      "276\n",
      "277\n",
      "278\n",
      "279\n",
      "280\n",
      "281\n",
      "282\n",
      "283\n",
      "284\n",
      "285\n",
      "286\n",
      "287\n",
      "288\n",
      "289\n",
      "290\n",
      "291\n",
      "292\n",
      "293\n",
      "294\n",
      "295\n",
      "296\n",
      "297\n",
      "298\n",
      "299\n",
      "300\n",
      "301\n",
      "302\n",
      "303\n",
      "304\n",
      "305\n",
      "306\n",
      "307\n",
      "308\n",
      "309\n",
      "310\n",
      "311\n",
      "312\n",
      "313\n",
      "314\n",
      "315\n",
      "316\n",
      "317\n",
      "318\n",
      "319\n",
      "320\n",
      "321\n",
      "322\n",
      "323\n",
      "324\n",
      "325\n",
      "326\n",
      "327\n",
      "328\n",
      "329\n",
      "330\n",
      "331\n",
      "332\n",
      "333\n",
      "334\n",
      "335\n",
      "336\n",
      "337\n",
      "338\n",
      "339\n",
      "340\n",
      "341\n",
      "342\n",
      "343\n",
      "344\n",
      "345\n",
      "346\n",
      "347\n",
      "348\n",
      "349\n",
      "350\n",
      "351\n",
      "352\n",
      "353\n",
      "354\n",
      "355\n",
      "356\n",
      "357\n",
      "358\n",
      "359\n",
      "360\n",
      "361\n",
      "362\n",
      "363\n",
      "364\n",
      "365\n",
      "366\n",
      "367\n",
      "368\n",
      "369\n",
      "370\n",
      "371\n",
      "372\n",
      "373\n",
      "374\n",
      "375\n",
      "376\n",
      "377\n",
      "378\n",
      "379\n",
      "380\n",
      "381\n",
      "382\n",
      "383\n",
      "384\n",
      "385\n",
      "386\n",
      "387\n",
      "388\n",
      "389\n",
      "390\n",
      "391\n",
      "392\n",
      "393\n",
      "394\n",
      "395\n",
      "396\n",
      "397\n",
      "398\n",
      "399\n",
      "400\n",
      "401\n",
      "402\n",
      "403\n",
      "404\n",
      "405\n",
      "406\n",
      "407\n",
      "408\n",
      "409\n",
      "410\n",
      "411\n",
      "412\n",
      "413\n",
      "414\n",
      "415\n",
      "416\n",
      "417\n",
      "418\n",
      "419\n",
      "420\n",
      "421\n",
      "422\n",
      "423\n",
      "424\n",
      "425\n",
      "426\n",
      "427\n",
      "428\n",
      "429\n",
      "430\n",
      "431\n",
      "432\n",
      "433\n",
      "434\n",
      "435\n",
      "436\n",
      "437\n",
      "438\n",
      "439\n",
      "440\n",
      "441\n",
      "442\n",
      "443\n",
      "444\n",
      "445\n",
      "446\n",
      "447\n",
      "448\n",
      "449\n",
      "450\n",
      "451\n",
      "452\n",
      "453\n",
      "454\n",
      "455\n",
      "456\n",
      "457\n",
      "458\n",
      "459\n",
      "460\n",
      "461\n",
      "462\n",
      "463\n",
      "464\n",
      "465\n",
      "466\n",
      "467\n",
      "468\n",
      "469\n",
      "470\n",
      "471\n",
      "472\n",
      "473\n",
      "474\n",
      "475\n",
      "476\n",
      "477\n",
      "478\n",
      "479\n",
      "480\n",
      "481\n",
      "482\n",
      "483\n",
      "484\n",
      "485\n",
      "486\n",
      "487\n",
      "488\n",
      "489\n",
      "490\n",
      "491\n",
      "492\n",
      "493\n",
      "494\n",
      "495\n",
      "496\n",
      "497\n",
      "498\n",
      "499\n",
      "500\n",
      "501\n",
      "502\n",
      "503\n",
      "504\n",
      "505\n",
      "506\n",
      "507\n",
      "508\n",
      "509\n",
      "510\n",
      "511\n",
      "512\n",
      "513\n",
      "514\n",
      "515\n",
      "516\n",
      "517\n",
      "518\n",
      "519\n",
      "520\n",
      "521\n",
      "522\n",
      "523\n",
      "524\n",
      "525\n",
      "526\n",
      "527\n",
      "528\n",
      "529\n",
      "530\n",
      "531\n",
      "532\n",
      "533\n",
      "534\n",
      "535\n",
      "536\n",
      "537\n",
      "538\n",
      "539\n",
      "540\n",
      "541\n",
      "542\n",
      "543\n",
      "544\n",
      "545\n",
      "546\n",
      "547\n",
      "548\n",
      "549\n",
      "550\n",
      "551\n",
      "552\n",
      "553\n",
      "554\n",
      "555\n",
      "556\n",
      "557\n",
      "558\n",
      "559\n",
      "560\n",
      "561\n",
      "562\n",
      "563\n",
      "564\n",
      "565\n",
      "566\n",
      "567\n",
      "568\n",
      "569\n",
      "570\n",
      "571\n",
      "572\n",
      "573\n",
      "574\n",
      "575\n",
      "576\n",
      "577\n",
      "578\n",
      "579\n",
      "580\n",
      "581\n",
      "582\n",
      "583\n",
      "584\n",
      "585\n",
      "586\n",
      "587\n",
      "588\n",
      "589\n",
      "590\n",
      "591\n",
      "592\n",
      "593\n",
      "594\n",
      "595\n",
      "596\n",
      "597\n",
      "598\n",
      "599\n",
      "600\n",
      "601\n",
      "602\n",
      "603\n",
      "604\n",
      "605\n",
      "606\n",
      "607\n",
      "608\n",
      "609\n",
      "610\n",
      "611\n",
      "612\n",
      "613\n",
      "614\n",
      "615\n",
      "616\n",
      "617\n",
      "618\n",
      "619\n",
      "620\n",
      "621\n",
      "622\n",
      "623\n",
      "624\n",
      "625\n",
      "626\n",
      "627\n",
      "628\n",
      "629\n",
      "630\n",
      "631\n",
      "632\n",
      "633\n",
      "634\n",
      "635\n",
      "636\n",
      "637\n",
      "638\n",
      "639\n",
      "640\n",
      "641\n",
      "642\n",
      "643\n",
      "644\n",
      "645\n",
      "646\n",
      "647\n",
      "648\n",
      "649\n",
      "650\n",
      "651\n",
      "652\n",
      "653\n",
      "654\n",
      "655\n",
      "656\n",
      "657\n",
      "658\n",
      "659\n",
      "660\n",
      "661\n",
      "662\n",
      "663\n",
      "664\n",
      "665\n",
      "666\n",
      "667\n",
      "668\n",
      "669\n",
      "670\n",
      "671\n",
      "672\n",
      "673\n",
      "674\n",
      "675\n",
      "676\n",
      "677\n",
      "678\n",
      "679\n",
      "680\n",
      "681\n",
      "682\n",
      "683\n",
      "684\n",
      "685\n",
      "686\n",
      "687\n",
      "688\n",
      "689\n",
      "690\n",
      "691\n",
      "692\n",
      "693\n",
      "694\n",
      "695\n",
      "696\n",
      "697\n",
      "698\n",
      "699\n",
      "700\n",
      "701\n",
      "702\n",
      "703\n",
      "704\n",
      "705\n",
      "706\n",
      "707\n",
      "708\n",
      "709\n",
      "710\n",
      "711\n",
      "712\n",
      "713\n",
      "714\n",
      "715\n",
      "716\n",
      "717\n",
      "718\n",
      "719\n",
      "720\n",
      "721\n",
      "722\n",
      "723\n",
      "724\n",
      "725\n",
      "726\n",
      "727\n",
      "728\n",
      "729\n",
      "730\n",
      "731\n",
      "732\n",
      "733\n",
      "734\n",
      "735\n",
      "736\n",
      "737\n",
      "738\n",
      "739\n",
      "740\n",
      "741\n",
      "742\n",
      "743\n",
      "744\n",
      "745\n",
      "746\n",
      "747\n",
      "748\n",
      "749\n",
      "750\n",
      "751\n",
      "752\n",
      "753\n",
      "754\n",
      "755\n",
      "756\n",
      "757\n",
      "758\n",
      "759\n",
      "760\n",
      "761\n",
      "762\n",
      "763\n",
      "764\n",
      "765\n",
      "766\n",
      "767\n",
      "768\n",
      "769\n",
      "770\n",
      "771\n",
      "772\n",
      "773\n",
      "774\n",
      "775\n",
      "776\n",
      "777\n",
      "778\n",
      "779\n",
      "780\n",
      "781\n",
      "782\n",
      "783\n",
      "784\n",
      "785\n",
      "786\n",
      "787\n",
      "788\n",
      "789\n",
      "790\n",
      "791\n",
      "792\n",
      "793\n",
      "794\n",
      "795\n",
      "796\n",
      "797\n",
      "798\n",
      "799\n",
      "800\n",
      "801\n",
      "802\n",
      "803\n",
      "804\n",
      "805\n",
      "806\n",
      "807\n",
      "808\n",
      "809\n",
      "810\n",
      "811\n",
      "812\n",
      "813\n",
      "814\n",
      "815\n",
      "816\n",
      "817\n",
      "818\n",
      "819\n",
      "820\n",
      "821\n",
      "822\n",
      "823\n",
      "824\n",
      "825\n",
      "826\n",
      "827\n",
      "828\n",
      "829\n",
      "830\n",
      "831\n",
      "832\n",
      "833\n",
      "834\n",
      "835\n",
      "836\n",
      "837\n",
      "838\n",
      "839\n",
      "840\n",
      "841\n",
      "842\n",
      "843\n",
      "844\n",
      "845\n",
      "846\n",
      "847\n",
      "848\n",
      "849\n",
      "850\n",
      "851\n",
      "852\n",
      "853\n",
      "854\n",
      "855\n",
      "856"
     ]
    }
   ],
   "source": [
    "# initialise timer for computation\n",
    "startMain = time.clock()\n",
    "# Perform steps\n",
    "while realtime < 0.05:\n",
    "#while step < 5:\n",
    "    #Enter non-linear loop\n",
    "    print step\n",
    "    solver.solve(nonLinearIterate=True)\n",
    "    dt = advDiff.get_max_dt()\n",
    "    if step == 0:\n",
    "        dt = 0.\n",
    "    #start = time.clock()\n",
    "    advDiff.integrate(dt)\n",
    "    #machine_time = (time.clock()-start)\n",
    "    #print(\"total advDiff time is: \" + str(machine_time))\n",
    "    # Advect swarm using this timestep size\n",
    "    #start = time.clock()\n",
    "    advector.integrate(dt)\n",
    "    #machine_time = (time.clock()-start)\n",
    "    #print(\"total advector time is: \" + str(machine_time))\n",
    "    # Increment\n",
    "    realtime += dt\n",
    "    step += 1\n",
    "    timevals.append(realtime)\n",
    "    \n",
    "    ################\n",
    "    #Update temperature field in the air region\n",
    "    ################\n",
    "    if (step % sticky_air_temp == 0):\n",
    "        for index, coord in enumerate(mesh.data):\n",
    "            if coord[1] >= 1.:\n",
    "                temperatureField.data[index] = 0.\n",
    " \n",
    "    ################\n",
    "    #Particle update\n",
    "    ###############\n",
    "    if (step % swarm_update == 0) or (step % metric_output == 0): #These updates should be done before any metric output\n",
    "        #These swarm variables get updated first, as they are used to determine material changes\n",
    "        particledepths = 1. - gSwarm.particleCoordinates.data[:,1]\n",
    "        particletemps = temperatureField.evaluate(gSwarm)[:,0]\n",
    "        conditionmap['depthcondition']['data'] = particledepths\n",
    "        conditionmap['avgtempcondition']['data'] = particletemps\n",
    "        ################\n",
    "        number_updated = 0\n",
    "        for particleID in range(gSwarm.particleCoordinates.data.shape[0]):\n",
    "            check = update_swarm(DG, particleID)\n",
    "            if check > -1:\n",
    "                number_updated += 1\n",
    "                #if check == 0:\n",
    "                #    print \"from \" + str(materialVariable.data[particleID]) + \" to \" + str(check)\n",
    "                materialVariable.data[particleID] = check\n",
    "            else:\n",
    "                pass\n",
    "        #Also update those integration swarms\n",
    "        rockIntVar.data[:] = 0.\n",
    "        notair = np.where(materialVariable.data != airIndex)\n",
    "        rockIntVar.data[notair] = 1.\n",
    "        airIntVar.data[:] = 0.\n",
    "        notrock = np.where(materialVariable.data == airIndex)\n",
    "        airIntVar.data[notrock] = 1.\n",
    "        lithIntVar.data[:] = 0.\n",
    "        islith = np.where((materialVariable.data == lithosphereIndex) | (materialVariable.data == crustIndex))\n",
    "        lithIntVar.data[islith] = 1.\n",
    "\n",
    "    ################            \n",
    "    # Calculate the Metrics, only on 1 of the processors:\n",
    "    ################\n",
    "    if (step % metric_output == 0):\n",
    "        tempVariable.data[:] = temperatureField.evaluate(gSwarm)[:]\n",
    "        Avg_temp = avg_temp()\n",
    "        Rms = rms()\n",
    "        Max_vx_surf = max_vx_surf(velocityField, surfintswarm)\n",
    "        Gravwork = gravwork(dwint)\n",
    "        Viscdis = viscdis(vdint)\n",
    "        Viscdisair = viscdis(vdintair)\n",
    "        Viscdislith = viscdis(vdintlith)\n",
    "        etamax, etamin = visc_extr(mantleviscosityFn)\n",
    "        #These are the ones that need mpi4py treatment\n",
    "        Nu0loc = nusselt(temperatureField, baseintswarm, dx)\n",
    "        Nu1loc = nusselt(temperatureField, surfintswarm, dx)\n",
    "        Rmsurfloc = rms_surf(surfintswarm, dx)\n",
    "        #Setup the global output arrays\n",
    "        dTp = Nu0loc.dtype\n",
    "        Nu0glob = np.array(0, dtype=dTp)\n",
    "        dTp = Nu1loc.dtype\n",
    "        Nu1glob = np.array(0, dtype=dTp)\n",
    "        dTp = Rmsurfloc.dtype\n",
    "        Rmsurfglob = np.array(0, dtype=dTp)\n",
    "        #Do global sum\n",
    "        comm.Allreduce(Nu0loc, Nu0glob, op=MPI.SUM)\n",
    "        comm.Allreduce(Nu1loc, Nu1glob, op=MPI.SUM)\n",
    "        comm.Allreduce(Rmsurfloc, Rmsurfglob, op=MPI.SUM)\n",
    "        # output to summary text file\n",
    "        if uw.rank()==0:\n",
    "            f_o.write((13*'%-15s ' + '\\n') % (realtime, Viscdis, float(Nu0glob), float(Nu1glob), Avg_temp, \n",
    "                                              Rms,Rmsurfglob,Max_vx_surf,Gravwork, etamax, etamin, Viscdisair, Viscdislith))\n",
    "    ################\n",
    "    #Gldb output\n",
    "    ################ \n",
    "    if (step % gldbs_output == 0) & (writeFiles == True):\n",
    "        #Rebuild any necessary swarm variables\n",
    "        viscVariable.data[:] = viscosityMapFn.evaluate(gSwarm)\n",
    "        #Write gldbs\n",
    "        fnamedb = \"dbFig\" + \"_\" + str(ModIt) + \"_\" + str(step) + \".gldb\"\n",
    "        fullpath = os.path.join(outputPath + \"gldbs/\" + fnamedb)\n",
    "        figDb.show()\n",
    "        figDb.save_database(fullpath)\n",
    "    ################\n",
    "    #Also repopulate entire swarm periodically\n",
    "    ################\n",
    "    if step % swarm_repop == 0:\n",
    "        pics.repopulate()\n",
    "    ################\n",
    "    #Checkpoint\n",
    "    ################\n",
    "    if step % checkpoint_every == 0:\n",
    "        if uw.rank() == 0:\n",
    "            checkpoint1(step, checkpointPath,f_o, metric_output)           \n",
    "        checkpoint2(step, checkpointPath, gSwarm, f_o, varlist = varlist, varnames = varnames)\n",
    "        f_o = open(os.path.join(outputPath, outputFile), 'a') #is this line supposed to be here?\n",
    "\n",
    "        \n",
    "        \n",
    "f_o.close()\n",
    "#print 'step =',step, '; dt =', dt, '; CPU time =', time.clock()-startMain"
   ]
  },
  {
   "cell_type": "code",
   "execution_count": null,
   "metadata": {
    "collapsed": false
   },
   "outputs": [],
   "source": [
    "viscVariable = gSwarm.add_variable( dataType=\"float\", count=1 )\n",
    "viscVariable.data[:] = viscosityMapFn.evaluate(gSwarm)\n",
    "figEta = glucifer.Figure(figsize=(1024,384))\n",
    "figEta.append( glucifer.objects.Points(gSwarm,viscVariable, logScale=True))\n",
    "figEta.append( glucifer.objects.Mesh(mesh))\n",
    "figEta.show()\n",
    "figEta.save_database('test.gldb')"
   ]
  },
  {
   "cell_type": "code",
   "execution_count": 144,
   "metadata": {
    "collapsed": false
   },
   "outputs": [
    {
     "data": {
      "text/html": [
       "<img src='data:image/png;base64,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'>"
      ],
      "text/plain": [
       "<IPython.core.display.HTML object>"
      ]
     },
     "execution_count": 144,
     "metadata": {},
     "output_type": "execute_result"
    }
   ],
   "source": [
    "figTemp = glucifer.Figure()\n",
    "figTemp.append( glucifer.objects.Surface(mesh, temperatureField))\n",
    "figTemp.append( glucifer.objects.Mesh(mesh))\n",
    "\n",
    "figTemp.append( glucifer.objects.VectorArrows(mesh,velocityField, arrowHead=0.2, scaling=0.005))\n",
    "figTemp.save_database('test.gldb')\n",
    "figTemp.show()"
   ]
  },
  {
   "cell_type": "code",
   "execution_count": 51,
   "metadata": {
    "collapsed": false
   },
   "outputs": [
    {
     "data": {
      "text/html": [
       "<img src='data:image/png;base64,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'>"
      ],
      "text/plain": [
       "<IPython.core.display.HTML object>"
      ]
     },
     "execution_count": 51,
     "metadata": {},
     "output_type": "execute_result"
    }
   ],
   "source": [
    "figVelocityMag = glucifer.Figure(figsize=(1024,384))\n",
    "figVelocityMag.append( glucifer.objects.Surface(mesh, fn.math.dot(velocityField,velocityField) ))\n",
    "figVelocityMag.show()"
   ]
  },
  {
   "cell_type": "code",
   "execution_count": 52,
   "metadata": {
    "collapsed": false
   },
   "outputs": [
    {
     "data": {
      "text/html": [
       "<img src='data:image/png;base64,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'>"
      ],
      "text/plain": [
       "<IPython.core.display.HTML object>"
      ]
     },
     "execution_count": 52,
     "metadata": {},
     "output_type": "execute_result"
    }
   ],
   "source": [
    "figVelocityMag = glucifer.Figure(figsize=(1024,384))\n",
    "figVelocityMag.append( glucifer.objects.Surface(mesh, pressureField, logScale=True, valueRange=[1e-15,5e-8]) )\n",
    "figVelocityMag.show()"
   ]
  },
  {
   "cell_type": "code",
   "execution_count": 147,
   "metadata": {
    "collapsed": false
   },
   "outputs": [],
   "source": [
    "figSwarm = glucifer.Figure(figsize=(1024,384))\n",
    "figSwarm.append( glucifer.objects.Points(gSwarm,materialVariable, colours='brown white blue red'))\n",
    "figSwarm.append( glucifer.objects.Mesh(mesh))\n",
    "figSwarm.show()\n",
    "figSwarm.save_database('test.gldb')"
   ]
  },
  {
   "cell_type": "code",
   "execution_count": 53,
   "metadata": {
    "collapsed": false
   },
   "outputs": [
    {
     "ename": "NameError",
     "evalue": "name 'start' is not defined",
     "output_type": "error",
     "traceback": [
      "\u001b[0;31m---------------------------------------------------------------------------\u001b[0m",
      "\u001b[0;31mNameError\u001b[0m                                 Traceback (most recent call last)",
      "\u001b[0;32m<ipython-input-53-dc3c2f2e7c24>\u001b[0m in \u001b[0;36m<module>\u001b[0;34m()\u001b[0m\n\u001b[0;32m----> 1\u001b[0;31m \u001b[0mmachine_time\u001b[0m \u001b[0;34m=\u001b[0m \u001b[0;34m(\u001b[0m\u001b[0mtime\u001b[0m\u001b[0;34m.\u001b[0m\u001b[0mclock\u001b[0m\u001b[0;34m(\u001b[0m\u001b[0;34m)\u001b[0m\u001b[0;34m-\u001b[0m\u001b[0mstart\u001b[0m\u001b[0;34m)\u001b[0m\u001b[0;34m\u001b[0m\u001b[0m\n\u001b[0m\u001b[1;32m      2\u001b[0m \u001b[0;32mprint\u001b[0m\u001b[0;34m(\u001b[0m\u001b[0;34m\"total time is: \"\u001b[0m \u001b[0;34m+\u001b[0m \u001b[0mstr\u001b[0m\u001b[0;34m(\u001b[0m\u001b[0mmachine_time\u001b[0m\u001b[0;34m)\u001b[0m\u001b[0;34m)\u001b[0m\u001b[0;34m\u001b[0m\u001b[0m\n",
      "\u001b[0;31mNameError\u001b[0m: name 'start' is not defined"
     ]
    }
   ],
   "source": [
    "machine_time = (time.clock()-start)\n",
    "print(\"total time is: \" + str(machine_time))"
   ]
  },
  {
   "cell_type": "code",
   "execution_count": 54,
   "metadata": {
    "collapsed": false
   },
   "outputs": [
    {
     "data": {
      "text/plain": [
       "1100.5338620296968"
      ]
     },
     "execution_count": 54,
     "metadata": {},
     "output_type": "execute_result"
    }
   ],
   "source": [
    "#Sanity check for periodic conditions\n",
    "velocityField.evaluate(TWalls)[:,0].max()"
   ]
  },
  {
   "cell_type": "code",
   "execution_count": 31,
   "metadata": {
    "collapsed": false
   },
   "outputs": [
    {
     "name": "stdout",
     "output_type": "stream",
     "text": [
      "TWalls x vel is: 3.17721915245\n",
      "IWalls x vel is: -0.143166437745\n"
     ]
    }
   ],
   "source": [
    "print(\"TWalls x vel is: \" + str(velocityField.evaluate(TWalls)[:,0].max()))\n",
    "print(\"IWalls x vel is: \" + str(velocityField.evaluate(IWalls)[:,0].max()))\n"
   ]
  },
  {
   "cell_type": "code",
   "execution_count": null,
   "metadata": {
    "collapsed": true
   },
   "outputs": [],
   "source": [
    "ts = ((D*1e3)**2)/k\n",
    "secperyear = (3600*24*365)\n",
    "dt*ts/secperyear\n",
    "\n",
    "#2.25895987733e-05*ts/secperyear"
   ]
  }
 ],
 "metadata": {
  "kernelspec": {
   "display_name": "Python 2",
   "language": "python",
   "name": "python2"
  },
  "language_info": {
   "codemirror_mode": {
    "name": "ipython",
    "version": 2
   },
   "file_extension": ".py",
   "mimetype": "text/x-python",
   "name": "python",
   "nbconvert_exporter": "python",
   "pygments_lexer": "ipython2",
   "version": "2.7.11"
  }
 },
 "nbformat": 4,
 "nbformat_minor": 0
}
