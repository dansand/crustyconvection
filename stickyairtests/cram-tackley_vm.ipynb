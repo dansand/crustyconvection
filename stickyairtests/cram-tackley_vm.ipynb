{
 "cells": [
  {
   "cell_type": "markdown",
   "metadata": {
    "collapsed": true
   },
   "source": [
    "Crameri-Tackley model\n",
    "=======\n",
    "\n",
    "From Cramer and Tackley 2015\n",
    "--------\n",
    "\n"
   ]
  },
  {
   "cell_type": "markdown",
   "metadata": {
    "collapsed": true
   },
   "source": [
    "\n",
    "\n",
    "\n",
    "References\n",
    "====\n",
    "\n",
    "\n"
   ]
  },
  {
   "cell_type": "markdown",
   "metadata": {},
   "source": [
    "Load python functions needed for underworld. Some additional python functions from os, math and numpy used later on."
   ]
  },
  {
   "cell_type": "code",
   "execution_count": 1,
   "metadata": {
    "collapsed": false
   },
   "outputs": [],
   "source": [
    "import underworld as uw\n",
    "import math\n",
    "from underworld import function as fn\n",
    "import glucifer\n",
    "#import matplotlib.pyplot as pyplot\n",
    "import time\n",
    "import numpy as np\n",
    "import os\n",
    "import sys\n",
    "import natsort\n",
    "import shutil\n",
    "\n",
    "from mpi4py import MPI\n",
    "comm = MPI.COMM_WORLD\n",
    "rank = comm.Get_rank()"
   ]
  },
  {
   "cell_type": "markdown",
   "metadata": {},
   "source": [
    "Set physical constants and parameters, including the Rayleigh number (*RA*). "
   ]
  },
  {
   "cell_type": "code",
   "execution_count": 2,
   "metadata": {
    "collapsed": true
   },
   "outputs": [],
   "source": [
    "#Do you want to write hdf5 files - Temp, RMS, viscosity, stress?\n",
    "writeFiles = True\n",
    "loadTemp = False\n",
    "refineMesh = True"
   ]
  },
  {
   "cell_type": "code",
   "execution_count": 3,
   "metadata": {
    "collapsed": false
   },
   "outputs": [],
   "source": [
    "ETA_T = 1e5\n",
    "\n",
    "newvisc= math.exp(math.log(ETA_T)*0.53)\n"
   ]
  },
  {
   "cell_type": "code",
   "execution_count": 4,
   "metadata": {
    "collapsed": false
   },
   "outputs": [],
   "source": [
    "###########\n",
    "#No rheology Constants\n",
    "###########\n",
    "\n",
    "TS  = 0          # surface temperature\n",
    "TB  = 1          # bottom boundary temperature (melting point)\n",
    "\n",
    "\n",
    "D = 2890.\n",
    "\n",
    "MINX = -1.\n",
    "#Mesh refinement parameter\n",
    "ALPHA = 11.\n",
    "\n",
    "stickyAir = True"
   ]
  },
  {
   "cell_type": "code",
   "execution_count": 5,
   "metadata": {
    "collapsed": false
   },
   "outputs": [],
   "source": [
    "\n",
    "    \n",
    "if MINX == 0.:\n",
    "    squareModel = True\n",
    "else: \n",
    "    squareModel = False\n"
   ]
  },
  {
   "cell_type": "code",
   "execution_count": 6,
   "metadata": {
    "collapsed": false
   },
   "outputs": [],
   "source": [
    "##########\n",
    "#variables, these can be defined with STDIN,\n",
    "##########\n",
    "#The == '-f': check is just to check if we're running a notebook - careful, haven't tested\n",
    "    \n",
    "#Watch the type assignemnt on sys.argv[1]\n",
    "\n",
    "RES = 128\n",
    "DEFAULTDT  = 10000\n",
    "#ModIt   = str(DEFAULT)\n",
    "\n",
    "\n",
    "############\n",
    "#Need to manually set these two\n",
    "############\n",
    "Model = \"R\"\n",
    "ModNum = 2\n",
    "\n",
    "if len(sys.argv) == 1:\n",
    "    ModIt = \"Base\"\n",
    "elif sys.argv[1] == '-f':\n",
    "    ModIt = \"Base\"\n",
    "else:\n",
    "    ModIt = str(sys.argv[1])\n",
    "    DEFAULTDT = int(sys.argv[1])\n",
    "    \n",
    "    \n",
    "#if len(sys.argv) == 1:\n",
    "#    RES = DEFAULT\n",
    "#elif sys.argv[1] == '-f':\n",
    "#    RES = DEFAULT\n",
    "#else:\n",
    "#    RES = int(sys.argv[1])\n",
    "    "
   ]
  },
  {
   "cell_type": "code",
   "execution_count": 7,
   "metadata": {
    "collapsed": true
   },
   "outputs": [],
   "source": [
    "outputPath = \"results\" + \"/\" +  str(Model) + \"/\" + str(ModNum) + \"/\"\n",
    "imagePath = outputPath + 'images/'\n",
    "filePath = outputPath + 'files/'\n",
    "checkpointPath = outputPath + 'checkpoint/'\n",
    "dbPath = outputPath + 'gldbs/'\n",
    "outputFile = 'results_model' + Model + '_' + str(ModNum) + '_' + str(ModIt) + '.dat'\n",
    "\n",
    "if uw.rank()==0:\n",
    "    # make directories if they don't exist\n",
    "    if not os.path.isdir(outputPath):\n",
    "        os.makedirs(outputPath)\n",
    "    if not os.path.isdir(checkpointPath):\n",
    "        os.makedirs(checkpointPath)\n",
    "    if not os.path.isdir(imagePath):\n",
    "        os.makedirs(imagePath)\n",
    "    if not os.path.isdir(dbPath):\n",
    "        os.makedirs(dbPath)\n",
    "    if not os.path.isdir(filePath):\n",
    "        os.makedirs(filePath)"
   ]
  },
  {
   "cell_type": "code",
   "execution_count": 8,
   "metadata": {
    "collapsed": false
   },
   "outputs": [],
   "source": [
    "dim = 2          # number of spatial dimensions\n",
    "\n",
    "\n",
    "if MINX == 0.:\n",
    "    Xres = RES\n",
    "else:\n",
    "    Xres = 2*RES\n",
    "    \n",
    "if stickyAir:\n",
    "    Yres = RES\n",
    "    MAXY = 1.035 # ~ 100 km thick sticky air layer\n",
    "    \n",
    "else:\n",
    "    Yres = RES\n",
    "    MAXY = 1.\n",
    "    "
   ]
  },
  {
   "cell_type": "code",
   "execution_count": 9,
   "metadata": {
    "collapsed": false
   },
   "outputs": [
    {
     "data": {
      "text/plain": [
       "1.035"
      ]
     },
     "execution_count": 9,
     "metadata": {},
     "output_type": "execute_result"
    }
   ],
   "source": [
    "MAXY"
   ]
  },
  {
   "cell_type": "code",
   "execution_count": 10,
   "metadata": {
    "collapsed": false
   },
   "outputs": [
    {
     "data": {
      "text/plain": [
       "('results/R/2/', 'results/R/2/checkpoint/')"
      ]
     },
     "execution_count": 10,
     "metadata": {},
     "output_type": "execute_result"
    }
   ],
   "source": [
    "outputPath, checkpointPath"
   ]
  },
  {
   "cell_type": "code",
   "execution_count": 11,
   "metadata": {
    "collapsed": false
   },
   "outputs": [
    {
     "data": {
      "text/plain": [
       "(256, 128)"
      ]
     },
     "execution_count": 11,
     "metadata": {},
     "output_type": "execute_result"
    }
   ],
   "source": [
    "Xres, Yres"
   ]
  },
  {
   "cell_type": "code",
   "execution_count": 12,
   "metadata": {
    "collapsed": false
   },
   "outputs": [
    {
     "data": {
      "text/plain": [
       "(1.035, 0.0080859375, 23.368359374999997)"
      ]
     },
     "execution_count": 12,
     "metadata": {},
     "output_type": "execute_result"
    }
   ],
   "source": [
    "yelsize = MAXY/Yres\n",
    "MAXY, yelsize, yelsize*D"
   ]
  },
  {
   "cell_type": "markdown",
   "metadata": {},
   "source": [
    "Select which case of viscosity from Tosi et al (2015) to use. Adjust the yield stress to be =1 for cases 1-4, or between 3.0 and 5.0 (in increments of 0.1) in case 5."
   ]
  },
  {
   "cell_type": "markdown",
   "metadata": {},
   "source": [
    "Set output file and directory for results"
   ]
  },
  {
   "cell_type": "markdown",
   "metadata": {},
   "source": [
    "Create mesh objects. These store the indices and spatial coordiates of the grid points on the mesh."
   ]
  },
  {
   "cell_type": "code",
   "execution_count": 13,
   "metadata": {
    "collapsed": false
   },
   "outputs": [],
   "source": [
    "elementMesh = uw.mesh.FeMesh_Cartesian( elementType=(\"Q1/dQ0\"), \n",
    "                                         elementRes=(Xres, Yres), \n",
    "                                           minCoord=(MINX,0.), \n",
    "                                           maxCoord=(1.,MAXY), periodic=[True,False] )\n",
    "linearMesh   = elementMesh\n",
    "constantMesh = elementMesh.subMesh "
   ]
  },
  {
   "cell_type": "markdown",
   "metadata": {},
   "source": [
    "Create Finite Element (FE) variables for the velocity, pressure and temperature fields. The last two of these are scalar fields needing only one value at each mesh point, while the velocity field contains a vector of *dim* dimensions at each mesh point."
   ]
  },
  {
   "cell_type": "code",
   "execution_count": 14,
   "metadata": {
    "collapsed": false
   },
   "outputs": [],
   "source": [
    "velocityField    = uw.fevariable.FeVariable( feMesh=linearMesh,   nodeDofCount=dim )\n",
    "pressureField    = uw.fevariable.FeVariable( feMesh=constantMesh, nodeDofCount=1 )\n",
    "temperatureField = uw.fevariable.FeVariable( feMesh=linearMesh,   nodeDofCount=1 )\n",
    "temperatureDotField = uw.fevariable.FeVariable( feMesh=linearMesh,      nodeDofCount=1 )"
   ]
  },
  {
   "cell_type": "markdown",
   "metadata": {},
   "source": [
    "Create some dummy fevariables for doing top and bottom boundary calculations."
   ]
  },
  {
   "cell_type": "markdown",
   "metadata": {},
   "source": [
    "##Refine mesh"
   ]
  },
  {
   "cell_type": "code",
   "execution_count": null,
   "metadata": {
    "collapsed": true
   },
   "outputs": [],
   "source": [
    "if refineMesh:\n",
    "    alpha=ALPHA\n",
    "    newys = []\n",
    "    newxs = []\n",
    "    for index, coord in enumerate(linearMesh.data):\n",
    "        y0 = coord[1]\n",
    "        x0 = abs(coord[0])\n",
    "        if y0 >= 1.0:\n",
    "            newy = y0\n",
    "        else:\n",
    "            newy = (math.log(alpha*y0 + math.e) - 1)*(1/(math.log(alpha + math.e) - 1))\n",
    "        newx = (math.log((alpha/2.)*x0 + math.e) - 1)*(1/(math.log((alpha/2.) + math.e) - 1))\n",
    "        if coord[0] <= 0:\n",
    "            newx = -1.*newx\n",
    "        newys.append(newy)\n",
    "        newxs.append(newx)\n",
    "        \n",
    "    with linearMesh.deform_mesh():\n",
    "        linearMesh.data[:,1] = newys\n",
    "        linearMesh.data[:,0] = newxs"
   ]
  },
  {
   "cell_type": "code",
   "execution_count": 15,
   "metadata": {
    "collapsed": true
   },
   "outputs": [],
   "source": [
    "#THis one for the rectangular mesh\n",
    "\n",
    "if refineMesh:\n",
    "    alpha = ALPHA\n",
    "    newys = []\n",
    "    newxs = []\n",
    "    for index, coord in enumerate(linearMesh.data):\n",
    "        y0 = coord[1]\n",
    "        x0 = abs(coord[0])\n",
    "        if y0 == MAXY:\n",
    "            newy = y0\n",
    "        else:\n",
    "            ynorm = y0/MAXY\n",
    "            newy = MAXY*(math.log(alpha*ynorm + math.e) - 1)*(1/(math.log(alpha + math.e) - 1))\n",
    "        if coord[0] > 0:\n",
    "            newx = (math.e**(x0*(math.log((alpha/2.) + math.e) - 1) + 1 ) - math.e)/(alpha/2.)     \n",
    "        else:\n",
    "            newx = -1.*(math.e**(x0*(math.log((alpha/2.) + math.e) - 1) + 1 ) - math.e)/(alpha/2.)\n",
    "        newys.append(newy)\n",
    "        newxs.append(newx)\n",
    "        #print y0,newy\n",
    "        \n",
    "    with linearMesh.deform_mesh():\n",
    "            linearMesh.data[:,1] = newys\n",
    "            linearMesh.data[:,0] = newxs"
   ]
  },
  {
   "cell_type": "markdown",
   "metadata": {},
   "source": [
    "#Check if starting from checkpoint"
   ]
  },
  {
   "cell_type": "code",
   "execution_count": 16,
   "metadata": {
    "collapsed": false
   },
   "outputs": [
    {
     "name": "stdout",
     "output_type": "stream",
     "text": [
      "results/R/2/checkpoint/ is empty\n",
      "results/R/2/checkpoint/350 has files\n"
     ]
    }
   ],
   "source": [
    "checkdirs = []\n",
    "for dirpath, dirnames, files in os.walk(checkpointPath):\n",
    "    if files:\n",
    "        print dirpath, 'has files'\n",
    "        checkpointLoad = True\n",
    "        checkdirs.append(dirpath)\n",
    "    if not files:\n",
    "        print dirpath, 'is empty'\n",
    "        checkpointLoad = False"
   ]
  },
  {
   "cell_type": "markdown",
   "metadata": {},
   "source": [
    "#ICs and BCs"
   ]
  },
  {
   "cell_type": "code",
   "execution_count": 17,
   "metadata": {
    "collapsed": false
   },
   "outputs": [],
   "source": [
    "# Initialise data.. Note that we are also setting boundary conditions here\n",
    "velocityField.data[:] = [0.,0.]\n",
    "pressureField.data[:] = 0.\n",
    "temperatureField.data[:] = 0.\n",
    "temperatureDotField.data[:] = 0.\n",
    "\n",
    "def wbl(x, w0 = 0.06):\n",
    "    delx = 1- abs(x)\n",
    "    Wbl = w0*math.sqrt(delx)\n",
    "    return Wbl\n",
    "\n",
    "wbl(1)\n",
    "\n",
    "\n",
    "def tempf(z,w,t0=0.64):\n",
    "    temp = t0*math.erf((1-z)/w)\n",
    "    return temp\n",
    "\n",
    "for index, coord in enumerate(linearMesh.data):\n",
    "    w = wbl(coord[0])\n",
    "    t = tempf(coord[1], w)\n",
    "    temperatureField.data[index] = t\n",
    "\n",
    "\n",
    "for index, coord in enumerate(linearMesh.data):\n",
    "    if abs(coord[0]) < wbl(0)/2. and coord[1] > 0.5:\n",
    "        w = wbl(0)/2.\n",
    "        d = w - abs(coord[0])\n",
    "        t = tempf(d, coord[1], w)\n",
    "        temperatureField.data[index] = t\n",
    "        \n",
    "        \n",
    "\n",
    "#Set sticky air Temp to zero\n",
    "\n",
    "for index, coord in enumerate(linearMesh.data):\n",
    "    if coord[1] > 1:\n",
    "        temperatureField.data[index] = 0."
   ]
  },
  {
   "cell_type": "code",
   "execution_count": 34,
   "metadata": {
    "collapsed": false
   },
   "outputs": [
    {
     "data": {
      "text/html": [
       "<img src='data:image/png;base64,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'>"
      ],
      "text/plain": [
       "<IPython.core.display.HTML object>"
      ]
     },
     "execution_count": 34,
     "metadata": {},
     "output_type": "execute_result"
    }
   ],
   "source": [
    "figTemp = glucifer.Figure()\n",
    "figTemp + glucifer.objects.Surface(elementMesh, temperatureField)\n",
    "figTemp + glucifer.objects.Mesh(linearMesh)\n",
    "figTemp.show()\n",
    "#figTemp.save_database('test.gldb')"
   ]
  },
  {
   "cell_type": "code",
   "execution_count": 19,
   "metadata": {
    "collapsed": false
   },
   "outputs": [],
   "source": [
    "#For notebook runs\n",
    "#ModIt = \"96\""
   ]
  },
  {
   "cell_type": "code",
   "execution_count": 20,
   "metadata": {
    "collapsed": false
   },
   "outputs": [],
   "source": [
    "##############\n",
    "#a little workaround for change in Load Style\n",
    "##############\n",
    "\n",
    "import libUnderworld\n",
    "def _oldload(self, path):\n",
    "    libUnderworld.StgFEM.FeVariable_ReadFromFile( self._cself, path)\n",
    "    \n",
    "uw.fevariable._fevariable.FeVariable._oldload = _oldload # monkey patch fevariable\n",
    "    "
   ]
  },
  {
   "cell_type": "code",
   "execution_count": 21,
   "metadata": {
    "collapsed": false
   },
   "outputs": [],
   "source": [
    "# Get the actual sets \n",
    "#\n",
    "#  HJJJJJJH\n",
    "#  I      I\n",
    "#  I      I\n",
    "#  I      I\n",
    "#  HJJJJJJH\n",
    "#  \n",
    "#  Note that H = I & J \n",
    "\n",
    "# Note that we use operator overloading to combine sets\n",
    "IWalls = linearMesh.specialSets[\"MinI_VertexSet\"] + linearMesh.specialSets[\"MaxI_VertexSet\"]\n",
    "JWalls = linearMesh.specialSets[\"MinJ_VertexSet\"] + linearMesh.specialSets[\"MaxJ_VertexSet\"]\n",
    "TWalls = linearMesh.specialSets[\"MaxJ_VertexSet\"]\n",
    "BWalls = linearMesh.specialSets[\"MinJ_VertexSet\"]"
   ]
  },
  {
   "cell_type": "code",
   "execution_count": null,
   "metadata": {
    "collapsed": true
   },
   "outputs": [],
   "source": []
  },
  {
   "cell_type": "code",
   "execution_count": 22,
   "metadata": {
    "collapsed": true
   },
   "outputs": [],
   "source": [
    "# Now setup the dirichlet boundary condition\n",
    "# Note that through this object, we are flagging to the system \n",
    "# that these nodes are to be considered as boundary conditions. \n",
    "# Also note that we provide a tuple of sets.. One for the Vx, one for Vy.\n",
    "freeslipBC = uw.conditions.DirichletCondition(     variable=velocityField, \n",
    "                                              nodeIndexSets=(TWalls, JWalls) )\n",
    "\n",
    "# also set dirichlet for temp field\n",
    "tempBC = uw.conditions.DirichletCondition(     variable=temperatureField, \n",
    "                                              nodeIndexSets=(TWalls,) )"
   ]
  },
  {
   "cell_type": "markdown",
   "metadata": {},
   "source": [
    "##Add Random 125 K temp perturbation\n"
   ]
  },
  {
   "cell_type": "code",
   "execution_count": 23,
   "metadata": {
    "collapsed": true
   },
   "outputs": [],
   "source": [
    "tempNump = temperatureField.data\n",
    "\n",
    "#In gerneral we only want to do this on the initial setup, not restarts\n",
    "\n",
    "if not checkpointLoad:\n",
    "    for index, coord in enumerate(linearMesh.data):\n",
    "        pertCoeff = (0.05*np.random.rand(1)[0])\n",
    "        ict = tempNump[index]\n",
    "        tempNump[index] = ict + pertCoeff"
   ]
  },
  {
   "cell_type": "markdown",
   "metadata": {},
   "source": [
    "##Reset bottom Dirichlet conds."
   ]
  },
  {
   "cell_type": "code",
   "execution_count": 24,
   "metadata": {
    "collapsed": false
   },
   "outputs": [],
   "source": [
    "# Set temp boundaries \n",
    "# on the boundaries\n",
    "for index in linearMesh.specialSets[\"MinJ_VertexSet\"]:\n",
    "    temperatureField.data[index] = 0.64\n",
    "for index in linearMesh.specialSets[\"MaxJ_VertexSet\"]:\n",
    "    temperatureField.data[index] = TS"
   ]
  },
  {
   "cell_type": "code",
   "execution_count": 26,
   "metadata": {
    "collapsed": false
   },
   "outputs": [
    {
     "data": {
      "text/plain": [
       "['results/R/2/checkpoint/350']"
      ]
     },
     "execution_count": 26,
     "metadata": {},
     "output_type": "execute_result"
    }
   ],
   "source": [
    "checkdirs"
   ]
  },
  {
   "cell_type": "code",
   "execution_count": null,
   "metadata": {
    "collapsed": true
   },
   "outputs": [],
   "source": []
  },
  {
   "cell_type": "markdown",
   "metadata": {},
   "source": [
    "#Particles"
   ]
  },
  {
   "cell_type": "code",
   "execution_count": 27,
   "metadata": {
    "collapsed": false
   },
   "outputs": [],
   "source": [
    "gSwarm = uw.swarm.Swarm( feMesh=elementMesh )\n",
    "materialVariable = gSwarm.add_variable( dataType=\"char\", count=1 )\n",
    "rockIntVar = gSwarm.add_variable( dataType=\"double\", count=1 )\n",
    "airIntVar = gSwarm.add_variable( dataType=\"double\", count=1 )\n",
    "lithIntVar = gSwarm.add_variable( dataType=\"double\", count=1 )\n",
    "\n",
    "varlist = [materialVariable, rockIntVar, airIntVar, lithIntVar]\n",
    "varnames = ['materialVariable', 'rockIntVar', 'airIntVar', 'lithIntVar']"
   ]
  },
  {
   "cell_type": "markdown",
   "metadata": {},
   "source": [
    "#Swarm checkpoint load"
   ]
  },
  {
   "cell_type": "code",
   "execution_count": 28,
   "metadata": {
    "collapsed": true
   },
   "outputs": [],
   "source": [
    "mantleIndex = 0\n",
    "lithosphereIndex = 1\n",
    "crustIndex = 2\n",
    "airIndex = 3\n",
    "\n",
    "#All depth conditions are given as (km/D) where D is the length scale, \n",
    "#note that 'model depths' are used, e.g. 1-z, where z is the vertical Underworld coordinate\n",
    "#All temp conditions are in dimensionless temp. [0. - 1.]\n",
    "\n",
    "#A few paramters defining lengths scales\n",
    "\n",
    "Crust = 18.\n",
    "CrustM = Crust/D\n",
    "\n",
    "\n",
    "#######Setup some variables which help define condtions\n",
    "#rock-air topography limits\n",
    "dz = 15./D\n",
    "\n",
    "avgtemp = 0.5"
   ]
  },
  {
   "cell_type": "code",
   "execution_count": 29,
   "metadata": {
    "collapsed": false
   },
   "outputs": [
    {
     "data": {
      "text/plain": [
       "0.006228373702422145"
      ]
     },
     "execution_count": 29,
     "metadata": {},
     "output_type": "execute_result"
    }
   ],
   "source": [
    "CrustM"
   ]
  },
  {
   "cell_type": "code",
   "execution_count": 30,
   "metadata": {
    "collapsed": false
   },
   "outputs": [
    {
     "name": "stdout",
     "output_type": "stream",
     "text": [
      "loading results/R/2/checkpoint/350/swarm.h5: 0%----25%----50%----75%----100% | time 33.82 |\n",
      "loading results/R/2/checkpoint/350/materialVariable.h5: 0%----25%----50%----75%----100% | time 7.313 |\n",
      "loading results/R/2/checkpoint/350/rockIntVar.h5: 0%----25%----50%----75%----100% | time 7.293 |\n",
      "loading results/R/2/checkpoint/350/airIntVar.h5: 0%----25%----50%----75%----100% | time 7.275 |\n",
      "loading results/R/2/checkpoint/350/lithIntVar.h5: 0%----25%----50%----75%----100% | time 7.438 |\n"
     ]
    }
   ],
   "source": [
    "if checkpointLoad:\n",
    "    checkpointLoadDir = natsort.natsorted(checkdirs)[-1]\n",
    "    temperatureField._oldload(os.path.join(checkpointLoadDir, \"temperatureField\" + \".hdf5\"))\n",
    "    pressureField._oldload(os.path.join(checkpointLoadDir, \"pressureField\" + \".hdf5\"))\n",
    "    velocityField._oldload(os.path.join(checkpointLoadDir, \"velocityField\" + \".hdf5\"))\n",
    "    gSwarm.load(os.path.join(checkpointLoadDir, \"swarm\" + \".h5\"))\n",
    "    for ix in range(len(varlist)):\n",
    "        varb = varlist[ix]\n",
    "        varb.load(os.path.join(checkpointLoadDir,varnames[ix] + \".h5\"))\n",
    "\n",
    "else:\n",
    "\n",
    "    # Layouts are used to populate the swarm across the whole domain\n",
    "    # Create the layout object\n",
    "    #layout = uw.swarm.layouts.GlobalSpaceFillerLayout( swarm=gSwarm, particlesPerCell=20)\n",
    "    layout = uw.swarm.layouts.PerCellRandomLayout(swarm=gSwarm, particlesPerCell=15)\n",
    "    # Now use it to populate.\n",
    "    gSwarm.populate_using_layout( layout=layout )\n",
    "\n",
    "    # Lets initialise the 'materialVariable' data to represent different materials\n",
    "    # Set the material to heavy everywhere via the numpy array\n",
    "    materialVariable.data[:] = mantleIndex\n",
    "    \n",
    "    \n",
    "    #Set initial air and crust materials (allow the graph to take care of lithsophere)\n",
    "    #########\n",
    "    #This initial material setup will be model dependent\n",
    "    #########\n",
    "    for particleID in range(gSwarm.particleCoordinates.data.shape[0]):\n",
    "        if (1. - gSwarm.particleCoordinates.data[particleID][1]) < 0:\n",
    "                 materialVariable.data[particleID] = airIndex\n",
    "        elif (1. - gSwarm.particleCoordinates.data[particleID][1]) < CrustM:\n",
    "                 materialVariable.data[particleID] = crustIndex\n"
   ]
  },
  {
   "cell_type": "code",
   "execution_count": 31,
   "metadata": {
    "collapsed": false
   },
   "outputs": [],
   "source": [
    "#for particleID in range(gSwarm.particleCoordinates.data.shape[0]):\n",
    "#    if (abs(gSwarm.particleCoordinates.data[particleID][0]) < CrustM) and (gSwarm.particleCoordinates.data[particleID][1] < 1.0):\n",
    "#        materialVariable.data[particleID] = crustIndex\n",
    "        \n",
    "    "
   ]
  },
  {
   "cell_type": "markdown",
   "metadata": {},
   "source": [
    "#Material Graphs"
   ]
  },
  {
   "cell_type": "code",
   "execution_count": 32,
   "metadata": {
    "collapsed": false
   },
   "outputs": [],
   "source": [
    "##############\n",
    "#Important: This is a quick fix for a bug that arises in parallel runs\n",
    "##############\n",
    "material_list = [0,1,2,3]\n"
   ]
  },
  {
   "cell_type": "code",
   "execution_count": 33,
   "metadata": {
    "collapsed": false
   },
   "outputs": [
    {
     "name": "stdout",
     "output_type": "stream",
     "text": [
      "unique values after swarm has loaded:[0 1 2 3]\n"
     ]
    }
   ],
   "source": [
    "print( \"unique values after swarm has loaded:\" + str(np.unique(materialVariable.data[:])))\n"
   ]
  },
  {
   "cell_type": "code",
   "execution_count": 40,
   "metadata": {
    "collapsed": true
   },
   "outputs": [],
   "source": [
    "import networkx as nx\n",
    "\n",
    "#######Graph object\n",
    "DG = nx.DiGraph(field=\"Depth\")\n",
    "\n",
    "#######Nodes\n",
    "#Note that the order of materials, deepest to shallowest is important \n",
    "DG.add_node(0, mat='mantle')\n",
    "DG.add_node(1, mat='lithosphere')\n",
    "DG.add_node(2, mat='crust')\n",
    "DG.add_node(3, mat='air')\n",
    "\n",
    "\n",
    "labels=dict((n,d['mat']) for n,d in DG.nodes(data=True))\n",
    "pos=nx.spring_layout(DG) \n",
    "\n",
    "\n",
    "#######Edges\n",
    "#anything to air\n",
    "DG.add_edges_from([(0,3),(1,3), (2,3)])\n",
    "DG[0][3]['depthcondition'] = -1*dz\n",
    "DG[1][3]['depthcondition'] = -1*dz\n",
    "DG[2][3]['depthcondition'] = -1*dz\n",
    "\n",
    "\n",
    "#Anything to mantle\n",
    "DG.add_edges_from([(2,0), (3,0), (1,0)])\n",
    "DG[3][0]['depthcondition'] = dz\n",
    "DG[2][0]['depthcondition'] = (300./D)\n",
    "DG[1][0]['depthcondition'] = (660./D) #This means we're going to kill lithosphere at the 660.\n",
    "\n",
    "\n",
    "#Anything to lithsphere\n",
    "DG.add_edges_from([(0,1),(3,1)])\n",
    "DG[0][1]['depthcondition'] = 200./D\n",
    "DG[0][1]['avgtempcondition'] = 0.75*avgtemp #definition of thermal lithosphere\n",
    "\n",
    "\n",
    "#Anything to crust\n",
    "DG.add_edges_from([(0,2), (1,2)])\n",
    "DG[0][2]['depthcondition'] = CrustM\n",
    "DG[1][2]['depthcondition'] = CrustM"
   ]
  },
  {
   "cell_type": "code",
   "execution_count": 41,
   "metadata": {
    "collapsed": false
   },
   "outputs": [
    {
     "data": {
      "text/plain": [
       "[0, 1, 2, 3]"
      ]
     },
     "execution_count": 41,
     "metadata": {},
     "output_type": "execute_result"
    }
   ],
   "source": [
    "DG.nodes()"
   ]
  },
  {
   "cell_type": "code",
   "execution_count": 42,
   "metadata": {
    "collapsed": false
   },
   "outputs": [],
   "source": [
    "remove_nodes = []\n",
    "for node in DG.nodes():\n",
    "    if not node in material_list:\n",
    "        remove_nodes.append(node)\n",
    "        \n",
    "for rmnode in remove_nodes:\n",
    "    DG.remove_node(rmnode)"
   ]
  },
  {
   "cell_type": "code",
   "execution_count": 43,
   "metadata": {
    "collapsed": false
   },
   "outputs": [
    {
     "data": {
      "text/plain": [
       "[0, 1, 2, 3]"
      ]
     },
     "execution_count": 43,
     "metadata": {},
     "output_type": "execute_result"
    }
   ],
   "source": [
    "DG.nodes()"
   ]
  },
  {
   "cell_type": "code",
   "execution_count": 44,
   "metadata": {
    "collapsed": false
   },
   "outputs": [],
   "source": [
    "#remove_nodes = []\n",
    "#for node in DG.nodes_iter():\n",
    "#    if not node in material_list:\n",
    "#        remove_nodes.append(node)\n",
    "        \n",
    "#for rmnode in remove_nodes:\n",
    "#    DG.remove_node(rmnode)"
   ]
  },
  {
   "cell_type": "code",
   "execution_count": 45,
   "metadata": {
    "collapsed": true
   },
   "outputs": [],
   "source": [
    "#A Dictionary to map strings in the graph (e.g. 'depthcondition') to particle data arrays\n",
    "\n",
    "particledepths = 1. - gSwarm.particleCoordinates.data[:,1]\n",
    "particletemps = temperatureField.evaluate(gSwarm)[:,0]\n",
    "\n",
    "conditionmap = {}\n",
    "\n",
    "conditionmap['depthcondition'] = {}\n",
    "conditionmap['depthcondition']['data'] = particledepths\n",
    "conditionmap['avgtempcondition'] = {}\n",
    "conditionmap['avgtempcondition']['data'] = particletemps"
   ]
  },
  {
   "cell_type": "code",
   "execution_count": 46,
   "metadata": {
    "collapsed": true
   },
   "outputs": [],
   "source": [
    "def update_swarm(graph, particleIndex):\n",
    "    \"\"\"\n",
    "    This function takes the materials graph (networkx.DiGraph), and a particle index,\n",
    "    then determines if a material update is required \n",
    "    and if so, returns the new materialindex\n",
    "    Args:\n",
    "        graph (networkx.DiGraph): Directed multigraph representing the transformation of material types\n",
    "        particleIndex (int): the particle index as corressponding to the index in the swarm data arrays\n",
    "    Returns:\n",
    "        if update is required the function returns the the new material variable (int) \n",
    "        else returns None\n",
    "    Raises:\n",
    "        TypeError: not implemented\n",
    "        ValueError: not implemented\n",
    "    \"\"\"\n",
    "    ##Egde gives links to other materials, we then query the conditions to see if we should change materials\n",
    "    matId = materialVariable.data[particleIndex][0]\n",
    "    innerchange = False\n",
    "    outerchange = False\n",
    "    for edge in graph[matId]:\n",
    "        if outerchange:\n",
    "            break\n",
    "        for cond in graph[matId][edge].keys():\n",
    "            outerchange = False\n",
    "            if innerchange: #found a complete transition, break inner loop\n",
    "                break\n",
    "            currentparticlevalue = conditionmap[cond]['data'][particleIndex]\n",
    "            crossover = graph[matId][edge][cond]\n",
    "            if ((matId > edge) and (currentparticlevalue > crossover)):\n",
    "                innerchange = False # continue on, \n",
    "                if graph[matId][edge].keys()[-1] == cond:\n",
    "                    outerchange = True\n",
    "                    innerchange = edge\n",
    "                    break\n",
    "            elif ((matId < edge) and (currentparticlevalue < crossover)):\n",
    "                innerchange = False\n",
    "                if graph[matId][edge].keys()[-1] == cond:\n",
    "                    outerchange = True\n",
    "                    innerchange = edge\n",
    "                    break\n",
    "            else:\n",
    "                #condition not met, break outer loop, go to next edge, outerchange should still be False\n",
    "                break\n",
    "    if type(innerchange) == int:\n",
    "        return innerchange"
   ]
  },
  {
   "cell_type": "markdown",
   "metadata": {},
   "source": [
    "for particleID in range(gSwarm.particleCoordinates.data.shape[0]):\n",
    "                check = update_swarm(DG, particleID)\n",
    "                #print check\n",
    "                if check > -1:\n",
    "                    #number_updated += 1\n",
    "                    materialVariable.data[particleID] = check"
   ]
  },
  {
   "cell_type": "code",
   "execution_count": 47,
   "metadata": {
    "collapsed": false
   },
   "outputs": [],
   "source": [
    "#Cleanse the swarm of its sins\n",
    "#For some Material Graphs, the graph may have to be treaversed more than once\n",
    "\n",
    "check = -1\n",
    "number_updated = 1\n",
    "\n",
    "while number_updated != 0:\n",
    "    number_updated = 0\n",
    "    for particleID in range(gSwarm.particleCoordinates.data.shape[0]):\n",
    "                check = update_swarm(DG, particleID)\n",
    "                if check > -1:\n",
    "                    number_updated += 1\n",
    "                    materialVariable.data[particleID] = check"
   ]
  },
  {
   "cell_type": "code",
   "execution_count": 48,
   "metadata": {
    "collapsed": false
   },
   "outputs": [],
   "source": [
    "#figtemp = plt.Figure()\n",
    "#tempminmax = fn.view.min_max(temperatureField)\n",
    "#figtemp.Surface(temperatureField, linearMesh)\n",
    "#figtemp.VectorArrows(velocityField, linearMesh, lengthScale=0.5/velmax, arrowHeadSize=0.2 )\n",
    "#figtemp.Points( swarm=gSwarm, colourVariable=materialVariable , pointSize=1.0)\n",
    "#figtemp.Mesh(linearMesh, colourBar=False)\n",
    "#figtemp.show()\n",
    "#figtemp.save_database('test.gldb')"
   ]
  },
  {
   "cell_type": "markdown",
   "metadata": {},
   "source": [
    "##Set the values for the masking swarms"
   ]
  },
  {
   "cell_type": "code",
   "execution_count": 49,
   "metadata": {
    "collapsed": false
   },
   "outputs": [],
   "source": [
    "#Setup up a masking Swarm variable for the integrations.\n",
    "#Two possible problems? \n",
    "#does it work in parallel,\n",
    "#How do we mange advecting this swarm?\n",
    "#(might be best to just rebuild it every timestep, that way we only focus on advecting the material swarm)\n",
    "\n",
    "rockIntVar.data[:] = 0.\n",
    "notair = np.where(materialVariable.data != airIndex)\n",
    "rockIntVar.data[notair] = 1.\n",
    "\n",
    "airIntVar.data[:] = 0.\n",
    "notrock = np.where(materialVariable.data == airIndex)\n",
    "airIntVar.data[notrock] = 1.\n",
    "\n",
    "lithIntVar.data[:] = 0.\n",
    "islith = np.where((materialVariable.data == lithosphereIndex) | (materialVariable.data == crustIndex))\n",
    "lithIntVar.data[islith] = 1."
   ]
  },
  {
   "cell_type": "markdown",
   "metadata": {
    "collapsed": true
   },
   "source": [
    "##Set up a swarm for surface integrations¶\n"
   ]
  },
  {
   "cell_type": "code",
   "execution_count": 50,
   "metadata": {
    "collapsed": false
   },
   "outputs": [
    {
     "data": {
      "text/plain": [
       "24.0"
      ]
     },
     "execution_count": 50,
     "metadata": {},
     "output_type": "execute_result"
    }
   ],
   "source": [
    "np.floor(10.*156/64)"
   ]
  },
  {
   "cell_type": "code",
   "execution_count": 51,
   "metadata": {
    "collapsed": false
   },
   "outputs": [],
   "source": [
    "snum = 1000.\n",
    "dx = (linearMesh.data[:,0].max()- linearMesh.data[:,0].min())/snum\n",
    "yp = 0.9947 #1. - yelsize/2. at res = 96\n",
    "\n",
    "linearMesh.data[:,0].max()\n",
    "xps = np.linspace(linearMesh.data[:,0].min(),linearMesh.data[:,0].max(), snum)\n",
    "yps = [yp for i in xps]\n",
    "\n",
    "surfintswarm = uw.swarm.Swarm( feMesh=elementMesh )\n",
    "dumout = surfintswarm.add_particles_with_coordinates(np.array((xps,yps)).T)\n",
    "\n",
    "yps = [ 1.- yp  for i in xps]\n",
    "\n",
    "baseintswarm = uw.swarm.Swarm( feMesh=elementMesh )\n",
    "dumout = baseintswarm.add_particles_with_coordinates(np.array((xps,yps)).T)"
   ]
  },
  {
   "cell_type": "code",
   "execution_count": 52,
   "metadata": {
    "collapsed": false
   },
   "outputs": [],
   "source": [
    "# visualise\n",
    "#fig1 = plt.Figure()\n",
    "#fig1.Points( swarm=surfintswarm, pointSize=10.0)\n",
    "#fig1.Points( swarm=baseintswarm, pointSize=10.0)\n",
    "#fig1.Points( swarm=gSwarm,colourVariable=rockIntVar)\n",
    "#fig1.VectorArrows(velocityField, linearMesh, lengthScale=0.0002)\n",
    "#fig1.Surface(temperatureField, linearMesh)\n",
    "#\n",
    "#fig1.Mesh(linearMesh, colourBar=False)\n",
    "#fig1.show()"
   ]
  },
  {
   "cell_type": "markdown",
   "metadata": {
    "collapsed": false
   },
   "source": [
    "#Material properties\n"
   ]
  },
  {
   "cell_type": "code",
   "execution_count": null,
   "metadata": {
    "collapsed": true
   },
   "outputs": [],
   "source": []
  },
  {
   "cell_type": "code",
   "execution_count": 53,
   "metadata": {
    "collapsed": false
   },
   "outputs": [],
   "source": [
    "#Make variables required for plasticity\n",
    "\n",
    "secinvCopy = fn.tensor.second_invariant( \n",
    "                    fn.tensor.symmetric( \n",
    "                        velocityField.gradientFn ))\n",
    "\n",
    "coordinate = fn.input()\n",
    "\n",
    "depth = 1. - coordinate[1]\n"
   ]
  },
  {
   "cell_type": "code",
   "execution_count": 54,
   "metadata": {
    "collapsed": false
   },
   "outputs": [],
   "source": [
    "depthField = uw.fevariable.FeVariable( feMesh=linearMesh,   nodeDofCount=1 )\n",
    "\n",
    "depthField.data[:] = depth.evaluate(linearMesh)\n",
    "depthField.data[np.where(depthField.data[:] < 0.)[0]] = 0.\n",
    "#depthdata = depth.evaluate(linearMesh)"
   ]
  },
  {
   "cell_type": "code",
   "execution_count": 55,
   "metadata": {
    "collapsed": false
   },
   "outputs": [],
   "source": [
    "#Dimensional parameters\n",
    " \n",
    "cohesion = 1e7 #i.e. 10 Mpa\n",
    "D = 2890.\n",
    "E = 240000. # J mol−1\n",
    "R = 8.314 # m^3 mol\n",
    "V = 6.34*(10**-7)\n",
    "T0 = 273.\n",
    "Tr = 1600.\n",
    "rd = 0.0\n",
    "g = 9.8\n",
    "delT = 2500.\n",
    "rho0 = 3300.\n",
    "eta0 = 1e23\n",
    "k = 10**(-6) \n",
    "fcb = 0.6 #friction coefficient from Byerlees' law\n"
   ]
  },
  {
   "cell_type": "code",
   "execution_count": 56,
   "metadata": {
    "collapsed": true
   },
   "outputs": [],
   "source": [
    "#scaling factors\n",
    "\n",
    "stressscale  = (eta0*k)/(D*1000)**2"
   ]
  },
  {
   "cell_type": "code",
   "execution_count": 57,
   "metadata": {
    "collapsed": false
   },
   "outputs": [
    {
     "name": "stdout",
     "output_type": "stream",
     "text": [
      "11.5467885494 2.85377690546 0.64 0.1092 1.0 835.21 4683653.88876\n"
     ]
    }
   ],
   "source": [
    "#Non-dimensional parameters\n",
    "\n",
    "cohesionp = cohesion/stressscale\n",
    "\n",
    "fc = 0.1 #mantle friction coefficient\n",
    "\n",
    "\n",
    "fcc = 0.01 #crust friction coefficient\n",
    "Ra = 1e6                                                                                                                                                                                                                                                   \n",
    "Ep = E/(R*delT)\n",
    "Vp = (rho0*9.81*V*(D*1000))/(R*delT)\n",
    "Trp =1600./2500.\n",
    "T0p = T0/2500.\n",
    "rdp = 1.\n",
    "fcbp = (fcb*rho0*g*(D*1000)**3)/(k*eta0)\n",
    "\n",
    "print Ep, Vp, Trp, T0p,rdp, cohesionp,fcbp"
   ]
  },
  {
   "cell_type": "code",
   "execution_count": 58,
   "metadata": {
    "collapsed": false
   },
   "outputs": [],
   "source": [
    "#Compositional Rayligh number of rock-water \n",
    "\n",
    "g = 9.81\n",
    "rho = 3300\n",
    "a = 1.25*10**-5\n",
    "kappa = 10**-6\n",
    "dT = 2500\n",
    "#eta0 = rho*g*a*dT*((D*1e3)**3)/(Ra*kappa)\n",
    "eta0 = 1e23\n",
    "#Composisitional Rayleigh number\n",
    "Rc = (3300*g*(D*1000)**3)/(eta0*kappa)\n",
    "\n",
    "CompRAfact = Rc/Ra\n",
    "\n",
    "airviscosity = 0.001\n",
    "airdensity = Ra*CompRAfact\n"
   ]
  },
  {
   "cell_type": "code",
   "execution_count": 59,
   "metadata": {
    "collapsed": false
   },
   "outputs": [
    {
     "data": {
      "text/plain": [
       "1e+23"
      ]
     },
     "execution_count": 59,
     "metadata": {},
     "output_type": "execute_result"
    }
   ],
   "source": [
    "eta0"
   ]
  },
  {
   "cell_type": "code",
   "execution_count": null,
   "metadata": {
    "collapsed": true
   },
   "outputs": [],
   "source": []
  },
  {
   "cell_type": "code",
   "execution_count": 60,
   "metadata": {
    "collapsed": false
   },
   "outputs": [],
   "source": [
    "pressureFieldCopy = uw.fevariable.FeVariable( feMesh=constantMesh, nodeDofCount=1)\n",
    "pressureFieldCopy.data[:] = (pressureField.data - pressureField.data.max())*-1.\n",
    "\n",
    "lithopressureField = uw.fevariable.FeVariable( feMesh=constantMesh, nodeDofCount=1)\n",
    "lithopressuregrad = rho0*g*(D*1e3)**3/(eta0*kappa)\n",
    "\n",
    "for index, coord in enumerate(constantMesh.data):\n",
    "    lithopressureField.data[index] = (1.-coord[1])*lithopressuregrad\n",
    "lithopressureField.data[lithopressureField.data < 0] = 0"
   ]
  },
  {
   "cell_type": "markdown",
   "metadata": {},
   "source": [
    "In the paper, Crameri and Tackley give the dimensionless cohesion as well as the dimensionless yield stress gradient. But the latter is given as a function of dimensionless (lithostatic) pressure, whereas it is easier to use dimensionless depth. Easy, multiply the dimensionless depth by $\\rho g D$, divide by the stress scale, $\\frac{\\eta \\kappa}{D^2}$ then use the same dimensionless yeild stress gradient ($\\mu$)"
   ]
  },
  {
   "cell_type": "code",
   "execution_count": 61,
   "metadata": {
    "collapsed": true
   },
   "outputs": [],
   "source": [
    "secinvCopy = fn.tensor.second_invariant( \n",
    "                    fn.tensor.symmetric( \n",
    "                        velocityField.gradientFn ))"
   ]
  },
  {
   "cell_type": "code",
   "execution_count": 62,
   "metadata": {
    "collapsed": false
   },
   "outputs": [],
   "source": [
    "\n",
    "\n",
    "#Determine yield criterion for depth (rather than pressure as given in Crameri)\n",
    "\n",
    "lithopressuregrad = rho0*g*(D*1e3)**3/(eta0*kappa)\n",
    "\n",
    "\n",
    "############\n",
    "#Mantle\n",
    "############\n",
    "\n",
    "#Linear viscosity\n",
    "coordinate = fn.input()\n",
    "arhennius = fn.misc.min(1e5,fn.math.exp(((Ep + Vp*(1.-coordinate[1]))/(temperatureField + T0p)) - ((Ep + Vp*(1.- rdp))/(Trp + T0p))))\n",
    "\n",
    "#Psuedo-plastic \n",
    "#ys =  1577. + (depth*fc*lithopressuregrad)\n",
    "ys =  10000.\n",
    "yss = fn.misc.max(1577., ys)\n",
    "plasticvisc = yss/(secinvCopy/math.sqrt(0.5))\n",
    "plastic = fn.misc.max(1e-4,plasticvisc) #extra factor to account for underworld second invariant form\n",
    "\n",
    "#combine these\n",
    "mantleviscosityFn = fn.exception.SafeMaths(fn.misc.min(arhennius, plastic))\n",
    "\n",
    "############\n",
    "#crust\n",
    "############\n",
    "\n",
    "#ysc = (1577./10.) + (depth*(fc/100.)*lithopressuregrad)\n",
    "ysc = 1000.\n",
    "ycs = fn.misc.max((1577./10.), ysc)\n",
    "crustplasticvisc = ycs/(secinvCopy/math.sqrt(0.5))\n",
    "crustplastic = fn.misc.max(1e-4,crustplasticvisc) #extra factor to account for underworld second invariant form\n",
    "crustviscosityFn = fn.exception.SafeMaths(fn.misc.min(arhennius, crustplastic))\n",
    "\n"
   ]
  },
  {
   "cell_type": "code",
   "execution_count": 63,
   "metadata": {
    "collapsed": false
   },
   "outputs": [
    {
     "data": {
      "text/plain": [
       "7814055.212370002"
      ]
     },
     "execution_count": 63,
     "metadata": {},
     "output_type": "execute_result"
    }
   ],
   "source": [
    "lithopressuregrad"
   ]
  },
  {
   "cell_type": "markdown",
   "metadata": {},
   "source": [
    "Set up simulation parameters and functions\n",
    "====\n",
    "\n",
    "Here the functions for density, viscosity etc. are set. These functions and/or values are preserved for the entire simulation time. "
   ]
  },
  {
   "cell_type": "code",
   "execution_count": 64,
   "metadata": {
    "collapsed": true
   },
   "outputs": [],
   "source": [
    "# Here we set a viscosity value of '1.' for both materials\n",
    "viscosityMapFn = fn.branching.map( fn_key = materialVariable,\n",
    "                         mapping = {airIndex:airviscosity, lithosphereIndex:mantleviscosityFn, crustIndex:mantleviscosityFn,mantleIndex:mantleviscosityFn} )\n",
    "\n",
    "densityMapFn = fn.branching.map( fn_key = materialVariable,\n",
    "                         mapping = {airIndex:airdensity, lithosphereIndex:Ra*temperatureField, crustIndex:Ra*temperatureField, mantleIndex:Ra*temperatureField} )\n",
    "\n",
    "# Define our gravity using a python tuple (this will be automatically converted to a function)\n",
    "gravity = ( 0.0, 1.0 )\n",
    "\n",
    "buoyancyFn = gravity*densityMapFn"
   ]
  },
  {
   "cell_type": "code",
   "execution_count": 65,
   "metadata": {
    "collapsed": false
   },
   "outputs": [
    {
     "data": {
      "text/plain": [
       "7.814055212370001"
      ]
     },
     "execution_count": 65,
     "metadata": {},
     "output_type": "execute_result"
    }
   ],
   "source": [
    "airdensity/Ra"
   ]
  },
  {
   "cell_type": "markdown",
   "metadata": {},
   "source": [
    "Build the Stokes system, solvers, advection-diffusion\n",
    "------\n",
    "\n",
    "Setup linear Stokes system to get the initial velocity."
   ]
  },
  {
   "cell_type": "code",
   "execution_count": 66,
   "metadata": {
    "collapsed": false
   },
   "outputs": [],
   "source": [
    "#We first set up a l\n",
    "stokesPIC = uw.systems.Stokes(velocityField=velocityField, \n",
    "                              pressureField=pressureField,\n",
    "                              conditions=[freeslipBC,],\n",
    "#                              viscosityFn=viscosityFn1, \n",
    "                              viscosityFn=fn.exception.SafeMaths(arhennius), \n",
    "                              bodyForceFn=buoyancyFn)"
   ]
  },
  {
   "cell_type": "markdown",
   "metadata": {},
   "source": [
    "We do one solve with linear viscosity to get the initial strain rate invariant. This solve step also calculates a 'guess' of the the velocity field based on the linear system, which is used later in the non-linear solver."
   ]
  },
  {
   "cell_type": "code",
   "execution_count": 67,
   "metadata": {
    "collapsed": false
   },
   "outputs": [],
   "source": [
    "if not checkpointLoad:\n",
    "    #stokesPIC.solve()\n",
    "    solver = uw.systems.Solver(stokesPIC)\n",
    "    solver.options.main.Q22_pc_type='uw'\n",
    "    solver.options.A11.ksp_rtol=1e-6\n",
    "    solver.options.scr.ksp_rtol=1e-5\n",
    "    solver.options.scr.use_previous_guess = True\n",
    "    solver.options.scr.ksp_set_min_it_converge = 6\n",
    "    solver.options.mg.levels = 3\n",
    "    solver.options.A11.ksp_monitor=''\n",
    "    solver.solve()"
   ]
  },
  {
   "cell_type": "code",
   "execution_count": 68,
   "metadata": {
    "collapsed": false
   },
   "outputs": [],
   "source": [
    "#Switch particle escape on, this will also trigger the inflow population control \n",
    "gSwarm.particleEscape = True"
   ]
  },
  {
   "cell_type": "code",
   "execution_count": 69,
   "metadata": {
    "collapsed": false
   },
   "outputs": [],
   "source": [
    "# Setup the Stokes system again, now with linear or nonlinear visocity viscosity.\n",
    "stokesPIC2 = uw.systems.Stokes(velocityField=velocityField, \n",
    "                              pressureField=pressureField,\n",
    "                              conditions=[freeslipBC,],\n",
    "                              viscosityFn=fn.exception.SafeMaths(viscosityMapFn), \n",
    "                              bodyForceFn=buoyancyFn)"
   ]
  },
  {
   "cell_type": "markdown",
   "metadata": {
    "collapsed": false
   },
   "source": [
    "solver = uw.systems.Solver(stokesPIC2) # altered from PIC2\n",
    "\n",
    "solver.options.main.Q22_pc_type='uwscale'  # also try 'gtkg', 'gkgdiag' and 'uwscale'\n",
    "solver.options.main.penalty = 1.0\n",
    "solver.options.A11.ksp_rtol=1e-6\n",
    "solver.options.scr.ksp_rtol=1e-5\n",
    "solver.options.scr.use_previous_guess = True\n",
    "solver.options.scr.ksp_set_min_it_converge = 1\n",
    "solver.options.scr.ksp_set_max_it = 100\n",
    "solver.options.mg.levels = 4\n",
    "solver.options.mg.mg_levels_ksp_type = 'chebyshev'\n",
    "solver.options.mg_accel.mg_accelerating_smoothing = True\n",
    "solver.options.mg_accel.mg_accelerating_smoothing_view = False\n",
    "solver.options.mg_accel.mg_smooths_to_start = 1"
   ]
  },
  {
   "cell_type": "code",
   "execution_count": 70,
   "metadata": {
    "collapsed": false
   },
   "outputs": [],
   "source": [
    "solver = uw.systems.Solver(stokesPIC2) # altered from PIC2\n",
    "\n",
    "\n",
    "\n",
    "solver.options.main.Q22_pc_type='uw'\n",
    "solver.options.A11.ksp_rtol=1e-6\n",
    "solver.options.scr.ksp_rtol=1e-5\n",
    "solver.options.scr.use_previous_guess = True\n",
    "solver.options.scr.ksp_set_min_it_converge = 6\n",
    "\n",
    "solver.options.mg.levels = 3\n",
    "\n",
    "solver.options.A11.ksp_monitor=''"
   ]
  },
  {
   "cell_type": "code",
   "execution_count": 71,
   "metadata": {
    "collapsed": false
   },
   "outputs": [
    {
     "name": "stdout",
     "output_type": "stream",
     "text": [
      "Object docstring:\n",
      "\n",
      "None\n",
      "Object initialiser docstring:\n",
      "\n",
      "x.__init__(...) initializes x; see help(type(x)) for signature\n"
     ]
    }
   ],
   "source": [
    "uw.help(solver.print_stats)"
   ]
  },
  {
   "cell_type": "markdown",
   "metadata": {},
   "source": [
    "Solve for initial pressure and velocity using a quick non-linear Picard iteration\n"
   ]
  },
  {
   "cell_type": "code",
   "execution_count": 72,
   "metadata": {
    "collapsed": true
   },
   "outputs": [],
   "source": [
    "#solver.solve(nonLinearIterate=True)"
   ]
  },
  {
   "cell_type": "code",
   "execution_count": 73,
   "metadata": {
    "collapsed": false
   },
   "outputs": [],
   "source": [
    "if not checkpointLoad:\n",
    "    solver.solve(nonLinearIterate=True)"
   ]
  },
  {
   "cell_type": "code",
   "execution_count": 74,
   "metadata": {
    "collapsed": false
   },
   "outputs": [
    {
     "name": "stdout",
     "output_type": "stream",
     "text": [
      "('ksp_monitor', '')\n",
      "('_mg_active', True)\n",
      "('ksp_type', 'fgmres')\n",
      "('ksp_rtol', 1e-06)\n",
      "('_mg_active', True)\n",
      "('ksp_type', 'fgmres')\n",
      "('ksp_rtol', 1e-05)\n"
     ]
    }
   ],
   "source": [
    "solver.options.A11.list()\n",
    "solver.options.backsolveA11.list()"
   ]
  },
  {
   "cell_type": "markdown",
   "metadata": {},
   "source": [
    "*fgmres:\n",
    "flexible gmres"
   ]
  },
  {
   "cell_type": "markdown",
   "metadata": {},
   "source": [
    "Create an advective-diffusive system\n",
    "=====\n",
    "\n",
    "Setup the system in underworld by flagging the temperature and velocity field variables."
   ]
  },
  {
   "cell_type": "code",
   "execution_count": 75,
   "metadata": {
    "collapsed": false
   },
   "outputs": [],
   "source": [
    "#Create advdiff system\n",
    "advDiff = uw.systems.AdvectionDiffusion( temperatureField, temperatureDotField, velocityField, diffusivity=1., conditions=[tempBC,] )\n",
    "\n",
    "advector = uw.systems.SwarmAdvector( swarm=gSwarm, velocityField=velocityField, order=1)"
   ]
  },
  {
   "cell_type": "markdown",
   "metadata": {},
   "source": [
    "Metrics for benchmark\n",
    "=====\n",
    "\n",
    "Define functions to be used in the time loop. For cases 1-4, participants were asked to report a number of diagnostic quantities to be measured after reaching steady state:\n",
    "\n",
    "* Average temp... $$  \\langle T \\rangle  = \\int^1_0 \\int^1_0 T \\, dxdy $$\n",
    "* Top and bottom Nusselt numbers... $$N = \\int^1_0 \\frac{\\partial T}{\\partial y} \\rvert_{y=0/1} \\, dx$$\n",
    "* RMS velocity over the whole domain, surface and max velocity at surface\n",
    "* max and min viscosity over the whole domain\n",
    "* average rate of work done against gravity...$$\\langle W \\rangle = \\int^1_0 \\int^1_0 T u_y \\, dx dy$$\n",
    "* and the average rate of viscous dissipation...$$\\langle \\Phi \\rangle = \\int^1_0 \\int^1_0 \\tau_{ij} \\dot \\epsilon_{ij} \\, dx dy$$\n",
    "\n",
    "* In steady state, if thermal energy is accurately conserved, the difference between $\\langle W \\rangle$ and $\\langle \\Phi \\rangle / Ra$ must vanish, so also reported is the percentage error: \n",
    "\n",
    "$$ \\delta = \\frac{\\lvert \\langle W \\rangle - \\frac{\\langle \\Phi \\rangle}{Ra} \\rvert}{max \\left(  \\langle W \\rangle,  \\frac{\\langle \\Phi \\rangle}{Ra}\\right)} \\times 100% $$"
   ]
  },
  {
   "cell_type": "code",
   "execution_count": 76,
   "metadata": {
    "collapsed": false
   },
   "outputs": [],
   "source": [
    "#Setup some Integrals. We want these outside the main loop...\n",
    "tempVariable = gSwarm.add_variable( dataType=\"double\", count=1 )\n",
    "tempVariable.data[:] = temperatureField.evaluate(gSwarm)[:]\n",
    "tempint = uw.utils.Integral((tempVariable*rockIntVar), linearMesh)\n",
    "\n",
    "\n",
    "areaint = uw.utils.Integral((1.*rockIntVar),linearMesh)\n",
    "\n",
    "v2int = uw.utils.Integral(fn.math.dot(velocityField,velocityField)*rockIntVar, linearMesh)\n",
    "\n",
    "\n",
    "dwint = uw.utils.Integral(temperatureField*velocityField[1]*rockIntVar, linearMesh)\n",
    "\n",
    "secinv = fn.tensor.second_invariant(\n",
    "                    fn.tensor.symmetric(\n",
    "                        velocityField.gradientFn ))\n",
    "\n",
    "sinner = fn.math.dot(secinv,secinv)\n",
    "vdint = uw.utils.Integral((4.*mantleviscosityFn*sinner)*rockIntVar, linearMesh)\n",
    "vdintair = uw.utils.Integral((4.*mantleviscosityFn*sinner)*airIntVar, linearMesh)\n",
    "vdintlith = uw.utils.Integral((4.*mantleviscosityFn*sinner)*lithIntVar, linearMesh)"
   ]
  },
  {
   "cell_type": "code",
   "execution_count": 77,
   "metadata": {
    "collapsed": false
   },
   "outputs": [],
   "source": [
    "def avg_temp():\n",
    "    return tempint.evaluate()[0]\n",
    "\n",
    "#This one gets cleaned up when Surface integrals are available\n",
    "def nusselt(tempfield, swarm, dx):\n",
    "    #Update the swarm variable\n",
    "    tempgrad = tempfield.gradientFn\n",
    "    valcheck = tempgrad[1].evaluate(swarm)\n",
    "    if valcheck is None:\n",
    "        vals = np.array(0, dtype='float64')\n",
    "    else:\n",
    "        vals = valcheck.sum()*dx\n",
    "    return vals\n",
    "\n",
    "def rms():\n",
    "    return math.sqrt(v2int.evaluate()[0])\n",
    "\n",
    "#This one gets cleaned up when Surface integrals are available\n",
    "def rms_surf(swarm, dx):\n",
    "    rmsmaxfn = fn.math.sqrt(fn.math.dot(velocityField,velocityField))\n",
    "    rmscheck = rmsmaxfn.evaluate(swarm)\n",
    "    if rmscheck is None:\n",
    "        rmsvals = np.array(0, dtype='float64')\n",
    "    else:\n",
    "        rmsvals = rmscheck.sum()*dx\n",
    "    return rmsvals\n",
    "\n",
    "def max_vx_surf(velfield, swarm):\n",
    "    surfvelxmaxfn = fn.view.min_max(velfield[0])\n",
    "    surfvelxmaxfn.evaluate(swarm)\n",
    "    return surfvelxmaxfn.max_global()\n",
    "\n",
    "def max_vy_surf(velfield, swarm):\n",
    "    surfvelxmaxfn = fn.view.min_max(velfield[1])\n",
    "    surfvelxmaxfn.evaluate(swarm)\n",
    "    return surfvelxmaxfn.max_global()\n",
    "\n",
    "def gravwork(workfn):\n",
    "    return workfn.evaluate()[0]\n",
    "\n",
    "def viscdis(vdissfn):\n",
    "    return vdissfn.evaluate()[0]\n",
    "\n",
    "def visc_extr(viscfn):\n",
    "    vuviscfn = fn.view.min_max(viscfn)\n",
    "    vuviscfn.evaluate(linearMesh)\n",
    "    return vuviscfn.max_global(), vuviscfn.min_global()"
   ]
  },
  {
   "cell_type": "code",
   "execution_count": 78,
   "metadata": {
    "collapsed": false
   },
   "outputs": [],
   "source": [
    "#Fields for saving data / fields\n",
    "\n",
    "rmsField = uw.fevariable.FeVariable( feMesh=linearMesh,   nodeDofCount=1)\n",
    "rmsfn = fn.math.sqrt(fn.math.dot(velocityField,velocityField))\n",
    "rmsdata = rmsfn.evaluate(linearMesh)\n",
    "rmsField.data[:] = rmsdata \n",
    "\n",
    "viscField = uw.fevariable.FeVariable( feMesh=linearMesh,   nodeDofCount=1)\n",
    "viscdata = mantleviscosityFn.evaluate(linearMesh)\n",
    "viscField.data[:] = viscdata\n",
    "\n",
    "\n",
    "strainrateField = uw.fevariable.FeVariable( feMesh=linearMesh,   nodeDofCount=1)\n",
    "srtdata = fn.tensor.second_invariant( \n",
    "                    fn.tensor.symmetric( \n",
    "                        velocityField.gradientFn ))\n",
    "rostfield = srtdata.evaluate(linearMesh)\n",
    "strainrateField.data[:] = rostfield\n",
    "\n",
    "viscVariable = gSwarm.add_variable( dataType=\"float\", count=1 )\n",
    "viscVariable.data[:] = viscosityMapFn.evaluate(gSwarm)"
   ]
  },
  {
   "cell_type": "code",
   "execution_count": 79,
   "metadata": {
    "collapsed": false
   },
   "outputs": [
    {
     "data": {
      "text/plain": [
       "<glucifer._glucifer.Figure at 0x10cfeb150>"
      ]
     },
     "execution_count": 79,
     "metadata": {},
     "output_type": "execute_result"
    }
   ],
   "source": [
    "#Images\n",
    "figEta = glucifer.Figure()\n",
    "figEta + glucifer.objects.Points(gSwarm,viscVariable, logScale=True)\n",
    "\n",
    "\n",
    "figMat = glucifer.Figure()\n",
    "figMat + glucifer.objects.Points(gSwarm,materialVariable, colours='brown white blue red')\n",
    "figMat + glucifer.objects.Mesh(linearMesh)\n",
    "\n",
    "\n",
    "figStrainRate = glucifer.Figure()\n",
    "figStrainRate + glucifer.objects.Surface(elementMesh, secinvCopy, logScale=True)\n",
    "\n",
    "\n",
    "figVelocityMag = glucifer.Figure()\n",
    "figVelocityMag + glucifer.objects.Surface(elementMesh, fn.math.dot(velocityField,velocityField))\n",
    "\n",
    "figTemp = glucifer.Figure()\n",
    "figTemp + glucifer.objects.Surface(elementMesh, temperatureField)\n",
    "\n",
    "\n",
    "\n",
    "#Pack some stuff into a database as well\n",
    "figDb = glucifer.Figure()\n",
    "figDb + glucifer.objects.Points(gSwarm,viscVariable, logScale=True, colours='brown white blue')\n",
    "figDb + glucifer.objects.Points(gSwarm,materialVariable, colours='brown black white blue')\n",
    "figDb + glucifer.objects.Mesh(linearMesh)\n",
    "figDb + glucifer.objects.VectorArrows(elementMesh,velocityField, arrowHead=0.2, scaling=0.0002)\n",
    "figDb + glucifer.objects.Surface(elementMesh, secinvCopy, logScale=True, colours='brown white blue')\n",
    "                           "
   ]
  },
  {
   "cell_type": "markdown",
   "metadata": {},
   "source": [
    "Main simulation loop\n",
    "=======\n",
    "\n",
    "The main time stepping loop begins here. Before this the time and timestep are initialised to zero and the output statistics arrays are set up. Also the frequency of outputting basic statistics to the screen is set in steps_output.\n"
   ]
  },
  {
   "cell_type": "code",
   "execution_count": 80,
   "metadata": {
    "collapsed": true
   },
   "outputs": [],
   "source": [
    "pics = uw.swarm.PICIntegrationSwarm(gSwarm)"
   ]
  },
  {
   "cell_type": "code",
   "execution_count": 81,
   "metadata": {
    "collapsed": false
   },
   "outputs": [],
   "source": [
    "steps_end = 5\n",
    "steps_display_info = 20\n",
    "swarm_update = 15\n",
    "swarm_repop = 30\n",
    "files_output = 100\n",
    "gldbs_output = 25\n",
    "images_output = 100\n",
    "checkpoint_every = 25\n",
    "metric_output = 1"
   ]
  },
  {
   "cell_type": "code",
   "execution_count": 82,
   "metadata": {
    "collapsed": false
   },
   "outputs": [],
   "source": [
    "def checkpoint1(step, checkpointPath,filename, filewrites):\n",
    "    path = checkpointPath + str(step) \n",
    "    velfile = \"velocityField\" + \".hdf5\"\n",
    "    tempfile = \"temperatureField\" + \".hdf5\"\n",
    "    pressfile = \"pressureField\" + \".hdf5\"\n",
    "    swarmfile = \"materialSwarm\" + \".hdf5\"\n",
    "    os.mkdir(path)\n",
    "    ##Write and save the file, if not already a writing step\n",
    "    if not step % filewrites == 0:\n",
    "        filename.write((13*'%-15s ' + '\\n') % (realtime, Viscdis, float(Nu0glob), float(Nu1glob), Avg_temp, \n",
    "                                              Rms,Rmsurfglob,Max_vx_surf,Gravwork, etamax, etamin, Viscdisair, Viscdislith))\n",
    "    filename.close()\n",
    "    shutil.copyfile(os.path.join(outputPath, outputFile), os.path.join(path, outputFile))\n",
    "\n",
    "\n",
    "def checkpoint2(step, checkpointPath, swarm, filename, varlist = [materialVariable], varnames = ['materialVariable']):\n",
    "    path = checkpointPath + str(step) \n",
    "    velfile = \"velocityField\" + \".hdf5\"\n",
    "    tempfile = \"temperatureField\" + \".hdf5\"\n",
    "    pressfile = \"pressureField\" + \".hdf5\"\n",
    "    velocityField.save(os.path.join(path, velfile))\n",
    "    temperatureField.save(os.path.join(path, tempfile))\n",
    "    pressureField.save(os.path.join(path, pressfile))\n",
    "    swarm.save(os.path.join(path, \"swarm.h5\") ) \n",
    "    for ix in range(len(varlist)):\n",
    "        varb = varlist[ix]\n",
    "        varb.save(os.path.join(path,varnames[ix] + \".h5\"), swarmfilepath=os.path.join(path, \"swarm.h5\"))\n",
    "        \n",
    "    "
   ]
  },
  {
   "cell_type": "code",
   "execution_count": 83,
   "metadata": {
    "collapsed": false
   },
   "outputs": [],
   "source": [
    "#step = 0\n",
    "#f_o = open(outputPath+outputFile, 'w')\n",
    "#checkpoint1(step, checkpointPath,f_o, metric_output)           \n",
    "#checkpoint2(step, checkpointPath, gSwarm, f_o, varlist = varlist, varnames = varnames)\n",
    "#varlist = [materialVariable, rockIntVar, airIntVar, lithIntVar]\n",
    "#path = checkpointPath + str(step) \n",
    "#materialVariable.save(os.path.join(path,varnames[0] + \".h5\"), swarmfilepath=os.path.join(path, \"swarm.h5\"))"
   ]
  },
  {
   "cell_type": "code",
   "execution_count": 84,
   "metadata": {
    "collapsed": false
   },
   "outputs": [],
   "source": [
    "#step = int(checkpointLoadDir.split('/')[-1])\n",
    "#step"
   ]
  },
  {
   "cell_type": "code",
   "execution_count": 86,
   "metadata": {
    "collapsed": false
   },
   "outputs": [
    {
     "data": {
      "text/plain": [
       "(9.021513143138355e-07, 4.5107576344321123e-07)"
      ]
     },
     "execution_count": 86,
     "metadata": {},
     "output_type": "execute_result"
    }
   ],
   "source": [
    "advector.get_max_dt(), advDiff.get_max_dt()"
   ]
  },
  {
   "cell_type": "code",
   "execution_count": 87,
   "metadata": {
    "collapsed": false
   },
   "outputs": [],
   "source": [
    "# initialise timer for computation\n",
    "start = time.clock()\n",
    "# setup summary output file (name above)\n",
    "if checkpointLoad:\n",
    "    if uw.rank() == 0:\n",
    "        shutil.copyfile(os.path.join(checkpointLoadDir, outputFile), outputPath+outputFile)\n",
    "    comm.Barrier()\n",
    "    #os.rename(os.path.join(checkpointLoadDir, outputFile), outputPath+outputFile)\n",
    "    f_o = open(os.path.join(outputPath, outputFile), 'a')\n",
    "    prevdata = np.genfromtxt(os.path.join(outputPath, outputFile), skip_header=0, skip_footer=0)\n",
    "    realtime = prevdata[prevdata.shape[0]-1, 0]\n",
    "    step = int(checkpointLoadDir.split('/')[-1])\n",
    "    timevals = [0.]\n",
    "else:\n",
    "    f_o = open(outputPath+outputFile, 'w')\n",
    "    realtime = 0.\n",
    "    step = 0\n",
    "    timevals = [0.]"
   ]
  },
  {
   "cell_type": "code",
   "execution_count": 88,
   "metadata": {
    "collapsed": false
   },
   "outputs": [
    {
     "name": "stdout",
     "output_type": "stream",
     "text": [
      "9.43954215108e-09\n",
      "1.88790843022e-08\n",
      "3.77581686043e-08\n",
      "7.55163372086e-08\n",
      "1.51032674417e-07\n"
     ]
    }
   ],
   "source": [
    "ts = ((D*1e3)**2)/k\n",
    "secperyear = (3600*24*365)\n",
    "times = [2500., 5000., 10000., 20000., 40000.]\n",
    "for t in times:\n",
    "    dt = t/(ts/secperyear)\n",
    "    print dt\n",
    "    \n",
    "dtdefault = DEFAULTDT/(ts/secperyear)"
   ]
  },
  {
   "cell_type": "code",
   "execution_count": null,
   "metadata": {
    "collapsed": true
   },
   "outputs": [],
   "source": []
  },
  {
   "cell_type": "code",
   "execution_count": null,
   "metadata": {
    "collapsed": false
   },
   "outputs": [
    {
     "name": "stdout",
     "output_type": "stream",
     "text": [
      "1\n",
      "2\n",
      "3\n",
      "4\n",
      "5\n",
      "6"
     ]
    }
   ],
   "source": [
    "\n",
    "# Perform steps\n",
    "while realtime < 3.77581686043e-06: #about 1 my scaled\n",
    "#while step < 5:\n",
    "    #Enter non-linear loop\n",
    "    print step\n",
    "    solver.solve(nonLinearIterate=True)\n",
    "    dt = dtdefault\n",
    "    dt2 = advector.get_max_dt()\n",
    "    dt1 = advDiff.get_max_dt()\n",
    "    if step == 0:\n",
    "        dt = 0.\n",
    "    advDiff.integrate(dt)\n",
    "    # Advect swarm using this timestep size\n",
    "    advector.integrate(dt)\n",
    "    # Increment\n",
    "    realtime += dt\n",
    "    step += 1\n",
    "    timevals.append(realtime)\n",
    "    #Update any swarm variables and temperature field in the air region\n",
    "    tempVariable.data[:] = temperatureField.evaluate(gSwarm)[:]\n",
    "    for index, coord in enumerate(linearMesh.data):\n",
    "        if coord[1] >= 1.:\n",
    "            temperatureField.data[index] = 0.   \n",
    "    # Calculate the Metrics, only on 1 of the processors:\n",
    "    if (step % metric_output == 0):\n",
    "        tempVariable.data[:] = temperatureField.evaluate(gSwarm)[:]\n",
    "        Avg_temp = avg_temp()\n",
    "        Rms = rms()\n",
    "        Max_vx_surf = max_vx_surf(velocityField, surfintswarm)\n",
    "        Gravwork = gravwork(dwint)\n",
    "        Viscdis = viscdis(vdint)\n",
    "        Viscdisair = viscdis(vdintair)\n",
    "        Viscdislith = viscdis(vdintlith)\n",
    "        etamax, etamin = visc_extr(mantleviscosityFn)\n",
    "        #These are the ones that need mpi4py treatment\n",
    "        Nu0loc = nusselt(temperatureField, baseintswarm, dx)\n",
    "        Nu1loc = nusselt(temperatureField, surfintswarm, dx)\n",
    "        Rmsurfloc = rms_surf(surfintswarm, dx)\n",
    "        #Setup the global output arrays\n",
    "        dTp = Nu0loc.dtype\n",
    "        Nu0glob = np.array(0, dtype=dTp)\n",
    "        dTp = Nu1loc.dtype\n",
    "        Nu1glob = np.array(0, dtype=dTp)\n",
    "        dTp = Rmsurfloc.dtype\n",
    "        Rmsurfglob = np.array(0, dtype=dTp)\n",
    "        #Do global sum\n",
    "        comm.Allreduce(Nu0loc, Nu0glob, op=MPI.SUM)\n",
    "        comm.Allreduce(Nu1loc, Nu1glob, op=MPI.SUM)\n",
    "        comm.Allreduce(Rmsurfloc, Rmsurfglob, op=MPI.SUM)\n",
    "        # output to summary text file\n",
    "        if uw.rank()==0:\n",
    "            f_o.write((16*'%-15s ' + '\\n') % (realtime,dt, dt1, dt2, Viscdis, float(Nu0glob), float(Nu1glob), Avg_temp, \n",
    "                                              Rms,Rmsurfglob,Max_vx_surf,Gravwork, etamax, etamin, Viscdisair, Viscdislith))\n",
    "    #if step %  steps_display_info == 0:\n",
    "    # output image to file\n",
    "    if (step % files_output == 0) & (writeFiles == True):\n",
    "        ##Files to save\n",
    "        fnametemp = \"temperatureField\" + \"_\" + str(ModIt) + \"_\" + str(step) + \".hdf5\"\n",
    "        fullpath = os.path.join(outputPath + \"files/\" + fnametemp)\n",
    "        temperatureField.save(fullpath)\n",
    "        #RMS\n",
    "        fnamerms = \"rmsField\" + \"_\" + str(ModIt) + \"_\" + str(step) + \".hdf5\"\n",
    "        fullpath = os.path.join(outputPath + \"files/\" + fnamerms)\n",
    "        rmsField.save(fullpath)\n",
    "        #Strain rate invariant\n",
    "        fnamestrainrate = \"strainrateField\" + \"_\" + str(ModIt) + \"_\" + str(step) + \".hdf5\"\n",
    "        fullpath = os.path.join(outputPath + \"files/\" + fnamestrainrate)\n",
    "        strainrateField.save(fullpath)\n",
    "    if (step % gldbs_output == 0) & (writeFiles == True):\n",
    "        #Rebuild any necessary swarm variables\n",
    "        viscVariable.data[:] = viscosityMapFn.evaluate(gSwarm)\n",
    "        #Write gldbs\n",
    "        fnamedb = \"dbFig\" + \"_\" + str(ModIt) + \"_\" + str(step) + \".gldb\"\n",
    "        fullpath = os.path.join(outputPath + \"gldbs/\" + fnamedb)\n",
    "        figDb.show()\n",
    "        figDb.save_database(fullpath)\n",
    "    if (step % images_output == 0) & (writeFiles == True):\n",
    "        #Rebuild any necessary swarm variables\n",
    "        viscVariable.data[:] = viscosityMapFn.evaluate(gSwarm)\n",
    "        #Write gldbs\n",
    "        iname1 = \"viscFig\" + \"_\" + str(ModIt) + \"_\" + str(step) + \".png\"\n",
    "        fullpath1 = os.path.join(outputPath + \"images/\" + iname1)\n",
    "        iname2 = \"matFig\" + \"_\" + str(ModIt) + \"_\" + str(step) + \".png\"\n",
    "        fullpath2 = os.path.join(outputPath + \"images/\" + iname2)\n",
    "        iname3 = \"stFig\" + \"_\" + str(ModIt) + \"_\" + str(step) + \".png\"\n",
    "        fullpath3 = os.path.join(outputPath + \"images/\" + iname3)\n",
    "        iname4 = \"v2Fig\" + \"_\" + str(ModIt) + \"_\" + str(step) + \".png\"\n",
    "        fullpath4 = os.path.join(outputPath + \"images/\" + iname4)\n",
    "        iname5 = \"tempFig\" + \"_\" + str(ModIt) + \"_\" + str(step) + \".png\"\n",
    "        fullpath5 = os.path.join(outputPath + \"images/\" + iname5)\n",
    "        #\n",
    "        #figEta.show()\n",
    "        #figEta.save_image(fullpath1)\n",
    "        #figMat.show()\n",
    "        #figMat.save_image(fullpath2)\n",
    "        #figStrainRate.show()\n",
    "        #figStrainRate.save_image(fullpath3)\n",
    "        #figVelocityMag.show()\n",
    "        #figVelocityMag.save_image(fullpath4)\n",
    "        #figTemp.show()\n",
    "        #figTemp.save_image(fullpath5)\n",
    "        \n",
    "    ################\n",
    "    #Particle update\n",
    "    ###############\n",
    "    particledepths = 1. - gSwarm.particleCoordinates.data[:,1]\n",
    "    particletemps = temperatureField.evaluate(gSwarm)[:,0]\n",
    "    conditionmap['depthcondition']['data'] = particledepths\n",
    "    conditionmap['avgtempcondition']['data'] = particletemps\n",
    "    if step % swarm_update == 0:\n",
    "        number_updated = 0\n",
    "        for particleID in range(gSwarm.particleCoordinates.data.shape[0]):\n",
    "            check = update_swarm(DG, particleID)\n",
    "            if check > -1:\n",
    "                number_updated += 1\n",
    "                #if check == 0:\n",
    "                #    print \"from \" + str(materialVariable.data[particleID]) + \" to \" + str(check)\n",
    "                materialVariable.data[particleID] = check\n",
    "            else:\n",
    "                pass\n",
    "        print number_updated \n",
    "        #Also update those integration swarms\n",
    "        rockIntVar.data[:] = 0.\n",
    "        notair = np.where(materialVariable.data != airIndex)\n",
    "        rockIntVar.data[notair] = 1.\n",
    "        airIntVar.data[:] = 0.\n",
    "        notrock = np.where(materialVariable.data == airIndex)\n",
    "        airIntVar.data[notrock] = 1.\n",
    "        lithIntVar.data[:] = 0.\n",
    "        islith = np.where((materialVariable.data == lithosphereIndex) | (materialVariable.data == crustIndex))\n",
    "        lithIntVar.data[islith] = 1.\n",
    "    #Also repopulate\n",
    "    if step % swarm_repop == 0:\n",
    "        pics.repopulate()\n",
    "        \n",
    "    if step % checkpoint_every == 0:\n",
    "        if uw.rank() == 0:\n",
    "            checkpoint1(step, checkpointPath,f_o, metric_output)           \n",
    "        checkpoint2(step, checkpointPath, gSwarm, f_o, varlist = varlist, varnames = varnames)\n",
    "        f_o = open(os.path.join(outputPath, outputFile), 'a')\n",
    "\n",
    "        \n",
    "        \n",
    "#checkpoint(step, checkpointPath, gSwarm, f_o, varlist = varlist, varnames = varnames)\n",
    "f_o.close()\n",
    "#checkpoint(step, checkpointPath)"
   ]
  },
  {
   "cell_type": "code",
   "execution_count": null,
   "metadata": {
    "collapsed": false
   },
   "outputs": [],
   "source": [
    "machine_time = (time.clock()-start)\n",
    "print(\"total time is: \" + str(machine_time))"
   ]
  },
  {
   "cell_type": "code",
   "execution_count": null,
   "metadata": {
    "collapsed": false
   },
   "outputs": [],
   "source": [
    "96/4"
   ]
  },
  {
   "cell_type": "code",
   "execution_count": 35,
   "metadata": {
    "collapsed": false
   },
   "outputs": [
    {
     "data": {
      "text/plain": [
       "3e-06"
      ]
     },
     "execution_count": 35,
     "metadata": {},
     "output_type": "execute_result"
    }
   ],
   "source": [
    "3.e-06"
   ]
  },
  {
   "cell_type": "code",
   "execution_count": null,
   "metadata": {
    "collapsed": true
   },
   "outputs": [],
   "source": []
  }
 ],
 "metadata": {
  "kernelspec": {
   "display_name": "Python 2",
   "language": "python",
   "name": "python2"
  },
  "language_info": {
   "codemirror_mode": {
    "name": "ipython",
    "version": 2
   },
   "file_extension": ".py",
   "mimetype": "text/x-python",
   "name": "python",
   "nbconvert_exporter": "python",
   "pygments_lexer": "ipython2",
   "version": "2.7.11"
  }
 },
 "nbformat": 4,
 "nbformat_minor": 0
}
