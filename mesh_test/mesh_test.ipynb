{
 "cells": [
  {
   "cell_type": "code",
   "execution_count": 14,
   "metadata": {
    "collapsed": false
   },
   "outputs": [],
   "source": [
    "import underworld as uw\n",
    "import math\n",
    "from underworld import function as fn\n",
    "import glucifer\n",
    "#import matplotlib.pyplot as pyplot\n",
    "import time\n",
    "import numpy as np\n",
    "import collections"
   ]
  },
  {
   "cell_type": "code",
   "execution_count": 9,
   "metadata": {
    "collapsed": true
   },
   "outputs": [],
   "source": [
    "Xres = 128\n",
    "Yres = 64\n",
    "MINX = -1.\n",
    "MINY = 0.\n",
    "MAXX = 1.\n",
    "MAXY = 1.\n",
    "periodic = (True, False)"
   ]
  },
  {
   "cell_type": "code",
   "execution_count": 10,
   "metadata": {
    "collapsed": false
   },
   "outputs": [],
   "source": [
    "mesh = uw.mesh.FeMesh_Cartesian( elementType = (\"Q1/dQ0\"),\n",
    "                                 elementRes  = (Xres, Yres), \n",
    "                                 minCoord    = (MINX,MINY), \n",
    "                                 maxCoord=(MAXX,MAXY), periodic=periodic)\n"
   ]
  },
  {
   "cell_type": "code",
   "execution_count": 11,
   "metadata": {
    "collapsed": false
   },
   "outputs": [
    {
     "name": "stdout",
     "output_type": "stream",
     "text": [
      "refine By:2.0\n"
     ]
    }
   ],
   "source": [
    "def coarse_fine_division(mesh, axis=\"y\", refine_by=2., relax_by =0.5):\n",
    "    if axis == \"y\":\n",
    "        thisaxis = 1\n",
    "    else:\n",
    "        thisaxis = 0\n",
    "    width = (mesh.maxCoord[thisaxis]-mesh.minCoord[thisaxis])\n",
    "    dx = (mesh.maxCoord[thisaxis]-mesh.minCoord[thisaxis])/ (mesh.elementRes[thisaxis])\n",
    "    nx = mesh.elementRes[thisaxis]\n",
    "    dxf = dx/ refine_by\n",
    "    dxc = dx/ relax_by\n",
    "    print(\"refine By:\" + str(refine_by))\n",
    "    i = 0\n",
    "    current_width = ((nx - i)  * dxf) + (i * dxc)\n",
    "    while current_width < width:\n",
    "        i += 1\n",
    "        current_width = ((nx - i)  * dxf) + (i * dxc)\n",
    "    #print current_width\n",
    "    #correct dxc so the total domain is preserved.\n",
    "    dxc = (width  - ((nx - i)  * dxf))/i\n",
    "    nxf = (nx - i) \n",
    "    nxc = i\n",
    "    nt = (nxf + nxc)\n",
    "    assert nt == nx\n",
    "    return nxf, dxf, nxc, dxc\n",
    "\n",
    "nxf, dxf, nxc, dxc = coarse_fine_division(mesh, axis=\"x\", refine_by=2., relax_by =0.5)\n",
    "\n",
    "def shishkin_centre_arrange(mesh, axis=\"y\",centre = 0.5, nxf=nxf, dxf=dxf, nxc=nxc, dxc=dxc):\n",
    "    import itertools\n",
    "    if axis == \"y\":\n",
    "        thisaxis = 1\n",
    "    else:\n",
    "        thisaxis = 0\n",
    "    print thisaxis\n",
    "    ###################\n",
    "    #Get the number of coarse elements either side of fine elements\n",
    "    ###################\n",
    "    nr = nxc\n",
    "    nl = 0\n",
    "    print((nxf*dxf - abs(mesh.minCoord[thisaxis])))\n",
    "    if ((nxf*dxf - abs(mesh.minCoord[thisaxis])) > centre):\n",
    "        print(\"left edge\")\n",
    "        pass\n",
    "    else:\n",
    "        left_length = (nl*dxc) + 0.5*(dxf*nxf) - abs(mesh.minCoord[thisaxis])\n",
    "        while (left_length <  centre):\n",
    "            nl += 1\n",
    "            left_length = (nl*dxc) + 0.5*(dxf*nxf) - abs(mesh.minCoord[thisaxis])\n",
    "            #print(left_length)\n",
    "            if nl == nxc:\n",
    "                print(\"right edge\")\n",
    "                break\n",
    "        nr = nxc - nl\n",
    "    print(nl, nr, nxf)\n",
    "    #assert nr + nl + nxf == mesh.elementRes[thisaxis]\n",
    "    ###################\n",
    "    #return dictionary of new element mappings\n",
    "    ###################\n",
    "    lcoords = [(mesh.minCoord[thisaxis] + i*dxc) for i in range(nl+1)]\n",
    "    if lcoords:\n",
    "        #print(nl, lcoords[-1]/dxc)\n",
    "        ccoords =  [lcoords[-1] + i*dxf for i in range(1, nxf+1)]\n",
    "    else:\n",
    "        ccoords =  [(mesh.minCoord[thisaxis] + i*dxf) for i in range(0, nxf)]\n",
    "    rcoords = [ccoords[-1] + i*dxc for i in range(1, nr +1)]\n",
    "    if rcoords:\n",
    "        #rcoords.append(mesh.maxCoord[0])\n",
    "        pass\n",
    "    else:\n",
    "        #ccoords.append(mesh.maxCoord[0])\n",
    "        pass\n",
    "    newcoords = lcoords+ ccoords+ rcoords\n",
    "    #assert len(newcoords) == nx + 1 \n",
    "    #origcoords = list(np.unique(mesh.data[:,thisaxis]))\n",
    "    #origcoords = np.linspace(mesh.minCoord[thisaxis], mesh.maxCoord[thisaxis], mesh.elementRes[thisaxis])\n",
    "    width = (mesh.maxCoord[thisaxis]-mesh.minCoord[thisaxis])\n",
    "    dx = (mesh.maxCoord[thisaxis]-mesh.minCoord[thisaxis])/ (mesh.elementRes[thisaxis])\n",
    "    origcoords = list(np.arange(mesh.minCoord[thisaxis], mesh.maxCoord[thisaxis], dx))\n",
    "    origcoords.append(mesh.maxCoord[thisaxis])\n",
    "    dictionary = dict(itertools.izip(origcoords, newcoords))\n",
    "    assert len([x for x, y in collections.Counter(newcoords).items() if y > 1]) == 0 #checks agains multiple coordinates\n",
    "    return dictionary\n",
    "\n",
    "\n",
    " \n",
    "def shishkin_deform(mesh, centre = 0.5, axis=\"y\", refine_by=2., relax_by =0.5):\n",
    "    if axis == \"y\":\n",
    "        thisaxis = 1\n",
    "    else:\n",
    "        thisaxis = 0\n",
    "    nxf, dxf, nxc, dxc, = coarse_fine_division(mesh,axis, refine_by=refine_by, relax_by =relax_by)\n",
    "    coorddict = shishkin_centre_arrange(mesh, nxf=nxf, dxf=dxf, nxc=nxc, dxc=dxc, axis=axis , centre=centre)\n",
    "    with mesh.deform_mesh():\n",
    "        for index, coord in enumerate(mesh.data):\n",
    "            key = mesh.data[index][thisaxis]\n",
    "            mesh.data[index][thisaxis] = coorddict[key]"
   ]
  },
  {
   "cell_type": "code",
   "execution_count": 15,
   "metadata": {
    "collapsed": false
   },
   "outputs": [
    {
     "name": "stdout",
     "output_type": "stream",
     "text": [
      "refine By:1.5\n",
      "1\n",
      "0.5\n",
      "right edge\n",
      "(16, 0, 48)\n",
      "refine By:1.5\n",
      "0\n",
      "-0.333333333333\n",
      "(32, 32, 64)\n"
     ]
    }
   ],
   "source": [
    "shishkin_deform(mesh, centre = 0.9, axis=\"y\", refine_by=1.5, relax_by =0.5)\n",
    "shishkin_deform(mesh, centre = 0.0, axis=\"x\", refine_by=1.5, relax_by =0.75)"
   ]
  },
  {
   "cell_type": "code",
   "execution_count": 16,
   "metadata": {
    "collapsed": false
   },
   "outputs": [
    {
     "data": {
      "text/html": [
       "<img src='data:image/png;base64,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'>"
      ],
      "text/plain": [
       "<IPython.core.display.HTML object>"
      ]
     },
     "execution_count": 16,
     "metadata": {},
     "output_type": "execute_result"
    }
   ],
   "source": [
    "figSwarm = glucifer.Figure(figsize=(1024,384))\n",
    "#figSwarm.append( glucifer.objects.Points(gSwarm,materialVariable, colours='brown white blue red'))\n",
    "figSwarm.append( glucifer.objects.Mesh(mesh))\n",
    "figSwarm.save_database('test.gldb')\n",
    "figSwarm.show()"
   ]
  },
  {
   "cell_type": "code",
   "execution_count": null,
   "metadata": {
    "collapsed": true
   },
   "outputs": [],
   "source": []
  }
 ],
 "metadata": {
  "kernelspec": {
   "display_name": "Python 2",
   "language": "python",
   "name": "python2"
  },
  "language_info": {
   "codemirror_mode": {
    "name": "ipython",
    "version": 2
   },
   "file_extension": ".py",
   "mimetype": "text/x-python",
   "name": "python",
   "nbconvert_exporter": "python",
   "pygments_lexer": "ipython2",
   "version": "2.7.11"
  }
 },
 "nbformat": 4,
 "nbformat_minor": 0
}
