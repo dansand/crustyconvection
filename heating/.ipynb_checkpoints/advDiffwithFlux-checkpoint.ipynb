{
 "cells": [
  {
   "cell_type": "code",
   "execution_count": 1,
   "metadata": {
    "collapsed": false
   },
   "outputs": [],
   "source": [
    "import underworld as uw\n",
    "import glucifer\n",
    "import numpy\n",
    "from underworld import function as fn"
   ]
  },
  {
   "cell_type": "code",
   "execution_count": 2,
   "metadata": {
    "collapsed": false
   },
   "outputs": [],
   "source": [
    "mesh = uw.mesh.FeMesh_Cartesian( elementType = (\"Q1\"), \n",
    "                                 elementRes  = (10,10), \n",
    "                                 minCoord    = (0., 0.), \n",
    "                                 maxCoord    = (1., 1.)  )"
   ]
  },
  {
   "cell_type": "code",
   "execution_count": 3,
   "metadata": {
    "collapsed": false,
    "scrolled": true
   },
   "outputs": [],
   "source": [
    "tField        = uw.mesh.MeshVariable(mesh=mesh, nodeDofCount=1, dataType='double')\n",
    "velocityField = uw.mesh.MeshVariable(mesh=mesh, nodeDofCount=2, dataType='double')\n",
    "tDotField     = uw.mesh.MeshVariable(mesh=mesh, nodeDofCount=1, dataType='double')"
   ]
  },
  {
   "cell_type": "code",
   "execution_count": 4,
   "metadata": {
    "collapsed": false
   },
   "outputs": [],
   "source": [
    "h_y = (mesh.maxCoord[1] - mesh.minCoord[1])/mesh.elementRes[1]"
   ]
  },
  {
   "cell_type": "code",
   "execution_count": 5,
   "metadata": {
    "collapsed": false
   },
   "outputs": [],
   "source": [
    "for ii in xrange(mesh.nodesLocal):\n",
    "    coord = mesh.data[ii]\n",
    "    tField.data[ii] = 8.0-4.0*coord[1]\n",
    "        \n",
    "tDotField.data[:] = 0.0\n",
    "velocityField.data[:] = [0.0,0.0]\n",
    "#deGrad = (0.0, 4.0) + (0.,4.)*uw.function.math.sin(uw.function.coord()[0]*3.1415)\n",
    "deGrad = (0.,4.)*uw.function.math.sin(uw.function.coord()[0]*3.1415)\n",
    "condition = [ ( fn.coord()[1] > mesh.minCoord[1]+0.5*h_y, (0.0,0.0) ),\n",
    "              (                                     True, deGrad)  ]\n",
    "dT_dy = fn.branching.conditional( condition )"
   ]
  },
  {
   "cell_type": "code",
   "execution_count": 6,
   "metadata": {
    "collapsed": false
   },
   "outputs": [
    {
     "data": {
      "text/html": [
       "<img src='data:image/png;base64,iVBORw0KGgoAAAANSUhEUgAAAoAAAAHgCAIAAAC6s0uzAAAJWUlEQVR42u3dUW7bShBEUQ+h/S9Z4w8Cgv8EuzwjdvMceAV8QW6K7OSNOecXALDX4REAgAADgAADAAIMAAIMAAgwAAgwACDAACDAAIAAA4AAA4AAAwACDAACDAAIMAAIMAAgwAAgwACAAAOAAAOAAAMAAgwAAgwACDAACDAAIMAAIMAAgAADgAADgAADAAIMAP08PIJ/NMbwEICu5pweggBfucF+gQIt62tgCPDVA+wZAC0D7BkIsAADIMAIMAAC/HmHu3IABNgCBkCABRgABFiAARBgAQZAgBFgAAS4FFfQAAiwBQyAAAswAAiwAAMgwAIMgAATcIQFgABbwAAIsAADgAALMAACLMAACDABR1gACLAFDIAACzAACLAAAyDAAgyAABNwhAWAAFvAAAiwBQwAAmwBAyDAAgyAACPAAAhwLb4BAyDAFjAAAizAACDAAgyAAAswAAJMwBEWAAJsAQMgwAIMAAIswAAIsAADIMAEHGEBIMAWMAACLMAAIMACDIAACzAAAkzAERYAAmwBAyDAAgwAAizAAAhwH74BAyDAFjAAAizAACDAi3gFDYAAW8AACLAAA4AACzAAAtyHb8AACLAFDIAACzAACLAAAyDAAgyAABNwhAWAAFvAAAiwAAOAAAswAAIswAAIMAFHWAAIsAUMgAALMAAIsAADIMACDIAAI8AACHAtrqABEGALGAABFmAAEOBFvIIGQIAtYAAE2AIGAAG2gAEQYAEGQIARYAAEWIABEGDecIQFgABbwAAIsAADgAALMAACLMAACDACDIAA1+IKGgABtoABEGABBgABFmAABFiAARBgAo6wABBgCxgAARZgABBgAQZAgAUYAAEm4AgLAAG2gAEQYAEGAAFexCtoAATYAgZAgC1gABBgCxgAARZgAAQYAQZAgAUYAAFGgAEQ4OtxBQ2AAFvAAAiwAAOAAAswAAIswAAIMAFHWAAIsAUMgAALMAAIsAADIMACDIAAE3CEBYAAW8AACLAAA4AACzAAAizAAAgwAUdYAAiwBQyAAAswAAjwIl5BAyDAFjAAAizAACDAi3gFDYAAW8AACLAAA4AACzAAAizAAAgwAUdYAAiwBQyAAAswAAiwAAMgwAIMgAATcIQFgABbwAAIsAADgAALMAACLMAACDABR1gACLAFDIAACzAACLAAAyDAAgyAACPAAAhwLa6gARBgCxgAARZgABBgAQZAgPvwDRgAAbaAARBgCxgABNgCBkCABRgAAUaAARDgWnwDBkCALWAABFiAAUCABRgAARZgAAQYAQZAgGtxBQ2AAFvAAAiwAAOAAAswAAIswAAIMAFHWAAIsAUMgAALMAAIsAADIMACDIAAE3CEBYAAW8AACLAAA4AAL+IVNAACbAEDIMACDAACvIhX0AAIsAUMgAALMAAIsAADIMACDIAAE3CEBYAAW8AACLAAA4AACzAAAizAAAgwAUdYAAiwBQyAAAswAAiwAAMgwAIMgAATcIQFgABbwAAIsAADgAALMAACLMAACDABR1gACPAnFrBHAIAAfyLA00MAQID3F1iAARBgCxgAAb5HgAFAgPd7Pj0DAAR4u+kVNAACLMAACLAAA4AACzAAAtyGIywABNgCBkCABRgABFiAARBgAQZAgAk4wgJAgC1gAARYgAFAgAUYAAEWYAAEmIAjLAAE2AIGQIAFGAAEWIABEGABBkCACTjCAkCALWAABFiAAUCAF/EKGgABtoABEGABBgABXsQraAAE2AIGQIAFGAAEWIABEGABBkCACTjCAkCALWAABFiAAUCABRgAARZgAASYgCMsAATYAgZAgAUYAARYgAEQYAEGQIARYAAEuBZX0AAIsAUMgAALMAAIsAADIMB9+AYMgABbwAAIsAUMAAJsAQMgwAIMgAAjwAAIcC2+AQMgwBYwAAIswAAgwAIMgAALMAACjAADIMC1uIIGQIAtYAAEWIABQIAFGAABFmAABJiAIywABNgCBkCABRgABFiAARBgAQZAgAk4wgJAgC1gAARYgAFAgAUYAAEWYAAEmIAjLAAE2AIGQIAFGAAEeBGvoAEQYAsYAAEWYAAQ4EW8ggZAgC1gAARYgAFAgAUYAAEWYAAEmIAjLAAE2AIGQIAFGAAEWIABEGABBkCACTjCAkCALWAABFiAAUCABRgAARZgAASYgCMsAATYAgZAgAUYAARYgAEQYAEGQIARYAAEuBZX0AAIsAUMgABbwAAgwBYwAAIswAAIMAGvoAEQYAsYAAEWYAAQYAEGQIAFGAABJuAICwABtoABEGABBgABFmAABFiAARBgAo6wABBgCxgAARZgABBgAQZAgAUYAAFGgAEQ4FpcQQMgwBYwAAIswAAgwAIMgAALMAACTMARFgACbAEDIMAWMAAIsAUMgAALMAACTMAraAAE2AIGQIAFGAAEWIABEGABBkCAEWAABLgWV9AACLAFDIAACzAACLAAAyDAAgyAABNwhAWAAFvAAAiwAAOAAAswAAIswAAIMAFHWAAIsAUMgAALMAAIsAADIMB9+AYMgABbwAAIsAADgAAv4hU0AAJsAQMgwAIMAAIswAAIcB++AQMgwBYwAAIswAAgwAIMgAALMAACTMARFgACbAEDIMACDAACLMAACLAAAyDABBxhASDAFjAAAizAACDAAgyAAAswAAJMwBEWAAJsAQMgwAIMAAIswAAIcB++AQMgwBYwAAJsAQOAAFvAAAiwAAMgwAgwAAIswAAIMG84wgJAgC1gAARYgAFAgAUYAAEWYAAEmIAjLAAE2AIGQIAFGAAEWIABEGABBkCACTjCAkCALWAABFiAAUCABRgAARZgAAQYAQZAgGtxBQ2AAFvAAAiwAAOAAAswAAIswAAIMH+O7xxjeA4AvDWmxQYA2x0eAQAIMAAIMAAgwADQRu0raCfHALdV/Yi4wV9DmmN8+fFzz5/zNyE/fm74M+r/FR6voAFAgAFAgAEAAQYAAQYABBgABBgAEGAAuJ4G/xDHOP9aNgAI8D7+f8YAN9TgnyL2ChoABBgABBgAWGT4hgoAFjAACHCVFV//Fg6A3/7OfxJg9QVg3+/8c87zE2rdChzV/xv4hQhwW6XPmA5PHwAzbL9H6eeuvgD3HL6v9NYNQdUAe/kMcOfh++pu3TFW/hvwWWI9BsAC3uHnn3e8iwZAgAFguQbfgL8BibPlROOxS+YAAAAASUVORK5CYII='>"
      ],
      "text/plain": [
       "<IPython.core.display.HTML object>"
      ]
     },
     "execution_count": 6,
     "metadata": {},
     "output_type": "execute_result"
    }
   ],
   "source": [
    "fig = glucifer.Figure()\n",
    "fig.append( glucifer.objects.Surface( mesh, tField, colours=('blue white red') ) )\n",
    "fig.show()"
   ]
  },
  {
   "cell_type": "code",
   "execution_count": 7,
   "metadata": {
    "collapsed": false
   },
   "outputs": [],
   "source": [
    "ids = mesh.specialSets['MinJ_VertexSet'] - (mesh.specialSets['MinI_VertexSet']+mesh.specialSets['MaxI_VertexSet'])# - mesh.specialSets['MaxJ_VertexSet']\n",
    "nbc = uw.conditions.NeumannCondition( dT_dy, variable=tField, indexSetsPerDof=ids )\n",
    "bc  = uw.conditions.DirichletCondition(tField, indexSetsPerDof=(mesh.specialSets['MaxJ_VertexSet']) )"
   ]
  },
  {
   "cell_type": "code",
   "execution_count": 8,
   "metadata": {
    "collapsed": false
   },
   "outputs": [
    {
     "name": "stdout",
     "output_type": "stream",
     "text": [
      "FeMesh_IndexSet([1, 2, 3, 4, 5, 6, 7, 8, 9])\n"
     ]
    }
   ],
   "source": [
    "print ids"
   ]
  },
  {
   "cell_type": "code",
   "execution_count": 9,
   "metadata": {
    "collapsed": false
   },
   "outputs": [],
   "source": [
    "ss = uw.systems.AdvectionDiffusion( phiField      = tField,\n",
    "                                    phiDotField   = tDotField,\n",
    "                                    velocityField = velocityField,\n",
    "                                    fn_diffusivity   = 1.0,\n",
    "                                    fn_sourceTerm    = 0.0,\n",
    "                                    conditions       = [bc, nbc] )"
   ]
  },
  {
   "cell_type": "code",
   "execution_count": 10,
   "metadata": {
    "collapsed": false
   },
   "outputs": [
    {
     "name": "stdout",
     "output_type": "stream",
     "text": [
      "The number of iterations 1657\n"
     ]
    }
   ],
   "source": [
    "# old_norm = numpy.linalg.norm(tDotField.data)\n",
    "norm = 10\n",
    "its = 0\n",
    "while norm > 1e-1:\n",
    "    dt = 2*ss.get_max_dt()\n",
    "    ss.integrate(dt)\n",
    "    norm = numpy.linalg.norm(tDotField.data)\n",
    "    its += 1\n",
    "    \n",
    "print \"The number of iterations \" + str(its)"
   ]
  },
  {
   "cell_type": "code",
   "execution_count": 11,
   "metadata": {
    "collapsed": false
   },
   "outputs": [],
   "source": [
    "# dt = ss.get_max_dt()\n",
    "# ss.integrate(dt)\n",
    "# norm = numpy.linalg.norm(tDotField.data)\n",
    "\n",
    "# print norm"
   ]
  },
  {
   "cell_type": "code",
   "execution_count": 13,
   "metadata": {
    "collapsed": false
   },
   "outputs": [
    {
     "name": "stdout",
     "output_type": "stream",
     "text": [
      "Error creating image: \n",
      "Error encountered. Full restart recommended as exception safety not guaranteed. Error message:\n",
      "SQL prepare error: (insert into geometry (object_id, timestep, rank, idx, type, data_type, size, count, width, minimum, maximum, dim_factor, units, minX, minY, minZ, maxX, maxY, maxZ, labels, data) values (2, 0, 0, 0, 2, 3, 1, 10000, 0, -inf, inf, 1, '', 0, 0, 0, 0, 0, 0, ?, ?)) no such column: inf\n",
      "\n"
     ]
    }
   ],
   "source": [
    "fig = glucifer.Figure()\n",
    "fig.append( glucifer.objects.Surface( mesh, tField, colours=('blue white red') ) )\n",
    "fig.show()"
   ]
  },
  {
   "cell_type": "code",
   "execution_count": 12,
   "metadata": {
    "collapsed": false,
    "scrolled": false
   },
   "outputs": [
    {
     "name": "stdout",
     "output_type": "stream",
     "text": [
      "Error creating image: \n",
      "Error encountered. Full restart recommended as exception safety not guaranteed. Error message:\n",
      "SQL prepare error: (insert into geometry (object_id, timestep, rank, idx, type, data_type, size, count, width, minimum, maximum, dim_factor, units, minX, minY, minZ, maxX, maxY, maxZ, labels, data) values (2, 0, 0, 0, 2, 3, 1, 10000, 0, -inf, inf, 1, '', 0, 0, 0, 0, 0, 0, ?, ?)) no such column: inf\n",
      "\n"
     ]
    }
   ],
   "source": [
    "fig.show()"
   ]
  },
  {
   "cell_type": "code",
   "execution_count": 14,
   "metadata": {
    "collapsed": false
   },
   "outputs": [],
   "source": [
    "vals = tField.fn_gradient.evaluate(mesh.specialSets[\"MinJ_VertexSet\"])\n",
    "xcoord = mesh.data[mesh.specialSets[\"MinJ_VertexSet\"].data][:,0]\n",
    "analytic = -1*(4.0*numpy.sin(xcoord[:]*numpy.pi))"
   ]
  },
  {
   "cell_type": "code",
   "execution_count": 15,
   "metadata": {
    "collapsed": false
   },
   "outputs": [
    {
     "name": "stdout",
     "output_type": "stream",
     "text": [
      "[ 0.   0.1  0.2  0.3  0.4  0.5  0.6  0.7  0.8  0.9  1. ] [[ nan  nan]\n",
      " [ nan  nan]\n",
      " [ nan  nan]\n",
      " [ nan  nan]\n",
      " [ nan  nan]\n",
      " [ nan  nan]\n",
      " [ nan  nan]\n",
      " [ nan  nan]\n",
      " [ nan  nan]\n",
      " [ nan  nan]\n",
      " [ nan  nan]] [ -0.00000000e+00  -1.23606798e+00  -2.35114101e+00  -3.23606798e+00\n",
      "  -3.80422607e+00  -4.00000000e+00  -3.80422607e+00  -3.23606798e+00\n",
      "  -2.35114101e+00  -1.23606798e+00  -4.89858720e-16]\n"
     ]
    }
   ],
   "source": [
    "print xcoord, vals, analytic"
   ]
  },
  {
   "cell_type": "code",
   "execution_count": 16,
   "metadata": {
    "collapsed": false
   },
   "outputs": [
    {
     "name": "stdout",
     "output_type": "stream",
     "text": [
      "Error creating image: \n",
      "Error encountered. Full restart recommended as exception safety not guaranteed. Error message:\n",
      "SQL prepare error: (insert into geometry (object_id, timestep, rank, idx, type, data_type, size, count, width, minimum, maximum, dim_factor, units, minX, minY, minZ, maxX, maxY, maxZ, labels, data) values (2, 0, 0, 0, 2, 3, 1, 10000, 0, -inf, inf, 1, '', 0, 0, 0, 0, 0, 0, ?, ?)) no such column: inf\n",
      "\n"
     ]
    }
   ],
   "source": [
    "fig = glucifer.Figure()\n",
    "fig.append( glucifer.objects.Surface( mesh, tField.fn_gradient[1], colours=('blue white red') ) )\n",
    "fig.show()"
   ]
  },
  {
   "cell_type": "code",
   "execution_count": 17,
   "metadata": {
    "collapsed": false
   },
   "outputs": [],
   "source": [
    "import matplotlib.pyplot as pyplot\n",
    "import matplotlib.pylab as pylab\n",
    "pylab.rcParams[ 'figure.figsize'] = 12, 6\n",
    "pyplot.plot(xcoord, vals[:,1], color = 'black')\n",
    "pyplot.plot(xcoord, analytic, color = 'red')\n",
    "pyplot.xlabel('X coords')\n",
    "pyplot.ylabel('dT_dy')\n",
    "pyplot.show()"
   ]
  },
  {
   "cell_type": "markdown",
   "metadata": {},
   "source": [
    "## Analysis against steady state guy model\n"
   ]
  },
  {
   "cell_type": "code",
   "execution_count": 18,
   "metadata": {
    "collapsed": false
   },
   "outputs": [],
   "source": [
    "# tDotField.load(\"ss.h5\")\n",
    "\n",
    "# numpy.linalg.norm(tDotField.data[:] - tField.data[:])\n",
    "\n",
    "# error = tField - tDotField\n",
    "\n",
    "# fig = glucifer.Figure()\n",
    "# fig.append(glucifer.objects.Surface(mesh=mesh, fn=error, colours=('blue white red')) )\n",
    "# fig.show()"
   ]
  },
  {
   "cell_type": "code",
   "execution_count": 19,
   "metadata": {
    "collapsed": true
   },
   "outputs": [],
   "source": [
    "uw.systems.AdvectionDiffusion?"
   ]
  },
  {
   "cell_type": "code",
   "execution_count": null,
   "metadata": {
    "collapsed": true
   },
   "outputs": [],
   "source": []
  }
 ],
 "metadata": {
  "kernelspec": {
   "display_name": "Python 2",
   "language": "python",
   "name": "python2"
  },
  "language_info": {
   "codemirror_mode": {
    "name": "ipython",
    "version": 2
   },
   "file_extension": ".py",
   "mimetype": "text/x-python",
   "name": "python",
   "nbconvert_exporter": "python",
   "pygments_lexer": "ipython2",
   "version": "2.7.11"
  }
 },
 "nbformat": 4,
 "nbformat_minor": 0
}
