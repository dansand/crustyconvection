{
 "cells": [
  {
   "cell_type": "markdown",
   "metadata": {
    "collapsed": true
   },
   "source": [
    "Crameri-Tackley model\n",
    "=======\n",
    "\n",
    "From Cramer and Tackley 2015\n",
    "--------\n",
    "\n"
   ]
  },
  {
   "cell_type": "markdown",
   "metadata": {
    "collapsed": true
   },
   "source": [
    "\n",
    "\n",
    "\n",
    "References\n",
    "====\n",
    "\n",
    "\n"
   ]
  },
  {
   "cell_type": "markdown",
   "metadata": {},
   "source": [
    "Load python functions needed for underworld. Some additional python functions from os, math and numpy used later on."
   ]
  },
  {
   "cell_type": "code",
   "execution_count": 1,
   "metadata": {
    "collapsed": false
   },
   "outputs": [
    {
     "name": "stderr",
     "output_type": "stream",
     "text": [
      "Vendor:  Continuum Analytics, Inc.\n",
      "Package: mkl\n",
      "Message: trial mode expires in 29 days\n"
     ]
    }
   ],
   "source": [
    "import underworld as uw\n",
    "import math\n",
    "from underworld import function as fn\n",
    "import glucifer\n",
    "#import matplotlib.pyplot as pyplot\n",
    "import time\n",
    "import numpy as np\n",
    "import os\n",
    "import sys\n",
    "import natsort\n",
    "import shutil\n",
    "from easydict import EasyDict as edict\n",
    "\n",
    "from mpi4py import MPI\n",
    "comm = MPI.COMM_WORLD\n",
    "rank = comm.Get_rank()"
   ]
  },
  {
   "cell_type": "code",
   "execution_count": 2,
   "metadata": {
    "collapsed": false
   },
   "outputs": [
    {
     "name": "stdout",
     "output_type": "stream",
     "text": [
      "/Users/dansandiford/Documents/programming/earthsci_code/python/crustyconvection\r\n",
      "analysis.ipynb     \u001b[1m\u001b[34mcheckpoint\u001b[m\u001b[m         \u001b[1m\u001b[34mresults\u001b[m\u001b[m            test.gldb\r\n",
      "base_model.ipynb   free_surface.ipynb \u001b[1m\u001b[34mstickyairtests\u001b[m\u001b[m\r\n",
      "base_model.py      raijin_single.pbs  \u001b[1m\u001b[34mtemp_ics\u001b[m\u001b[m\r\n"
     ]
    }
   ],
   "source": [
    "#Display working directory info if in nb mode\n",
    "if (len(sys.argv) > 1):\n",
    "    if (sys.argv[1] == '-f'):\n",
    "        !pwd && ls\n",
    "        "
   ]
  },
  {
   "cell_type": "code",
   "execution_count": 3,
   "metadata": {
    "collapsed": false
   },
   "outputs": [],
   "source": [
    "############\n",
    "#Model name.  \n",
    "############\n",
    "Model = \"F\"\n",
    "ModNum = 1\n",
    "\n",
    "if len(sys.argv) == 1:\n",
    "    ModIt = \"Base\"\n",
    "elif sys.argv[1] == '-f':\n",
    "    ModIt = \"Base\"\n",
    "else:\n",
    "    ModIt = str(sys.argv[1])"
   ]
  },
  {
   "cell_type": "markdown",
   "metadata": {},
   "source": [
    "Set physical constants and parameters, including the Rayleigh number (*RA*). "
   ]
  },
  {
   "cell_type": "code",
   "execution_count": 4,
   "metadata": {
    "collapsed": true
   },
   "outputs": [],
   "source": [
    "###########\n",
    "#Standard output directory setup\n",
    "###########\n",
    "\n",
    "\n",
    "outputPath = \"results\" + \"/\" +  str(Model) + \"/\" + str(ModNum) + \"/\" + str(ModIt) + \"/\"\n",
    "imagePath = outputPath + 'images/'\n",
    "filePath = outputPath + 'files/'\n",
    "checkpointPath = outputPath + 'checkpoint/'\n",
    "dbPath = outputPath + 'gldbs/'\n",
    "outputFile = 'results_model' + Model + '_' + str(ModNum) + '_' + str(ModIt) + '.dat'\n",
    "\n",
    "if uw.rank()==0:\n",
    "    # make directories if they don't exist\n",
    "    if not os.path.isdir(outputPath):\n",
    "        os.makedirs(outputPath)\n",
    "    if not os.path.isdir(checkpointPath):\n",
    "        os.makedirs(checkpointPath)\n",
    "    if not os.path.isdir(imagePath):\n",
    "        os.makedirs(imagePath)\n",
    "    if not os.path.isdir(dbPath):\n",
    "        os.makedirs(dbPath)\n",
    "    if not os.path.isdir(filePath):\n",
    "        os.makedirs(filePath)\n",
    "        \n",
    "comm.Barrier() #Barrier here so not procs run the check in the next cell too early "
   ]
  },
  {
   "cell_type": "code",
   "execution_count": 5,
   "metadata": {
    "collapsed": false
   },
   "outputs": [
    {
     "name": "stdout",
     "output_type": "stream",
     "text": [
      "results/F/1/Base/checkpoint/ is empty\n"
     ]
    }
   ],
   "source": [
    "###########\n",
    "#Check if starting from checkpoint\n",
    "###########\n",
    "\n",
    "checkdirs = []\n",
    "for dirpath, dirnames, files in os.walk(checkpointPath):\n",
    "    if files:\n",
    "        print dirpath, 'has files'\n",
    "        checkpointLoad = True\n",
    "        checkdirs.append(dirpath)\n",
    "    if not files:\n",
    "        print dirpath, 'is empty'\n",
    "        checkpointLoad = False\n",
    "        \n"
   ]
  },
  {
   "cell_type": "code",
   "execution_count": 6,
   "metadata": {
    "collapsed": false
   },
   "outputs": [],
   "source": [
    "###########\n",
    "#Physical parameters\n",
    "###########\n",
    "\n",
    "#The Slippy rheology class will contain dimensional and nondimensional values, linked in a self-consistent way by scaling paramters\n",
    "#lowermantle.nondimensional['cohesion']\n",
    "#Where lowermantle is a material class (generated within a rheology class); and non dimensional is a dictionary\n",
    "\n",
    "#UW naming conventions: \n",
    "#module_name, package_name, ClassName, function_name, method_name, \n",
    "#ExceptionName, propertyName GLOBAL_CONSTANT_NAME, globalVarName, instanceVarName, functionParameterName, localVarName\n",
    "###########\n",
    "\n",
    "\n",
    "#dimensional parameter dictionary\n",
    "dp = edict({'LS':2890.*1e3,\n",
    "           'rho':3300,\n",
    "           'g':9.81, \n",
    "           'eta0':1e23,\n",
    "           'k':10**-6,\n",
    "           'a':1.25*10**-5, \n",
    "           'TS':273.,\n",
    "           'TB':2773.,\n",
    "           'deltaT':2500, \n",
    "           'cohesion':1e7, \n",
    "           'E':240000., \n",
    "           'R':8.314,\n",
    "           'V':6.34*(10**-7) })\n",
    "\n",
    "#non-dimensional parameter dictionary\n",
    "ndp = edict({'RA':1e6, \n",
    "              'LS':1.,\n",
    "              'eta0':1.,\n",
    "              'k':1.,\n",
    "              'fc':0.1,\n",
    "              'E':11.55,\n",
    "              'V':3.0,\n",
    "              'H':20.,\n",
    "              'TR':(1600./2500.),\n",
    "              'TS':(dp.TS/2500.),\n",
    "              'RD':1.,\n",
    "              'cohesion':1577.})\n",
    "              #'cohesion':5*1577.})\n",
    "\n",
    "\n",
    "#A few parameters defining lengths scales, affects materal transistions etc.\n",
    "MANTLETOCRUST = (18.*1e3)/dp.LS #Crust depth\n",
    "CRUSTTOMANTLE = (300.*1e3)/dp.LS \n",
    "LITHTOMANTLE = (660.*1e3)/dp.LS \n",
    "MANTLETOLITH = (200.*1e3)/dp.LS \n",
    "TOPOHEIGHT = (15.*1e3)/dp.LS  #rock-air topography limits\n",
    "AVGTEMP = 0.53 #Used to define lithosphere\n",
    "\n",
    "\n",
    "#Compositional Rayliegh number of rock-air\n",
    "ETAREF = dp.rho*dp.g*dp.a*dp.deltaT*((dp.LS)**3)/(ndp.RA*dp.k) #equivalent dimensional reference viscosity\n",
    "RC = (3300.*dp.g*(dp.LS)**3)/(ETAREF *dp.k) #Composisitional Rayleigh number for rock-air buoyancy force\n",
    "COMP_RA_FACT = RC/ndp.RA\n",
    "\n",
    "\n",
    "#Additional dimensionless paramters\n",
    "AIRVISCOSITY = 0.001\n",
    "AIRDENSITY = ndp.RA*COMP_RA_FACT\n",
    "\n",
    "\n",
    "#######################To be replaced soon\n",
    "#Physical parameters that can be defined with STDIN,\n",
    "#The == '-f': check is a a hack check to see cover the notebook case\n",
    "if len(sys.argv) == 1:\n",
    "    ndp.cohesion = ndp.cohesion\n",
    "elif sys.argv[1] == '-f':\n",
    "    ndp.cohesion = ndp.cohesion\n",
    "else:\n",
    "    ndp.cohesion = float(sys.argv[1])*newvisc"
   ]
  },
  {
   "cell_type": "code",
   "execution_count": 7,
   "metadata": {
    "collapsed": false
   },
   "outputs": [],
   "source": [
    "###########\n",
    "#Model setup parameters\n",
    "###########\n",
    "\n",
    "stickyAir = False\n",
    "\n",
    "MINX = -1.\n",
    "MINY = 0.\n",
    "MAXX = 1.0\n",
    "\n",
    "#MAXY = 1.035\n",
    "MAXY = 1.\n",
    "\n",
    "if MINX == 0.:\n",
    "    squareModel = True\n",
    "else: \n",
    "    squareModel = False\n",
    "    \n",
    "    \n",
    "dim = 2          # number of spatial dimensions\n",
    "\n",
    "\n",
    "#MESH STUFF\n",
    "\n",
    "RES = 64\n",
    "\n",
    "if MINX == 0.:\n",
    "    Xres = RES\n",
    "else:\n",
    "    Xres = 2*RES\n",
    "\n",
    "if stickyAir:\n",
    "    Yres = RES + 8\n",
    "    MAXY = float(Yres)/RES\n",
    "    \n",
    "else:\n",
    "    Yres = RES\n",
    "    MAXY = 1.\n",
    "\n",
    "\n",
    "periodic = [False,False]\n",
    "elementType = \"Q1/dQ0\"\n",
    "#elementType =\"Q2/DPC1\"\n",
    "\n",
    "refineMesh = False\n",
    "\n",
    "s = 1.2 #Mesh refinement parameter\n",
    "ALPHA = 11. #Mesh refinement parameter\n",
    "\n",
    "#System/Solver stuff\n",
    "\n",
    "PIC_integration=False"
   ]
  },
  {
   "cell_type": "code",
   "execution_count": 8,
   "metadata": {
    "collapsed": true
   },
   "outputs": [],
   "source": [
    "###########\n",
    "#Model Runtime parameters\n",
    "###########\n",
    "\n",
    "swarm_update = 25\n",
    "swarm_repop = 1\n",
    "files_output = 1e6\n",
    "gldbs_output = 25\n",
    "images_output = 1e6\n",
    "checkpoint_every = 25\n",
    "metric_output = 25\n",
    "sticky_air_temp = 10\n",
    "\n",
    "comm.Barrier() #Barrier here so not procs run the check in the next cell too early \n",
    "\n",
    "assert metric_output <= checkpoint_every, 'Checkpointing should run less or as ofen as metric output'\n",
    "assert (metric_output >= swarm_update), 'Swarm update is needed before checkpointing'\n",
    "assert metric_output >= sticky_air_temp, 'Sticky air temp should be updated more frequently that metrics'\n"
   ]
  },
  {
   "cell_type": "code",
   "execution_count": 9,
   "metadata": {
    "collapsed": false
   },
   "outputs": [],
   "source": [
    "###########\n",
    "#Model output parameters\n",
    "###########\n",
    "\n",
    "#Do you want to write hdf5 files - Temp, RMS, viscosity, stress?\n",
    "writeFiles = True\n",
    "loadTemp = True\n"
   ]
  },
  {
   "cell_type": "code",
   "execution_count": 10,
   "metadata": {
    "collapsed": false
   },
   "outputs": [],
   "source": [
    "mesh = uw.mesh.FeMesh_Cartesian( elementType = (\"Q1/dQ0\"),\n",
    "                                 elementRes  = (Xres, Yres), \n",
    "                                 minCoord    = (MINX,MINY), \n",
    "                                 maxCoord=(MAXX,MAXY), periodic=periodic)\n",
    "\n",
    "\n",
    "\n",
    "velocityField       = uw.mesh.MeshVariable( mesh=mesh,         nodeDofCount=dim )\n",
    "pressureField       = uw.mesh.MeshVariable( mesh=mesh.subMesh, nodeDofCount=1 )\n",
    "temperatureField    = uw.mesh.MeshVariable( mesh=mesh,         nodeDofCount=1 )\n",
    "temperatureDotField = uw.mesh.MeshVariable( mesh=mesh,         nodeDofCount=1 )"
   ]
  },
  {
   "cell_type": "code",
   "execution_count": 11,
   "metadata": {
    "collapsed": false
   },
   "outputs": [
    {
     "data": {
      "text/plain": [
       "(128, 64, -1.0, 1.0, 0.0, 1.0, [False, False], 'Q1/dQ0', 2)"
      ]
     },
     "execution_count": 11,
     "metadata": {},
     "output_type": "execute_result"
    }
   ],
   "source": [
    "Xres, Yres, MINX,MAXX,MINY,MAXY, periodic, elementType, dim "
   ]
  },
  {
   "cell_type": "markdown",
   "metadata": {},
   "source": [
    "##Refine mesh"
   ]
  },
  {
   "cell_type": "markdown",
   "metadata": {
    "collapsed": true
   },
   "source": [
    "if refineMesh:\n",
    "    alpha=ALPHA\n",
    "    newys = []\n",
    "    newxs = []\n",
    "    for index, coord in enumerate(linearMesh.data):\n",
    "        y0 = coord[1]\n",
    "        x0 = abs(coord[0])\n",
    "        if y0 >= 1.0:\n",
    "            newy = y0\n",
    "        else:\n",
    "            newy = (math.log(alpha*y0 + math.e) - 1)*(1/(math.log(alpha + math.e) - 1))\n",
    "        newx = (math.log((alpha/2.)*x0 + math.e) - 1)*(1/(math.log((alpha/2.) + math.e) - 1))\n",
    "        if coord[0] <= 0:\n",
    "            newx = -1.*newx\n",
    "        newys.append(newy)\n",
    "        newxs.append(newx)\n",
    "        \n",
    "    with linearMesh.deform_mesh():\n",
    "        linearMesh.data[:,1] = newys\n",
    "        linearMesh.data[:,0] = newxs"
   ]
  },
  {
   "cell_type": "code",
   "execution_count": 12,
   "metadata": {
    "collapsed": false
   },
   "outputs": [],
   "source": [
    "#THis one for the rectangular mesh\n",
    "\n",
    "if refineMesh:\n",
    "    alpha = ALPHA\n",
    "    newys = []\n",
    "    newxs = []\n",
    "    for index, coord in enumerate(mesh.data):\n",
    "        y0 = coord[1]\n",
    "        x0 = abs(coord[0])\n",
    "        if y0 == MAXY:\n",
    "            newy = y0\n",
    "        else:\n",
    "            ynorm = y0/MAXY\n",
    "            newy = MAXY*(math.log(alpha*ynorm + math.e) - 1)*(1/(math.log(alpha + math.e) - 1))\n",
    "        if coord[0] > 0:\n",
    "            newx = (math.e**(x0*(math.log((alpha/2.) + math.e) - 1) + 1 ) - math.e)/(alpha/2.)\n",
    "        else:\n",
    "            newx = -1.*(math.e**(x0*(math.log((alpha/2.) + math.e) - 1) + 1 ) - math.e)/(alpha/2.)\n",
    "        newys.append(newy)\n",
    "        newxs.append(newx)\n",
    "        #print y0,newy\n",
    "\n",
    "    with mesh.deform_mesh():\n",
    "            mesh.data[:,1] = newys\n",
    "            mesh.data[:,0] = newxs"
   ]
  },
  {
   "cell_type": "markdown",
   "metadata": {},
   "source": [
    "#ICs and BCs"
   ]
  },
  {
   "cell_type": "code",
   "execution_count": 13,
   "metadata": {
    "collapsed": false
   },
   "outputs": [],
   "source": [
    "# Initialise data.. Note that we are also setting boundary conditions here\n",
    "velocityField.data[:] = [0.,0.]\n",
    "pressureField.data[:] = 0.\n",
    "temperatureField.data[:] = 0.\n",
    "temperatureDotField.data[:] = 0.\n",
    "\n",
    "def wbl(x, w0 = 0.06):\n",
    "    delx = 1- abs(x)\n",
    "    Wbl = w0*math.sqrt(delx)\n",
    "    if Wbl== 0.: #to avoid division by zero\n",
    "        Wbl = 1e-8\n",
    "    return Wbl\n",
    "\n",
    "\n",
    "\n",
    "def tempf(z,w,t0=0.64):\n",
    "    temp = t0*math.erf((1-z)/w)\n",
    "    return temp\n",
    "\n"
   ]
  },
  {
   "cell_type": "code",
   "execution_count": 14,
   "metadata": {
    "collapsed": false
   },
   "outputs": [],
   "source": [
    "for index, coord in enumerate(mesh.data):\n",
    "    w = wbl(coord[0])\n",
    "    t = tempf(coord[1], w)\n",
    "    temperatureField.data[index] = t\n",
    "\n",
    "\n",
    "for index, coord in enumerate(mesh.data):\n",
    "    if abs(coord[0]) < wbl(0)/2. and coord[1] > 0.5:\n",
    "        w = wbl(0)/2.\n",
    "        d = w - abs(coord[0])\n",
    "        t = tempf(d, coord[1], w)\n",
    "        temperatureField.data[index] = t\n",
    "        \n",
    "        \n",
    "\n",
    "#Set sticky air Temp to zero\n",
    "\n",
    "for index, coord in enumerate(mesh.data):\n",
    "    if coord[1] > 1.:\n",
    "        temperatureField.data[index] = 0."
   ]
  },
  {
   "cell_type": "code",
   "execution_count": 15,
   "metadata": {
    "collapsed": true
   },
   "outputs": [],
   "source": [
    "#For notebook runs\n",
    "#ModIt = \"96\""
   ]
  },
  {
   "cell_type": "code",
   "execution_count": 16,
   "metadata": {
    "collapsed": false
   },
   "outputs": [],
   "source": [
    "# Get the actual sets \n",
    "#\n",
    "#  HJJJJJJH\n",
    "#  I      I\n",
    "#  I      I\n",
    "#  I      I\n",
    "#  HJJJJJJH\n",
    "#  \n",
    "#  Note that H = I & J \n",
    "\n",
    "# Note that we use operator overloading to combine sets\n",
    "# send boundary condition information to underworld\n",
    "IWalls = mesh.specialSets[\"MinI_VertexSet\"] + mesh.specialSets[\"MaxI_VertexSet\"]\n",
    "JWalls = mesh.specialSets[\"MinJ_VertexSet\"] + mesh.specialSets[\"MaxJ_VertexSet\"]\n",
    "TWalls = mesh.specialSets[\"MaxJ_VertexSet\"]\n",
    "BWalls = mesh.specialSets[\"MinJ_VertexSet\"]"
   ]
  },
  {
   "cell_type": "code",
   "execution_count": null,
   "metadata": {
    "collapsed": true
   },
   "outputs": [],
   "source": []
  },
  {
   "cell_type": "code",
   "execution_count": 17,
   "metadata": {
    "collapsed": false
   },
   "outputs": [],
   "source": [
    "# Now setup the dirichlet boundary condition\n",
    "# Note that through this object, we are flagging to the system \n",
    "# that these nodes are to be considered as boundary conditions. \n",
    "# Also note that we provide a tuple of sets.. One for the Vx, one for Vy.\n",
    "freeslipBC = uw.conditions.DirichletCondition( variable      = velocityField, \n",
    "                                               indexSetsPerDof = (IWalls, BWalls) )\n",
    "\n",
    "# also set dirichlet for temp field\n",
    "tempBC = uw.conditions.DirichletCondition(     variable=temperatureField, \n",
    "                                              indexSetsPerDof=(JWalls,) )\n",
    "\n",
    "\n",
    "# set initial conditions (and boundary values)\n",
    "velocityField.data[:] = [0.,0.]\n",
    "pressureField.data[:] = 0.\n",
    "\n",
    "\n",
    "\n"
   ]
  },
  {
   "cell_type": "markdown",
   "metadata": {},
   "source": [
    "##Add Random 125 K temp perturbation\n"
   ]
  },
  {
   "cell_type": "code",
   "execution_count": 18,
   "metadata": {
    "collapsed": true
   },
   "outputs": [],
   "source": [
    "tempNump = temperatureField.data\n",
    "\n",
    "#In gerneral we only want to do this on the initial setup, not restarts\n",
    "\n",
    "if not checkpointLoad:\n",
    "    for index, coord in enumerate(mesh.data):\n",
    "        pertCoeff = (0.05*np.random.rand(1)[0])\n",
    "        ict = tempNump[index]\n",
    "        tempNump[index] = ict + pertCoeff"
   ]
  },
  {
   "cell_type": "markdown",
   "metadata": {},
   "source": [
    "##Reset bottom Dirichlet conds."
   ]
  },
  {
   "cell_type": "code",
   "execution_count": 19,
   "metadata": {
    "collapsed": false
   },
   "outputs": [],
   "source": [
    "# Set temp boundaries \n",
    "# on the boundaries\n",
    "for index in mesh.specialSets[\"MinJ_VertexSet\"]:\n",
    "    temperatureField.data[index] = ndp.TR\n",
    "for index in mesh.specialSets[\"MaxJ_VertexSet\"]:\n",
    "    temperatureField.data[index] = ndp.TS"
   ]
  },
  {
   "cell_type": "code",
   "execution_count": 20,
   "metadata": {
    "collapsed": false
   },
   "outputs": [],
   "source": [
    "#temperatureField.evaluate(IWalls).min()"
   ]
  },
  {
   "cell_type": "markdown",
   "metadata": {},
   "source": [
    "#Particles"
   ]
  },
  {
   "cell_type": "code",
   "execution_count": 21,
   "metadata": {
    "collapsed": false
   },
   "outputs": [],
   "source": [
    "###########\n",
    "#Material Swarm and variables\n",
    "###########\n",
    "\n",
    "gSwarm = uw.swarm.Swarm(mesh=mesh)\n",
    "materialVariable = gSwarm.add_variable( dataType=\"char\", count=1 )\n",
    "rockIntVar = gSwarm.add_variable( dataType=\"double\", count=1 )\n",
    "airIntVar = gSwarm.add_variable( dataType=\"double\", count=1 )\n",
    "lithIntVar = gSwarm.add_variable( dataType=\"double\", count=1 )\n",
    "\n",
    "varlist = [materialVariable, rockIntVar, airIntVar, lithIntVar]\n",
    "varnames = ['materialVariable', 'rockIntVar', 'airIntVar', 'lithIntVar']"
   ]
  },
  {
   "cell_type": "code",
   "execution_count": 22,
   "metadata": {
    "collapsed": true
   },
   "outputs": [],
   "source": [
    "###########\n",
    "#Swarms for surface intragrals when using Sticky air\n",
    "###########\n",
    "\n",
    "snum = 1000.\n",
    "dx = (mesh.data[:,0].max()- mesh.data[:,0].min())/snum\n",
    "yp = 0.9947 #1. - yelsize/2. at res = 96\n",
    "\n",
    "mesh.data[:,0].max()\n",
    "xps = np.linspace(mesh.data[:,0].min(),mesh.data[:,0].max(), snum)\n",
    "yps = [yp for i in xps]\n",
    "\n",
    "surfintswarm = uw.swarm.Swarm( mesh=mesh )\n",
    "dumout = surfintswarm.add_particles_with_coordinates(np.array((xps,yps)).T)\n",
    "\n",
    "yps = [ 1.- yp  for i in xps]\n",
    "\n",
    "baseintswarm = uw.swarm.Swarm( mesh=mesh)\n",
    "dumout = baseintswarm.add_particles_with_coordinates(np.array((xps,yps)).T)"
   ]
  },
  {
   "cell_type": "markdown",
   "metadata": {},
   "source": [
    "#Initialise swarm variables, or Swarm checkpoint load"
   ]
  },
  {
   "cell_type": "code",
   "execution_count": 23,
   "metadata": {
    "collapsed": false
   },
   "outputs": [],
   "source": [
    "mantleIndex = 0\n",
    "lithosphereIndex = 1\n",
    "crustIndex = 2\n",
    "airIndex = 3\n",
    "\n",
    "\n",
    "if checkpointLoad:\n",
    "    checkpointLoadDir = natsort.natsorted(checkdirs)[-1]\n",
    "    temperatureField.load(os.path.join(checkpointLoadDir, \"temperatureField\" + \".hdf5\"))\n",
    "    pressureField.load(os.path.join(checkpointLoadDir, \"pressureField\" + \".hdf5\"))\n",
    "    velocityField.load(os.path.join(checkpointLoadDir, \"velocityField\" + \".hdf5\"))\n",
    "    gSwarm.load(os.path.join(checkpointLoadDir, \"swarm\" + \".h5\"))\n",
    "    for ix in range(len(varlist)):\n",
    "        varb = varlist[ix]\n",
    "        varb.load(os.path.join(checkpointLoadDir,varnames[ix] + \".h5\"))\n",
    "\n",
    "else:\n",
    "\n",
    "    # Layouts are used to populate the swarm across the whole domain\n",
    "    # Create the layout object\n",
    "    #layout = uw.swarm.layouts.GlobalSpaceFillerLayout( swarm=gSwarm, particlesPerCell=20)\n",
    "    layout = uw.swarm.layouts.PerCellRandomLayout(swarm=gSwarm, particlesPerCell=15)\n",
    "    # Now use it to populate.\n",
    "    gSwarm.populate_using_layout( layout=layout )\n",
    "\n",
    "    # Lets initialise the 'materialVariable' data to represent different materials\n",
    "    # Set the material to heavy everywhere via the numpy array\n",
    "    materialVariable.data[:] = mantleIndex\n",
    "    \n",
    "    \n",
    "    #Set initial air and crust materials (allow the graph to take care of lithsophere)\n",
    "    #########\n",
    "    #This initial material setup will be model dependent\n",
    "    #########\n",
    "    for particleID in range(gSwarm.particleCoordinates.data.shape[0]):\n",
    "        if (1. - gSwarm.particleCoordinates.data[particleID][1]) < 0:\n",
    "                 materialVariable.data[particleID] = airIndex\n",
    "        elif (1. - gSwarm.particleCoordinates.data[particleID][1]) < MANTLETOCRUST:\n",
    "                 materialVariable.data[particleID] = crustIndex"
   ]
  },
  {
   "cell_type": "markdown",
   "metadata": {},
   "source": [
    "#Material Graphs"
   ]
  },
  {
   "cell_type": "code",
   "execution_count": 24,
   "metadata": {
    "collapsed": false
   },
   "outputs": [],
   "source": [
    "##############\n",
    "#Important: This is a quick fix for a bug that arises in parallel runs\n",
    "##############\n",
    "material_list = [0,1,2,3]\n"
   ]
  },
  {
   "cell_type": "code",
   "execution_count": 25,
   "metadata": {
    "collapsed": false
   },
   "outputs": [
    {
     "name": "stdout",
     "output_type": "stream",
     "text": [
      "unique values after swarm has loaded:[0 2]\n"
     ]
    }
   ],
   "source": [
    "print( \"unique values after swarm has loaded:\" + str(np.unique(materialVariable.data[:])))\n"
   ]
  },
  {
   "cell_type": "code",
   "execution_count": 26,
   "metadata": {
    "collapsed": true
   },
   "outputs": [],
   "source": [
    "import networkx as nx\n",
    "\n",
    "#All depth conditions are given as (km/D) where D is the length scale, \n",
    "#note that 'model depths' are used, e.g. 1-z, where z is the vertical Underworld coordinate\n",
    "#All temp conditions are in dimensionless temp. [0. - 1.]\n",
    "\n",
    "#######Graph object\n",
    "DG = nx.DiGraph(field=\"Depth\")\n",
    "\n",
    "#######Nodes\n",
    "#Note that the order of materials, deepest to shallowest is important \n",
    "DG.add_node(0, mat='mantle')\n",
    "DG.add_node(1, mat='lithosphere')\n",
    "DG.add_node(2, mat='crust')\n",
    "DG.add_node(3, mat='air')\n",
    "\n",
    "\n",
    "labels=dict((n,d['mat']) for n,d in DG.nodes(data=True))\n",
    "pos=nx.spring_layout(DG) \n",
    "\n",
    "\n",
    "#######Edges\n",
    "#anything to air\n",
    "DG.add_edges_from([(0,3),(1,3), (2,3)])\n",
    "DG[0][3]['depthcondition'] = -1*TOPOHEIGHT\n",
    "DG[1][3]['depthcondition'] = -1*TOPOHEIGHT\n",
    "DG[2][3]['depthcondition'] = -1*TOPOHEIGHT\n",
    "\n",
    "\n",
    "#Anything to mantle\n",
    "DG.add_edges_from([(2,0), (3,0), (1,0)])\n",
    "DG[3][0]['depthcondition'] = TOPOHEIGHT\n",
    "DG[2][0]['depthcondition'] = CRUSTTOMANTLE\n",
    "DG[1][0]['depthcondition'] = LITHTOMANTLE #This means we're going to kill lithosphere at the 660.\n",
    "\n",
    "\n",
    "#Anything to lithsphere\n",
    "DG.add_edges_from([(0,1),(3,1)])\n",
    "DG[0][1]['depthcondition'] = MANTLETOLITH\n",
    "DG[0][1]['avgtempcondition'] = 0.75*AVGTEMP #definition of thermal lithosphere\n",
    "\n",
    "\n",
    "#Anything to crust\n",
    "DG.add_edges_from([(0,2), (1,2)])\n",
    "DG[0][2]['depthcondition'] = MANTLETOCRUST\n",
    "DG[1][2]['depthcondition'] = MANTLETOCRUST"
   ]
  },
  {
   "cell_type": "code",
   "execution_count": 27,
   "metadata": {
    "collapsed": false
   },
   "outputs": [
    {
     "data": {
      "text/plain": [
       "[0, 1, 2, 3]"
      ]
     },
     "execution_count": 27,
     "metadata": {},
     "output_type": "execute_result"
    }
   ],
   "source": [
    "DG.nodes()"
   ]
  },
  {
   "cell_type": "code",
   "execution_count": 28,
   "metadata": {
    "collapsed": false
   },
   "outputs": [],
   "source": [
    "remove_nodes = []\n",
    "for node in DG.nodes():\n",
    "    if not node in material_list:\n",
    "        remove_nodes.append(node)\n",
    "        \n",
    "for rmnode in remove_nodes:\n",
    "    DG.remove_node(rmnode)"
   ]
  },
  {
   "cell_type": "code",
   "execution_count": 29,
   "metadata": {
    "collapsed": false
   },
   "outputs": [
    {
     "data": {
      "text/plain": [
       "[0, 1, 2, 3]"
      ]
     },
     "execution_count": 29,
     "metadata": {},
     "output_type": "execute_result"
    }
   ],
   "source": [
    "DG.nodes()"
   ]
  },
  {
   "cell_type": "code",
   "execution_count": 30,
   "metadata": {
    "collapsed": false
   },
   "outputs": [],
   "source": [
    "\n",
    "#remove_nodes = []\n",
    "#for node in DG.nodes_iter():\n",
    "#    if not node in material_list:\n",
    "#        remove_nodes.append(node)\n",
    "        \n",
    "#for rmnode in remove_nodes:\n",
    "#    DG.remove_node(rmnode)"
   ]
  },
  {
   "cell_type": "code",
   "execution_count": 31,
   "metadata": {
    "collapsed": true
   },
   "outputs": [],
   "source": [
    "#A Dictionary to map strings in the graph (e.g. 'depthcondition') to particle data arrays\n",
    "\n",
    "particledepths = 1. - gSwarm.particleCoordinates.data[:,1]\n",
    "particletemps = temperatureField.evaluate(gSwarm)[:,0]\n",
    "\n",
    "conditionmap = {}\n",
    "\n",
    "conditionmap['depthcondition'] = {}\n",
    "conditionmap['depthcondition']['data'] = particledepths\n",
    "conditionmap['avgtempcondition'] = {}\n",
    "conditionmap['avgtempcondition']['data'] = particletemps"
   ]
  },
  {
   "cell_type": "code",
   "execution_count": 32,
   "metadata": {
    "collapsed": true
   },
   "outputs": [],
   "source": [
    "def update_swarm(graph, particleIndex):\n",
    "    \"\"\"\n",
    "    This function takes the materials graph (networkx.DiGraph), and a particle index,\n",
    "    then determines if a material update is required \n",
    "    and if so, returns the new materialindex\n",
    "    Args:\n",
    "        graph (networkx.DiGraph): Directed multigraph representing the transformation of material types\n",
    "        particleIndex (int): the particle index as corressponding to the index in the swarm data arrays\n",
    "    Returns:\n",
    "        if update is required the function returns the the new material variable (int) \n",
    "        else returns None\n",
    "    Raises:\n",
    "        TypeError: not implemented\n",
    "        ValueError: not implemented\n",
    "    \"\"\"\n",
    "    ##Egde gives links to other materials, we then query the conditions to see if we should change materials\n",
    "    matId = materialVariable.data[particleIndex][0]\n",
    "    innerchange = False\n",
    "    outerchange = False\n",
    "    for edge in graph[matId]:\n",
    "        if outerchange:\n",
    "            break\n",
    "        for cond in graph[matId][edge].keys():\n",
    "            outerchange = False\n",
    "            if innerchange: #found a complete transition, break inner loop\n",
    "                break\n",
    "            currentparticlevalue = conditionmap[cond]['data'][particleIndex]\n",
    "            crossover = graph[matId][edge][cond]\n",
    "            if ((matId > edge) and (currentparticlevalue > crossover)):\n",
    "                innerchange = False # continue on, \n",
    "                if graph[matId][edge].keys()[-1] == cond:\n",
    "                    outerchange = True\n",
    "                    innerchange = edge\n",
    "                    break\n",
    "            elif ((matId < edge) and (currentparticlevalue < crossover)):\n",
    "                innerchange = False\n",
    "                if graph[matId][edge].keys()[-1] == cond:\n",
    "                    outerchange = True\n",
    "                    innerchange = edge\n",
    "                    break\n",
    "            else:\n",
    "                #condition not met, break outer loop, go to next edge, outerchange should still be False\n",
    "                break\n",
    "    if type(innerchange) == int:\n",
    "        return innerchange"
   ]
  },
  {
   "cell_type": "code",
   "execution_count": 33,
   "metadata": {
    "collapsed": false
   },
   "outputs": [],
   "source": [
    "#Cleanse the swarm of its sins\n",
    "#For some Material Graphs, the graph may have to be treaversed more than once\n",
    "\n",
    "check = -1\n",
    "number_updated = 1\n",
    "\n",
    "while number_updated != 0:\n",
    "    number_updated = 0\n",
    "    for particleID in range(gSwarm.particleCoordinates.data.shape[0]):\n",
    "                check = update_swarm(DG, particleID)\n",
    "                if check > -1:\n",
    "                    number_updated += 1\n",
    "                    materialVariable.data[particleID] = check"
   ]
  },
  {
   "cell_type": "markdown",
   "metadata": {},
   "source": [
    "##Set the values for the masking swarms"
   ]
  },
  {
   "cell_type": "code",
   "execution_count": 34,
   "metadata": {
    "collapsed": false
   },
   "outputs": [],
   "source": [
    "#Setup up a masking Swarm variable for the integrations.\n",
    "#These should be rebuilt at same frequency as the metric calcualtions\n",
    "\n",
    "rockIntVar.data[:] = 0.\n",
    "notair = np.where(materialVariable.data != airIndex)\n",
    "rockIntVar.data[notair] = 1.\n",
    "\n",
    "airIntVar.data[:] = 0.\n",
    "notrock = np.where(materialVariable.data == airIndex)\n",
    "airIntVar.data[notrock] = 1.\n",
    "\n",
    "lithIntVar.data[:] = 0.\n",
    "islith = np.where((materialVariable.data == lithosphereIndex) | (materialVariable.data == crustIndex))\n",
    "lithIntVar.data[islith] = 1."
   ]
  },
  {
   "cell_type": "markdown",
   "metadata": {
    "collapsed": false
   },
   "source": [
    "#Material properties\n"
   ]
  },
  {
   "cell_type": "markdown",
   "metadata": {},
   "source": [
    "In the paper, Crameri and Tackley give the dimensionless cohesion as well as the dimensionless yield stress gradient. But the latter is given as a function of dimensionless (lithostatic) pressure, whereas it is easier to use dimensionless depth. Easy, multiply the dimensionless depth by $\\rho g D$, divide by the stress scale, $\\frac{\\eta \\kappa}{D^2}$ then use the same dimensionless yeild stress gradient ($\\mu$)"
   ]
  },
  {
   "cell_type": "code",
   "execution_count": 35,
   "metadata": {
    "collapsed": false
   },
   "outputs": [],
   "source": [
    "# The yeilding of the upper slab is dependent on the strain rate.\n",
    "strainRate_2ndInvariant = fn.tensor.second_invariant( \n",
    "                            fn.tensor.symmetric( \n",
    "                            velocityField.fn_gradient ))\n",
    "\n",
    "\n",
    "coordinate = fn.input()\n",
    "depth = 1. - coordinate[1]\n",
    "\n",
    "#Determine yield criterion for depth (rather than pressure as given in Crameri)\n",
    "#Scaling is same as van Heck and Tackley, EPSL, 2011\n",
    "lithopressuregrad = dp.rho*dp.g*(dp.LS)**3/(dp.eta0*dp.k)"
   ]
  },
  {
   "cell_type": "code",
   "execution_count": 36,
   "metadata": {
    "collapsed": false
   },
   "outputs": [
    {
     "name": "stdout",
     "output_type": "stream",
     "text": [
      "(11.55, 3.0, 0.1092, 1.0, 0.64, 1577.0)\n"
     ]
    }
   ],
   "source": [
    "#Check important paramters\n",
    "print(ndp.E, ndp.V,ndp.TS,ndp.RD, ndp.TR, ndp.cohesion)"
   ]
  },
  {
   "cell_type": "code",
   "execution_count": 37,
   "metadata": {
    "collapsed": false
   },
   "outputs": [],
   "source": [
    "############\n",
    "#Mantle\n",
    "############\n",
    "\n",
    "#Linear viscosity\n",
    "arhennius = fn.misc.min(1e5,fn.math.exp(((ndp.E + ndp.V*(1.-coordinate[1]))/\n",
    "                                         (temperatureField + ndp.TS)) - ((ndp.E + ndp.V*(1.- ndp.RD))/(ndp.TR + ndp.TS))))\n",
    "\n",
    "#Psuedo-plastic \n",
    "ys =  ndp.cohesion + (depth*ndp.fc*lithopressuregrad)\n",
    "#ys =  ndp.fc*lithopressuregrad*(30e3/dp.LS) # this is the byerlee strength at 30 km\n",
    "yss = fn.misc.max(1577., ys)\n",
    "plasticvisc = yss*(math.sqrt(2))/(strainRate_2ndInvariant*2.)\n",
    "plastic = fn.misc.max(1e-4,plasticvisc)\n",
    "#combine these\n",
    "mantleviscosityFn = fn.exception.SafeMaths(fn.misc.min(arhennius, plastic))\n",
    "\n",
    "############\n",
    "#crust\n",
    "############\n",
    "\n",
    "\n",
    "cohesion_reduce =7.\n",
    "ysc = (ndp.cohesion/cohesion_reduce) + (depth*(ndp.fc/100.)*lithopressuregrad)\n",
    "#ysc = ys/100.\n",
    "ycs = fn.misc.max((ndp.cohesion/cohesion_reduce), ysc)\n",
    "crustplasticvisc = ycs*(math.sqrt(2))/(strainRate_2ndInvariant*2.)\n",
    "crustplastic = fn.misc.max(1e-4,crustplasticvisc) \n",
    "crustviscosityFn = fn.exception.SafeMaths(fn.misc.min(arhennius, crustplastic))"
   ]
  },
  {
   "cell_type": "markdown",
   "metadata": {},
   "source": [
    "Note that the rheology implemented manually above can also be set up using an Underworld2 function, as follows:\n",
    "```python\n",
    "fn_stress =  2.*arhennius*uw.function.tensor.symmetric(velocityField.fn_gradient )\n",
    "plasticvisc = fn.rheology.stress_limiting_viscosity(fn_stress,ys,arhennius)\n",
    "plastic = fn.misc.max(1e-4,plasticvisc)\n",
    "mantleviscosityFn = fn.exception.SafeMaths(fn.misc.min(arhennius, plastic))\n",
    "stokesPIC.fn_viscosity = mantleviscosityFn\n",
    "```"
   ]
  },
  {
   "cell_type": "markdown",
   "metadata": {},
   "source": [
    "Set up material properties\n",
    "====\n",
    "\n",
    "Here the functions for density, viscosity etc. are set. These functions and/or values are preserved for the entire simulation time. "
   ]
  },
  {
   "cell_type": "code",
   "execution_count": 38,
   "metadata": {
    "collapsed": false
   },
   "outputs": [],
   "source": [
    "# Here we set a viscosity value of '1.' for both materials\n",
    "viscosityMapFn = fn.branching.map( fn_key = materialVariable,\n",
    "                         mapping = {airIndex:AIRVISCOSITY, \n",
    "                                    lithosphereIndex:mantleviscosityFn, \n",
    "                                    crustIndex:crustviscosityFn,\n",
    "                                    mantleIndex:mantleviscosityFn} )\n",
    "\n",
    "densityMapFn = fn.branching.map( fn_key = materialVariable,\n",
    "                         mapping = {airIndex:AIRDENSITY, \n",
    "                                    lithosphereIndex:ndp.RA*temperatureField, \n",
    "                                    crustIndex:ndp.RA*temperatureField, \n",
    "                                    mantleIndex:ndp.RA*temperatureField} )\n",
    "\n",
    "# Define our gravity using a python tuple (this will be automatically converted to a function)\n",
    "gravity = ( 0.0, 1.0 )\n",
    "\n",
    "buoyancyFn = gravity*densityMapFn"
   ]
  },
  {
   "cell_type": "code",
   "execution_count": null,
   "metadata": {
    "collapsed": false
   },
   "outputs": [],
   "source": []
  },
  {
   "cell_type": "markdown",
   "metadata": {},
   "source": [
    "Build the Stokes system, solvers, advection-diffusion\n",
    "------\n",
    "\n",
    "Setup linear Stokes system to get the initial velocity."
   ]
  },
  {
   "cell_type": "code",
   "execution_count": 39,
   "metadata": {
    "collapsed": false
   },
   "outputs": [],
   "source": [
    "stokesPIC = uw.systems.Stokes( velocityField = velocityField, \n",
    "                               pressureField = pressureField,\n",
    "                               #swarm         = gSwarm, \n",
    "                               conditions    = [freeslipBC,],\n",
    "                               fn_viscosity   = arhennius, \n",
    "                               fn_bodyforce   = buoyancyFn )\n"
   ]
  },
  {
   "cell_type": "code",
   "execution_count": 40,
   "metadata": {
    "collapsed": false
   },
   "outputs": [],
   "source": [
    "#We do one solve with linear viscosity to get the initial strain rate invariant. \n",
    "#This solve step also calculates a 'guess' of the the velocity field based on the linear system, \n",
    "#which is used later in the non-linear solver.\n",
    "\n",
    "solver = uw.systems.Solver(stokesPIC)\n",
    "# If not doing a restart, do a solve on the non-plastic system\n",
    "if not checkpointLoad:\n",
    "    solver.solve()"
   ]
  },
  {
   "cell_type": "code",
   "execution_count": null,
   "metadata": {
    "collapsed": true
   },
   "outputs": [],
   "source": []
  },
  {
   "cell_type": "code",
   "execution_count": 41,
   "metadata": {
    "collapsed": false
   },
   "outputs": [],
   "source": [
    "####################\n",
    "#Add the non-linear viscosity to the Stokes system\n",
    "stokesPIC.fn_viscosity = viscosityMapFn\n",
    "###################\n",
    "\n",
    "#Set more advanced solver option\n",
    "solver.options.main.Q22_pc_type='uw'\n",
    "solver.options.A11.ksp_rtol=1e-7\n",
    "solver.options.scr.ksp_rtol=1e-6\n",
    "solver.options.scr.use_previous_guess = True\n",
    "solver.options.scr.ksp_set_min_it_converge = 6\n",
    "\n",
    "solver.options.mg.levels = 3\n",
    "\n",
    "solver.options.A11.ksp_monitor=''"
   ]
  },
  {
   "cell_type": "markdown",
   "metadata": {},
   "source": [
    "Solve non-linear system for pressure and velocity using Picard iteration\n"
   ]
  },
  {
   "cell_type": "code",
   "execution_count": 42,
   "metadata": {
    "collapsed": false
   },
   "outputs": [],
   "source": [
    "solver.solve(nonLinearIterate=True)"
   ]
  },
  {
   "cell_type": "code",
   "execution_count": 43,
   "metadata": {
    "collapsed": true
   },
   "outputs": [],
   "source": [
    "#Now check the stress.\n",
    "fn_stress = 2.*mantleviscosityFn*uw.function.tensor.symmetric(velocityField.fn_gradient)\n",
    "fn_minmax_inv = fn.view.min_max(fn.tensor.second_invariant(fn_stress))\n",
    "ignore = fn_minmax_inv.evaluate(gSwarm)"
   ]
  },
  {
   "cell_type": "code",
   "execution_count": 44,
   "metadata": {
    "collapsed": false
   },
   "outputs": [
    {
     "data": {
      "text/plain": [
       "546215.6866554274"
      ]
     },
     "execution_count": 44,
     "metadata": {},
     "output_type": "execute_result"
    }
   ],
   "source": [
    "fn_minmax_inv.max_global()"
   ]
  },
  {
   "cell_type": "code",
   "execution_count": 45,
   "metadata": {
    "collapsed": false
   },
   "outputs": [],
   "source": [
    "#np.isclose(fn_minmax_inv.max_global(), ys, rtol=1e-03)"
   ]
  },
  {
   "cell_type": "code",
   "execution_count": 46,
   "metadata": {
    "collapsed": false
   },
   "outputs": [
    {
     "data": {
      "text/html": [
       "<img src='data:image/png;base64,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'>"
      ],
      "text/plain": [
       "<IPython.core.display.HTML object>"
      ]
     },
     "execution_count": 46,
     "metadata": {},
     "output_type": "execute_result"
    }
   ],
   "source": [
    "figTemp = glucifer.Figure()\n",
    "figTemp.append( glucifer.objects.Surface(mesh, fn.tensor.second_invariant(fn_stress)))\n",
    "#figTemp.append( glucifer.objects.VectorArrows(mesh,velocityField, arrowHead=0.2, scaling=0.0005))\n",
    "\n",
    "figTemp.show()"
   ]
  },
  {
   "cell_type": "markdown",
   "metadata": {},
   "source": [
    "Create an advective-diffusive system\n",
    "=====\n",
    "\n",
    "Setup the system in underworld by flagging the temperature and velocity field variables."
   ]
  },
  {
   "cell_type": "code",
   "execution_count": 47,
   "metadata": {
    "collapsed": false
   },
   "outputs": [],
   "source": [
    "#Create advdiff system\n",
    "\n",
    "advDiff = uw.systems.AdvectionDiffusion( phiField       = temperatureField, \n",
    "                                         phiDotField    = temperatureDotField, \n",
    "                                         velocityField  = velocityField, \n",
    "                                         fn_diffusivity = 1.0, \n",
    "                                         conditions     = [tempBC,] )\n",
    "\n",
    "\n",
    "\n",
    "advector = uw.systems.SwarmAdvector( swarm         = gSwarm, \n",
    "                                     velocityField = velocityField, \n",
    "                                     order         = 1)\n",
    "\n",
    "#Switch particle escape on, this will also trigger the inflow population control \n",
    "gSwarm.particleEscape = True"
   ]
  },
  {
   "cell_type": "markdown",
   "metadata": {},
   "source": [
    "Metrics for benchmark\n",
    "=====\n",
    "\n",
    "Define functions to be used in the time loop. For cases 1-4, participants were asked to report a number of diagnostic quantities to be measured after reaching steady state:\n",
    "\n",
    "* Average temp... $$  \\langle T \\rangle  = \\int^1_0 \\int^1_0 T \\, dxdy $$\n",
    "* Top and bottom Nusselt numbers... $$N = \\int^1_0 \\frac{\\partial T}{\\partial y} \\rvert_{y=0/1} \\, dx$$\n",
    "* RMS velocity over the whole domain, surface and max velocity at surface\n",
    "* max and min viscosity over the whole domain\n",
    "* average rate of work done against gravity...$$\\langle W \\rangle = \\int^1_0 \\int^1_0 T u_y \\, dx dy$$\n",
    "* and the average rate of viscous dissipation...$$\\langle \\Phi \\rangle = \\int^1_0 \\int^1_0 \\tau_{ij} \\dot \\epsilon_{ij} \\, dx dy$$\n",
    "\n",
    "* In steady state, if thermal energy is accurately conserved, the difference between $\\langle W \\rangle$ and $\\langle \\Phi \\rangle / Ra$ must vanish, so also reported is the percentage error: \n",
    "\n",
    "$$ \\delta = \\frac{\\lvert \\langle W \\rangle - \\frac{\\langle \\Phi \\rangle}{Ra} \\rvert}{max \\left(  \\langle W \\rangle,  \\frac{\\langle \\Phi \\rangle}{Ra}\\right)} \\times 100% $$"
   ]
  },
  {
   "cell_type": "code",
   "execution_count": 48,
   "metadata": {
    "collapsed": false
   },
   "outputs": [],
   "source": [
    "#Setup some Integrals. We want these outside the main loop...\n",
    "tempVariable = gSwarm.add_variable( dataType=\"double\", count=1 )\n",
    "tempVariable.data[:] = temperatureField.evaluate(gSwarm)[:]\n",
    "tempint = uw.utils.Integral((tempVariable*rockIntVar), mesh)\n",
    "\n",
    "\n",
    "areaint = uw.utils.Integral((1.*rockIntVar),mesh)\n",
    "\n",
    "v2int = uw.utils.Integral(fn.math.dot(velocityField,velocityField)*rockIntVar, mesh)\n",
    "\n",
    "\n",
    "dwint = uw.utils.Integral(temperatureField*velocityField[1]*rockIntVar, mesh)\n",
    "\n",
    "\n",
    "sinner = fn.math.dot(strainRate_2ndInvariant,strainRate_2ndInvariant)\n",
    "vdint = uw.utils.Integral((4.*mantleviscosityFn*sinner)*rockIntVar, mesh)\n",
    "vdintair = uw.utils.Integral((4.*mantleviscosityFn*sinner)*airIntVar, mesh)\n",
    "vdintlith = uw.utils.Integral((4.*mantleviscosityFn*sinner)*lithIntVar, mesh)"
   ]
  },
  {
   "cell_type": "code",
   "execution_count": 49,
   "metadata": {
    "collapsed": false
   },
   "outputs": [],
   "source": [
    "def avg_temp():\n",
    "    return tempint.evaluate()[0]\n",
    "\n",
    "#This one gets cleaned up when Surface integrals are available\n",
    "def nusselt(tempfield, swarm, dx):\n",
    "    #Update the swarm variable\n",
    "    tempgrad = tempfield.fn_gradient\n",
    "    valcheck = tempgrad[1].evaluate(swarm)\n",
    "    if valcheck is None:\n",
    "        vals = np.array(0, dtype='float64')\n",
    "    else:\n",
    "        vals = valcheck.sum()*dx\n",
    "    return vals\n",
    "\n",
    "def rms():\n",
    "    return math.sqrt(v2int.evaluate()[0])\n",
    "\n",
    "#This one gets cleaned up when Surface integrals are available\n",
    "def rms_surf(swarm, dx):\n",
    "    rmsmaxfn = fn.math.sqrt(fn.math.dot(velocityField,velocityField))\n",
    "    rmscheck = rmsmaxfn.evaluate(swarm)\n",
    "    if rmscheck is None:\n",
    "        rmsvals = np.array(0, dtype='float64')\n",
    "    else:\n",
    "        rmsvals = rmscheck.sum()*dx\n",
    "    return rmsvals\n",
    "\n",
    "def max_vx_surf(velfield, swarm):\n",
    "    surfvelxmaxfn = fn.view.min_max(velfield[0])\n",
    "    surfvelxmaxfn.evaluate(swarm)\n",
    "    return surfvelxmaxfn.max_global()\n",
    "\n",
    "def max_vy_surf(velfield, swarm):\n",
    "    surfvelxmaxfn = fn.view.min_max(velfield[1])\n",
    "    surfvelxmaxfn.evaluate(swarm)\n",
    "    return surfvelxmaxfn.max_global()\n",
    "\n",
    "def gravwork(workfn):\n",
    "    return workfn.evaluate()[0]\n",
    "\n",
    "def viscdis(vdissfn):\n",
    "    return vdissfn.evaluate()[0]\n",
    "\n",
    "def visc_extr(viscfn):\n",
    "    vuviscfn = fn.view.min_max(viscfn)\n",
    "    vuviscfn.evaluate(mesh)\n",
    "    return vuviscfn.max_global(), vuviscfn.min_global()"
   ]
  },
  {
   "cell_type": "code",
   "execution_count": 50,
   "metadata": {
    "collapsed": false
   },
   "outputs": [],
   "source": [
    "#Fields for saving data / fields\n",
    "\n",
    "rmsField = uw.mesh.MeshVariable( mesh=mesh,   nodeDofCount=1)\n",
    "rmsfn = fn.math.sqrt(fn.math.dot(velocityField,velocityField))\n",
    "rmsdata = rmsfn.evaluate(mesh)\n",
    "rmsField.data[:] = rmsdata \n",
    "\n",
    "viscField = uw.mesh.MeshVariable( mesh=mesh,   nodeDofCount=1)\n",
    "viscdata = mantleviscosityFn.evaluate(mesh)\n",
    "viscField.data[:] = viscdata\n",
    "\n",
    "\n",
    "strainrateField = uw.mesh.MeshVariable( mesh=mesh,   nodeDofCount=1)\n",
    "srtdata = fn.tensor.second_invariant( \n",
    "                    fn.tensor.symmetric( \n",
    "                        velocityField.fn_gradient ))\n",
    "rostfield = srtdata.evaluate(mesh)\n",
    "strainrateField.data[:] = rostfield\n",
    "\n",
    "viscVariable = gSwarm.add_variable( dataType=\"float\", count=1 )\n",
    "viscVariable.data[:] = viscosityMapFn.evaluate(gSwarm)"
   ]
  },
  {
   "cell_type": "code",
   "execution_count": 51,
   "metadata": {
    "collapsed": false
   },
   "outputs": [],
   "source": [
    "#Images\n",
    "figEta = glucifer.Figure()\n",
    "figEta.append( glucifer.objects.Points(gSwarm,viscVariable, logScale=True))\n",
    "\n",
    "\n",
    "figMat = glucifer.Figure()\n",
    "figMat.append( glucifer.objects.Points(gSwarm,materialVariable, colours='brown white blue red'))\n",
    "figMat.append( glucifer.objects.Mesh(mesh))\n",
    "\n",
    "\n",
    "figStrainRate = glucifer.Figure()\n",
    "figStrainRate.append( glucifer.objects.Surface(mesh, strainRate_2ndInvariant, logScale=True))\n",
    "\n",
    "\n",
    "figVelocityMag = glucifer.Figure()\n",
    "figVelocityMag.append( glucifer.objects.Surface(mesh, fn.math.dot(velocityField,velocityField))\n",
    ")\n",
    "figTemp = glucifer.Figure()\n",
    "figTemp.append( glucifer.objects.Surface(mesh, temperatureField))\n",
    "\n",
    "\n",
    "\n",
    "#Pack some stuff into a database as well\n",
    "figDb = glucifer.Figure()\n",
    "figDb.append( glucifer.objects.Points(gSwarm,viscVariable, logScale=True, colours='brown white blue'))\n",
    "figDb.append( glucifer.objects.Points(gSwarm,materialVariable, colours='brown white blue red'))\n",
    "figDb.append( glucifer.objects.Mesh(mesh))\n",
    "figDb.append( glucifer.objects.VectorArrows(mesh,velocityField, arrowHead=0.2, scaling=0.002))\n",
    "figDb.append( glucifer.objects.Surface(mesh, strainRate_2ndInvariant, logScale=True, colours='brown white blue'))"
   ]
  },
  {
   "cell_type": "markdown",
   "metadata": {},
   "source": [
    "Main simulation loop\n",
    "=======\n",
    "\n",
    "The main time stepping loop begins here. Before this the time and timestep are initialised to zero and the output statistics arrays are set up. Also the frequency of outputting basic statistics to the screen is set in steps_output.\n"
   ]
  },
  {
   "cell_type": "code",
   "execution_count": 52,
   "metadata": {
    "collapsed": true
   },
   "outputs": [],
   "source": [
    "pics = uw.swarm.PICIntegrationSwarm(gSwarm)"
   ]
  },
  {
   "cell_type": "code",
   "execution_count": 53,
   "metadata": {
    "collapsed": false
   },
   "outputs": [],
   "source": [
    "def checkpoint1(step, checkpointPath,filename, filewrites):\n",
    "    path = checkpointPath + str(step) \n",
    "    os.mkdir(path)\n",
    "    ##Write and save the file, if not already a writing step\n",
    "    if not step % filewrites == 0:\n",
    "        filename.write((13*'%-15s ' + '\\n') % (realtime, Viscdis, float(Nu0glob), float(Nu1glob), Avg_temp, \n",
    "                                              Rms,Rmsurfglob,Max_vx_surf,Gravwork, etamax, etamin, Viscdisair, Viscdislith))\n",
    "    filename.close()\n",
    "    shutil.copyfile(os.path.join(outputPath, outputFile), os.path.join(path, outputFile))\n",
    "\n",
    "\n",
    "def checkpoint2(step, checkpointPath, swarm, filename, varlist = [materialVariable], varnames = ['materialVariable']):\n",
    "    path = checkpointPath + str(step) \n",
    "    velfile = \"velocityField\" + \".hdf5\"\n",
    "    tempfile = \"temperatureField\" + \".hdf5\"\n",
    "    pressfile = \"pressureField\" + \".hdf5\"\n",
    "    velocityField.save(os.path.join(path, velfile))\n",
    "    temperatureField.save(os.path.join(path, tempfile))\n",
    "    pressureField.save(os.path.join(path, pressfile))\n",
    "    swarm.save(os.path.join(path, \"swarm.h5\") ) \n",
    "    for ix in range(len(varlist)):\n",
    "        varb = varlist[ix]\n",
    "        varb.save(os.path.join(path,varnames[ix] + \".h5\"))\n",
    "    "
   ]
  },
  {
   "cell_type": "code",
   "execution_count": 54,
   "metadata": {
    "collapsed": true
   },
   "outputs": [],
   "source": [
    "def advect_mesh(mesh, boundary_nodes, velocityField, dt):\n",
    "    for index in boundary_nodes:\n",
    "        vy = velocityField.evaluate(list(mesh.data[index]))[0][1]\n",
    "        dy = vy * dt\n",
    "        #old_coord = mesh.data[index]\n",
    "        #print vy, dy\n",
    "        with mesh.deform_mesh():\n",
    "            mesh.data[index][1] += dy\n",
    "        #print mesh.data[index][1]"
   ]
  },
  {
   "cell_type": "code",
   "execution_count": 55,
   "metadata": {
    "collapsed": false
   },
   "outputs": [
    {
     "data": {
      "text/plain": [
       "(1.452527158264824e-05, 7.26263579132412e-06)"
      ]
     },
     "execution_count": 55,
     "metadata": {},
     "output_type": "execute_result"
    }
   ],
   "source": [
    "advector.get_max_dt(), advDiff.get_max_dt()"
   ]
  },
  {
   "cell_type": "code",
   "execution_count": 57,
   "metadata": {
    "collapsed": false
   },
   "outputs": [],
   "source": [
    "# initialise timer for computation\n",
    "start = time.clock()\n",
    "# setup summary output file (name above)\n",
    "if checkpointLoad:\n",
    "    if uw.rank() == 0:\n",
    "        shutil.copyfile(os.path.join(checkpointLoadDir, outputFile), outputPath+outputFile)\n",
    "    comm.Barrier()\n",
    "    f_o = open(os.path.join(outputPath, outputFile), 'a')\n",
    "    prevdata = np.genfromtxt(os.path.join(outputPath, outputFile), skip_header=0, skip_footer=0)\n",
    "    if len(prevdata.shape) == 1: #this is in case there is only one line in previous file\n",
    "        realtime = prevdata[0]\n",
    "    else:\n",
    "        realtime = prevdata[prevdata.shape[0]-1, 0]\n",
    "    step = int(checkpointLoadDir.split('/')[-1])\n",
    "    timevals = [0.]\n",
    "else:\n",
    "    f_o = open(outputPath+outputFile, 'w')\n",
    "    realtime = 0.\n",
    "    step = 0\n",
    "    timevals = [0.]"
   ]
  },
  {
   "cell_type": "code",
   "execution_count": 58,
   "metadata": {
    "collapsed": false
   },
   "outputs": [
    {
     "name": "stdout",
     "output_type": "stream",
     "text": [
      "0\n",
      "1\n"
     ]
    },
    {
     "ename": "RuntimeError",
     "evalue": "Error encountered. Full restart recommended as exception safety not guaranteed. Error message:\nError - in TimeIntegrand_FirstOrder(), for TimeIntegrand \"313N3XT4__integrand\" of type SwarmAdvector: When trying to find time deriv for item 121508 in step 1, *failed*.\n",
     "output_type": "error",
     "traceback": [
      "\u001b[0;31m---------------------------------------------------------------------------\u001b[0m",
      "\u001b[0;31mRuntimeError\u001b[0m                              Traceback (most recent call last)",
      "\u001b[0;32m<ipython-input-58-5a14950523d5>\u001b[0m in \u001b[0;36m<module>\u001b[0;34m()\u001b[0m\n\u001b[1;32m     25\u001b[0m     \u001b[0madvect_mesh\u001b[0m\u001b[0;34m(\u001b[0m\u001b[0mmesh\u001b[0m\u001b[0;34m,\u001b[0m \u001b[0mTWalls\u001b[0m\u001b[0;34m,\u001b[0m \u001b[0mvelocityField\u001b[0m\u001b[0;34m,\u001b[0m \u001b[0mdt\u001b[0m\u001b[0;34m)\u001b[0m\u001b[0;34m\u001b[0m\u001b[0m\n\u001b[1;32m     26\u001b[0m     \u001b[0;31m################\u001b[0m\u001b[0;34m\u001b[0m\u001b[0;34m\u001b[0m\u001b[0m\n\u001b[0;32m---> 27\u001b[0;31m     \u001b[0madvector\u001b[0m\u001b[0;34m.\u001b[0m\u001b[0mintegrate\u001b[0m\u001b[0;34m(\u001b[0m\u001b[0mdt\u001b[0m\u001b[0;34m)\u001b[0m\u001b[0;34m\u001b[0m\u001b[0m\n\u001b[0m\u001b[1;32m     28\u001b[0m     \u001b[0;31m#machine_time = (time.clock()-start)\u001b[0m\u001b[0;34m\u001b[0m\u001b[0;34m\u001b[0m\u001b[0m\n\u001b[1;32m     29\u001b[0m     \u001b[0;31m#print(\"total advector time is: \" + str(machine_time))\u001b[0m\u001b[0;34m\u001b[0m\u001b[0;34m\u001b[0m\u001b[0m\n",
      "\u001b[0;32m/Users/dansandiford/Documents/programming/newinterface/underworld2/underworld/systems/_timeintegration.pyc\u001b[0m in \u001b[0;36mintegrate\u001b[0;34m(self, dt)\u001b[0m\n\u001b[1;32m    158\u001b[0m         \"\"\"\n\u001b[1;32m    159\u001b[0m         \u001b[0mlibUnderworld\u001b[0m\u001b[0;34m.\u001b[0m\u001b[0mStgFEM\u001b[0m\u001b[0;34m.\u001b[0m\u001b[0m_FeVariable_SyncShadowValues\u001b[0m\u001b[0;34m(\u001b[0m \u001b[0mself\u001b[0m\u001b[0;34m.\u001b[0m\u001b[0m_integrand\u001b[0m\u001b[0;34m.\u001b[0m\u001b[0mvelocityField\u001b[0m \u001b[0;34m)\u001b[0m\u001b[0;34m\u001b[0m\u001b[0m\n\u001b[0;32m--> 160\u001b[0;31m         \u001b[0msuper\u001b[0m\u001b[0;34m(\u001b[0m\u001b[0mSwarmAdvector\u001b[0m\u001b[0;34m,\u001b[0m\u001b[0mself\u001b[0m\u001b[0;34m)\u001b[0m\u001b[0;34m.\u001b[0m\u001b[0mintegrate\u001b[0m\u001b[0;34m(\u001b[0m\u001b[0mdt\u001b[0m\u001b[0;34m)\u001b[0m\u001b[0;34m\u001b[0m\u001b[0m\n\u001b[0m\u001b[1;32m    161\u001b[0m         \u001b[0;31m# this check isn't necessary, but good. possibly get rid.\u001b[0m\u001b[0;34m\u001b[0m\u001b[0;34m\u001b[0m\u001b[0m\n\u001b[1;32m    162\u001b[0m         \u001b[0mlibUnderworld\u001b[0m\u001b[0;34m.\u001b[0m\u001b[0mStgDomain\u001b[0m\u001b[0;34m.\u001b[0m\u001b[0mSwarm_CheckCoordsAreFinite\u001b[0m\u001b[0;34m(\u001b[0m \u001b[0mself\u001b[0m\u001b[0;34m.\u001b[0m\u001b[0m_integrand\u001b[0m\u001b[0;34m.\u001b[0m\u001b[0mswarm\u001b[0m \u001b[0;34m)\u001b[0m\u001b[0;34m;\u001b[0m\u001b[0;34m\u001b[0m\u001b[0m\n",
      "\u001b[0;32m/Users/dansandiford/Documents/programming/newinterface/underworld2/underworld/systems/_timeintegration.pyc\u001b[0m in \u001b[0;36mintegrate\u001b[0;34m(self, dt)\u001b[0m\n\u001b[1;32m     55\u001b[0m     \u001b[0;32mdef\u001b[0m \u001b[0mintegrate\u001b[0m\u001b[0;34m(\u001b[0m\u001b[0mself\u001b[0m\u001b[0;34m,\u001b[0m\u001b[0mdt\u001b[0m\u001b[0;34m)\u001b[0m\u001b[0;34m:\u001b[0m\u001b[0;34m\u001b[0m\u001b[0m\n\u001b[1;32m     56\u001b[0m         \u001b[0mself\u001b[0m\u001b[0;34m.\u001b[0m\u001b[0mdt\u001b[0m \u001b[0;34m=\u001b[0m \u001b[0mdt\u001b[0m\u001b[0;34m\u001b[0m\u001b[0m\n\u001b[0;32m---> 57\u001b[0;31m         \u001b[0mlibUnderworld\u001b[0m\u001b[0;34m.\u001b[0m\u001b[0mStgDomain\u001b[0m\u001b[0;34m.\u001b[0m\u001b[0m_TimeIntegrator_Execute\u001b[0m\u001b[0;34m(\u001b[0m\u001b[0mself\u001b[0m\u001b[0;34m.\u001b[0m\u001b[0m_cself\u001b[0m\u001b[0;34m,\u001b[0m \u001b[0mNone\u001b[0m\u001b[0;34m)\u001b[0m\u001b[0;34m\u001b[0m\u001b[0m\n\u001b[0m\u001b[1;32m     58\u001b[0m \u001b[0;34m\u001b[0m\u001b[0m\n\u001b[1;32m     59\u001b[0m     \u001b[0;32mdef\u001b[0m \u001b[0mget_max_dt\u001b[0m\u001b[0;34m(\u001b[0m\u001b[0mself\u001b[0m\u001b[0;34m)\u001b[0m\u001b[0;34m:\u001b[0m\u001b[0;34m\u001b[0m\u001b[0m\n",
      "\u001b[0;31mRuntimeError\u001b[0m: Error encountered. Full restart recommended as exception safety not guaranteed. Error message:\nError - in TimeIntegrand_FirstOrder(), for TimeIntegrand \"313N3XT4__integrand\" of type SwarmAdvector: When trying to find time deriv for item 121508 in step 1, *failed*.\n"
     ]
    }
   ],
   "source": [
    "# initialise timer for computation\n",
    "startMain = time.clock()\n",
    "# Perform steps\n",
    "#while realtime < 0.05:\n",
    "while step < 5:\n",
    "    #Enter non-linear loop\n",
    "    print step\n",
    "    solver.solve(nonLinearIterate=True)\n",
    "    dt = advDiff.get_max_dt()\n",
    "    if step == 0:\n",
    "        dt = 0.\n",
    "    #start = time.clock()\n",
    "    advDiff.integrate(dt)\n",
    "    #machine_time = (time.clock()-start)\n",
    "    #print(\"total advDiff time is: \" + str(machine_time))\n",
    "    # Advect swarm using this timestep size\n",
    "    #start = time.clock()\n",
    "    ################\n",
    "    #Also repopulate entire swarm periodically\n",
    "    ################\n",
    "    if step % swarm_repop == 0:\n",
    "        pics.repopulate()\n",
    "    ################\n",
    "    #Advect mesh at surface\n",
    "    advect_mesh(mesh, TWalls, velocityField, dt)\n",
    "    ################\n",
    "    advector.integrate(dt)\n",
    "    #machine_time = (time.clock()-start)\n",
    "    #print(\"total advector time is: \" + str(machine_time))\n",
    "    # Increment\n",
    "    realtime += dt\n",
    "    step += 1\n",
    "    timevals.append(realtime)\n",
    "    \n",
    "    ################\n",
    "    #Update temperature field in the air region\n",
    "    ################\n",
    "    if (step % sticky_air_temp == 0):\n",
    "        for index, coord in enumerate(mesh.data):\n",
    "            if coord[1] >= 1.:\n",
    "                temperatureField.data[index] = 0.\n",
    " \n",
    "    ################\n",
    "    #Particle update\n",
    "    ###############\n",
    "    if (step % swarm_update == 0) or (step % metric_output == 0): #These updates should be done before any metric output\n",
    "        #These swarm variables get updated first, as they are used to determine material changes\n",
    "        particledepths = 1. - gSwarm.particleCoordinates.data[:,1]\n",
    "        particletemps = temperatureField.evaluate(gSwarm)[:,0]\n",
    "        conditionmap['depthcondition']['data'] = particledepths\n",
    "        conditionmap['avgtempcondition']['data'] = particletemps\n",
    "        ################\n",
    "        number_updated = 0\n",
    "        for particleID in range(gSwarm.particleCoordinates.data.shape[0]):\n",
    "            check = update_swarm(DG, particleID)\n",
    "            if check > -1:\n",
    "                number_updated += 1\n",
    "                #if check == 0:\n",
    "                #    print \"from \" + str(materialVariable.data[particleID]) + \" to \" + str(check)\n",
    "                materialVariable.data[particleID] = check\n",
    "            else:\n",
    "                pass\n",
    "        #Also update those integration swarms\n",
    "        rockIntVar.data[:] = 0.\n",
    "        notair = np.where(materialVariable.data != airIndex)\n",
    "        rockIntVar.data[notair] = 1.\n",
    "        airIntVar.data[:] = 0.\n",
    "        notrock = np.where(materialVariable.data == airIndex)\n",
    "        airIntVar.data[notrock] = 1.\n",
    "        lithIntVar.data[:] = 0.\n",
    "        islith = np.where((materialVariable.data == lithosphereIndex) | (materialVariable.data == crustIndex))\n",
    "        lithIntVar.data[islith] = 1.\n",
    "\n",
    "    ################            \n",
    "    # Calculate the Metrics, only on 1 of the processors:\n",
    "    ################\n",
    "    if (step % metric_output == 0):\n",
    "        tempVariable.data[:] = temperatureField.evaluate(gSwarm)[:]\n",
    "        Avg_temp = avg_temp()\n",
    "        Rms = rms()\n",
    "        Max_vx_surf = max_vx_surf(velocityField, surfintswarm)\n",
    "        Gravwork = gravwork(dwint)\n",
    "        Viscdis = viscdis(vdint)\n",
    "        Viscdisair = viscdis(vdintair)\n",
    "        Viscdislith = viscdis(vdintlith)\n",
    "        etamax, etamin = visc_extr(mantleviscosityFn)\n",
    "        #These are the ones that need mpi4py treatment\n",
    "        Nu0loc = nusselt(temperatureField, baseintswarm, dx)\n",
    "        Nu1loc = nusselt(temperatureField, surfintswarm, dx)\n",
    "        Rmsurfloc = rms_surf(surfintswarm, dx)\n",
    "        #Setup the global output arrays\n",
    "        dTp = Nu0loc.dtype\n",
    "        Nu0glob = np.array(0, dtype=dTp)\n",
    "        dTp = Nu1loc.dtype\n",
    "        Nu1glob = np.array(0, dtype=dTp)\n",
    "        dTp = Rmsurfloc.dtype\n",
    "        Rmsurfglob = np.array(0, dtype=dTp)\n",
    "        #Do global sum\n",
    "        comm.Allreduce(Nu0loc, Nu0glob, op=MPI.SUM)\n",
    "        comm.Allreduce(Nu1loc, Nu1glob, op=MPI.SUM)\n",
    "        comm.Allreduce(Rmsurfloc, Rmsurfglob, op=MPI.SUM)\n",
    "        # output to summary text file\n",
    "        if uw.rank()==0:\n",
    "            f_o.write((13*'%-15s ' + '\\n') % (realtime, Viscdis, float(Nu0glob), float(Nu1glob), Avg_temp, \n",
    "                                              Rms,Rmsurfglob,Max_vx_surf,Gravwork, etamax, etamin, Viscdisair, Viscdislith))\n",
    "    ################\n",
    "    #Gldb output\n",
    "    ################ \n",
    "    if (step % gldbs_output == 0) & (writeFiles == True):\n",
    "        #Rebuild any necessary swarm variables\n",
    "        viscVariable.data[:] = viscosityMapFn.evaluate(gSwarm)\n",
    "        #Write gldbs\n",
    "        fnamedb = \"dbFig\" + \"_\" + str(ModIt) + \"_\" + str(step) + \".gldb\"\n",
    "        fullpath = os.path.join(outputPath + \"gldbs/\" + fnamedb)\n",
    "        figDb.show()\n",
    "        figDb.save_database(fullpath)\n",
    "\n",
    "    ################\n",
    "    #Checkpoint\n",
    "    ################\n",
    "    if step % checkpoint_every == 0:\n",
    "        if uw.rank() == 0:\n",
    "            checkpoint1(step, checkpointPath,f_o, metric_output)           \n",
    "        checkpoint2(step, checkpointPath, gSwarm, f_o, varlist = varlist, varnames = varnames)\n",
    "        f_o = open(os.path.join(outputPath, outputFile), 'a') #is this line supposed to be here?\n",
    "\n",
    "        \n",
    "        \n",
    "f_o.close()\n",
    "#print 'step =',step, '; dt =', dt, '; CPU time =', time.clock()-startMain"
   ]
  },
  {
   "cell_type": "code",
   "execution_count": 78,
   "metadata": {
    "collapsed": false
   },
   "outputs": [],
   "source": [
    "viscVariable = gSwarm.add_variable( dataType=\"float\", count=1 )\n",
    "viscVariable.data[:] = viscosityMapFn.evaluate(gSwarm)\n",
    "figEta = glucifer.Figure(figsize=(1024,384))\n",
    "figEta.append( glucifer.objects.Points(gSwarm,viscVariable, logScale=True))\n",
    "figEta.show()\n",
    "figEta.save_database('test.gldb')"
   ]
  },
  {
   "cell_type": "code",
   "execution_count": 198,
   "metadata": {
    "collapsed": false
   },
   "outputs": [
    {
     "data": {
      "text/html": [
       "<img src='data:image/png;base64,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'>"
      ],
      "text/plain": [
       "<IPython.core.display.HTML object>"
      ]
     },
     "execution_count": 198,
     "metadata": {},
     "output_type": "execute_result"
    }
   ],
   "source": [
    "figTemp = glucifer.Figure()\n",
    "#figTemp.append( glucifer.objects.Surface(mesh, temperatureField))\n",
    "figTemp.append( glucifer.objects.VectorArrows(mesh,velocityField, arrowHead=0.2, scaling=0.001))\n",
    "figTemp.append(glucifer.objects.Mesh(mesh))\n",
    "\n",
    "figTemp.save_database('test.gldb')\n",
    "figTemp.show()"
   ]
  },
  {
   "cell_type": "code",
   "execution_count": 51,
   "metadata": {
    "collapsed": false
   },
   "outputs": [
    {
     "data": {
      "text/html": [
       "<img src='data:image/png;base64,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'>"
      ],
      "text/plain": [
       "<IPython.core.display.HTML object>"
      ]
     },
     "execution_count": 51,
     "metadata": {},
     "output_type": "execute_result"
    }
   ],
   "source": [
    "figVelocityMag = glucifer.Figure(figsize=(1024,384))\n",
    "figVelocityMag.append( glucifer.objects.Surface(mesh, fn.math.dot(velocityField,velocityField) ))\n",
    "figVelocityMag.show()"
   ]
  },
  {
   "cell_type": "code",
   "execution_count": 52,
   "metadata": {
    "collapsed": false
   },
   "outputs": [
    {
     "data": {
      "text/html": [
       "<img src='data:image/png;base64,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'>"
      ],
      "text/plain": [
       "<IPython.core.display.HTML object>"
      ]
     },
     "execution_count": 52,
     "metadata": {},
     "output_type": "execute_result"
    }
   ],
   "source": [
    "figVelocityMag = glucifer.Figure(figsize=(1024,384))\n",
    "figVelocityMag.append( glucifer.objects.Surface(mesh, pressureField, logScale=True, valueRange=[1e-15,5e-8]) )\n",
    "figVelocityMag.show()"
   ]
  },
  {
   "cell_type": "code",
   "execution_count": 79,
   "metadata": {
    "collapsed": false
   },
   "outputs": [],
   "source": [
    "figSwarm = glucifer.Figure(figsize=(1024,384))\n",
    "figSwarm.append( glucifer.objects.Points(gSwarm,materialVariable, colours='brown white blue red'))\n",
    "figSwarm.append( glucifer.objects.Mesh(mesh))\n",
    "figSwarm.show()\n",
    "figSwarm.save_database('test.gldb')"
   ]
  },
  {
   "cell_type": "code",
   "execution_count": 53,
   "metadata": {
    "collapsed": false
   },
   "outputs": [
    {
     "ename": "NameError",
     "evalue": "name 'start' is not defined",
     "output_type": "error",
     "traceback": [
      "\u001b[0;31m---------------------------------------------------------------------------\u001b[0m",
      "\u001b[0;31mNameError\u001b[0m                                 Traceback (most recent call last)",
      "\u001b[0;32m<ipython-input-53-dc3c2f2e7c24>\u001b[0m in \u001b[0;36m<module>\u001b[0;34m()\u001b[0m\n\u001b[0;32m----> 1\u001b[0;31m \u001b[0mmachine_time\u001b[0m \u001b[0;34m=\u001b[0m \u001b[0;34m(\u001b[0m\u001b[0mtime\u001b[0m\u001b[0;34m.\u001b[0m\u001b[0mclock\u001b[0m\u001b[0;34m(\u001b[0m\u001b[0;34m)\u001b[0m\u001b[0;34m-\u001b[0m\u001b[0mstart\u001b[0m\u001b[0;34m)\u001b[0m\u001b[0;34m\u001b[0m\u001b[0m\n\u001b[0m\u001b[1;32m      2\u001b[0m \u001b[0;32mprint\u001b[0m\u001b[0;34m(\u001b[0m\u001b[0;34m\"total time is: \"\u001b[0m \u001b[0;34m+\u001b[0m \u001b[0mstr\u001b[0m\u001b[0;34m(\u001b[0m\u001b[0mmachine_time\u001b[0m\u001b[0;34m)\u001b[0m\u001b[0;34m)\u001b[0m\u001b[0;34m\u001b[0m\u001b[0m\n",
      "\u001b[0;31mNameError\u001b[0m: name 'start' is not defined"
     ]
    }
   ],
   "source": [
    "machine_time = (time.clock()-start)\n",
    "print(\"total time is: \" + str(machine_time))"
   ]
  },
  {
   "cell_type": "code",
   "execution_count": 54,
   "metadata": {
    "collapsed": false
   },
   "outputs": [
    {
     "data": {
      "text/plain": [
       "1100.5338620296968"
      ]
     },
     "execution_count": 54,
     "metadata": {},
     "output_type": "execute_result"
    }
   ],
   "source": [
    "#Sanity check for periodic conditions\n",
    "velocityField.evaluate(TWalls)[:,0].max()"
   ]
  },
  {
   "cell_type": "code",
   "execution_count": 72,
   "metadata": {
    "collapsed": false
   },
   "outputs": [
    {
     "name": "stdout",
     "output_type": "stream",
     "text": [
      "TWalls x vel is: 7.96620046476\n",
      "IWalls x vel is: 0.0\n"
     ]
    }
   ],
   "source": [
    "print(\"TWalls x vel is: \" + str(velocityField.evaluate(TWalls)[:,0].max()))\n",
    "print(\"IWalls x vel is: \" + str(velocityField.evaluate(IWalls)[:,0].max()))\n"
   ]
  },
  {
   "cell_type": "code",
   "execution_count": null,
   "metadata": {
    "collapsed": true
   },
   "outputs": [],
   "source": [
    "ts = ((D*1e3)**2)/k\n",
    "secperyear = (3600*24*365)\n",
    "dt*ts/secperyear\n",
    "\n",
    "#2.25895987733e-05*ts/secperyear"
   ]
  }
 ],
 "metadata": {
  "kernelspec": {
   "display_name": "Python 2",
   "language": "python",
   "name": "python2"
  },
  "language_info": {
   "codemirror_mode": {
    "name": "ipython",
    "version": 2
   },
   "file_extension": ".py",
   "mimetype": "text/x-python",
   "name": "python",
   "nbconvert_exporter": "python",
   "pygments_lexer": "ipython2",
   "version": "2.7.11"
  }
 },
 "nbformat": 4,
 "nbformat_minor": 0
}
